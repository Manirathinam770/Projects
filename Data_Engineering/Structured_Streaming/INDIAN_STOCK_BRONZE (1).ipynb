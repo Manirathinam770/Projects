{
 "cells": [
  {
   "cell_type": "code",
   "execution_count": 0,
   "metadata": {
    "application/vnd.databricks.v1+cell": {
     "cellMetadata": {
      "byteLimit": 2048000,
      "rowLimit": 10000
     },
     "inputWidgets": {},
     "nuid": "a1216a6d-7e9c-4377-8c91-751099a1cb2a",
     "showTitle": false,
     "title": ""
    }
   },
   "outputs": [],
   "source": [
    "from pyspark.sql.functions import  *\n",
    "from pyspark.sql.types import *\n",
    "from pyspark.sql.functions import regexp_extract, col\n",
    "from pyspark.sql.functions import date_format"
   ]
  },
  {
   "cell_type": "code",
   "execution_count": 0,
   "metadata": {
    "application/vnd.databricks.v1+cell": {
     "cellMetadata": {
      "byteLimit": 2048000,
      "rowLimit": 10000
     },
     "inputWidgets": {},
     "nuid": "7e2fe933-88f1-481d-9cdc-26030a60ed11",
     "showTitle": false,
     "title": ""
    }
   },
   "outputs": [],
   "source": [
    "dbutils.widgets.text(\"API_key\", \"API_key\")\n",
    "dbutils.widgets.text(\"API_secret\", \"API_secret\")\n",
    "dbutils.widgets.text(\"Bootstrap_server\", \"Bootstrap_server\")\n",
    "dbutils.widgets.text(\"checkpointLocation\", \"checkpointLocation\")\n",
    "dbutils.widgets.text(\"targetTable\", \"targetTable\")\n",
    "dbutils.widgets.text(\"targetDatabase\", \"default\")\n",
    "dbutils.widgets.dropdown(\"targetDatabase\", \"default\", [\"default\",\"bronze\", \"silver\", \"gold\",\"bronze1\",\"bronze2\"])"
   ]
  },
  {
   "cell_type": "code",
   "execution_count": 0,
   "metadata": {
    "application/vnd.databricks.v1+cell": {
     "cellMetadata": {
      "byteLimit": 2048000,
      "rowLimit": 10000
     },
     "inputWidgets": {},
     "nuid": "fc2a3cdd-9730-459a-b53f-a8d73aa6767c",
     "showTitle": false,
     "title": ""
    }
   },
   "outputs": [
    {
     "output_type": "display_data",
     "data": {
      "text/html": [
       "<style scoped>\n",
       "  .table-result-container {\n",
       "    max-height: 300px;\n",
       "    overflow: auto;\n",
       "  }\n",
       "  table, th, td {\n",
       "    border: 1px solid black;\n",
       "    border-collapse: collapse;\n",
       "  }\n",
       "  th, td {\n",
       "    padding: 5px;\n",
       "  }\n",
       "  th {\n",
       "    text-align: left;\n",
       "  }\n",
       "</style><div class='table-result-container'><table class='table-result'><thead style='background-color: white'><tr><th>value</th><th>confluent_timestamp</th></tr></thead><tbody><tr><td>{'stock_name': 'State Bank of India (SBIN.NS)', 'Indian_Market_Price': 571.05, 'market_details': [{'marketchange': -1.6, 'marketchangepercent': '-0.28%', 'data_produced_timestamp': 1697706987.7238288}]}</td><td>2023-10-19T09:16:29.962+0000</td></tr><tr><td>{'stock_name': 'HDFC Bank Limited (HDFCBANK.NS)', 'Indian_Market_Price': 1518.7, 'market_details': [{'marketchange': -1.05, 'marketchangepercent': '-0.07%', 'data_produced_timestamp': 1697707006.5224614}]}</td><td>2023-10-19T09:16:48.551+0000</td></tr><tr><td>{'stock_name': 'Kotak Mahindra Bank Limited (KOTAKBANK.NS)', 'Indian_Market_Price': 1740.45, 'market_details': [{'marketchange': -12.95, 'marketchangepercent': '-0.74%', 'data_produced_timestamp': 1697707023.2109609}]}</td><td>2023-10-19T09:17:05.334+0000</td></tr><tr><td>{'stock_name': 'ICICI Bank Limited (ICICIBANK.NS)', 'Indian_Market_Price': 939.15, 'market_details': [{'marketchange': -4.6, 'marketchangepercent': '-0.49%', 'data_produced_timestamp': 1697707042.5861259}]}</td><td>2023-10-19T09:17:26.526+0000</td></tr><tr><td>{'stock_name': 'Reliance Industries Limited (RELIANCE.NS)', 'Indian_Market_Price': 2308.7, 'market_details': [{'marketchange': -15.3, 'marketchangepercent': '-0.66%', 'data_produced_timestamp': 1697707061.5939312}]}</td><td>2023-10-19T09:17:44.119+0000</td></tr><tr><td>{'stock_name': 'Tata Consultancy Services Limited (TCS.NS)', 'Indian_Market_Price': 3458.05, 'market_details': [{'marketchange': -29.2, 'marketchangepercent': '-0.84%', 'data_produced_timestamp': 1697707083.984741}]}</td><td>2023-10-19T09:18:07.464+0000</td></tr><tr><td>{'stock_name': 'Axis Bank Limited (AXISBANK.NS)', 'Indian_Market_Price': 992.05, 'market_details': [{'marketchange': -0.8, 'marketchangepercent': '-0.08%', 'data_produced_timestamp': 1697707101.8228173}]}</td><td>2023-10-19T09:18:24.255+0000</td></tr><tr><td>{'stock_name': 'Bajaj Finance Limited (BAJFINANCE.NS)', 'Indian_Market_Price': 7866.75, 'market_details': [{'marketchange': 0.2, 'marketchangepercent': '+0.00%', 'data_produced_timestamp': 1697707120.792508}]}</td><td>2023-10-19T09:18:45.152+0000</td></tr><tr><td>{'stock_name': 'Britannia Industries Limited (BRITANNIA.NS)', 'Indian_Market_Price': 4604.4, 'market_details': [{'marketchange': -3.3, 'marketchangepercent': '-0.07%', 'data_produced_timestamp': 1697707137.6171887}]}</td><td>2023-10-19T09:19:00.112+0000</td></tr><tr><td>{'stock_name': 'Asian Paints Limited (ASIANPAINT.NS)', 'Indian_Market_Price': 3103.0, 'market_details': [{'marketchange': 6.55, 'marketchangepercent': '+0.21%', 'data_produced_timestamp': 1697707151.965053}]}</td><td>2023-10-19T09:19:14.539+0000</td></tr><tr><td>{'stock_name': 'State Bank of India (SBIN.NS)', 'Indian_Market_Price': 570.85, 'market_details': [{'marketchange': -1.8, 'marketchangepercent': '-0.31%', 'data_produced_timestamp': 1697707167.3754919}]}</td><td>2023-10-19T09:19:30.219+0000</td></tr><tr><td>{'stock_name': 'HDFC Bank Limited (HDFCBANK.NS)', 'Indian_Market_Price': 1517.7, 'market_details': [{'marketchange': -2.05, 'marketchangepercent': '-0.13%', 'data_produced_timestamp': 1697707194.539958}]}</td><td>2023-10-19T09:19:57.053+0000</td></tr><tr><td>{'stock_name': 'Kotak Mahindra Bank Limited (KOTAKBANK.NS)', 'Indian_Market_Price': 1740.05, 'market_details': [{'marketchange': -13.35, 'marketchangepercent': '-0.76%', 'data_produced_timestamp': 1697707211.5050476}]}</td><td>2023-10-19T09:20:13.843+0000</td></tr><tr><td>{'stock_name': 'ICICI Bank Limited (ICICIBANK.NS)', 'Indian_Market_Price': 939.05, 'market_details': [{'marketchange': -4.7, 'marketchangepercent': '-0.50%', 'data_produced_timestamp': 1697707226.6386569}]}</td><td>2023-10-19T09:20:29.189+0000</td></tr><tr><td>{'stock_name': 'Reliance Industries Limited (RELIANCE.NS)', 'Indian_Market_Price': 2308.05, 'market_details': [{'marketchange': -15.95, 'marketchangepercent': '-0.69%', 'data_produced_timestamp': 1697707241.0606427}]}</td><td>2023-10-19T09:20:43.462+0000</td></tr><tr><td>{'stock_name': 'Tata Consultancy Services Limited (TCS.NS)', 'Indian_Market_Price': 3459.0, 'market_details': [{'marketchange': -28.25, 'marketchangepercent': '-0.81%', 'data_produced_timestamp': 1697707255.172612}]}</td><td>2023-10-19T09:20:57.191+0000</td></tr><tr><td>{'stock_name': 'Axis Bank Limited (AXISBANK.NS)', 'Indian_Market_Price': 991.55, 'market_details': [{'marketchange': -1.3, 'marketchangepercent': '-0.13%', 'data_produced_timestamp': 1697707268.362043}]}</td><td>2023-10-19T09:21:10.333+0000</td></tr><tr><td>{'stock_name': 'Bajaj Finance Limited (BAJFINANCE.NS)', 'Indian_Market_Price': 7867.55, 'market_details': [{'marketchange': 1.0, 'marketchangepercent': '+0.01%', 'data_produced_timestamp': 1697707282.4585083}]}</td><td>2023-10-19T09:21:24.518+0000</td></tr><tr><td>{'stock_name': 'Britannia Industries Limited (BRITANNIA.NS)', 'Indian_Market_Price': 4600.95, 'market_details': [{'marketchange': -6.75, 'marketchangepercent': '-0.15%', 'data_produced_timestamp': 1697707297.7093418}]}</td><td>2023-10-19T09:21:39.787+0000</td></tr><tr><td>{'stock_name': 'Asian Paints Limited (ASIANPAINT.NS)', 'Indian_Market_Price': 3101.3, 'market_details': [{'marketchange': 4.85, 'marketchangepercent': '+0.16%', 'data_produced_timestamp': 1697707312.1081185}]}</td><td>2023-10-19T09:21:54.551+0000</td></tr><tr><td>{'stock_name': 'State Bank of India (SBIN.NS)', 'Indian_Market_Price': 570.85, 'market_details': [{'marketchange': -1.8, 'marketchangepercent': '-0.31%', 'data_produced_timestamp': 1697707325.9753983}]}</td><td>2023-10-19T09:22:08.157+0000</td></tr><tr><td>{'stock_name': 'HDFC Bank Limited (HDFCBANK.NS)', 'Indian_Market_Price': 1517.6, 'market_details': [{'marketchange': -2.15, 'marketchangepercent': '-0.14%', 'data_produced_timestamp': 1697707340.0219202}]}</td><td>2023-10-19T09:22:22.587+0000</td></tr><tr><td>{'stock_name': 'Kotak Mahindra Bank Limited (KOTAKBANK.NS)', 'Indian_Market_Price': 1738.7, 'market_details': [{'marketchange': -14.7, 'marketchangepercent': '-0.84%', 'data_produced_timestamp': 1697707355.027246}]}</td><td>2023-10-19T09:22:37.867+0000</td></tr><tr><td>{'stock_name': 'ICICI Bank Limited (ICICIBANK.NS)', 'Indian_Market_Price': 938.35, 'market_details': [{'marketchange': -5.4, 'marketchangepercent': '-0.57%', 'data_produced_timestamp': 1697707371.3177633}]}</td><td>2023-10-19T09:22:53.718+0000</td></tr><tr><td>{'stock_name': 'Reliance Industries Limited (RELIANCE.NS)', 'Indian_Market_Price': 2305.95, 'market_details': [{'marketchange': -18.05, 'marketchangepercent': '-0.78%', 'data_produced_timestamp': 1697707387.3725405}]}</td><td>2023-10-19T09:23:10.365+0000</td></tr><tr><td>{'stock_name': 'Tata Consultancy Services Limited (TCS.NS)', 'Indian_Market_Price': 3460.65, 'market_details': [{'marketchange': -26.6, 'marketchangepercent': '-0.76%', 'data_produced_timestamp': 1697707401.154144}]}</td><td>2023-10-19T09:23:23.267+0000</td></tr><tr><td>{'stock_name': 'Axis Bank Limited (AXISBANK.NS)', 'Indian_Market_Price': 991.4, 'market_details': [{'marketchange': -1.45, 'marketchangepercent': '-0.15%', 'data_produced_timestamp': 1697707418.3409986}]}</td><td>2023-10-19T09:23:40.845+0000</td></tr><tr><td>{'stock_name': 'Bajaj Finance Limited (BAJFINANCE.NS)', 'Indian_Market_Price': 7869.5, 'market_details': [{'marketchange': 2.95, 'marketchangepercent': '+0.04%', 'data_produced_timestamp': 1697707432.906965}]}</td><td>2023-10-19T09:23:55.233+0000</td></tr><tr><td>{'stock_name': 'Britannia Industries Limited (BRITANNIA.NS)', 'Indian_Market_Price': 4601.1, 'market_details': [{'marketchange': -6.6, 'marketchangepercent': '-0.14%', 'data_produced_timestamp': 1697707452.272237}]}</td><td>2023-10-19T09:24:14.366+0000</td></tr><tr><td>{'stock_name': 'Asian Paints Limited (ASIANPAINT.NS)', 'Indian_Market_Price': 3101.65, 'market_details': [{'marketchange': 5.2, 'marketchangepercent': '+0.17%', 'data_produced_timestamp': 1697707466.9872253}]}</td><td>2023-10-19T09:24:29.392+0000</td></tr><tr><td>{'stock_name': 'State Bank of India (SBIN.NS)', 'Indian_Market_Price': 570.95, 'market_details': [{'marketchange': -1.7, 'marketchangepercent': '-0.30%', 'data_produced_timestamp': 1697707485.1619458}]}</td><td>2023-10-19T09:24:47.628+0000</td></tr><tr><td>{'stock_name': 'HDFC Bank Limited (HDFCBANK.NS)', 'Indian_Market_Price': 1516.8, 'market_details': [{'marketchange': -2.95, 'marketchangepercent': '-0.19%', 'data_produced_timestamp': 1697707501.6901681}]}</td><td>2023-10-19T09:25:03.947+0000</td></tr><tr><td>{'stock_name': 'Kotak Mahindra Bank Limited (KOTAKBANK.NS)', 'Indian_Market_Price': 1739.6, 'market_details': [{'marketchange': -13.8, 'marketchangepercent': '-0.79%', 'data_produced_timestamp': 1697707517.093627}]}</td><td>2023-10-19T09:25:20.056+0000</td></tr><tr><td>{'stock_name': 'ICICI Bank Limited (ICICIBANK.NS)', 'Indian_Market_Price': 938.8, 'market_details': [{'marketchange': -4.95, 'marketchangepercent': '-0.52%', 'data_produced_timestamp': 1697707536.292687}]}</td><td>2023-10-19T09:25:39.299+0000</td></tr><tr><td>{'stock_name': 'Reliance Industries Limited (RELIANCE.NS)', 'Indian_Market_Price': 2307.55, 'market_details': [{'marketchange': -16.45, 'marketchangepercent': '-0.71%', 'data_produced_timestamp': 1697707553.196005}]}</td><td>2023-10-19T09:25:56.385+0000</td></tr><tr><td>{'stock_name': 'Tata Consultancy Services Limited (TCS.NS)', 'Indian_Market_Price': 3459.95, 'market_details': [{'marketchange': -27.3, 'marketchangepercent': '-0.78%', 'data_produced_timestamp': 1697707570.3172758}]}</td><td>2023-10-19T09:26:13.162+0000</td></tr><tr><td>{'stock_name': 'Axis Bank Limited (AXISBANK.NS)', 'Indian_Market_Price': 991.85, 'market_details': [{'marketchange': -1.0, 'marketchangepercent': '-0.10%', 'data_produced_timestamp': 1697707588.8096952}]}</td><td>2023-10-19T09:26:31.820+0000</td></tr><tr><td>{'stock_name': 'Bajaj Finance Limited (BAJFINANCE.NS)', 'Indian_Market_Price': 7870.4, 'market_details': [{'marketchange': 3.85, 'marketchangepercent': '+0.05%', 'data_produced_timestamp': 1697707608.015482}]}</td><td>2023-10-19T09:26:50.363+0000</td></tr><tr><td>{'stock_name': 'Britannia Industries Limited (BRITANNIA.NS)', 'Indian_Market_Price': 4603.4, 'market_details': [{'marketchange': -4.3, 'marketchangepercent': '-0.09%', 'data_produced_timestamp': 1697707635.0469108}]}</td><td>2023-10-19T09:27:18.517+0000</td></tr><tr><td>{'stock_name': 'Asian Paints Limited (ASIANPAINT.NS)', 'Indian_Market_Price': 3103.55, 'market_details': [{'marketchange': 7.1, 'marketchangepercent': '+0.23%', 'data_produced_timestamp': 1697707656.6262445}]}</td><td>2023-10-19T09:27:39.387+0000</td></tr><tr><td>{'stock_name': 'State Bank of India (SBIN.NS)', 'Indian_Market_Price': 571.1, 'market_details': [{'marketchange': -1.55, 'marketchangepercent': '-0.27%', 'data_produced_timestamp': 1697707674.4298787}]}</td><td>2023-10-19T09:27:56.615+0000</td></tr><tr><td>{'stock_name': 'HDFC Bank Limited (HDFCBANK.NS)', 'Indian_Market_Price': 1516.0, 'market_details': [{'marketchange': -3.75, 'marketchangepercent': '-0.25%', 'data_produced_timestamp': 1697707689.8215578}]}</td><td>2023-10-19T09:28:12.242+0000</td></tr><tr><td>{'stock_name': 'Kotak Mahindra Bank Limited (KOTAKBANK.NS)', 'Indian_Market_Price': 1739.3, 'market_details': [{'marketchange': -14.1, 'marketchangepercent': '-0.80%', 'data_produced_timestamp': 1697707704.7563288}]}</td><td>2023-10-19T09:28:27.134+0000</td></tr><tr><td>{'stock_name': 'ICICI Bank Limited (ICICIBANK.NS)', 'Indian_Market_Price': 938.35, 'market_details': [{'marketchange': -5.4, 'marketchangepercent': '-0.57%', 'data_produced_timestamp': 1697707719.4269822}]}</td><td>2023-10-19T09:28:42.120+0000</td></tr><tr><td>{'stock_name': 'Reliance Industries Limited (RELIANCE.NS)', 'Indian_Market_Price': 2307.95, 'market_details': [{'marketchange': -16.05, 'marketchangepercent': '-0.69%', 'data_produced_timestamp': 1697707736.9947033}]}</td><td>2023-10-19T09:28:59.262+0000</td></tr><tr><td>{'stock_name': 'Tata Consultancy Services Limited (TCS.NS)', 'Indian_Market_Price': 3459.4, 'market_details': [{'marketchange': -27.85, 'marketchangepercent': '-0.80%', 'data_produced_timestamp': 1697707752.3707664}]}</td><td>2023-10-19T09:29:14.893+0000</td></tr><tr><td>{'stock_name': 'Axis Bank Limited (AXISBANK.NS)', 'Indian_Market_Price': 992.0, 'market_details': [{'marketchange': -0.85, 'marketchangepercent': '-0.09%', 'data_produced_timestamp': 1697707770.8431227}]}</td><td>2023-10-19T09:29:33.039+0000</td></tr><tr><td>{'stock_name': 'Bajaj Finance Limited (BAJFINANCE.NS)', 'Indian_Market_Price': 7872.05, 'market_details': [{'marketchange': 5.5, 'marketchangepercent': '+0.07%', 'data_produced_timestamp': 1697707784.5724304}]}</td><td>2023-10-19T09:29:46.775+0000</td></tr><tr><td>{'stock_name': 'Britannia Industries Limited (BRITANNIA.NS)', 'Indian_Market_Price': 4605.0, 'market_details': [{'marketchange': -2.7, 'marketchangepercent': '-0.06%', 'data_produced_timestamp': 1697707801.0101287}]}</td><td>2023-10-19T09:30:04.074+0000</td></tr><tr><td>{'stock_name': 'Asian Paints Limited (ASIANPAINT.NS)', 'Indian_Market_Price': 3102.5, 'market_details': [{'marketchange': 6.05, 'marketchangepercent': '+0.20%', 'data_produced_timestamp': 1697707818.4090068}]}</td><td>2023-10-19T09:30:20.765+0000</td></tr><tr><td>{'stock_name': 'State Bank of India (SBIN.NS)', 'Indian_Market_Price': 571.15, 'market_details': [{'marketchange': -1.5, 'marketchangepercent': '-0.26%', 'data_produced_timestamp': 1697707835.5016794}]}</td><td>2023-10-19T09:30:37.927+0000</td></tr><tr><td>{'stock_name': 'HDFC Bank Limited (HDFCBANK.NS)', 'Indian_Market_Price': 1515.05, 'market_details': [{'marketchange': -4.7, 'marketchangepercent': '-0.31%', 'data_produced_timestamp': 1697707849.8107007}]}</td><td>2023-10-19T09:30:52.224+0000</td></tr><tr><td>{'stock_name': 'Kotak Mahindra Bank Limited (KOTAKBANK.NS)', 'Indian_Market_Price': 1738.0, 'market_details': [{'marketchange': -15.4, 'marketchangepercent': '-0.88%', 'data_produced_timestamp': 1697707867.0953405}]}</td><td>2023-10-19T09:31:09.545+0000</td></tr><tr><td>{'stock_name': 'ICICI Bank Limited (ICICIBANK.NS)', 'Indian_Market_Price': 938.2, 'market_details': [{'marketchange': -5.55, 'marketchangepercent': '-0.59%', 'data_produced_timestamp': 1697707881.8084962}]}</td><td>2023-10-19T09:31:24.537+0000</td></tr><tr><td>{'stock_name': 'Reliance Industries Limited (RELIANCE.NS)', 'Indian_Market_Price': 2309.15, 'market_details': [{'marketchange': -14.85, 'marketchangepercent': '-0.64%', 'data_produced_timestamp': 1697707899.6144693}]}</td><td>2023-10-19T09:31:41.916+0000</td></tr><tr><td>{'stock_name': 'Tata Consultancy Services Limited (TCS.NS)', 'Indian_Market_Price': 3460.15, 'market_details': [{'marketchange': -27.1, 'marketchangepercent': '-0.78%', 'data_produced_timestamp': 1697707916.431509}]}</td><td>2023-10-19T09:31:59.190+0000</td></tr><tr><td>{'stock_name': 'Axis Bank Limited (AXISBANK.NS)', 'Indian_Market_Price': 991.4, 'market_details': [{'marketchange': -1.45, 'marketchangepercent': '-0.15%', 'data_produced_timestamp': 1697707932.6599212}]}</td><td>2023-10-19T09:32:14.994+0000</td></tr><tr><td>{'stock_name': 'Bajaj Finance Limited (BAJFINANCE.NS)', 'Indian_Market_Price': 7865.25, 'market_details': [{'marketchange': -1.3, 'marketchangepercent': '-0.02%', 'data_produced_timestamp': 1697707947.8756268}]}</td><td>2023-10-19T09:32:30.060+0000</td></tr><tr><td>{'stock_name': 'Britannia Industries Limited (BRITANNIA.NS)', 'Indian_Market_Price': 4602.7, 'market_details': [{'marketchange': -5.0, 'marketchangepercent': '-0.11%', 'data_produced_timestamp': 1697707963.498086}]}</td><td>2023-10-19T09:32:45.892+0000</td></tr><tr><td>{'stock_name': 'Asian Paints Limited (ASIANPAINT.NS)', 'Indian_Market_Price': 3102.85, 'market_details': [{'marketchange': 6.4, 'marketchangepercent': '+0.21%', 'data_produced_timestamp': 1697707979.2155435}]}</td><td>2023-10-19T09:33:02.257+0000</td></tr><tr><td>{'stock_name': 'State Bank of India (SBIN.NS)', 'Indian_Market_Price': 571.1, 'market_details': [{'marketchange': -1.55, 'marketchangepercent': '-0.27%', 'data_produced_timestamp': 1697707994.8156846}]}</td><td>2023-10-19T09:33:17.192+0000</td></tr><tr><td>{'stock_name': 'HDFC Bank Limited (HDFCBANK.NS)', 'Indian_Market_Price': 1516.15, 'market_details': [{'marketchange': -3.6, 'marketchangepercent': '-0.24%', 'data_produced_timestamp': 1697708010.5564413}]}</td><td>2023-10-19T09:33:33.678+0000</td></tr><tr><td>{'stock_name': 'Kotak Mahindra Bank Limited (KOTAKBANK.NS)', 'Indian_Market_Price': 1738.2, 'market_details': [{'marketchange': -15.2, 'marketchangepercent': '-0.87%', 'data_produced_timestamp': 1697708030.0990381}]}</td><td>2023-10-19T09:33:52.519+0000</td></tr><tr><td>{'stock_name': 'ICICI Bank Limited (ICICIBANK.NS)', 'Indian_Market_Price': 937.9, 'market_details': [{'marketchange': -5.85, 'marketchangepercent': '-0.62%', 'data_produced_timestamp': 1697708047.1646137}]}</td><td>2023-10-19T09:34:09.523+0000</td></tr><tr><td>{'stock_name': 'Reliance Industries Limited (RELIANCE.NS)', 'Indian_Market_Price': 2310.25, 'market_details': [{'marketchange': -13.75, 'marketchangepercent': '-0.59%', 'data_produced_timestamp': 1697708062.1057982}]}</td><td>2023-10-19T09:34:24.727+0000</td></tr><tr><td>{'stock_name': 'Tata Consultancy Services Limited (TCS.NS)', 'Indian_Market_Price': 3458.0, 'market_details': [{'marketchange': -29.25, 'marketchangepercent': '-0.84%', 'data_produced_timestamp': 1697708077.2985973}]}</td><td>2023-10-19T09:34:39.466+0000</td></tr><tr><td>{'stock_name': 'Axis Bank Limited (AXISBANK.NS)', 'Indian_Market_Price': 991.4, 'market_details': [{'marketchange': -1.45, 'marketchangepercent': '-0.15%', 'data_produced_timestamp': 1697708090.4563365}]}</td><td>2023-10-19T09:34:52.433+0000</td></tr><tr><td>{'stock_name': 'Bajaj Finance Limited (BAJFINANCE.NS)', 'Indian_Market_Price': 7854.6, 'market_details': [{'marketchange': -11.95, 'marketchangepercent': '-0.15%', 'data_produced_timestamp': 1697708104.9249597}]}</td><td>2023-10-19T09:35:07.273+0000</td></tr><tr><td>{'stock_name': 'Britannia Industries Limited (BRITANNIA.NS)', 'Indian_Market_Price': 4598.45, 'market_details': [{'marketchange': -9.25, 'marketchangepercent': '-0.20%', 'data_produced_timestamp': 1697708119.8526957}]}</td><td>2023-10-19T09:35:22.406+0000</td></tr><tr><td>{'stock_name': 'Asian Paints Limited (ASIANPAINT.NS)', 'Indian_Market_Price': 3102.65, 'market_details': [{'marketchange': 6.2, 'marketchangepercent': '+0.20%', 'data_produced_timestamp': 1697708134.7746491}]}</td><td>2023-10-19T09:35:37.517+0000</td></tr><tr><td>{'stock_name': 'State Bank of India (SBIN.NS)', 'Indian_Market_Price': 572.05, 'market_details': [{'marketchange': -0.6, 'marketchangepercent': '-0.10%', 'data_produced_timestamp': 1697708150.9106438}]}</td><td>2023-10-19T09:35:53.096+0000</td></tr><tr><td>{'stock_name': 'HDFC Bank Limited (HDFCBANK.NS)', 'Indian_Market_Price': 1516.25, 'market_details': [{'marketchange': -3.5, 'marketchangepercent': '-0.23%', 'data_produced_timestamp': 1697708164.090309}]}</td><td>2023-10-19T09:36:06.269+0000</td></tr><tr><td>{'stock_name': 'Kotak Mahindra Bank Limited (KOTAKBANK.NS)', 'Indian_Market_Price': 1740.35, 'market_details': [{'marketchange': -13.05, 'marketchangepercent': '-0.74%', 'data_produced_timestamp': 1697708180.4405148}]}</td><td>2023-10-19T09:36:22.572+0000</td></tr><tr><td>{'stock_name': 'ICICI Bank Limited (ICICIBANK.NS)', 'Indian_Market_Price': 937.85, 'market_details': [{'marketchange': -5.9, 'marketchangepercent': '-0.63%', 'data_produced_timestamp': 1697708196.1245415}]}</td><td>2023-10-19T09:36:38.259+0000</td></tr><tr><td>{'stock_name': 'Reliance Industries Limited (RELIANCE.NS)', 'Indian_Market_Price': 2309.35, 'market_details': [{'marketchange': -14.65, 'marketchangepercent': '-0.63%', 'data_produced_timestamp': 1697708212.200366}]}</td><td>2023-10-19T09:36:54.537+0000</td></tr><tr><td>{'stock_name': 'Tata Consultancy Services Limited (TCS.NS)', 'Indian_Market_Price': 3457.0, 'market_details': [{'marketchange': -30.25, 'marketchangepercent': '-0.87%', 'data_produced_timestamp': 1697708225.7646391}]}</td><td>2023-10-19T09:37:08.217+0000</td></tr><tr><td>{'stock_name': 'Axis Bank Limited (AXISBANK.NS)', 'Indian_Market_Price': 992.1, 'market_details': [{'marketchange': -0.75, 'marketchangepercent': '-0.08%', 'data_produced_timestamp': 1697708241.0420382}]}</td><td>2023-10-19T09:37:23.358+0000</td></tr><tr><td>{'stock_name': 'Bajaj Finance Limited (BAJFINANCE.NS)', 'Indian_Market_Price': 7860.55, 'market_details': [{'marketchange': -6.0, 'marketchangepercent': '-0.08%', 'data_produced_timestamp': 1697708257.4540315}]}</td><td>2023-10-19T09:37:40.039+0000</td></tr><tr><td>{'stock_name': 'Britannia Industries Limited (BRITANNIA.NS)', 'Indian_Market_Price': 4600.25, 'market_details': [{'marketchange': -7.45, 'marketchangepercent': '-0.16%', 'data_produced_timestamp': 1697708273.0705326}]}</td><td>2023-10-19T09:37:55.439+0000</td></tr><tr><td>{'stock_name': 'Asian Paints Limited (ASIANPAINT.NS)', 'Indian_Market_Price': 3103.0, 'market_details': [{'marketchange': 6.55, 'marketchangepercent': '+0.21%', 'data_produced_timestamp': 1697708288.6858177}]}</td><td>2023-10-19T09:38:11.179+0000</td></tr><tr><td>{'stock_name': 'State Bank of India (SBIN.NS)', 'Indian_Market_Price': 571.75, 'market_details': [{'marketchange': -0.9, 'marketchangepercent': '-0.16%', 'data_produced_timestamp': 1697708306.0187178}]}</td><td>2023-10-19T09:38:28.451+0000</td></tr><tr><td>{'stock_name': 'HDFC Bank Limited (HDFCBANK.NS)', 'Indian_Market_Price': 1515.2, 'market_details': [{'marketchange': -4.55, 'marketchangepercent': '-0.30%', 'data_produced_timestamp': 1697708320.4558654}]}</td><td>2023-10-19T09:38:42.892+0000</td></tr><tr><td>{'stock_name': 'Kotak Mahindra Bank Limited (KOTAKBANK.NS)', 'Indian_Market_Price': 1738.8, 'market_details': [{'marketchange': -14.6, 'marketchangepercent': '-0.83%', 'data_produced_timestamp': 1697708336.099233}]}</td><td>2023-10-19T09:38:58.531+0000</td></tr><tr><td>{'stock_name': 'ICICI Bank Limited (ICICIBANK.NS)', 'Indian_Market_Price': 935.55, 'market_details': [{'marketchange': -8.2, 'marketchangepercent': '-0.87%', 'data_produced_timestamp': 1697708353.4979815}]}</td><td>2023-10-19T09:39:16.229+0000</td></tr><tr><td>{'stock_name': 'Reliance Industries Limited (RELIANCE.NS)', 'Indian_Market_Price': 2309.0, 'market_details': [{'marketchange': -15.0, 'marketchangepercent': '-0.65%', 'data_produced_timestamp': 1697708369.6313894}]}</td><td>2023-10-19T09:39:32.128+0000</td></tr><tr><td>{'stock_name': 'Tata Consultancy Services Limited (TCS.NS)', 'Indian_Market_Price': 3456.8, 'market_details': [{'marketchange': -30.45, 'marketchangepercent': '-0.87%', 'data_produced_timestamp': 1697708384.9607027}]}</td><td>2023-10-19T09:39:47.757+0000</td></tr><tr><td>{'stock_name': 'Axis Bank Limited (AXISBANK.NS)', 'Indian_Market_Price': 991.8, 'market_details': [{'marketchange': -1.05, 'marketchangepercent': '-0.11%', 'data_produced_timestamp': 1697708402.364318}]}</td><td>2023-10-19T09:40:04.656+0000</td></tr><tr><td>{'stock_name': 'Bajaj Finance Limited (BAJFINANCE.NS)', 'Indian_Market_Price': 7842.05, 'market_details': [{'marketchange': -24.5, 'marketchangepercent': '-0.31%', 'data_produced_timestamp': 1697708420.3202815}]}</td><td>2023-10-19T09:40:22.553+0000</td></tr><tr><td>{'stock_name': 'Britannia Industries Limited (BRITANNIA.NS)', 'Indian_Market_Price': 4600.05, 'market_details': [{'marketchange': -7.65, 'marketchangepercent': '-0.17%', 'data_produced_timestamp': 1697708435.724781}]}</td><td>2023-10-19T09:40:37.979+0000</td></tr><tr><td>{'stock_name': 'Asian Paints Limited (ASIANPAINT.NS)', 'Indian_Market_Price': 3101.7, 'market_details': [{'marketchange': 5.25, 'marketchangepercent': '+0.17%', 'data_produced_timestamp': 1697708452.3728614}]}</td><td>2023-10-19T09:40:55.215+0000</td></tr><tr><td>{'stock_name': 'State Bank of India (SBIN.NS)', 'Indian_Market_Price': 571.3, 'market_details': [{'marketchange': -1.35, 'marketchangepercent': '-0.24%', 'data_produced_timestamp': 1697708466.4666767}]}</td><td>2023-10-19T09:41:08.874+0000</td></tr><tr><td>{'stock_name': 'HDFC Bank Limited (HDFCBANK.NS)', 'Indian_Market_Price': 1515.05, 'market_details': [{'marketchange': -4.7, 'marketchangepercent': '-0.31%', 'data_produced_timestamp': 1697708482.475993}]}</td><td>2023-10-19T09:41:25.603+0000</td></tr><tr><td>{'stock_name': 'Kotak Mahindra Bank Limited (KOTAKBANK.NS)', 'Indian_Market_Price': 1737.85, 'market_details': [{'marketchange': -15.55, 'marketchangepercent': '-0.89%', 'data_produced_timestamp': 1697708497.4255576}]}</td><td>2023-10-19T09:41:40.267+0000</td></tr><tr><td>{'stock_name': 'ICICI Bank Limited (ICICIBANK.NS)', 'Indian_Market_Price': 936.1, 'market_details': [{'marketchange': -7.65, 'marketchangepercent': '-0.81%', 'data_produced_timestamp': 1697708512.2385535}]}</td><td>2023-10-19T09:41:54.354+0000</td></tr><tr><td>{'stock_name': 'Reliance Industries Limited (RELIANCE.NS)', 'Indian_Market_Price': 2306.3, 'market_details': [{'marketchange': -17.7, 'marketchangepercent': '-0.76%', 'data_produced_timestamp': 1697708527.810451}]}</td><td>2023-10-19T09:42:10.091+0000</td></tr><tr><td>{'stock_name': 'Tata Consultancy Services Limited (TCS.NS)', 'Indian_Market_Price': 3456.35, 'market_details': [{'marketchange': -30.9, 'marketchangepercent': '-0.89%', 'data_produced_timestamp': 1697708541.1266952}]}</td><td>2023-10-19T09:42:23.705+0000</td></tr><tr><td>{'stock_name': 'Axis Bank Limited (AXISBANK.NS)', 'Indian_Market_Price': 991.65, 'market_details': [{'marketchange': -1.2, 'marketchangepercent': '-0.12%', 'data_produced_timestamp': 1697708555.5954292}]}</td><td>2023-10-19T09:42:37.865+0000</td></tr><tr><td>{'stock_name': 'Bajaj Finance Limited (BAJFINANCE.NS)', 'Indian_Market_Price': 7840.85, 'market_details': [{'marketchange': -25.7, 'marketchangepercent': '-0.33%', 'data_produced_timestamp': 1697708569.414118}]}</td><td>2023-10-19T09:42:51.385+0000</td></tr><tr><td>{'stock_name': 'Britannia Industries Limited (BRITANNIA.NS)', 'Indian_Market_Price': 4600.0, 'market_details': [{'marketchange': -7.7, 'marketchangepercent': '-0.17%', 'data_produced_timestamp': 1697708582.2324462}]}</td><td>2023-10-19T09:43:04.418+0000</td></tr><tr><td>{'stock_name': 'Asian Paints Limited (ASIANPAINT.NS)', 'Indian_Market_Price': 3102.55, 'market_details': [{'marketchange': 6.1, 'marketchangepercent': '+0.20%', 'data_produced_timestamp': 1697708595.6881285}]}</td><td>2023-10-19T09:43:17.921+0000</td></tr><tr><td>{'stock_name': 'State Bank of India (SBIN.NS)', 'Indian_Market_Price': 570.95, 'market_details': [{'marketchange': -1.7, 'marketchangepercent': '-0.30%', 'data_produced_timestamp': 1697708609.3885753}]}</td><td>2023-10-19T09:43:31.492+0000</td></tr><tr><td>{'stock_name': 'HDFC Bank Limited (HDFCBANK.NS)', 'Indian_Market_Price': 1515.0, 'market_details': [{'marketchange': -4.75, 'marketchangepercent': '-0.31%', 'data_produced_timestamp': 1697708624.5501199}]}</td><td>2023-10-19T09:43:46.985+0000</td></tr><tr><td>{'stock_name': 'Kotak Mahindra Bank Limited (KOTAKBANK.NS)', 'Indian_Market_Price': 1737.75, 'market_details': [{'marketchange': -15.65, 'marketchangepercent': '-0.89%', 'data_produced_timestamp': 1697708639.7806318}]}</td><td>2023-10-19T09:44:01.875+0000</td></tr><tr><td>{'stock_name': 'ICICI Bank Limited (ICICIBANK.NS)', 'Indian_Market_Price': 935.05, 'market_details': [{'marketchange': -8.7, 'marketchangepercent': '-0.92%', 'data_produced_timestamp': 1697708654.442628}]}</td><td>2023-10-19T09:44:16.876+0000</td></tr><tr><td>{'stock_name': 'Reliance Industries Limited (RELIANCE.NS)', 'Indian_Market_Price': 2305.35, 'market_details': [{'marketchange': -18.65, 'marketchangepercent': '-0.80%', 'data_produced_timestamp': 1697708669.9781995}]}</td><td>2023-10-19T09:44:32.560+0000</td></tr><tr><td>{'stock_name': 'Tata Consultancy Services Limited (TCS.NS)', 'Indian_Market_Price': 3456.0, 'market_details': [{'marketchange': -31.25, 'marketchangepercent': '-0.90%', 'data_produced_timestamp': 1697708686.1250563}]}</td><td>2023-10-19T09:44:48.634+0000</td></tr><tr><td>{'stock_name': 'Axis Bank Limited (AXISBANK.NS)', 'Indian_Market_Price': 991.35, 'market_details': [{'marketchange': -1.5, 'marketchangepercent': '-0.15%', 'data_produced_timestamp': 1697708701.6873953}]}</td><td>2023-10-19T09:45:04.443+0000</td></tr><tr><td>{'stock_name': 'Bajaj Finance Limited (BAJFINANCE.NS)', 'Indian_Market_Price': 7838.25, 'market_details': [{'marketchange': -28.3, 'marketchangepercent': '-0.36%', 'data_produced_timestamp': 1697708718.3113751}]}</td><td>2023-10-19T09:45:20.843+0000</td></tr><tr><td>{'stock_name': 'Britannia Industries Limited (BRITANNIA.NS)', 'Indian_Market_Price': 4599.35, 'market_details': [{'marketchange': -8.35, 'marketchangepercent': '-0.18%', 'data_produced_timestamp': 1697708734.8561187}]}</td><td>2023-10-19T09:45:37.122+0000</td></tr><tr><td>{'stock_name': 'Asian Paints Limited (ASIANPAINT.NS)', 'Indian_Market_Price': 3102.05, 'market_details': [{'marketchange': 5.6, 'marketchangepercent': '+0.18%', 'data_produced_timestamp': 1697708749.3852022}]}</td><td>2023-10-19T09:45:51.801+0000</td></tr><tr><td>{'stock_name': 'State Bank of India (SBIN.NS)', 'Indian_Market_Price': 571.15, 'market_details': [{'marketchange': -1.5, 'marketchangepercent': '-0.26%', 'data_produced_timestamp': 1697708765.4799492}]}</td><td>2023-10-19T09:46:07.624+0000</td></tr><tr><td>{'stock_name': 'HDFC Bank Limited (HDFCBANK.NS)', 'Indian_Market_Price': 1515.2, 'market_details': [{'marketchange': -4.55, 'marketchangepercent': '-0.30%', 'data_produced_timestamp': 1697708780.5337472}]}</td><td>2023-10-19T09:46:22.987+0000</td></tr><tr><td>{'stock_name': 'Kotak Mahindra Bank Limited (KOTAKBANK.NS)', 'Indian_Market_Price': 1736.35, 'market_details': [{'marketchange': -17.05, 'marketchangepercent': '-0.97%', 'data_produced_timestamp': 1697708797.0025158}]}</td><td>2023-10-19T09:46:39.672+0000</td></tr><tr><td>{'stock_name': 'ICICI Bank Limited (ICICIBANK.NS)', 'Indian_Market_Price': 934.75, 'market_details': [{'marketchange': -9.0, 'marketchangepercent': '-0.95%', 'data_produced_timestamp': 1697708813.5581925}]}</td><td>2023-10-19T09:46:56.122+0000</td></tr><tr><td>{'stock_name': 'Reliance Industries Limited (RELIANCE.NS)', 'Indian_Market_Price': 2306.85, 'market_details': [{'marketchange': -17.15, 'marketchangepercent': '-0.74%', 'data_produced_timestamp': 1697708830.5166597}]}</td><td>2023-10-19T09:47:13.939+0000</td></tr><tr><td>{'stock_name': 'Tata Consultancy Services Limited (TCS.NS)', 'Indian_Market_Price': 3455.0, 'market_details': [{'marketchange': -32.25, 'marketchangepercent': '-0.92%', 'data_produced_timestamp': 1697708847.965009}]}</td><td>2023-10-19T09:47:30.570+0000</td></tr><tr><td>{'stock_name': 'Axis Bank Limited (AXISBANK.NS)', 'Indian_Market_Price': 991.05, 'market_details': [{'marketchange': -1.8, 'marketchangepercent': '-0.18%', 'data_produced_timestamp': 1697708864.09678}]}</td><td>2023-10-19T09:47:46.303+0000</td></tr><tr><td>{'stock_name': 'Bajaj Finance Limited (BAJFINANCE.NS)', 'Indian_Market_Price': 7829.5, 'market_details': [{'marketchange': -37.05, 'marketchangepercent': '-0.47%', 'data_produced_timestamp': 1697708896.1263542}]}</td><td>2023-10-19T09:48:24.774+0000</td></tr><tr><td>{'stock_name': 'Britannia Industries Limited (BRITANNIA.NS)', 'Indian_Market_Price': 4603.85, 'market_details': [{'marketchange': -3.85, 'marketchangepercent': '-0.08%', 'data_produced_timestamp': 1697708929.3396564}]}</td><td>2023-10-19T09:48:52.118+0000</td></tr><tr><td>{'stock_name': 'Asian Paints Limited (ASIANPAINT.NS)', 'Indian_Market_Price': 3100.8, 'market_details': [{'marketchange': 4.35, 'marketchangepercent': '+0.14%', 'data_produced_timestamp': 1697708947.5883849}]}</td><td>2023-10-19T09:49:10.105+0000</td></tr><tr><td>{'stock_name': 'State Bank of India (SBIN.NS)', 'Indian_Market_Price': 571.1, 'market_details': [{'marketchange': -1.55, 'marketchangepercent': '-0.27%', 'data_produced_timestamp': 1697708962.8006074}]}</td><td>2023-10-19T09:49:25.259+0000</td></tr><tr><td>{'stock_name': 'HDFC Bank Limited (HDFCBANK.NS)', 'Indian_Market_Price': 1515.05, 'market_details': [{'marketchange': -4.7, 'marketchangepercent': '-0.31%', 'data_produced_timestamp': 1697708981.3186266}]}</td><td>2023-10-19T09:49:45.892+0000</td></tr><tr><td>{'stock_name': 'Kotak Mahindra Bank Limited (KOTAKBANK.NS)', 'Indian_Market_Price': 1737.9, 'market_details': [{'marketchange': -15.5, 'marketchangepercent': '-0.88%', 'data_produced_timestamp': 1697709000.7360334}]}</td><td>2023-10-19T09:50:03.487+0000</td></tr><tr><td>{'stock_name': 'ICICI Bank Limited (ICICIBANK.NS)', 'Indian_Market_Price': 934.9, 'market_details': [{'marketchange': -8.85, 'marketchangepercent': '-0.94%', 'data_produced_timestamp': 1697709016.1455078}]}</td><td>2023-10-19T09:50:18.807+0000</td></tr><tr><td>{'stock_name': 'Reliance Industries Limited (RELIANCE.NS)', 'Indian_Market_Price': 2305.05, 'market_details': [{'marketchange': -18.95, 'marketchangepercent': '-0.82%', 'data_produced_timestamp': 1697709032.581782}]}</td><td>2023-10-19T09:50:35.189+0000</td></tr><tr><td>{'stock_name': 'Tata Consultancy Services Limited (TCS.NS)', 'Indian_Market_Price': 3455.0, 'market_details': [{'marketchange': -32.25, 'marketchangepercent': '-0.92%', 'data_produced_timestamp': 1697709046.7335682}]}</td><td>2023-10-19T09:50:48.861+0000</td></tr><tr><td>{'stock_name': 'Axis Bank Limited (AXISBANK.NS)', 'Indian_Market_Price': 991.05, 'market_details': [{'marketchange': -1.8, 'marketchangepercent': '-0.18%', 'data_produced_timestamp': 1697709062.4215682}]}</td><td>2023-10-19T09:51:04.755+0000</td></tr><tr><td>{'stock_name': 'Bajaj Finance Limited (BAJFINANCE.NS)', 'Indian_Market_Price': 7829.7, 'market_details': [{'marketchange': -36.85, 'marketchangepercent': '-0.47%', 'data_produced_timestamp': 1697709078.0106034}]}</td><td>2023-10-19T09:51:20.274+0000</td></tr><tr><td>{'stock_name': 'Britannia Industries Limited (BRITANNIA.NS)', 'Indian_Market_Price': 4603.1, 'market_details': [{'marketchange': -4.6, 'marketchangepercent': '-0.10%', 'data_produced_timestamp': 1697709091.77935}]}</td><td>2023-10-19T09:51:34.245+0000</td></tr><tr><td>{'stock_name': 'Asian Paints Limited (ASIANPAINT.NS)', 'Indian_Market_Price': 3101.7, 'market_details': [{'marketchange': 5.25, 'marketchangepercent': '+0.17%', 'data_produced_timestamp': 1697709106.8621175}]}</td><td>2023-10-19T09:51:49.576+0000</td></tr><tr><td>{'stock_name': 'State Bank of India (SBIN.NS)', 'Indian_Market_Price': 571.1, 'market_details': [{'marketchange': -1.55, 'marketchangepercent': '-0.27%', 'data_produced_timestamp': 1697709121.3509717}]}</td><td>2023-10-19T09:52:03.808+0000</td></tr><tr><td>{'stock_name': 'HDFC Bank Limited (HDFCBANK.NS)', 'Indian_Market_Price': 1513.45, 'market_details': [{'marketchange': -6.3, 'marketchangepercent': '-0.41%', 'data_produced_timestamp': 1697709135.3415926}]}</td><td>2023-10-19T09:52:17.673+0000</td></tr><tr><td>{'stock_name': 'Kotak Mahindra Bank Limited (KOTAKBANK.NS)', 'Indian_Market_Price': 1740.1, 'market_details': [{'marketchange': -13.3, 'marketchangepercent': '-0.76%', 'data_produced_timestamp': 1697709150.3655343}]}</td><td>2023-10-19T09:52:32.668+0000</td></tr><tr><td>{'stock_name': 'ICICI Bank Limited (ICICIBANK.NS)', 'Indian_Market_Price': 934.6, 'market_details': [{'marketchange': -9.15, 'marketchangepercent': '-0.97%', 'data_produced_timestamp': 1697709164.160576}]}</td><td>2023-10-19T09:52:46.812+0000</td></tr><tr><td>{'stock_name': 'Reliance Industries Limited (RELIANCE.NS)', 'Indian_Market_Price': 2303.35, 'market_details': [{'marketchange': -20.65, 'marketchangepercent': '-0.89%', 'data_produced_timestamp': 1697709180.3595707}]}</td><td>2023-10-19T09:53:02.564+0000</td></tr><tr><td>{'stock_name': 'Tata Consultancy Services Limited (TCS.NS)', 'Indian_Market_Price': 3454.1, 'market_details': [{'marketchange': -33.15, 'marketchangepercent': '-0.95%', 'data_produced_timestamp': 1697709195.9867818}]}</td><td>2023-10-19T09:53:18.288+0000</td></tr><tr><td>{'stock_name': 'Axis Bank Limited (AXISBANK.NS)', 'Indian_Market_Price': 991.15, 'market_details': [{'marketchange': -1.7, 'marketchangepercent': '-0.17%', 'data_produced_timestamp': 1697709211.177077}]}</td><td>2023-10-19T09:53:33.836+0000</td></tr><tr><td>{'stock_name': 'Bajaj Finance Limited (BAJFINANCE.NS)', 'Indian_Market_Price': 7824.9, 'market_details': [{'marketchange': -41.65, 'marketchangepercent': '-0.53%', 'data_produced_timestamp': 1697709226.059757}]}</td><td>2023-10-19T09:53:48.680+0000</td></tr><tr><td>{'stock_name': 'Britannia Industries Limited (BRITANNIA.NS)', 'Indian_Market_Price': 4609.15, 'market_details': [{'marketchange': 1.45, 'marketchangepercent': '+0.03%', 'data_produced_timestamp': 1697709241.7056036}]}</td><td>2023-10-19T09:54:04.864+0000</td></tr><tr><td>{'stock_name': 'Asian Paints Limited (ASIANPAINT.NS)', 'Indian_Market_Price': 3100.45, 'market_details': [{'marketchange': 4.0, 'marketchangepercent': '+0.13%', 'data_produced_timestamp': 1697709263.097434}]}</td><td>2023-10-19T09:54:25.887+0000</td></tr><tr><td>{'stock_name': 'State Bank of India (SBIN.NS)', 'Indian_Market_Price': 571.0, 'market_details': [{'marketchange': -1.65, 'marketchangepercent': '-0.29%', 'data_produced_timestamp': 1697709280.5658247}]}</td><td>2023-10-19T09:54:43.547+0000</td></tr><tr><td>{'stock_name': 'HDFC Bank Limited (HDFCBANK.NS)', 'Indian_Market_Price': 1513.8, 'market_details': [{'marketchange': -5.95, 'marketchangepercent': '-0.39%', 'data_produced_timestamp': 1697709303.839333}]}</td><td>2023-10-19T09:55:06.862+0000</td></tr><tr><td>{'stock_name': 'Kotak Mahindra Bank Limited (KOTAKBANK.NS)', 'Indian_Market_Price': 1739.9, 'market_details': [{'marketchange': -13.5, 'marketchangepercent': '-0.77%', 'data_produced_timestamp': 1697709321.7536573}]}</td><td>2023-10-19T09:55:24.584+0000</td></tr><tr><td>{'stock_name': 'ICICI Bank Limited (ICICIBANK.NS)', 'Indian_Market_Price': 934.85, 'market_details': [{'marketchange': -8.9, 'marketchangepercent': '-0.94%', 'data_produced_timestamp': 1697709340.4426517}]}</td><td>2023-10-19T09:55:43.349+0000</td></tr><tr><td>{'stock_name': 'Reliance Industries Limited (RELIANCE.NS)', 'Indian_Market_Price': 2303.4, 'market_details': [{'marketchange': -20.6, 'marketchangepercent': '-0.89%', 'data_produced_timestamp': 1697709357.674643}]}</td><td>2023-10-19T09:56:00.191+0000</td></tr><tr><td>{'stock_name': 'Tata Consultancy Services Limited (TCS.NS)', 'Indian_Market_Price': 3452.75, 'market_details': [{'marketchange': -34.5, 'marketchangepercent': '-0.99%', 'data_produced_timestamp': 1697709372.8247476}]}</td><td>2023-10-19T09:56:15.356+0000</td></tr><tr><td>{'stock_name': 'Axis Bank Limited (AXISBANK.NS)', 'Indian_Market_Price': 990.95, 'market_details': [{'marketchange': -1.9, 'marketchangepercent': '-0.19%', 'data_produced_timestamp': 1697709387.2073886}]}</td><td>2023-10-19T09:56:29.364+0000</td></tr><tr><td>{'stock_name': 'Bajaj Finance Limited (BAJFINANCE.NS)', 'Indian_Market_Price': 7820.8, 'market_details': [{'marketchange': -45.75, 'marketchangepercent': '-0.58%', 'data_produced_timestamp': 1697709400.4892478}]}</td><td>2023-10-19T09:56:42.679+0000</td></tr><tr><td>{'stock_name': 'Britannia Industries Limited (BRITANNIA.NS)', 'Indian_Market_Price': 4607.25, 'market_details': [{'marketchange': -0.45, 'marketchangepercent': '-0.01%', 'data_produced_timestamp': 1697709414.2489731}]}</td><td>2023-10-19T09:56:56.549+0000</td></tr><tr><td>{'stock_name': 'Asian Paints Limited (ASIANPAINT.NS)', 'Indian_Market_Price': 3099.25, 'market_details': [{'marketchange': 2.8, 'marketchangepercent': '+0.09%', 'data_produced_timestamp': 1697709427.945003}]}</td><td>2023-10-19T09:57:10.572+0000</td></tr><tr><td>{'stock_name': 'State Bank of India (SBIN.NS)', 'Indian_Market_Price': 571.2, 'market_details': [{'marketchange': -1.45, 'marketchangepercent': '-0.25%', 'data_produced_timestamp': 1697709443.1328208}]}</td><td>2023-10-19T09:57:25.437+0000</td></tr><tr><td>{'stock_name': 'HDFC Bank Limited (HDFCBANK.NS)', 'Indian_Market_Price': 1514.3, 'market_details': [{'marketchange': -5.45, 'marketchangepercent': '-0.36%', 'data_produced_timestamp': 1697709458.2266264}]}</td><td>2023-10-19T09:57:40.181+0000</td></tr><tr><td>{'stock_name': 'Kotak Mahindra Bank Limited (KOTAKBANK.NS)', 'Indian_Market_Price': 1737.0, 'market_details': [{'marketchange': -16.4, 'marketchangepercent': '-0.94%', 'data_produced_timestamp': 1697709474.5438938}]}</td><td>2023-10-19T09:57:56.871+0000</td></tr><tr><td>{'stock_name': 'ICICI Bank Limited (ICICIBANK.NS)', 'Indian_Market_Price': 934.85, 'market_details': [{'marketchange': -8.9, 'marketchangepercent': '-0.94%', 'data_produced_timestamp': 1697709488.363037}]}</td><td>2023-10-19T09:58:10.597+0000</td></tr><tr><td>{'stock_name': 'Reliance Industries Limited (RELIANCE.NS)', 'Indian_Market_Price': 2302.0, 'market_details': [{'marketchange': -22.0, 'marketchangepercent': '-0.95%', 'data_produced_timestamp': 1697709505.499762}]}</td><td>2023-10-19T09:58:27.585+0000</td></tr><tr><td>{'stock_name': 'Tata Consultancy Services Limited (TCS.NS)', 'Indian_Market_Price': 3453.9, 'market_details': [{'marketchange': -33.35, 'marketchangepercent': '-0.96%', 'data_produced_timestamp': 1697709522.4127157}]}</td><td>2023-10-19T09:58:44.484+0000</td></tr><tr><td>{'stock_name': 'Axis Bank Limited (AXISBANK.NS)', 'Indian_Market_Price': 990.95, 'market_details': [{'marketchange': -1.9, 'marketchangepercent': '-0.19%', 'data_produced_timestamp': 1697709537.6576138}]}</td><td>2023-10-19T09:58:59.622+0000</td></tr><tr><td>{'stock_name': 'Bajaj Finance Limited (BAJFINANCE.NS)', 'Indian_Market_Price': 7818.1, 'market_details': [{'marketchange': -48.45, 'marketchangepercent': '-0.62%', 'data_produced_timestamp': 1697709553.0027697}]}</td><td>2023-10-19T09:59:15.227+0000</td></tr><tr><td>{'stock_name': 'Britannia Industries Limited (BRITANNIA.NS)', 'Indian_Market_Price': 4607.0, 'market_details': [{'marketchange': -0.7, 'marketchangepercent': '-0.02%', 'data_produced_timestamp': 1697709567.3840938}]}</td><td>2023-10-19T09:59:29.656+0000</td></tr><tr><td>{'stock_name': 'Asian Paints Limited (ASIANPAINT.NS)', 'Indian_Market_Price': 3101.0, 'market_details': [{'marketchange': 4.55, 'marketchangepercent': '+0.15%', 'data_produced_timestamp': 1697709580.8810349}]}</td><td>2023-10-19T09:59:42.876+0000</td></tr><tr><td>{'stock_name': 'State Bank of India (SBIN.NS)', 'Indian_Market_Price': 571.3, 'market_details': [{'marketchange': -1.35, 'marketchangepercent': '-0.24%', 'data_produced_timestamp': 1697709593.337549}]}</td><td>2023-10-19T09:59:55.450+0000</td></tr><tr><td>{'stock_name': 'HDFC Bank Limited (HDFCBANK.NS)', 'Indian_Market_Price': 1514.5, 'market_details': [{'marketchange': -5.25, 'marketchangepercent': '-0.35%', 'data_produced_timestamp': 1697709606.5804987}]}</td><td>2023-10-19T10:00:08.871+0000</td></tr><tr><td>{'stock_name': 'Kotak Mahindra Bank Limited (KOTAKBANK.NS)', 'Indian_Market_Price': 1738.65, 'market_details': [{'marketchange': -14.75, 'marketchangepercent': '-0.84%', 'data_produced_timestamp': 1697709622.6045282}]}</td><td>2023-10-19T10:00:24.682+0000</td></tr><tr><td>{'stock_name': 'ICICI Bank Limited (ICICIBANK.NS)', 'Indian_Market_Price': 934.85, 'market_details': [{'marketchange': -8.9, 'marketchangepercent': '-0.94%', 'data_produced_timestamp': 1697709636.3419259}]}</td><td>2023-10-19T10:00:38.547+0000</td></tr><tr><td>{'stock_name': 'Reliance Industries Limited (RELIANCE.NS)', 'Indian_Market_Price': 2304.65, 'market_details': [{'marketchange': -19.35, 'marketchangepercent': '-0.83%', 'data_produced_timestamp': 1697709650.294337}]}</td><td>2023-10-19T10:00:53.092+0000</td></tr><tr><td>{'stock_name': 'Tata Consultancy Services Limited (TCS.NS)', 'Indian_Market_Price': 3454.8, 'market_details': [{'marketchange': -32.45, 'marketchangepercent': '-0.93%', 'data_produced_timestamp': 1697709665.045696}]}</td><td>2023-10-19T10:01:07.671+0000</td></tr><tr><td>{'stock_name': 'Axis Bank Limited (AXISBANK.NS)', 'Indian_Market_Price': 993.15, 'market_details': [{'marketchange': 0.3, 'marketchangepercent': '+0.03%', 'data_produced_timestamp': 1697709680.9356055}]}</td><td>2023-10-19T10:01:23.241+0000</td></tr><tr><td>{'stock_name': 'Bajaj Finance Limited (BAJFINANCE.NS)', 'Indian_Market_Price': 7822.4, 'market_details': [{'marketchange': -44.15, 'marketchangepercent': '-0.56%', 'data_produced_timestamp': 1697709694.6871214}]}</td><td>2023-10-19T10:01:37.076+0000</td></tr><tr><td>{'stock_name': 'Britannia Industries Limited (BRITANNIA.NS)', 'Indian_Market_Price': 4608.0, 'market_details': [{'marketchange': 0.3, 'marketchangepercent': '+0.01%', 'data_produced_timestamp': 1697709712.325791}]}</td><td>2023-10-19T10:01:54.460+0000</td></tr><tr><td>{'stock_name': 'Asian Paints Limited (ASIANPAINT.NS)', 'Indian_Market_Price': 3101.0, 'market_details': [{'marketchange': 4.55, 'marketchangepercent': '+0.15%', 'data_produced_timestamp': 1697709727.6446383}]}</td><td>2023-10-19T10:02:10.354+0000</td></tr><tr><td>{'stock_name': 'State Bank of India (SBIN.NS)', 'Indian_Market_Price': 571.2, 'market_details': [{'marketchange': -1.45, 'marketchangepercent': '-0.25%', 'data_produced_timestamp': 1697709742.966913}]}</td><td>2023-10-19T10:02:25.584+0000</td></tr><tr><td>{'stock_name': 'HDFC Bank Limited (HDFCBANK.NS)', 'Indian_Market_Price': 1514.95, 'market_details': [{'marketchange': -4.8, 'marketchangepercent': '-0.32%', 'data_produced_timestamp': 1697709759.1288056}]}</td><td>2023-10-19T10:02:41.738+0000</td></tr><tr><td>{'stock_name': 'Kotak Mahindra Bank Limited (KOTAKBANK.NS)', 'Indian_Market_Price': 1738.45, 'market_details': [{'marketchange': -14.95, 'marketchangepercent': '-0.85%', 'data_produced_timestamp': 1697709776.1716864}]}</td><td>2023-10-19T10:02:58.378+0000</td></tr><tr><td>{'stock_name': 'ICICI Bank Limited (ICICIBANK.NS)', 'Indian_Market_Price': 935.75, 'market_details': [{'marketchange': -8.0, 'marketchangepercent': '-0.85%', 'data_produced_timestamp': 1697709790.5173442}]}</td><td>2023-10-19T10:03:13.288+0000</td></tr><tr><td>{'stock_name': 'Reliance Industries Limited (RELIANCE.NS)', 'Indian_Market_Price': 2306.15, 'market_details': [{'marketchange': -17.85, 'marketchangepercent': '-0.77%', 'data_produced_timestamp': 1697709806.2208104}]}</td><td>2023-10-19T10:03:28.699+0000</td></tr><tr><td>{'stock_name': 'Tata Consultancy Services Limited (TCS.NS)', 'Indian_Market_Price': 3455.65, 'market_details': [{'marketchange': -31.6, 'marketchangepercent': '-0.91%', 'data_produced_timestamp': 1697709822.8182561}]}</td><td>2023-10-19T10:03:45.011+0000</td></tr><tr><td>{'stock_name': 'Axis Bank Limited (AXISBANK.NS)', 'Indian_Market_Price': 991.4, 'market_details': [{'marketchange': -1.45, 'marketchangepercent': '-0.15%', 'data_produced_timestamp': 1697709839.068955}]}</td><td>2023-10-19T10:04:01.223+0000</td></tr><tr><td>{'stock_name': 'Bajaj Finance Limited (BAJFINANCE.NS)', 'Indian_Market_Price': 7841.55, 'market_details': [{'marketchange': -25.0, 'marketchangepercent': '-0.32%', 'data_produced_timestamp': 1697709858.2166657}]}</td><td>2023-10-19T10:04:20.436+0000</td></tr><tr><td>{'stock_name': 'Britannia Industries Limited (BRITANNIA.NS)', 'Indian_Market_Price': 4602.45, 'market_details': [{'marketchange': -5.25, 'marketchangepercent': '-0.11%', 'data_produced_timestamp': 1697709874.9417293}]}</td><td>2023-10-19T10:04:37.088+0000</td></tr><tr><td>{'stock_name': 'Asian Paints Limited (ASIANPAINT.NS)', 'Indian_Market_Price': 3101.8, 'market_details': [{'marketchange': 5.35, 'marketchangepercent': '+0.17%', 'data_produced_timestamp': 1697709893.1556308}]}</td><td>2023-10-19T10:04:56.263+0000</td></tr><tr><td>{'stock_name': 'State Bank of India (SBIN.NS)', 'Indian_Market_Price': 571.2, 'market_details': [{'marketchange': -1.45, 'marketchangepercent': '-0.25%', 'data_produced_timestamp': 1697709908.798653}]}</td><td>2023-10-19T10:05:11.000+0000</td></tr><tr><td>{'stock_name': 'HDFC Bank Limited (HDFCBANK.NS)', 'Indian_Market_Price': 1514.95, 'market_details': [{'marketchange': -4.8, 'marketchangepercent': '-0.32%', 'data_produced_timestamp': 1697709922.1850047}]}</td><td>2023-10-19T10:05:24.662+0000</td></tr><tr><td>{'stock_name': 'Kotak Mahindra Bank Limited (KOTAKBANK.NS)', 'Indian_Market_Price': 1738.45, 'market_details': [{'marketchange': -14.95, 'marketchangepercent': '-0.85%', 'data_produced_timestamp': 1697709939.6367671}]}</td><td>2023-10-19T10:05:41.882+0000</td></tr><tr><td>{'stock_name': 'ICICI Bank Limited (ICICIBANK.NS)', 'Indian_Market_Price': 935.75, 'market_details': [{'marketchange': -8.0, 'marketchangepercent': '-0.85%', 'data_produced_timestamp': 1697709956.173559}]}</td><td>2023-10-19T10:05:58.442+0000</td></tr><tr><td>{'stock_name': 'Reliance Industries Limited (RELIANCE.NS)', 'Indian_Market_Price': 2306.15, 'market_details': [{'marketchange': -17.85, 'marketchangepercent': '-0.77%', 'data_produced_timestamp': 1697709972.5471275}]}</td><td>2023-10-19T10:06:14.857+0000</td></tr><tr><td>{'stock_name': 'Tata Consultancy Services Limited (TCS.NS)', 'Indian_Market_Price': 3455.65, 'market_details': [{'marketchange': -31.6, 'marketchangepercent': '-0.91%', 'data_produced_timestamp': 1697709989.4400628}]}</td><td>2023-10-19T10:06:31.885+0000</td></tr><tr><td>{'stock_name': 'Axis Bank Limited (AXISBANK.NS)', 'Indian_Market_Price': 991.4, 'market_details': [{'marketchange': -1.45, 'marketchangepercent': '-0.15%', 'data_produced_timestamp': 1697710006.974956}]}</td><td>2023-10-19T10:06:50.158+0000</td></tr><tr><td>{'stock_name': 'Bajaj Finance Limited (BAJFINANCE.NS)', 'Indian_Market_Price': 7841.55, 'market_details': [{'marketchange': -25.0, 'marketchangepercent': '-0.32%', 'data_produced_timestamp': 1697710023.5797176}]}</td><td>2023-10-19T10:07:06.387+0000</td></tr><tr><td>{'stock_name': 'Britannia Industries Limited (BRITANNIA.NS)', 'Indian_Market_Price': 4602.45, 'market_details': [{'marketchange': -5.25, 'marketchangepercent': '-0.11%', 'data_produced_timestamp': 1697710040.3103166}]}</td><td>2023-10-19T10:07:22.855+0000</td></tr><tr><td>{'stock_name': 'Asian Paints Limited (ASIANPAINT.NS)', 'Indian_Market_Price': 3101.8, 'market_details': [{'marketchange': 5.35, 'marketchangepercent': '+0.17%', 'data_produced_timestamp': 1697710055.5918703}]}</td><td>2023-10-19T10:07:37.904+0000</td></tr><tr><td>{'stock_name': 'State Bank of India (SBIN.NS)', 'Indian_Market_Price': 571.2, 'market_details': [{'marketchange': -1.45, 'marketchangepercent': '-0.25%', 'data_produced_timestamp': 1697710072.2411032}]}</td><td>2023-10-19T10:07:54.766+0000</td></tr><tr><td>{'stock_name': 'HDFC Bank Limited (HDFCBANK.NS)', 'Indian_Market_Price': 1514.95, 'market_details': [{'marketchange': -4.8, 'marketchangepercent': '-0.32%', 'data_produced_timestamp': 1697710088.6510234}]}</td><td>2023-10-19T10:08:10.999+0000</td></tr><tr><td>{'stock_name': 'Kotak Mahindra Bank Limited (KOTAKBANK.NS)', 'Indian_Market_Price': 1738.45, 'market_details': [{'marketchange': -14.95, 'marketchangepercent': '-0.85%', 'data_produced_timestamp': 1697710107.0936325}]}</td><td>2023-10-19T10:08:29.588+0000</td></tr><tr><td>{'stock_name': 'ICICI Bank Limited (ICICIBANK.NS)', 'Indian_Market_Price': 935.75, 'market_details': [{'marketchange': -8.0, 'marketchangepercent': '-0.85%', 'data_produced_timestamp': 1697710129.9211602}]}</td><td>2023-10-19T10:08:51.931+0000</td></tr><tr><td>{'stock_name': 'Reliance Industries Limited (RELIANCE.NS)', 'Indian_Market_Price': 2306.15, 'market_details': [{'marketchange': -17.85, 'marketchangepercent': '-0.77%', 'data_produced_timestamp': 1697710146.104894}]}</td><td>2023-10-19T10:09:08.456+0000</td></tr><tr><td>{'stock_name': 'Tata Consultancy Services Limited (TCS.NS)', 'Indian_Market_Price': 3455.65, 'market_details': [{'marketchange': -31.6, 'marketchangepercent': '-0.91%', 'data_produced_timestamp': 1697710162.4523928}]}</td><td>2023-10-19T10:09:25.094+0000</td></tr><tr><td>{'stock_name': 'Axis Bank Limited (AXISBANK.NS)', 'Indian_Market_Price': 991.4, 'market_details': [{'marketchange': -1.45, 'marketchangepercent': '-0.15%', 'data_produced_timestamp': 1697710177.8340445}]}</td><td>2023-10-19T10:09:40.679+0000</td></tr><tr><td>{'stock_name': 'Bajaj Finance Limited (BAJFINANCE.NS)', 'Indian_Market_Price': 7841.55, 'market_details': [{'marketchange': -25.0, 'marketchangepercent': '-0.32%', 'data_produced_timestamp': 1697710193.57951}]}</td><td>2023-10-19T10:09:56.388+0000</td></tr><tr><td>{'stock_name': 'Britannia Industries Limited (BRITANNIA.NS)', 'Indian_Market_Price': 4602.45, 'market_details': [{'marketchange': -5.25, 'marketchangepercent': '-0.11%', 'data_produced_timestamp': 1697710209.5536907}]}</td><td>2023-10-19T10:10:12.035+0000</td></tr><tr><td>{'stock_name': 'Asian Paints Limited (ASIANPAINT.NS)', 'Indian_Market_Price': 3101.8, 'market_details': [{'marketchange': 5.35, 'marketchangepercent': '+0.17%', 'data_produced_timestamp': 1697710226.2479568}]}</td><td>2023-10-19T10:10:28.664+0000</td></tr></tbody></table></div>"
      ]
     },
     "metadata": {
      "application/vnd.databricks.v1+output": {
       "addedWidgets": {},
       "aggData": [],
       "aggError": "",
       "aggOverflow": false,
       "aggSchema": [],
       "aggSeriesLimitReached": false,
       "aggType": "",
       "arguments": {},
       "columnCustomDisplayInfos": {},
       "data": [
        [
         "{'stock_name': 'State Bank of India (SBIN.NS)', 'Indian_Market_Price': 571.05, 'market_details': [{'marketchange': -1.6, 'marketchangepercent': '-0.28%', 'data_produced_timestamp': 1697706987.7238288}]}",
         "2023-10-19T09:16:29.962+0000"
        ],
        [
         "{'stock_name': 'HDFC Bank Limited (HDFCBANK.NS)', 'Indian_Market_Price': 1518.7, 'market_details': [{'marketchange': -1.05, 'marketchangepercent': '-0.07%', 'data_produced_timestamp': 1697707006.5224614}]}",
         "2023-10-19T09:16:48.551+0000"
        ],
        [
         "{'stock_name': 'Kotak Mahindra Bank Limited (KOTAKBANK.NS)', 'Indian_Market_Price': 1740.45, 'market_details': [{'marketchange': -12.95, 'marketchangepercent': '-0.74%', 'data_produced_timestamp': 1697707023.2109609}]}",
         "2023-10-19T09:17:05.334+0000"
        ],
        [
         "{'stock_name': 'ICICI Bank Limited (ICICIBANK.NS)', 'Indian_Market_Price': 939.15, 'market_details': [{'marketchange': -4.6, 'marketchangepercent': '-0.49%', 'data_produced_timestamp': 1697707042.5861259}]}",
         "2023-10-19T09:17:26.526+0000"
        ],
        [
         "{'stock_name': 'Reliance Industries Limited (RELIANCE.NS)', 'Indian_Market_Price': 2308.7, 'market_details': [{'marketchange': -15.3, 'marketchangepercent': '-0.66%', 'data_produced_timestamp': 1697707061.5939312}]}",
         "2023-10-19T09:17:44.119+0000"
        ],
        [
         "{'stock_name': 'Tata Consultancy Services Limited (TCS.NS)', 'Indian_Market_Price': 3458.05, 'market_details': [{'marketchange': -29.2, 'marketchangepercent': '-0.84%', 'data_produced_timestamp': 1697707083.984741}]}",
         "2023-10-19T09:18:07.464+0000"
        ],
        [
         "{'stock_name': 'Axis Bank Limited (AXISBANK.NS)', 'Indian_Market_Price': 992.05, 'market_details': [{'marketchange': -0.8, 'marketchangepercent': '-0.08%', 'data_produced_timestamp': 1697707101.8228173}]}",
         "2023-10-19T09:18:24.255+0000"
        ],
        [
         "{'stock_name': 'Bajaj Finance Limited (BAJFINANCE.NS)', 'Indian_Market_Price': 7866.75, 'market_details': [{'marketchange': 0.2, 'marketchangepercent': '+0.00%', 'data_produced_timestamp': 1697707120.792508}]}",
         "2023-10-19T09:18:45.152+0000"
        ],
        [
         "{'stock_name': 'Britannia Industries Limited (BRITANNIA.NS)', 'Indian_Market_Price': 4604.4, 'market_details': [{'marketchange': -3.3, 'marketchangepercent': '-0.07%', 'data_produced_timestamp': 1697707137.6171887}]}",
         "2023-10-19T09:19:00.112+0000"
        ],
        [
         "{'stock_name': 'Asian Paints Limited (ASIANPAINT.NS)', 'Indian_Market_Price': 3103.0, 'market_details': [{'marketchange': 6.55, 'marketchangepercent': '+0.21%', 'data_produced_timestamp': 1697707151.965053}]}",
         "2023-10-19T09:19:14.539+0000"
        ],
        [
         "{'stock_name': 'State Bank of India (SBIN.NS)', 'Indian_Market_Price': 570.85, 'market_details': [{'marketchange': -1.8, 'marketchangepercent': '-0.31%', 'data_produced_timestamp': 1697707167.3754919}]}",
         "2023-10-19T09:19:30.219+0000"
        ],
        [
         "{'stock_name': 'HDFC Bank Limited (HDFCBANK.NS)', 'Indian_Market_Price': 1517.7, 'market_details': [{'marketchange': -2.05, 'marketchangepercent': '-0.13%', 'data_produced_timestamp': 1697707194.539958}]}",
         "2023-10-19T09:19:57.053+0000"
        ],
        [
         "{'stock_name': 'Kotak Mahindra Bank Limited (KOTAKBANK.NS)', 'Indian_Market_Price': 1740.05, 'market_details': [{'marketchange': -13.35, 'marketchangepercent': '-0.76%', 'data_produced_timestamp': 1697707211.5050476}]}",
         "2023-10-19T09:20:13.843+0000"
        ],
        [
         "{'stock_name': 'ICICI Bank Limited (ICICIBANK.NS)', 'Indian_Market_Price': 939.05, 'market_details': [{'marketchange': -4.7, 'marketchangepercent': '-0.50%', 'data_produced_timestamp': 1697707226.6386569}]}",
         "2023-10-19T09:20:29.189+0000"
        ],
        [
         "{'stock_name': 'Reliance Industries Limited (RELIANCE.NS)', 'Indian_Market_Price': 2308.05, 'market_details': [{'marketchange': -15.95, 'marketchangepercent': '-0.69%', 'data_produced_timestamp': 1697707241.0606427}]}",
         "2023-10-19T09:20:43.462+0000"
        ],
        [
         "{'stock_name': 'Tata Consultancy Services Limited (TCS.NS)', 'Indian_Market_Price': 3459.0, 'market_details': [{'marketchange': -28.25, 'marketchangepercent': '-0.81%', 'data_produced_timestamp': 1697707255.172612}]}",
         "2023-10-19T09:20:57.191+0000"
        ],
        [
         "{'stock_name': 'Axis Bank Limited (AXISBANK.NS)', 'Indian_Market_Price': 991.55, 'market_details': [{'marketchange': -1.3, 'marketchangepercent': '-0.13%', 'data_produced_timestamp': 1697707268.362043}]}",
         "2023-10-19T09:21:10.333+0000"
        ],
        [
         "{'stock_name': 'Bajaj Finance Limited (BAJFINANCE.NS)', 'Indian_Market_Price': 7867.55, 'market_details': [{'marketchange': 1.0, 'marketchangepercent': '+0.01%', 'data_produced_timestamp': 1697707282.4585083}]}",
         "2023-10-19T09:21:24.518+0000"
        ],
        [
         "{'stock_name': 'Britannia Industries Limited (BRITANNIA.NS)', 'Indian_Market_Price': 4600.95, 'market_details': [{'marketchange': -6.75, 'marketchangepercent': '-0.15%', 'data_produced_timestamp': 1697707297.7093418}]}",
         "2023-10-19T09:21:39.787+0000"
        ],
        [
         "{'stock_name': 'Asian Paints Limited (ASIANPAINT.NS)', 'Indian_Market_Price': 3101.3, 'market_details': [{'marketchange': 4.85, 'marketchangepercent': '+0.16%', 'data_produced_timestamp': 1697707312.1081185}]}",
         "2023-10-19T09:21:54.551+0000"
        ],
        [
         "{'stock_name': 'State Bank of India (SBIN.NS)', 'Indian_Market_Price': 570.85, 'market_details': [{'marketchange': -1.8, 'marketchangepercent': '-0.31%', 'data_produced_timestamp': 1697707325.9753983}]}",
         "2023-10-19T09:22:08.157+0000"
        ],
        [
         "{'stock_name': 'HDFC Bank Limited (HDFCBANK.NS)', 'Indian_Market_Price': 1517.6, 'market_details': [{'marketchange': -2.15, 'marketchangepercent': '-0.14%', 'data_produced_timestamp': 1697707340.0219202}]}",
         "2023-10-19T09:22:22.587+0000"
        ],
        [
         "{'stock_name': 'Kotak Mahindra Bank Limited (KOTAKBANK.NS)', 'Indian_Market_Price': 1738.7, 'market_details': [{'marketchange': -14.7, 'marketchangepercent': '-0.84%', 'data_produced_timestamp': 1697707355.027246}]}",
         "2023-10-19T09:22:37.867+0000"
        ],
        [
         "{'stock_name': 'ICICI Bank Limited (ICICIBANK.NS)', 'Indian_Market_Price': 938.35, 'market_details': [{'marketchange': -5.4, 'marketchangepercent': '-0.57%', 'data_produced_timestamp': 1697707371.3177633}]}",
         "2023-10-19T09:22:53.718+0000"
        ],
        [
         "{'stock_name': 'Reliance Industries Limited (RELIANCE.NS)', 'Indian_Market_Price': 2305.95, 'market_details': [{'marketchange': -18.05, 'marketchangepercent': '-0.78%', 'data_produced_timestamp': 1697707387.3725405}]}",
         "2023-10-19T09:23:10.365+0000"
        ],
        [
         "{'stock_name': 'Tata Consultancy Services Limited (TCS.NS)', 'Indian_Market_Price': 3460.65, 'market_details': [{'marketchange': -26.6, 'marketchangepercent': '-0.76%', 'data_produced_timestamp': 1697707401.154144}]}",
         "2023-10-19T09:23:23.267+0000"
        ],
        [
         "{'stock_name': 'Axis Bank Limited (AXISBANK.NS)', 'Indian_Market_Price': 991.4, 'market_details': [{'marketchange': -1.45, 'marketchangepercent': '-0.15%', 'data_produced_timestamp': 1697707418.3409986}]}",
         "2023-10-19T09:23:40.845+0000"
        ],
        [
         "{'stock_name': 'Bajaj Finance Limited (BAJFINANCE.NS)', 'Indian_Market_Price': 7869.5, 'market_details': [{'marketchange': 2.95, 'marketchangepercent': '+0.04%', 'data_produced_timestamp': 1697707432.906965}]}",
         "2023-10-19T09:23:55.233+0000"
        ],
        [
         "{'stock_name': 'Britannia Industries Limited (BRITANNIA.NS)', 'Indian_Market_Price': 4601.1, 'market_details': [{'marketchange': -6.6, 'marketchangepercent': '-0.14%', 'data_produced_timestamp': 1697707452.272237}]}",
         "2023-10-19T09:24:14.366+0000"
        ],
        [
         "{'stock_name': 'Asian Paints Limited (ASIANPAINT.NS)', 'Indian_Market_Price': 3101.65, 'market_details': [{'marketchange': 5.2, 'marketchangepercent': '+0.17%', 'data_produced_timestamp': 1697707466.9872253}]}",
         "2023-10-19T09:24:29.392+0000"
        ],
        [
         "{'stock_name': 'State Bank of India (SBIN.NS)', 'Indian_Market_Price': 570.95, 'market_details': [{'marketchange': -1.7, 'marketchangepercent': '-0.30%', 'data_produced_timestamp': 1697707485.1619458}]}",
         "2023-10-19T09:24:47.628+0000"
        ],
        [
         "{'stock_name': 'HDFC Bank Limited (HDFCBANK.NS)', 'Indian_Market_Price': 1516.8, 'market_details': [{'marketchange': -2.95, 'marketchangepercent': '-0.19%', 'data_produced_timestamp': 1697707501.6901681}]}",
         "2023-10-19T09:25:03.947+0000"
        ],
        [
         "{'stock_name': 'Kotak Mahindra Bank Limited (KOTAKBANK.NS)', 'Indian_Market_Price': 1739.6, 'market_details': [{'marketchange': -13.8, 'marketchangepercent': '-0.79%', 'data_produced_timestamp': 1697707517.093627}]}",
         "2023-10-19T09:25:20.056+0000"
        ],
        [
         "{'stock_name': 'ICICI Bank Limited (ICICIBANK.NS)', 'Indian_Market_Price': 938.8, 'market_details': [{'marketchange': -4.95, 'marketchangepercent': '-0.52%', 'data_produced_timestamp': 1697707536.292687}]}",
         "2023-10-19T09:25:39.299+0000"
        ],
        [
         "{'stock_name': 'Reliance Industries Limited (RELIANCE.NS)', 'Indian_Market_Price': 2307.55, 'market_details': [{'marketchange': -16.45, 'marketchangepercent': '-0.71%', 'data_produced_timestamp': 1697707553.196005}]}",
         "2023-10-19T09:25:56.385+0000"
        ],
        [
         "{'stock_name': 'Tata Consultancy Services Limited (TCS.NS)', 'Indian_Market_Price': 3459.95, 'market_details': [{'marketchange': -27.3, 'marketchangepercent': '-0.78%', 'data_produced_timestamp': 1697707570.3172758}]}",
         "2023-10-19T09:26:13.162+0000"
        ],
        [
         "{'stock_name': 'Axis Bank Limited (AXISBANK.NS)', 'Indian_Market_Price': 991.85, 'market_details': [{'marketchange': -1.0, 'marketchangepercent': '-0.10%', 'data_produced_timestamp': 1697707588.8096952}]}",
         "2023-10-19T09:26:31.820+0000"
        ],
        [
         "{'stock_name': 'Bajaj Finance Limited (BAJFINANCE.NS)', 'Indian_Market_Price': 7870.4, 'market_details': [{'marketchange': 3.85, 'marketchangepercent': '+0.05%', 'data_produced_timestamp': 1697707608.015482}]}",
         "2023-10-19T09:26:50.363+0000"
        ],
        [
         "{'stock_name': 'Britannia Industries Limited (BRITANNIA.NS)', 'Indian_Market_Price': 4603.4, 'market_details': [{'marketchange': -4.3, 'marketchangepercent': '-0.09%', 'data_produced_timestamp': 1697707635.0469108}]}",
         "2023-10-19T09:27:18.517+0000"
        ],
        [
         "{'stock_name': 'Asian Paints Limited (ASIANPAINT.NS)', 'Indian_Market_Price': 3103.55, 'market_details': [{'marketchange': 7.1, 'marketchangepercent': '+0.23%', 'data_produced_timestamp': 1697707656.6262445}]}",
         "2023-10-19T09:27:39.387+0000"
        ],
        [
         "{'stock_name': 'State Bank of India (SBIN.NS)', 'Indian_Market_Price': 571.1, 'market_details': [{'marketchange': -1.55, 'marketchangepercent': '-0.27%', 'data_produced_timestamp': 1697707674.4298787}]}",
         "2023-10-19T09:27:56.615+0000"
        ],
        [
         "{'stock_name': 'HDFC Bank Limited (HDFCBANK.NS)', 'Indian_Market_Price': 1516.0, 'market_details': [{'marketchange': -3.75, 'marketchangepercent': '-0.25%', 'data_produced_timestamp': 1697707689.8215578}]}",
         "2023-10-19T09:28:12.242+0000"
        ],
        [
         "{'stock_name': 'Kotak Mahindra Bank Limited (KOTAKBANK.NS)', 'Indian_Market_Price': 1739.3, 'market_details': [{'marketchange': -14.1, 'marketchangepercent': '-0.80%', 'data_produced_timestamp': 1697707704.7563288}]}",
         "2023-10-19T09:28:27.134+0000"
        ],
        [
         "{'stock_name': 'ICICI Bank Limited (ICICIBANK.NS)', 'Indian_Market_Price': 938.35, 'market_details': [{'marketchange': -5.4, 'marketchangepercent': '-0.57%', 'data_produced_timestamp': 1697707719.4269822}]}",
         "2023-10-19T09:28:42.120+0000"
        ],
        [
         "{'stock_name': 'Reliance Industries Limited (RELIANCE.NS)', 'Indian_Market_Price': 2307.95, 'market_details': [{'marketchange': -16.05, 'marketchangepercent': '-0.69%', 'data_produced_timestamp': 1697707736.9947033}]}",
         "2023-10-19T09:28:59.262+0000"
        ],
        [
         "{'stock_name': 'Tata Consultancy Services Limited (TCS.NS)', 'Indian_Market_Price': 3459.4, 'market_details': [{'marketchange': -27.85, 'marketchangepercent': '-0.80%', 'data_produced_timestamp': 1697707752.3707664}]}",
         "2023-10-19T09:29:14.893+0000"
        ],
        [
         "{'stock_name': 'Axis Bank Limited (AXISBANK.NS)', 'Indian_Market_Price': 992.0, 'market_details': [{'marketchange': -0.85, 'marketchangepercent': '-0.09%', 'data_produced_timestamp': 1697707770.8431227}]}",
         "2023-10-19T09:29:33.039+0000"
        ],
        [
         "{'stock_name': 'Bajaj Finance Limited (BAJFINANCE.NS)', 'Indian_Market_Price': 7872.05, 'market_details': [{'marketchange': 5.5, 'marketchangepercent': '+0.07%', 'data_produced_timestamp': 1697707784.5724304}]}",
         "2023-10-19T09:29:46.775+0000"
        ],
        [
         "{'stock_name': 'Britannia Industries Limited (BRITANNIA.NS)', 'Indian_Market_Price': 4605.0, 'market_details': [{'marketchange': -2.7, 'marketchangepercent': '-0.06%', 'data_produced_timestamp': 1697707801.0101287}]}",
         "2023-10-19T09:30:04.074+0000"
        ],
        [
         "{'stock_name': 'Asian Paints Limited (ASIANPAINT.NS)', 'Indian_Market_Price': 3102.5, 'market_details': [{'marketchange': 6.05, 'marketchangepercent': '+0.20%', 'data_produced_timestamp': 1697707818.4090068}]}",
         "2023-10-19T09:30:20.765+0000"
        ],
        [
         "{'stock_name': 'State Bank of India (SBIN.NS)', 'Indian_Market_Price': 571.15, 'market_details': [{'marketchange': -1.5, 'marketchangepercent': '-0.26%', 'data_produced_timestamp': 1697707835.5016794}]}",
         "2023-10-19T09:30:37.927+0000"
        ],
        [
         "{'stock_name': 'HDFC Bank Limited (HDFCBANK.NS)', 'Indian_Market_Price': 1515.05, 'market_details': [{'marketchange': -4.7, 'marketchangepercent': '-0.31%', 'data_produced_timestamp': 1697707849.8107007}]}",
         "2023-10-19T09:30:52.224+0000"
        ],
        [
         "{'stock_name': 'Kotak Mahindra Bank Limited (KOTAKBANK.NS)', 'Indian_Market_Price': 1738.0, 'market_details': [{'marketchange': -15.4, 'marketchangepercent': '-0.88%', 'data_produced_timestamp': 1697707867.0953405}]}",
         "2023-10-19T09:31:09.545+0000"
        ],
        [
         "{'stock_name': 'ICICI Bank Limited (ICICIBANK.NS)', 'Indian_Market_Price': 938.2, 'market_details': [{'marketchange': -5.55, 'marketchangepercent': '-0.59%', 'data_produced_timestamp': 1697707881.8084962}]}",
         "2023-10-19T09:31:24.537+0000"
        ],
        [
         "{'stock_name': 'Reliance Industries Limited (RELIANCE.NS)', 'Indian_Market_Price': 2309.15, 'market_details': [{'marketchange': -14.85, 'marketchangepercent': '-0.64%', 'data_produced_timestamp': 1697707899.6144693}]}",
         "2023-10-19T09:31:41.916+0000"
        ],
        [
         "{'stock_name': 'Tata Consultancy Services Limited (TCS.NS)', 'Indian_Market_Price': 3460.15, 'market_details': [{'marketchange': -27.1, 'marketchangepercent': '-0.78%', 'data_produced_timestamp': 1697707916.431509}]}",
         "2023-10-19T09:31:59.190+0000"
        ],
        [
         "{'stock_name': 'Axis Bank Limited (AXISBANK.NS)', 'Indian_Market_Price': 991.4, 'market_details': [{'marketchange': -1.45, 'marketchangepercent': '-0.15%', 'data_produced_timestamp': 1697707932.6599212}]}",
         "2023-10-19T09:32:14.994+0000"
        ],
        [
         "{'stock_name': 'Bajaj Finance Limited (BAJFINANCE.NS)', 'Indian_Market_Price': 7865.25, 'market_details': [{'marketchange': -1.3, 'marketchangepercent': '-0.02%', 'data_produced_timestamp': 1697707947.8756268}]}",
         "2023-10-19T09:32:30.060+0000"
        ],
        [
         "{'stock_name': 'Britannia Industries Limited (BRITANNIA.NS)', 'Indian_Market_Price': 4602.7, 'market_details': [{'marketchange': -5.0, 'marketchangepercent': '-0.11%', 'data_produced_timestamp': 1697707963.498086}]}",
         "2023-10-19T09:32:45.892+0000"
        ],
        [
         "{'stock_name': 'Asian Paints Limited (ASIANPAINT.NS)', 'Indian_Market_Price': 3102.85, 'market_details': [{'marketchange': 6.4, 'marketchangepercent': '+0.21%', 'data_produced_timestamp': 1697707979.2155435}]}",
         "2023-10-19T09:33:02.257+0000"
        ],
        [
         "{'stock_name': 'State Bank of India (SBIN.NS)', 'Indian_Market_Price': 571.1, 'market_details': [{'marketchange': -1.55, 'marketchangepercent': '-0.27%', 'data_produced_timestamp': 1697707994.8156846}]}",
         "2023-10-19T09:33:17.192+0000"
        ],
        [
         "{'stock_name': 'HDFC Bank Limited (HDFCBANK.NS)', 'Indian_Market_Price': 1516.15, 'market_details': [{'marketchange': -3.6, 'marketchangepercent': '-0.24%', 'data_produced_timestamp': 1697708010.5564413}]}",
         "2023-10-19T09:33:33.678+0000"
        ],
        [
         "{'stock_name': 'Kotak Mahindra Bank Limited (KOTAKBANK.NS)', 'Indian_Market_Price': 1738.2, 'market_details': [{'marketchange': -15.2, 'marketchangepercent': '-0.87%', 'data_produced_timestamp': 1697708030.0990381}]}",
         "2023-10-19T09:33:52.519+0000"
        ],
        [
         "{'stock_name': 'ICICI Bank Limited (ICICIBANK.NS)', 'Indian_Market_Price': 937.9, 'market_details': [{'marketchange': -5.85, 'marketchangepercent': '-0.62%', 'data_produced_timestamp': 1697708047.1646137}]}",
         "2023-10-19T09:34:09.523+0000"
        ],
        [
         "{'stock_name': 'Reliance Industries Limited (RELIANCE.NS)', 'Indian_Market_Price': 2310.25, 'market_details': [{'marketchange': -13.75, 'marketchangepercent': '-0.59%', 'data_produced_timestamp': 1697708062.1057982}]}",
         "2023-10-19T09:34:24.727+0000"
        ],
        [
         "{'stock_name': 'Tata Consultancy Services Limited (TCS.NS)', 'Indian_Market_Price': 3458.0, 'market_details': [{'marketchange': -29.25, 'marketchangepercent': '-0.84%', 'data_produced_timestamp': 1697708077.2985973}]}",
         "2023-10-19T09:34:39.466+0000"
        ],
        [
         "{'stock_name': 'Axis Bank Limited (AXISBANK.NS)', 'Indian_Market_Price': 991.4, 'market_details': [{'marketchange': -1.45, 'marketchangepercent': '-0.15%', 'data_produced_timestamp': 1697708090.4563365}]}",
         "2023-10-19T09:34:52.433+0000"
        ],
        [
         "{'stock_name': 'Bajaj Finance Limited (BAJFINANCE.NS)', 'Indian_Market_Price': 7854.6, 'market_details': [{'marketchange': -11.95, 'marketchangepercent': '-0.15%', 'data_produced_timestamp': 1697708104.9249597}]}",
         "2023-10-19T09:35:07.273+0000"
        ],
        [
         "{'stock_name': 'Britannia Industries Limited (BRITANNIA.NS)', 'Indian_Market_Price': 4598.45, 'market_details': [{'marketchange': -9.25, 'marketchangepercent': '-0.20%', 'data_produced_timestamp': 1697708119.8526957}]}",
         "2023-10-19T09:35:22.406+0000"
        ],
        [
         "{'stock_name': 'Asian Paints Limited (ASIANPAINT.NS)', 'Indian_Market_Price': 3102.65, 'market_details': [{'marketchange': 6.2, 'marketchangepercent': '+0.20%', 'data_produced_timestamp': 1697708134.7746491}]}",
         "2023-10-19T09:35:37.517+0000"
        ],
        [
         "{'stock_name': 'State Bank of India (SBIN.NS)', 'Indian_Market_Price': 572.05, 'market_details': [{'marketchange': -0.6, 'marketchangepercent': '-0.10%', 'data_produced_timestamp': 1697708150.9106438}]}",
         "2023-10-19T09:35:53.096+0000"
        ],
        [
         "{'stock_name': 'HDFC Bank Limited (HDFCBANK.NS)', 'Indian_Market_Price': 1516.25, 'market_details': [{'marketchange': -3.5, 'marketchangepercent': '-0.23%', 'data_produced_timestamp': 1697708164.090309}]}",
         "2023-10-19T09:36:06.269+0000"
        ],
        [
         "{'stock_name': 'Kotak Mahindra Bank Limited (KOTAKBANK.NS)', 'Indian_Market_Price': 1740.35, 'market_details': [{'marketchange': -13.05, 'marketchangepercent': '-0.74%', 'data_produced_timestamp': 1697708180.4405148}]}",
         "2023-10-19T09:36:22.572+0000"
        ],
        [
         "{'stock_name': 'ICICI Bank Limited (ICICIBANK.NS)', 'Indian_Market_Price': 937.85, 'market_details': [{'marketchange': -5.9, 'marketchangepercent': '-0.63%', 'data_produced_timestamp': 1697708196.1245415}]}",
         "2023-10-19T09:36:38.259+0000"
        ],
        [
         "{'stock_name': 'Reliance Industries Limited (RELIANCE.NS)', 'Indian_Market_Price': 2309.35, 'market_details': [{'marketchange': -14.65, 'marketchangepercent': '-0.63%', 'data_produced_timestamp': 1697708212.200366}]}",
         "2023-10-19T09:36:54.537+0000"
        ],
        [
         "{'stock_name': 'Tata Consultancy Services Limited (TCS.NS)', 'Indian_Market_Price': 3457.0, 'market_details': [{'marketchange': -30.25, 'marketchangepercent': '-0.87%', 'data_produced_timestamp': 1697708225.7646391}]}",
         "2023-10-19T09:37:08.217+0000"
        ],
        [
         "{'stock_name': 'Axis Bank Limited (AXISBANK.NS)', 'Indian_Market_Price': 992.1, 'market_details': [{'marketchange': -0.75, 'marketchangepercent': '-0.08%', 'data_produced_timestamp': 1697708241.0420382}]}",
         "2023-10-19T09:37:23.358+0000"
        ],
        [
         "{'stock_name': 'Bajaj Finance Limited (BAJFINANCE.NS)', 'Indian_Market_Price': 7860.55, 'market_details': [{'marketchange': -6.0, 'marketchangepercent': '-0.08%', 'data_produced_timestamp': 1697708257.4540315}]}",
         "2023-10-19T09:37:40.039+0000"
        ],
        [
         "{'stock_name': 'Britannia Industries Limited (BRITANNIA.NS)', 'Indian_Market_Price': 4600.25, 'market_details': [{'marketchange': -7.45, 'marketchangepercent': '-0.16%', 'data_produced_timestamp': 1697708273.0705326}]}",
         "2023-10-19T09:37:55.439+0000"
        ],
        [
         "{'stock_name': 'Asian Paints Limited (ASIANPAINT.NS)', 'Indian_Market_Price': 3103.0, 'market_details': [{'marketchange': 6.55, 'marketchangepercent': '+0.21%', 'data_produced_timestamp': 1697708288.6858177}]}",
         "2023-10-19T09:38:11.179+0000"
        ],
        [
         "{'stock_name': 'State Bank of India (SBIN.NS)', 'Indian_Market_Price': 571.75, 'market_details': [{'marketchange': -0.9, 'marketchangepercent': '-0.16%', 'data_produced_timestamp': 1697708306.0187178}]}",
         "2023-10-19T09:38:28.451+0000"
        ],
        [
         "{'stock_name': 'HDFC Bank Limited (HDFCBANK.NS)', 'Indian_Market_Price': 1515.2, 'market_details': [{'marketchange': -4.55, 'marketchangepercent': '-0.30%', 'data_produced_timestamp': 1697708320.4558654}]}",
         "2023-10-19T09:38:42.892+0000"
        ],
        [
         "{'stock_name': 'Kotak Mahindra Bank Limited (KOTAKBANK.NS)', 'Indian_Market_Price': 1738.8, 'market_details': [{'marketchange': -14.6, 'marketchangepercent': '-0.83%', 'data_produced_timestamp': 1697708336.099233}]}",
         "2023-10-19T09:38:58.531+0000"
        ],
        [
         "{'stock_name': 'ICICI Bank Limited (ICICIBANK.NS)', 'Indian_Market_Price': 935.55, 'market_details': [{'marketchange': -8.2, 'marketchangepercent': '-0.87%', 'data_produced_timestamp': 1697708353.4979815}]}",
         "2023-10-19T09:39:16.229+0000"
        ],
        [
         "{'stock_name': 'Reliance Industries Limited (RELIANCE.NS)', 'Indian_Market_Price': 2309.0, 'market_details': [{'marketchange': -15.0, 'marketchangepercent': '-0.65%', 'data_produced_timestamp': 1697708369.6313894}]}",
         "2023-10-19T09:39:32.128+0000"
        ],
        [
         "{'stock_name': 'Tata Consultancy Services Limited (TCS.NS)', 'Indian_Market_Price': 3456.8, 'market_details': [{'marketchange': -30.45, 'marketchangepercent': '-0.87%', 'data_produced_timestamp': 1697708384.9607027}]}",
         "2023-10-19T09:39:47.757+0000"
        ],
        [
         "{'stock_name': 'Axis Bank Limited (AXISBANK.NS)', 'Indian_Market_Price': 991.8, 'market_details': [{'marketchange': -1.05, 'marketchangepercent': '-0.11%', 'data_produced_timestamp': 1697708402.364318}]}",
         "2023-10-19T09:40:04.656+0000"
        ],
        [
         "{'stock_name': 'Bajaj Finance Limited (BAJFINANCE.NS)', 'Indian_Market_Price': 7842.05, 'market_details': [{'marketchange': -24.5, 'marketchangepercent': '-0.31%', 'data_produced_timestamp': 1697708420.3202815}]}",
         "2023-10-19T09:40:22.553+0000"
        ],
        [
         "{'stock_name': 'Britannia Industries Limited (BRITANNIA.NS)', 'Indian_Market_Price': 4600.05, 'market_details': [{'marketchange': -7.65, 'marketchangepercent': '-0.17%', 'data_produced_timestamp': 1697708435.724781}]}",
         "2023-10-19T09:40:37.979+0000"
        ],
        [
         "{'stock_name': 'Asian Paints Limited (ASIANPAINT.NS)', 'Indian_Market_Price': 3101.7, 'market_details': [{'marketchange': 5.25, 'marketchangepercent': '+0.17%', 'data_produced_timestamp': 1697708452.3728614}]}",
         "2023-10-19T09:40:55.215+0000"
        ],
        [
         "{'stock_name': 'State Bank of India (SBIN.NS)', 'Indian_Market_Price': 571.3, 'market_details': [{'marketchange': -1.35, 'marketchangepercent': '-0.24%', 'data_produced_timestamp': 1697708466.4666767}]}",
         "2023-10-19T09:41:08.874+0000"
        ],
        [
         "{'stock_name': 'HDFC Bank Limited (HDFCBANK.NS)', 'Indian_Market_Price': 1515.05, 'market_details': [{'marketchange': -4.7, 'marketchangepercent': '-0.31%', 'data_produced_timestamp': 1697708482.475993}]}",
         "2023-10-19T09:41:25.603+0000"
        ],
        [
         "{'stock_name': 'Kotak Mahindra Bank Limited (KOTAKBANK.NS)', 'Indian_Market_Price': 1737.85, 'market_details': [{'marketchange': -15.55, 'marketchangepercent': '-0.89%', 'data_produced_timestamp': 1697708497.4255576}]}",
         "2023-10-19T09:41:40.267+0000"
        ],
        [
         "{'stock_name': 'ICICI Bank Limited (ICICIBANK.NS)', 'Indian_Market_Price': 936.1, 'market_details': [{'marketchange': -7.65, 'marketchangepercent': '-0.81%', 'data_produced_timestamp': 1697708512.2385535}]}",
         "2023-10-19T09:41:54.354+0000"
        ],
        [
         "{'stock_name': 'Reliance Industries Limited (RELIANCE.NS)', 'Indian_Market_Price': 2306.3, 'market_details': [{'marketchange': -17.7, 'marketchangepercent': '-0.76%', 'data_produced_timestamp': 1697708527.810451}]}",
         "2023-10-19T09:42:10.091+0000"
        ],
        [
         "{'stock_name': 'Tata Consultancy Services Limited (TCS.NS)', 'Indian_Market_Price': 3456.35, 'market_details': [{'marketchange': -30.9, 'marketchangepercent': '-0.89%', 'data_produced_timestamp': 1697708541.1266952}]}",
         "2023-10-19T09:42:23.705+0000"
        ],
        [
         "{'stock_name': 'Axis Bank Limited (AXISBANK.NS)', 'Indian_Market_Price': 991.65, 'market_details': [{'marketchange': -1.2, 'marketchangepercent': '-0.12%', 'data_produced_timestamp': 1697708555.5954292}]}",
         "2023-10-19T09:42:37.865+0000"
        ],
        [
         "{'stock_name': 'Bajaj Finance Limited (BAJFINANCE.NS)', 'Indian_Market_Price': 7840.85, 'market_details': [{'marketchange': -25.7, 'marketchangepercent': '-0.33%', 'data_produced_timestamp': 1697708569.414118}]}",
         "2023-10-19T09:42:51.385+0000"
        ],
        [
         "{'stock_name': 'Britannia Industries Limited (BRITANNIA.NS)', 'Indian_Market_Price': 4600.0, 'market_details': [{'marketchange': -7.7, 'marketchangepercent': '-0.17%', 'data_produced_timestamp': 1697708582.2324462}]}",
         "2023-10-19T09:43:04.418+0000"
        ],
        [
         "{'stock_name': 'Asian Paints Limited (ASIANPAINT.NS)', 'Indian_Market_Price': 3102.55, 'market_details': [{'marketchange': 6.1, 'marketchangepercent': '+0.20%', 'data_produced_timestamp': 1697708595.6881285}]}",
         "2023-10-19T09:43:17.921+0000"
        ],
        [
         "{'stock_name': 'State Bank of India (SBIN.NS)', 'Indian_Market_Price': 570.95, 'market_details': [{'marketchange': -1.7, 'marketchangepercent': '-0.30%', 'data_produced_timestamp': 1697708609.3885753}]}",
         "2023-10-19T09:43:31.492+0000"
        ],
        [
         "{'stock_name': 'HDFC Bank Limited (HDFCBANK.NS)', 'Indian_Market_Price': 1515.0, 'market_details': [{'marketchange': -4.75, 'marketchangepercent': '-0.31%', 'data_produced_timestamp': 1697708624.5501199}]}",
         "2023-10-19T09:43:46.985+0000"
        ],
        [
         "{'stock_name': 'Kotak Mahindra Bank Limited (KOTAKBANK.NS)', 'Indian_Market_Price': 1737.75, 'market_details': [{'marketchange': -15.65, 'marketchangepercent': '-0.89%', 'data_produced_timestamp': 1697708639.7806318}]}",
         "2023-10-19T09:44:01.875+0000"
        ],
        [
         "{'stock_name': 'ICICI Bank Limited (ICICIBANK.NS)', 'Indian_Market_Price': 935.05, 'market_details': [{'marketchange': -8.7, 'marketchangepercent': '-0.92%', 'data_produced_timestamp': 1697708654.442628}]}",
         "2023-10-19T09:44:16.876+0000"
        ],
        [
         "{'stock_name': 'Reliance Industries Limited (RELIANCE.NS)', 'Indian_Market_Price': 2305.35, 'market_details': [{'marketchange': -18.65, 'marketchangepercent': '-0.80%', 'data_produced_timestamp': 1697708669.9781995}]}",
         "2023-10-19T09:44:32.560+0000"
        ],
        [
         "{'stock_name': 'Tata Consultancy Services Limited (TCS.NS)', 'Indian_Market_Price': 3456.0, 'market_details': [{'marketchange': -31.25, 'marketchangepercent': '-0.90%', 'data_produced_timestamp': 1697708686.1250563}]}",
         "2023-10-19T09:44:48.634+0000"
        ],
        [
         "{'stock_name': 'Axis Bank Limited (AXISBANK.NS)', 'Indian_Market_Price': 991.35, 'market_details': [{'marketchange': -1.5, 'marketchangepercent': '-0.15%', 'data_produced_timestamp': 1697708701.6873953}]}",
         "2023-10-19T09:45:04.443+0000"
        ],
        [
         "{'stock_name': 'Bajaj Finance Limited (BAJFINANCE.NS)', 'Indian_Market_Price': 7838.25, 'market_details': [{'marketchange': -28.3, 'marketchangepercent': '-0.36%', 'data_produced_timestamp': 1697708718.3113751}]}",
         "2023-10-19T09:45:20.843+0000"
        ],
        [
         "{'stock_name': 'Britannia Industries Limited (BRITANNIA.NS)', 'Indian_Market_Price': 4599.35, 'market_details': [{'marketchange': -8.35, 'marketchangepercent': '-0.18%', 'data_produced_timestamp': 1697708734.8561187}]}",
         "2023-10-19T09:45:37.122+0000"
        ],
        [
         "{'stock_name': 'Asian Paints Limited (ASIANPAINT.NS)', 'Indian_Market_Price': 3102.05, 'market_details': [{'marketchange': 5.6, 'marketchangepercent': '+0.18%', 'data_produced_timestamp': 1697708749.3852022}]}",
         "2023-10-19T09:45:51.801+0000"
        ],
        [
         "{'stock_name': 'State Bank of India (SBIN.NS)', 'Indian_Market_Price': 571.15, 'market_details': [{'marketchange': -1.5, 'marketchangepercent': '-0.26%', 'data_produced_timestamp': 1697708765.4799492}]}",
         "2023-10-19T09:46:07.624+0000"
        ],
        [
         "{'stock_name': 'HDFC Bank Limited (HDFCBANK.NS)', 'Indian_Market_Price': 1515.2, 'market_details': [{'marketchange': -4.55, 'marketchangepercent': '-0.30%', 'data_produced_timestamp': 1697708780.5337472}]}",
         "2023-10-19T09:46:22.987+0000"
        ],
        [
         "{'stock_name': 'Kotak Mahindra Bank Limited (KOTAKBANK.NS)', 'Indian_Market_Price': 1736.35, 'market_details': [{'marketchange': -17.05, 'marketchangepercent': '-0.97%', 'data_produced_timestamp': 1697708797.0025158}]}",
         "2023-10-19T09:46:39.672+0000"
        ],
        [
         "{'stock_name': 'ICICI Bank Limited (ICICIBANK.NS)', 'Indian_Market_Price': 934.75, 'market_details': [{'marketchange': -9.0, 'marketchangepercent': '-0.95%', 'data_produced_timestamp': 1697708813.5581925}]}",
         "2023-10-19T09:46:56.122+0000"
        ],
        [
         "{'stock_name': 'Reliance Industries Limited (RELIANCE.NS)', 'Indian_Market_Price': 2306.85, 'market_details': [{'marketchange': -17.15, 'marketchangepercent': '-0.74%', 'data_produced_timestamp': 1697708830.5166597}]}",
         "2023-10-19T09:47:13.939+0000"
        ],
        [
         "{'stock_name': 'Tata Consultancy Services Limited (TCS.NS)', 'Indian_Market_Price': 3455.0, 'market_details': [{'marketchange': -32.25, 'marketchangepercent': '-0.92%', 'data_produced_timestamp': 1697708847.965009}]}",
         "2023-10-19T09:47:30.570+0000"
        ],
        [
         "{'stock_name': 'Axis Bank Limited (AXISBANK.NS)', 'Indian_Market_Price': 991.05, 'market_details': [{'marketchange': -1.8, 'marketchangepercent': '-0.18%', 'data_produced_timestamp': 1697708864.09678}]}",
         "2023-10-19T09:47:46.303+0000"
        ],
        [
         "{'stock_name': 'Bajaj Finance Limited (BAJFINANCE.NS)', 'Indian_Market_Price': 7829.5, 'market_details': [{'marketchange': -37.05, 'marketchangepercent': '-0.47%', 'data_produced_timestamp': 1697708896.1263542}]}",
         "2023-10-19T09:48:24.774+0000"
        ],
        [
         "{'stock_name': 'Britannia Industries Limited (BRITANNIA.NS)', 'Indian_Market_Price': 4603.85, 'market_details': [{'marketchange': -3.85, 'marketchangepercent': '-0.08%', 'data_produced_timestamp': 1697708929.3396564}]}",
         "2023-10-19T09:48:52.118+0000"
        ],
        [
         "{'stock_name': 'Asian Paints Limited (ASIANPAINT.NS)', 'Indian_Market_Price': 3100.8, 'market_details': [{'marketchange': 4.35, 'marketchangepercent': '+0.14%', 'data_produced_timestamp': 1697708947.5883849}]}",
         "2023-10-19T09:49:10.105+0000"
        ],
        [
         "{'stock_name': 'State Bank of India (SBIN.NS)', 'Indian_Market_Price': 571.1, 'market_details': [{'marketchange': -1.55, 'marketchangepercent': '-0.27%', 'data_produced_timestamp': 1697708962.8006074}]}",
         "2023-10-19T09:49:25.259+0000"
        ],
        [
         "{'stock_name': 'HDFC Bank Limited (HDFCBANK.NS)', 'Indian_Market_Price': 1515.05, 'market_details': [{'marketchange': -4.7, 'marketchangepercent': '-0.31%', 'data_produced_timestamp': 1697708981.3186266}]}",
         "2023-10-19T09:49:45.892+0000"
        ],
        [
         "{'stock_name': 'Kotak Mahindra Bank Limited (KOTAKBANK.NS)', 'Indian_Market_Price': 1737.9, 'market_details': [{'marketchange': -15.5, 'marketchangepercent': '-0.88%', 'data_produced_timestamp': 1697709000.7360334}]}",
         "2023-10-19T09:50:03.487+0000"
        ],
        [
         "{'stock_name': 'ICICI Bank Limited (ICICIBANK.NS)', 'Indian_Market_Price': 934.9, 'market_details': [{'marketchange': -8.85, 'marketchangepercent': '-0.94%', 'data_produced_timestamp': 1697709016.1455078}]}",
         "2023-10-19T09:50:18.807+0000"
        ],
        [
         "{'stock_name': 'Reliance Industries Limited (RELIANCE.NS)', 'Indian_Market_Price': 2305.05, 'market_details': [{'marketchange': -18.95, 'marketchangepercent': '-0.82%', 'data_produced_timestamp': 1697709032.581782}]}",
         "2023-10-19T09:50:35.189+0000"
        ],
        [
         "{'stock_name': 'Tata Consultancy Services Limited (TCS.NS)', 'Indian_Market_Price': 3455.0, 'market_details': [{'marketchange': -32.25, 'marketchangepercent': '-0.92%', 'data_produced_timestamp': 1697709046.7335682}]}",
         "2023-10-19T09:50:48.861+0000"
        ],
        [
         "{'stock_name': 'Axis Bank Limited (AXISBANK.NS)', 'Indian_Market_Price': 991.05, 'market_details': [{'marketchange': -1.8, 'marketchangepercent': '-0.18%', 'data_produced_timestamp': 1697709062.4215682}]}",
         "2023-10-19T09:51:04.755+0000"
        ],
        [
         "{'stock_name': 'Bajaj Finance Limited (BAJFINANCE.NS)', 'Indian_Market_Price': 7829.7, 'market_details': [{'marketchange': -36.85, 'marketchangepercent': '-0.47%', 'data_produced_timestamp': 1697709078.0106034}]}",
         "2023-10-19T09:51:20.274+0000"
        ],
        [
         "{'stock_name': 'Britannia Industries Limited (BRITANNIA.NS)', 'Indian_Market_Price': 4603.1, 'market_details': [{'marketchange': -4.6, 'marketchangepercent': '-0.10%', 'data_produced_timestamp': 1697709091.77935}]}",
         "2023-10-19T09:51:34.245+0000"
        ],
        [
         "{'stock_name': 'Asian Paints Limited (ASIANPAINT.NS)', 'Indian_Market_Price': 3101.7, 'market_details': [{'marketchange': 5.25, 'marketchangepercent': '+0.17%', 'data_produced_timestamp': 1697709106.8621175}]}",
         "2023-10-19T09:51:49.576+0000"
        ],
        [
         "{'stock_name': 'State Bank of India (SBIN.NS)', 'Indian_Market_Price': 571.1, 'market_details': [{'marketchange': -1.55, 'marketchangepercent': '-0.27%', 'data_produced_timestamp': 1697709121.3509717}]}",
         "2023-10-19T09:52:03.808+0000"
        ],
        [
         "{'stock_name': 'HDFC Bank Limited (HDFCBANK.NS)', 'Indian_Market_Price': 1513.45, 'market_details': [{'marketchange': -6.3, 'marketchangepercent': '-0.41%', 'data_produced_timestamp': 1697709135.3415926}]}",
         "2023-10-19T09:52:17.673+0000"
        ],
        [
         "{'stock_name': 'Kotak Mahindra Bank Limited (KOTAKBANK.NS)', 'Indian_Market_Price': 1740.1, 'market_details': [{'marketchange': -13.3, 'marketchangepercent': '-0.76%', 'data_produced_timestamp': 1697709150.3655343}]}",
         "2023-10-19T09:52:32.668+0000"
        ],
        [
         "{'stock_name': 'ICICI Bank Limited (ICICIBANK.NS)', 'Indian_Market_Price': 934.6, 'market_details': [{'marketchange': -9.15, 'marketchangepercent': '-0.97%', 'data_produced_timestamp': 1697709164.160576}]}",
         "2023-10-19T09:52:46.812+0000"
        ],
        [
         "{'stock_name': 'Reliance Industries Limited (RELIANCE.NS)', 'Indian_Market_Price': 2303.35, 'market_details': [{'marketchange': -20.65, 'marketchangepercent': '-0.89%', 'data_produced_timestamp': 1697709180.3595707}]}",
         "2023-10-19T09:53:02.564+0000"
        ],
        [
         "{'stock_name': 'Tata Consultancy Services Limited (TCS.NS)', 'Indian_Market_Price': 3454.1, 'market_details': [{'marketchange': -33.15, 'marketchangepercent': '-0.95%', 'data_produced_timestamp': 1697709195.9867818}]}",
         "2023-10-19T09:53:18.288+0000"
        ],
        [
         "{'stock_name': 'Axis Bank Limited (AXISBANK.NS)', 'Indian_Market_Price': 991.15, 'market_details': [{'marketchange': -1.7, 'marketchangepercent': '-0.17%', 'data_produced_timestamp': 1697709211.177077}]}",
         "2023-10-19T09:53:33.836+0000"
        ],
        [
         "{'stock_name': 'Bajaj Finance Limited (BAJFINANCE.NS)', 'Indian_Market_Price': 7824.9, 'market_details': [{'marketchange': -41.65, 'marketchangepercent': '-0.53%', 'data_produced_timestamp': 1697709226.059757}]}",
         "2023-10-19T09:53:48.680+0000"
        ],
        [
         "{'stock_name': 'Britannia Industries Limited (BRITANNIA.NS)', 'Indian_Market_Price': 4609.15, 'market_details': [{'marketchange': 1.45, 'marketchangepercent': '+0.03%', 'data_produced_timestamp': 1697709241.7056036}]}",
         "2023-10-19T09:54:04.864+0000"
        ],
        [
         "{'stock_name': 'Asian Paints Limited (ASIANPAINT.NS)', 'Indian_Market_Price': 3100.45, 'market_details': [{'marketchange': 4.0, 'marketchangepercent': '+0.13%', 'data_produced_timestamp': 1697709263.097434}]}",
         "2023-10-19T09:54:25.887+0000"
        ],
        [
         "{'stock_name': 'State Bank of India (SBIN.NS)', 'Indian_Market_Price': 571.0, 'market_details': [{'marketchange': -1.65, 'marketchangepercent': '-0.29%', 'data_produced_timestamp': 1697709280.5658247}]}",
         "2023-10-19T09:54:43.547+0000"
        ],
        [
         "{'stock_name': 'HDFC Bank Limited (HDFCBANK.NS)', 'Indian_Market_Price': 1513.8, 'market_details': [{'marketchange': -5.95, 'marketchangepercent': '-0.39%', 'data_produced_timestamp': 1697709303.839333}]}",
         "2023-10-19T09:55:06.862+0000"
        ],
        [
         "{'stock_name': 'Kotak Mahindra Bank Limited (KOTAKBANK.NS)', 'Indian_Market_Price': 1739.9, 'market_details': [{'marketchange': -13.5, 'marketchangepercent': '-0.77%', 'data_produced_timestamp': 1697709321.7536573}]}",
         "2023-10-19T09:55:24.584+0000"
        ],
        [
         "{'stock_name': 'ICICI Bank Limited (ICICIBANK.NS)', 'Indian_Market_Price': 934.85, 'market_details': [{'marketchange': -8.9, 'marketchangepercent': '-0.94%', 'data_produced_timestamp': 1697709340.4426517}]}",
         "2023-10-19T09:55:43.349+0000"
        ],
        [
         "{'stock_name': 'Reliance Industries Limited (RELIANCE.NS)', 'Indian_Market_Price': 2303.4, 'market_details': [{'marketchange': -20.6, 'marketchangepercent': '-0.89%', 'data_produced_timestamp': 1697709357.674643}]}",
         "2023-10-19T09:56:00.191+0000"
        ],
        [
         "{'stock_name': 'Tata Consultancy Services Limited (TCS.NS)', 'Indian_Market_Price': 3452.75, 'market_details': [{'marketchange': -34.5, 'marketchangepercent': '-0.99%', 'data_produced_timestamp': 1697709372.8247476}]}",
         "2023-10-19T09:56:15.356+0000"
        ],
        [
         "{'stock_name': 'Axis Bank Limited (AXISBANK.NS)', 'Indian_Market_Price': 990.95, 'market_details': [{'marketchange': -1.9, 'marketchangepercent': '-0.19%', 'data_produced_timestamp': 1697709387.2073886}]}",
         "2023-10-19T09:56:29.364+0000"
        ],
        [
         "{'stock_name': 'Bajaj Finance Limited (BAJFINANCE.NS)', 'Indian_Market_Price': 7820.8, 'market_details': [{'marketchange': -45.75, 'marketchangepercent': '-0.58%', 'data_produced_timestamp': 1697709400.4892478}]}",
         "2023-10-19T09:56:42.679+0000"
        ],
        [
         "{'stock_name': 'Britannia Industries Limited (BRITANNIA.NS)', 'Indian_Market_Price': 4607.25, 'market_details': [{'marketchange': -0.45, 'marketchangepercent': '-0.01%', 'data_produced_timestamp': 1697709414.2489731}]}",
         "2023-10-19T09:56:56.549+0000"
        ],
        [
         "{'stock_name': 'Asian Paints Limited (ASIANPAINT.NS)', 'Indian_Market_Price': 3099.25, 'market_details': [{'marketchange': 2.8, 'marketchangepercent': '+0.09%', 'data_produced_timestamp': 1697709427.945003}]}",
         "2023-10-19T09:57:10.572+0000"
        ],
        [
         "{'stock_name': 'State Bank of India (SBIN.NS)', 'Indian_Market_Price': 571.2, 'market_details': [{'marketchange': -1.45, 'marketchangepercent': '-0.25%', 'data_produced_timestamp': 1697709443.1328208}]}",
         "2023-10-19T09:57:25.437+0000"
        ],
        [
         "{'stock_name': 'HDFC Bank Limited (HDFCBANK.NS)', 'Indian_Market_Price': 1514.3, 'market_details': [{'marketchange': -5.45, 'marketchangepercent': '-0.36%', 'data_produced_timestamp': 1697709458.2266264}]}",
         "2023-10-19T09:57:40.181+0000"
        ],
        [
         "{'stock_name': 'Kotak Mahindra Bank Limited (KOTAKBANK.NS)', 'Indian_Market_Price': 1737.0, 'market_details': [{'marketchange': -16.4, 'marketchangepercent': '-0.94%', 'data_produced_timestamp': 1697709474.5438938}]}",
         "2023-10-19T09:57:56.871+0000"
        ],
        [
         "{'stock_name': 'ICICI Bank Limited (ICICIBANK.NS)', 'Indian_Market_Price': 934.85, 'market_details': [{'marketchange': -8.9, 'marketchangepercent': '-0.94%', 'data_produced_timestamp': 1697709488.363037}]}",
         "2023-10-19T09:58:10.597+0000"
        ],
        [
         "{'stock_name': 'Reliance Industries Limited (RELIANCE.NS)', 'Indian_Market_Price': 2302.0, 'market_details': [{'marketchange': -22.0, 'marketchangepercent': '-0.95%', 'data_produced_timestamp': 1697709505.499762}]}",
         "2023-10-19T09:58:27.585+0000"
        ],
        [
         "{'stock_name': 'Tata Consultancy Services Limited (TCS.NS)', 'Indian_Market_Price': 3453.9, 'market_details': [{'marketchange': -33.35, 'marketchangepercent': '-0.96%', 'data_produced_timestamp': 1697709522.4127157}]}",
         "2023-10-19T09:58:44.484+0000"
        ],
        [
         "{'stock_name': 'Axis Bank Limited (AXISBANK.NS)', 'Indian_Market_Price': 990.95, 'market_details': [{'marketchange': -1.9, 'marketchangepercent': '-0.19%', 'data_produced_timestamp': 1697709537.6576138}]}",
         "2023-10-19T09:58:59.622+0000"
        ],
        [
         "{'stock_name': 'Bajaj Finance Limited (BAJFINANCE.NS)', 'Indian_Market_Price': 7818.1, 'market_details': [{'marketchange': -48.45, 'marketchangepercent': '-0.62%', 'data_produced_timestamp': 1697709553.0027697}]}",
         "2023-10-19T09:59:15.227+0000"
        ],
        [
         "{'stock_name': 'Britannia Industries Limited (BRITANNIA.NS)', 'Indian_Market_Price': 4607.0, 'market_details': [{'marketchange': -0.7, 'marketchangepercent': '-0.02%', 'data_produced_timestamp': 1697709567.3840938}]}",
         "2023-10-19T09:59:29.656+0000"
        ],
        [
         "{'stock_name': 'Asian Paints Limited (ASIANPAINT.NS)', 'Indian_Market_Price': 3101.0, 'market_details': [{'marketchange': 4.55, 'marketchangepercent': '+0.15%', 'data_produced_timestamp': 1697709580.8810349}]}",
         "2023-10-19T09:59:42.876+0000"
        ],
        [
         "{'stock_name': 'State Bank of India (SBIN.NS)', 'Indian_Market_Price': 571.3, 'market_details': [{'marketchange': -1.35, 'marketchangepercent': '-0.24%', 'data_produced_timestamp': 1697709593.337549}]}",
         "2023-10-19T09:59:55.450+0000"
        ],
        [
         "{'stock_name': 'HDFC Bank Limited (HDFCBANK.NS)', 'Indian_Market_Price': 1514.5, 'market_details': [{'marketchange': -5.25, 'marketchangepercent': '-0.35%', 'data_produced_timestamp': 1697709606.5804987}]}",
         "2023-10-19T10:00:08.871+0000"
        ],
        [
         "{'stock_name': 'Kotak Mahindra Bank Limited (KOTAKBANK.NS)', 'Indian_Market_Price': 1738.65, 'market_details': [{'marketchange': -14.75, 'marketchangepercent': '-0.84%', 'data_produced_timestamp': 1697709622.6045282}]}",
         "2023-10-19T10:00:24.682+0000"
        ],
        [
         "{'stock_name': 'ICICI Bank Limited (ICICIBANK.NS)', 'Indian_Market_Price': 934.85, 'market_details': [{'marketchange': -8.9, 'marketchangepercent': '-0.94%', 'data_produced_timestamp': 1697709636.3419259}]}",
         "2023-10-19T10:00:38.547+0000"
        ],
        [
         "{'stock_name': 'Reliance Industries Limited (RELIANCE.NS)', 'Indian_Market_Price': 2304.65, 'market_details': [{'marketchange': -19.35, 'marketchangepercent': '-0.83%', 'data_produced_timestamp': 1697709650.294337}]}",
         "2023-10-19T10:00:53.092+0000"
        ],
        [
         "{'stock_name': 'Tata Consultancy Services Limited (TCS.NS)', 'Indian_Market_Price': 3454.8, 'market_details': [{'marketchange': -32.45, 'marketchangepercent': '-0.93%', 'data_produced_timestamp': 1697709665.045696}]}",
         "2023-10-19T10:01:07.671+0000"
        ],
        [
         "{'stock_name': 'Axis Bank Limited (AXISBANK.NS)', 'Indian_Market_Price': 993.15, 'market_details': [{'marketchange': 0.3, 'marketchangepercent': '+0.03%', 'data_produced_timestamp': 1697709680.9356055}]}",
         "2023-10-19T10:01:23.241+0000"
        ],
        [
         "{'stock_name': 'Bajaj Finance Limited (BAJFINANCE.NS)', 'Indian_Market_Price': 7822.4, 'market_details': [{'marketchange': -44.15, 'marketchangepercent': '-0.56%', 'data_produced_timestamp': 1697709694.6871214}]}",
         "2023-10-19T10:01:37.076+0000"
        ],
        [
         "{'stock_name': 'Britannia Industries Limited (BRITANNIA.NS)', 'Indian_Market_Price': 4608.0, 'market_details': [{'marketchange': 0.3, 'marketchangepercent': '+0.01%', 'data_produced_timestamp': 1697709712.325791}]}",
         "2023-10-19T10:01:54.460+0000"
        ],
        [
         "{'stock_name': 'Asian Paints Limited (ASIANPAINT.NS)', 'Indian_Market_Price': 3101.0, 'market_details': [{'marketchange': 4.55, 'marketchangepercent': '+0.15%', 'data_produced_timestamp': 1697709727.6446383}]}",
         "2023-10-19T10:02:10.354+0000"
        ],
        [
         "{'stock_name': 'State Bank of India (SBIN.NS)', 'Indian_Market_Price': 571.2, 'market_details': [{'marketchange': -1.45, 'marketchangepercent': '-0.25%', 'data_produced_timestamp': 1697709742.966913}]}",
         "2023-10-19T10:02:25.584+0000"
        ],
        [
         "{'stock_name': 'HDFC Bank Limited (HDFCBANK.NS)', 'Indian_Market_Price': 1514.95, 'market_details': [{'marketchange': -4.8, 'marketchangepercent': '-0.32%', 'data_produced_timestamp': 1697709759.1288056}]}",
         "2023-10-19T10:02:41.738+0000"
        ],
        [
         "{'stock_name': 'Kotak Mahindra Bank Limited (KOTAKBANK.NS)', 'Indian_Market_Price': 1738.45, 'market_details': [{'marketchange': -14.95, 'marketchangepercent': '-0.85%', 'data_produced_timestamp': 1697709776.1716864}]}",
         "2023-10-19T10:02:58.378+0000"
        ],
        [
         "{'stock_name': 'ICICI Bank Limited (ICICIBANK.NS)', 'Indian_Market_Price': 935.75, 'market_details': [{'marketchange': -8.0, 'marketchangepercent': '-0.85%', 'data_produced_timestamp': 1697709790.5173442}]}",
         "2023-10-19T10:03:13.288+0000"
        ],
        [
         "{'stock_name': 'Reliance Industries Limited (RELIANCE.NS)', 'Indian_Market_Price': 2306.15, 'market_details': [{'marketchange': -17.85, 'marketchangepercent': '-0.77%', 'data_produced_timestamp': 1697709806.2208104}]}",
         "2023-10-19T10:03:28.699+0000"
        ],
        [
         "{'stock_name': 'Tata Consultancy Services Limited (TCS.NS)', 'Indian_Market_Price': 3455.65, 'market_details': [{'marketchange': -31.6, 'marketchangepercent': '-0.91%', 'data_produced_timestamp': 1697709822.8182561}]}",
         "2023-10-19T10:03:45.011+0000"
        ],
        [
         "{'stock_name': 'Axis Bank Limited (AXISBANK.NS)', 'Indian_Market_Price': 991.4, 'market_details': [{'marketchange': -1.45, 'marketchangepercent': '-0.15%', 'data_produced_timestamp': 1697709839.068955}]}",
         "2023-10-19T10:04:01.223+0000"
        ],
        [
         "{'stock_name': 'Bajaj Finance Limited (BAJFINANCE.NS)', 'Indian_Market_Price': 7841.55, 'market_details': [{'marketchange': -25.0, 'marketchangepercent': '-0.32%', 'data_produced_timestamp': 1697709858.2166657}]}",
         "2023-10-19T10:04:20.436+0000"
        ],
        [
         "{'stock_name': 'Britannia Industries Limited (BRITANNIA.NS)', 'Indian_Market_Price': 4602.45, 'market_details': [{'marketchange': -5.25, 'marketchangepercent': '-0.11%', 'data_produced_timestamp': 1697709874.9417293}]}",
         "2023-10-19T10:04:37.088+0000"
        ],
        [
         "{'stock_name': 'Asian Paints Limited (ASIANPAINT.NS)', 'Indian_Market_Price': 3101.8, 'market_details': [{'marketchange': 5.35, 'marketchangepercent': '+0.17%', 'data_produced_timestamp': 1697709893.1556308}]}",
         "2023-10-19T10:04:56.263+0000"
        ],
        [
         "{'stock_name': 'State Bank of India (SBIN.NS)', 'Indian_Market_Price': 571.2, 'market_details': [{'marketchange': -1.45, 'marketchangepercent': '-0.25%', 'data_produced_timestamp': 1697709908.798653}]}",
         "2023-10-19T10:05:11.000+0000"
        ],
        [
         "{'stock_name': 'HDFC Bank Limited (HDFCBANK.NS)', 'Indian_Market_Price': 1514.95, 'market_details': [{'marketchange': -4.8, 'marketchangepercent': '-0.32%', 'data_produced_timestamp': 1697709922.1850047}]}",
         "2023-10-19T10:05:24.662+0000"
        ],
        [
         "{'stock_name': 'Kotak Mahindra Bank Limited (KOTAKBANK.NS)', 'Indian_Market_Price': 1738.45, 'market_details': [{'marketchange': -14.95, 'marketchangepercent': '-0.85%', 'data_produced_timestamp': 1697709939.6367671}]}",
         "2023-10-19T10:05:41.882+0000"
        ],
        [
         "{'stock_name': 'ICICI Bank Limited (ICICIBANK.NS)', 'Indian_Market_Price': 935.75, 'market_details': [{'marketchange': -8.0, 'marketchangepercent': '-0.85%', 'data_produced_timestamp': 1697709956.173559}]}",
         "2023-10-19T10:05:58.442+0000"
        ],
        [
         "{'stock_name': 'Reliance Industries Limited (RELIANCE.NS)', 'Indian_Market_Price': 2306.15, 'market_details': [{'marketchange': -17.85, 'marketchangepercent': '-0.77%', 'data_produced_timestamp': 1697709972.5471275}]}",
         "2023-10-19T10:06:14.857+0000"
        ],
        [
         "{'stock_name': 'Tata Consultancy Services Limited (TCS.NS)', 'Indian_Market_Price': 3455.65, 'market_details': [{'marketchange': -31.6, 'marketchangepercent': '-0.91%', 'data_produced_timestamp': 1697709989.4400628}]}",
         "2023-10-19T10:06:31.885+0000"
        ],
        [
         "{'stock_name': 'Axis Bank Limited (AXISBANK.NS)', 'Indian_Market_Price': 991.4, 'market_details': [{'marketchange': -1.45, 'marketchangepercent': '-0.15%', 'data_produced_timestamp': 1697710006.974956}]}",
         "2023-10-19T10:06:50.158+0000"
        ],
        [
         "{'stock_name': 'Bajaj Finance Limited (BAJFINANCE.NS)', 'Indian_Market_Price': 7841.55, 'market_details': [{'marketchange': -25.0, 'marketchangepercent': '-0.32%', 'data_produced_timestamp': 1697710023.5797176}]}",
         "2023-10-19T10:07:06.387+0000"
        ],
        [
         "{'stock_name': 'Britannia Industries Limited (BRITANNIA.NS)', 'Indian_Market_Price': 4602.45, 'market_details': [{'marketchange': -5.25, 'marketchangepercent': '-0.11%', 'data_produced_timestamp': 1697710040.3103166}]}",
         "2023-10-19T10:07:22.855+0000"
        ],
        [
         "{'stock_name': 'Asian Paints Limited (ASIANPAINT.NS)', 'Indian_Market_Price': 3101.8, 'market_details': [{'marketchange': 5.35, 'marketchangepercent': '+0.17%', 'data_produced_timestamp': 1697710055.5918703}]}",
         "2023-10-19T10:07:37.904+0000"
        ],
        [
         "{'stock_name': 'State Bank of India (SBIN.NS)', 'Indian_Market_Price': 571.2, 'market_details': [{'marketchange': -1.45, 'marketchangepercent': '-0.25%', 'data_produced_timestamp': 1697710072.2411032}]}",
         "2023-10-19T10:07:54.766+0000"
        ],
        [
         "{'stock_name': 'HDFC Bank Limited (HDFCBANK.NS)', 'Indian_Market_Price': 1514.95, 'market_details': [{'marketchange': -4.8, 'marketchangepercent': '-0.32%', 'data_produced_timestamp': 1697710088.6510234}]}",
         "2023-10-19T10:08:10.999+0000"
        ],
        [
         "{'stock_name': 'Kotak Mahindra Bank Limited (KOTAKBANK.NS)', 'Indian_Market_Price': 1738.45, 'market_details': [{'marketchange': -14.95, 'marketchangepercent': '-0.85%', 'data_produced_timestamp': 1697710107.0936325}]}",
         "2023-10-19T10:08:29.588+0000"
        ],
        [
         "{'stock_name': 'ICICI Bank Limited (ICICIBANK.NS)', 'Indian_Market_Price': 935.75, 'market_details': [{'marketchange': -8.0, 'marketchangepercent': '-0.85%', 'data_produced_timestamp': 1697710129.9211602}]}",
         "2023-10-19T10:08:51.931+0000"
        ],
        [
         "{'stock_name': 'Reliance Industries Limited (RELIANCE.NS)', 'Indian_Market_Price': 2306.15, 'market_details': [{'marketchange': -17.85, 'marketchangepercent': '-0.77%', 'data_produced_timestamp': 1697710146.104894}]}",
         "2023-10-19T10:09:08.456+0000"
        ],
        [
         "{'stock_name': 'Tata Consultancy Services Limited (TCS.NS)', 'Indian_Market_Price': 3455.65, 'market_details': [{'marketchange': -31.6, 'marketchangepercent': '-0.91%', 'data_produced_timestamp': 1697710162.4523928}]}",
         "2023-10-19T10:09:25.094+0000"
        ],
        [
         "{'stock_name': 'Axis Bank Limited (AXISBANK.NS)', 'Indian_Market_Price': 991.4, 'market_details': [{'marketchange': -1.45, 'marketchangepercent': '-0.15%', 'data_produced_timestamp': 1697710177.8340445}]}",
         "2023-10-19T10:09:40.679+0000"
        ],
        [
         "{'stock_name': 'Bajaj Finance Limited (BAJFINANCE.NS)', 'Indian_Market_Price': 7841.55, 'market_details': [{'marketchange': -25.0, 'marketchangepercent': '-0.32%', 'data_produced_timestamp': 1697710193.57951}]}",
         "2023-10-19T10:09:56.388+0000"
        ],
        [
         "{'stock_name': 'Britannia Industries Limited (BRITANNIA.NS)', 'Indian_Market_Price': 4602.45, 'market_details': [{'marketchange': -5.25, 'marketchangepercent': '-0.11%', 'data_produced_timestamp': 1697710209.5536907}]}",
         "2023-10-19T10:10:12.035+0000"
        ],
        [
         "{'stock_name': 'Asian Paints Limited (ASIANPAINT.NS)', 'Indian_Market_Price': 3101.8, 'market_details': [{'marketchange': 5.35, 'marketchangepercent': '+0.17%', 'data_produced_timestamp': 1697710226.2479568}]}",
         "2023-10-19T10:10:28.664+0000"
        ]
       ],
       "datasetInfos": [],
       "dbfsResultPath": null,
       "isJsonSchema": true,
       "metadata": {},
       "overflow": false,
       "plotOptions": {
        "customPlotOptions": {},
        "displayType": "table",
        "pivotAggregation": null,
        "pivotColumns": null,
        "xColumns": null,
        "yColumns": null
       },
       "removedWidgets": [],
       "schema": [
        {
         "metadata": "{}",
         "name": "value",
         "type": "\"string\""
        },
        {
         "metadata": "{}",
         "name": "confluent_timestamp",
         "type": "\"timestamp\""
        }
       ],
       "type": "table"
      }
     },
     "output_type": "display_data"
    }
   ],
   "source": [
    "API_key=dbutils.widgets.get(\"API_key\")\n",
    "API_secret=dbutils.widgets.get(\"API_secret\")\n",
    "Bootstrap_server=dbutils.widgets.get(\"Bootstrap_server\")\n",
    "\n",
    "checkpointLocation=dbutils.widgets.get(\"checkpointLocation\")\n",
    "\n",
    "targetTable=dbutils.widgets.get(\"targetTable\")\n",
    "\n",
    "targetDatabase=dbutils.widgets.get(\"targetDatabase\")\n",
    "\n",
    "path=f\"{targetDatabase}.{targetTable}\"\n",
    "print(path)\n",
    "\n",
    "jaasConfig=f\"kafkashaded.org.apache.kafka.common.security.plain.PlainLoginModule required username='{API_key}' password='{API_secret}';\"\n",
    "\n",
    "bronze_DF = spark\\\n",
    "  .readStream\\\n",
    "  .format(\"kafka\")\\\n",
    "  .option(\"kafka.bootstrap.servers\", Bootstrap_server) \\\n",
    "  .option(\"kafka.security.protocol\", \"SASL_SSL\")\\\n",
    "  .option(\"kafka.sasl.jaas.config\", jaasConfig)\\\n",
    "  .option(\"kafka.ssl.endpoint.identification.algorithm\", \"https\")\\\n",
    "  .option(\"kafka.sasl.mechanism\", \"PLAIN\")\\\n",
    "  .option(\"startingOffsets\", \"latest\")\\\n",
    "  .option(\"failOnDataLoss\", \"True\")\\\n",
    "  .option(\"subscribe\", \"topic_2\")\\\n",
    "  .load()\\\n",
    "  .selectExpr(\"CAST(value AS STRING)\", \"timestamp\") \\\n",
    "  .withColumnRenamed(\"timestamp\",\"confluent_timestamp\")\n",
    "\n",
    "display(bronze_DF)"
   ]
  },
  {
   "cell_type": "code",
   "execution_count": 0,
   "metadata": {
    "application/vnd.databricks.v1+cell": {
     "cellMetadata": {
      "byteLimit": 2048000,
      "rowLimit": 10000
     },
     "inputWidgets": {},
     "nuid": "b321c8e1-26f2-445c-9db5-163bf2e118da",
     "showTitle": false,
     "title": ""
    }
   },
   "outputs": [
    {
     "output_type": "stream",
     "name": "stdout",
     "output_type": "stream",
     "text": [
      "Out[6]: <pyspark.sql.streaming.query.StreamingQuery at 0x7f98749253a0>"
     ]
    }
   ],
   "source": [
    "bronze_DF.writeStream \\\n",
    "   .format(\"delta\") \\\n",
    "   .outputMode(\"append\") \\\n",
    "   .option(\"checkpointLocation\", checkpointLocation) \\\n",
    "   .toTable(path)"
   ]
  },
  {
   "cell_type": "code",
   "execution_count": 0,
   "metadata": {
    "application/vnd.databricks.v1+cell": {
     "cellMetadata": {
      "byteLimit": 2048000,
      "implicitDf": true,
      "rowLimit": 10000
     },
     "inputWidgets": {},
     "nuid": "cc24d37f-c06d-4834-ae24-b2571d3b4b47",
     "showTitle": false,
     "title": ""
    }
   },
   "outputs": [
    {
     "output_type": "display_data",
     "data": {
      "text/html": [
       "<style scoped>\n",
       "  .table-result-container {\n",
       "    max-height: 300px;\n",
       "    overflow: auto;\n",
       "  }\n",
       "  table, th, td {\n",
       "    border: 1px solid black;\n",
       "    border-collapse: collapse;\n",
       "  }\n",
       "  th, td {\n",
       "    padding: 5px;\n",
       "  }\n",
       "  th {\n",
       "    text-align: left;\n",
       "  }\n",
       "</style><div class='table-result-container'><table class='table-result'><thead style='background-color: white'><tr><th>value</th><th>confluent_timestamp</th></tr></thead><tbody><tr><td>{'stock_name': 'Kotak Mahindra Bank Limited (KOTAKBANK.NS)', 'Indian_Market_Price': 1740.45, 'market_details': [{'marketchange': -12.95, 'marketchangepercent': '-0.74%', 'data_produced_timestamp': 1697707023.2109609}]}</td><td>2023-10-19T09:17:05.334+0000</td></tr><tr><td>{'stock_name': 'Kotak Mahindra Bank Limited (KOTAKBANK.NS)', 'Indian_Market_Price': 1740.05, 'market_details': [{'marketchange': -13.35, 'marketchangepercent': '-0.76%', 'data_produced_timestamp': 1697707211.5050476}]}</td><td>2023-10-19T09:20:13.843+0000</td></tr><tr><td>{'stock_name': 'Tata Consultancy Services Limited (TCS.NS)', 'Indian_Market_Price': 3459.0, 'market_details': [{'marketchange': -28.25, 'marketchangepercent': '-0.81%', 'data_produced_timestamp': 1697707255.172612}]}</td><td>2023-10-19T09:20:57.191+0000</td></tr><tr><td>{'stock_name': 'Britannia Industries Limited (BRITANNIA.NS)', 'Indian_Market_Price': 4604.4, 'market_details': [{'marketchange': -3.3, 'marketchangepercent': '-0.07%', 'data_produced_timestamp': 1697707137.6171887}]}</td><td>2023-10-19T09:19:00.112+0000</td></tr><tr><td>{'stock_name': 'Tata Consultancy Services Limited (TCS.NS)', 'Indian_Market_Price': 3458.05, 'market_details': [{'marketchange': -29.2, 'marketchangepercent': '-0.84%', 'data_produced_timestamp': 1697707083.984741}]}</td><td>2023-10-19T09:18:07.464+0000</td></tr><tr><td>{'stock_name': 'Reliance Industries Limited (RELIANCE.NS)', 'Indian_Market_Price': 2308.05, 'market_details': [{'marketchange': -15.95, 'marketchangepercent': '-0.69%', 'data_produced_timestamp': 1697707241.0606427}]}</td><td>2023-10-19T09:20:43.462+0000</td></tr><tr><td>{'stock_name': 'Reliance Industries Limited (RELIANCE.NS)', 'Indian_Market_Price': 2308.7, 'market_details': [{'marketchange': -15.3, 'marketchangepercent': '-0.66%', 'data_produced_timestamp': 1697707061.5939312}]}</td><td>2023-10-19T09:17:44.119+0000</td></tr><tr><td>{'stock_name': 'Bajaj Finance Limited (BAJFINANCE.NS)', 'Indian_Market_Price': 7866.75, 'market_details': [{'marketchange': 0.2, 'marketchangepercent': '+0.00%', 'data_produced_timestamp': 1697707120.792508}]}</td><td>2023-10-19T09:18:45.152+0000</td></tr><tr><td>{'stock_name': 'Asian Paints Limited (ASIANPAINT.NS)', 'Indian_Market_Price': 3103.0, 'market_details': [{'marketchange': 6.55, 'marketchangepercent': '+0.21%', 'data_produced_timestamp': 1697707151.965053}]}</td><td>2023-10-19T09:19:14.539+0000</td></tr><tr><td>{'stock_name': 'ICICI Bank Limited (ICICIBANK.NS)', 'Indian_Market_Price': 939.15, 'market_details': [{'marketchange': -4.6, 'marketchangepercent': '-0.49%', 'data_produced_timestamp': 1697707042.5861259}]}</td><td>2023-10-19T09:17:26.526+0000</td></tr><tr><td>{'stock_name': 'ICICI Bank Limited (ICICIBANK.NS)', 'Indian_Market_Price': 939.05, 'market_details': [{'marketchange': -4.7, 'marketchangepercent': '-0.50%', 'data_produced_timestamp': 1697707226.6386569}]}</td><td>2023-10-19T09:20:29.189+0000</td></tr><tr><td>{'stock_name': 'Axis Bank Limited (AXISBANK.NS)', 'Indian_Market_Price': 992.05, 'market_details': [{'marketchange': -0.8, 'marketchangepercent': '-0.08%', 'data_produced_timestamp': 1697707101.8228173}]}</td><td>2023-10-19T09:18:24.255+0000</td></tr><tr><td>{'stock_name': 'HDFC Bank Limited (HDFCBANK.NS)', 'Indian_Market_Price': 1518.7, 'market_details': [{'marketchange': -1.05, 'marketchangepercent': '-0.07%', 'data_produced_timestamp': 1697707006.5224614}]}</td><td>2023-10-19T09:16:48.551+0000</td></tr><tr><td>{'stock_name': 'HDFC Bank Limited (HDFCBANK.NS)', 'Indian_Market_Price': 1517.7, 'market_details': [{'marketchange': -2.05, 'marketchangepercent': '-0.13%', 'data_produced_timestamp': 1697707194.539958}]}</td><td>2023-10-19T09:19:57.053+0000</td></tr><tr><td>{'stock_name': 'State Bank of India (SBIN.NS)', 'Indian_Market_Price': 571.05, 'market_details': [{'marketchange': -1.6, 'marketchangepercent': '-0.28%', 'data_produced_timestamp': 1697706987.7238288}]}</td><td>2023-10-19T09:16:29.962+0000</td></tr><tr><td>{'stock_name': 'State Bank of India (SBIN.NS)', 'Indian_Market_Price': 570.85, 'market_details': [{'marketchange': -1.8, 'marketchangepercent': '-0.31%', 'data_produced_timestamp': 1697707167.3754919}]}</td><td>2023-10-19T09:19:30.219+0000</td></tr></tbody></table></div>"
      ]
     },
     "metadata": {
      "application/vnd.databricks.v1+output": {
       "addedWidgets": {},
       "aggData": [],
       "aggError": "",
       "aggOverflow": false,
       "aggSchema": [],
       "aggSeriesLimitReached": false,
       "aggType": "",
       "arguments": {},
       "columnCustomDisplayInfos": {},
       "data": [
        [
         "{'stock_name': 'Kotak Mahindra Bank Limited (KOTAKBANK.NS)', 'Indian_Market_Price': 1740.45, 'market_details': [{'marketchange': -12.95, 'marketchangepercent': '-0.74%', 'data_produced_timestamp': 1697707023.2109609}]}",
         "2023-10-19T09:17:05.334+0000"
        ],
        [
         "{'stock_name': 'Kotak Mahindra Bank Limited (KOTAKBANK.NS)', 'Indian_Market_Price': 1740.05, 'market_details': [{'marketchange': -13.35, 'marketchangepercent': '-0.76%', 'data_produced_timestamp': 1697707211.5050476}]}",
         "2023-10-19T09:20:13.843+0000"
        ],
        [
         "{'stock_name': 'Tata Consultancy Services Limited (TCS.NS)', 'Indian_Market_Price': 3459.0, 'market_details': [{'marketchange': -28.25, 'marketchangepercent': '-0.81%', 'data_produced_timestamp': 1697707255.172612}]}",
         "2023-10-19T09:20:57.191+0000"
        ],
        [
         "{'stock_name': 'Britannia Industries Limited (BRITANNIA.NS)', 'Indian_Market_Price': 4604.4, 'market_details': [{'marketchange': -3.3, 'marketchangepercent': '-0.07%', 'data_produced_timestamp': 1697707137.6171887}]}",
         "2023-10-19T09:19:00.112+0000"
        ],
        [
         "{'stock_name': 'Tata Consultancy Services Limited (TCS.NS)', 'Indian_Market_Price': 3458.05, 'market_details': [{'marketchange': -29.2, 'marketchangepercent': '-0.84%', 'data_produced_timestamp': 1697707083.984741}]}",
         "2023-10-19T09:18:07.464+0000"
        ],
        [
         "{'stock_name': 'Reliance Industries Limited (RELIANCE.NS)', 'Indian_Market_Price': 2308.05, 'market_details': [{'marketchange': -15.95, 'marketchangepercent': '-0.69%', 'data_produced_timestamp': 1697707241.0606427}]}",
         "2023-10-19T09:20:43.462+0000"
        ],
        [
         "{'stock_name': 'Reliance Industries Limited (RELIANCE.NS)', 'Indian_Market_Price': 2308.7, 'market_details': [{'marketchange': -15.3, 'marketchangepercent': '-0.66%', 'data_produced_timestamp': 1697707061.5939312}]}",
         "2023-10-19T09:17:44.119+0000"
        ],
        [
         "{'stock_name': 'Bajaj Finance Limited (BAJFINANCE.NS)', 'Indian_Market_Price': 7866.75, 'market_details': [{'marketchange': 0.2, 'marketchangepercent': '+0.00%', 'data_produced_timestamp': 1697707120.792508}]}",
         "2023-10-19T09:18:45.152+0000"
        ],
        [
         "{'stock_name': 'Asian Paints Limited (ASIANPAINT.NS)', 'Indian_Market_Price': 3103.0, 'market_details': [{'marketchange': 6.55, 'marketchangepercent': '+0.21%', 'data_produced_timestamp': 1697707151.965053}]}",
         "2023-10-19T09:19:14.539+0000"
        ],
        [
         "{'stock_name': 'ICICI Bank Limited (ICICIBANK.NS)', 'Indian_Market_Price': 939.15, 'market_details': [{'marketchange': -4.6, 'marketchangepercent': '-0.49%', 'data_produced_timestamp': 1697707042.5861259}]}",
         "2023-10-19T09:17:26.526+0000"
        ],
        [
         "{'stock_name': 'ICICI Bank Limited (ICICIBANK.NS)', 'Indian_Market_Price': 939.05, 'market_details': [{'marketchange': -4.7, 'marketchangepercent': '-0.50%', 'data_produced_timestamp': 1697707226.6386569}]}",
         "2023-10-19T09:20:29.189+0000"
        ],
        [
         "{'stock_name': 'Axis Bank Limited (AXISBANK.NS)', 'Indian_Market_Price': 992.05, 'market_details': [{'marketchange': -0.8, 'marketchangepercent': '-0.08%', 'data_produced_timestamp': 1697707101.8228173}]}",
         "2023-10-19T09:18:24.255+0000"
        ],
        [
         "{'stock_name': 'HDFC Bank Limited (HDFCBANK.NS)', 'Indian_Market_Price': 1518.7, 'market_details': [{'marketchange': -1.05, 'marketchangepercent': '-0.07%', 'data_produced_timestamp': 1697707006.5224614}]}",
         "2023-10-19T09:16:48.551+0000"
        ],
        [
         "{'stock_name': 'HDFC Bank Limited (HDFCBANK.NS)', 'Indian_Market_Price': 1517.7, 'market_details': [{'marketchange': -2.05, 'marketchangepercent': '-0.13%', 'data_produced_timestamp': 1697707194.539958}]}",
         "2023-10-19T09:19:57.053+0000"
        ],
        [
         "{'stock_name': 'State Bank of India (SBIN.NS)', 'Indian_Market_Price': 571.05, 'market_details': [{'marketchange': -1.6, 'marketchangepercent': '-0.28%', 'data_produced_timestamp': 1697706987.7238288}]}",
         "2023-10-19T09:16:29.962+0000"
        ],
        [
         "{'stock_name': 'State Bank of India (SBIN.NS)', 'Indian_Market_Price': 570.85, 'market_details': [{'marketchange': -1.8, 'marketchangepercent': '-0.31%', 'data_produced_timestamp': 1697707167.3754919}]}",
         "2023-10-19T09:19:30.219+0000"
        ]
       ],
       "datasetInfos": [],
       "dbfsResultPath": null,
       "isJsonSchema": true,
       "metadata": {},
       "overflow": false,
       "plotOptions": {
        "customPlotOptions": {},
        "displayType": "table",
        "pivotAggregation": null,
        "pivotColumns": null,
        "xColumns": null,
        "yColumns": null
       },
       "removedWidgets": [],
       "schema": [
        {
         "metadata": "{}",
         "name": "value",
         "type": "\"string\""
        },
        {
         "metadata": "{}",
         "name": "confluent_timestamp",
         "type": "\"timestamp\""
        }
       ],
       "type": "table"
      }
     },
     "output_type": "display_data"
    }
   ],
   "source": [
    "%sql\n",
    "select *  from default.bronzeindia"
   ]
  },
  {
   "cell_type": "code",
   "execution_count": 0,
   "metadata": {
    "application/vnd.databricks.v1+cell": {
     "cellMetadata": {},
     "inputWidgets": {},
     "nuid": "38040e02-f830-4fda-84b6-6ed47734ae5d",
     "showTitle": false,
     "title": ""
    }
   },
   "outputs": [],
   "source": [
    "API_key : RI52ACTXTRNRHQXO\n",
    "API_secret: XtHfAcgK2b0qN4hdfGqd5Y27i4DqUUdMfwu4feukfNKxChT5FWl6CPFOmk0RujYU\n",
    "Bootstrap_server:pkc-lzvrd.us-west4.gcp.confluent.cloud:9092 \n",
    "checkpointLocation: /dbfs/FileStore/Indian_bronze/Indian_stock\n",
    "target DB: default\n",
    "targetTable : bronzeindia\n"
   ]
  }
 ],
 "metadata": {
  "application/vnd.databricks.v1+notebook": {
   "dashboards": [],
   "language": "python",
   "notebookMetadata": {
    "mostRecentlyExecutedCommandWithImplicitDF": {
     "commandId": 2674184481960905,
     "dataframes": [
      "_sqldf"
     ]
    },
    "pythonIndentUnit": 4
   },
   "notebookName": "INDIAN_STOCK_BRONZE (1)",
   "widgets": {
    "API_key": {
     "currentValue": "RI52ACTXTRNRHQXO",
     "nuid": "b58cd804-028c-475f-9a2a-f32b589a9311",
     "widgetInfo": {
      "widgetType": "text",
      "defaultValue": "API_key",
      "label": null,
      "name": "API_key",
      "options": {
       "widgetType": "text",
       "autoCreated": null,
       "validationRegex": null
      }
     }
    },
    "API_secret": {
     "currentValue": "XtHfAcgK2b0qN4hdfGqd5Y27i4DqUUdMfwu4feukfNKxChT5FWl6CPFOmk0RujYU",
     "nuid": "df1e0799-2b9d-4073-8761-e869af5c71ae",
     "widgetInfo": {
      "widgetType": "text",
      "defaultValue": "API_secret",
      "label": null,
      "name": "API_secret",
      "options": {
       "widgetType": "text",
       "autoCreated": null,
       "validationRegex": null
      }
     }
    },
    "Bootstrap_server": {
     "currentValue": "pkc-lzvrd.us-west4.gcp.confluent.cloud:9092",
     "nuid": "37ae10a0-744d-4d19-af3a-c0b5f4b14a44",
     "widgetInfo": {
      "widgetType": "text",
      "defaultValue": "Bootstrap_server",
      "label": null,
      "name": "Bootstrap_server",
      "options": {
       "widgetType": "text",
       "autoCreated": null,
       "validationRegex": null
      }
     }
    },
    "checkpointLocation": {
     "currentValue": "/dbfs/FileStore/Indian_bronze/Indian_stock",
     "nuid": "f47a23d9-9f2d-4fcd-b82d-08bc3f7589ab",
     "widgetInfo": {
      "widgetType": "text",
      "defaultValue": "checkpointLocation",
      "label": null,
      "name": "checkpointLocation",
      "options": {
       "widgetType": "text",
       "autoCreated": null,
       "validationRegex": null
      }
     }
    },
    "targetDatabase": {
     "currentValue": "default",
     "nuid": "46992a8b-3c84-4188-a0d5-e8a6eb6d64e3",
     "widgetInfo": {
      "widgetType": "dropdown",
      "defaultValue": "default",
      "label": null,
      "name": "targetDatabase",
      "options": {
       "widgetType": "dropdown",
       "autoCreated": null,
       "choices": [
        "default",
        "bronze",
        "silver",
        "gold",
        "bronze1",
        "bronze2"
       ]
      }
     }
    },
    "targetTable": {
     "currentValue": "bronzeindia",
     "nuid": "29966ebf-fdb4-4b77-a474-81197bcf24d2",
     "widgetInfo": {
      "widgetType": "text",
      "defaultValue": "targetTable",
      "label": null,
      "name": "targetTable",
      "options": {
       "widgetType": "text",
       "autoCreated": null,
       "validationRegex": null
      }
     }
    }
   }
  }
 },
 "nbformat": 4,
 "nbformat_minor": 0
}
