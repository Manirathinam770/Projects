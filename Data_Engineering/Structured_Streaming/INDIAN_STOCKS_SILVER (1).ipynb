{
 "cells": [
  {
   "cell_type": "code",
   "execution_count": 0,
   "metadata": {
    "application/vnd.databricks.v1+cell": {
     "cellMetadata": {
      "byteLimit": 2048000,
      "rowLimit": 10000
     },
     "inputWidgets": {},
     "nuid": "c52b3a5b-aa7d-4ac3-8976-f55ff76100bb",
     "showTitle": false,
     "title": ""
    }
   },
   "outputs": [],
   "source": [
    "dbutils.widgets.text(\"sourceTable\", \"sourceTable\")\n",
    "dbutils.widgets.dropdown(\"sourceDatabase\", \"default\", [\"default\",\"bronze\", \"silver\", \"gold\",\"bronze1\",\"bronze2\",\"silver1\",\"silver2\",\"silver3\"])\n",
    "dbutils.widgets.text(\"targetTable\", \"targetTable\")\n",
    "dbutils.widgets.dropdown(\"targetDatabase\", \"default\", [\"default\",\"bronze\", \"silver\", \"gold\",\"bronze1\",\"bronze2\",\"silver1\",\"silver2\",\"silver3\"])\n",
    "dbutils.widgets.text(\"checkpointLocation\", \"checkpointLocation\")"
   ]
  },
  {
   "cell_type": "code",
   "execution_count": 0,
   "metadata": {
    "application/vnd.databricks.v1+cell": {
     "cellMetadata": {
      "byteLimit": 2048000,
      "rowLimit": 10000
     },
     "inputWidgets": {},
     "nuid": "d87e7c30-3de8-49ad-bcb3-74c4b17e3b19",
     "showTitle": false,
     "title": ""
    }
   },
   "outputs": [
    {
     "output_type": "stream",
     "name": "stdout",
     "output_type": "stream",
     "text": [
      "default.bronzeindia\n/dbfs/FileStore/Indian_Silver/Indian_silver_stock\n"
     ]
    }
   ],
   "source": [
    "targetTable=dbutils.widgets.get(\"targetTable\")\n",
    "\n",
    "targetDatabase=dbutils.widgets.get(\"targetDatabase\")\n",
    "\n",
    "target_path=f\"{targetDatabase}.{targetTable}\"\n",
    "\n",
    "sourceTable=dbutils.widgets.get(\"sourceTable\")\n",
    "\n",
    "sourceDatabase=dbutils.widgets.get(\"sourceDatabase\")\n",
    "\n",
    "source_path=f\"{sourceDatabase}.{sourceTable}\"\n",
    "print(source_path)\n",
    "\n",
    "checkpointLocation=dbutils.widgets.get(\"checkpointLocation\")\n",
    "print(checkpointLocation)"
   ]
  },
  {
   "cell_type": "code",
   "execution_count": 0,
   "metadata": {
    "application/vnd.databricks.v1+cell": {
     "cellMetadata": {
      "byteLimit": 2048000,
      "rowLimit": 10000
     },
     "inputWidgets": {},
     "nuid": "82aa5356-923e-4239-bd77-c3b0acb468db",
     "showTitle": false,
     "title": ""
    }
   },
   "outputs": [],
   "source": [
    "bronze_df=spark.readStream.format(\"delta\").table(source_path)"
   ]
  },
  {
   "cell_type": "code",
   "execution_count": 0,
   "metadata": {
    "application/vnd.databricks.v1+cell": {
     "cellMetadata": {
      "byteLimit": 2048000,
      "rowLimit": 10000
     },
     "inputWidgets": {},
     "nuid": "225be323-ac79-4803-b9a4-386dfcd45a42",
     "showTitle": false,
     "title": ""
    }
   },
   "outputs": [
    {
     "output_type": "display_data",
     "data": {
      "text/html": [
       "<style scoped>\n",
       "  .table-result-container {\n",
       "    max-height: 300px;\n",
       "    overflow: auto;\n",
       "  }\n",
       "  table, th, td {\n",
       "    border: 1px solid black;\n",
       "    border-collapse: collapse;\n",
       "  }\n",
       "  th, td {\n",
       "    padding: 5px;\n",
       "  }\n",
       "  th {\n",
       "    text-align: left;\n",
       "  }\n",
       "</style><div class='table-result-container'><table class='table-result'><thead style='background-color: white'><tr><th>Company_Name</th><th>Symbol</th><th>Indian_Market_Price</th><th>Market_Price_Change</th><th>Market_ChangePercent</th><th>confluent_timestamp</th><th>Date</th><th>Time</th></tr></thead><tbody><tr><td>Kotak Mahindra Bank Limited</td><td>KOTAKBANK.NS</td><td>1740.45</td><td>-12.95</td><td>-0.74%</td><td>2023-10-19T09:17:05.334+0000</td><td>2023-10-19</td><td>09:17:05</td></tr><tr><td>Kotak Mahindra Bank Limited</td><td>KOTAKBANK.NS</td><td>1740.05</td><td>-13.35</td><td>-0.76%</td><td>2023-10-19T09:20:13.843+0000</td><td>2023-10-19</td><td>09:20:13</td></tr><tr><td>Britannia Industries Limited</td><td>BRITANNIA.NS</td><td>4600.95</td><td>-6.75</td><td>-0.15%</td><td>2023-10-19T09:21:39.787+0000</td><td>2023-10-19</td><td>09:21:39</td></tr><tr><td>Tata Consultancy Services Limited</td><td>TCS.NS</td><td>3459.0</td><td>-28.25</td><td>-0.81%</td><td>2023-10-19T09:20:57.191+0000</td><td>2023-10-19</td><td>09:20:57</td></tr><tr><td>Britannia Industries Limited</td><td>BRITANNIA.NS</td><td>4604.4</td><td>-3.3</td><td>-0.07%</td><td>2023-10-19T09:19:00.112+0000</td><td>2023-10-19</td><td>09:19:00</td></tr><tr><td>Tata Consultancy Services Limited</td><td>TCS.NS</td><td>3458.05</td><td>-29.2</td><td>-0.84%</td><td>2023-10-19T09:18:07.464+0000</td><td>2023-10-19</td><td>09:18:07</td></tr><tr><td>Reliance Industries Limited</td><td>RELIANCE.NS</td><td>2308.05</td><td>-15.95</td><td>-0.69%</td><td>2023-10-19T09:20:43.462+0000</td><td>2023-10-19</td><td>09:20:43</td></tr><tr><td>Reliance Industries Limited</td><td>RELIANCE.NS</td><td>2305.95</td><td>-18.05</td><td>-0.78%</td><td>2023-10-19T09:23:10.365+0000</td><td>2023-10-19</td><td>09:23:10</td></tr><tr><td>Tata Consultancy Services Limited</td><td>TCS.NS</td><td>3460.65</td><td>-26.6</td><td>-0.76%</td><td>2023-10-19T09:23:23.267+0000</td><td>2023-10-19</td><td>09:23:23</td></tr><tr><td>Kotak Mahindra Bank Limited</td><td>KOTAKBANK.NS</td><td>1738.7</td><td>-14.7</td><td>-0.84%</td><td>2023-10-19T09:22:37.867+0000</td><td>2023-10-19</td><td>09:22:37</td></tr><tr><td>Britannia Industries Limited</td><td>BRITANNIA.NS</td><td>4601.1</td><td>-6.6</td><td>-0.14%</td><td>2023-10-19T09:24:14.366+0000</td><td>2023-10-19</td><td>09:24:14</td></tr><tr><td>Kotak Mahindra Bank Limited</td><td>KOTAKBANK.NS</td><td>1739.6</td><td>-13.8</td><td>-0.79%</td><td>2023-10-19T09:25:20.056+0000</td><td>2023-10-19</td><td>09:25:20</td></tr><tr><td>Reliance Industries Limited</td><td>RELIANCE.NS</td><td>2308.7</td><td>-15.3</td><td>-0.66%</td><td>2023-10-19T09:17:44.119+0000</td><td>2023-10-19</td><td>09:17:44</td></tr><tr><td>Bajaj Finance Limited</td><td>BAJFINANCE.NS</td><td>7867.55</td><td>1.0</td><td>+0.01%</td><td>2023-10-19T09:21:24.518+0000</td><td>2023-10-19</td><td>09:21:24</td></tr><tr><td>Bajaj Finance Limited</td><td>BAJFINANCE.NS</td><td>7866.75</td><td>0.2</td><td>+0.00%</td><td>2023-10-19T09:18:45.152+0000</td><td>2023-10-19</td><td>09:18:45</td></tr><tr><td>Asian Paints Limited</td><td>ASIANPAINT.NS</td><td>3101.65</td><td>5.2</td><td>+0.17%</td><td>2023-10-19T09:24:29.392+0000</td><td>2023-10-19</td><td>09:24:29</td></tr><tr><td>Asian Paints Limited</td><td>ASIANPAINT.NS</td><td>3101.3</td><td>4.85</td><td>+0.16%</td><td>2023-10-19T09:21:54.551+0000</td><td>2023-10-19</td><td>09:21:54</td></tr><tr><td>Bajaj Finance Limited</td><td>BAJFINANCE.NS</td><td>7869.5</td><td>2.95</td><td>+0.04%</td><td>2023-10-19T09:23:55.233+0000</td><td>2023-10-19</td><td>09:23:55</td></tr><tr><td>Asian Paints Limited</td><td>ASIANPAINT.NS</td><td>3103.0</td><td>6.55</td><td>+0.21%</td><td>2023-10-19T09:19:14.539+0000</td><td>2023-10-19</td><td>09:19:14</td></tr><tr><td>Axis Bank Limited</td><td>AXISBANK.NS</td><td>991.4</td><td>-1.45</td><td>-0.15%</td><td>2023-10-19T09:23:40.845+0000</td><td>2023-10-19</td><td>09:23:40</td></tr><tr><td>ICICI Bank Limited</td><td>ICICIBANK.NS</td><td>939.15</td><td>-4.6</td><td>-0.49%</td><td>2023-10-19T09:17:26.526+0000</td><td>2023-10-19</td><td>09:17:26</td></tr><tr><td>ICICI Bank Limited</td><td>ICICIBANK.NS</td><td>939.05</td><td>-4.7</td><td>-0.50%</td><td>2023-10-19T09:20:29.189+0000</td><td>2023-10-19</td><td>09:20:29</td></tr><tr><td>ICICI Bank Limited</td><td>ICICIBANK.NS</td><td>938.35</td><td>-5.4</td><td>-0.57%</td><td>2023-10-19T09:22:53.718+0000</td><td>2023-10-19</td><td>09:22:53</td></tr><tr><td>HDFC Bank Limited</td><td>HDFCBANK.NS</td><td>1516.8</td><td>-2.95</td><td>-0.19%</td><td>2023-10-19T09:25:03.947+0000</td><td>2023-10-19</td><td>09:25:03</td></tr><tr><td>HDFC Bank Limited</td><td>HDFCBANK.NS</td><td>1518.7</td><td>-1.05</td><td>-0.07%</td><td>2023-10-19T09:16:48.551+0000</td><td>2023-10-19</td><td>09:16:48</td></tr><tr><td>Axis Bank Limited</td><td>AXISBANK.NS</td><td>992.05</td><td>-0.8</td><td>-0.08%</td><td>2023-10-19T09:18:24.255+0000</td><td>2023-10-19</td><td>09:18:24</td></tr><tr><td>HDFC Bank Limited</td><td>HDFCBANK.NS</td><td>1517.6</td><td>-2.15</td><td>-0.14%</td><td>2023-10-19T09:22:22.587+0000</td><td>2023-10-19</td><td>09:22:22</td></tr><tr><td>ICICI Bank Limited</td><td>ICICIBANK.NS</td><td>938.8</td><td>-4.95</td><td>-0.52%</td><td>2023-10-19T09:25:39.299+0000</td><td>2023-10-19</td><td>09:25:39</td></tr><tr><td>HDFC Bank Limited</td><td>HDFCBANK.NS</td><td>1517.7</td><td>-2.05</td><td>-0.13%</td><td>2023-10-19T09:19:57.053+0000</td><td>2023-10-19</td><td>09:19:57</td></tr><tr><td>Axis Bank Limited</td><td>AXISBANK.NS</td><td>991.55</td><td>-1.3</td><td>-0.13%</td><td>2023-10-19T09:21:10.333+0000</td><td>2023-10-19</td><td>09:21:10</td></tr><tr><td>State Bank of India</td><td>SBIN.NS</td><td>571.05</td><td>-1.6</td><td>-0.28%</td><td>2023-10-19T09:16:29.962+0000</td><td>2023-10-19</td><td>09:16:29</td></tr><tr><td>State Bank of India</td><td>SBIN.NS</td><td>570.85</td><td>-1.8</td><td>-0.31%</td><td>2023-10-19T09:19:30.219+0000</td><td>2023-10-19</td><td>09:19:30</td></tr><tr><td>State Bank of India</td><td>SBIN.NS</td><td>570.85</td><td>-1.8</td><td>-0.31%</td><td>2023-10-19T09:22:08.157+0000</td><td>2023-10-19</td><td>09:22:08</td></tr><tr><td>State Bank of India</td><td>SBIN.NS</td><td>570.95</td><td>-1.7</td><td>-0.30%</td><td>2023-10-19T09:24:47.628+0000</td><td>2023-10-19</td><td>09:24:47</td></tr><tr><td>Reliance Industries Limited</td><td>RELIANCE.NS</td><td>2307.55</td><td>-16.45</td><td>-0.71%</td><td>2023-10-19T09:25:56.385+0000</td><td>2023-10-19</td><td>09:25:56</td></tr><tr><td>Tata Consultancy Services Limited</td><td>TCS.NS</td><td>3459.95</td><td>-27.3</td><td>-0.78%</td><td>2023-10-19T09:26:13.162+0000</td><td>2023-10-19</td><td>09:26:13</td></tr><tr><td>Axis Bank Limited</td><td>AXISBANK.NS</td><td>991.85</td><td>-1.0</td><td>-0.10%</td><td>2023-10-19T09:26:31.820+0000</td><td>2023-10-19</td><td>09:26:31</td></tr><tr><td>Bajaj Finance Limited</td><td>BAJFINANCE.NS</td><td>7870.4</td><td>3.85</td><td>+0.05%</td><td>2023-10-19T09:26:50.363+0000</td><td>2023-10-19</td><td>09:26:50</td></tr><tr><td>Britannia Industries Limited</td><td>BRITANNIA.NS</td><td>4603.4</td><td>-4.3</td><td>-0.09%</td><td>2023-10-19T09:27:18.517+0000</td><td>2023-10-19</td><td>09:27:18</td></tr><tr><td>Asian Paints Limited</td><td>ASIANPAINT.NS</td><td>3103.55</td><td>7.1</td><td>+0.23%</td><td>2023-10-19T09:27:39.387+0000</td><td>2023-10-19</td><td>09:27:39</td></tr><tr><td>State Bank of India</td><td>SBIN.NS</td><td>571.1</td><td>-1.55</td><td>-0.27%</td><td>2023-10-19T09:27:56.615+0000</td><td>2023-10-19</td><td>09:27:56</td></tr><tr><td>HDFC Bank Limited</td><td>HDFCBANK.NS</td><td>1516.0</td><td>-3.75</td><td>-0.25%</td><td>2023-10-19T09:28:12.242+0000</td><td>2023-10-19</td><td>09:28:12</td></tr><tr><td>Kotak Mahindra Bank Limited</td><td>KOTAKBANK.NS</td><td>1739.3</td><td>-14.1</td><td>-0.80%</td><td>2023-10-19T09:28:27.134+0000</td><td>2023-10-19</td><td>09:28:27</td></tr><tr><td>ICICI Bank Limited</td><td>ICICIBANK.NS</td><td>938.35</td><td>-5.4</td><td>-0.57%</td><td>2023-10-19T09:28:42.120+0000</td><td>2023-10-19</td><td>09:28:42</td></tr><tr><td>Reliance Industries Limited</td><td>RELIANCE.NS</td><td>2307.95</td><td>-16.05</td><td>-0.69%</td><td>2023-10-19T09:28:59.262+0000</td><td>2023-10-19</td><td>09:28:59</td></tr><tr><td>Tata Consultancy Services Limited</td><td>TCS.NS</td><td>3459.4</td><td>-27.85</td><td>-0.80%</td><td>2023-10-19T09:29:14.893+0000</td><td>2023-10-19</td><td>09:29:14</td></tr><tr><td>Axis Bank Limited</td><td>AXISBANK.NS</td><td>992.0</td><td>-0.85</td><td>-0.09%</td><td>2023-10-19T09:29:33.039+0000</td><td>2023-10-19</td><td>09:29:33</td></tr><tr><td>Bajaj Finance Limited</td><td>BAJFINANCE.NS</td><td>7872.05</td><td>5.5</td><td>+0.07%</td><td>2023-10-19T09:29:46.775+0000</td><td>2023-10-19</td><td>09:29:46</td></tr><tr><td>Britannia Industries Limited</td><td>BRITANNIA.NS</td><td>4605.0</td><td>-2.7</td><td>-0.06%</td><td>2023-10-19T09:30:04.074+0000</td><td>2023-10-19</td><td>09:30:04</td></tr><tr><td>Asian Paints Limited</td><td>ASIANPAINT.NS</td><td>3102.5</td><td>6.05</td><td>+0.20%</td><td>2023-10-19T09:30:20.765+0000</td><td>2023-10-19</td><td>09:30:20</td></tr><tr><td>State Bank of India</td><td>SBIN.NS</td><td>571.15</td><td>-1.5</td><td>-0.26%</td><td>2023-10-19T09:30:37.927+0000</td><td>2023-10-19</td><td>09:30:37</td></tr><tr><td>HDFC Bank Limited</td><td>HDFCBANK.NS</td><td>1515.05</td><td>-4.7</td><td>-0.31%</td><td>2023-10-19T09:30:52.224+0000</td><td>2023-10-19</td><td>09:30:52</td></tr><tr><td>Kotak Mahindra Bank Limited</td><td>KOTAKBANK.NS</td><td>1738.0</td><td>-15.4</td><td>-0.88%</td><td>2023-10-19T09:31:09.545+0000</td><td>2023-10-19</td><td>09:31:09</td></tr><tr><td>ICICI Bank Limited</td><td>ICICIBANK.NS</td><td>938.2</td><td>-5.55</td><td>-0.59%</td><td>2023-10-19T09:31:24.537+0000</td><td>2023-10-19</td><td>09:31:24</td></tr><tr><td>Reliance Industries Limited</td><td>RELIANCE.NS</td><td>2309.15</td><td>-14.85</td><td>-0.64%</td><td>2023-10-19T09:31:41.916+0000</td><td>2023-10-19</td><td>09:31:41</td></tr><tr><td>Tata Consultancy Services Limited</td><td>TCS.NS</td><td>3460.15</td><td>-27.1</td><td>-0.78%</td><td>2023-10-19T09:31:59.190+0000</td><td>2023-10-19</td><td>09:31:59</td></tr><tr><td>Axis Bank Limited</td><td>AXISBANK.NS</td><td>991.4</td><td>-1.45</td><td>-0.15%</td><td>2023-10-19T09:32:14.994+0000</td><td>2023-10-19</td><td>09:32:14</td></tr><tr><td>Bajaj Finance Limited</td><td>BAJFINANCE.NS</td><td>7865.25</td><td>-1.3</td><td>-0.02%</td><td>2023-10-19T09:32:30.060+0000</td><td>2023-10-19</td><td>09:32:30</td></tr><tr><td>Britannia Industries Limited</td><td>BRITANNIA.NS</td><td>4602.7</td><td>-5.0</td><td>-0.11%</td><td>2023-10-19T09:32:45.892+0000</td><td>2023-10-19</td><td>09:32:45</td></tr><tr><td>Asian Paints Limited</td><td>ASIANPAINT.NS</td><td>3102.85</td><td>6.4</td><td>+0.21%</td><td>2023-10-19T09:33:02.257+0000</td><td>2023-10-19</td><td>09:33:02</td></tr><tr><td>State Bank of India</td><td>SBIN.NS</td><td>571.1</td><td>-1.55</td><td>-0.27%</td><td>2023-10-19T09:33:17.192+0000</td><td>2023-10-19</td><td>09:33:17</td></tr><tr><td>HDFC Bank Limited</td><td>HDFCBANK.NS</td><td>1516.15</td><td>-3.6</td><td>-0.24%</td><td>2023-10-19T09:33:33.678+0000</td><td>2023-10-19</td><td>09:33:33</td></tr><tr><td>Kotak Mahindra Bank Limited</td><td>KOTAKBANK.NS</td><td>1738.2</td><td>-15.2</td><td>-0.87%</td><td>2023-10-19T09:33:52.519+0000</td><td>2023-10-19</td><td>09:33:52</td></tr><tr><td>ICICI Bank Limited</td><td>ICICIBANK.NS</td><td>937.9</td><td>-5.85</td><td>-0.62%</td><td>2023-10-19T09:34:09.523+0000</td><td>2023-10-19</td><td>09:34:09</td></tr><tr><td>Reliance Industries Limited</td><td>RELIANCE.NS</td><td>2310.25</td><td>-13.75</td><td>-0.59%</td><td>2023-10-19T09:34:24.727+0000</td><td>2023-10-19</td><td>09:34:24</td></tr><tr><td>Tata Consultancy Services Limited</td><td>TCS.NS</td><td>3458.0</td><td>-29.25</td><td>-0.84%</td><td>2023-10-19T09:34:39.466+0000</td><td>2023-10-19</td><td>09:34:39</td></tr><tr><td>Axis Bank Limited</td><td>AXISBANK.NS</td><td>991.4</td><td>-1.45</td><td>-0.15%</td><td>2023-10-19T09:34:52.433+0000</td><td>2023-10-19</td><td>09:34:52</td></tr><tr><td>Britannia Industries Limited</td><td>BRITANNIA.NS</td><td>4598.45</td><td>-9.25</td><td>-0.20%</td><td>2023-10-19T09:35:22.406+0000</td><td>2023-10-19</td><td>09:35:22</td></tr><tr><td>Bajaj Finance Limited</td><td>BAJFINANCE.NS</td><td>7854.6</td><td>-11.95</td><td>-0.15%</td><td>2023-10-19T09:35:07.273+0000</td><td>2023-10-19</td><td>09:35:07</td></tr><tr><td>Asian Paints Limited</td><td>ASIANPAINT.NS</td><td>3102.65</td><td>6.2</td><td>+0.20%</td><td>2023-10-19T09:35:37.517+0000</td><td>2023-10-19</td><td>09:35:37</td></tr><tr><td>HDFC Bank Limited</td><td>HDFCBANK.NS</td><td>1516.25</td><td>-3.5</td><td>-0.23%</td><td>2023-10-19T09:36:06.269+0000</td><td>2023-10-19</td><td>09:36:06</td></tr><tr><td>State Bank of India</td><td>SBIN.NS</td><td>572.05</td><td>-0.6</td><td>-0.10%</td><td>2023-10-19T09:35:53.096+0000</td><td>2023-10-19</td><td>09:35:53</td></tr><tr><td>Kotak Mahindra Bank Limited</td><td>KOTAKBANK.NS</td><td>1740.35</td><td>-13.05</td><td>-0.74%</td><td>2023-10-19T09:36:22.572+0000</td><td>2023-10-19</td><td>09:36:22</td></tr><tr><td>ICICI Bank Limited</td><td>ICICIBANK.NS</td><td>937.85</td><td>-5.9</td><td>-0.63%</td><td>2023-10-19T09:36:38.259+0000</td><td>2023-10-19</td><td>09:36:38</td></tr><tr><td>Reliance Industries Limited</td><td>RELIANCE.NS</td><td>2309.35</td><td>-14.65</td><td>-0.63%</td><td>2023-10-19T09:36:54.537+0000</td><td>2023-10-19</td><td>09:36:54</td></tr><tr><td>Tata Consultancy Services Limited</td><td>TCS.NS</td><td>3457.0</td><td>-30.25</td><td>-0.87%</td><td>2023-10-19T09:37:08.217+0000</td><td>2023-10-19</td><td>09:37:08</td></tr><tr><td>Axis Bank Limited</td><td>AXISBANK.NS</td><td>992.1</td><td>-0.75</td><td>-0.08%</td><td>2023-10-19T09:37:23.358+0000</td><td>2023-10-19</td><td>09:37:23</td></tr><tr><td>Britannia Industries Limited</td><td>BRITANNIA.NS</td><td>4600.25</td><td>-7.45</td><td>-0.16%</td><td>2023-10-19T09:37:55.439+0000</td><td>2023-10-19</td><td>09:37:55</td></tr><tr><td>Bajaj Finance Limited</td><td>BAJFINANCE.NS</td><td>7860.55</td><td>-6.0</td><td>-0.08%</td><td>2023-10-19T09:37:40.039+0000</td><td>2023-10-19</td><td>09:37:40</td></tr><tr><td>Asian Paints Limited</td><td>ASIANPAINT.NS</td><td>3103.0</td><td>6.55</td><td>+0.21%</td><td>2023-10-19T09:38:11.179+0000</td><td>2023-10-19</td><td>09:38:11</td></tr><tr><td>State Bank of India</td><td>SBIN.NS</td><td>571.75</td><td>-0.9</td><td>-0.16%</td><td>2023-10-19T09:38:28.451+0000</td><td>2023-10-19</td><td>09:38:28</td></tr><tr><td>HDFC Bank Limited</td><td>HDFCBANK.NS</td><td>1515.2</td><td>-4.55</td><td>-0.30%</td><td>2023-10-19T09:38:42.892+0000</td><td>2023-10-19</td><td>09:38:42</td></tr><tr><td>Kotak Mahindra Bank Limited</td><td>KOTAKBANK.NS</td><td>1738.8</td><td>-14.6</td><td>-0.83%</td><td>2023-10-19T09:38:58.531+0000</td><td>2023-10-19</td><td>09:38:58</td></tr><tr><td>Reliance Industries Limited</td><td>RELIANCE.NS</td><td>2309.0</td><td>-15.0</td><td>-0.65%</td><td>2023-10-19T09:39:32.128+0000</td><td>2023-10-19</td><td>09:39:32</td></tr><tr><td>ICICI Bank Limited</td><td>ICICIBANK.NS</td><td>935.55</td><td>-8.2</td><td>-0.87%</td><td>2023-10-19T09:39:16.229+0000</td><td>2023-10-19</td><td>09:39:16</td></tr><tr><td>Tata Consultancy Services Limited</td><td>TCS.NS</td><td>3456.8</td><td>-30.45</td><td>-0.87%</td><td>2023-10-19T09:39:47.757+0000</td><td>2023-10-19</td><td>09:39:47</td></tr><tr><td>Bajaj Finance Limited</td><td>BAJFINANCE.NS</td><td>7842.05</td><td>-24.5</td><td>-0.31%</td><td>2023-10-19T09:40:22.553+0000</td><td>2023-10-19</td><td>09:40:22</td></tr><tr><td>Axis Bank Limited</td><td>AXISBANK.NS</td><td>991.8</td><td>-1.05</td><td>-0.11%</td><td>2023-10-19T09:40:04.656+0000</td><td>2023-10-19</td><td>09:40:04</td></tr><tr><td>Britannia Industries Limited</td><td>BRITANNIA.NS</td><td>4600.05</td><td>-7.65</td><td>-0.17%</td><td>2023-10-19T09:40:37.979+0000</td><td>2023-10-19</td><td>09:40:37</td></tr><tr><td>Asian Paints Limited</td><td>ASIANPAINT.NS</td><td>3101.7</td><td>5.25</td><td>+0.17%</td><td>2023-10-19T09:40:55.215+0000</td><td>2023-10-19</td><td>09:40:55</td></tr><tr><td>State Bank of India</td><td>SBIN.NS</td><td>571.3</td><td>-1.35</td><td>-0.24%</td><td>2023-10-19T09:41:08.874+0000</td><td>2023-10-19</td><td>09:41:08</td></tr><tr><td>HDFC Bank Limited</td><td>HDFCBANK.NS</td><td>1515.05</td><td>-4.7</td><td>-0.31%</td><td>2023-10-19T09:41:25.603+0000</td><td>2023-10-19</td><td>09:41:25</td></tr><tr><td>Kotak Mahindra Bank Limited</td><td>KOTAKBANK.NS</td><td>1737.85</td><td>-15.55</td><td>-0.89%</td><td>2023-10-19T09:41:40.267+0000</td><td>2023-10-19</td><td>09:41:40</td></tr><tr><td>Tata Consultancy Services Limited</td><td>TCS.NS</td><td>3456.35</td><td>-30.9</td><td>-0.89%</td><td>2023-10-19T09:42:23.705+0000</td><td>2023-10-19</td><td>09:42:23</td></tr><tr><td>Reliance Industries Limited</td><td>RELIANCE.NS</td><td>2306.3</td><td>-17.7</td><td>-0.76%</td><td>2023-10-19T09:42:10.091+0000</td><td>2023-10-19</td><td>09:42:10</td></tr><tr><td>ICICI Bank Limited</td><td>ICICIBANK.NS</td><td>936.1</td><td>-7.65</td><td>-0.81%</td><td>2023-10-19T09:41:54.354+0000</td><td>2023-10-19</td><td>09:41:54</td></tr><tr><td>Axis Bank Limited</td><td>AXISBANK.NS</td><td>991.65</td><td>-1.2</td><td>-0.12%</td><td>2023-10-19T09:42:37.865+0000</td><td>2023-10-19</td><td>09:42:37</td></tr><tr><td>Britannia Industries Limited</td><td>BRITANNIA.NS</td><td>4600.0</td><td>-7.7</td><td>-0.17%</td><td>2023-10-19T09:43:04.418+0000</td><td>2023-10-19</td><td>09:43:04</td></tr><tr><td>Bajaj Finance Limited</td><td>BAJFINANCE.NS</td><td>7840.85</td><td>-25.7</td><td>-0.33%</td><td>2023-10-19T09:42:51.385+0000</td><td>2023-10-19</td><td>09:42:51</td></tr><tr><td>Asian Paints Limited</td><td>ASIANPAINT.NS</td><td>3102.55</td><td>6.1</td><td>+0.20%</td><td>2023-10-19T09:43:17.921+0000</td><td>2023-10-19</td><td>09:43:17</td></tr><tr><td>State Bank of India</td><td>SBIN.NS</td><td>570.95</td><td>-1.7</td><td>-0.30%</td><td>2023-10-19T09:43:31.492+0000</td><td>2023-10-19</td><td>09:43:31</td></tr><tr><td>HDFC Bank Limited</td><td>HDFCBANK.NS</td><td>1515.0</td><td>-4.75</td><td>-0.31%</td><td>2023-10-19T09:43:46.985+0000</td><td>2023-10-19</td><td>09:43:46</td></tr><tr><td>Kotak Mahindra Bank Limited</td><td>KOTAKBANK.NS</td><td>1737.75</td><td>-15.65</td><td>-0.89%</td><td>2023-10-19T09:44:01.875+0000</td><td>2023-10-19</td><td>09:44:01</td></tr><tr><td>ICICI Bank Limited</td><td>ICICIBANK.NS</td><td>935.05</td><td>-8.7</td><td>-0.92%</td><td>2023-10-19T09:44:16.876+0000</td><td>2023-10-19</td><td>09:44:16</td></tr><tr><td>Reliance Industries Limited</td><td>RELIANCE.NS</td><td>2305.35</td><td>-18.65</td><td>-0.80%</td><td>2023-10-19T09:44:32.560+0000</td><td>2023-10-19</td><td>09:44:32</td></tr><tr><td>Tata Consultancy Services Limited</td><td>TCS.NS</td><td>3456.0</td><td>-31.25</td><td>-0.90%</td><td>2023-10-19T09:44:48.634+0000</td><td>2023-10-19</td><td>09:44:48</td></tr><tr><td>Bajaj Finance Limited</td><td>BAJFINANCE.NS</td><td>7838.25</td><td>-28.3</td><td>-0.36%</td><td>2023-10-19T09:45:20.843+0000</td><td>2023-10-19</td><td>09:45:20</td></tr><tr><td>Axis Bank Limited</td><td>AXISBANK.NS</td><td>991.35</td><td>-1.5</td><td>-0.15%</td><td>2023-10-19T09:45:04.443+0000</td><td>2023-10-19</td><td>09:45:04</td></tr><tr><td>Britannia Industries Limited</td><td>BRITANNIA.NS</td><td>4599.35</td><td>-8.35</td><td>-0.18%</td><td>2023-10-19T09:45:37.122+0000</td><td>2023-10-19</td><td>09:45:37</td></tr><tr><td>HDFC Bank Limited</td><td>HDFCBANK.NS</td><td>1515.2</td><td>-4.55</td><td>-0.30%</td><td>2023-10-19T09:46:22.987+0000</td><td>2023-10-19</td><td>09:46:22</td></tr><tr><td>Asian Paints Limited</td><td>ASIANPAINT.NS</td><td>3102.05</td><td>5.6</td><td>+0.18%</td><td>2023-10-19T09:45:51.801+0000</td><td>2023-10-19</td><td>09:45:51</td></tr><tr><td>State Bank of India</td><td>SBIN.NS</td><td>571.15</td><td>-1.5</td><td>-0.26%</td><td>2023-10-19T09:46:07.624+0000</td><td>2023-10-19</td><td>09:46:07</td></tr><tr><td>Kotak Mahindra Bank Limited</td><td>KOTAKBANK.NS</td><td>1736.35</td><td>-17.05</td><td>-0.97%</td><td>2023-10-19T09:46:39.672+0000</td><td>2023-10-19</td><td>09:46:39</td></tr><tr><td>ICICI Bank Limited</td><td>ICICIBANK.NS</td><td>934.75</td><td>-9.0</td><td>-0.95%</td><td>2023-10-19T09:46:56.122+0000</td><td>2023-10-19</td><td>09:46:56</td></tr><tr><td>Tata Consultancy Services Limited</td><td>TCS.NS</td><td>3455.0</td><td>-32.25</td><td>-0.92%</td><td>2023-10-19T09:47:30.570+0000</td><td>2023-10-19</td><td>09:47:30</td></tr><tr><td>Reliance Industries Limited</td><td>RELIANCE.NS</td><td>2306.85</td><td>-17.15</td><td>-0.74%</td><td>2023-10-19T09:47:13.939+0000</td><td>2023-10-19</td><td>09:47:13</td></tr><tr><td>Axis Bank Limited</td><td>AXISBANK.NS</td><td>991.05</td><td>-1.8</td><td>-0.18%</td><td>2023-10-19T09:47:46.303+0000</td><td>2023-10-19</td><td>09:47:46</td></tr><tr><td>Bajaj Finance Limited</td><td>BAJFINANCE.NS</td><td>7829.5</td><td>-37.05</td><td>-0.47%</td><td>2023-10-19T09:48:24.774+0000</td><td>2023-10-19</td><td>09:48:24</td></tr><tr><td>Britannia Industries Limited</td><td>BRITANNIA.NS</td><td>4603.85</td><td>-3.85</td><td>-0.08%</td><td>2023-10-19T09:48:52.118+0000</td><td>2023-10-19</td><td>09:48:52</td></tr><tr><td>Asian Paints Limited</td><td>ASIANPAINT.NS</td><td>3100.8</td><td>4.35</td><td>+0.14%</td><td>2023-10-19T09:49:10.105+0000</td><td>2023-10-19</td><td>09:49:10</td></tr><tr><td>State Bank of India</td><td>SBIN.NS</td><td>571.1</td><td>-1.55</td><td>-0.27%</td><td>2023-10-19T09:49:25.259+0000</td><td>2023-10-19</td><td>09:49:25</td></tr><tr><td>Kotak Mahindra Bank Limited</td><td>KOTAKBANK.NS</td><td>1737.9</td><td>-15.5</td><td>-0.88%</td><td>2023-10-19T09:50:03.487+0000</td><td>2023-10-19</td><td>09:50:03</td></tr><tr><td>HDFC Bank Limited</td><td>HDFCBANK.NS</td><td>1515.05</td><td>-4.7</td><td>-0.31%</td><td>2023-10-19T09:49:45.892+0000</td><td>2023-10-19</td><td>09:49:45</td></tr><tr><td>Tata Consultancy Services Limited</td><td>TCS.NS</td><td>3455.0</td><td>-32.25</td><td>-0.92%</td><td>2023-10-19T09:50:48.861+0000</td><td>2023-10-19</td><td>09:50:48</td></tr><tr><td>Reliance Industries Limited</td><td>RELIANCE.NS</td><td>2305.05</td><td>-18.95</td><td>-0.82%</td><td>2023-10-19T09:50:35.189+0000</td><td>2023-10-19</td><td>09:50:35</td></tr><tr><td>ICICI Bank Limited</td><td>ICICIBANK.NS</td><td>934.9</td><td>-8.85</td><td>-0.94%</td><td>2023-10-19T09:50:18.807+0000</td><td>2023-10-19</td><td>09:50:18</td></tr><tr><td>Axis Bank Limited</td><td>AXISBANK.NS</td><td>991.05</td><td>-1.8</td><td>-0.18%</td><td>2023-10-19T09:51:04.755+0000</td><td>2023-10-19</td><td>09:51:04</td></tr><tr><td>Britannia Industries Limited</td><td>BRITANNIA.NS</td><td>4603.1</td><td>-4.6</td><td>-0.10%</td><td>2023-10-19T09:51:34.245+0000</td><td>2023-10-19</td><td>09:51:34</td></tr><tr><td>Bajaj Finance Limited</td><td>BAJFINANCE.NS</td><td>7829.7</td><td>-36.85</td><td>-0.47%</td><td>2023-10-19T09:51:20.274+0000</td><td>2023-10-19</td><td>09:51:20</td></tr><tr><td>Asian Paints Limited</td><td>ASIANPAINT.NS</td><td>3101.7</td><td>5.25</td><td>+0.17%</td><td>2023-10-19T09:51:49.576+0000</td><td>2023-10-19</td><td>09:51:49</td></tr><tr><td>State Bank of India</td><td>SBIN.NS</td><td>571.1</td><td>-1.55</td><td>-0.27%</td><td>2023-10-19T09:52:03.808+0000</td><td>2023-10-19</td><td>09:52:03</td></tr><tr><td>HDFC Bank Limited</td><td>HDFCBANK.NS</td><td>1513.45</td><td>-6.3</td><td>-0.41%</td><td>2023-10-19T09:52:17.673+0000</td><td>2023-10-19</td><td>09:52:17</td></tr><tr><td>Kotak Mahindra Bank Limited</td><td>KOTAKBANK.NS</td><td>1740.1</td><td>-13.3</td><td>-0.76%</td><td>2023-10-19T09:52:32.668+0000</td><td>2023-10-19</td><td>09:52:32</td></tr><tr><td>ICICI Bank Limited</td><td>ICICIBANK.NS</td><td>934.6</td><td>-9.15</td><td>-0.97%</td><td>2023-10-19T09:52:46.812+0000</td><td>2023-10-19</td><td>09:52:46</td></tr><tr><td>Reliance Industries Limited</td><td>RELIANCE.NS</td><td>2303.35</td><td>-20.65</td><td>-0.89%</td><td>2023-10-19T09:53:02.564+0000</td><td>2023-10-19</td><td>09:53:02</td></tr><tr><td>Tata Consultancy Services Limited</td><td>TCS.NS</td><td>3454.1</td><td>-33.15</td><td>-0.95%</td><td>2023-10-19T09:53:18.288+0000</td><td>2023-10-19</td><td>09:53:18</td></tr><tr><td>Axis Bank Limited</td><td>AXISBANK.NS</td><td>991.15</td><td>-1.7</td><td>-0.17%</td><td>2023-10-19T09:53:33.836+0000</td><td>2023-10-19</td><td>09:53:33</td></tr><tr><td>Bajaj Finance Limited</td><td>BAJFINANCE.NS</td><td>7824.9</td><td>-41.65</td><td>-0.53%</td><td>2023-10-19T09:53:48.680+0000</td><td>2023-10-19</td><td>09:53:48</td></tr><tr><td>Britannia Industries Limited</td><td>BRITANNIA.NS</td><td>4609.15</td><td>1.45</td><td>+0.03%</td><td>2023-10-19T09:54:04.864+0000</td><td>2023-10-19</td><td>09:54:04</td></tr><tr><td>Asian Paints Limited</td><td>ASIANPAINT.NS</td><td>3100.45</td><td>4.0</td><td>+0.13%</td><td>2023-10-19T09:54:25.887+0000</td><td>2023-10-19</td><td>09:54:25</td></tr><tr><td>State Bank of India</td><td>SBIN.NS</td><td>571.0</td><td>-1.65</td><td>-0.29%</td><td>2023-10-19T09:54:43.547+0000</td><td>2023-10-19</td><td>09:54:43</td></tr><tr><td>Kotak Mahindra Bank Limited</td><td>KOTAKBANK.NS</td><td>1739.9</td><td>-13.5</td><td>-0.77%</td><td>2023-10-19T09:55:24.584+0000</td><td>2023-10-19</td><td>09:55:24</td></tr><tr><td>HDFC Bank Limited</td><td>HDFCBANK.NS</td><td>1513.8</td><td>-5.95</td><td>-0.39%</td><td>2023-10-19T09:55:06.862+0000</td><td>2023-10-19</td><td>09:55:06</td></tr><tr><td>ICICI Bank Limited</td><td>ICICIBANK.NS</td><td>934.85</td><td>-8.9</td><td>-0.94%</td><td>2023-10-19T09:55:43.349+0000</td><td>2023-10-19</td><td>09:55:43</td></tr><tr><td>Tata Consultancy Services Limited</td><td>TCS.NS</td><td>3452.75</td><td>-34.5</td><td>-0.99%</td><td>2023-10-19T09:56:15.356+0000</td><td>2023-10-19</td><td>09:56:15</td></tr><tr><td>Reliance Industries Limited</td><td>RELIANCE.NS</td><td>2303.4</td><td>-20.6</td><td>-0.89%</td><td>2023-10-19T09:56:00.191+0000</td><td>2023-10-19</td><td>09:56:00</td></tr><tr><td>Axis Bank Limited</td><td>AXISBANK.NS</td><td>990.95</td><td>-1.9</td><td>-0.19%</td><td>2023-10-19T09:56:29.364+0000</td><td>2023-10-19</td><td>09:56:29</td></tr><tr><td>Britannia Industries Limited</td><td>BRITANNIA.NS</td><td>4607.25</td><td>-0.45</td><td>-0.01%</td><td>2023-10-19T09:56:56.549+0000</td><td>2023-10-19</td><td>09:56:56</td></tr><tr><td>Bajaj Finance Limited</td><td>BAJFINANCE.NS</td><td>7820.8</td><td>-45.75</td><td>-0.58%</td><td>2023-10-19T09:56:42.679+0000</td><td>2023-10-19</td><td>09:56:42</td></tr><tr><td>Asian Paints Limited</td><td>ASIANPAINT.NS</td><td>3099.25</td><td>2.8</td><td>+0.09%</td><td>2023-10-19T09:57:10.572+0000</td><td>2023-10-19</td><td>09:57:10</td></tr><tr><td>State Bank of India</td><td>SBIN.NS</td><td>571.2</td><td>-1.45</td><td>-0.25%</td><td>2023-10-19T09:57:25.437+0000</td><td>2023-10-19</td><td>09:57:25</td></tr><tr><td>HDFC Bank Limited</td><td>HDFCBANK.NS</td><td>1514.3</td><td>-5.45</td><td>-0.36%</td><td>2023-10-19T09:57:40.181+0000</td><td>2023-10-19</td><td>09:57:40</td></tr><tr><td>Kotak Mahindra Bank Limited</td><td>KOTAKBANK.NS</td><td>1737.0</td><td>-16.4</td><td>-0.94%</td><td>2023-10-19T09:57:56.871+0000</td><td>2023-10-19</td><td>09:57:56</td></tr><tr><td>Reliance Industries Limited</td><td>RELIANCE.NS</td><td>2302.0</td><td>-22.0</td><td>-0.95%</td><td>2023-10-19T09:58:27.585+0000</td><td>2023-10-19</td><td>09:58:27</td></tr><tr><td>ICICI Bank Limited</td><td>ICICIBANK.NS</td><td>934.85</td><td>-8.9</td><td>-0.94%</td><td>2023-10-19T09:58:10.597+0000</td><td>2023-10-19</td><td>09:58:10</td></tr><tr><td>Tata Consultancy Services Limited</td><td>TCS.NS</td><td>3453.9</td><td>-33.35</td><td>-0.96%</td><td>2023-10-19T09:58:44.484+0000</td><td>2023-10-19</td><td>09:58:44</td></tr><tr><td>Axis Bank Limited</td><td>AXISBANK.NS</td><td>990.95</td><td>-1.9</td><td>-0.19%</td><td>2023-10-19T09:58:59.622+0000</td><td>2023-10-19</td><td>09:58:59</td></tr><tr><td>Kotak Mahindra Bank Limited</td><td>KOTAKBANK.NS</td><td>1738.65</td><td>-14.75</td><td>-0.84%</td><td>2023-10-19T10:00:24.682+0000</td><td>2023-10-19</td><td>10:00:24</td></tr><tr><td>State Bank of India</td><td>SBIN.NS</td><td>571.3</td><td>-1.35</td><td>-0.24%</td><td>2023-10-19T09:59:55.450+0000</td><td>2023-10-19</td><td>09:59:55</td></tr><tr><td>Britannia Industries Limited</td><td>BRITANNIA.NS</td><td>4607.0</td><td>-0.7</td><td>-0.02%</td><td>2023-10-19T09:59:29.656+0000</td><td>2023-10-19</td><td>09:59:29</td></tr><tr><td>Asian Paints Limited</td><td>ASIANPAINT.NS</td><td>3101.0</td><td>4.55</td><td>+0.15%</td><td>2023-10-19T09:59:42.876+0000</td><td>2023-10-19</td><td>09:59:42</td></tr><tr><td>Bajaj Finance Limited</td><td>BAJFINANCE.NS</td><td>7818.1</td><td>-48.45</td><td>-0.62%</td><td>2023-10-19T09:59:15.227+0000</td><td>2023-10-19</td><td>09:59:15</td></tr><tr><td>HDFC Bank Limited</td><td>HDFCBANK.NS</td><td>1514.5</td><td>-5.25</td><td>-0.35%</td><td>2023-10-19T10:00:08.871+0000</td><td>2023-10-19</td><td>10:00:08</td></tr><tr><td>Reliance Industries Limited</td><td>RELIANCE.NS</td><td>2304.65</td><td>-19.35</td><td>-0.83%</td><td>2023-10-19T10:00:53.092+0000</td><td>2023-10-19</td><td>10:00:53</td></tr><tr><td>ICICI Bank Limited</td><td>ICICIBANK.NS</td><td>934.85</td><td>-8.9</td><td>-0.94%</td><td>2023-10-19T10:00:38.547+0000</td><td>2023-10-19</td><td>10:00:38</td></tr><tr><td>Tata Consultancy Services Limited</td><td>TCS.NS</td><td>3454.8</td><td>-32.45</td><td>-0.93%</td><td>2023-10-19T10:01:07.671+0000</td><td>2023-10-19</td><td>10:01:07</td></tr><tr><td>Axis Bank Limited</td><td>AXISBANK.NS</td><td>993.15</td><td>0.3</td><td>+0.03%</td><td>2023-10-19T10:01:23.241+0000</td><td>2023-10-19</td><td>10:01:23</td></tr><tr><td>Britannia Industries Limited</td><td>BRITANNIA.NS</td><td>4608.0</td><td>0.3</td><td>+0.01%</td><td>2023-10-19T10:01:54.460+0000</td><td>2023-10-19</td><td>10:01:54</td></tr><tr><td>Bajaj Finance Limited</td><td>BAJFINANCE.NS</td><td>7822.4</td><td>-44.15</td><td>-0.56%</td><td>2023-10-19T10:01:37.076+0000</td><td>2023-10-19</td><td>10:01:37</td></tr><tr><td>Asian Paints Limited</td><td>ASIANPAINT.NS</td><td>3101.0</td><td>4.55</td><td>+0.15%</td><td>2023-10-19T10:02:10.354+0000</td><td>2023-10-19</td><td>10:02:10</td></tr><tr><td>State Bank of India</td><td>SBIN.NS</td><td>571.2</td><td>-1.45</td><td>-0.25%</td><td>2023-10-19T10:02:25.584+0000</td><td>2023-10-19</td><td>10:02:25</td></tr><tr><td>HDFC Bank Limited</td><td>HDFCBANK.NS</td><td>1514.95</td><td>-4.8</td><td>-0.32%</td><td>2023-10-19T10:02:41.738+0000</td><td>2023-10-19</td><td>10:02:41</td></tr><tr><td>Kotak Mahindra Bank Limited</td><td>KOTAKBANK.NS</td><td>1738.45</td><td>-14.95</td><td>-0.85%</td><td>2023-10-19T10:02:58.378+0000</td><td>2023-10-19</td><td>10:02:58</td></tr><tr><td>Reliance Industries Limited</td><td>RELIANCE.NS</td><td>2306.15</td><td>-17.85</td><td>-0.77%</td><td>2023-10-19T10:03:28.699+0000</td><td>2023-10-19</td><td>10:03:28</td></tr><tr><td>ICICI Bank Limited</td><td>ICICIBANK.NS</td><td>935.75</td><td>-8.0</td><td>-0.85%</td><td>2023-10-19T10:03:13.288+0000</td><td>2023-10-19</td><td>10:03:13</td></tr><tr><td>Tata Consultancy Services Limited</td><td>TCS.NS</td><td>3455.65</td><td>-31.6</td><td>-0.91%</td><td>2023-10-19T10:03:45.011+0000</td><td>2023-10-19</td><td>10:03:45</td></tr><tr><td>Bajaj Finance Limited</td><td>BAJFINANCE.NS</td><td>7841.55</td><td>-25.0</td><td>-0.32%</td><td>2023-10-19T10:04:20.436+0000</td><td>2023-10-19</td><td>10:04:20</td></tr><tr><td>Axis Bank Limited</td><td>AXISBANK.NS</td><td>991.4</td><td>-1.45</td><td>-0.15%</td><td>2023-10-19T10:04:01.223+0000</td><td>2023-10-19</td><td>10:04:01</td></tr><tr><td>Britannia Industries Limited</td><td>BRITANNIA.NS</td><td>4602.45</td><td>-5.25</td><td>-0.11%</td><td>2023-10-19T10:04:37.088+0000</td><td>2023-10-19</td><td>10:04:37</td></tr><tr><td>Asian Paints Limited</td><td>ASIANPAINT.NS</td><td>3101.8</td><td>5.35</td><td>+0.17%</td><td>2023-10-19T10:04:56.263+0000</td><td>2023-10-19</td><td>10:04:56</td></tr><tr><td>HDFC Bank Limited</td><td>HDFCBANK.NS</td><td>1514.95</td><td>-4.8</td><td>-0.32%</td><td>2023-10-19T10:05:24.662+0000</td><td>2023-10-19</td><td>10:05:24</td></tr><tr><td>State Bank of India</td><td>SBIN.NS</td><td>571.2</td><td>-1.45</td><td>-0.25%</td><td>2023-10-19T10:05:11.000+0000</td><td>2023-10-19</td><td>10:05:11</td></tr><tr><td>Kotak Mahindra Bank Limited</td><td>KOTAKBANK.NS</td><td>1738.45</td><td>-14.95</td><td>-0.85%</td><td>2023-10-19T10:05:41.882+0000</td><td>2023-10-19</td><td>10:05:41</td></tr><tr><td>Reliance Industries Limited</td><td>RELIANCE.NS</td><td>2306.15</td><td>-17.85</td><td>-0.77%</td><td>2023-10-19T10:06:14.857+0000</td><td>2023-10-19</td><td>10:06:14</td></tr><tr><td>ICICI Bank Limited</td><td>ICICIBANK.NS</td><td>935.75</td><td>-8.0</td><td>-0.85%</td><td>2023-10-19T10:05:58.442+0000</td><td>2023-10-19</td><td>10:05:58</td></tr><tr><td>Tata Consultancy Services Limited</td><td>TCS.NS</td><td>3455.65</td><td>-31.6</td><td>-0.91%</td><td>2023-10-19T10:06:31.885+0000</td><td>2023-10-19</td><td>10:06:31</td></tr><tr><td>Axis Bank Limited</td><td>AXISBANK.NS</td><td>991.4</td><td>-1.45</td><td>-0.15%</td><td>2023-10-19T10:06:50.158+0000</td><td>2023-10-19</td><td>10:06:50</td></tr><tr><td>Britannia Industries Limited</td><td>BRITANNIA.NS</td><td>4602.45</td><td>-5.25</td><td>-0.11%</td><td>2023-10-19T10:07:22.855+0000</td><td>2023-10-19</td><td>10:07:22</td></tr><tr><td>Bajaj Finance Limited</td><td>BAJFINANCE.NS</td><td>7841.55</td><td>-25.0</td><td>-0.32%</td><td>2023-10-19T10:07:06.387+0000</td><td>2023-10-19</td><td>10:07:06</td></tr><tr><td>Asian Paints Limited</td><td>ASIANPAINT.NS</td><td>3101.8</td><td>5.35</td><td>+0.17%</td><td>2023-10-19T10:07:37.904+0000</td><td>2023-10-19</td><td>10:07:37</td></tr><tr><td>State Bank of India</td><td>SBIN.NS</td><td>571.2</td><td>-1.45</td><td>-0.25%</td><td>2023-10-19T10:07:54.766+0000</td><td>2023-10-19</td><td>10:07:54</td></tr><tr><td>HDFC Bank Limited</td><td>HDFCBANK.NS</td><td>1514.95</td><td>-4.8</td><td>-0.32%</td><td>2023-10-19T10:08:10.999+0000</td><td>2023-10-19</td><td>10:08:10</td></tr><tr><td>Kotak Mahindra Bank Limited</td><td>KOTAKBANK.NS</td><td>1738.45</td><td>-14.95</td><td>-0.85%</td><td>2023-10-19T10:08:29.588+0000</td><td>2023-10-19</td><td>10:08:29</td></tr><tr><td>ICICI Bank Limited</td><td>ICICIBANK.NS</td><td>935.75</td><td>-8.0</td><td>-0.85%</td><td>2023-10-19T10:08:51.931+0000</td><td>2023-10-19</td><td>10:08:51</td></tr><tr><td>Tata Consultancy Services Limited</td><td>TCS.NS</td><td>3455.65</td><td>-31.6</td><td>-0.91%</td><td>2023-10-19T10:09:25.094+0000</td><td>2023-10-19</td><td>10:09:25</td></tr><tr><td>Reliance Industries Limited</td><td>RELIANCE.NS</td><td>2306.15</td><td>-17.85</td><td>-0.77%</td><td>2023-10-19T10:09:08.456+0000</td><td>2023-10-19</td><td>10:09:08</td></tr><tr><td>Bajaj Finance Limited</td><td>BAJFINANCE.NS</td><td>7841.55</td><td>-25.0</td><td>-0.32%</td><td>2023-10-19T10:09:56.388+0000</td><td>2023-10-19</td><td>10:09:56</td></tr><tr><td>Axis Bank Limited</td><td>AXISBANK.NS</td><td>991.4</td><td>-1.45</td><td>-0.15%</td><td>2023-10-19T10:09:40.679+0000</td><td>2023-10-19</td><td>10:09:40</td></tr><tr><td>Britannia Industries Limited</td><td>BRITANNIA.NS</td><td>4602.45</td><td>-5.25</td><td>-0.11%</td><td>2023-10-19T10:10:12.035+0000</td><td>2023-10-19</td><td>10:10:12</td></tr><tr><td>Asian Paints Limited</td><td>ASIANPAINT.NS</td><td>3101.8</td><td>5.35</td><td>+0.17%</td><td>2023-10-19T10:10:28.664+0000</td><td>2023-10-19</td><td>10:10:28</td></tr></tbody></table></div>"
      ]
     },
     "metadata": {
      "application/vnd.databricks.v1+output": {
       "addedWidgets": {},
       "aggData": [],
       "aggError": "",
       "aggOverflow": false,
       "aggSchema": [],
       "aggSeriesLimitReached": false,
       "aggType": "",
       "arguments": {},
       "columnCustomDisplayInfos": {},
       "data": [
        [
         "Kotak Mahindra Bank Limited",
         "KOTAKBANK.NS",
         1740.45,
         -12.95,
         "-0.74%",
         "2023-10-19T09:17:05.334+0000",
         "2023-10-19",
         "09:17:05"
        ],
        [
         "Kotak Mahindra Bank Limited",
         "KOTAKBANK.NS",
         1740.05,
         -13.35,
         "-0.76%",
         "2023-10-19T09:20:13.843+0000",
         "2023-10-19",
         "09:20:13"
        ],
        [
         "Britannia Industries Limited",
         "BRITANNIA.NS",
         4600.95,
         -6.75,
         "-0.15%",
         "2023-10-19T09:21:39.787+0000",
         "2023-10-19",
         "09:21:39"
        ],
        [
         "Tata Consultancy Services Limited",
         "TCS.NS",
         3459.0,
         -28.25,
         "-0.81%",
         "2023-10-19T09:20:57.191+0000",
         "2023-10-19",
         "09:20:57"
        ],
        [
         "Britannia Industries Limited",
         "BRITANNIA.NS",
         4604.4,
         -3.3,
         "-0.07%",
         "2023-10-19T09:19:00.112+0000",
         "2023-10-19",
         "09:19:00"
        ],
        [
         "Tata Consultancy Services Limited",
         "TCS.NS",
         3458.05,
         -29.2,
         "-0.84%",
         "2023-10-19T09:18:07.464+0000",
         "2023-10-19",
         "09:18:07"
        ],
        [
         "Reliance Industries Limited",
         "RELIANCE.NS",
         2308.05,
         -15.95,
         "-0.69%",
         "2023-10-19T09:20:43.462+0000",
         "2023-10-19",
         "09:20:43"
        ],
        [
         "Reliance Industries Limited",
         "RELIANCE.NS",
         2305.95,
         -18.05,
         "-0.78%",
         "2023-10-19T09:23:10.365+0000",
         "2023-10-19",
         "09:23:10"
        ],
        [
         "Tata Consultancy Services Limited",
         "TCS.NS",
         3460.65,
         -26.6,
         "-0.76%",
         "2023-10-19T09:23:23.267+0000",
         "2023-10-19",
         "09:23:23"
        ],
        [
         "Kotak Mahindra Bank Limited",
         "KOTAKBANK.NS",
         1738.7,
         -14.7,
         "-0.84%",
         "2023-10-19T09:22:37.867+0000",
         "2023-10-19",
         "09:22:37"
        ],
        [
         "Britannia Industries Limited",
         "BRITANNIA.NS",
         4601.1,
         -6.6,
         "-0.14%",
         "2023-10-19T09:24:14.366+0000",
         "2023-10-19",
         "09:24:14"
        ],
        [
         "Kotak Mahindra Bank Limited",
         "KOTAKBANK.NS",
         1739.6,
         -13.8,
         "-0.79%",
         "2023-10-19T09:25:20.056+0000",
         "2023-10-19",
         "09:25:20"
        ],
        [
         "Reliance Industries Limited",
         "RELIANCE.NS",
         2308.7,
         -15.3,
         "-0.66%",
         "2023-10-19T09:17:44.119+0000",
         "2023-10-19",
         "09:17:44"
        ],
        [
         "Bajaj Finance Limited",
         "BAJFINANCE.NS",
         7867.55,
         1.0,
         "+0.01%",
         "2023-10-19T09:21:24.518+0000",
         "2023-10-19",
         "09:21:24"
        ],
        [
         "Bajaj Finance Limited",
         "BAJFINANCE.NS",
         7866.75,
         0.2,
         "+0.00%",
         "2023-10-19T09:18:45.152+0000",
         "2023-10-19",
         "09:18:45"
        ],
        [
         "Asian Paints Limited",
         "ASIANPAINT.NS",
         3101.65,
         5.2,
         "+0.17%",
         "2023-10-19T09:24:29.392+0000",
         "2023-10-19",
         "09:24:29"
        ],
        [
         "Asian Paints Limited",
         "ASIANPAINT.NS",
         3101.3,
         4.85,
         "+0.16%",
         "2023-10-19T09:21:54.551+0000",
         "2023-10-19",
         "09:21:54"
        ],
        [
         "Bajaj Finance Limited",
         "BAJFINANCE.NS",
         7869.5,
         2.95,
         "+0.04%",
         "2023-10-19T09:23:55.233+0000",
         "2023-10-19",
         "09:23:55"
        ],
        [
         "Asian Paints Limited",
         "ASIANPAINT.NS",
         3103.0,
         6.55,
         "+0.21%",
         "2023-10-19T09:19:14.539+0000",
         "2023-10-19",
         "09:19:14"
        ],
        [
         "Axis Bank Limited",
         "AXISBANK.NS",
         991.4,
         -1.45,
         "-0.15%",
         "2023-10-19T09:23:40.845+0000",
         "2023-10-19",
         "09:23:40"
        ],
        [
         "ICICI Bank Limited",
         "ICICIBANK.NS",
         939.15,
         -4.6,
         "-0.49%",
         "2023-10-19T09:17:26.526+0000",
         "2023-10-19",
         "09:17:26"
        ],
        [
         "ICICI Bank Limited",
         "ICICIBANK.NS",
         939.05,
         -4.7,
         "-0.50%",
         "2023-10-19T09:20:29.189+0000",
         "2023-10-19",
         "09:20:29"
        ],
        [
         "ICICI Bank Limited",
         "ICICIBANK.NS",
         938.35,
         -5.4,
         "-0.57%",
         "2023-10-19T09:22:53.718+0000",
         "2023-10-19",
         "09:22:53"
        ],
        [
         "HDFC Bank Limited",
         "HDFCBANK.NS",
         1516.8,
         -2.95,
         "-0.19%",
         "2023-10-19T09:25:03.947+0000",
         "2023-10-19",
         "09:25:03"
        ],
        [
         "HDFC Bank Limited",
         "HDFCBANK.NS",
         1518.7,
         -1.05,
         "-0.07%",
         "2023-10-19T09:16:48.551+0000",
         "2023-10-19",
         "09:16:48"
        ],
        [
         "Axis Bank Limited",
         "AXISBANK.NS",
         992.05,
         -0.8,
         "-0.08%",
         "2023-10-19T09:18:24.255+0000",
         "2023-10-19",
         "09:18:24"
        ],
        [
         "HDFC Bank Limited",
         "HDFCBANK.NS",
         1517.6,
         -2.15,
         "-0.14%",
         "2023-10-19T09:22:22.587+0000",
         "2023-10-19",
         "09:22:22"
        ],
        [
         "ICICI Bank Limited",
         "ICICIBANK.NS",
         938.8,
         -4.95,
         "-0.52%",
         "2023-10-19T09:25:39.299+0000",
         "2023-10-19",
         "09:25:39"
        ],
        [
         "HDFC Bank Limited",
         "HDFCBANK.NS",
         1517.7,
         -2.05,
         "-0.13%",
         "2023-10-19T09:19:57.053+0000",
         "2023-10-19",
         "09:19:57"
        ],
        [
         "Axis Bank Limited",
         "AXISBANK.NS",
         991.55,
         -1.3,
         "-0.13%",
         "2023-10-19T09:21:10.333+0000",
         "2023-10-19",
         "09:21:10"
        ],
        [
         "State Bank of India",
         "SBIN.NS",
         571.05,
         -1.6,
         "-0.28%",
         "2023-10-19T09:16:29.962+0000",
         "2023-10-19",
         "09:16:29"
        ],
        [
         "State Bank of India",
         "SBIN.NS",
         570.85,
         -1.8,
         "-0.31%",
         "2023-10-19T09:19:30.219+0000",
         "2023-10-19",
         "09:19:30"
        ],
        [
         "State Bank of India",
         "SBIN.NS",
         570.85,
         -1.8,
         "-0.31%",
         "2023-10-19T09:22:08.157+0000",
         "2023-10-19",
         "09:22:08"
        ],
        [
         "State Bank of India",
         "SBIN.NS",
         570.95,
         -1.7,
         "-0.30%",
         "2023-10-19T09:24:47.628+0000",
         "2023-10-19",
         "09:24:47"
        ],
        [
         "Reliance Industries Limited",
         "RELIANCE.NS",
         2307.55,
         -16.45,
         "-0.71%",
         "2023-10-19T09:25:56.385+0000",
         "2023-10-19",
         "09:25:56"
        ],
        [
         "Tata Consultancy Services Limited",
         "TCS.NS",
         3459.95,
         -27.3,
         "-0.78%",
         "2023-10-19T09:26:13.162+0000",
         "2023-10-19",
         "09:26:13"
        ],
        [
         "Axis Bank Limited",
         "AXISBANK.NS",
         991.85,
         -1.0,
         "-0.10%",
         "2023-10-19T09:26:31.820+0000",
         "2023-10-19",
         "09:26:31"
        ],
        [
         "Bajaj Finance Limited",
         "BAJFINANCE.NS",
         7870.4,
         3.85,
         "+0.05%",
         "2023-10-19T09:26:50.363+0000",
         "2023-10-19",
         "09:26:50"
        ],
        [
         "Britannia Industries Limited",
         "BRITANNIA.NS",
         4603.4,
         -4.3,
         "-0.09%",
         "2023-10-19T09:27:18.517+0000",
         "2023-10-19",
         "09:27:18"
        ],
        [
         "Asian Paints Limited",
         "ASIANPAINT.NS",
         3103.55,
         7.1,
         "+0.23%",
         "2023-10-19T09:27:39.387+0000",
         "2023-10-19",
         "09:27:39"
        ],
        [
         "State Bank of India",
         "SBIN.NS",
         571.1,
         -1.55,
         "-0.27%",
         "2023-10-19T09:27:56.615+0000",
         "2023-10-19",
         "09:27:56"
        ],
        [
         "HDFC Bank Limited",
         "HDFCBANK.NS",
         1516.0,
         -3.75,
         "-0.25%",
         "2023-10-19T09:28:12.242+0000",
         "2023-10-19",
         "09:28:12"
        ],
        [
         "Kotak Mahindra Bank Limited",
         "KOTAKBANK.NS",
         1739.3,
         -14.1,
         "-0.80%",
         "2023-10-19T09:28:27.134+0000",
         "2023-10-19",
         "09:28:27"
        ],
        [
         "ICICI Bank Limited",
         "ICICIBANK.NS",
         938.35,
         -5.4,
         "-0.57%",
         "2023-10-19T09:28:42.120+0000",
         "2023-10-19",
         "09:28:42"
        ],
        [
         "Reliance Industries Limited",
         "RELIANCE.NS",
         2307.95,
         -16.05,
         "-0.69%",
         "2023-10-19T09:28:59.262+0000",
         "2023-10-19",
         "09:28:59"
        ],
        [
         "Tata Consultancy Services Limited",
         "TCS.NS",
         3459.4,
         -27.85,
         "-0.80%",
         "2023-10-19T09:29:14.893+0000",
         "2023-10-19",
         "09:29:14"
        ],
        [
         "Axis Bank Limited",
         "AXISBANK.NS",
         992.0,
         -0.85,
         "-0.09%",
         "2023-10-19T09:29:33.039+0000",
         "2023-10-19",
         "09:29:33"
        ],
        [
         "Bajaj Finance Limited",
         "BAJFINANCE.NS",
         7872.05,
         5.5,
         "+0.07%",
         "2023-10-19T09:29:46.775+0000",
         "2023-10-19",
         "09:29:46"
        ],
        [
         "Britannia Industries Limited",
         "BRITANNIA.NS",
         4605.0,
         -2.7,
         "-0.06%",
         "2023-10-19T09:30:04.074+0000",
         "2023-10-19",
         "09:30:04"
        ],
        [
         "Asian Paints Limited",
         "ASIANPAINT.NS",
         3102.5,
         6.05,
         "+0.20%",
         "2023-10-19T09:30:20.765+0000",
         "2023-10-19",
         "09:30:20"
        ],
        [
         "State Bank of India",
         "SBIN.NS",
         571.15,
         -1.5,
         "-0.26%",
         "2023-10-19T09:30:37.927+0000",
         "2023-10-19",
         "09:30:37"
        ],
        [
         "HDFC Bank Limited",
         "HDFCBANK.NS",
         1515.05,
         -4.7,
         "-0.31%",
         "2023-10-19T09:30:52.224+0000",
         "2023-10-19",
         "09:30:52"
        ],
        [
         "Kotak Mahindra Bank Limited",
         "KOTAKBANK.NS",
         1738.0,
         -15.4,
         "-0.88%",
         "2023-10-19T09:31:09.545+0000",
         "2023-10-19",
         "09:31:09"
        ],
        [
         "ICICI Bank Limited",
         "ICICIBANK.NS",
         938.2,
         -5.55,
         "-0.59%",
         "2023-10-19T09:31:24.537+0000",
         "2023-10-19",
         "09:31:24"
        ],
        [
         "Reliance Industries Limited",
         "RELIANCE.NS",
         2309.15,
         -14.85,
         "-0.64%",
         "2023-10-19T09:31:41.916+0000",
         "2023-10-19",
         "09:31:41"
        ],
        [
         "Tata Consultancy Services Limited",
         "TCS.NS",
         3460.15,
         -27.1,
         "-0.78%",
         "2023-10-19T09:31:59.190+0000",
         "2023-10-19",
         "09:31:59"
        ],
        [
         "Axis Bank Limited",
         "AXISBANK.NS",
         991.4,
         -1.45,
         "-0.15%",
         "2023-10-19T09:32:14.994+0000",
         "2023-10-19",
         "09:32:14"
        ],
        [
         "Bajaj Finance Limited",
         "BAJFINANCE.NS",
         7865.25,
         -1.3,
         "-0.02%",
         "2023-10-19T09:32:30.060+0000",
         "2023-10-19",
         "09:32:30"
        ],
        [
         "Britannia Industries Limited",
         "BRITANNIA.NS",
         4602.7,
         -5.0,
         "-0.11%",
         "2023-10-19T09:32:45.892+0000",
         "2023-10-19",
         "09:32:45"
        ],
        [
         "Asian Paints Limited",
         "ASIANPAINT.NS",
         3102.85,
         6.4,
         "+0.21%",
         "2023-10-19T09:33:02.257+0000",
         "2023-10-19",
         "09:33:02"
        ],
        [
         "State Bank of India",
         "SBIN.NS",
         571.1,
         -1.55,
         "-0.27%",
         "2023-10-19T09:33:17.192+0000",
         "2023-10-19",
         "09:33:17"
        ],
        [
         "HDFC Bank Limited",
         "HDFCBANK.NS",
         1516.15,
         -3.6,
         "-0.24%",
         "2023-10-19T09:33:33.678+0000",
         "2023-10-19",
         "09:33:33"
        ],
        [
         "Kotak Mahindra Bank Limited",
         "KOTAKBANK.NS",
         1738.2,
         -15.2,
         "-0.87%",
         "2023-10-19T09:33:52.519+0000",
         "2023-10-19",
         "09:33:52"
        ],
        [
         "ICICI Bank Limited",
         "ICICIBANK.NS",
         937.9,
         -5.85,
         "-0.62%",
         "2023-10-19T09:34:09.523+0000",
         "2023-10-19",
         "09:34:09"
        ],
        [
         "Reliance Industries Limited",
         "RELIANCE.NS",
         2310.25,
         -13.75,
         "-0.59%",
         "2023-10-19T09:34:24.727+0000",
         "2023-10-19",
         "09:34:24"
        ],
        [
         "Tata Consultancy Services Limited",
         "TCS.NS",
         3458.0,
         -29.25,
         "-0.84%",
         "2023-10-19T09:34:39.466+0000",
         "2023-10-19",
         "09:34:39"
        ],
        [
         "Axis Bank Limited",
         "AXISBANK.NS",
         991.4,
         -1.45,
         "-0.15%",
         "2023-10-19T09:34:52.433+0000",
         "2023-10-19",
         "09:34:52"
        ],
        [
         "Britannia Industries Limited",
         "BRITANNIA.NS",
         4598.45,
         -9.25,
         "-0.20%",
         "2023-10-19T09:35:22.406+0000",
         "2023-10-19",
         "09:35:22"
        ],
        [
         "Bajaj Finance Limited",
         "BAJFINANCE.NS",
         7854.6,
         -11.95,
         "-0.15%",
         "2023-10-19T09:35:07.273+0000",
         "2023-10-19",
         "09:35:07"
        ],
        [
         "Asian Paints Limited",
         "ASIANPAINT.NS",
         3102.65,
         6.2,
         "+0.20%",
         "2023-10-19T09:35:37.517+0000",
         "2023-10-19",
         "09:35:37"
        ],
        [
         "HDFC Bank Limited",
         "HDFCBANK.NS",
         1516.25,
         -3.5,
         "-0.23%",
         "2023-10-19T09:36:06.269+0000",
         "2023-10-19",
         "09:36:06"
        ],
        [
         "State Bank of India",
         "SBIN.NS",
         572.05,
         -0.6,
         "-0.10%",
         "2023-10-19T09:35:53.096+0000",
         "2023-10-19",
         "09:35:53"
        ],
        [
         "Kotak Mahindra Bank Limited",
         "KOTAKBANK.NS",
         1740.35,
         -13.05,
         "-0.74%",
         "2023-10-19T09:36:22.572+0000",
         "2023-10-19",
         "09:36:22"
        ],
        [
         "ICICI Bank Limited",
         "ICICIBANK.NS",
         937.85,
         -5.9,
         "-0.63%",
         "2023-10-19T09:36:38.259+0000",
         "2023-10-19",
         "09:36:38"
        ],
        [
         "Reliance Industries Limited",
         "RELIANCE.NS",
         2309.35,
         -14.65,
         "-0.63%",
         "2023-10-19T09:36:54.537+0000",
         "2023-10-19",
         "09:36:54"
        ],
        [
         "Tata Consultancy Services Limited",
         "TCS.NS",
         3457.0,
         -30.25,
         "-0.87%",
         "2023-10-19T09:37:08.217+0000",
         "2023-10-19",
         "09:37:08"
        ],
        [
         "Axis Bank Limited",
         "AXISBANK.NS",
         992.1,
         -0.75,
         "-0.08%",
         "2023-10-19T09:37:23.358+0000",
         "2023-10-19",
         "09:37:23"
        ],
        [
         "Britannia Industries Limited",
         "BRITANNIA.NS",
         4600.25,
         -7.45,
         "-0.16%",
         "2023-10-19T09:37:55.439+0000",
         "2023-10-19",
         "09:37:55"
        ],
        [
         "Bajaj Finance Limited",
         "BAJFINANCE.NS",
         7860.55,
         -6.0,
         "-0.08%",
         "2023-10-19T09:37:40.039+0000",
         "2023-10-19",
         "09:37:40"
        ],
        [
         "Asian Paints Limited",
         "ASIANPAINT.NS",
         3103.0,
         6.55,
         "+0.21%",
         "2023-10-19T09:38:11.179+0000",
         "2023-10-19",
         "09:38:11"
        ],
        [
         "State Bank of India",
         "SBIN.NS",
         571.75,
         -0.9,
         "-0.16%",
         "2023-10-19T09:38:28.451+0000",
         "2023-10-19",
         "09:38:28"
        ],
        [
         "HDFC Bank Limited",
         "HDFCBANK.NS",
         1515.2,
         -4.55,
         "-0.30%",
         "2023-10-19T09:38:42.892+0000",
         "2023-10-19",
         "09:38:42"
        ],
        [
         "Kotak Mahindra Bank Limited",
         "KOTAKBANK.NS",
         1738.8,
         -14.6,
         "-0.83%",
         "2023-10-19T09:38:58.531+0000",
         "2023-10-19",
         "09:38:58"
        ],
        [
         "Reliance Industries Limited",
         "RELIANCE.NS",
         2309.0,
         -15.0,
         "-0.65%",
         "2023-10-19T09:39:32.128+0000",
         "2023-10-19",
         "09:39:32"
        ],
        [
         "ICICI Bank Limited",
         "ICICIBANK.NS",
         935.55,
         -8.2,
         "-0.87%",
         "2023-10-19T09:39:16.229+0000",
         "2023-10-19",
         "09:39:16"
        ],
        [
         "Tata Consultancy Services Limited",
         "TCS.NS",
         3456.8,
         -30.45,
         "-0.87%",
         "2023-10-19T09:39:47.757+0000",
         "2023-10-19",
         "09:39:47"
        ],
        [
         "Bajaj Finance Limited",
         "BAJFINANCE.NS",
         7842.05,
         -24.5,
         "-0.31%",
         "2023-10-19T09:40:22.553+0000",
         "2023-10-19",
         "09:40:22"
        ],
        [
         "Axis Bank Limited",
         "AXISBANK.NS",
         991.8,
         -1.05,
         "-0.11%",
         "2023-10-19T09:40:04.656+0000",
         "2023-10-19",
         "09:40:04"
        ],
        [
         "Britannia Industries Limited",
         "BRITANNIA.NS",
         4600.05,
         -7.65,
         "-0.17%",
         "2023-10-19T09:40:37.979+0000",
         "2023-10-19",
         "09:40:37"
        ],
        [
         "Asian Paints Limited",
         "ASIANPAINT.NS",
         3101.7,
         5.25,
         "+0.17%",
         "2023-10-19T09:40:55.215+0000",
         "2023-10-19",
         "09:40:55"
        ],
        [
         "State Bank of India",
         "SBIN.NS",
         571.3,
         -1.35,
         "-0.24%",
         "2023-10-19T09:41:08.874+0000",
         "2023-10-19",
         "09:41:08"
        ],
        [
         "HDFC Bank Limited",
         "HDFCBANK.NS",
         1515.05,
         -4.7,
         "-0.31%",
         "2023-10-19T09:41:25.603+0000",
         "2023-10-19",
         "09:41:25"
        ],
        [
         "Kotak Mahindra Bank Limited",
         "KOTAKBANK.NS",
         1737.85,
         -15.55,
         "-0.89%",
         "2023-10-19T09:41:40.267+0000",
         "2023-10-19",
         "09:41:40"
        ],
        [
         "Tata Consultancy Services Limited",
         "TCS.NS",
         3456.35,
         -30.9,
         "-0.89%",
         "2023-10-19T09:42:23.705+0000",
         "2023-10-19",
         "09:42:23"
        ],
        [
         "Reliance Industries Limited",
         "RELIANCE.NS",
         2306.3,
         -17.7,
         "-0.76%",
         "2023-10-19T09:42:10.091+0000",
         "2023-10-19",
         "09:42:10"
        ],
        [
         "ICICI Bank Limited",
         "ICICIBANK.NS",
         936.1,
         -7.65,
         "-0.81%",
         "2023-10-19T09:41:54.354+0000",
         "2023-10-19",
         "09:41:54"
        ],
        [
         "Axis Bank Limited",
         "AXISBANK.NS",
         991.65,
         -1.2,
         "-0.12%",
         "2023-10-19T09:42:37.865+0000",
         "2023-10-19",
         "09:42:37"
        ],
        [
         "Britannia Industries Limited",
         "BRITANNIA.NS",
         4600.0,
         -7.7,
         "-0.17%",
         "2023-10-19T09:43:04.418+0000",
         "2023-10-19",
         "09:43:04"
        ],
        [
         "Bajaj Finance Limited",
         "BAJFINANCE.NS",
         7840.85,
         -25.7,
         "-0.33%",
         "2023-10-19T09:42:51.385+0000",
         "2023-10-19",
         "09:42:51"
        ],
        [
         "Asian Paints Limited",
         "ASIANPAINT.NS",
         3102.55,
         6.1,
         "+0.20%",
         "2023-10-19T09:43:17.921+0000",
         "2023-10-19",
         "09:43:17"
        ],
        [
         "State Bank of India",
         "SBIN.NS",
         570.95,
         -1.7,
         "-0.30%",
         "2023-10-19T09:43:31.492+0000",
         "2023-10-19",
         "09:43:31"
        ],
        [
         "HDFC Bank Limited",
         "HDFCBANK.NS",
         1515.0,
         -4.75,
         "-0.31%",
         "2023-10-19T09:43:46.985+0000",
         "2023-10-19",
         "09:43:46"
        ],
        [
         "Kotak Mahindra Bank Limited",
         "KOTAKBANK.NS",
         1737.75,
         -15.65,
         "-0.89%",
         "2023-10-19T09:44:01.875+0000",
         "2023-10-19",
         "09:44:01"
        ],
        [
         "ICICI Bank Limited",
         "ICICIBANK.NS",
         935.05,
         -8.7,
         "-0.92%",
         "2023-10-19T09:44:16.876+0000",
         "2023-10-19",
         "09:44:16"
        ],
        [
         "Reliance Industries Limited",
         "RELIANCE.NS",
         2305.35,
         -18.65,
         "-0.80%",
         "2023-10-19T09:44:32.560+0000",
         "2023-10-19",
         "09:44:32"
        ],
        [
         "Tata Consultancy Services Limited",
         "TCS.NS",
         3456.0,
         -31.25,
         "-0.90%",
         "2023-10-19T09:44:48.634+0000",
         "2023-10-19",
         "09:44:48"
        ],
        [
         "Bajaj Finance Limited",
         "BAJFINANCE.NS",
         7838.25,
         -28.3,
         "-0.36%",
         "2023-10-19T09:45:20.843+0000",
         "2023-10-19",
         "09:45:20"
        ],
        [
         "Axis Bank Limited",
         "AXISBANK.NS",
         991.35,
         -1.5,
         "-0.15%",
         "2023-10-19T09:45:04.443+0000",
         "2023-10-19",
         "09:45:04"
        ],
        [
         "Britannia Industries Limited",
         "BRITANNIA.NS",
         4599.35,
         -8.35,
         "-0.18%",
         "2023-10-19T09:45:37.122+0000",
         "2023-10-19",
         "09:45:37"
        ],
        [
         "HDFC Bank Limited",
         "HDFCBANK.NS",
         1515.2,
         -4.55,
         "-0.30%",
         "2023-10-19T09:46:22.987+0000",
         "2023-10-19",
         "09:46:22"
        ],
        [
         "Asian Paints Limited",
         "ASIANPAINT.NS",
         3102.05,
         5.6,
         "+0.18%",
         "2023-10-19T09:45:51.801+0000",
         "2023-10-19",
         "09:45:51"
        ],
        [
         "State Bank of India",
         "SBIN.NS",
         571.15,
         -1.5,
         "-0.26%",
         "2023-10-19T09:46:07.624+0000",
         "2023-10-19",
         "09:46:07"
        ],
        [
         "Kotak Mahindra Bank Limited",
         "KOTAKBANK.NS",
         1736.35,
         -17.05,
         "-0.97%",
         "2023-10-19T09:46:39.672+0000",
         "2023-10-19",
         "09:46:39"
        ],
        [
         "ICICI Bank Limited",
         "ICICIBANK.NS",
         934.75,
         -9.0,
         "-0.95%",
         "2023-10-19T09:46:56.122+0000",
         "2023-10-19",
         "09:46:56"
        ],
        [
         "Tata Consultancy Services Limited",
         "TCS.NS",
         3455.0,
         -32.25,
         "-0.92%",
         "2023-10-19T09:47:30.570+0000",
         "2023-10-19",
         "09:47:30"
        ],
        [
         "Reliance Industries Limited",
         "RELIANCE.NS",
         2306.85,
         -17.15,
         "-0.74%",
         "2023-10-19T09:47:13.939+0000",
         "2023-10-19",
         "09:47:13"
        ],
        [
         "Axis Bank Limited",
         "AXISBANK.NS",
         991.05,
         -1.8,
         "-0.18%",
         "2023-10-19T09:47:46.303+0000",
         "2023-10-19",
         "09:47:46"
        ],
        [
         "Bajaj Finance Limited",
         "BAJFINANCE.NS",
         7829.5,
         -37.05,
         "-0.47%",
         "2023-10-19T09:48:24.774+0000",
         "2023-10-19",
         "09:48:24"
        ],
        [
         "Britannia Industries Limited",
         "BRITANNIA.NS",
         4603.85,
         -3.85,
         "-0.08%",
         "2023-10-19T09:48:52.118+0000",
         "2023-10-19",
         "09:48:52"
        ],
        [
         "Asian Paints Limited",
         "ASIANPAINT.NS",
         3100.8,
         4.35,
         "+0.14%",
         "2023-10-19T09:49:10.105+0000",
         "2023-10-19",
         "09:49:10"
        ],
        [
         "State Bank of India",
         "SBIN.NS",
         571.1,
         -1.55,
         "-0.27%",
         "2023-10-19T09:49:25.259+0000",
         "2023-10-19",
         "09:49:25"
        ],
        [
         "Kotak Mahindra Bank Limited",
         "KOTAKBANK.NS",
         1737.9,
         -15.5,
         "-0.88%",
         "2023-10-19T09:50:03.487+0000",
         "2023-10-19",
         "09:50:03"
        ],
        [
         "HDFC Bank Limited",
         "HDFCBANK.NS",
         1515.05,
         -4.7,
         "-0.31%",
         "2023-10-19T09:49:45.892+0000",
         "2023-10-19",
         "09:49:45"
        ],
        [
         "Tata Consultancy Services Limited",
         "TCS.NS",
         3455.0,
         -32.25,
         "-0.92%",
         "2023-10-19T09:50:48.861+0000",
         "2023-10-19",
         "09:50:48"
        ],
        [
         "Reliance Industries Limited",
         "RELIANCE.NS",
         2305.05,
         -18.95,
         "-0.82%",
         "2023-10-19T09:50:35.189+0000",
         "2023-10-19",
         "09:50:35"
        ],
        [
         "ICICI Bank Limited",
         "ICICIBANK.NS",
         934.9,
         -8.85,
         "-0.94%",
         "2023-10-19T09:50:18.807+0000",
         "2023-10-19",
         "09:50:18"
        ],
        [
         "Axis Bank Limited",
         "AXISBANK.NS",
         991.05,
         -1.8,
         "-0.18%",
         "2023-10-19T09:51:04.755+0000",
         "2023-10-19",
         "09:51:04"
        ],
        [
         "Britannia Industries Limited",
         "BRITANNIA.NS",
         4603.1,
         -4.6,
         "-0.10%",
         "2023-10-19T09:51:34.245+0000",
         "2023-10-19",
         "09:51:34"
        ],
        [
         "Bajaj Finance Limited",
         "BAJFINANCE.NS",
         7829.7,
         -36.85,
         "-0.47%",
         "2023-10-19T09:51:20.274+0000",
         "2023-10-19",
         "09:51:20"
        ],
        [
         "Asian Paints Limited",
         "ASIANPAINT.NS",
         3101.7,
         5.25,
         "+0.17%",
         "2023-10-19T09:51:49.576+0000",
         "2023-10-19",
         "09:51:49"
        ],
        [
         "State Bank of India",
         "SBIN.NS",
         571.1,
         -1.55,
         "-0.27%",
         "2023-10-19T09:52:03.808+0000",
         "2023-10-19",
         "09:52:03"
        ],
        [
         "HDFC Bank Limited",
         "HDFCBANK.NS",
         1513.45,
         -6.3,
         "-0.41%",
         "2023-10-19T09:52:17.673+0000",
         "2023-10-19",
         "09:52:17"
        ],
        [
         "Kotak Mahindra Bank Limited",
         "KOTAKBANK.NS",
         1740.1,
         -13.3,
         "-0.76%",
         "2023-10-19T09:52:32.668+0000",
         "2023-10-19",
         "09:52:32"
        ],
        [
         "ICICI Bank Limited",
         "ICICIBANK.NS",
         934.6,
         -9.15,
         "-0.97%",
         "2023-10-19T09:52:46.812+0000",
         "2023-10-19",
         "09:52:46"
        ],
        [
         "Reliance Industries Limited",
         "RELIANCE.NS",
         2303.35,
         -20.65,
         "-0.89%",
         "2023-10-19T09:53:02.564+0000",
         "2023-10-19",
         "09:53:02"
        ],
        [
         "Tata Consultancy Services Limited",
         "TCS.NS",
         3454.1,
         -33.15,
         "-0.95%",
         "2023-10-19T09:53:18.288+0000",
         "2023-10-19",
         "09:53:18"
        ],
        [
         "Axis Bank Limited",
         "AXISBANK.NS",
         991.15,
         -1.7,
         "-0.17%",
         "2023-10-19T09:53:33.836+0000",
         "2023-10-19",
         "09:53:33"
        ],
        [
         "Bajaj Finance Limited",
         "BAJFINANCE.NS",
         7824.9,
         -41.65,
         "-0.53%",
         "2023-10-19T09:53:48.680+0000",
         "2023-10-19",
         "09:53:48"
        ],
        [
         "Britannia Industries Limited",
         "BRITANNIA.NS",
         4609.15,
         1.45,
         "+0.03%",
         "2023-10-19T09:54:04.864+0000",
         "2023-10-19",
         "09:54:04"
        ],
        [
         "Asian Paints Limited",
         "ASIANPAINT.NS",
         3100.45,
         4.0,
         "+0.13%",
         "2023-10-19T09:54:25.887+0000",
         "2023-10-19",
         "09:54:25"
        ],
        [
         "State Bank of India",
         "SBIN.NS",
         571.0,
         -1.65,
         "-0.29%",
         "2023-10-19T09:54:43.547+0000",
         "2023-10-19",
         "09:54:43"
        ],
        [
         "Kotak Mahindra Bank Limited",
         "KOTAKBANK.NS",
         1739.9,
         -13.5,
         "-0.77%",
         "2023-10-19T09:55:24.584+0000",
         "2023-10-19",
         "09:55:24"
        ],
        [
         "HDFC Bank Limited",
         "HDFCBANK.NS",
         1513.8,
         -5.95,
         "-0.39%",
         "2023-10-19T09:55:06.862+0000",
         "2023-10-19",
         "09:55:06"
        ],
        [
         "ICICI Bank Limited",
         "ICICIBANK.NS",
         934.85,
         -8.9,
         "-0.94%",
         "2023-10-19T09:55:43.349+0000",
         "2023-10-19",
         "09:55:43"
        ],
        [
         "Tata Consultancy Services Limited",
         "TCS.NS",
         3452.75,
         -34.5,
         "-0.99%",
         "2023-10-19T09:56:15.356+0000",
         "2023-10-19",
         "09:56:15"
        ],
        [
         "Reliance Industries Limited",
         "RELIANCE.NS",
         2303.4,
         -20.6,
         "-0.89%",
         "2023-10-19T09:56:00.191+0000",
         "2023-10-19",
         "09:56:00"
        ],
        [
         "Axis Bank Limited",
         "AXISBANK.NS",
         990.95,
         -1.9,
         "-0.19%",
         "2023-10-19T09:56:29.364+0000",
         "2023-10-19",
         "09:56:29"
        ],
        [
         "Britannia Industries Limited",
         "BRITANNIA.NS",
         4607.25,
         -0.45,
         "-0.01%",
         "2023-10-19T09:56:56.549+0000",
         "2023-10-19",
         "09:56:56"
        ],
        [
         "Bajaj Finance Limited",
         "BAJFINANCE.NS",
         7820.8,
         -45.75,
         "-0.58%",
         "2023-10-19T09:56:42.679+0000",
         "2023-10-19",
         "09:56:42"
        ],
        [
         "Asian Paints Limited",
         "ASIANPAINT.NS",
         3099.25,
         2.8,
         "+0.09%",
         "2023-10-19T09:57:10.572+0000",
         "2023-10-19",
         "09:57:10"
        ],
        [
         "State Bank of India",
         "SBIN.NS",
         571.2,
         -1.45,
         "-0.25%",
         "2023-10-19T09:57:25.437+0000",
         "2023-10-19",
         "09:57:25"
        ],
        [
         "HDFC Bank Limited",
         "HDFCBANK.NS",
         1514.3,
         -5.45,
         "-0.36%",
         "2023-10-19T09:57:40.181+0000",
         "2023-10-19",
         "09:57:40"
        ],
        [
         "Kotak Mahindra Bank Limited",
         "KOTAKBANK.NS",
         1737.0,
         -16.4,
         "-0.94%",
         "2023-10-19T09:57:56.871+0000",
         "2023-10-19",
         "09:57:56"
        ],
        [
         "Reliance Industries Limited",
         "RELIANCE.NS",
         2302.0,
         -22.0,
         "-0.95%",
         "2023-10-19T09:58:27.585+0000",
         "2023-10-19",
         "09:58:27"
        ],
        [
         "ICICI Bank Limited",
         "ICICIBANK.NS",
         934.85,
         -8.9,
         "-0.94%",
         "2023-10-19T09:58:10.597+0000",
         "2023-10-19",
         "09:58:10"
        ],
        [
         "Tata Consultancy Services Limited",
         "TCS.NS",
         3453.9,
         -33.35,
         "-0.96%",
         "2023-10-19T09:58:44.484+0000",
         "2023-10-19",
         "09:58:44"
        ],
        [
         "Axis Bank Limited",
         "AXISBANK.NS",
         990.95,
         -1.9,
         "-0.19%",
         "2023-10-19T09:58:59.622+0000",
         "2023-10-19",
         "09:58:59"
        ],
        [
         "Kotak Mahindra Bank Limited",
         "KOTAKBANK.NS",
         1738.65,
         -14.75,
         "-0.84%",
         "2023-10-19T10:00:24.682+0000",
         "2023-10-19",
         "10:00:24"
        ],
        [
         "State Bank of India",
         "SBIN.NS",
         571.3,
         -1.35,
         "-0.24%",
         "2023-10-19T09:59:55.450+0000",
         "2023-10-19",
         "09:59:55"
        ],
        [
         "Britannia Industries Limited",
         "BRITANNIA.NS",
         4607.0,
         -0.7,
         "-0.02%",
         "2023-10-19T09:59:29.656+0000",
         "2023-10-19",
         "09:59:29"
        ],
        [
         "Asian Paints Limited",
         "ASIANPAINT.NS",
         3101.0,
         4.55,
         "+0.15%",
         "2023-10-19T09:59:42.876+0000",
         "2023-10-19",
         "09:59:42"
        ],
        [
         "Bajaj Finance Limited",
         "BAJFINANCE.NS",
         7818.1,
         -48.45,
         "-0.62%",
         "2023-10-19T09:59:15.227+0000",
         "2023-10-19",
         "09:59:15"
        ],
        [
         "HDFC Bank Limited",
         "HDFCBANK.NS",
         1514.5,
         -5.25,
         "-0.35%",
         "2023-10-19T10:00:08.871+0000",
         "2023-10-19",
         "10:00:08"
        ],
        [
         "Reliance Industries Limited",
         "RELIANCE.NS",
         2304.65,
         -19.35,
         "-0.83%",
         "2023-10-19T10:00:53.092+0000",
         "2023-10-19",
         "10:00:53"
        ],
        [
         "ICICI Bank Limited",
         "ICICIBANK.NS",
         934.85,
         -8.9,
         "-0.94%",
         "2023-10-19T10:00:38.547+0000",
         "2023-10-19",
         "10:00:38"
        ],
        [
         "Tata Consultancy Services Limited",
         "TCS.NS",
         3454.8,
         -32.45,
         "-0.93%",
         "2023-10-19T10:01:07.671+0000",
         "2023-10-19",
         "10:01:07"
        ],
        [
         "Axis Bank Limited",
         "AXISBANK.NS",
         993.15,
         0.3,
         "+0.03%",
         "2023-10-19T10:01:23.241+0000",
         "2023-10-19",
         "10:01:23"
        ],
        [
         "Britannia Industries Limited",
         "BRITANNIA.NS",
         4608.0,
         0.3,
         "+0.01%",
         "2023-10-19T10:01:54.460+0000",
         "2023-10-19",
         "10:01:54"
        ],
        [
         "Bajaj Finance Limited",
         "BAJFINANCE.NS",
         7822.4,
         -44.15,
         "-0.56%",
         "2023-10-19T10:01:37.076+0000",
         "2023-10-19",
         "10:01:37"
        ],
        [
         "Asian Paints Limited",
         "ASIANPAINT.NS",
         3101.0,
         4.55,
         "+0.15%",
         "2023-10-19T10:02:10.354+0000",
         "2023-10-19",
         "10:02:10"
        ],
        [
         "State Bank of India",
         "SBIN.NS",
         571.2,
         -1.45,
         "-0.25%",
         "2023-10-19T10:02:25.584+0000",
         "2023-10-19",
         "10:02:25"
        ],
        [
         "HDFC Bank Limited",
         "HDFCBANK.NS",
         1514.95,
         -4.8,
         "-0.32%",
         "2023-10-19T10:02:41.738+0000",
         "2023-10-19",
         "10:02:41"
        ],
        [
         "Kotak Mahindra Bank Limited",
         "KOTAKBANK.NS",
         1738.45,
         -14.95,
         "-0.85%",
         "2023-10-19T10:02:58.378+0000",
         "2023-10-19",
         "10:02:58"
        ],
        [
         "Reliance Industries Limited",
         "RELIANCE.NS",
         2306.15,
         -17.85,
         "-0.77%",
         "2023-10-19T10:03:28.699+0000",
         "2023-10-19",
         "10:03:28"
        ],
        [
         "ICICI Bank Limited",
         "ICICIBANK.NS",
         935.75,
         -8.0,
         "-0.85%",
         "2023-10-19T10:03:13.288+0000",
         "2023-10-19",
         "10:03:13"
        ],
        [
         "Tata Consultancy Services Limited",
         "TCS.NS",
         3455.65,
         -31.6,
         "-0.91%",
         "2023-10-19T10:03:45.011+0000",
         "2023-10-19",
         "10:03:45"
        ],
        [
         "Bajaj Finance Limited",
         "BAJFINANCE.NS",
         7841.55,
         -25.0,
         "-0.32%",
         "2023-10-19T10:04:20.436+0000",
         "2023-10-19",
         "10:04:20"
        ],
        [
         "Axis Bank Limited",
         "AXISBANK.NS",
         991.4,
         -1.45,
         "-0.15%",
         "2023-10-19T10:04:01.223+0000",
         "2023-10-19",
         "10:04:01"
        ],
        [
         "Britannia Industries Limited",
         "BRITANNIA.NS",
         4602.45,
         -5.25,
         "-0.11%",
         "2023-10-19T10:04:37.088+0000",
         "2023-10-19",
         "10:04:37"
        ],
        [
         "Asian Paints Limited",
         "ASIANPAINT.NS",
         3101.8,
         5.35,
         "+0.17%",
         "2023-10-19T10:04:56.263+0000",
         "2023-10-19",
         "10:04:56"
        ],
        [
         "HDFC Bank Limited",
         "HDFCBANK.NS",
         1514.95,
         -4.8,
         "-0.32%",
         "2023-10-19T10:05:24.662+0000",
         "2023-10-19",
         "10:05:24"
        ],
        [
         "State Bank of India",
         "SBIN.NS",
         571.2,
         -1.45,
         "-0.25%",
         "2023-10-19T10:05:11.000+0000",
         "2023-10-19",
         "10:05:11"
        ],
        [
         "Kotak Mahindra Bank Limited",
         "KOTAKBANK.NS",
         1738.45,
         -14.95,
         "-0.85%",
         "2023-10-19T10:05:41.882+0000",
         "2023-10-19",
         "10:05:41"
        ],
        [
         "Reliance Industries Limited",
         "RELIANCE.NS",
         2306.15,
         -17.85,
         "-0.77%",
         "2023-10-19T10:06:14.857+0000",
         "2023-10-19",
         "10:06:14"
        ],
        [
         "ICICI Bank Limited",
         "ICICIBANK.NS",
         935.75,
         -8.0,
         "-0.85%",
         "2023-10-19T10:05:58.442+0000",
         "2023-10-19",
         "10:05:58"
        ],
        [
         "Tata Consultancy Services Limited",
         "TCS.NS",
         3455.65,
         -31.6,
         "-0.91%",
         "2023-10-19T10:06:31.885+0000",
         "2023-10-19",
         "10:06:31"
        ],
        [
         "Axis Bank Limited",
         "AXISBANK.NS",
         991.4,
         -1.45,
         "-0.15%",
         "2023-10-19T10:06:50.158+0000",
         "2023-10-19",
         "10:06:50"
        ],
        [
         "Britannia Industries Limited",
         "BRITANNIA.NS",
         4602.45,
         -5.25,
         "-0.11%",
         "2023-10-19T10:07:22.855+0000",
         "2023-10-19",
         "10:07:22"
        ],
        [
         "Bajaj Finance Limited",
         "BAJFINANCE.NS",
         7841.55,
         -25.0,
         "-0.32%",
         "2023-10-19T10:07:06.387+0000",
         "2023-10-19",
         "10:07:06"
        ],
        [
         "Asian Paints Limited",
         "ASIANPAINT.NS",
         3101.8,
         5.35,
         "+0.17%",
         "2023-10-19T10:07:37.904+0000",
         "2023-10-19",
         "10:07:37"
        ],
        [
         "State Bank of India",
         "SBIN.NS",
         571.2,
         -1.45,
         "-0.25%",
         "2023-10-19T10:07:54.766+0000",
         "2023-10-19",
         "10:07:54"
        ],
        [
         "HDFC Bank Limited",
         "HDFCBANK.NS",
         1514.95,
         -4.8,
         "-0.32%",
         "2023-10-19T10:08:10.999+0000",
         "2023-10-19",
         "10:08:10"
        ],
        [
         "Kotak Mahindra Bank Limited",
         "KOTAKBANK.NS",
         1738.45,
         -14.95,
         "-0.85%",
         "2023-10-19T10:08:29.588+0000",
         "2023-10-19",
         "10:08:29"
        ],
        [
         "ICICI Bank Limited",
         "ICICIBANK.NS",
         935.75,
         -8.0,
         "-0.85%",
         "2023-10-19T10:08:51.931+0000",
         "2023-10-19",
         "10:08:51"
        ],
        [
         "Tata Consultancy Services Limited",
         "TCS.NS",
         3455.65,
         -31.6,
         "-0.91%",
         "2023-10-19T10:09:25.094+0000",
         "2023-10-19",
         "10:09:25"
        ],
        [
         "Reliance Industries Limited",
         "RELIANCE.NS",
         2306.15,
         -17.85,
         "-0.77%",
         "2023-10-19T10:09:08.456+0000",
         "2023-10-19",
         "10:09:08"
        ],
        [
         "Bajaj Finance Limited",
         "BAJFINANCE.NS",
         7841.55,
         -25.0,
         "-0.32%",
         "2023-10-19T10:09:56.388+0000",
         "2023-10-19",
         "10:09:56"
        ],
        [
         "Axis Bank Limited",
         "AXISBANK.NS",
         991.4,
         -1.45,
         "-0.15%",
         "2023-10-19T10:09:40.679+0000",
         "2023-10-19",
         "10:09:40"
        ],
        [
         "Britannia Industries Limited",
         "BRITANNIA.NS",
         4602.45,
         -5.25,
         "-0.11%",
         "2023-10-19T10:10:12.035+0000",
         "2023-10-19",
         "10:10:12"
        ],
        [
         "Asian Paints Limited",
         "ASIANPAINT.NS",
         3101.8,
         5.35,
         "+0.17%",
         "2023-10-19T10:10:28.664+0000",
         "2023-10-19",
         "10:10:28"
        ]
       ],
       "datasetInfos": [],
       "dbfsResultPath": null,
       "isJsonSchema": true,
       "metadata": {},
       "overflow": false,
       "plotOptions": {
        "customPlotOptions": {},
        "displayType": "table",
        "pivotAggregation": null,
        "pivotColumns": null,
        "xColumns": null,
        "yColumns": null
       },
       "removedWidgets": [],
       "schema": [
        {
         "metadata": "{}",
         "name": "Company_Name",
         "type": "\"string\""
        },
        {
         "metadata": "{}",
         "name": "Symbol",
         "type": "\"string\""
        },
        {
         "metadata": "{}",
         "name": "Indian_Market_Price",
         "type": "\"float\""
        },
        {
         "metadata": "{}",
         "name": "Market_Price_Change",
         "type": "\"float\""
        },
        {
         "metadata": "{}",
         "name": "Market_ChangePercent",
         "type": "\"string\""
        },
        {
         "metadata": "{}",
         "name": "confluent_timestamp",
         "type": "\"timestamp\""
        },
        {
         "metadata": "{}",
         "name": "Date",
         "type": "\"string\""
        },
        {
         "metadata": "{}",
         "name": "Time",
         "type": "\"string\""
        }
       ],
       "type": "table"
      }
     },
     "output_type": "display_data"
    }
   ],
   "source": [
    "from pyspark.sql.functions import *\n",
    "from pyspark.sql.types import *\n",
    "\n",
    "\n",
    "# Define your schema\n",
    "df_schema = StructType() \\\n",
    "    .add(\"stock_name\", StringType()) \\\n",
    "    .add(\"Indian_Market_Price\", FloatType()) \\\n",
    "    .add(\"market_details\", ArrayType(StructType().add(\"marketchange\", FloatType()).add(\"marketchangepercent\", StringType()).add(\"data_produced_timestamp\", DoubleType())))\n",
    "\n",
    "# Parse the JSON data and split 'stock_name'\n",
    "parsed_df = bronze_df.select(\n",
    "    from_json(col(\"value\"), df_schema).alias(\"new_df\"),\n",
    "    col(\"confluent_timestamp\")\n",
    ").select(\n",
    "    regexp_extract(col(\"new_df.stock_name\"), '^(.*?) \\(', 1).alias(\"Company_Name\"),\n",
    "    regexp_extract(col(\"new_df.stock_name\"), '\\((.*?)\\)$', 1).alias(\"Symbol\"),\n",
    "    col(\"new_df.Indian_Market_Price\").alias(\"Indian_Market_Price\"),\n",
    "    col(\"new_df.market_details\"),\n",
    "    col(\"confluent_timestamp\")\n",
    ")\n",
    "\n",
    "# Explode 'market_details' and rename columns\n",
    "silver = parsed_df.select(\n",
    "    \"Company_Name\",\n",
    "    \"Symbol\",\n",
    "    \"Indian_Market_Price\",\n",
    "    explode(\"market_details\").alias(\"market_detail\"),\n",
    "    \"confluent_timestamp\"\n",
    ").select(\n",
    "    \"Company_Name\",\n",
    "    \"Symbol\",\n",
    "    \"Indian_Market_Price\",\n",
    "    col(\"market_detail.marketchange\").alias(\"Market_Price_Change\"),\n",
    "    col(\"market_detail.marketchangepercent\").alias(\"Market_ChangePercent\"),\n",
    "    \"confluent_timestamp\"\n",
    "    )\n",
    "\n",
    "# Add date and time columns from confluent_timestamp\n",
    "silver = silver.withColumn(\"Date\", date_format(col(\"confluent_timestamp\"), \"yyyy-MM-dd\"))\n",
    "silver = silver.withColumn(\"Time\", date_format(col(\"confluent_timestamp\"), \"HH:mm:ss\"))\n",
    "\n",
    "display(silver)\n"
   ]
  },
  {
   "cell_type": "code",
   "execution_count": 0,
   "metadata": {
    "application/vnd.databricks.v1+cell": {
     "cellMetadata": {
      "byteLimit": 2048000,
      "rowLimit": 10000
     },
     "inputWidgets": {},
     "nuid": "1260dc7d-2139-46bf-a07b-5de8040a068e",
     "showTitle": false,
     "title": ""
    }
   },
   "outputs": [],
   "source": [
    "silver.writeStream \\\n",
    "   .format(\"delta\") \\\n",
    "   .outputMode(\"append\") \\\n",
    "   .option(\"checkpointLocation\", checkpointLocation) \\\n",
    "   .toTable(target_path)"
   ]
  },
  {
   "cell_type": "code",
   "execution_count": 0,
   "metadata": {
    "application/vnd.databricks.v1+cell": {
     "cellMetadata": {
      "byteLimit": 2048000,
      "implicitDf": true,
      "rowLimit": 10000
     },
     "inputWidgets": {},
     "nuid": "118bb292-d169-4d3b-8d86-b665fc4c5ab7",
     "showTitle": false,
     "title": ""
    }
   },
   "outputs": [
    {
     "output_type": "display_data",
     "data": {
      "text/html": [
       "<style scoped>\n",
       "  .table-result-container {\n",
       "    max-height: 300px;\n",
       "    overflow: auto;\n",
       "  }\n",
       "  table, th, td {\n",
       "    border: 1px solid black;\n",
       "    border-collapse: collapse;\n",
       "  }\n",
       "  th, td {\n",
       "    padding: 5px;\n",
       "  }\n",
       "  th {\n",
       "    text-align: left;\n",
       "  }\n",
       "</style><div class='table-result-container'><table class='table-result'><thead style='background-color: white'><tr><th>Company_Name</th><th>Symbol</th><th>Indian_Market_Price</th><th>Market_Price_Change</th><th>Market_ChangePercent</th><th>confluent_timestamp</th><th>Date</th><th>Time</th></tr></thead><tbody><tr><td>Kotak Mahindra Bank Limited</td><td>KOTAKBANK.NS</td><td>1740.45</td><td>-12.95</td><td>-0.74%</td><td>2023-10-19T09:17:05.334+0000</td><td>2023-10-19</td><td>09:17:05</td></tr><tr><td>Kotak Mahindra Bank Limited</td><td>KOTAKBANK.NS</td><td>1740.05</td><td>-13.35</td><td>-0.76%</td><td>2023-10-19T09:20:13.843+0000</td><td>2023-10-19</td><td>09:20:13</td></tr><tr><td>Britannia Industries Limited</td><td>BRITANNIA.NS</td><td>4600.95</td><td>-6.75</td><td>-0.15%</td><td>2023-10-19T09:21:39.787+0000</td><td>2023-10-19</td><td>09:21:39</td></tr><tr><td>Tata Consultancy Services Limited</td><td>TCS.NS</td><td>3459.95</td><td>-27.3</td><td>-0.78%</td><td>2023-10-19T09:26:13.162+0000</td><td>2023-10-19</td><td>09:26:13</td></tr><tr><td>Tata Consultancy Services Limited</td><td>TCS.NS</td><td>3459.0</td><td>-28.25</td><td>-0.81%</td><td>2023-10-19T09:20:57.191+0000</td><td>2023-10-19</td><td>09:20:57</td></tr><tr><td>Britannia Industries Limited</td><td>BRITANNIA.NS</td><td>4604.4</td><td>-3.3</td><td>-0.07%</td><td>2023-10-19T09:19:00.112+0000</td><td>2023-10-19</td><td>09:19:00</td></tr><tr><td>Tata Consultancy Services Limited</td><td>TCS.NS</td><td>3458.05</td><td>-29.2</td><td>-0.84%</td><td>2023-10-19T09:18:07.464+0000</td><td>2023-10-19</td><td>09:18:07</td></tr><tr><td>Reliance Industries Limited</td><td>RELIANCE.NS</td><td>2308.05</td><td>-15.95</td><td>-0.69%</td><td>2023-10-19T09:20:43.462+0000</td><td>2023-10-19</td><td>09:20:43</td></tr><tr><td>Reliance Industries Limited</td><td>RELIANCE.NS</td><td>2305.95</td><td>-18.05</td><td>-0.78%</td><td>2023-10-19T09:23:10.365+0000</td><td>2023-10-19</td><td>09:23:10</td></tr><tr><td>Tata Consultancy Services Limited</td><td>TCS.NS</td><td>3460.65</td><td>-26.6</td><td>-0.76%</td><td>2023-10-19T09:23:23.267+0000</td><td>2023-10-19</td><td>09:23:23</td></tr><tr><td>Kotak Mahindra Bank Limited</td><td>KOTAKBANK.NS</td><td>1738.7</td><td>-14.7</td><td>-0.84%</td><td>2023-10-19T09:22:37.867+0000</td><td>2023-10-19</td><td>09:22:37</td></tr><tr><td>Britannia Industries Limited</td><td>BRITANNIA.NS</td><td>4601.1</td><td>-6.6</td><td>-0.14%</td><td>2023-10-19T09:24:14.366+0000</td><td>2023-10-19</td><td>09:24:14</td></tr><tr><td>Reliance Industries Limited</td><td>RELIANCE.NS</td><td>2307.55</td><td>-16.45</td><td>-0.71%</td><td>2023-10-19T09:25:56.385+0000</td><td>2023-10-19</td><td>09:25:56</td></tr><tr><td>Kotak Mahindra Bank Limited</td><td>KOTAKBANK.NS</td><td>1739.6</td><td>-13.8</td><td>-0.79%</td><td>2023-10-19T09:25:20.056+0000</td><td>2023-10-19</td><td>09:25:20</td></tr><tr><td>Reliance Industries Limited</td><td>RELIANCE.NS</td><td>2308.7</td><td>-15.3</td><td>-0.66%</td><td>2023-10-19T09:17:44.119+0000</td><td>2023-10-19</td><td>09:17:44</td></tr><tr><td>Asian Paints Limited</td><td>ASIANPAINT.NS</td><td>3103.0</td><td>6.55</td><td>+0.21%</td><td>2023-10-19T09:19:14.539+0000</td><td>2023-10-19</td><td>09:19:14</td></tr><tr><td>Axis Bank Limited</td><td>AXISBANK.NS</td><td>991.4</td><td>-1.45</td><td>-0.15%</td><td>2023-10-19T09:23:40.845+0000</td><td>2023-10-19</td><td>09:23:40</td></tr><tr><td>ICICI Bank Limited</td><td>ICICIBANK.NS</td><td>939.15</td><td>-4.6</td><td>-0.49%</td><td>2023-10-19T09:17:26.526+0000</td><td>2023-10-19</td><td>09:17:26</td></tr><tr><td>ICICI Bank Limited</td><td>ICICIBANK.NS</td><td>939.05</td><td>-4.7</td><td>-0.50%</td><td>2023-10-19T09:20:29.189+0000</td><td>2023-10-19</td><td>09:20:29</td></tr><tr><td>ICICI Bank Limited</td><td>ICICIBANK.NS</td><td>938.35</td><td>-5.4</td><td>-0.57%</td><td>2023-10-19T09:22:53.718+0000</td><td>2023-10-19</td><td>09:22:53</td></tr><tr><td>HDFC Bank Limited</td><td>HDFCBANK.NS</td><td>1517.7</td><td>-2.05</td><td>-0.13%</td><td>2023-10-19T09:19:57.053+0000</td><td>2023-10-19</td><td>09:19:57</td></tr><tr><td>Axis Bank Limited</td><td>AXISBANK.NS</td><td>991.55</td><td>-1.3</td><td>-0.13%</td><td>2023-10-19T09:21:10.333+0000</td><td>2023-10-19</td><td>09:21:10</td></tr><tr><td>State Bank of India</td><td>SBIN.NS</td><td>571.05</td><td>-1.6</td><td>-0.28%</td><td>2023-10-19T09:16:29.962+0000</td><td>2023-10-19</td><td>09:16:29</td></tr><tr><td>State Bank of India</td><td>SBIN.NS</td><td>570.85</td><td>-1.8</td><td>-0.31%</td><td>2023-10-19T09:19:30.219+0000</td><td>2023-10-19</td><td>09:19:30</td></tr><tr><td>State Bank of India</td><td>SBIN.NS</td><td>570.85</td><td>-1.8</td><td>-0.31%</td><td>2023-10-19T09:22:08.157+0000</td><td>2023-10-19</td><td>09:22:08</td></tr><tr><td>Bajaj Finance Limited</td><td>BAJFINANCE.NS</td><td>7867.55</td><td>1.0</td><td>+0.01%</td><td>2023-10-19T09:21:24.518+0000</td><td>2023-10-19</td><td>09:21:24</td></tr><tr><td>Bajaj Finance Limited</td><td>BAJFINANCE.NS</td><td>7866.75</td><td>0.2</td><td>+0.00%</td><td>2023-10-19T09:18:45.152+0000</td><td>2023-10-19</td><td>09:18:45</td></tr><tr><td>Asian Paints Limited</td><td>ASIANPAINT.NS</td><td>3101.65</td><td>5.2</td><td>+0.17%</td><td>2023-10-19T09:24:29.392+0000</td><td>2023-10-19</td><td>09:24:29</td></tr><tr><td>Asian Paints Limited</td><td>ASIANPAINT.NS</td><td>3101.3</td><td>4.85</td><td>+0.16%</td><td>2023-10-19T09:21:54.551+0000</td><td>2023-10-19</td><td>09:21:54</td></tr><tr><td>Bajaj Finance Limited</td><td>BAJFINANCE.NS</td><td>7869.5</td><td>2.95</td><td>+0.04%</td><td>2023-10-19T09:23:55.233+0000</td><td>2023-10-19</td><td>09:23:55</td></tr><tr><td>HDFC Bank Limited</td><td>HDFCBANK.NS</td><td>1516.8</td><td>-2.95</td><td>-0.19%</td><td>2023-10-19T09:25:03.947+0000</td><td>2023-10-19</td><td>09:25:03</td></tr><tr><td>HDFC Bank Limited</td><td>HDFCBANK.NS</td><td>1518.7</td><td>-1.05</td><td>-0.07%</td><td>2023-10-19T09:16:48.551+0000</td><td>2023-10-19</td><td>09:16:48</td></tr><tr><td>Axis Bank Limited</td><td>AXISBANK.NS</td><td>992.05</td><td>-0.8</td><td>-0.08%</td><td>2023-10-19T09:18:24.255+0000</td><td>2023-10-19</td><td>09:18:24</td></tr><tr><td>HDFC Bank Limited</td><td>HDFCBANK.NS</td><td>1517.6</td><td>-2.15</td><td>-0.14%</td><td>2023-10-19T09:22:22.587+0000</td><td>2023-10-19</td><td>09:22:22</td></tr><tr><td>ICICI Bank Limited</td><td>ICICIBANK.NS</td><td>938.8</td><td>-4.95</td><td>-0.52%</td><td>2023-10-19T09:25:39.299+0000</td><td>2023-10-19</td><td>09:25:39</td></tr><tr><td>Britannia Industries Limited</td><td>BRITANNIA.NS</td><td>4598.45</td><td>-9.25</td><td>-0.20%</td><td>2023-10-19T09:35:22.406+0000</td><td>2023-10-19</td><td>09:35:22</td></tr><tr><td>Britannia Industries Limited</td><td>BRITANNIA.NS</td><td>4603.1</td><td>-4.6</td><td>-0.10%</td><td>2023-10-19T09:51:34.245+0000</td><td>2023-10-19</td><td>09:51:34</td></tr><tr><td>Britannia Industries Limited</td><td>BRITANNIA.NS</td><td>4600.0</td><td>-7.7</td><td>-0.17%</td><td>2023-10-19T09:43:04.418+0000</td><td>2023-10-19</td><td>09:43:04</td></tr><tr><td>Britannia Industries Limited</td><td>BRITANNIA.NS</td><td>4603.4</td><td>-4.3</td><td>-0.09%</td><td>2023-10-19T09:27:18.517+0000</td><td>2023-10-19</td><td>09:27:18</td></tr><tr><td>Britannia Industries Limited</td><td>BRITANNIA.NS</td><td>4600.25</td><td>-7.45</td><td>-0.16%</td><td>2023-10-19T09:37:55.439+0000</td><td>2023-10-19</td><td>09:37:55</td></tr><tr><td>Britannia Industries Limited</td><td>BRITANNIA.NS</td><td>4607.25</td><td>-0.45</td><td>-0.01%</td><td>2023-10-19T09:56:56.549+0000</td><td>2023-10-19</td><td>09:56:56</td></tr><tr><td>Britannia Industries Limited</td><td>BRITANNIA.NS</td><td>4609.15</td><td>1.45</td><td>+0.03%</td><td>2023-10-19T09:54:04.864+0000</td><td>2023-10-19</td><td>09:54:04</td></tr><tr><td>Britannia Industries Limited</td><td>BRITANNIA.NS</td><td>4600.05</td><td>-7.65</td><td>-0.17%</td><td>2023-10-19T09:40:37.979+0000</td><td>2023-10-19</td><td>09:40:37</td></tr><tr><td>Britannia Industries Limited</td><td>BRITANNIA.NS</td><td>4608.0</td><td>0.3</td><td>+0.01%</td><td>2023-10-19T10:01:54.460+0000</td><td>2023-10-19</td><td>10:01:54</td></tr><tr><td>Britannia Industries Limited</td><td>BRITANNIA.NS</td><td>4602.7</td><td>-5.0</td><td>-0.11%</td><td>2023-10-19T09:32:45.892+0000</td><td>2023-10-19</td><td>09:32:45</td></tr><tr><td>Britannia Industries Limited</td><td>BRITANNIA.NS</td><td>4603.85</td><td>-3.85</td><td>-0.08%</td><td>2023-10-19T09:48:52.118+0000</td><td>2023-10-19</td><td>09:48:52</td></tr><tr><td>Britannia Industries Limited</td><td>BRITANNIA.NS</td><td>4599.35</td><td>-8.35</td><td>-0.18%</td><td>2023-10-19T09:45:37.122+0000</td><td>2023-10-19</td><td>09:45:37</td></tr><tr><td>Britannia Industries Limited</td><td>BRITANNIA.NS</td><td>4602.45</td><td>-5.25</td><td>-0.11%</td><td>2023-10-19T10:07:22.855+0000</td><td>2023-10-19</td><td>10:07:22</td></tr><tr><td>Britannia Industries Limited</td><td>BRITANNIA.NS</td><td>4605.0</td><td>-2.7</td><td>-0.06%</td><td>2023-10-19T09:30:04.074+0000</td><td>2023-10-19</td><td>09:30:04</td></tr><tr><td>Tata Consultancy Services Limited</td><td>TCS.NS</td><td>3455.0</td><td>-32.25</td><td>-0.92%</td><td>2023-10-19T09:50:48.861+0000</td><td>2023-10-19</td><td>09:50:48</td></tr><tr><td>Tata Consultancy Services Limited</td><td>TCS.NS</td><td>3456.8</td><td>-30.45</td><td>-0.87%</td><td>2023-10-19T09:39:47.757+0000</td><td>2023-10-19</td><td>09:39:47</td></tr><tr><td>Tata Consultancy Services Limited</td><td>TCS.NS</td><td>3459.4</td><td>-27.85</td><td>-0.80%</td><td>2023-10-19T09:29:14.893+0000</td><td>2023-10-19</td><td>09:29:14</td></tr><tr><td>Tata Consultancy Services Limited</td><td>TCS.NS</td><td>3456.0</td><td>-31.25</td><td>-0.90%</td><td>2023-10-19T09:44:48.634+0000</td><td>2023-10-19</td><td>09:44:48</td></tr><tr><td>Tata Consultancy Services Limited</td><td>TCS.NS</td><td>3452.75</td><td>-34.5</td><td>-0.99%</td><td>2023-10-19T09:56:15.356+0000</td><td>2023-10-19</td><td>09:56:15</td></tr><tr><td>Tata Consultancy Services Limited</td><td>TCS.NS</td><td>3455.65</td><td>-31.6</td><td>-0.91%</td><td>2023-10-19T10:03:45.011+0000</td><td>2023-10-19</td><td>10:03:45</td></tr><tr><td>Tata Consultancy Services Limited</td><td>TCS.NS</td><td>3454.8</td><td>-32.45</td><td>-0.93%</td><td>2023-10-19T10:01:07.671+0000</td><td>2023-10-19</td><td>10:01:07</td></tr><tr><td>Tata Consultancy Services Limited</td><td>TCS.NS</td><td>3458.0</td><td>-29.25</td><td>-0.84%</td><td>2023-10-19T09:34:39.466+0000</td><td>2023-10-19</td><td>09:34:39</td></tr><tr><td>Tata Consultancy Services Limited</td><td>TCS.NS</td><td>3455.65</td><td>-31.6</td><td>-0.91%</td><td>2023-10-19T10:06:31.885+0000</td><td>2023-10-19</td><td>10:06:31</td></tr><tr><td>Tata Consultancy Services Limited</td><td>TCS.NS</td><td>3455.65</td><td>-31.6</td><td>-0.91%</td><td>2023-10-19T10:09:25.094+0000</td><td>2023-10-19</td><td>10:09:25</td></tr><tr><td>Tata Consultancy Services Limited</td><td>TCS.NS</td><td>3453.9</td><td>-33.35</td><td>-0.96%</td><td>2023-10-19T09:58:44.484+0000</td><td>2023-10-19</td><td>09:58:44</td></tr><tr><td>Tata Consultancy Services Limited</td><td>TCS.NS</td><td>3455.0</td><td>-32.25</td><td>-0.92%</td><td>2023-10-19T09:47:30.570+0000</td><td>2023-10-19</td><td>09:47:30</td></tr><tr><td>Tata Consultancy Services Limited</td><td>TCS.NS</td><td>3456.35</td><td>-30.9</td><td>-0.89%</td><td>2023-10-19T09:42:23.705+0000</td><td>2023-10-19</td><td>09:42:23</td></tr><tr><td>Tata Consultancy Services Limited</td><td>TCS.NS</td><td>3460.15</td><td>-27.1</td><td>-0.78%</td><td>2023-10-19T09:31:59.190+0000</td><td>2023-10-19</td><td>09:31:59</td></tr><tr><td>Kotak Mahindra Bank Limited</td><td>KOTAKBANK.NS</td><td>1736.35</td><td>-17.05</td><td>-0.97%</td><td>2023-10-19T09:46:39.672+0000</td><td>2023-10-19</td><td>09:46:39</td></tr><tr><td>Kotak Mahindra Bank Limited</td><td>KOTAKBANK.NS</td><td>1737.85</td><td>-15.55</td><td>-0.89%</td><td>2023-10-19T09:41:40.267+0000</td><td>2023-10-19</td><td>09:41:40</td></tr><tr><td>Kotak Mahindra Bank Limited</td><td>KOTAKBANK.NS</td><td>1738.65</td><td>-14.75</td><td>-0.84%</td><td>2023-10-19T10:00:24.682+0000</td><td>2023-10-19</td><td>10:00:24</td></tr><tr><td>Kotak Mahindra Bank Limited</td><td>KOTAKBANK.NS</td><td>1738.8</td><td>-14.6</td><td>-0.83%</td><td>2023-10-19T09:38:58.531+0000</td><td>2023-10-19</td><td>09:38:58</td></tr><tr><td>Kotak Mahindra Bank Limited</td><td>KOTAKBANK.NS</td><td>1737.75</td><td>-15.65</td><td>-0.89%</td><td>2023-10-19T09:44:01.875+0000</td><td>2023-10-19</td><td>09:44:01</td></tr><tr><td>Kotak Mahindra Bank Limited</td><td>KOTAKBANK.NS</td><td>1738.2</td><td>-15.2</td><td>-0.87%</td><td>2023-10-19T09:33:52.519+0000</td><td>2023-10-19</td><td>09:33:52</td></tr><tr><td>Kotak Mahindra Bank Limited</td><td>KOTAKBANK.NS</td><td>1737.9</td><td>-15.5</td><td>-0.88%</td><td>2023-10-19T09:50:03.487+0000</td><td>2023-10-19</td><td>09:50:03</td></tr><tr><td>Kotak Mahindra Bank Limited</td><td>KOTAKBANK.NS</td><td>1739.3</td><td>-14.1</td><td>-0.80%</td><td>2023-10-19T09:28:27.134+0000</td><td>2023-10-19</td><td>09:28:27</td></tr><tr><td>Kotak Mahindra Bank Limited</td><td>KOTAKBANK.NS</td><td>1738.45</td><td>-14.95</td><td>-0.85%</td><td>2023-10-19T10:02:58.378+0000</td><td>2023-10-19</td><td>10:02:58</td></tr><tr><td>Kotak Mahindra Bank Limited</td><td>KOTAKBANK.NS</td><td>1738.45</td><td>-14.95</td><td>-0.85%</td><td>2023-10-19T10:08:29.588+0000</td><td>2023-10-19</td><td>10:08:29</td></tr><tr><td>Kotak Mahindra Bank Limited</td><td>KOTAKBANK.NS</td><td>1740.35</td><td>-13.05</td><td>-0.74%</td><td>2023-10-19T09:36:22.572+0000</td><td>2023-10-19</td><td>09:36:22</td></tr><tr><td>Kotak Mahindra Bank Limited</td><td>KOTAKBANK.NS</td><td>1739.9</td><td>-13.5</td><td>-0.77%</td><td>2023-10-19T09:55:24.584+0000</td><td>2023-10-19</td><td>09:55:24</td></tr><tr><td>Kotak Mahindra Bank Limited</td><td>KOTAKBANK.NS</td><td>1738.0</td><td>-15.4</td><td>-0.88%</td><td>2023-10-19T09:31:09.545+0000</td><td>2023-10-19</td><td>09:31:09</td></tr><tr><td>Reliance Industries Limited</td><td>RELIANCE.NS</td><td>2309.0</td><td>-15.0</td><td>-0.65%</td><td>2023-10-19T09:39:32.128+0000</td><td>2023-10-19</td><td>09:39:32</td></tr><tr><td>Reliance Industries Limited</td><td>RELIANCE.NS</td><td>2302.0</td><td>-22.0</td><td>-0.95%</td><td>2023-10-19T09:58:27.585+0000</td><td>2023-10-19</td><td>09:58:27</td></tr><tr><td>Reliance Industries Limited</td><td>RELIANCE.NS</td><td>2310.25</td><td>-13.75</td><td>-0.59%</td><td>2023-10-19T09:34:24.727+0000</td><td>2023-10-19</td><td>09:34:24</td></tr><tr><td>Reliance Industries Limited</td><td>RELIANCE.NS</td><td>2309.35</td><td>-14.65</td><td>-0.63%</td><td>2023-10-19T09:36:54.537+0000</td><td>2023-10-19</td><td>09:36:54</td></tr><tr><td>Reliance Industries Limited</td><td>RELIANCE.NS</td><td>2306.15</td><td>-17.85</td><td>-0.77%</td><td>2023-10-19T10:06:14.857+0000</td><td>2023-10-19</td><td>10:06:14</td></tr><tr><td>Reliance Industries Limited</td><td>RELIANCE.NS</td><td>2306.85</td><td>-17.15</td><td>-0.74%</td><td>2023-10-19T09:47:13.939+0000</td><td>2023-10-19</td><td>09:47:13</td></tr><tr><td>Reliance Industries Limited</td><td>RELIANCE.NS</td><td>2303.4</td><td>-20.6</td><td>-0.89%</td><td>2023-10-19T09:56:00.191+0000</td><td>2023-10-19</td><td>09:56:00</td></tr><tr><td>Reliance Industries Limited</td><td>RELIANCE.NS</td><td>2305.05</td><td>-18.95</td><td>-0.82%</td><td>2023-10-19T09:50:35.189+0000</td><td>2023-10-19</td><td>09:50:35</td></tr><tr><td>Reliance Industries Limited</td><td>RELIANCE.NS</td><td>2306.15</td><td>-17.85</td><td>-0.77%</td><td>2023-10-19T10:03:28.699+0000</td><td>2023-10-19</td><td>10:03:28</td></tr><tr><td>Reliance Industries Limited</td><td>RELIANCE.NS</td><td>2306.15</td><td>-17.85</td><td>-0.77%</td><td>2023-10-19T10:09:08.456+0000</td><td>2023-10-19</td><td>10:09:08</td></tr><tr><td>Reliance Industries Limited</td><td>RELIANCE.NS</td><td>2304.65</td><td>-19.35</td><td>-0.83%</td><td>2023-10-19T10:00:53.092+0000</td><td>2023-10-19</td><td>10:00:53</td></tr><tr><td>Reliance Industries Limited</td><td>RELIANCE.NS</td><td>2303.35</td><td>-20.65</td><td>-0.89%</td><td>2023-10-19T09:53:02.564+0000</td><td>2023-10-19</td><td>09:53:02</td></tr><tr><td>Reliance Industries Limited</td><td>RELIANCE.NS</td><td>2305.35</td><td>-18.65</td><td>-0.80%</td><td>2023-10-19T09:44:32.560+0000</td><td>2023-10-19</td><td>09:44:32</td></tr><tr><td>Reliance Industries Limited</td><td>RELIANCE.NS</td><td>2309.15</td><td>-14.85</td><td>-0.64%</td><td>2023-10-19T09:31:41.916+0000</td><td>2023-10-19</td><td>09:31:41</td></tr><tr><td>Reliance Industries Limited</td><td>RELIANCE.NS</td><td>2307.95</td><td>-16.05</td><td>-0.69%</td><td>2023-10-19T09:28:59.262+0000</td><td>2023-10-19</td><td>09:28:59</td></tr><tr><td>Reliance Industries Limited</td><td>RELIANCE.NS</td><td>2306.3</td><td>-17.7</td><td>-0.76%</td><td>2023-10-19T09:42:10.091+0000</td><td>2023-10-19</td><td>09:42:10</td></tr><tr><td>Bajaj Finance Limited</td><td>BAJFINANCE.NS</td><td>7842.05</td><td>-24.5</td><td>-0.31%</td><td>2023-10-19T09:40:22.553+0000</td><td>2023-10-19</td><td>09:40:22</td></tr><tr><td>Bajaj Finance Limited</td><td>BAJFINANCE.NS</td><td>7870.4</td><td>3.85</td><td>+0.05%</td><td>2023-10-19T09:26:50.363+0000</td><td>2023-10-19</td><td>09:26:50</td></tr><tr><td>Bajaj Finance Limited</td><td>BAJFINANCE.NS</td><td>7838.25</td><td>-28.3</td><td>-0.36%</td><td>2023-10-19T09:45:20.843+0000</td><td>2023-10-19</td><td>09:45:20</td></tr><tr><td>Bajaj Finance Limited</td><td>BAJFINANCE.NS</td><td>7872.05</td><td>5.5</td><td>+0.07%</td><td>2023-10-19T09:29:46.775+0000</td><td>2023-10-19</td><td>09:29:46</td></tr><tr><td>Bajaj Finance Limited</td><td>BAJFINANCE.NS</td><td>7824.9</td><td>-41.65</td><td>-0.53%</td><td>2023-10-19T09:53:48.680+0000</td><td>2023-10-19</td><td>09:53:48</td></tr><tr><td>Bajaj Finance Limited</td><td>BAJFINANCE.NS</td><td>7829.5</td><td>-37.05</td><td>-0.47%</td><td>2023-10-19T09:48:24.774+0000</td><td>2023-10-19</td><td>09:48:24</td></tr><tr><td>Bajaj Finance Limited</td><td>BAJFINANCE.NS</td><td>7822.4</td><td>-44.15</td><td>-0.56%</td><td>2023-10-19T10:01:37.076+0000</td><td>2023-10-19</td><td>10:01:37</td></tr><tr><td>Bajaj Finance Limited</td><td>BAJFINANCE.NS</td><td>7854.6</td><td>-11.95</td><td>-0.15%</td><td>2023-10-19T09:35:07.273+0000</td><td>2023-10-19</td><td>09:35:07</td></tr><tr><td>Bajaj Finance Limited</td><td>BAJFINANCE.NS</td><td>7840.85</td><td>-25.7</td><td>-0.33%</td><td>2023-10-19T09:42:51.385+0000</td><td>2023-10-19</td><td>09:42:51</td></tr><tr><td>Bajaj Finance Limited</td><td>BAJFINANCE.NS</td><td>7841.55</td><td>-25.0</td><td>-0.32%</td><td>2023-10-19T10:04:20.436+0000</td><td>2023-10-19</td><td>10:04:20</td></tr><tr><td>Bajaj Finance Limited</td><td>BAJFINANCE.NS</td><td>7865.25</td><td>-1.3</td><td>-0.02%</td><td>2023-10-19T09:32:30.060+0000</td><td>2023-10-19</td><td>09:32:30</td></tr><tr><td>Bajaj Finance Limited</td><td>BAJFINANCE.NS</td><td>7829.7</td><td>-36.85</td><td>-0.47%</td><td>2023-10-19T09:51:20.274+0000</td><td>2023-10-19</td><td>09:51:20</td></tr><tr><td>Bajaj Finance Limited</td><td>BAJFINANCE.NS</td><td>7841.55</td><td>-25.0</td><td>-0.32%</td><td>2023-10-19T10:07:06.387+0000</td><td>2023-10-19</td><td>10:07:06</td></tr><tr><td>Bajaj Finance Limited</td><td>BAJFINANCE.NS</td><td>7841.55</td><td>-25.0</td><td>-0.32%</td><td>2023-10-19T10:09:56.388+0000</td><td>2023-10-19</td><td>10:09:56</td></tr><tr><td>Bajaj Finance Limited</td><td>BAJFINANCE.NS</td><td>7820.8</td><td>-45.75</td><td>-0.58%</td><td>2023-10-19T09:56:42.679+0000</td><td>2023-10-19</td><td>09:56:42</td></tr><tr><td>Bajaj Finance Limited</td><td>BAJFINANCE.NS</td><td>7860.55</td><td>-6.0</td><td>-0.08%</td><td>2023-10-19T09:37:40.039+0000</td><td>2023-10-19</td><td>09:37:40</td></tr><tr><td>Asian Paints Limited</td><td>ASIANPAINT.NS</td><td>3103.55</td><td>7.1</td><td>+0.23%</td><td>2023-10-19T09:27:39.387+0000</td><td>2023-10-19</td><td>09:27:39</td></tr><tr><td>Asian Paints Limited</td><td>ASIANPAINT.NS</td><td>3099.25</td><td>2.8</td><td>+0.09%</td><td>2023-10-19T09:57:10.572+0000</td><td>2023-10-19</td><td>09:57:10</td></tr><tr><td>Asian Paints Limited</td><td>ASIANPAINT.NS</td><td>3101.7</td><td>5.25</td><td>+0.17%</td><td>2023-10-19T09:40:55.215+0000</td><td>2023-10-19</td><td>09:40:55</td></tr><tr><td>Asian Paints Limited</td><td>ASIANPAINT.NS</td><td>3100.8</td><td>4.35</td><td>+0.14%</td><td>2023-10-19T09:49:10.105+0000</td><td>2023-10-19</td><td>09:49:10</td></tr><tr><td>Asian Paints Limited</td><td>ASIANPAINT.NS</td><td>3102.5</td><td>6.05</td><td>+0.20%</td><td>2023-10-19T09:30:20.765+0000</td><td>2023-10-19</td><td>09:30:20</td></tr><tr><td>Asian Paints Limited</td><td>ASIANPAINT.NS</td><td>3102.65</td><td>6.2</td><td>+0.20%</td><td>2023-10-19T09:35:37.517+0000</td><td>2023-10-19</td><td>09:35:37</td></tr><tr><td>Asian Paints Limited</td><td>ASIANPAINT.NS</td><td>3101.8</td><td>5.35</td><td>+0.17%</td><td>2023-10-19T10:07:37.904+0000</td><td>2023-10-19</td><td>10:07:37</td></tr><tr><td>Asian Paints Limited</td><td>ASIANPAINT.NS</td><td>3103.0</td><td>6.55</td><td>+0.21%</td><td>2023-10-19T09:38:11.179+0000</td><td>2023-10-19</td><td>09:38:11</td></tr><tr><td>Asian Paints Limited</td><td>ASIANPAINT.NS</td><td>3101.7</td><td>5.25</td><td>+0.17%</td><td>2023-10-19T09:51:49.576+0000</td><td>2023-10-19</td><td>09:51:49</td></tr><tr><td>Asian Paints Limited</td><td>ASIANPAINT.NS</td><td>3102.85</td><td>6.4</td><td>+0.21%</td><td>2023-10-19T09:33:02.257+0000</td><td>2023-10-19</td><td>09:33:02</td></tr><tr><td>Britannia Industries Limited</td><td>BRITANNIA.NS</td><td>4602.45</td><td>-5.25</td><td>-0.11%</td><td>2023-10-19T10:04:37.088+0000</td><td>2023-10-19</td><td>10:04:37</td></tr><tr><td>Asian Paints Limited</td><td>ASIANPAINT.NS</td><td>3101.8</td><td>5.35</td><td>+0.17%</td><td>2023-10-19T10:04:56.263+0000</td><td>2023-10-19</td><td>10:04:56</td></tr><tr><td>Britannia Industries Limited</td><td>BRITANNIA.NS</td><td>4607.0</td><td>-0.7</td><td>-0.02%</td><td>2023-10-19T09:59:29.656+0000</td><td>2023-10-19</td><td>09:59:29</td></tr><tr><td>Asian Paints Limited</td><td>ASIANPAINT.NS</td><td>3101.0</td><td>4.55</td><td>+0.15%</td><td>2023-10-19T09:59:42.876+0000</td><td>2023-10-19</td><td>09:59:42</td></tr><tr><td>Britannia Industries Limited</td><td>BRITANNIA.NS</td><td>4602.45</td><td>-5.25</td><td>-0.11%</td><td>2023-10-19T10:10:12.035+0000</td><td>2023-10-19</td><td>10:10:12</td></tr><tr><td>Asian Paints Limited</td><td>ASIANPAINT.NS</td><td>3101.8</td><td>5.35</td><td>+0.17%</td><td>2023-10-19T10:10:28.664+0000</td><td>2023-10-19</td><td>10:10:28</td></tr><tr><td>ICICI Bank Limited</td><td>ICICIBANK.NS</td><td>938.35</td><td>-5.4</td><td>-0.57%</td><td>2023-10-19T09:28:42.120+0000</td><td>2023-10-19</td><td>09:28:42</td></tr><tr><td>ICICI Bank Limited</td><td>ICICIBANK.NS</td><td>938.2</td><td>-5.55</td><td>-0.59%</td><td>2023-10-19T09:31:24.537+0000</td><td>2023-10-19</td><td>09:31:24</td></tr><tr><td>ICICI Bank Limited</td><td>ICICIBANK.NS</td><td>935.05</td><td>-8.7</td><td>-0.92%</td><td>2023-10-19T09:44:16.876+0000</td><td>2023-10-19</td><td>09:44:16</td></tr><tr><td>ICICI Bank Limited</td><td>ICICIBANK.NS</td><td>935.55</td><td>-8.2</td><td>-0.87%</td><td>2023-10-19T09:39:16.229+0000</td><td>2023-10-19</td><td>09:39:16</td></tr><tr><td>ICICI Bank Limited</td><td>ICICIBANK.NS</td><td>935.75</td><td>-8.0</td><td>-0.85%</td><td>2023-10-19T10:05:58.442+0000</td><td>2023-10-19</td><td>10:05:58</td></tr><tr><td>ICICI Bank Limited</td><td>ICICIBANK.NS</td><td>935.75</td><td>-8.0</td><td>-0.85%</td><td>2023-10-19T10:03:13.288+0000</td><td>2023-10-19</td><td>10:03:13</td></tr><tr><td>ICICI Bank Limited</td><td>ICICIBANK.NS</td><td>934.9</td><td>-8.85</td><td>-0.94%</td><td>2023-10-19T09:50:18.807+0000</td><td>2023-10-19</td><td>09:50:18</td></tr><tr><td>ICICI Bank Limited</td><td>ICICIBANK.NS</td><td>936.1</td><td>-7.65</td><td>-0.81%</td><td>2023-10-19T09:41:54.354+0000</td><td>2023-10-19</td><td>09:41:54</td></tr><tr><td>ICICI Bank Limited</td><td>ICICIBANK.NS</td><td>935.75</td><td>-8.0</td><td>-0.85%</td><td>2023-10-19T10:08:51.931+0000</td><td>2023-10-19</td><td>10:08:51</td></tr><tr><td>ICICI Bank Limited</td><td>ICICIBANK.NS</td><td>934.75</td><td>-9.0</td><td>-0.95%</td><td>2023-10-19T09:46:56.122+0000</td><td>2023-10-19</td><td>09:46:56</td></tr><tr><td>ICICI Bank Limited</td><td>ICICIBANK.NS</td><td>934.85</td><td>-8.9</td><td>-0.94%</td><td>2023-10-19T09:58:10.597+0000</td><td>2023-10-19</td><td>09:58:10</td></tr><tr><td>ICICI Bank Limited</td><td>ICICIBANK.NS</td><td>937.85</td><td>-5.9</td><td>-0.63%</td><td>2023-10-19T09:36:38.259+0000</td><td>2023-10-19</td><td>09:36:38</td></tr><tr><td>ICICI Bank Limited</td><td>ICICIBANK.NS</td><td>934.85</td><td>-8.9</td><td>-0.94%</td><td>2023-10-19T10:00:38.547+0000</td><td>2023-10-19</td><td>10:00:38</td></tr><tr><td>ICICI Bank Limited</td><td>ICICIBANK.NS</td><td>937.9</td><td>-5.85</td><td>-0.62%</td><td>2023-10-19T09:34:09.523+0000</td><td>2023-10-19</td><td>09:34:09</td></tr><tr><td>ICICI Bank Limited</td><td>ICICIBANK.NS</td><td>934.85</td><td>-8.9</td><td>-0.94%</td><td>2023-10-19T09:55:43.349+0000</td><td>2023-10-19</td><td>09:55:43</td></tr><tr><td>Kotak Mahindra Bank Limited</td><td>KOTAKBANK.NS</td><td>1740.1</td><td>-13.3</td><td>-0.76%</td><td>2023-10-19T09:52:32.668+0000</td><td>2023-10-19</td><td>09:52:32</td></tr><tr><td>ICICI Bank Limited</td><td>ICICIBANK.NS</td><td>934.6</td><td>-9.15</td><td>-0.97%</td><td>2023-10-19T09:52:46.812+0000</td><td>2023-10-19</td><td>09:52:46</td></tr><tr><td>Tata Consultancy Services Limited</td><td>TCS.NS</td><td>3457.0</td><td>-30.25</td><td>-0.87%</td><td>2023-10-19T09:37:08.217+0000</td><td>2023-10-19</td><td>09:37:08</td></tr><tr><td>Axis Bank Limited</td><td>AXISBANK.NS</td><td>992.1</td><td>-0.75</td><td>-0.08%</td><td>2023-10-19T09:37:23.358+0000</td><td>2023-10-19</td><td>09:37:23</td></tr><tr><td>Tata Consultancy Services Limited</td><td>TCS.NS</td><td>3454.1</td><td>-33.15</td><td>-0.95%</td><td>2023-10-19T09:53:18.288+0000</td><td>2023-10-19</td><td>09:53:18</td></tr><tr><td>Axis Bank Limited</td><td>AXISBANK.NS</td><td>991.15</td><td>-1.7</td><td>-0.17%</td><td>2023-10-19T09:53:33.836+0000</td><td>2023-10-19</td><td>09:53:33</td></tr><tr><td>Axis Bank Limited</td><td>AXISBANK.NS</td><td>990.95</td><td>-1.9</td><td>-0.19%</td><td>2023-10-19T09:56:29.364+0000</td><td>2023-10-19</td><td>09:56:29</td></tr><tr><td>HDFC Bank Limited</td><td>HDFCBANK.NS</td><td>1513.45</td><td>-6.3</td><td>-0.41%</td><td>2023-10-19T09:52:17.673+0000</td><td>2023-10-19</td><td>09:52:17</td></tr><tr><td>HDFC Bank Limited</td><td>HDFCBANK.NS</td><td>1515.2</td><td>-4.55</td><td>-0.30%</td><td>2023-10-19T09:46:22.987+0000</td><td>2023-10-19</td><td>09:46:22</td></tr><tr><td>HDFC Bank Limited</td><td>HDFCBANK.NS</td><td>1516.0</td><td>-3.75</td><td>-0.25%</td><td>2023-10-19T09:28:12.242+0000</td><td>2023-10-19</td><td>09:28:12</td></tr><tr><td>HDFC Bank Limited</td><td>HDFCBANK.NS</td><td>1516.15</td><td>-3.6</td><td>-0.24%</td><td>2023-10-19T09:33:33.678+0000</td><td>2023-10-19</td><td>09:33:33</td></tr><tr><td>Axis Bank Limited</td><td>AXISBANK.NS</td><td>991.4</td><td>-1.45</td><td>-0.15%</td><td>2023-10-19T09:32:14.994+0000</td><td>2023-10-19</td><td>09:32:14</td></tr><tr><td>HDFC Bank Limited</td><td>HDFCBANK.NS</td><td>1515.0</td><td>-4.75</td><td>-0.31%</td><td>2023-10-19T09:43:46.985+0000</td><td>2023-10-19</td><td>09:43:46</td></tr><tr><td>HDFC Bank Limited</td><td>HDFCBANK.NS</td><td>1515.05</td><td>-4.7</td><td>-0.31%</td><td>2023-10-19T09:30:52.224+0000</td><td>2023-10-19</td><td>09:30:52</td></tr><tr><td>HDFC Bank Limited</td><td>HDFCBANK.NS</td><td>1516.25</td><td>-3.5</td><td>-0.23%</td><td>2023-10-19T09:36:06.269+0000</td><td>2023-10-19</td><td>09:36:06</td></tr><tr><td>HDFC Bank Limited</td><td>HDFCBANK.NS</td><td>1513.8</td><td>-5.95</td><td>-0.39%</td><td>2023-10-19T09:55:06.862+0000</td><td>2023-10-19</td><td>09:55:06</td></tr><tr><td>Axis Bank Limited</td><td>AXISBANK.NS</td><td>993.15</td><td>0.3</td><td>+0.03%</td><td>2023-10-19T10:01:23.241+0000</td><td>2023-10-19</td><td>10:01:23</td></tr><tr><td>Axis Bank Limited</td><td>AXISBANK.NS</td><td>991.4</td><td>-1.45</td><td>-0.15%</td><td>2023-10-19T09:34:52.433+0000</td><td>2023-10-19</td><td>09:34:52</td></tr><tr><td>Axis Bank Limited</td><td>AXISBANK.NS</td><td>991.4</td><td>-1.45</td><td>-0.15%</td><td>2023-10-19T10:04:01.223+0000</td><td>2023-10-19</td><td>10:04:01</td></tr><tr><td>Axis Bank Limited</td><td>AXISBANK.NS</td><td>991.35</td><td>-1.5</td><td>-0.15%</td><td>2023-10-19T09:45:04.443+0000</td><td>2023-10-19</td><td>09:45:04</td></tr><tr><td>HDFC Bank Limited</td><td>HDFCBANK.NS</td><td>1515.05</td><td>-4.7</td><td>-0.31%</td><td>2023-10-19T09:49:45.892+0000</td><td>2023-10-19</td><td>09:49:45</td></tr><tr><td>Axis Bank Limited</td><td>AXISBANK.NS</td><td>991.8</td><td>-1.05</td><td>-0.11%</td><td>2023-10-19T09:40:04.656+0000</td><td>2023-10-19</td><td>09:40:04</td></tr><tr><td>Axis Bank Limited</td><td>AXISBANK.NS</td><td>990.95</td><td>-1.9</td><td>-0.19%</td><td>2023-10-19T09:58:59.622+0000</td><td>2023-10-19</td><td>09:58:59</td></tr><tr><td>Axis Bank Limited</td><td>AXISBANK.NS</td><td>991.85</td><td>-1.0</td><td>-0.10%</td><td>2023-10-19T09:26:31.820+0000</td><td>2023-10-19</td><td>09:26:31</td></tr><tr><td>Axis Bank Limited</td><td>AXISBANK.NS</td><td>991.4</td><td>-1.45</td><td>-0.15%</td><td>2023-10-19T10:06:50.158+0000</td><td>2023-10-19</td><td>10:06:50</td></tr><tr><td>Axis Bank Limited</td><td>AXISBANK.NS</td><td>992.0</td><td>-0.85</td><td>-0.09%</td><td>2023-10-19T09:29:33.039+0000</td><td>2023-10-19</td><td>09:29:33</td></tr><tr><td>Axis Bank Limited</td><td>AXISBANK.NS</td><td>991.05</td><td>-1.8</td><td>-0.18%</td><td>2023-10-19T09:47:46.303+0000</td><td>2023-10-19</td><td>09:47:46</td></tr><tr><td>HDFC Bank Limited</td><td>HDFCBANK.NS</td><td>1515.05</td><td>-4.7</td><td>-0.31%</td><td>2023-10-19T09:41:25.603+0000</td><td>2023-10-19</td><td>09:41:25</td></tr><tr><td>Axis Bank Limited</td><td>AXISBANK.NS</td><td>991.05</td><td>-1.8</td><td>-0.18%</td><td>2023-10-19T09:51:04.755+0000</td><td>2023-10-19</td><td>09:51:04</td></tr><tr><td>Axis Bank Limited</td><td>AXISBANK.NS</td><td>991.65</td><td>-1.2</td><td>-0.12%</td><td>2023-10-19T09:42:37.865+0000</td><td>2023-10-19</td><td>09:42:37</td></tr><tr><td>Axis Bank Limited</td><td>AXISBANK.NS</td><td>991.4</td><td>-1.45</td><td>-0.15%</td><td>2023-10-19T10:09:40.679+0000</td><td>2023-10-19</td><td>10:09:40</td></tr><tr><td>HDFC Bank Limited</td><td>HDFCBANK.NS</td><td>1514.95</td><td>-4.8</td><td>-0.32%</td><td>2023-10-19T10:05:24.662+0000</td><td>2023-10-19</td><td>10:05:24</td></tr><tr><td>HDFC Bank Limited</td><td>HDFCBANK.NS</td><td>1514.95</td><td>-4.8</td><td>-0.32%</td><td>2023-10-19T10:02:41.738+0000</td><td>2023-10-19</td><td>10:02:41</td></tr><tr><td>HDFC Bank Limited</td><td>HDFCBANK.NS</td><td>1514.95</td><td>-4.8</td><td>-0.32%</td><td>2023-10-19T10:08:10.999+0000</td><td>2023-10-19</td><td>10:08:10</td></tr><tr><td>HDFC Bank Limited</td><td>HDFCBANK.NS</td><td>1514.3</td><td>-5.45</td><td>-0.36%</td><td>2023-10-19T09:57:40.181+0000</td><td>2023-10-19</td><td>09:57:40</td></tr><tr><td>Kotak Mahindra Bank Limited</td><td>KOTAKBANK.NS</td><td>1737.0</td><td>-16.4</td><td>-0.94%</td><td>2023-10-19T09:57:56.871+0000</td><td>2023-10-19</td><td>09:57:56</td></tr><tr><td>State Bank of India</td><td>SBIN.NS</td><td>571.2</td><td>-1.45</td><td>-0.25%</td><td>2023-10-19T10:05:11.000+0000</td><td>2023-10-19</td><td>10:05:11</td></tr><tr><td>Kotak Mahindra Bank Limited</td><td>KOTAKBANK.NS</td><td>1738.45</td><td>-14.95</td><td>-0.85%</td><td>2023-10-19T10:05:41.882+0000</td><td>2023-10-19</td><td>10:05:41</td></tr><tr><td>State Bank of India</td><td>SBIN.NS</td><td>571.1</td><td>-1.55</td><td>-0.27%</td><td>2023-10-19T09:27:56.615+0000</td><td>2023-10-19</td><td>09:27:56</td></tr><tr><td>State Bank of India</td><td>SBIN.NS</td><td>571.1</td><td>-1.55</td><td>-0.27%</td><td>2023-10-19T09:49:25.259+0000</td><td>2023-10-19</td><td>09:49:25</td></tr><tr><td>State Bank of India</td><td>SBIN.NS</td><td>571.15</td><td>-1.5</td><td>-0.26%</td><td>2023-10-19T09:30:37.927+0000</td><td>2023-10-19</td><td>09:30:37</td></tr><tr><td>State Bank of India</td><td>SBIN.NS</td><td>571.1</td><td>-1.55</td><td>-0.27%</td><td>2023-10-19T09:52:03.808+0000</td><td>2023-10-19</td><td>09:52:03</td></tr><tr><td>State Bank of India</td><td>SBIN.NS</td><td>571.2</td><td>-1.45</td><td>-0.25%</td><td>2023-10-19T09:57:25.437+0000</td><td>2023-10-19</td><td>09:57:25</td></tr><tr><td>State Bank of India</td><td>SBIN.NS</td><td>572.05</td><td>-0.6</td><td>-0.10%</td><td>2023-10-19T09:35:53.096+0000</td><td>2023-10-19</td><td>09:35:53</td></tr><tr><td>State Bank of India</td><td>SBIN.NS</td><td>571.3</td><td>-1.35</td><td>-0.24%</td><td>2023-10-19T09:59:55.450+0000</td><td>2023-10-19</td><td>09:59:55</td></tr><tr><td>State Bank of India</td><td>SBIN.NS</td><td>571.3</td><td>-1.35</td><td>-0.24%</td><td>2023-10-19T09:41:08.874+0000</td><td>2023-10-19</td><td>09:41:08</td></tr><tr><td>State Bank of India</td><td>SBIN.NS</td><td>571.1</td><td>-1.55</td><td>-0.27%</td><td>2023-10-19T09:33:17.192+0000</td><td>2023-10-19</td><td>09:33:17</td></tr><tr><td>State Bank of India</td><td>SBIN.NS</td><td>570.95</td><td>-1.7</td><td>-0.30%</td><td>2023-10-19T09:24:47.628+0000</td><td>2023-10-19</td><td>09:24:47</td></tr><tr><td>State Bank of India</td><td>SBIN.NS</td><td>571.2</td><td>-1.45</td><td>-0.25%</td><td>2023-10-19T10:07:54.766+0000</td><td>2023-10-19</td><td>10:07:54</td></tr><tr><td>Bajaj Finance Limited</td><td>BAJFINANCE.NS</td><td>7818.1</td><td>-48.45</td><td>-0.62%</td><td>2023-10-19T09:59:15.227+0000</td><td>2023-10-19</td><td>09:59:15</td></tr><tr><td>HDFC Bank Limited</td><td>HDFCBANK.NS</td><td>1514.5</td><td>-5.25</td><td>-0.35%</td><td>2023-10-19T10:00:08.871+0000</td><td>2023-10-19</td><td>10:00:08</td></tr><tr><td>Asian Paints Limited</td><td>ASIANPAINT.NS</td><td>3100.45</td><td>4.0</td><td>+0.13%</td><td>2023-10-19T09:54:25.887+0000</td><td>2023-10-19</td><td>09:54:25</td></tr><tr><td>State Bank of India</td><td>SBIN.NS</td><td>571.0</td><td>-1.65</td><td>-0.29%</td><td>2023-10-19T09:54:43.547+0000</td><td>2023-10-19</td><td>09:54:43</td></tr><tr><td>Asian Paints Limited</td><td>ASIANPAINT.NS</td><td>3102.55</td><td>6.1</td><td>+0.20%</td><td>2023-10-19T09:43:17.921+0000</td><td>2023-10-19</td><td>09:43:17</td></tr><tr><td>State Bank of India</td><td>SBIN.NS</td><td>570.95</td><td>-1.7</td><td>-0.30%</td><td>2023-10-19T09:43:31.492+0000</td><td>2023-10-19</td><td>09:43:31</td></tr><tr><td>Asian Paints Limited</td><td>ASIANPAINT.NS</td><td>3102.05</td><td>5.6</td><td>+0.18%</td><td>2023-10-19T09:45:51.801+0000</td><td>2023-10-19</td><td>09:45:51</td></tr><tr><td>State Bank of India</td><td>SBIN.NS</td><td>571.15</td><td>-1.5</td><td>-0.26%</td><td>2023-10-19T09:46:07.624+0000</td><td>2023-10-19</td><td>09:46:07</td></tr><tr><td>Asian Paints Limited</td><td>ASIANPAINT.NS</td><td>3101.0</td><td>4.55</td><td>+0.15%</td><td>2023-10-19T10:02:10.354+0000</td><td>2023-10-19</td><td>10:02:10</td></tr><tr><td>State Bank of India</td><td>SBIN.NS</td><td>571.2</td><td>-1.45</td><td>-0.25%</td><td>2023-10-19T10:02:25.584+0000</td><td>2023-10-19</td><td>10:02:25</td></tr><tr><td>State Bank of India</td><td>SBIN.NS</td><td>571.75</td><td>-0.9</td><td>-0.16%</td><td>2023-10-19T09:38:28.451+0000</td><td>2023-10-19</td><td>09:38:28</td></tr><tr><td>HDFC Bank Limited</td><td>HDFCBANK.NS</td><td>1515.2</td><td>-4.55</td><td>-0.30%</td><td>2023-10-19T09:38:42.892+0000</td><td>2023-10-19</td><td>09:38:42</td></tr></tbody></table></div>"
      ]
     },
     "metadata": {
      "application/vnd.databricks.v1+output": {
       "addedWidgets": {},
       "aggData": [],
       "aggError": "",
       "aggOverflow": false,
       "aggSchema": [],
       "aggSeriesLimitReached": false,
       "aggType": "",
       "arguments": {},
       "columnCustomDisplayInfos": {},
       "data": [
        [
         "Kotak Mahindra Bank Limited",
         "KOTAKBANK.NS",
         1740.45,
         -12.95,
         "-0.74%",
         "2023-10-19T09:17:05.334+0000",
         "2023-10-19",
         "09:17:05"
        ],
        [
         "Kotak Mahindra Bank Limited",
         "KOTAKBANK.NS",
         1740.05,
         -13.35,
         "-0.76%",
         "2023-10-19T09:20:13.843+0000",
         "2023-10-19",
         "09:20:13"
        ],
        [
         "Britannia Industries Limited",
         "BRITANNIA.NS",
         4600.95,
         -6.75,
         "-0.15%",
         "2023-10-19T09:21:39.787+0000",
         "2023-10-19",
         "09:21:39"
        ],
        [
         "Tata Consultancy Services Limited",
         "TCS.NS",
         3459.95,
         -27.3,
         "-0.78%",
         "2023-10-19T09:26:13.162+0000",
         "2023-10-19",
         "09:26:13"
        ],
        [
         "Tata Consultancy Services Limited",
         "TCS.NS",
         3459.0,
         -28.25,
         "-0.81%",
         "2023-10-19T09:20:57.191+0000",
         "2023-10-19",
         "09:20:57"
        ],
        [
         "Britannia Industries Limited",
         "BRITANNIA.NS",
         4604.4,
         -3.3,
         "-0.07%",
         "2023-10-19T09:19:00.112+0000",
         "2023-10-19",
         "09:19:00"
        ],
        [
         "Tata Consultancy Services Limited",
         "TCS.NS",
         3458.05,
         -29.2,
         "-0.84%",
         "2023-10-19T09:18:07.464+0000",
         "2023-10-19",
         "09:18:07"
        ],
        [
         "Reliance Industries Limited",
         "RELIANCE.NS",
         2308.05,
         -15.95,
         "-0.69%",
         "2023-10-19T09:20:43.462+0000",
         "2023-10-19",
         "09:20:43"
        ],
        [
         "Reliance Industries Limited",
         "RELIANCE.NS",
         2305.95,
         -18.05,
         "-0.78%",
         "2023-10-19T09:23:10.365+0000",
         "2023-10-19",
         "09:23:10"
        ],
        [
         "Tata Consultancy Services Limited",
         "TCS.NS",
         3460.65,
         -26.6,
         "-0.76%",
         "2023-10-19T09:23:23.267+0000",
         "2023-10-19",
         "09:23:23"
        ],
        [
         "Kotak Mahindra Bank Limited",
         "KOTAKBANK.NS",
         1738.7,
         -14.7,
         "-0.84%",
         "2023-10-19T09:22:37.867+0000",
         "2023-10-19",
         "09:22:37"
        ],
        [
         "Britannia Industries Limited",
         "BRITANNIA.NS",
         4601.1,
         -6.6,
         "-0.14%",
         "2023-10-19T09:24:14.366+0000",
         "2023-10-19",
         "09:24:14"
        ],
        [
         "Reliance Industries Limited",
         "RELIANCE.NS",
         2307.55,
         -16.45,
         "-0.71%",
         "2023-10-19T09:25:56.385+0000",
         "2023-10-19",
         "09:25:56"
        ],
        [
         "Kotak Mahindra Bank Limited",
         "KOTAKBANK.NS",
         1739.6,
         -13.8,
         "-0.79%",
         "2023-10-19T09:25:20.056+0000",
         "2023-10-19",
         "09:25:20"
        ],
        [
         "Reliance Industries Limited",
         "RELIANCE.NS",
         2308.7,
         -15.3,
         "-0.66%",
         "2023-10-19T09:17:44.119+0000",
         "2023-10-19",
         "09:17:44"
        ],
        [
         "Asian Paints Limited",
         "ASIANPAINT.NS",
         3103.0,
         6.55,
         "+0.21%",
         "2023-10-19T09:19:14.539+0000",
         "2023-10-19",
         "09:19:14"
        ],
        [
         "Axis Bank Limited",
         "AXISBANK.NS",
         991.4,
         -1.45,
         "-0.15%",
         "2023-10-19T09:23:40.845+0000",
         "2023-10-19",
         "09:23:40"
        ],
        [
         "ICICI Bank Limited",
         "ICICIBANK.NS",
         939.15,
         -4.6,
         "-0.49%",
         "2023-10-19T09:17:26.526+0000",
         "2023-10-19",
         "09:17:26"
        ],
        [
         "ICICI Bank Limited",
         "ICICIBANK.NS",
         939.05,
         -4.7,
         "-0.50%",
         "2023-10-19T09:20:29.189+0000",
         "2023-10-19",
         "09:20:29"
        ],
        [
         "ICICI Bank Limited",
         "ICICIBANK.NS",
         938.35,
         -5.4,
         "-0.57%",
         "2023-10-19T09:22:53.718+0000",
         "2023-10-19",
         "09:22:53"
        ],
        [
         "HDFC Bank Limited",
         "HDFCBANK.NS",
         1517.7,
         -2.05,
         "-0.13%",
         "2023-10-19T09:19:57.053+0000",
         "2023-10-19",
         "09:19:57"
        ],
        [
         "Axis Bank Limited",
         "AXISBANK.NS",
         991.55,
         -1.3,
         "-0.13%",
         "2023-10-19T09:21:10.333+0000",
         "2023-10-19",
         "09:21:10"
        ],
        [
         "State Bank of India",
         "SBIN.NS",
         571.05,
         -1.6,
         "-0.28%",
         "2023-10-19T09:16:29.962+0000",
         "2023-10-19",
         "09:16:29"
        ],
        [
         "State Bank of India",
         "SBIN.NS",
         570.85,
         -1.8,
         "-0.31%",
         "2023-10-19T09:19:30.219+0000",
         "2023-10-19",
         "09:19:30"
        ],
        [
         "State Bank of India",
         "SBIN.NS",
         570.85,
         -1.8,
         "-0.31%",
         "2023-10-19T09:22:08.157+0000",
         "2023-10-19",
         "09:22:08"
        ],
        [
         "Bajaj Finance Limited",
         "BAJFINANCE.NS",
         7867.55,
         1.0,
         "+0.01%",
         "2023-10-19T09:21:24.518+0000",
         "2023-10-19",
         "09:21:24"
        ],
        [
         "Bajaj Finance Limited",
         "BAJFINANCE.NS",
         7866.75,
         0.2,
         "+0.00%",
         "2023-10-19T09:18:45.152+0000",
         "2023-10-19",
         "09:18:45"
        ],
        [
         "Asian Paints Limited",
         "ASIANPAINT.NS",
         3101.65,
         5.2,
         "+0.17%",
         "2023-10-19T09:24:29.392+0000",
         "2023-10-19",
         "09:24:29"
        ],
        [
         "Asian Paints Limited",
         "ASIANPAINT.NS",
         3101.3,
         4.85,
         "+0.16%",
         "2023-10-19T09:21:54.551+0000",
         "2023-10-19",
         "09:21:54"
        ],
        [
         "Bajaj Finance Limited",
         "BAJFINANCE.NS",
         7869.5,
         2.95,
         "+0.04%",
         "2023-10-19T09:23:55.233+0000",
         "2023-10-19",
         "09:23:55"
        ],
        [
         "HDFC Bank Limited",
         "HDFCBANK.NS",
         1516.8,
         -2.95,
         "-0.19%",
         "2023-10-19T09:25:03.947+0000",
         "2023-10-19",
         "09:25:03"
        ],
        [
         "HDFC Bank Limited",
         "HDFCBANK.NS",
         1518.7,
         -1.05,
         "-0.07%",
         "2023-10-19T09:16:48.551+0000",
         "2023-10-19",
         "09:16:48"
        ],
        [
         "Axis Bank Limited",
         "AXISBANK.NS",
         992.05,
         -0.8,
         "-0.08%",
         "2023-10-19T09:18:24.255+0000",
         "2023-10-19",
         "09:18:24"
        ],
        [
         "HDFC Bank Limited",
         "HDFCBANK.NS",
         1517.6,
         -2.15,
         "-0.14%",
         "2023-10-19T09:22:22.587+0000",
         "2023-10-19",
         "09:22:22"
        ],
        [
         "ICICI Bank Limited",
         "ICICIBANK.NS",
         938.8,
         -4.95,
         "-0.52%",
         "2023-10-19T09:25:39.299+0000",
         "2023-10-19",
         "09:25:39"
        ],
        [
         "Britannia Industries Limited",
         "BRITANNIA.NS",
         4598.45,
         -9.25,
         "-0.20%",
         "2023-10-19T09:35:22.406+0000",
         "2023-10-19",
         "09:35:22"
        ],
        [
         "Britannia Industries Limited",
         "BRITANNIA.NS",
         4603.1,
         -4.6,
         "-0.10%",
         "2023-10-19T09:51:34.245+0000",
         "2023-10-19",
         "09:51:34"
        ],
        [
         "Britannia Industries Limited",
         "BRITANNIA.NS",
         4600.0,
         -7.7,
         "-0.17%",
         "2023-10-19T09:43:04.418+0000",
         "2023-10-19",
         "09:43:04"
        ],
        [
         "Britannia Industries Limited",
         "BRITANNIA.NS",
         4603.4,
         -4.3,
         "-0.09%",
         "2023-10-19T09:27:18.517+0000",
         "2023-10-19",
         "09:27:18"
        ],
        [
         "Britannia Industries Limited",
         "BRITANNIA.NS",
         4600.25,
         -7.45,
         "-0.16%",
         "2023-10-19T09:37:55.439+0000",
         "2023-10-19",
         "09:37:55"
        ],
        [
         "Britannia Industries Limited",
         "BRITANNIA.NS",
         4607.25,
         -0.45,
         "-0.01%",
         "2023-10-19T09:56:56.549+0000",
         "2023-10-19",
         "09:56:56"
        ],
        [
         "Britannia Industries Limited",
         "BRITANNIA.NS",
         4609.15,
         1.45,
         "+0.03%",
         "2023-10-19T09:54:04.864+0000",
         "2023-10-19",
         "09:54:04"
        ],
        [
         "Britannia Industries Limited",
         "BRITANNIA.NS",
         4600.05,
         -7.65,
         "-0.17%",
         "2023-10-19T09:40:37.979+0000",
         "2023-10-19",
         "09:40:37"
        ],
        [
         "Britannia Industries Limited",
         "BRITANNIA.NS",
         4608.0,
         0.3,
         "+0.01%",
         "2023-10-19T10:01:54.460+0000",
         "2023-10-19",
         "10:01:54"
        ],
        [
         "Britannia Industries Limited",
         "BRITANNIA.NS",
         4602.7,
         -5.0,
         "-0.11%",
         "2023-10-19T09:32:45.892+0000",
         "2023-10-19",
         "09:32:45"
        ],
        [
         "Britannia Industries Limited",
         "BRITANNIA.NS",
         4603.85,
         -3.85,
         "-0.08%",
         "2023-10-19T09:48:52.118+0000",
         "2023-10-19",
         "09:48:52"
        ],
        [
         "Britannia Industries Limited",
         "BRITANNIA.NS",
         4599.35,
         -8.35,
         "-0.18%",
         "2023-10-19T09:45:37.122+0000",
         "2023-10-19",
         "09:45:37"
        ],
        [
         "Britannia Industries Limited",
         "BRITANNIA.NS",
         4602.45,
         -5.25,
         "-0.11%",
         "2023-10-19T10:07:22.855+0000",
         "2023-10-19",
         "10:07:22"
        ],
        [
         "Britannia Industries Limited",
         "BRITANNIA.NS",
         4605.0,
         -2.7,
         "-0.06%",
         "2023-10-19T09:30:04.074+0000",
         "2023-10-19",
         "09:30:04"
        ],
        [
         "Tata Consultancy Services Limited",
         "TCS.NS",
         3455.0,
         -32.25,
         "-0.92%",
         "2023-10-19T09:50:48.861+0000",
         "2023-10-19",
         "09:50:48"
        ],
        [
         "Tata Consultancy Services Limited",
         "TCS.NS",
         3456.8,
         -30.45,
         "-0.87%",
         "2023-10-19T09:39:47.757+0000",
         "2023-10-19",
         "09:39:47"
        ],
        [
         "Tata Consultancy Services Limited",
         "TCS.NS",
         3459.4,
         -27.85,
         "-0.80%",
         "2023-10-19T09:29:14.893+0000",
         "2023-10-19",
         "09:29:14"
        ],
        [
         "Tata Consultancy Services Limited",
         "TCS.NS",
         3456.0,
         -31.25,
         "-0.90%",
         "2023-10-19T09:44:48.634+0000",
         "2023-10-19",
         "09:44:48"
        ],
        [
         "Tata Consultancy Services Limited",
         "TCS.NS",
         3452.75,
         -34.5,
         "-0.99%",
         "2023-10-19T09:56:15.356+0000",
         "2023-10-19",
         "09:56:15"
        ],
        [
         "Tata Consultancy Services Limited",
         "TCS.NS",
         3455.65,
         -31.6,
         "-0.91%",
         "2023-10-19T10:03:45.011+0000",
         "2023-10-19",
         "10:03:45"
        ],
        [
         "Tata Consultancy Services Limited",
         "TCS.NS",
         3454.8,
         -32.45,
         "-0.93%",
         "2023-10-19T10:01:07.671+0000",
         "2023-10-19",
         "10:01:07"
        ],
        [
         "Tata Consultancy Services Limited",
         "TCS.NS",
         3458.0,
         -29.25,
         "-0.84%",
         "2023-10-19T09:34:39.466+0000",
         "2023-10-19",
         "09:34:39"
        ],
        [
         "Tata Consultancy Services Limited",
         "TCS.NS",
         3455.65,
         -31.6,
         "-0.91%",
         "2023-10-19T10:06:31.885+0000",
         "2023-10-19",
         "10:06:31"
        ],
        [
         "Tata Consultancy Services Limited",
         "TCS.NS",
         3455.65,
         -31.6,
         "-0.91%",
         "2023-10-19T10:09:25.094+0000",
         "2023-10-19",
         "10:09:25"
        ],
        [
         "Tata Consultancy Services Limited",
         "TCS.NS",
         3453.9,
         -33.35,
         "-0.96%",
         "2023-10-19T09:58:44.484+0000",
         "2023-10-19",
         "09:58:44"
        ],
        [
         "Tata Consultancy Services Limited",
         "TCS.NS",
         3455.0,
         -32.25,
         "-0.92%",
         "2023-10-19T09:47:30.570+0000",
         "2023-10-19",
         "09:47:30"
        ],
        [
         "Tata Consultancy Services Limited",
         "TCS.NS",
         3456.35,
         -30.9,
         "-0.89%",
         "2023-10-19T09:42:23.705+0000",
         "2023-10-19",
         "09:42:23"
        ],
        [
         "Tata Consultancy Services Limited",
         "TCS.NS",
         3460.15,
         -27.1,
         "-0.78%",
         "2023-10-19T09:31:59.190+0000",
         "2023-10-19",
         "09:31:59"
        ],
        [
         "Kotak Mahindra Bank Limited",
         "KOTAKBANK.NS",
         1736.35,
         -17.05,
         "-0.97%",
         "2023-10-19T09:46:39.672+0000",
         "2023-10-19",
         "09:46:39"
        ],
        [
         "Kotak Mahindra Bank Limited",
         "KOTAKBANK.NS",
         1737.85,
         -15.55,
         "-0.89%",
         "2023-10-19T09:41:40.267+0000",
         "2023-10-19",
         "09:41:40"
        ],
        [
         "Kotak Mahindra Bank Limited",
         "KOTAKBANK.NS",
         1738.65,
         -14.75,
         "-0.84%",
         "2023-10-19T10:00:24.682+0000",
         "2023-10-19",
         "10:00:24"
        ],
        [
         "Kotak Mahindra Bank Limited",
         "KOTAKBANK.NS",
         1738.8,
         -14.6,
         "-0.83%",
         "2023-10-19T09:38:58.531+0000",
         "2023-10-19",
         "09:38:58"
        ],
        [
         "Kotak Mahindra Bank Limited",
         "KOTAKBANK.NS",
         1737.75,
         -15.65,
         "-0.89%",
         "2023-10-19T09:44:01.875+0000",
         "2023-10-19",
         "09:44:01"
        ],
        [
         "Kotak Mahindra Bank Limited",
         "KOTAKBANK.NS",
         1738.2,
         -15.2,
         "-0.87%",
         "2023-10-19T09:33:52.519+0000",
         "2023-10-19",
         "09:33:52"
        ],
        [
         "Kotak Mahindra Bank Limited",
         "KOTAKBANK.NS",
         1737.9,
         -15.5,
         "-0.88%",
         "2023-10-19T09:50:03.487+0000",
         "2023-10-19",
         "09:50:03"
        ],
        [
         "Kotak Mahindra Bank Limited",
         "KOTAKBANK.NS",
         1739.3,
         -14.1,
         "-0.80%",
         "2023-10-19T09:28:27.134+0000",
         "2023-10-19",
         "09:28:27"
        ],
        [
         "Kotak Mahindra Bank Limited",
         "KOTAKBANK.NS",
         1738.45,
         -14.95,
         "-0.85%",
         "2023-10-19T10:02:58.378+0000",
         "2023-10-19",
         "10:02:58"
        ],
        [
         "Kotak Mahindra Bank Limited",
         "KOTAKBANK.NS",
         1738.45,
         -14.95,
         "-0.85%",
         "2023-10-19T10:08:29.588+0000",
         "2023-10-19",
         "10:08:29"
        ],
        [
         "Kotak Mahindra Bank Limited",
         "KOTAKBANK.NS",
         1740.35,
         -13.05,
         "-0.74%",
         "2023-10-19T09:36:22.572+0000",
         "2023-10-19",
         "09:36:22"
        ],
        [
         "Kotak Mahindra Bank Limited",
         "KOTAKBANK.NS",
         1739.9,
         -13.5,
         "-0.77%",
         "2023-10-19T09:55:24.584+0000",
         "2023-10-19",
         "09:55:24"
        ],
        [
         "Kotak Mahindra Bank Limited",
         "KOTAKBANK.NS",
         1738.0,
         -15.4,
         "-0.88%",
         "2023-10-19T09:31:09.545+0000",
         "2023-10-19",
         "09:31:09"
        ],
        [
         "Reliance Industries Limited",
         "RELIANCE.NS",
         2309.0,
         -15.0,
         "-0.65%",
         "2023-10-19T09:39:32.128+0000",
         "2023-10-19",
         "09:39:32"
        ],
        [
         "Reliance Industries Limited",
         "RELIANCE.NS",
         2302.0,
         -22.0,
         "-0.95%",
         "2023-10-19T09:58:27.585+0000",
         "2023-10-19",
         "09:58:27"
        ],
        [
         "Reliance Industries Limited",
         "RELIANCE.NS",
         2310.25,
         -13.75,
         "-0.59%",
         "2023-10-19T09:34:24.727+0000",
         "2023-10-19",
         "09:34:24"
        ],
        [
         "Reliance Industries Limited",
         "RELIANCE.NS",
         2309.35,
         -14.65,
         "-0.63%",
         "2023-10-19T09:36:54.537+0000",
         "2023-10-19",
         "09:36:54"
        ],
        [
         "Reliance Industries Limited",
         "RELIANCE.NS",
         2306.15,
         -17.85,
         "-0.77%",
         "2023-10-19T10:06:14.857+0000",
         "2023-10-19",
         "10:06:14"
        ],
        [
         "Reliance Industries Limited",
         "RELIANCE.NS",
         2306.85,
         -17.15,
         "-0.74%",
         "2023-10-19T09:47:13.939+0000",
         "2023-10-19",
         "09:47:13"
        ],
        [
         "Reliance Industries Limited",
         "RELIANCE.NS",
         2303.4,
         -20.6,
         "-0.89%",
         "2023-10-19T09:56:00.191+0000",
         "2023-10-19",
         "09:56:00"
        ],
        [
         "Reliance Industries Limited",
         "RELIANCE.NS",
         2305.05,
         -18.95,
         "-0.82%",
         "2023-10-19T09:50:35.189+0000",
         "2023-10-19",
         "09:50:35"
        ],
        [
         "Reliance Industries Limited",
         "RELIANCE.NS",
         2306.15,
         -17.85,
         "-0.77%",
         "2023-10-19T10:03:28.699+0000",
         "2023-10-19",
         "10:03:28"
        ],
        [
         "Reliance Industries Limited",
         "RELIANCE.NS",
         2306.15,
         -17.85,
         "-0.77%",
         "2023-10-19T10:09:08.456+0000",
         "2023-10-19",
         "10:09:08"
        ],
        [
         "Reliance Industries Limited",
         "RELIANCE.NS",
         2304.65,
         -19.35,
         "-0.83%",
         "2023-10-19T10:00:53.092+0000",
         "2023-10-19",
         "10:00:53"
        ],
        [
         "Reliance Industries Limited",
         "RELIANCE.NS",
         2303.35,
         -20.65,
         "-0.89%",
         "2023-10-19T09:53:02.564+0000",
         "2023-10-19",
         "09:53:02"
        ],
        [
         "Reliance Industries Limited",
         "RELIANCE.NS",
         2305.35,
         -18.65,
         "-0.80%",
         "2023-10-19T09:44:32.560+0000",
         "2023-10-19",
         "09:44:32"
        ],
        [
         "Reliance Industries Limited",
         "RELIANCE.NS",
         2309.15,
         -14.85,
         "-0.64%",
         "2023-10-19T09:31:41.916+0000",
         "2023-10-19",
         "09:31:41"
        ],
        [
         "Reliance Industries Limited",
         "RELIANCE.NS",
         2307.95,
         -16.05,
         "-0.69%",
         "2023-10-19T09:28:59.262+0000",
         "2023-10-19",
         "09:28:59"
        ],
        [
         "Reliance Industries Limited",
         "RELIANCE.NS",
         2306.3,
         -17.7,
         "-0.76%",
         "2023-10-19T09:42:10.091+0000",
         "2023-10-19",
         "09:42:10"
        ],
        [
         "Bajaj Finance Limited",
         "BAJFINANCE.NS",
         7842.05,
         -24.5,
         "-0.31%",
         "2023-10-19T09:40:22.553+0000",
         "2023-10-19",
         "09:40:22"
        ],
        [
         "Bajaj Finance Limited",
         "BAJFINANCE.NS",
         7870.4,
         3.85,
         "+0.05%",
         "2023-10-19T09:26:50.363+0000",
         "2023-10-19",
         "09:26:50"
        ],
        [
         "Bajaj Finance Limited",
         "BAJFINANCE.NS",
         7838.25,
         -28.3,
         "-0.36%",
         "2023-10-19T09:45:20.843+0000",
         "2023-10-19",
         "09:45:20"
        ],
        [
         "Bajaj Finance Limited",
         "BAJFINANCE.NS",
         7872.05,
         5.5,
         "+0.07%",
         "2023-10-19T09:29:46.775+0000",
         "2023-10-19",
         "09:29:46"
        ],
        [
         "Bajaj Finance Limited",
         "BAJFINANCE.NS",
         7824.9,
         -41.65,
         "-0.53%",
         "2023-10-19T09:53:48.680+0000",
         "2023-10-19",
         "09:53:48"
        ],
        [
         "Bajaj Finance Limited",
         "BAJFINANCE.NS",
         7829.5,
         -37.05,
         "-0.47%",
         "2023-10-19T09:48:24.774+0000",
         "2023-10-19",
         "09:48:24"
        ],
        [
         "Bajaj Finance Limited",
         "BAJFINANCE.NS",
         7822.4,
         -44.15,
         "-0.56%",
         "2023-10-19T10:01:37.076+0000",
         "2023-10-19",
         "10:01:37"
        ],
        [
         "Bajaj Finance Limited",
         "BAJFINANCE.NS",
         7854.6,
         -11.95,
         "-0.15%",
         "2023-10-19T09:35:07.273+0000",
         "2023-10-19",
         "09:35:07"
        ],
        [
         "Bajaj Finance Limited",
         "BAJFINANCE.NS",
         7840.85,
         -25.7,
         "-0.33%",
         "2023-10-19T09:42:51.385+0000",
         "2023-10-19",
         "09:42:51"
        ],
        [
         "Bajaj Finance Limited",
         "BAJFINANCE.NS",
         7841.55,
         -25.0,
         "-0.32%",
         "2023-10-19T10:04:20.436+0000",
         "2023-10-19",
         "10:04:20"
        ],
        [
         "Bajaj Finance Limited",
         "BAJFINANCE.NS",
         7865.25,
         -1.3,
         "-0.02%",
         "2023-10-19T09:32:30.060+0000",
         "2023-10-19",
         "09:32:30"
        ],
        [
         "Bajaj Finance Limited",
         "BAJFINANCE.NS",
         7829.7,
         -36.85,
         "-0.47%",
         "2023-10-19T09:51:20.274+0000",
         "2023-10-19",
         "09:51:20"
        ],
        [
         "Bajaj Finance Limited",
         "BAJFINANCE.NS",
         7841.55,
         -25.0,
         "-0.32%",
         "2023-10-19T10:07:06.387+0000",
         "2023-10-19",
         "10:07:06"
        ],
        [
         "Bajaj Finance Limited",
         "BAJFINANCE.NS",
         7841.55,
         -25.0,
         "-0.32%",
         "2023-10-19T10:09:56.388+0000",
         "2023-10-19",
         "10:09:56"
        ],
        [
         "Bajaj Finance Limited",
         "BAJFINANCE.NS",
         7820.8,
         -45.75,
         "-0.58%",
         "2023-10-19T09:56:42.679+0000",
         "2023-10-19",
         "09:56:42"
        ],
        [
         "Bajaj Finance Limited",
         "BAJFINANCE.NS",
         7860.55,
         -6.0,
         "-0.08%",
         "2023-10-19T09:37:40.039+0000",
         "2023-10-19",
         "09:37:40"
        ],
        [
         "Asian Paints Limited",
         "ASIANPAINT.NS",
         3103.55,
         7.1,
         "+0.23%",
         "2023-10-19T09:27:39.387+0000",
         "2023-10-19",
         "09:27:39"
        ],
        [
         "Asian Paints Limited",
         "ASIANPAINT.NS",
         3099.25,
         2.8,
         "+0.09%",
         "2023-10-19T09:57:10.572+0000",
         "2023-10-19",
         "09:57:10"
        ],
        [
         "Asian Paints Limited",
         "ASIANPAINT.NS",
         3101.7,
         5.25,
         "+0.17%",
         "2023-10-19T09:40:55.215+0000",
         "2023-10-19",
         "09:40:55"
        ],
        [
         "Asian Paints Limited",
         "ASIANPAINT.NS",
         3100.8,
         4.35,
         "+0.14%",
         "2023-10-19T09:49:10.105+0000",
         "2023-10-19",
         "09:49:10"
        ],
        [
         "Asian Paints Limited",
         "ASIANPAINT.NS",
         3102.5,
         6.05,
         "+0.20%",
         "2023-10-19T09:30:20.765+0000",
         "2023-10-19",
         "09:30:20"
        ],
        [
         "Asian Paints Limited",
         "ASIANPAINT.NS",
         3102.65,
         6.2,
         "+0.20%",
         "2023-10-19T09:35:37.517+0000",
         "2023-10-19",
         "09:35:37"
        ],
        [
         "Asian Paints Limited",
         "ASIANPAINT.NS",
         3101.8,
         5.35,
         "+0.17%",
         "2023-10-19T10:07:37.904+0000",
         "2023-10-19",
         "10:07:37"
        ],
        [
         "Asian Paints Limited",
         "ASIANPAINT.NS",
         3103.0,
         6.55,
         "+0.21%",
         "2023-10-19T09:38:11.179+0000",
         "2023-10-19",
         "09:38:11"
        ],
        [
         "Asian Paints Limited",
         "ASIANPAINT.NS",
         3101.7,
         5.25,
         "+0.17%",
         "2023-10-19T09:51:49.576+0000",
         "2023-10-19",
         "09:51:49"
        ],
        [
         "Asian Paints Limited",
         "ASIANPAINT.NS",
         3102.85,
         6.4,
         "+0.21%",
         "2023-10-19T09:33:02.257+0000",
         "2023-10-19",
         "09:33:02"
        ],
        [
         "Britannia Industries Limited",
         "BRITANNIA.NS",
         4602.45,
         -5.25,
         "-0.11%",
         "2023-10-19T10:04:37.088+0000",
         "2023-10-19",
         "10:04:37"
        ],
        [
         "Asian Paints Limited",
         "ASIANPAINT.NS",
         3101.8,
         5.35,
         "+0.17%",
         "2023-10-19T10:04:56.263+0000",
         "2023-10-19",
         "10:04:56"
        ],
        [
         "Britannia Industries Limited",
         "BRITANNIA.NS",
         4607.0,
         -0.7,
         "-0.02%",
         "2023-10-19T09:59:29.656+0000",
         "2023-10-19",
         "09:59:29"
        ],
        [
         "Asian Paints Limited",
         "ASIANPAINT.NS",
         3101.0,
         4.55,
         "+0.15%",
         "2023-10-19T09:59:42.876+0000",
         "2023-10-19",
         "09:59:42"
        ],
        [
         "Britannia Industries Limited",
         "BRITANNIA.NS",
         4602.45,
         -5.25,
         "-0.11%",
         "2023-10-19T10:10:12.035+0000",
         "2023-10-19",
         "10:10:12"
        ],
        [
         "Asian Paints Limited",
         "ASIANPAINT.NS",
         3101.8,
         5.35,
         "+0.17%",
         "2023-10-19T10:10:28.664+0000",
         "2023-10-19",
         "10:10:28"
        ],
        [
         "ICICI Bank Limited",
         "ICICIBANK.NS",
         938.35,
         -5.4,
         "-0.57%",
         "2023-10-19T09:28:42.120+0000",
         "2023-10-19",
         "09:28:42"
        ],
        [
         "ICICI Bank Limited",
         "ICICIBANK.NS",
         938.2,
         -5.55,
         "-0.59%",
         "2023-10-19T09:31:24.537+0000",
         "2023-10-19",
         "09:31:24"
        ],
        [
         "ICICI Bank Limited",
         "ICICIBANK.NS",
         935.05,
         -8.7,
         "-0.92%",
         "2023-10-19T09:44:16.876+0000",
         "2023-10-19",
         "09:44:16"
        ],
        [
         "ICICI Bank Limited",
         "ICICIBANK.NS",
         935.55,
         -8.2,
         "-0.87%",
         "2023-10-19T09:39:16.229+0000",
         "2023-10-19",
         "09:39:16"
        ],
        [
         "ICICI Bank Limited",
         "ICICIBANK.NS",
         935.75,
         -8.0,
         "-0.85%",
         "2023-10-19T10:05:58.442+0000",
         "2023-10-19",
         "10:05:58"
        ],
        [
         "ICICI Bank Limited",
         "ICICIBANK.NS",
         935.75,
         -8.0,
         "-0.85%",
         "2023-10-19T10:03:13.288+0000",
         "2023-10-19",
         "10:03:13"
        ],
        [
         "ICICI Bank Limited",
         "ICICIBANK.NS",
         934.9,
         -8.85,
         "-0.94%",
         "2023-10-19T09:50:18.807+0000",
         "2023-10-19",
         "09:50:18"
        ],
        [
         "ICICI Bank Limited",
         "ICICIBANK.NS",
         936.1,
         -7.65,
         "-0.81%",
         "2023-10-19T09:41:54.354+0000",
         "2023-10-19",
         "09:41:54"
        ],
        [
         "ICICI Bank Limited",
         "ICICIBANK.NS",
         935.75,
         -8.0,
         "-0.85%",
         "2023-10-19T10:08:51.931+0000",
         "2023-10-19",
         "10:08:51"
        ],
        [
         "ICICI Bank Limited",
         "ICICIBANK.NS",
         934.75,
         -9.0,
         "-0.95%",
         "2023-10-19T09:46:56.122+0000",
         "2023-10-19",
         "09:46:56"
        ],
        [
         "ICICI Bank Limited",
         "ICICIBANK.NS",
         934.85,
         -8.9,
         "-0.94%",
         "2023-10-19T09:58:10.597+0000",
         "2023-10-19",
         "09:58:10"
        ],
        [
         "ICICI Bank Limited",
         "ICICIBANK.NS",
         937.85,
         -5.9,
         "-0.63%",
         "2023-10-19T09:36:38.259+0000",
         "2023-10-19",
         "09:36:38"
        ],
        [
         "ICICI Bank Limited",
         "ICICIBANK.NS",
         934.85,
         -8.9,
         "-0.94%",
         "2023-10-19T10:00:38.547+0000",
         "2023-10-19",
         "10:00:38"
        ],
        [
         "ICICI Bank Limited",
         "ICICIBANK.NS",
         937.9,
         -5.85,
         "-0.62%",
         "2023-10-19T09:34:09.523+0000",
         "2023-10-19",
         "09:34:09"
        ],
        [
         "ICICI Bank Limited",
         "ICICIBANK.NS",
         934.85,
         -8.9,
         "-0.94%",
         "2023-10-19T09:55:43.349+0000",
         "2023-10-19",
         "09:55:43"
        ],
        [
         "Kotak Mahindra Bank Limited",
         "KOTAKBANK.NS",
         1740.1,
         -13.3,
         "-0.76%",
         "2023-10-19T09:52:32.668+0000",
         "2023-10-19",
         "09:52:32"
        ],
        [
         "ICICI Bank Limited",
         "ICICIBANK.NS",
         934.6,
         -9.15,
         "-0.97%",
         "2023-10-19T09:52:46.812+0000",
         "2023-10-19",
         "09:52:46"
        ],
        [
         "Tata Consultancy Services Limited",
         "TCS.NS",
         3457.0,
         -30.25,
         "-0.87%",
         "2023-10-19T09:37:08.217+0000",
         "2023-10-19",
         "09:37:08"
        ],
        [
         "Axis Bank Limited",
         "AXISBANK.NS",
         992.1,
         -0.75,
         "-0.08%",
         "2023-10-19T09:37:23.358+0000",
         "2023-10-19",
         "09:37:23"
        ],
        [
         "Tata Consultancy Services Limited",
         "TCS.NS",
         3454.1,
         -33.15,
         "-0.95%",
         "2023-10-19T09:53:18.288+0000",
         "2023-10-19",
         "09:53:18"
        ],
        [
         "Axis Bank Limited",
         "AXISBANK.NS",
         991.15,
         -1.7,
         "-0.17%",
         "2023-10-19T09:53:33.836+0000",
         "2023-10-19",
         "09:53:33"
        ],
        [
         "Axis Bank Limited",
         "AXISBANK.NS",
         990.95,
         -1.9,
         "-0.19%",
         "2023-10-19T09:56:29.364+0000",
         "2023-10-19",
         "09:56:29"
        ],
        [
         "HDFC Bank Limited",
         "HDFCBANK.NS",
         1513.45,
         -6.3,
         "-0.41%",
         "2023-10-19T09:52:17.673+0000",
         "2023-10-19",
         "09:52:17"
        ],
        [
         "HDFC Bank Limited",
         "HDFCBANK.NS",
         1515.2,
         -4.55,
         "-0.30%",
         "2023-10-19T09:46:22.987+0000",
         "2023-10-19",
         "09:46:22"
        ],
        [
         "HDFC Bank Limited",
         "HDFCBANK.NS",
         1516.0,
         -3.75,
         "-0.25%",
         "2023-10-19T09:28:12.242+0000",
         "2023-10-19",
         "09:28:12"
        ],
        [
         "HDFC Bank Limited",
         "HDFCBANK.NS",
         1516.15,
         -3.6,
         "-0.24%",
         "2023-10-19T09:33:33.678+0000",
         "2023-10-19",
         "09:33:33"
        ],
        [
         "Axis Bank Limited",
         "AXISBANK.NS",
         991.4,
         -1.45,
         "-0.15%",
         "2023-10-19T09:32:14.994+0000",
         "2023-10-19",
         "09:32:14"
        ],
        [
         "HDFC Bank Limited",
         "HDFCBANK.NS",
         1515.0,
         -4.75,
         "-0.31%",
         "2023-10-19T09:43:46.985+0000",
         "2023-10-19",
         "09:43:46"
        ],
        [
         "HDFC Bank Limited",
         "HDFCBANK.NS",
         1515.05,
         -4.7,
         "-0.31%",
         "2023-10-19T09:30:52.224+0000",
         "2023-10-19",
         "09:30:52"
        ],
        [
         "HDFC Bank Limited",
         "HDFCBANK.NS",
         1516.25,
         -3.5,
         "-0.23%",
         "2023-10-19T09:36:06.269+0000",
         "2023-10-19",
         "09:36:06"
        ],
        [
         "HDFC Bank Limited",
         "HDFCBANK.NS",
         1513.8,
         -5.95,
         "-0.39%",
         "2023-10-19T09:55:06.862+0000",
         "2023-10-19",
         "09:55:06"
        ],
        [
         "Axis Bank Limited",
         "AXISBANK.NS",
         993.15,
         0.3,
         "+0.03%",
         "2023-10-19T10:01:23.241+0000",
         "2023-10-19",
         "10:01:23"
        ],
        [
         "Axis Bank Limited",
         "AXISBANK.NS",
         991.4,
         -1.45,
         "-0.15%",
         "2023-10-19T09:34:52.433+0000",
         "2023-10-19",
         "09:34:52"
        ],
        [
         "Axis Bank Limited",
         "AXISBANK.NS",
         991.4,
         -1.45,
         "-0.15%",
         "2023-10-19T10:04:01.223+0000",
         "2023-10-19",
         "10:04:01"
        ],
        [
         "Axis Bank Limited",
         "AXISBANK.NS",
         991.35,
         -1.5,
         "-0.15%",
         "2023-10-19T09:45:04.443+0000",
         "2023-10-19",
         "09:45:04"
        ],
        [
         "HDFC Bank Limited",
         "HDFCBANK.NS",
         1515.05,
         -4.7,
         "-0.31%",
         "2023-10-19T09:49:45.892+0000",
         "2023-10-19",
         "09:49:45"
        ],
        [
         "Axis Bank Limited",
         "AXISBANK.NS",
         991.8,
         -1.05,
         "-0.11%",
         "2023-10-19T09:40:04.656+0000",
         "2023-10-19",
         "09:40:04"
        ],
        [
         "Axis Bank Limited",
         "AXISBANK.NS",
         990.95,
         -1.9,
         "-0.19%",
         "2023-10-19T09:58:59.622+0000",
         "2023-10-19",
         "09:58:59"
        ],
        [
         "Axis Bank Limited",
         "AXISBANK.NS",
         991.85,
         -1.0,
         "-0.10%",
         "2023-10-19T09:26:31.820+0000",
         "2023-10-19",
         "09:26:31"
        ],
        [
         "Axis Bank Limited",
         "AXISBANK.NS",
         991.4,
         -1.45,
         "-0.15%",
         "2023-10-19T10:06:50.158+0000",
         "2023-10-19",
         "10:06:50"
        ],
        [
         "Axis Bank Limited",
         "AXISBANK.NS",
         992.0,
         -0.85,
         "-0.09%",
         "2023-10-19T09:29:33.039+0000",
         "2023-10-19",
         "09:29:33"
        ],
        [
         "Axis Bank Limited",
         "AXISBANK.NS",
         991.05,
         -1.8,
         "-0.18%",
         "2023-10-19T09:47:46.303+0000",
         "2023-10-19",
         "09:47:46"
        ],
        [
         "HDFC Bank Limited",
         "HDFCBANK.NS",
         1515.05,
         -4.7,
         "-0.31%",
         "2023-10-19T09:41:25.603+0000",
         "2023-10-19",
         "09:41:25"
        ],
        [
         "Axis Bank Limited",
         "AXISBANK.NS",
         991.05,
         -1.8,
         "-0.18%",
         "2023-10-19T09:51:04.755+0000",
         "2023-10-19",
         "09:51:04"
        ],
        [
         "Axis Bank Limited",
         "AXISBANK.NS",
         991.65,
         -1.2,
         "-0.12%",
         "2023-10-19T09:42:37.865+0000",
         "2023-10-19",
         "09:42:37"
        ],
        [
         "Axis Bank Limited",
         "AXISBANK.NS",
         991.4,
         -1.45,
         "-0.15%",
         "2023-10-19T10:09:40.679+0000",
         "2023-10-19",
         "10:09:40"
        ],
        [
         "HDFC Bank Limited",
         "HDFCBANK.NS",
         1514.95,
         -4.8,
         "-0.32%",
         "2023-10-19T10:05:24.662+0000",
         "2023-10-19",
         "10:05:24"
        ],
        [
         "HDFC Bank Limited",
         "HDFCBANK.NS",
         1514.95,
         -4.8,
         "-0.32%",
         "2023-10-19T10:02:41.738+0000",
         "2023-10-19",
         "10:02:41"
        ],
        [
         "HDFC Bank Limited",
         "HDFCBANK.NS",
         1514.95,
         -4.8,
         "-0.32%",
         "2023-10-19T10:08:10.999+0000",
         "2023-10-19",
         "10:08:10"
        ],
        [
         "HDFC Bank Limited",
         "HDFCBANK.NS",
         1514.3,
         -5.45,
         "-0.36%",
         "2023-10-19T09:57:40.181+0000",
         "2023-10-19",
         "09:57:40"
        ],
        [
         "Kotak Mahindra Bank Limited",
         "KOTAKBANK.NS",
         1737.0,
         -16.4,
         "-0.94%",
         "2023-10-19T09:57:56.871+0000",
         "2023-10-19",
         "09:57:56"
        ],
        [
         "State Bank of India",
         "SBIN.NS",
         571.2,
         -1.45,
         "-0.25%",
         "2023-10-19T10:05:11.000+0000",
         "2023-10-19",
         "10:05:11"
        ],
        [
         "Kotak Mahindra Bank Limited",
         "KOTAKBANK.NS",
         1738.45,
         -14.95,
         "-0.85%",
         "2023-10-19T10:05:41.882+0000",
         "2023-10-19",
         "10:05:41"
        ],
        [
         "State Bank of India",
         "SBIN.NS",
         571.1,
         -1.55,
         "-0.27%",
         "2023-10-19T09:27:56.615+0000",
         "2023-10-19",
         "09:27:56"
        ],
        [
         "State Bank of India",
         "SBIN.NS",
         571.1,
         -1.55,
         "-0.27%",
         "2023-10-19T09:49:25.259+0000",
         "2023-10-19",
         "09:49:25"
        ],
        [
         "State Bank of India",
         "SBIN.NS",
         571.15,
         -1.5,
         "-0.26%",
         "2023-10-19T09:30:37.927+0000",
         "2023-10-19",
         "09:30:37"
        ],
        [
         "State Bank of India",
         "SBIN.NS",
         571.1,
         -1.55,
         "-0.27%",
         "2023-10-19T09:52:03.808+0000",
         "2023-10-19",
         "09:52:03"
        ],
        [
         "State Bank of India",
         "SBIN.NS",
         571.2,
         -1.45,
         "-0.25%",
         "2023-10-19T09:57:25.437+0000",
         "2023-10-19",
         "09:57:25"
        ],
        [
         "State Bank of India",
         "SBIN.NS",
         572.05,
         -0.6,
         "-0.10%",
         "2023-10-19T09:35:53.096+0000",
         "2023-10-19",
         "09:35:53"
        ],
        [
         "State Bank of India",
         "SBIN.NS",
         571.3,
         -1.35,
         "-0.24%",
         "2023-10-19T09:59:55.450+0000",
         "2023-10-19",
         "09:59:55"
        ],
        [
         "State Bank of India",
         "SBIN.NS",
         571.3,
         -1.35,
         "-0.24%",
         "2023-10-19T09:41:08.874+0000",
         "2023-10-19",
         "09:41:08"
        ],
        [
         "State Bank of India",
         "SBIN.NS",
         571.1,
         -1.55,
         "-0.27%",
         "2023-10-19T09:33:17.192+0000",
         "2023-10-19",
         "09:33:17"
        ],
        [
         "State Bank of India",
         "SBIN.NS",
         570.95,
         -1.7,
         "-0.30%",
         "2023-10-19T09:24:47.628+0000",
         "2023-10-19",
         "09:24:47"
        ],
        [
         "State Bank of India",
         "SBIN.NS",
         571.2,
         -1.45,
         "-0.25%",
         "2023-10-19T10:07:54.766+0000",
         "2023-10-19",
         "10:07:54"
        ],
        [
         "Bajaj Finance Limited",
         "BAJFINANCE.NS",
         7818.1,
         -48.45,
         "-0.62%",
         "2023-10-19T09:59:15.227+0000",
         "2023-10-19",
         "09:59:15"
        ],
        [
         "HDFC Bank Limited",
         "HDFCBANK.NS",
         1514.5,
         -5.25,
         "-0.35%",
         "2023-10-19T10:00:08.871+0000",
         "2023-10-19",
         "10:00:08"
        ],
        [
         "Asian Paints Limited",
         "ASIANPAINT.NS",
         3100.45,
         4.0,
         "+0.13%",
         "2023-10-19T09:54:25.887+0000",
         "2023-10-19",
         "09:54:25"
        ],
        [
         "State Bank of India",
         "SBIN.NS",
         571.0,
         -1.65,
         "-0.29%",
         "2023-10-19T09:54:43.547+0000",
         "2023-10-19",
         "09:54:43"
        ],
        [
         "Asian Paints Limited",
         "ASIANPAINT.NS",
         3102.55,
         6.1,
         "+0.20%",
         "2023-10-19T09:43:17.921+0000",
         "2023-10-19",
         "09:43:17"
        ],
        [
         "State Bank of India",
         "SBIN.NS",
         570.95,
         -1.7,
         "-0.30%",
         "2023-10-19T09:43:31.492+0000",
         "2023-10-19",
         "09:43:31"
        ],
        [
         "Asian Paints Limited",
         "ASIANPAINT.NS",
         3102.05,
         5.6,
         "+0.18%",
         "2023-10-19T09:45:51.801+0000",
         "2023-10-19",
         "09:45:51"
        ],
        [
         "State Bank of India",
         "SBIN.NS",
         571.15,
         -1.5,
         "-0.26%",
         "2023-10-19T09:46:07.624+0000",
         "2023-10-19",
         "09:46:07"
        ],
        [
         "Asian Paints Limited",
         "ASIANPAINT.NS",
         3101.0,
         4.55,
         "+0.15%",
         "2023-10-19T10:02:10.354+0000",
         "2023-10-19",
         "10:02:10"
        ],
        [
         "State Bank of India",
         "SBIN.NS",
         571.2,
         -1.45,
         "-0.25%",
         "2023-10-19T10:02:25.584+0000",
         "2023-10-19",
         "10:02:25"
        ],
        [
         "State Bank of India",
         "SBIN.NS",
         571.75,
         -0.9,
         "-0.16%",
         "2023-10-19T09:38:28.451+0000",
         "2023-10-19",
         "09:38:28"
        ],
        [
         "HDFC Bank Limited",
         "HDFCBANK.NS",
         1515.2,
         -4.55,
         "-0.30%",
         "2023-10-19T09:38:42.892+0000",
         "2023-10-19",
         "09:38:42"
        ]
       ],
       "datasetInfos": [],
       "dbfsResultPath": null,
       "isJsonSchema": true,
       "metadata": {},
       "overflow": false,
       "plotOptions": {
        "customPlotOptions": {},
        "displayType": "table",
        "pivotAggregation": null,
        "pivotColumns": null,
        "xColumns": null,
        "yColumns": null
       },
       "removedWidgets": [],
       "schema": [
        {
         "metadata": "{}",
         "name": "Company_Name",
         "type": "\"string\""
        },
        {
         "metadata": "{}",
         "name": "Symbol",
         "type": "\"string\""
        },
        {
         "metadata": "{}",
         "name": "Indian_Market_Price",
         "type": "\"float\""
        },
        {
         "metadata": "{}",
         "name": "Market_Price_Change",
         "type": "\"float\""
        },
        {
         "metadata": "{}",
         "name": "Market_ChangePercent",
         "type": "\"string\""
        },
        {
         "metadata": "{}",
         "name": "confluent_timestamp",
         "type": "\"timestamp\""
        },
        {
         "metadata": "{}",
         "name": "Date",
         "type": "\"string\""
        },
        {
         "metadata": "{}",
         "name": "Time",
         "type": "\"string\""
        }
       ],
       "type": "table"
      }
     },
     "output_type": "display_data"
    }
   ],
   "source": [
    "%sql \n",
    "SELECT * from default.silverindia"
   ]
  },
  {
   "cell_type": "code",
   "execution_count": 0,
   "metadata": {
    "application/vnd.databricks.v1+cell": {
     "cellMetadata": {
      "byteLimit": 2048000,
      "rowLimit": 10000
     },
     "inputWidgets": {},
     "nuid": "ea4948bf-b6da-4171-99d8-e004fd90743d",
     "showTitle": false,
     "title": ""
    }
   },
   "outputs": [],
   "source": [
    "silver.createOrReplaceGlobalTempView(\"gblsilver_india\")"
   ]
  },
  {
   "cell_type": "markdown",
   "metadata": {
    "application/vnd.databricks.v1+cell": {
     "cellMetadata": {},
     "inputWidgets": {},
     "nuid": "fd502b8d-180b-43ba-a9d3-7876ffbb6d2f",
     "showTitle": false,
     "title": ""
    }
   },
   "source": [
    "checkpointLocation:/dbfs/FileStore/Indian_Silver/Indian_silver_stock\n",
    "sourceDatabase : default\n",
    "sourceTable : bronzeindia\n",
    "targetDatabase: default\n",
    "targetTable : silverindia"
   ]
  },
  {
   "cell_type": "code",
   "execution_count": 0,
   "metadata": {
    "application/vnd.databricks.v1+cell": {
     "cellMetadata": {},
     "inputWidgets": {},
     "nuid": "279b8ca0-2ac8-4ff1-99a7-64e1337ae01c",
     "showTitle": false,
     "title": ""
    }
   },
   "outputs": [],
   "source": []
  }
 ],
 "metadata": {
  "application/vnd.databricks.v1+notebook": {
   "dashboards": [],
   "language": "python",
   "notebookMetadata": {
    "mostRecentlyExecutedCommandWithImplicitDF": {
     "commandId": 2674184481960913,
     "dataframes": [
      "_sqldf"
     ]
    },
    "pythonIndentUnit": 4
   },
   "notebookName": "INDIAN_STOCKS_SILVER (1)",
   "widgets": {
    "checkpointLocation": {
     "currentValue": "/dbfs/FileStore/Indian_Silver/Indian_silver_stock",
     "nuid": "39485ca6-036e-4793-9b63-b5c7208d8f7c",
     "widgetInfo": {
      "widgetType": "text",
      "defaultValue": "checkpointLocation",
      "label": null,
      "name": "checkpointLocation",
      "options": {
       "widgetType": "text",
       "autoCreated": null,
       "validationRegex": null
      }
     }
    },
    "sourceDatabase": {
     "currentValue": "default",
     "nuid": "8e32dc8d-6e6a-4a10-8846-aff491503ac4",
     "widgetInfo": {
      "widgetType": "dropdown",
      "defaultValue": "default",
      "label": null,
      "name": "sourceDatabase",
      "options": {
       "widgetType": "dropdown",
       "autoCreated": null,
       "choices": [
        "default",
        "bronze",
        "silver",
        "gold",
        "bronze1",
        "bronze2",
        "silver1",
        "silver2",
        "silver3"
       ]
      }
     }
    },
    "sourceTable": {
     "currentValue": "bronzeindia",
     "nuid": "d712b117-0b3b-4cac-8876-d5e2306376d0",
     "widgetInfo": {
      "widgetType": "text",
      "defaultValue": "sourceTable",
      "label": null,
      "name": "sourceTable",
      "options": {
       "widgetType": "text",
       "autoCreated": null,
       "validationRegex": null
      }
     }
    },
    "targetDatabase": {
     "currentValue": "default",
     "nuid": "829601e8-9547-4e9c-b6da-6a15d723fa69",
     "widgetInfo": {
      "widgetType": "dropdown",
      "defaultValue": "default",
      "label": null,
      "name": "targetDatabase",
      "options": {
       "widgetType": "dropdown",
       "autoCreated": null,
       "choices": [
        "default",
        "bronze",
        "silver",
        "gold",
        "bronze1",
        "bronze2",
        "silver1",
        "silver2",
        "silver3"
       ]
      }
     }
    },
    "targetTable": {
     "currentValue": "silverindia",
     "nuid": "f5790e36-56a9-42fd-953d-d24b7fc4ee17",
     "widgetInfo": {
      "widgetType": "text",
      "defaultValue": "targetTable",
      "label": null,
      "name": "targetTable",
      "options": {
       "widgetType": "text",
       "autoCreated": null,
       "validationRegex": null
      }
     }
    }
   }
  }
 },
 "nbformat": 4,
 "nbformat_minor": 0
}
