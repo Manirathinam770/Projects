{
 "cells": [
  {
   "cell_type": "code",
   "execution_count": 0,
   "metadata": {
    "application/vnd.databricks.v1+cell": {
     "cellMetadata": {
      "byteLimit": 2048000,
      "rowLimit": 10000
     },
     "inputWidgets": {},
     "nuid": "0eb1abe0-a7d2-4441-ae1d-25233a92c4a6",
     "showTitle": false,
     "title": ""
    }
   },
   "outputs": [
    {
     "output_type": "display_data",
     "data": {
      "text/html": [
       "<style scoped>\n",
       "  .table-result-container {\n",
       "    max-height: 300px;\n",
       "    overflow: auto;\n",
       "  }\n",
       "  table, th, td {\n",
       "    border: 1px solid black;\n",
       "    border-collapse: collapse;\n",
       "  }\n",
       "  th, td {\n",
       "    padding: 5px;\n",
       "  }\n",
       "  th {\n",
       "    text-align: left;\n",
       "  }\n",
       "</style><div class='table-result-container'><table class='table-result'><thead style='background-color: white'><tr><th>Company_Name</th><th>Symbol</th><th>Indian_Market_Price</th><th>Market_Price_Change</th><th>Market_ChangePercent</th><th>confluent_timestamp</th><th>Date</th><th>Time</th></tr></thead><tbody><tr><td>Kotak Mahindra Bank Limited</td><td>KOTAKBANK.NS</td><td>1740.45</td><td>-12.95</td><td>-0.74%</td><td>2023-10-19T09:17:05.334+0000</td><td>2023-10-19</td><td>09:17:05</td></tr><tr><td>Kotak Mahindra Bank Limited</td><td>KOTAKBANK.NS</td><td>1740.05</td><td>-13.35</td><td>-0.76%</td><td>2023-10-19T09:20:13.843+0000</td><td>2023-10-19</td><td>09:20:13</td></tr><tr><td>Britannia Industries Limited</td><td>BRITANNIA.NS</td><td>4600.95</td><td>-6.75</td><td>-0.15%</td><td>2023-10-19T09:21:39.787+0000</td><td>2023-10-19</td><td>09:21:39</td></tr><tr><td>Tata Consultancy Services Limited</td><td>TCS.NS</td><td>3459.4</td><td>-27.85</td><td>-0.80%</td><td>2023-10-19T09:29:14.893+0000</td><td>2023-10-19</td><td>09:29:14</td></tr><tr><td>Tata Consultancy Services Limited</td><td>TCS.NS</td><td>3459.95</td><td>-27.3</td><td>-0.78%</td><td>2023-10-19T09:26:13.162+0000</td><td>2023-10-19</td><td>09:26:13</td></tr><tr><td>Tata Consultancy Services Limited</td><td>TCS.NS</td><td>3459.0</td><td>-28.25</td><td>-0.81%</td><td>2023-10-19T09:20:57.191+0000</td><td>2023-10-19</td><td>09:20:57</td></tr><tr><td>Britannia Industries Limited</td><td>BRITANNIA.NS</td><td>4604.4</td><td>-3.3</td><td>-0.07%</td><td>2023-10-19T09:19:00.112+0000</td><td>2023-10-19</td><td>09:19:00</td></tr><tr><td>Britannia Industries Limited</td><td>BRITANNIA.NS</td><td>4603.4</td><td>-4.3</td><td>-0.09%</td><td>2023-10-19T09:27:18.517+0000</td><td>2023-10-19</td><td>09:27:18</td></tr><tr><td>Kotak Mahindra Bank Limited</td><td>KOTAKBANK.NS</td><td>1739.3</td><td>-14.1</td><td>-0.80%</td><td>2023-10-19T09:28:27.134+0000</td><td>2023-10-19</td><td>09:28:27</td></tr><tr><td>Reliance Industries Limited</td><td>RELIANCE.NS</td><td>2307.95</td><td>-16.05</td><td>-0.69%</td><td>2023-10-19T09:28:59.262+0000</td><td>2023-10-19</td><td>09:28:59</td></tr><tr><td>Britannia Industries Limited</td><td>BRITANNIA.NS</td><td>4605.0</td><td>-2.7</td><td>-0.06%</td><td>2023-10-19T09:30:04.074+0000</td><td>2023-10-19</td><td>09:30:04</td></tr><tr><td>Tata Consultancy Services Limited</td><td>TCS.NS</td><td>3458.05</td><td>-29.2</td><td>-0.84%</td><td>2023-10-19T09:18:07.464+0000</td><td>2023-10-19</td><td>09:18:07</td></tr><tr><td>Reliance Industries Limited</td><td>RELIANCE.NS</td><td>2308.05</td><td>-15.95</td><td>-0.69%</td><td>2023-10-19T09:20:43.462+0000</td><td>2023-10-19</td><td>09:20:43</td></tr><tr><td>Reliance Industries Limited</td><td>RELIANCE.NS</td><td>2305.95</td><td>-18.05</td><td>-0.78%</td><td>2023-10-19T09:23:10.365+0000</td><td>2023-10-19</td><td>09:23:10</td></tr><tr><td>Tata Consultancy Services Limited</td><td>TCS.NS</td><td>3460.65</td><td>-26.6</td><td>-0.76%</td><td>2023-10-19T09:23:23.267+0000</td><td>2023-10-19</td><td>09:23:23</td></tr><tr><td>Kotak Mahindra Bank Limited</td><td>KOTAKBANK.NS</td><td>1738.0</td><td>-15.4</td><td>-0.88%</td><td>2023-10-19T09:31:09.545+0000</td><td>2023-10-19</td><td>09:31:09</td></tr><tr><td>Reliance Industries Limited</td><td>RELIANCE.NS</td><td>2309.15</td><td>-14.85</td><td>-0.64%</td><td>2023-10-19T09:31:41.916+0000</td><td>2023-10-19</td><td>09:31:41</td></tr><tr><td>Tata Consultancy Services Limited</td><td>TCS.NS</td><td>3460.15</td><td>-27.1</td><td>-0.78%</td><td>2023-10-19T09:31:59.190+0000</td><td>2023-10-19</td><td>09:31:59</td></tr><tr><td>Kotak Mahindra Bank Limited</td><td>KOTAKBANK.NS</td><td>1738.7</td><td>-14.7</td><td>-0.84%</td><td>2023-10-19T09:22:37.867+0000</td><td>2023-10-19</td><td>09:22:37</td></tr><tr><td>Britannia Industries Limited</td><td>BRITANNIA.NS</td><td>4601.1</td><td>-6.6</td><td>-0.14%</td><td>2023-10-19T09:24:14.366+0000</td><td>2023-10-19</td><td>09:24:14</td></tr><tr><td>Reliance Industries Limited</td><td>RELIANCE.NS</td><td>2307.55</td><td>-16.45</td><td>-0.71%</td><td>2023-10-19T09:25:56.385+0000</td><td>2023-10-19</td><td>09:25:56</td></tr><tr><td>Kotak Mahindra Bank Limited</td><td>KOTAKBANK.NS</td><td>1739.6</td><td>-13.8</td><td>-0.79%</td><td>2023-10-19T09:25:20.056+0000</td><td>2023-10-19</td><td>09:25:20</td></tr><tr><td>Reliance Industries Limited</td><td>RELIANCE.NS</td><td>2308.7</td><td>-15.3</td><td>-0.66%</td><td>2023-10-19T09:17:44.119+0000</td><td>2023-10-19</td><td>09:17:44</td></tr><tr><td>Bajaj Finance Limited</td><td>BAJFINANCE.NS</td><td>7872.05</td><td>5.5</td><td>+0.07%</td><td>2023-10-19T09:29:46.775+0000</td><td>2023-10-19</td><td>09:29:46</td></tr><tr><td>Bajaj Finance Limited</td><td>BAJFINANCE.NS</td><td>7867.55</td><td>1.0</td><td>+0.01%</td><td>2023-10-19T09:21:24.518+0000</td><td>2023-10-19</td><td>09:21:24</td></tr><tr><td>Bajaj Finance Limited</td><td>BAJFINANCE.NS</td><td>7866.75</td><td>0.2</td><td>+0.00%</td><td>2023-10-19T09:18:45.152+0000</td><td>2023-10-19</td><td>09:18:45</td></tr><tr><td>Asian Paints Limited</td><td>ASIANPAINT.NS</td><td>3101.65</td><td>5.2</td><td>+0.17%</td><td>2023-10-19T09:24:29.392+0000</td><td>2023-10-19</td><td>09:24:29</td></tr><tr><td>Asian Paints Limited</td><td>ASIANPAINT.NS</td><td>3103.55</td><td>7.1</td><td>+0.23%</td><td>2023-10-19T09:27:39.387+0000</td><td>2023-10-19</td><td>09:27:39</td></tr><tr><td>Asian Paints Limited</td><td>ASIANPAINT.NS</td><td>3101.3</td><td>4.85</td><td>+0.16%</td><td>2023-10-19T09:21:54.551+0000</td><td>2023-10-19</td><td>09:21:54</td></tr><tr><td>Bajaj Finance Limited</td><td>BAJFINANCE.NS</td><td>7869.5</td><td>2.95</td><td>+0.04%</td><td>2023-10-19T09:23:55.233+0000</td><td>2023-10-19</td><td>09:23:55</td></tr><tr><td>Bajaj Finance Limited</td><td>BAJFINANCE.NS</td><td>7870.4</td><td>3.85</td><td>+0.05%</td><td>2023-10-19T09:26:50.363+0000</td><td>2023-10-19</td><td>09:26:50</td></tr><tr><td>Asian Paints Limited</td><td>ASIANPAINT.NS</td><td>3102.5</td><td>6.05</td><td>+0.20%</td><td>2023-10-19T09:30:20.765+0000</td><td>2023-10-19</td><td>09:30:20</td></tr><tr><td>Asian Paints Limited</td><td>ASIANPAINT.NS</td><td>3103.0</td><td>6.55</td><td>+0.21%</td><td>2023-10-19T09:19:14.539+0000</td><td>2023-10-19</td><td>09:19:14</td></tr><tr><td>Axis Bank Limited</td><td>AXISBANK.NS</td><td>991.4</td><td>-1.45</td><td>-0.15%</td><td>2023-10-19T09:23:40.845+0000</td><td>2023-10-19</td><td>09:23:40</td></tr><tr><td>Axis Bank Limited</td><td>AXISBANK.NS</td><td>991.4</td><td>-1.45</td><td>-0.15%</td><td>2023-10-19T09:32:14.994+0000</td><td>2023-10-19</td><td>09:32:14</td></tr><tr><td>Axis Bank Limited</td><td>AXISBANK.NS</td><td>992.0</td><td>-0.85</td><td>-0.09%</td><td>2023-10-19T09:29:33.039+0000</td><td>2023-10-19</td><td>09:29:33</td></tr><tr><td>ICICI Bank Limited</td><td>ICICIBANK.NS</td><td>939.15</td><td>-4.6</td><td>-0.49%</td><td>2023-10-19T09:17:26.526+0000</td><td>2023-10-19</td><td>09:17:26</td></tr><tr><td>ICICI Bank Limited</td><td>ICICIBANK.NS</td><td>939.05</td><td>-4.7</td><td>-0.50%</td><td>2023-10-19T09:20:29.189+0000</td><td>2023-10-19</td><td>09:20:29</td></tr><tr><td>ICICI Bank Limited</td><td>ICICIBANK.NS</td><td>938.35</td><td>-5.4</td><td>-0.57%</td><td>2023-10-19T09:28:42.120+0000</td><td>2023-10-19</td><td>09:28:42</td></tr><tr><td>ICICI Bank Limited</td><td>ICICIBANK.NS</td><td>938.2</td><td>-5.55</td><td>-0.59%</td><td>2023-10-19T09:31:24.537+0000</td><td>2023-10-19</td><td>09:31:24</td></tr><tr><td>ICICI Bank Limited</td><td>ICICIBANK.NS</td><td>938.35</td><td>-5.4</td><td>-0.57%</td><td>2023-10-19T09:22:53.718+0000</td><td>2023-10-19</td><td>09:22:53</td></tr><tr><td>HDFC Bank Limited</td><td>HDFCBANK.NS</td><td>1516.8</td><td>-2.95</td><td>-0.19%</td><td>2023-10-19T09:25:03.947+0000</td><td>2023-10-19</td><td>09:25:03</td></tr><tr><td>HDFC Bank Limited</td><td>HDFCBANK.NS</td><td>1516.0</td><td>-3.75</td><td>-0.25%</td><td>2023-10-19T09:28:12.242+0000</td><td>2023-10-19</td><td>09:28:12</td></tr><tr><td>HDFC Bank Limited</td><td>HDFCBANK.NS</td><td>1518.7</td><td>-1.05</td><td>-0.07%</td><td>2023-10-19T09:16:48.551+0000</td><td>2023-10-19</td><td>09:16:48</td></tr><tr><td>Axis Bank Limited</td><td>AXISBANK.NS</td><td>992.05</td><td>-0.8</td><td>-0.08%</td><td>2023-10-19T09:18:24.255+0000</td><td>2023-10-19</td><td>09:18:24</td></tr><tr><td>HDFC Bank Limited</td><td>HDFCBANK.NS</td><td>1517.6</td><td>-2.15</td><td>-0.14%</td><td>2023-10-19T09:22:22.587+0000</td><td>2023-10-19</td><td>09:22:22</td></tr><tr><td>Axis Bank Limited</td><td>AXISBANK.NS</td><td>991.85</td><td>-1.0</td><td>-0.10%</td><td>2023-10-19T09:26:31.820+0000</td><td>2023-10-19</td><td>09:26:31</td></tr><tr><td>HDFC Bank Limited</td><td>HDFCBANK.NS</td><td>1515.05</td><td>-4.7</td><td>-0.31%</td><td>2023-10-19T09:30:52.224+0000</td><td>2023-10-19</td><td>09:30:52</td></tr><tr><td>ICICI Bank Limited</td><td>ICICIBANK.NS</td><td>938.8</td><td>-4.95</td><td>-0.52%</td><td>2023-10-19T09:25:39.299+0000</td><td>2023-10-19</td><td>09:25:39</td></tr><tr><td>HDFC Bank Limited</td><td>HDFCBANK.NS</td><td>1517.7</td><td>-2.05</td><td>-0.13%</td><td>2023-10-19T09:19:57.053+0000</td><td>2023-10-19</td><td>09:19:57</td></tr><tr><td>Axis Bank Limited</td><td>AXISBANK.NS</td><td>991.55</td><td>-1.3</td><td>-0.13%</td><td>2023-10-19T09:21:10.333+0000</td><td>2023-10-19</td><td>09:21:10</td></tr><tr><td>State Bank of India</td><td>SBIN.NS</td><td>571.05</td><td>-1.6</td><td>-0.28%</td><td>2023-10-19T09:16:29.962+0000</td><td>2023-10-19</td><td>09:16:29</td></tr><tr><td>State Bank of India</td><td>SBIN.NS</td><td>570.85</td><td>-1.8</td><td>-0.31%</td><td>2023-10-19T09:19:30.219+0000</td><td>2023-10-19</td><td>09:19:30</td></tr><tr><td>State Bank of India</td><td>SBIN.NS</td><td>570.85</td><td>-1.8</td><td>-0.31%</td><td>2023-10-19T09:22:08.157+0000</td><td>2023-10-19</td><td>09:22:08</td></tr><tr><td>State Bank of India</td><td>SBIN.NS</td><td>571.1</td><td>-1.55</td><td>-0.27%</td><td>2023-10-19T09:27:56.615+0000</td><td>2023-10-19</td><td>09:27:56</td></tr><tr><td>State Bank of India</td><td>SBIN.NS</td><td>571.15</td><td>-1.5</td><td>-0.26%</td><td>2023-10-19T09:30:37.927+0000</td><td>2023-10-19</td><td>09:30:37</td></tr><tr><td>State Bank of India</td><td>SBIN.NS</td><td>570.95</td><td>-1.7</td><td>-0.30%</td><td>2023-10-19T09:24:47.628+0000</td><td>2023-10-19</td><td>09:24:47</td></tr><tr><td>Tata Consultancy Services Limited</td><td>TCS.NS</td><td>3458.0</td><td>-29.25</td><td>-0.84%</td><td>2023-10-19T09:34:39.466+0000</td><td>2023-10-19</td><td>09:34:39</td></tr><tr><td>Kotak Mahindra Bank Limited</td><td>KOTAKBANK.NS</td><td>1738.2</td><td>-15.2</td><td>-0.87%</td><td>2023-10-19T09:33:52.519+0000</td><td>2023-10-19</td><td>09:33:52</td></tr><tr><td>Reliance Industries Limited</td><td>RELIANCE.NS</td><td>2310.25</td><td>-13.75</td><td>-0.59%</td><td>2023-10-19T09:34:24.727+0000</td><td>2023-10-19</td><td>09:34:24</td></tr><tr><td>Britannia Industries Limited</td><td>BRITANNIA.NS</td><td>4602.7</td><td>-5.0</td><td>-0.11%</td><td>2023-10-19T09:32:45.892+0000</td><td>2023-10-19</td><td>09:32:45</td></tr><tr><td>Bajaj Finance Limited</td><td>BAJFINANCE.NS</td><td>7865.25</td><td>-1.3</td><td>-0.02%</td><td>2023-10-19T09:32:30.060+0000</td><td>2023-10-19</td><td>09:32:30</td></tr><tr><td>Asian Paints Limited</td><td>ASIANPAINT.NS</td><td>3102.85</td><td>6.4</td><td>+0.21%</td><td>2023-10-19T09:33:02.257+0000</td><td>2023-10-19</td><td>09:33:02</td></tr><tr><td>Axis Bank Limited</td><td>AXISBANK.NS</td><td>991.4</td><td>-1.45</td><td>-0.15%</td><td>2023-10-19T09:34:52.433+0000</td><td>2023-10-19</td><td>09:34:52</td></tr><tr><td>ICICI Bank Limited</td><td>ICICIBANK.NS</td><td>937.9</td><td>-5.85</td><td>-0.62%</td><td>2023-10-19T09:34:09.523+0000</td><td>2023-10-19</td><td>09:34:09</td></tr><tr><td>HDFC Bank Limited</td><td>HDFCBANK.NS</td><td>1516.15</td><td>-3.6</td><td>-0.24%</td><td>2023-10-19T09:33:33.678+0000</td><td>2023-10-19</td><td>09:33:33</td></tr><tr><td>State Bank of India</td><td>SBIN.NS</td><td>571.1</td><td>-1.55</td><td>-0.27%</td><td>2023-10-19T09:33:17.192+0000</td><td>2023-10-19</td><td>09:33:17</td></tr><tr><td>Britannia Industries Limited</td><td>BRITANNIA.NS</td><td>4598.45</td><td>-9.25</td><td>-0.20%</td><td>2023-10-19T09:35:22.406+0000</td><td>2023-10-19</td><td>09:35:22</td></tr><tr><td>Bajaj Finance Limited</td><td>BAJFINANCE.NS</td><td>7854.6</td><td>-11.95</td><td>-0.15%</td><td>2023-10-19T09:35:07.273+0000</td><td>2023-10-19</td><td>09:35:07</td></tr><tr><td>Asian Paints Limited</td><td>ASIANPAINT.NS</td><td>3102.65</td><td>6.2</td><td>+0.20%</td><td>2023-10-19T09:35:37.517+0000</td><td>2023-10-19</td><td>09:35:37</td></tr><tr><td>HDFC Bank Limited</td><td>HDFCBANK.NS</td><td>1516.25</td><td>-3.5</td><td>-0.23%</td><td>2023-10-19T09:36:06.269+0000</td><td>2023-10-19</td><td>09:36:06</td></tr><tr><td>State Bank of India</td><td>SBIN.NS</td><td>572.05</td><td>-0.6</td><td>-0.10%</td><td>2023-10-19T09:35:53.096+0000</td><td>2023-10-19</td><td>09:35:53</td></tr><tr><td>Kotak Mahindra Bank Limited</td><td>KOTAKBANK.NS</td><td>1740.35</td><td>-13.05</td><td>-0.74%</td><td>2023-10-19T09:36:22.572+0000</td><td>2023-10-19</td><td>09:36:22</td></tr><tr><td>ICICI Bank Limited</td><td>ICICIBANK.NS</td><td>937.85</td><td>-5.9</td><td>-0.63%</td><td>2023-10-19T09:36:38.259+0000</td><td>2023-10-19</td><td>09:36:38</td></tr><tr><td>Britannia Industries Limited</td><td>BRITANNIA.NS</td><td>4600.25</td><td>-7.45</td><td>-0.16%</td><td>2023-10-19T09:37:55.439+0000</td><td>2023-10-19</td><td>09:37:55</td></tr><tr><td>Reliance Industries Limited</td><td>RELIANCE.NS</td><td>2309.35</td><td>-14.65</td><td>-0.63%</td><td>2023-10-19T09:36:54.537+0000</td><td>2023-10-19</td><td>09:36:54</td></tr><tr><td>Bajaj Finance Limited</td><td>BAJFINANCE.NS</td><td>7860.55</td><td>-6.0</td><td>-0.08%</td><td>2023-10-19T09:37:40.039+0000</td><td>2023-10-19</td><td>09:37:40</td></tr><tr><td>Tata Consultancy Services Limited</td><td>TCS.NS</td><td>3457.0</td><td>-30.25</td><td>-0.87%</td><td>2023-10-19T09:37:08.217+0000</td><td>2023-10-19</td><td>09:37:08</td></tr><tr><td>Axis Bank Limited</td><td>AXISBANK.NS</td><td>992.1</td><td>-0.75</td><td>-0.08%</td><td>2023-10-19T09:37:23.358+0000</td><td>2023-10-19</td><td>09:37:23</td></tr><tr><td>Asian Paints Limited</td><td>ASIANPAINT.NS</td><td>3103.0</td><td>6.55</td><td>+0.21%</td><td>2023-10-19T09:38:11.179+0000</td><td>2023-10-19</td><td>09:38:11</td></tr><tr><td>State Bank of India</td><td>SBIN.NS</td><td>571.75</td><td>-0.9</td><td>-0.16%</td><td>2023-10-19T09:38:28.451+0000</td><td>2023-10-19</td><td>09:38:28</td></tr><tr><td>HDFC Bank Limited</td><td>HDFCBANK.NS</td><td>1515.2</td><td>-4.55</td><td>-0.30%</td><td>2023-10-19T09:38:42.892+0000</td><td>2023-10-19</td><td>09:38:42</td></tr><tr><td>Kotak Mahindra Bank Limited</td><td>KOTAKBANK.NS</td><td>1738.8</td><td>-14.6</td><td>-0.83%</td><td>2023-10-19T09:38:58.531+0000</td><td>2023-10-19</td><td>09:38:58</td></tr><tr><td>Reliance Industries Limited</td><td>RELIANCE.NS</td><td>2309.0</td><td>-15.0</td><td>-0.65%</td><td>2023-10-19T09:39:32.128+0000</td><td>2023-10-19</td><td>09:39:32</td></tr><tr><td>ICICI Bank Limited</td><td>ICICIBANK.NS</td><td>935.55</td><td>-8.2</td><td>-0.87%</td><td>2023-10-19T09:39:16.229+0000</td><td>2023-10-19</td><td>09:39:16</td></tr><tr><td>Tata Consultancy Services Limited</td><td>TCS.NS</td><td>3456.8</td><td>-30.45</td><td>-0.87%</td><td>2023-10-19T09:39:47.757+0000</td><td>2023-10-19</td><td>09:39:47</td></tr><tr><td>Britannia Industries Limited</td><td>BRITANNIA.NS</td><td>4600.05</td><td>-7.65</td><td>-0.17%</td><td>2023-10-19T09:40:37.979+0000</td><td>2023-10-19</td><td>09:40:37</td></tr><tr><td>Bajaj Finance Limited</td><td>BAJFINANCE.NS</td><td>7842.05</td><td>-24.5</td><td>-0.31%</td><td>2023-10-19T09:40:22.553+0000</td><td>2023-10-19</td><td>09:40:22</td></tr><tr><td>Axis Bank Limited</td><td>AXISBANK.NS</td><td>991.8</td><td>-1.05</td><td>-0.11%</td><td>2023-10-19T09:40:04.656+0000</td><td>2023-10-19</td><td>09:40:04</td></tr><tr><td>Kotak Mahindra Bank Limited</td><td>KOTAKBANK.NS</td><td>1737.85</td><td>-15.55</td><td>-0.89%</td><td>2023-10-19T09:41:40.267+0000</td><td>2023-10-19</td><td>09:41:40</td></tr><tr><td>Tata Consultancy Services Limited</td><td>TCS.NS</td><td>3456.35</td><td>-30.9</td><td>-0.89%</td><td>2023-10-19T09:42:23.705+0000</td><td>2023-10-19</td><td>09:42:23</td></tr><tr><td>Reliance Industries Limited</td><td>RELIANCE.NS</td><td>2306.3</td><td>-17.7</td><td>-0.76%</td><td>2023-10-19T09:42:10.091+0000</td><td>2023-10-19</td><td>09:42:10</td></tr><tr><td>Asian Paints Limited</td><td>ASIANPAINT.NS</td><td>3101.7</td><td>5.25</td><td>+0.17%</td><td>2023-10-19T09:40:55.215+0000</td><td>2023-10-19</td><td>09:40:55</td></tr><tr><td>ICICI Bank Limited</td><td>ICICIBANK.NS</td><td>936.1</td><td>-7.65</td><td>-0.81%</td><td>2023-10-19T09:41:54.354+0000</td><td>2023-10-19</td><td>09:41:54</td></tr><tr><td>HDFC Bank Limited</td><td>HDFCBANK.NS</td><td>1515.05</td><td>-4.7</td><td>-0.31%</td><td>2023-10-19T09:41:25.603+0000</td><td>2023-10-19</td><td>09:41:25</td></tr><tr><td>State Bank of India</td><td>SBIN.NS</td><td>571.3</td><td>-1.35</td><td>-0.24%</td><td>2023-10-19T09:41:08.874+0000</td><td>2023-10-19</td><td>09:41:08</td></tr><tr><td>Kotak Mahindra Bank Limited</td><td>KOTAKBANK.NS</td><td>1737.75</td><td>-15.65</td><td>-0.89%</td><td>2023-10-19T09:44:01.875+0000</td><td>2023-10-19</td><td>09:44:01</td></tr><tr><td>Britannia Industries Limited</td><td>BRITANNIA.NS</td><td>4600.0</td><td>-7.7</td><td>-0.17%</td><td>2023-10-19T09:43:04.418+0000</td><td>2023-10-19</td><td>09:43:04</td></tr><tr><td>Reliance Industries Limited</td><td>RELIANCE.NS</td><td>2305.35</td><td>-18.65</td><td>-0.80%</td><td>2023-10-19T09:44:32.560+0000</td><td>2023-10-19</td><td>09:44:32</td></tr><tr><td>Bajaj Finance Limited</td><td>BAJFINANCE.NS</td><td>7840.85</td><td>-25.7</td><td>-0.33%</td><td>2023-10-19T09:42:51.385+0000</td><td>2023-10-19</td><td>09:42:51</td></tr><tr><td>Axis Bank Limited</td><td>AXISBANK.NS</td><td>991.65</td><td>-1.2</td><td>-0.12%</td><td>2023-10-19T09:42:37.865+0000</td><td>2023-10-19</td><td>09:42:37</td></tr><tr><td>HDFC Bank Limited</td><td>HDFCBANK.NS</td><td>1515.0</td><td>-4.75</td><td>-0.31%</td><td>2023-10-19T09:43:46.985+0000</td><td>2023-10-19</td><td>09:43:46</td></tr><tr><td>ICICI Bank Limited</td><td>ICICIBANK.NS</td><td>935.05</td><td>-8.7</td><td>-0.92%</td><td>2023-10-19T09:44:16.876+0000</td><td>2023-10-19</td><td>09:44:16</td></tr><tr><td>Asian Paints Limited</td><td>ASIANPAINT.NS</td><td>3102.55</td><td>6.1</td><td>+0.20%</td><td>2023-10-19T09:43:17.921+0000</td><td>2023-10-19</td><td>09:43:17</td></tr><tr><td>State Bank of India</td><td>SBIN.NS</td><td>570.95</td><td>-1.7</td><td>-0.30%</td><td>2023-10-19T09:43:31.492+0000</td><td>2023-10-19</td><td>09:43:31</td></tr><tr><td>Kotak Mahindra Bank Limited</td><td>KOTAKBANK.NS</td><td>1736.35</td><td>-17.05</td><td>-0.97%</td><td>2023-10-19T09:46:39.672+0000</td><td>2023-10-19</td><td>09:46:39</td></tr><tr><td>Tata Consultancy Services Limited</td><td>TCS.NS</td><td>3456.0</td><td>-31.25</td><td>-0.90%</td><td>2023-10-19T09:44:48.634+0000</td><td>2023-10-19</td><td>09:44:48</td></tr><tr><td>Britannia Industries Limited</td><td>BRITANNIA.NS</td><td>4599.35</td><td>-8.35</td><td>-0.18%</td><td>2023-10-19T09:45:37.122+0000</td><td>2023-10-19</td><td>09:45:37</td></tr><tr><td>Tata Consultancy Services Limited</td><td>TCS.NS</td><td>3455.0</td><td>-32.25</td><td>-0.92%</td><td>2023-10-19T09:47:30.570+0000</td><td>2023-10-19</td><td>09:47:30</td></tr><tr><td>Reliance Industries Limited</td><td>RELIANCE.NS</td><td>2306.85</td><td>-17.15</td><td>-0.74%</td><td>2023-10-19T09:47:13.939+0000</td><td>2023-10-19</td><td>09:47:13</td></tr><tr><td>Bajaj Finance Limited</td><td>BAJFINANCE.NS</td><td>7838.25</td><td>-28.3</td><td>-0.36%</td><td>2023-10-19T09:45:20.843+0000</td><td>2023-10-19</td><td>09:45:20</td></tr><tr><td>ICICI Bank Limited</td><td>ICICIBANK.NS</td><td>934.75</td><td>-9.0</td><td>-0.95%</td><td>2023-10-19T09:46:56.122+0000</td><td>2023-10-19</td><td>09:46:56</td></tr><tr><td>Axis Bank Limited</td><td>AXISBANK.NS</td><td>991.35</td><td>-1.5</td><td>-0.15%</td><td>2023-10-19T09:45:04.443+0000</td><td>2023-10-19</td><td>09:45:04</td></tr><tr><td>HDFC Bank Limited</td><td>HDFCBANK.NS</td><td>1515.2</td><td>-4.55</td><td>-0.30%</td><td>2023-10-19T09:46:22.987+0000</td><td>2023-10-19</td><td>09:46:22</td></tr><tr><td>Axis Bank Limited</td><td>AXISBANK.NS</td><td>991.05</td><td>-1.8</td><td>-0.18%</td><td>2023-10-19T09:47:46.303+0000</td><td>2023-10-19</td><td>09:47:46</td></tr><tr><td>Asian Paints Limited</td><td>ASIANPAINT.NS</td><td>3102.05</td><td>5.6</td><td>+0.18%</td><td>2023-10-19T09:45:51.801+0000</td><td>2023-10-19</td><td>09:45:51</td></tr><tr><td>State Bank of India</td><td>SBIN.NS</td><td>571.15</td><td>-1.5</td><td>-0.26%</td><td>2023-10-19T09:46:07.624+0000</td><td>2023-10-19</td><td>09:46:07</td></tr><tr><td>Britannia Industries Limited</td><td>BRITANNIA.NS</td><td>4603.85</td><td>-3.85</td><td>-0.08%</td><td>2023-10-19T09:48:52.118+0000</td><td>2023-10-19</td><td>09:48:52</td></tr><tr><td>Bajaj Finance Limited</td><td>BAJFINANCE.NS</td><td>7829.5</td><td>-37.05</td><td>-0.47%</td><td>2023-10-19T09:48:24.774+0000</td><td>2023-10-19</td><td>09:48:24</td></tr><tr><td>Asian Paints Limited</td><td>ASIANPAINT.NS</td><td>3100.8</td><td>4.35</td><td>+0.14%</td><td>2023-10-19T09:49:10.105+0000</td><td>2023-10-19</td><td>09:49:10</td></tr><tr><td>State Bank of India</td><td>SBIN.NS</td><td>571.1</td><td>-1.55</td><td>-0.27%</td><td>2023-10-19T09:49:25.259+0000</td><td>2023-10-19</td><td>09:49:25</td></tr><tr><td>Tata Consultancy Services Limited</td><td>TCS.NS</td><td>3455.0</td><td>-32.25</td><td>-0.92%</td><td>2023-10-19T09:50:48.861+0000</td><td>2023-10-19</td><td>09:50:48</td></tr><tr><td>Kotak Mahindra Bank Limited</td><td>KOTAKBANK.NS</td><td>1737.9</td><td>-15.5</td><td>-0.88%</td><td>2023-10-19T09:50:03.487+0000</td><td>2023-10-19</td><td>09:50:03</td></tr><tr><td>Reliance Industries Limited</td><td>RELIANCE.NS</td><td>2305.05</td><td>-18.95</td><td>-0.82%</td><td>2023-10-19T09:50:35.189+0000</td><td>2023-10-19</td><td>09:50:35</td></tr><tr><td>Britannia Industries Limited</td><td>BRITANNIA.NS</td><td>4603.1</td><td>-4.6</td><td>-0.10%</td><td>2023-10-19T09:51:34.245+0000</td><td>2023-10-19</td><td>09:51:34</td></tr><tr><td>Bajaj Finance Limited</td><td>BAJFINANCE.NS</td><td>7829.7</td><td>-36.85</td><td>-0.47%</td><td>2023-10-19T09:51:20.274+0000</td><td>2023-10-19</td><td>09:51:20</td></tr><tr><td>Asian Paints Limited</td><td>ASIANPAINT.NS</td><td>3101.7</td><td>5.25</td><td>+0.17%</td><td>2023-10-19T09:51:49.576+0000</td><td>2023-10-19</td><td>09:51:49</td></tr><tr><td>ICICI Bank Limited</td><td>ICICIBANK.NS</td><td>934.9</td><td>-8.85</td><td>-0.94%</td><td>2023-10-19T09:50:18.807+0000</td><td>2023-10-19</td><td>09:50:18</td></tr><tr><td>HDFC Bank Limited</td><td>HDFCBANK.NS</td><td>1515.05</td><td>-4.7</td><td>-0.31%</td><td>2023-10-19T09:49:45.892+0000</td><td>2023-10-19</td><td>09:49:45</td></tr><tr><td>Axis Bank Limited</td><td>AXISBANK.NS</td><td>991.05</td><td>-1.8</td><td>-0.18%</td><td>2023-10-19T09:51:04.755+0000</td><td>2023-10-19</td><td>09:51:04</td></tr><tr><td>State Bank of India</td><td>SBIN.NS</td><td>571.1</td><td>-1.55</td><td>-0.27%</td><td>2023-10-19T09:52:03.808+0000</td><td>2023-10-19</td><td>09:52:03</td></tr><tr><td>Britannia Industries Limited</td><td>BRITANNIA.NS</td><td>4609.15</td><td>1.45</td><td>+0.03%</td><td>2023-10-19T09:54:04.864+0000</td><td>2023-10-19</td><td>09:54:04</td></tr><tr><td>Reliance Industries Limited</td><td>RELIANCE.NS</td><td>2303.35</td><td>-20.65</td><td>-0.89%</td><td>2023-10-19T09:53:02.564+0000</td><td>2023-10-19</td><td>09:53:02</td></tr><tr><td>Kotak Mahindra Bank Limited</td><td>KOTAKBANK.NS</td><td>1739.9</td><td>-13.5</td><td>-0.77%</td><td>2023-10-19T09:55:24.584+0000</td><td>2023-10-19</td><td>09:55:24</td></tr><tr><td>Bajaj Finance Limited</td><td>BAJFINANCE.NS</td><td>7824.9</td><td>-41.65</td><td>-0.53%</td><td>2023-10-19T09:53:48.680+0000</td><td>2023-10-19</td><td>09:53:48</td></tr><tr><td>HDFC Bank Limited</td><td>HDFCBANK.NS</td><td>1513.45</td><td>-6.3</td><td>-0.41%</td><td>2023-10-19T09:52:17.673+0000</td><td>2023-10-19</td><td>09:52:17</td></tr><tr><td>HDFC Bank Limited</td><td>HDFCBANK.NS</td><td>1513.8</td><td>-5.95</td><td>-0.39%</td><td>2023-10-19T09:55:06.862+0000</td><td>2023-10-19</td><td>09:55:06</td></tr><tr><td>Kotak Mahindra Bank Limited</td><td>KOTAKBANK.NS</td><td>1740.1</td><td>-13.3</td><td>-0.76%</td><td>2023-10-19T09:52:32.668+0000</td><td>2023-10-19</td><td>09:52:32</td></tr><tr><td>ICICI Bank Limited</td><td>ICICIBANK.NS</td><td>934.6</td><td>-9.15</td><td>-0.97%</td><td>2023-10-19T09:52:46.812+0000</td><td>2023-10-19</td><td>09:52:46</td></tr><tr><td>Tata Consultancy Services Limited</td><td>TCS.NS</td><td>3454.1</td><td>-33.15</td><td>-0.95%</td><td>2023-10-19T09:53:18.288+0000</td><td>2023-10-19</td><td>09:53:18</td></tr><tr><td>Axis Bank Limited</td><td>AXISBANK.NS</td><td>991.15</td><td>-1.7</td><td>-0.17%</td><td>2023-10-19T09:53:33.836+0000</td><td>2023-10-19</td><td>09:53:33</td></tr><tr><td>Asian Paints Limited</td><td>ASIANPAINT.NS</td><td>3100.45</td><td>4.0</td><td>+0.13%</td><td>2023-10-19T09:54:25.887+0000</td><td>2023-10-19</td><td>09:54:25</td></tr><tr><td>State Bank of India</td><td>SBIN.NS</td><td>571.0</td><td>-1.65</td><td>-0.29%</td><td>2023-10-19T09:54:43.547+0000</td><td>2023-10-19</td><td>09:54:43</td></tr><tr><td>Britannia Industries Limited</td><td>BRITANNIA.NS</td><td>4607.25</td><td>-0.45</td><td>-0.01%</td><td>2023-10-19T09:56:56.549+0000</td><td>2023-10-19</td><td>09:56:56</td></tr><tr><td>Tata Consultancy Services Limited</td><td>TCS.NS</td><td>3452.75</td><td>-34.5</td><td>-0.99%</td><td>2023-10-19T09:56:15.356+0000</td><td>2023-10-19</td><td>09:56:15</td></tr><tr><td>Reliance Industries Limited</td><td>RELIANCE.NS</td><td>2303.4</td><td>-20.6</td><td>-0.89%</td><td>2023-10-19T09:56:00.191+0000</td><td>2023-10-19</td><td>09:56:00</td></tr><tr><td>Bajaj Finance Limited</td><td>BAJFINANCE.NS</td><td>7820.8</td><td>-45.75</td><td>-0.58%</td><td>2023-10-19T09:56:42.679+0000</td><td>2023-10-19</td><td>09:56:42</td></tr><tr><td>Asian Paints Limited</td><td>ASIANPAINT.NS</td><td>3099.25</td><td>2.8</td><td>+0.09%</td><td>2023-10-19T09:57:10.572+0000</td><td>2023-10-19</td><td>09:57:10</td></tr><tr><td>ICICI Bank Limited</td><td>ICICIBANK.NS</td><td>934.85</td><td>-8.9</td><td>-0.94%</td><td>2023-10-19T09:55:43.349+0000</td><td>2023-10-19</td><td>09:55:43</td></tr><tr><td>Axis Bank Limited</td><td>AXISBANK.NS</td><td>990.95</td><td>-1.9</td><td>-0.19%</td><td>2023-10-19T09:56:29.364+0000</td><td>2023-10-19</td><td>09:56:29</td></tr><tr><td>State Bank of India</td><td>SBIN.NS</td><td>571.2</td><td>-1.45</td><td>-0.25%</td><td>2023-10-19T09:57:25.437+0000</td><td>2023-10-19</td><td>09:57:25</td></tr><tr><td>HDFC Bank Limited</td><td>HDFCBANK.NS</td><td>1514.3</td><td>-5.45</td><td>-0.36%</td><td>2023-10-19T09:57:40.181+0000</td><td>2023-10-19</td><td>09:57:40</td></tr><tr><td>Kotak Mahindra Bank Limited</td><td>KOTAKBANK.NS</td><td>1737.0</td><td>-16.4</td><td>-0.94%</td><td>2023-10-19T09:57:56.871+0000</td><td>2023-10-19</td><td>09:57:56</td></tr><tr><td>Tata Consultancy Services Limited</td><td>TCS.NS</td><td>3453.9</td><td>-33.35</td><td>-0.96%</td><td>2023-10-19T09:58:44.484+0000</td><td>2023-10-19</td><td>09:58:44</td></tr><tr><td>Reliance Industries Limited</td><td>RELIANCE.NS</td><td>2302.0</td><td>-22.0</td><td>-0.95%</td><td>2023-10-19T09:58:27.585+0000</td><td>2023-10-19</td><td>09:58:27</td></tr><tr><td>ICICI Bank Limited</td><td>ICICIBANK.NS</td><td>934.85</td><td>-8.9</td><td>-0.94%</td><td>2023-10-19T09:58:10.597+0000</td><td>2023-10-19</td><td>09:58:10</td></tr><tr><td>Axis Bank Limited</td><td>AXISBANK.NS</td><td>990.95</td><td>-1.9</td><td>-0.19%</td><td>2023-10-19T09:58:59.622+0000</td><td>2023-10-19</td><td>09:58:59</td></tr><tr><td>Kotak Mahindra Bank Limited</td><td>KOTAKBANK.NS</td><td>1738.65</td><td>-14.75</td><td>-0.84%</td><td>2023-10-19T10:00:24.682+0000</td><td>2023-10-19</td><td>10:00:24</td></tr><tr><td>Reliance Industries Limited</td><td>RELIANCE.NS</td><td>2304.65</td><td>-19.35</td><td>-0.83%</td><td>2023-10-19T10:00:53.092+0000</td><td>2023-10-19</td><td>10:00:53</td></tr><tr><td>ICICI Bank Limited</td><td>ICICIBANK.NS</td><td>934.85</td><td>-8.9</td><td>-0.94%</td><td>2023-10-19T10:00:38.547+0000</td><td>2023-10-19</td><td>10:00:38</td></tr><tr><td>State Bank of India</td><td>SBIN.NS</td><td>571.3</td><td>-1.35</td><td>-0.24%</td><td>2023-10-19T09:59:55.450+0000</td><td>2023-10-19</td><td>09:59:55</td></tr><tr><td>Britannia Industries Limited</td><td>BRITANNIA.NS</td><td>4607.0</td><td>-0.7</td><td>-0.02%</td><td>2023-10-19T09:59:29.656+0000</td><td>2023-10-19</td><td>09:59:29</td></tr><tr><td>Asian Paints Limited</td><td>ASIANPAINT.NS</td><td>3101.0</td><td>4.55</td><td>+0.15%</td><td>2023-10-19T09:59:42.876+0000</td><td>2023-10-19</td><td>09:59:42</td></tr><tr><td>Bajaj Finance Limited</td><td>BAJFINANCE.NS</td><td>7818.1</td><td>-48.45</td><td>-0.62%</td><td>2023-10-19T09:59:15.227+0000</td><td>2023-10-19</td><td>09:59:15</td></tr><tr><td>HDFC Bank Limited</td><td>HDFCBANK.NS</td><td>1514.5</td><td>-5.25</td><td>-0.35%</td><td>2023-10-19T10:00:08.871+0000</td><td>2023-10-19</td><td>10:00:08</td></tr><tr><td>Tata Consultancy Services Limited</td><td>TCS.NS</td><td>3454.8</td><td>-32.45</td><td>-0.93%</td><td>2023-10-19T10:01:07.671+0000</td><td>2023-10-19</td><td>10:01:07</td></tr><tr><td>Britannia Industries Limited</td><td>BRITANNIA.NS</td><td>4608.0</td><td>0.3</td><td>+0.01%</td><td>2023-10-19T10:01:54.460+0000</td><td>2023-10-19</td><td>10:01:54</td></tr><tr><td>Bajaj Finance Limited</td><td>BAJFINANCE.NS</td><td>7822.4</td><td>-44.15</td><td>-0.56%</td><td>2023-10-19T10:01:37.076+0000</td><td>2023-10-19</td><td>10:01:37</td></tr><tr><td>Axis Bank Limited</td><td>AXISBANK.NS</td><td>993.15</td><td>0.3</td><td>+0.03%</td><td>2023-10-19T10:01:23.241+0000</td><td>2023-10-19</td><td>10:01:23</td></tr><tr><td>Asian Paints Limited</td><td>ASIANPAINT.NS</td><td>3101.0</td><td>4.55</td><td>+0.15%</td><td>2023-10-19T10:02:10.354+0000</td><td>2023-10-19</td><td>10:02:10</td></tr><tr><td>State Bank of India</td><td>SBIN.NS</td><td>571.2</td><td>-1.45</td><td>-0.25%</td><td>2023-10-19T10:02:25.584+0000</td><td>2023-10-19</td><td>10:02:25</td></tr><tr><td>HDFC Bank Limited</td><td>HDFCBANK.NS</td><td>1514.95</td><td>-4.8</td><td>-0.32%</td><td>2023-10-19T10:02:41.738+0000</td><td>2023-10-19</td><td>10:02:41</td></tr><tr><td>Kotak Mahindra Bank Limited</td><td>KOTAKBANK.NS</td><td>1738.45</td><td>-14.95</td><td>-0.85%</td><td>2023-10-19T10:02:58.378+0000</td><td>2023-10-19</td><td>10:02:58</td></tr><tr><td>Tata Consultancy Services Limited</td><td>TCS.NS</td><td>3455.65</td><td>-31.6</td><td>-0.91%</td><td>2023-10-19T10:03:45.011+0000</td><td>2023-10-19</td><td>10:03:45</td></tr><tr><td>Reliance Industries Limited</td><td>RELIANCE.NS</td><td>2306.15</td><td>-17.85</td><td>-0.77%</td><td>2023-10-19T10:03:28.699+0000</td><td>2023-10-19</td><td>10:03:28</td></tr><tr><td>ICICI Bank Limited</td><td>ICICIBANK.NS</td><td>935.75</td><td>-8.0</td><td>-0.85%</td><td>2023-10-19T10:03:13.288+0000</td><td>2023-10-19</td><td>10:03:13</td></tr><tr><td>Bajaj Finance Limited</td><td>BAJFINANCE.NS</td><td>7841.55</td><td>-25.0</td><td>-0.32%</td><td>2023-10-19T10:04:20.436+0000</td><td>2023-10-19</td><td>10:04:20</td></tr><tr><td>Axis Bank Limited</td><td>AXISBANK.NS</td><td>991.4</td><td>-1.45</td><td>-0.15%</td><td>2023-10-19T10:04:01.223+0000</td><td>2023-10-19</td><td>10:04:01</td></tr><tr><td>HDFC Bank Limited</td><td>HDFCBANK.NS</td><td>1514.95</td><td>-4.8</td><td>-0.32%</td><td>2023-10-19T10:05:24.662+0000</td><td>2023-10-19</td><td>10:05:24</td></tr><tr><td>Britannia Industries Limited</td><td>BRITANNIA.NS</td><td>4602.45</td><td>-5.25</td><td>-0.11%</td><td>2023-10-19T10:04:37.088+0000</td><td>2023-10-19</td><td>10:04:37</td></tr><tr><td>Asian Paints Limited</td><td>ASIANPAINT.NS</td><td>3101.8</td><td>5.35</td><td>+0.17%</td><td>2023-10-19T10:04:56.263+0000</td><td>2023-10-19</td><td>10:04:56</td></tr><tr><td>State Bank of India</td><td>SBIN.NS</td><td>571.2</td><td>-1.45</td><td>-0.25%</td><td>2023-10-19T10:05:11.000+0000</td><td>2023-10-19</td><td>10:05:11</td></tr><tr><td>Kotak Mahindra Bank Limited</td><td>KOTAKBANK.NS</td><td>1738.45</td><td>-14.95</td><td>-0.85%</td><td>2023-10-19T10:05:41.882+0000</td><td>2023-10-19</td><td>10:05:41</td></tr><tr><td>Reliance Industries Limited</td><td>RELIANCE.NS</td><td>2306.15</td><td>-17.85</td><td>-0.77%</td><td>2023-10-19T10:06:14.857+0000</td><td>2023-10-19</td><td>10:06:14</td></tr><tr><td>ICICI Bank Limited</td><td>ICICIBANK.NS</td><td>935.75</td><td>-8.0</td><td>-0.85%</td><td>2023-10-19T10:05:58.442+0000</td><td>2023-10-19</td><td>10:05:58</td></tr><tr><td>Tata Consultancy Services Limited</td><td>TCS.NS</td><td>3455.65</td><td>-31.6</td><td>-0.91%</td><td>2023-10-19T10:06:31.885+0000</td><td>2023-10-19</td><td>10:06:31</td></tr><tr><td>Axis Bank Limited</td><td>AXISBANK.NS</td><td>991.4</td><td>-1.45</td><td>-0.15%</td><td>2023-10-19T10:06:50.158+0000</td><td>2023-10-19</td><td>10:06:50</td></tr><tr><td>Britannia Industries Limited</td><td>BRITANNIA.NS</td><td>4602.45</td><td>-5.25</td><td>-0.11%</td><td>2023-10-19T10:07:22.855+0000</td><td>2023-10-19</td><td>10:07:22</td></tr><tr><td>Bajaj Finance Limited</td><td>BAJFINANCE.NS</td><td>7841.55</td><td>-25.0</td><td>-0.32%</td><td>2023-10-19T10:07:06.387+0000</td><td>2023-10-19</td><td>10:07:06</td></tr><tr><td>Kotak Mahindra Bank Limited</td><td>KOTAKBANK.NS</td><td>1738.45</td><td>-14.95</td><td>-0.85%</td><td>2023-10-19T10:08:29.588+0000</td><td>2023-10-19</td><td>10:08:29</td></tr><tr><td>Asian Paints Limited</td><td>ASIANPAINT.NS</td><td>3101.8</td><td>5.35</td><td>+0.17%</td><td>2023-10-19T10:07:37.904+0000</td><td>2023-10-19</td><td>10:07:37</td></tr><tr><td>ICICI Bank Limited</td><td>ICICIBANK.NS</td><td>935.75</td><td>-8.0</td><td>-0.85%</td><td>2023-10-19T10:08:51.931+0000</td><td>2023-10-19</td><td>10:08:51</td></tr><tr><td>HDFC Bank Limited</td><td>HDFCBANK.NS</td><td>1514.95</td><td>-4.8</td><td>-0.32%</td><td>2023-10-19T10:08:10.999+0000</td><td>2023-10-19</td><td>10:08:10</td></tr><tr><td>State Bank of India</td><td>SBIN.NS</td><td>571.2</td><td>-1.45</td><td>-0.25%</td><td>2023-10-19T10:07:54.766+0000</td><td>2023-10-19</td><td>10:07:54</td></tr><tr><td>Tata Consultancy Services Limited</td><td>TCS.NS</td><td>3455.65</td><td>-31.6</td><td>-0.91%</td><td>2023-10-19T10:09:25.094+0000</td><td>2023-10-19</td><td>10:09:25</td></tr><tr><td>Reliance Industries Limited</td><td>RELIANCE.NS</td><td>2306.15</td><td>-17.85</td><td>-0.77%</td><td>2023-10-19T10:09:08.456+0000</td><td>2023-10-19</td><td>10:09:08</td></tr><tr><td>Bajaj Finance Limited</td><td>BAJFINANCE.NS</td><td>7841.55</td><td>-25.0</td><td>-0.32%</td><td>2023-10-19T10:09:56.388+0000</td><td>2023-10-19</td><td>10:09:56</td></tr><tr><td>Axis Bank Limited</td><td>AXISBANK.NS</td><td>991.4</td><td>-1.45</td><td>-0.15%</td><td>2023-10-19T10:09:40.679+0000</td><td>2023-10-19</td><td>10:09:40</td></tr><tr><td>Britannia Industries Limited</td><td>BRITANNIA.NS</td><td>4602.45</td><td>-5.25</td><td>-0.11%</td><td>2023-10-19T10:10:12.035+0000</td><td>2023-10-19</td><td>10:10:12</td></tr><tr><td>Asian Paints Limited</td><td>ASIANPAINT.NS</td><td>3101.8</td><td>5.35</td><td>+0.17%</td><td>2023-10-19T10:10:28.664+0000</td><td>2023-10-19</td><td>10:10:28</td></tr></tbody></table></div>"
      ]
     },
     "metadata": {
      "application/vnd.databricks.v1+output": {
       "addedWidgets": {},
       "aggData": [],
       "aggError": "",
       "aggOverflow": false,
       "aggSchema": [],
       "aggSeriesLimitReached": false,
       "aggType": "",
       "arguments": {},
       "columnCustomDisplayInfos": {},
       "data": [
        [
         "Kotak Mahindra Bank Limited",
         "KOTAKBANK.NS",
         1740.45,
         -12.95,
         "-0.74%",
         "2023-10-19T09:17:05.334+0000",
         "2023-10-19",
         "09:17:05"
        ],
        [
         "Kotak Mahindra Bank Limited",
         "KOTAKBANK.NS",
         1740.05,
         -13.35,
         "-0.76%",
         "2023-10-19T09:20:13.843+0000",
         "2023-10-19",
         "09:20:13"
        ],
        [
         "Britannia Industries Limited",
         "BRITANNIA.NS",
         4600.95,
         -6.75,
         "-0.15%",
         "2023-10-19T09:21:39.787+0000",
         "2023-10-19",
         "09:21:39"
        ],
        [
         "Tata Consultancy Services Limited",
         "TCS.NS",
         3459.4,
         -27.85,
         "-0.80%",
         "2023-10-19T09:29:14.893+0000",
         "2023-10-19",
         "09:29:14"
        ],
        [
         "Tata Consultancy Services Limited",
         "TCS.NS",
         3459.95,
         -27.3,
         "-0.78%",
         "2023-10-19T09:26:13.162+0000",
         "2023-10-19",
         "09:26:13"
        ],
        [
         "Tata Consultancy Services Limited",
         "TCS.NS",
         3459.0,
         -28.25,
         "-0.81%",
         "2023-10-19T09:20:57.191+0000",
         "2023-10-19",
         "09:20:57"
        ],
        [
         "Britannia Industries Limited",
         "BRITANNIA.NS",
         4604.4,
         -3.3,
         "-0.07%",
         "2023-10-19T09:19:00.112+0000",
         "2023-10-19",
         "09:19:00"
        ],
        [
         "Britannia Industries Limited",
         "BRITANNIA.NS",
         4603.4,
         -4.3,
         "-0.09%",
         "2023-10-19T09:27:18.517+0000",
         "2023-10-19",
         "09:27:18"
        ],
        [
         "Kotak Mahindra Bank Limited",
         "KOTAKBANK.NS",
         1739.3,
         -14.1,
         "-0.80%",
         "2023-10-19T09:28:27.134+0000",
         "2023-10-19",
         "09:28:27"
        ],
        [
         "Reliance Industries Limited",
         "RELIANCE.NS",
         2307.95,
         -16.05,
         "-0.69%",
         "2023-10-19T09:28:59.262+0000",
         "2023-10-19",
         "09:28:59"
        ],
        [
         "Britannia Industries Limited",
         "BRITANNIA.NS",
         4605.0,
         -2.7,
         "-0.06%",
         "2023-10-19T09:30:04.074+0000",
         "2023-10-19",
         "09:30:04"
        ],
        [
         "Tata Consultancy Services Limited",
         "TCS.NS",
         3458.05,
         -29.2,
         "-0.84%",
         "2023-10-19T09:18:07.464+0000",
         "2023-10-19",
         "09:18:07"
        ],
        [
         "Reliance Industries Limited",
         "RELIANCE.NS",
         2308.05,
         -15.95,
         "-0.69%",
         "2023-10-19T09:20:43.462+0000",
         "2023-10-19",
         "09:20:43"
        ],
        [
         "Reliance Industries Limited",
         "RELIANCE.NS",
         2305.95,
         -18.05,
         "-0.78%",
         "2023-10-19T09:23:10.365+0000",
         "2023-10-19",
         "09:23:10"
        ],
        [
         "Tata Consultancy Services Limited",
         "TCS.NS",
         3460.65,
         -26.6,
         "-0.76%",
         "2023-10-19T09:23:23.267+0000",
         "2023-10-19",
         "09:23:23"
        ],
        [
         "Kotak Mahindra Bank Limited",
         "KOTAKBANK.NS",
         1738.0,
         -15.4,
         "-0.88%",
         "2023-10-19T09:31:09.545+0000",
         "2023-10-19",
         "09:31:09"
        ],
        [
         "Reliance Industries Limited",
         "RELIANCE.NS",
         2309.15,
         -14.85,
         "-0.64%",
         "2023-10-19T09:31:41.916+0000",
         "2023-10-19",
         "09:31:41"
        ],
        [
         "Tata Consultancy Services Limited",
         "TCS.NS",
         3460.15,
         -27.1,
         "-0.78%",
         "2023-10-19T09:31:59.190+0000",
         "2023-10-19",
         "09:31:59"
        ],
        [
         "Kotak Mahindra Bank Limited",
         "KOTAKBANK.NS",
         1738.7,
         -14.7,
         "-0.84%",
         "2023-10-19T09:22:37.867+0000",
         "2023-10-19",
         "09:22:37"
        ],
        [
         "Britannia Industries Limited",
         "BRITANNIA.NS",
         4601.1,
         -6.6,
         "-0.14%",
         "2023-10-19T09:24:14.366+0000",
         "2023-10-19",
         "09:24:14"
        ],
        [
         "Reliance Industries Limited",
         "RELIANCE.NS",
         2307.55,
         -16.45,
         "-0.71%",
         "2023-10-19T09:25:56.385+0000",
         "2023-10-19",
         "09:25:56"
        ],
        [
         "Kotak Mahindra Bank Limited",
         "KOTAKBANK.NS",
         1739.6,
         -13.8,
         "-0.79%",
         "2023-10-19T09:25:20.056+0000",
         "2023-10-19",
         "09:25:20"
        ],
        [
         "Reliance Industries Limited",
         "RELIANCE.NS",
         2308.7,
         -15.3,
         "-0.66%",
         "2023-10-19T09:17:44.119+0000",
         "2023-10-19",
         "09:17:44"
        ],
        [
         "Bajaj Finance Limited",
         "BAJFINANCE.NS",
         7872.05,
         5.5,
         "+0.07%",
         "2023-10-19T09:29:46.775+0000",
         "2023-10-19",
         "09:29:46"
        ],
        [
         "Bajaj Finance Limited",
         "BAJFINANCE.NS",
         7867.55,
         1.0,
         "+0.01%",
         "2023-10-19T09:21:24.518+0000",
         "2023-10-19",
         "09:21:24"
        ],
        [
         "Bajaj Finance Limited",
         "BAJFINANCE.NS",
         7866.75,
         0.2,
         "+0.00%",
         "2023-10-19T09:18:45.152+0000",
         "2023-10-19",
         "09:18:45"
        ],
        [
         "Asian Paints Limited",
         "ASIANPAINT.NS",
         3101.65,
         5.2,
         "+0.17%",
         "2023-10-19T09:24:29.392+0000",
         "2023-10-19",
         "09:24:29"
        ],
        [
         "Asian Paints Limited",
         "ASIANPAINT.NS",
         3103.55,
         7.1,
         "+0.23%",
         "2023-10-19T09:27:39.387+0000",
         "2023-10-19",
         "09:27:39"
        ],
        [
         "Asian Paints Limited",
         "ASIANPAINT.NS",
         3101.3,
         4.85,
         "+0.16%",
         "2023-10-19T09:21:54.551+0000",
         "2023-10-19",
         "09:21:54"
        ],
        [
         "Bajaj Finance Limited",
         "BAJFINANCE.NS",
         7869.5,
         2.95,
         "+0.04%",
         "2023-10-19T09:23:55.233+0000",
         "2023-10-19",
         "09:23:55"
        ],
        [
         "Bajaj Finance Limited",
         "BAJFINANCE.NS",
         7870.4,
         3.85,
         "+0.05%",
         "2023-10-19T09:26:50.363+0000",
         "2023-10-19",
         "09:26:50"
        ],
        [
         "Asian Paints Limited",
         "ASIANPAINT.NS",
         3102.5,
         6.05,
         "+0.20%",
         "2023-10-19T09:30:20.765+0000",
         "2023-10-19",
         "09:30:20"
        ],
        [
         "Asian Paints Limited",
         "ASIANPAINT.NS",
         3103.0,
         6.55,
         "+0.21%",
         "2023-10-19T09:19:14.539+0000",
         "2023-10-19",
         "09:19:14"
        ],
        [
         "Axis Bank Limited",
         "AXISBANK.NS",
         991.4,
         -1.45,
         "-0.15%",
         "2023-10-19T09:23:40.845+0000",
         "2023-10-19",
         "09:23:40"
        ],
        [
         "Axis Bank Limited",
         "AXISBANK.NS",
         991.4,
         -1.45,
         "-0.15%",
         "2023-10-19T09:32:14.994+0000",
         "2023-10-19",
         "09:32:14"
        ],
        [
         "Axis Bank Limited",
         "AXISBANK.NS",
         992.0,
         -0.85,
         "-0.09%",
         "2023-10-19T09:29:33.039+0000",
         "2023-10-19",
         "09:29:33"
        ],
        [
         "ICICI Bank Limited",
         "ICICIBANK.NS",
         939.15,
         -4.6,
         "-0.49%",
         "2023-10-19T09:17:26.526+0000",
         "2023-10-19",
         "09:17:26"
        ],
        [
         "ICICI Bank Limited",
         "ICICIBANK.NS",
         939.05,
         -4.7,
         "-0.50%",
         "2023-10-19T09:20:29.189+0000",
         "2023-10-19",
         "09:20:29"
        ],
        [
         "ICICI Bank Limited",
         "ICICIBANK.NS",
         938.35,
         -5.4,
         "-0.57%",
         "2023-10-19T09:28:42.120+0000",
         "2023-10-19",
         "09:28:42"
        ],
        [
         "ICICI Bank Limited",
         "ICICIBANK.NS",
         938.2,
         -5.55,
         "-0.59%",
         "2023-10-19T09:31:24.537+0000",
         "2023-10-19",
         "09:31:24"
        ],
        [
         "ICICI Bank Limited",
         "ICICIBANK.NS",
         938.35,
         -5.4,
         "-0.57%",
         "2023-10-19T09:22:53.718+0000",
         "2023-10-19",
         "09:22:53"
        ],
        [
         "HDFC Bank Limited",
         "HDFCBANK.NS",
         1516.8,
         -2.95,
         "-0.19%",
         "2023-10-19T09:25:03.947+0000",
         "2023-10-19",
         "09:25:03"
        ],
        [
         "HDFC Bank Limited",
         "HDFCBANK.NS",
         1516.0,
         -3.75,
         "-0.25%",
         "2023-10-19T09:28:12.242+0000",
         "2023-10-19",
         "09:28:12"
        ],
        [
         "HDFC Bank Limited",
         "HDFCBANK.NS",
         1518.7,
         -1.05,
         "-0.07%",
         "2023-10-19T09:16:48.551+0000",
         "2023-10-19",
         "09:16:48"
        ],
        [
         "Axis Bank Limited",
         "AXISBANK.NS",
         992.05,
         -0.8,
         "-0.08%",
         "2023-10-19T09:18:24.255+0000",
         "2023-10-19",
         "09:18:24"
        ],
        [
         "HDFC Bank Limited",
         "HDFCBANK.NS",
         1517.6,
         -2.15,
         "-0.14%",
         "2023-10-19T09:22:22.587+0000",
         "2023-10-19",
         "09:22:22"
        ],
        [
         "Axis Bank Limited",
         "AXISBANK.NS",
         991.85,
         -1.0,
         "-0.10%",
         "2023-10-19T09:26:31.820+0000",
         "2023-10-19",
         "09:26:31"
        ],
        [
         "HDFC Bank Limited",
         "HDFCBANK.NS",
         1515.05,
         -4.7,
         "-0.31%",
         "2023-10-19T09:30:52.224+0000",
         "2023-10-19",
         "09:30:52"
        ],
        [
         "ICICI Bank Limited",
         "ICICIBANK.NS",
         938.8,
         -4.95,
         "-0.52%",
         "2023-10-19T09:25:39.299+0000",
         "2023-10-19",
         "09:25:39"
        ],
        [
         "HDFC Bank Limited",
         "HDFCBANK.NS",
         1517.7,
         -2.05,
         "-0.13%",
         "2023-10-19T09:19:57.053+0000",
         "2023-10-19",
         "09:19:57"
        ],
        [
         "Axis Bank Limited",
         "AXISBANK.NS",
         991.55,
         -1.3,
         "-0.13%",
         "2023-10-19T09:21:10.333+0000",
         "2023-10-19",
         "09:21:10"
        ],
        [
         "State Bank of India",
         "SBIN.NS",
         571.05,
         -1.6,
         "-0.28%",
         "2023-10-19T09:16:29.962+0000",
         "2023-10-19",
         "09:16:29"
        ],
        [
         "State Bank of India",
         "SBIN.NS",
         570.85,
         -1.8,
         "-0.31%",
         "2023-10-19T09:19:30.219+0000",
         "2023-10-19",
         "09:19:30"
        ],
        [
         "State Bank of India",
         "SBIN.NS",
         570.85,
         -1.8,
         "-0.31%",
         "2023-10-19T09:22:08.157+0000",
         "2023-10-19",
         "09:22:08"
        ],
        [
         "State Bank of India",
         "SBIN.NS",
         571.1,
         -1.55,
         "-0.27%",
         "2023-10-19T09:27:56.615+0000",
         "2023-10-19",
         "09:27:56"
        ],
        [
         "State Bank of India",
         "SBIN.NS",
         571.15,
         -1.5,
         "-0.26%",
         "2023-10-19T09:30:37.927+0000",
         "2023-10-19",
         "09:30:37"
        ],
        [
         "State Bank of India",
         "SBIN.NS",
         570.95,
         -1.7,
         "-0.30%",
         "2023-10-19T09:24:47.628+0000",
         "2023-10-19",
         "09:24:47"
        ],
        [
         "Tata Consultancy Services Limited",
         "TCS.NS",
         3458.0,
         -29.25,
         "-0.84%",
         "2023-10-19T09:34:39.466+0000",
         "2023-10-19",
         "09:34:39"
        ],
        [
         "Kotak Mahindra Bank Limited",
         "KOTAKBANK.NS",
         1738.2,
         -15.2,
         "-0.87%",
         "2023-10-19T09:33:52.519+0000",
         "2023-10-19",
         "09:33:52"
        ],
        [
         "Reliance Industries Limited",
         "RELIANCE.NS",
         2310.25,
         -13.75,
         "-0.59%",
         "2023-10-19T09:34:24.727+0000",
         "2023-10-19",
         "09:34:24"
        ],
        [
         "Britannia Industries Limited",
         "BRITANNIA.NS",
         4602.7,
         -5.0,
         "-0.11%",
         "2023-10-19T09:32:45.892+0000",
         "2023-10-19",
         "09:32:45"
        ],
        [
         "Bajaj Finance Limited",
         "BAJFINANCE.NS",
         7865.25,
         -1.3,
         "-0.02%",
         "2023-10-19T09:32:30.060+0000",
         "2023-10-19",
         "09:32:30"
        ],
        [
         "Asian Paints Limited",
         "ASIANPAINT.NS",
         3102.85,
         6.4,
         "+0.21%",
         "2023-10-19T09:33:02.257+0000",
         "2023-10-19",
         "09:33:02"
        ],
        [
         "Axis Bank Limited",
         "AXISBANK.NS",
         991.4,
         -1.45,
         "-0.15%",
         "2023-10-19T09:34:52.433+0000",
         "2023-10-19",
         "09:34:52"
        ],
        [
         "ICICI Bank Limited",
         "ICICIBANK.NS",
         937.9,
         -5.85,
         "-0.62%",
         "2023-10-19T09:34:09.523+0000",
         "2023-10-19",
         "09:34:09"
        ],
        [
         "HDFC Bank Limited",
         "HDFCBANK.NS",
         1516.15,
         -3.6,
         "-0.24%",
         "2023-10-19T09:33:33.678+0000",
         "2023-10-19",
         "09:33:33"
        ],
        [
         "State Bank of India",
         "SBIN.NS",
         571.1,
         -1.55,
         "-0.27%",
         "2023-10-19T09:33:17.192+0000",
         "2023-10-19",
         "09:33:17"
        ],
        [
         "Britannia Industries Limited",
         "BRITANNIA.NS",
         4598.45,
         -9.25,
         "-0.20%",
         "2023-10-19T09:35:22.406+0000",
         "2023-10-19",
         "09:35:22"
        ],
        [
         "Bajaj Finance Limited",
         "BAJFINANCE.NS",
         7854.6,
         -11.95,
         "-0.15%",
         "2023-10-19T09:35:07.273+0000",
         "2023-10-19",
         "09:35:07"
        ],
        [
         "Asian Paints Limited",
         "ASIANPAINT.NS",
         3102.65,
         6.2,
         "+0.20%",
         "2023-10-19T09:35:37.517+0000",
         "2023-10-19",
         "09:35:37"
        ],
        [
         "HDFC Bank Limited",
         "HDFCBANK.NS",
         1516.25,
         -3.5,
         "-0.23%",
         "2023-10-19T09:36:06.269+0000",
         "2023-10-19",
         "09:36:06"
        ],
        [
         "State Bank of India",
         "SBIN.NS",
         572.05,
         -0.6,
         "-0.10%",
         "2023-10-19T09:35:53.096+0000",
         "2023-10-19",
         "09:35:53"
        ],
        [
         "Kotak Mahindra Bank Limited",
         "KOTAKBANK.NS",
         1740.35,
         -13.05,
         "-0.74%",
         "2023-10-19T09:36:22.572+0000",
         "2023-10-19",
         "09:36:22"
        ],
        [
         "ICICI Bank Limited",
         "ICICIBANK.NS",
         937.85,
         -5.9,
         "-0.63%",
         "2023-10-19T09:36:38.259+0000",
         "2023-10-19",
         "09:36:38"
        ],
        [
         "Britannia Industries Limited",
         "BRITANNIA.NS",
         4600.25,
         -7.45,
         "-0.16%",
         "2023-10-19T09:37:55.439+0000",
         "2023-10-19",
         "09:37:55"
        ],
        [
         "Reliance Industries Limited",
         "RELIANCE.NS",
         2309.35,
         -14.65,
         "-0.63%",
         "2023-10-19T09:36:54.537+0000",
         "2023-10-19",
         "09:36:54"
        ],
        [
         "Bajaj Finance Limited",
         "BAJFINANCE.NS",
         7860.55,
         -6.0,
         "-0.08%",
         "2023-10-19T09:37:40.039+0000",
         "2023-10-19",
         "09:37:40"
        ],
        [
         "Tata Consultancy Services Limited",
         "TCS.NS",
         3457.0,
         -30.25,
         "-0.87%",
         "2023-10-19T09:37:08.217+0000",
         "2023-10-19",
         "09:37:08"
        ],
        [
         "Axis Bank Limited",
         "AXISBANK.NS",
         992.1,
         -0.75,
         "-0.08%",
         "2023-10-19T09:37:23.358+0000",
         "2023-10-19",
         "09:37:23"
        ],
        [
         "Asian Paints Limited",
         "ASIANPAINT.NS",
         3103.0,
         6.55,
         "+0.21%",
         "2023-10-19T09:38:11.179+0000",
         "2023-10-19",
         "09:38:11"
        ],
        [
         "State Bank of India",
         "SBIN.NS",
         571.75,
         -0.9,
         "-0.16%",
         "2023-10-19T09:38:28.451+0000",
         "2023-10-19",
         "09:38:28"
        ],
        [
         "HDFC Bank Limited",
         "HDFCBANK.NS",
         1515.2,
         -4.55,
         "-0.30%",
         "2023-10-19T09:38:42.892+0000",
         "2023-10-19",
         "09:38:42"
        ],
        [
         "Kotak Mahindra Bank Limited",
         "KOTAKBANK.NS",
         1738.8,
         -14.6,
         "-0.83%",
         "2023-10-19T09:38:58.531+0000",
         "2023-10-19",
         "09:38:58"
        ],
        [
         "Reliance Industries Limited",
         "RELIANCE.NS",
         2309.0,
         -15.0,
         "-0.65%",
         "2023-10-19T09:39:32.128+0000",
         "2023-10-19",
         "09:39:32"
        ],
        [
         "ICICI Bank Limited",
         "ICICIBANK.NS",
         935.55,
         -8.2,
         "-0.87%",
         "2023-10-19T09:39:16.229+0000",
         "2023-10-19",
         "09:39:16"
        ],
        [
         "Tata Consultancy Services Limited",
         "TCS.NS",
         3456.8,
         -30.45,
         "-0.87%",
         "2023-10-19T09:39:47.757+0000",
         "2023-10-19",
         "09:39:47"
        ],
        [
         "Britannia Industries Limited",
         "BRITANNIA.NS",
         4600.05,
         -7.65,
         "-0.17%",
         "2023-10-19T09:40:37.979+0000",
         "2023-10-19",
         "09:40:37"
        ],
        [
         "Bajaj Finance Limited",
         "BAJFINANCE.NS",
         7842.05,
         -24.5,
         "-0.31%",
         "2023-10-19T09:40:22.553+0000",
         "2023-10-19",
         "09:40:22"
        ],
        [
         "Axis Bank Limited",
         "AXISBANK.NS",
         991.8,
         -1.05,
         "-0.11%",
         "2023-10-19T09:40:04.656+0000",
         "2023-10-19",
         "09:40:04"
        ],
        [
         "Kotak Mahindra Bank Limited",
         "KOTAKBANK.NS",
         1737.85,
         -15.55,
         "-0.89%",
         "2023-10-19T09:41:40.267+0000",
         "2023-10-19",
         "09:41:40"
        ],
        [
         "Tata Consultancy Services Limited",
         "TCS.NS",
         3456.35,
         -30.9,
         "-0.89%",
         "2023-10-19T09:42:23.705+0000",
         "2023-10-19",
         "09:42:23"
        ],
        [
         "Reliance Industries Limited",
         "RELIANCE.NS",
         2306.3,
         -17.7,
         "-0.76%",
         "2023-10-19T09:42:10.091+0000",
         "2023-10-19",
         "09:42:10"
        ],
        [
         "Asian Paints Limited",
         "ASIANPAINT.NS",
         3101.7,
         5.25,
         "+0.17%",
         "2023-10-19T09:40:55.215+0000",
         "2023-10-19",
         "09:40:55"
        ],
        [
         "ICICI Bank Limited",
         "ICICIBANK.NS",
         936.1,
         -7.65,
         "-0.81%",
         "2023-10-19T09:41:54.354+0000",
         "2023-10-19",
         "09:41:54"
        ],
        [
         "HDFC Bank Limited",
         "HDFCBANK.NS",
         1515.05,
         -4.7,
         "-0.31%",
         "2023-10-19T09:41:25.603+0000",
         "2023-10-19",
         "09:41:25"
        ],
        [
         "State Bank of India",
         "SBIN.NS",
         571.3,
         -1.35,
         "-0.24%",
         "2023-10-19T09:41:08.874+0000",
         "2023-10-19",
         "09:41:08"
        ],
        [
         "Kotak Mahindra Bank Limited",
         "KOTAKBANK.NS",
         1737.75,
         -15.65,
         "-0.89%",
         "2023-10-19T09:44:01.875+0000",
         "2023-10-19",
         "09:44:01"
        ],
        [
         "Britannia Industries Limited",
         "BRITANNIA.NS",
         4600.0,
         -7.7,
         "-0.17%",
         "2023-10-19T09:43:04.418+0000",
         "2023-10-19",
         "09:43:04"
        ],
        [
         "Reliance Industries Limited",
         "RELIANCE.NS",
         2305.35,
         -18.65,
         "-0.80%",
         "2023-10-19T09:44:32.560+0000",
         "2023-10-19",
         "09:44:32"
        ],
        [
         "Bajaj Finance Limited",
         "BAJFINANCE.NS",
         7840.85,
         -25.7,
         "-0.33%",
         "2023-10-19T09:42:51.385+0000",
         "2023-10-19",
         "09:42:51"
        ],
        [
         "Axis Bank Limited",
         "AXISBANK.NS",
         991.65,
         -1.2,
         "-0.12%",
         "2023-10-19T09:42:37.865+0000",
         "2023-10-19",
         "09:42:37"
        ],
        [
         "HDFC Bank Limited",
         "HDFCBANK.NS",
         1515.0,
         -4.75,
         "-0.31%",
         "2023-10-19T09:43:46.985+0000",
         "2023-10-19",
         "09:43:46"
        ],
        [
         "ICICI Bank Limited",
         "ICICIBANK.NS",
         935.05,
         -8.7,
         "-0.92%",
         "2023-10-19T09:44:16.876+0000",
         "2023-10-19",
         "09:44:16"
        ],
        [
         "Asian Paints Limited",
         "ASIANPAINT.NS",
         3102.55,
         6.1,
         "+0.20%",
         "2023-10-19T09:43:17.921+0000",
         "2023-10-19",
         "09:43:17"
        ],
        [
         "State Bank of India",
         "SBIN.NS",
         570.95,
         -1.7,
         "-0.30%",
         "2023-10-19T09:43:31.492+0000",
         "2023-10-19",
         "09:43:31"
        ],
        [
         "Kotak Mahindra Bank Limited",
         "KOTAKBANK.NS",
         1736.35,
         -17.05,
         "-0.97%",
         "2023-10-19T09:46:39.672+0000",
         "2023-10-19",
         "09:46:39"
        ],
        [
         "Tata Consultancy Services Limited",
         "TCS.NS",
         3456.0,
         -31.25,
         "-0.90%",
         "2023-10-19T09:44:48.634+0000",
         "2023-10-19",
         "09:44:48"
        ],
        [
         "Britannia Industries Limited",
         "BRITANNIA.NS",
         4599.35,
         -8.35,
         "-0.18%",
         "2023-10-19T09:45:37.122+0000",
         "2023-10-19",
         "09:45:37"
        ],
        [
         "Tata Consultancy Services Limited",
         "TCS.NS",
         3455.0,
         -32.25,
         "-0.92%",
         "2023-10-19T09:47:30.570+0000",
         "2023-10-19",
         "09:47:30"
        ],
        [
         "Reliance Industries Limited",
         "RELIANCE.NS",
         2306.85,
         -17.15,
         "-0.74%",
         "2023-10-19T09:47:13.939+0000",
         "2023-10-19",
         "09:47:13"
        ],
        [
         "Bajaj Finance Limited",
         "BAJFINANCE.NS",
         7838.25,
         -28.3,
         "-0.36%",
         "2023-10-19T09:45:20.843+0000",
         "2023-10-19",
         "09:45:20"
        ],
        [
         "ICICI Bank Limited",
         "ICICIBANK.NS",
         934.75,
         -9.0,
         "-0.95%",
         "2023-10-19T09:46:56.122+0000",
         "2023-10-19",
         "09:46:56"
        ],
        [
         "Axis Bank Limited",
         "AXISBANK.NS",
         991.35,
         -1.5,
         "-0.15%",
         "2023-10-19T09:45:04.443+0000",
         "2023-10-19",
         "09:45:04"
        ],
        [
         "HDFC Bank Limited",
         "HDFCBANK.NS",
         1515.2,
         -4.55,
         "-0.30%",
         "2023-10-19T09:46:22.987+0000",
         "2023-10-19",
         "09:46:22"
        ],
        [
         "Axis Bank Limited",
         "AXISBANK.NS",
         991.05,
         -1.8,
         "-0.18%",
         "2023-10-19T09:47:46.303+0000",
         "2023-10-19",
         "09:47:46"
        ],
        [
         "Asian Paints Limited",
         "ASIANPAINT.NS",
         3102.05,
         5.6,
         "+0.18%",
         "2023-10-19T09:45:51.801+0000",
         "2023-10-19",
         "09:45:51"
        ],
        [
         "State Bank of India",
         "SBIN.NS",
         571.15,
         -1.5,
         "-0.26%",
         "2023-10-19T09:46:07.624+0000",
         "2023-10-19",
         "09:46:07"
        ],
        [
         "Britannia Industries Limited",
         "BRITANNIA.NS",
         4603.85,
         -3.85,
         "-0.08%",
         "2023-10-19T09:48:52.118+0000",
         "2023-10-19",
         "09:48:52"
        ],
        [
         "Bajaj Finance Limited",
         "BAJFINANCE.NS",
         7829.5,
         -37.05,
         "-0.47%",
         "2023-10-19T09:48:24.774+0000",
         "2023-10-19",
         "09:48:24"
        ],
        [
         "Asian Paints Limited",
         "ASIANPAINT.NS",
         3100.8,
         4.35,
         "+0.14%",
         "2023-10-19T09:49:10.105+0000",
         "2023-10-19",
         "09:49:10"
        ],
        [
         "State Bank of India",
         "SBIN.NS",
         571.1,
         -1.55,
         "-0.27%",
         "2023-10-19T09:49:25.259+0000",
         "2023-10-19",
         "09:49:25"
        ],
        [
         "Tata Consultancy Services Limited",
         "TCS.NS",
         3455.0,
         -32.25,
         "-0.92%",
         "2023-10-19T09:50:48.861+0000",
         "2023-10-19",
         "09:50:48"
        ],
        [
         "Kotak Mahindra Bank Limited",
         "KOTAKBANK.NS",
         1737.9,
         -15.5,
         "-0.88%",
         "2023-10-19T09:50:03.487+0000",
         "2023-10-19",
         "09:50:03"
        ],
        [
         "Reliance Industries Limited",
         "RELIANCE.NS",
         2305.05,
         -18.95,
         "-0.82%",
         "2023-10-19T09:50:35.189+0000",
         "2023-10-19",
         "09:50:35"
        ],
        [
         "Britannia Industries Limited",
         "BRITANNIA.NS",
         4603.1,
         -4.6,
         "-0.10%",
         "2023-10-19T09:51:34.245+0000",
         "2023-10-19",
         "09:51:34"
        ],
        [
         "Bajaj Finance Limited",
         "BAJFINANCE.NS",
         7829.7,
         -36.85,
         "-0.47%",
         "2023-10-19T09:51:20.274+0000",
         "2023-10-19",
         "09:51:20"
        ],
        [
         "Asian Paints Limited",
         "ASIANPAINT.NS",
         3101.7,
         5.25,
         "+0.17%",
         "2023-10-19T09:51:49.576+0000",
         "2023-10-19",
         "09:51:49"
        ],
        [
         "ICICI Bank Limited",
         "ICICIBANK.NS",
         934.9,
         -8.85,
         "-0.94%",
         "2023-10-19T09:50:18.807+0000",
         "2023-10-19",
         "09:50:18"
        ],
        [
         "HDFC Bank Limited",
         "HDFCBANK.NS",
         1515.05,
         -4.7,
         "-0.31%",
         "2023-10-19T09:49:45.892+0000",
         "2023-10-19",
         "09:49:45"
        ],
        [
         "Axis Bank Limited",
         "AXISBANK.NS",
         991.05,
         -1.8,
         "-0.18%",
         "2023-10-19T09:51:04.755+0000",
         "2023-10-19",
         "09:51:04"
        ],
        [
         "State Bank of India",
         "SBIN.NS",
         571.1,
         -1.55,
         "-0.27%",
         "2023-10-19T09:52:03.808+0000",
         "2023-10-19",
         "09:52:03"
        ],
        [
         "Britannia Industries Limited",
         "BRITANNIA.NS",
         4609.15,
         1.45,
         "+0.03%",
         "2023-10-19T09:54:04.864+0000",
         "2023-10-19",
         "09:54:04"
        ],
        [
         "Reliance Industries Limited",
         "RELIANCE.NS",
         2303.35,
         -20.65,
         "-0.89%",
         "2023-10-19T09:53:02.564+0000",
         "2023-10-19",
         "09:53:02"
        ],
        [
         "Kotak Mahindra Bank Limited",
         "KOTAKBANK.NS",
         1739.9,
         -13.5,
         "-0.77%",
         "2023-10-19T09:55:24.584+0000",
         "2023-10-19",
         "09:55:24"
        ],
        [
         "Bajaj Finance Limited",
         "BAJFINANCE.NS",
         7824.9,
         -41.65,
         "-0.53%",
         "2023-10-19T09:53:48.680+0000",
         "2023-10-19",
         "09:53:48"
        ],
        [
         "HDFC Bank Limited",
         "HDFCBANK.NS",
         1513.45,
         -6.3,
         "-0.41%",
         "2023-10-19T09:52:17.673+0000",
         "2023-10-19",
         "09:52:17"
        ],
        [
         "HDFC Bank Limited",
         "HDFCBANK.NS",
         1513.8,
         -5.95,
         "-0.39%",
         "2023-10-19T09:55:06.862+0000",
         "2023-10-19",
         "09:55:06"
        ],
        [
         "Kotak Mahindra Bank Limited",
         "KOTAKBANK.NS",
         1740.1,
         -13.3,
         "-0.76%",
         "2023-10-19T09:52:32.668+0000",
         "2023-10-19",
         "09:52:32"
        ],
        [
         "ICICI Bank Limited",
         "ICICIBANK.NS",
         934.6,
         -9.15,
         "-0.97%",
         "2023-10-19T09:52:46.812+0000",
         "2023-10-19",
         "09:52:46"
        ],
        [
         "Tata Consultancy Services Limited",
         "TCS.NS",
         3454.1,
         -33.15,
         "-0.95%",
         "2023-10-19T09:53:18.288+0000",
         "2023-10-19",
         "09:53:18"
        ],
        [
         "Axis Bank Limited",
         "AXISBANK.NS",
         991.15,
         -1.7,
         "-0.17%",
         "2023-10-19T09:53:33.836+0000",
         "2023-10-19",
         "09:53:33"
        ],
        [
         "Asian Paints Limited",
         "ASIANPAINT.NS",
         3100.45,
         4.0,
         "+0.13%",
         "2023-10-19T09:54:25.887+0000",
         "2023-10-19",
         "09:54:25"
        ],
        [
         "State Bank of India",
         "SBIN.NS",
         571.0,
         -1.65,
         "-0.29%",
         "2023-10-19T09:54:43.547+0000",
         "2023-10-19",
         "09:54:43"
        ],
        [
         "Britannia Industries Limited",
         "BRITANNIA.NS",
         4607.25,
         -0.45,
         "-0.01%",
         "2023-10-19T09:56:56.549+0000",
         "2023-10-19",
         "09:56:56"
        ],
        [
         "Tata Consultancy Services Limited",
         "TCS.NS",
         3452.75,
         -34.5,
         "-0.99%",
         "2023-10-19T09:56:15.356+0000",
         "2023-10-19",
         "09:56:15"
        ],
        [
         "Reliance Industries Limited",
         "RELIANCE.NS",
         2303.4,
         -20.6,
         "-0.89%",
         "2023-10-19T09:56:00.191+0000",
         "2023-10-19",
         "09:56:00"
        ],
        [
         "Bajaj Finance Limited",
         "BAJFINANCE.NS",
         7820.8,
         -45.75,
         "-0.58%",
         "2023-10-19T09:56:42.679+0000",
         "2023-10-19",
         "09:56:42"
        ],
        [
         "Asian Paints Limited",
         "ASIANPAINT.NS",
         3099.25,
         2.8,
         "+0.09%",
         "2023-10-19T09:57:10.572+0000",
         "2023-10-19",
         "09:57:10"
        ],
        [
         "ICICI Bank Limited",
         "ICICIBANK.NS",
         934.85,
         -8.9,
         "-0.94%",
         "2023-10-19T09:55:43.349+0000",
         "2023-10-19",
         "09:55:43"
        ],
        [
         "Axis Bank Limited",
         "AXISBANK.NS",
         990.95,
         -1.9,
         "-0.19%",
         "2023-10-19T09:56:29.364+0000",
         "2023-10-19",
         "09:56:29"
        ],
        [
         "State Bank of India",
         "SBIN.NS",
         571.2,
         -1.45,
         "-0.25%",
         "2023-10-19T09:57:25.437+0000",
         "2023-10-19",
         "09:57:25"
        ],
        [
         "HDFC Bank Limited",
         "HDFCBANK.NS",
         1514.3,
         -5.45,
         "-0.36%",
         "2023-10-19T09:57:40.181+0000",
         "2023-10-19",
         "09:57:40"
        ],
        [
         "Kotak Mahindra Bank Limited",
         "KOTAKBANK.NS",
         1737.0,
         -16.4,
         "-0.94%",
         "2023-10-19T09:57:56.871+0000",
         "2023-10-19",
         "09:57:56"
        ],
        [
         "Tata Consultancy Services Limited",
         "TCS.NS",
         3453.9,
         -33.35,
         "-0.96%",
         "2023-10-19T09:58:44.484+0000",
         "2023-10-19",
         "09:58:44"
        ],
        [
         "Reliance Industries Limited",
         "RELIANCE.NS",
         2302.0,
         -22.0,
         "-0.95%",
         "2023-10-19T09:58:27.585+0000",
         "2023-10-19",
         "09:58:27"
        ],
        [
         "ICICI Bank Limited",
         "ICICIBANK.NS",
         934.85,
         -8.9,
         "-0.94%",
         "2023-10-19T09:58:10.597+0000",
         "2023-10-19",
         "09:58:10"
        ],
        [
         "Axis Bank Limited",
         "AXISBANK.NS",
         990.95,
         -1.9,
         "-0.19%",
         "2023-10-19T09:58:59.622+0000",
         "2023-10-19",
         "09:58:59"
        ],
        [
         "Kotak Mahindra Bank Limited",
         "KOTAKBANK.NS",
         1738.65,
         -14.75,
         "-0.84%",
         "2023-10-19T10:00:24.682+0000",
         "2023-10-19",
         "10:00:24"
        ],
        [
         "Reliance Industries Limited",
         "RELIANCE.NS",
         2304.65,
         -19.35,
         "-0.83%",
         "2023-10-19T10:00:53.092+0000",
         "2023-10-19",
         "10:00:53"
        ],
        [
         "ICICI Bank Limited",
         "ICICIBANK.NS",
         934.85,
         -8.9,
         "-0.94%",
         "2023-10-19T10:00:38.547+0000",
         "2023-10-19",
         "10:00:38"
        ],
        [
         "State Bank of India",
         "SBIN.NS",
         571.3,
         -1.35,
         "-0.24%",
         "2023-10-19T09:59:55.450+0000",
         "2023-10-19",
         "09:59:55"
        ],
        [
         "Britannia Industries Limited",
         "BRITANNIA.NS",
         4607.0,
         -0.7,
         "-0.02%",
         "2023-10-19T09:59:29.656+0000",
         "2023-10-19",
         "09:59:29"
        ],
        [
         "Asian Paints Limited",
         "ASIANPAINT.NS",
         3101.0,
         4.55,
         "+0.15%",
         "2023-10-19T09:59:42.876+0000",
         "2023-10-19",
         "09:59:42"
        ],
        [
         "Bajaj Finance Limited",
         "BAJFINANCE.NS",
         7818.1,
         -48.45,
         "-0.62%",
         "2023-10-19T09:59:15.227+0000",
         "2023-10-19",
         "09:59:15"
        ],
        [
         "HDFC Bank Limited",
         "HDFCBANK.NS",
         1514.5,
         -5.25,
         "-0.35%",
         "2023-10-19T10:00:08.871+0000",
         "2023-10-19",
         "10:00:08"
        ],
        [
         "Tata Consultancy Services Limited",
         "TCS.NS",
         3454.8,
         -32.45,
         "-0.93%",
         "2023-10-19T10:01:07.671+0000",
         "2023-10-19",
         "10:01:07"
        ],
        [
         "Britannia Industries Limited",
         "BRITANNIA.NS",
         4608.0,
         0.3,
         "+0.01%",
         "2023-10-19T10:01:54.460+0000",
         "2023-10-19",
         "10:01:54"
        ],
        [
         "Bajaj Finance Limited",
         "BAJFINANCE.NS",
         7822.4,
         -44.15,
         "-0.56%",
         "2023-10-19T10:01:37.076+0000",
         "2023-10-19",
         "10:01:37"
        ],
        [
         "Axis Bank Limited",
         "AXISBANK.NS",
         993.15,
         0.3,
         "+0.03%",
         "2023-10-19T10:01:23.241+0000",
         "2023-10-19",
         "10:01:23"
        ],
        [
         "Asian Paints Limited",
         "ASIANPAINT.NS",
         3101.0,
         4.55,
         "+0.15%",
         "2023-10-19T10:02:10.354+0000",
         "2023-10-19",
         "10:02:10"
        ],
        [
         "State Bank of India",
         "SBIN.NS",
         571.2,
         -1.45,
         "-0.25%",
         "2023-10-19T10:02:25.584+0000",
         "2023-10-19",
         "10:02:25"
        ],
        [
         "HDFC Bank Limited",
         "HDFCBANK.NS",
         1514.95,
         -4.8,
         "-0.32%",
         "2023-10-19T10:02:41.738+0000",
         "2023-10-19",
         "10:02:41"
        ],
        [
         "Kotak Mahindra Bank Limited",
         "KOTAKBANK.NS",
         1738.45,
         -14.95,
         "-0.85%",
         "2023-10-19T10:02:58.378+0000",
         "2023-10-19",
         "10:02:58"
        ],
        [
         "Tata Consultancy Services Limited",
         "TCS.NS",
         3455.65,
         -31.6,
         "-0.91%",
         "2023-10-19T10:03:45.011+0000",
         "2023-10-19",
         "10:03:45"
        ],
        [
         "Reliance Industries Limited",
         "RELIANCE.NS",
         2306.15,
         -17.85,
         "-0.77%",
         "2023-10-19T10:03:28.699+0000",
         "2023-10-19",
         "10:03:28"
        ],
        [
         "ICICI Bank Limited",
         "ICICIBANK.NS",
         935.75,
         -8.0,
         "-0.85%",
         "2023-10-19T10:03:13.288+0000",
         "2023-10-19",
         "10:03:13"
        ],
        [
         "Bajaj Finance Limited",
         "BAJFINANCE.NS",
         7841.55,
         -25.0,
         "-0.32%",
         "2023-10-19T10:04:20.436+0000",
         "2023-10-19",
         "10:04:20"
        ],
        [
         "Axis Bank Limited",
         "AXISBANK.NS",
         991.4,
         -1.45,
         "-0.15%",
         "2023-10-19T10:04:01.223+0000",
         "2023-10-19",
         "10:04:01"
        ],
        [
         "HDFC Bank Limited",
         "HDFCBANK.NS",
         1514.95,
         -4.8,
         "-0.32%",
         "2023-10-19T10:05:24.662+0000",
         "2023-10-19",
         "10:05:24"
        ],
        [
         "Britannia Industries Limited",
         "BRITANNIA.NS",
         4602.45,
         -5.25,
         "-0.11%",
         "2023-10-19T10:04:37.088+0000",
         "2023-10-19",
         "10:04:37"
        ],
        [
         "Asian Paints Limited",
         "ASIANPAINT.NS",
         3101.8,
         5.35,
         "+0.17%",
         "2023-10-19T10:04:56.263+0000",
         "2023-10-19",
         "10:04:56"
        ],
        [
         "State Bank of India",
         "SBIN.NS",
         571.2,
         -1.45,
         "-0.25%",
         "2023-10-19T10:05:11.000+0000",
         "2023-10-19",
         "10:05:11"
        ],
        [
         "Kotak Mahindra Bank Limited",
         "KOTAKBANK.NS",
         1738.45,
         -14.95,
         "-0.85%",
         "2023-10-19T10:05:41.882+0000",
         "2023-10-19",
         "10:05:41"
        ],
        [
         "Reliance Industries Limited",
         "RELIANCE.NS",
         2306.15,
         -17.85,
         "-0.77%",
         "2023-10-19T10:06:14.857+0000",
         "2023-10-19",
         "10:06:14"
        ],
        [
         "ICICI Bank Limited",
         "ICICIBANK.NS",
         935.75,
         -8.0,
         "-0.85%",
         "2023-10-19T10:05:58.442+0000",
         "2023-10-19",
         "10:05:58"
        ],
        [
         "Tata Consultancy Services Limited",
         "TCS.NS",
         3455.65,
         -31.6,
         "-0.91%",
         "2023-10-19T10:06:31.885+0000",
         "2023-10-19",
         "10:06:31"
        ],
        [
         "Axis Bank Limited",
         "AXISBANK.NS",
         991.4,
         -1.45,
         "-0.15%",
         "2023-10-19T10:06:50.158+0000",
         "2023-10-19",
         "10:06:50"
        ],
        [
         "Britannia Industries Limited",
         "BRITANNIA.NS",
         4602.45,
         -5.25,
         "-0.11%",
         "2023-10-19T10:07:22.855+0000",
         "2023-10-19",
         "10:07:22"
        ],
        [
         "Bajaj Finance Limited",
         "BAJFINANCE.NS",
         7841.55,
         -25.0,
         "-0.32%",
         "2023-10-19T10:07:06.387+0000",
         "2023-10-19",
         "10:07:06"
        ],
        [
         "Kotak Mahindra Bank Limited",
         "KOTAKBANK.NS",
         1738.45,
         -14.95,
         "-0.85%",
         "2023-10-19T10:08:29.588+0000",
         "2023-10-19",
         "10:08:29"
        ],
        [
         "Asian Paints Limited",
         "ASIANPAINT.NS",
         3101.8,
         5.35,
         "+0.17%",
         "2023-10-19T10:07:37.904+0000",
         "2023-10-19",
         "10:07:37"
        ],
        [
         "ICICI Bank Limited",
         "ICICIBANK.NS",
         935.75,
         -8.0,
         "-0.85%",
         "2023-10-19T10:08:51.931+0000",
         "2023-10-19",
         "10:08:51"
        ],
        [
         "HDFC Bank Limited",
         "HDFCBANK.NS",
         1514.95,
         -4.8,
         "-0.32%",
         "2023-10-19T10:08:10.999+0000",
         "2023-10-19",
         "10:08:10"
        ],
        [
         "State Bank of India",
         "SBIN.NS",
         571.2,
         -1.45,
         "-0.25%",
         "2023-10-19T10:07:54.766+0000",
         "2023-10-19",
         "10:07:54"
        ],
        [
         "Tata Consultancy Services Limited",
         "TCS.NS",
         3455.65,
         -31.6,
         "-0.91%",
         "2023-10-19T10:09:25.094+0000",
         "2023-10-19",
         "10:09:25"
        ],
        [
         "Reliance Industries Limited",
         "RELIANCE.NS",
         2306.15,
         -17.85,
         "-0.77%",
         "2023-10-19T10:09:08.456+0000",
         "2023-10-19",
         "10:09:08"
        ],
        [
         "Bajaj Finance Limited",
         "BAJFINANCE.NS",
         7841.55,
         -25.0,
         "-0.32%",
         "2023-10-19T10:09:56.388+0000",
         "2023-10-19",
         "10:09:56"
        ],
        [
         "Axis Bank Limited",
         "AXISBANK.NS",
         991.4,
         -1.45,
         "-0.15%",
         "2023-10-19T10:09:40.679+0000",
         "2023-10-19",
         "10:09:40"
        ],
        [
         "Britannia Industries Limited",
         "BRITANNIA.NS",
         4602.45,
         -5.25,
         "-0.11%",
         "2023-10-19T10:10:12.035+0000",
         "2023-10-19",
         "10:10:12"
        ],
        [
         "Asian Paints Limited",
         "ASIANPAINT.NS",
         3101.8,
         5.35,
         "+0.17%",
         "2023-10-19T10:10:28.664+0000",
         "2023-10-19",
         "10:10:28"
        ]
       ],
       "datasetInfos": [],
       "dbfsResultPath": null,
       "isJsonSchema": true,
       "metadata": {},
       "overflow": false,
       "plotOptions": {
        "customPlotOptions": {},
        "displayType": "table",
        "pivotAggregation": null,
        "pivotColumns": null,
        "xColumns": null,
        "yColumns": null
       },
       "removedWidgets": [],
       "schema": [
        {
         "metadata": "{}",
         "name": "Company_Name",
         "type": "\"string\""
        },
        {
         "metadata": "{}",
         "name": "Symbol",
         "type": "\"string\""
        },
        {
         "metadata": "{}",
         "name": "Indian_Market_Price",
         "type": "\"float\""
        },
        {
         "metadata": "{}",
         "name": "Market_Price_Change",
         "type": "\"float\""
        },
        {
         "metadata": "{}",
         "name": "Market_ChangePercent",
         "type": "\"string\""
        },
        {
         "metadata": "{}",
         "name": "confluent_timestamp",
         "type": "\"timestamp\""
        },
        {
         "metadata": "{}",
         "name": "Date",
         "type": "\"string\""
        },
        {
         "metadata": "{}",
         "name": "Time",
         "type": "\"string\""
        }
       ],
       "type": "table"
      }
     },
     "output_type": "display_data"
    }
   ],
   "source": [
    "globaldf=spark.sql(\"select * from global_temp.gblsilver_india\")\n",
    "display(globaldf)"
   ]
  },
  {
   "cell_type": "code",
   "execution_count": 0,
   "metadata": {
    "application/vnd.databricks.v1+cell": {
     "cellMetadata": {
      "byteLimit": 2048000,
      "rowLimit": 10000
     },
     "inputWidgets": {},
     "nuid": "6bca0531-dbfa-46cb-8056-239dbfe808a8",
     "showTitle": false,
     "title": ""
    }
   },
   "outputs": [
    {
     "output_type": "display_data",
     "data": {
      "text/html": [
       "<style scoped>\n",
       "  .table-result-container {\n",
       "    max-height: 300px;\n",
       "    overflow: auto;\n",
       "  }\n",
       "  table, th, td {\n",
       "    border: 1px solid black;\n",
       "    border-collapse: collapse;\n",
       "  }\n",
       "  th, td {\n",
       "    padding: 5px;\n",
       "  }\n",
       "  th {\n",
       "    text-align: left;\n",
       "  }\n",
       "</style><div class='table-result-container'><table class='table-result'><thead style='background-color: white'><tr><th>Symbol</th><th>window</th><th>max_price</th></tr></thead><tbody><tr><td>ASIANPAINT.NS</td><td>List(2023-10-19T09:43:00.000+0000, 2023-10-19T09:44:00.000+0000)</td><td>3102.55</td></tr><tr><td>BRITANNIA.NS</td><td>List(2023-10-19T10:10:00.000+0000, 2023-10-19T10:11:00.000+0000)</td><td>4602.45</td></tr><tr><td>HDFCBANK.NS</td><td>List(2023-10-19T09:22:00.000+0000, 2023-10-19T09:23:00.000+0000)</td><td>1517.6</td></tr><tr><td>KOTAKBANK.NS</td><td>List(2023-10-19T09:44:00.000+0000, 2023-10-19T09:45:00.000+0000)</td><td>1737.75</td></tr><tr><td>BAJFINANCE.NS</td><td>List(2023-10-19T09:29:00.000+0000, 2023-10-19T09:30:00.000+0000)</td><td>7872.05</td></tr><tr><td>SBIN.NS</td><td>List(2023-10-19T09:59:00.000+0000, 2023-10-19T10:00:00.000+0000)</td><td>571.3</td></tr><tr><td>ICICIBANK.NS</td><td>List(2023-10-19T09:39:00.000+0000, 2023-10-19T09:40:00.000+0000)</td><td>935.55</td></tr><tr><td>RELIANCE.NS</td><td>List(2023-10-19T10:03:00.000+0000, 2023-10-19T10:04:00.000+0000)</td><td>2306.15</td></tr><tr><td>HDFCBANK.NS</td><td>List(2023-10-19T09:36:00.000+0000, 2023-10-19T09:37:00.000+0000)</td><td>1516.25</td></tr><tr><td>KOTAKBANK.NS</td><td>List(2023-10-19T09:50:00.000+0000, 2023-10-19T09:51:00.000+0000)</td><td>1737.9</td></tr><tr><td>ASIANPAINT.NS</td><td>List(2023-10-19T09:51:00.000+0000, 2023-10-19T09:52:00.000+0000)</td><td>3101.7</td></tr><tr><td>BRITANNIA.NS</td><td>List(2023-10-19T09:59:00.000+0000, 2023-10-19T10:00:00.000+0000)</td><td>4607.0</td></tr><tr><td>ASIANPAINT.NS</td><td>List(2023-10-19T09:33:00.000+0000, 2023-10-19T09:34:00.000+0000)</td><td>3102.85</td></tr><tr><td>AXISBANK.NS</td><td>List(2023-10-19T09:37:00.000+0000, 2023-10-19T09:38:00.000+0000)</td><td>992.1</td></tr><tr><td>SBIN.NS</td><td>List(2023-10-19T09:46:00.000+0000, 2023-10-19T09:47:00.000+0000)</td><td>571.15</td></tr><tr><td>AXISBANK.NS</td><td>List(2023-10-19T09:18:00.000+0000, 2023-10-19T09:19:00.000+0000)</td><td>992.05</td></tr><tr><td>ICICIBANK.NS</td><td>List(2023-10-19T10:00:00.000+0000, 2023-10-19T10:01:00.000+0000)</td><td>934.85</td></tr><tr><td>BRITANNIA.NS</td><td>List(2023-10-19T09:35:00.000+0000, 2023-10-19T09:36:00.000+0000)</td><td>4598.45</td></tr><tr><td>ICICIBANK.NS</td><td>List(2023-10-19T10:03:00.000+0000, 2023-10-19T10:04:00.000+0000)</td><td>935.75</td></tr><tr><td>BAJFINANCE.NS</td><td>List(2023-10-19T10:09:00.000+0000, 2023-10-19T10:10:00.000+0000)</td><td>7841.55</td></tr><tr><td>ICICIBANK.NS</td><td>List(2023-10-19T09:44:00.000+0000, 2023-10-19T09:45:00.000+0000)</td><td>935.05</td></tr><tr><td>HDFCBANK.NS</td><td>List(2023-10-19T10:08:00.000+0000, 2023-10-19T10:09:00.000+0000)</td><td>1514.95</td></tr><tr><td>BRITANNIA.NS</td><td>List(2023-10-19T09:21:00.000+0000, 2023-10-19T09:22:00.000+0000)</td><td>4600.95</td></tr><tr><td>BAJFINANCE.NS</td><td>List(2023-10-19T09:26:00.000+0000, 2023-10-19T09:27:00.000+0000)</td><td>7870.4</td></tr><tr><td>ASIANPAINT.NS</td><td>List(2023-10-19T09:19:00.000+0000, 2023-10-19T09:20:00.000+0000)</td><td>3103.0</td></tr><tr><td>AXISBANK.NS</td><td>List(2023-10-19T09:53:00.000+0000, 2023-10-19T09:54:00.000+0000)</td><td>991.15</td></tr><tr><td>TCS.NS</td><td>List(2023-10-19T09:26:00.000+0000, 2023-10-19T09:27:00.000+0000)</td><td>3459.95</td></tr><tr><td>HDFCBANK.NS</td><td>List(2023-10-19T10:02:00.000+0000, 2023-10-19T10:03:00.000+0000)</td><td>1514.95</td></tr><tr><td>ICICIBANK.NS</td><td>List(2023-10-19T09:20:00.000+0000, 2023-10-19T09:21:00.000+0000)</td><td>939.05</td></tr><tr><td>RELIANCE.NS</td><td>List(2023-10-19T10:09:00.000+0000, 2023-10-19T10:10:00.000+0000)</td><td>2306.15</td></tr><tr><td>HDFCBANK.NS</td><td>List(2023-10-19T09:16:00.000+0000, 2023-10-19T09:17:00.000+0000)</td><td>1518.7</td></tr><tr><td>HDFCBANK.NS</td><td>List(2023-10-19T09:28:00.000+0000, 2023-10-19T09:29:00.000+0000)</td><td>1516.0</td></tr><tr><td>ASIANPAINT.NS</td><td>List(2023-10-19T10:02:00.000+0000, 2023-10-19T10:03:00.000+0000)</td><td>3101.0</td></tr><tr><td>TCS.NS</td><td>List(2023-10-19T09:31:00.000+0000, 2023-10-19T09:32:00.000+0000)</td><td>3460.15</td></tr><tr><td>SBIN.NS</td><td>List(2023-10-19T10:07:00.000+0000, 2023-10-19T10:08:00.000+0000)</td><td>571.2</td></tr><tr><td>ASIANPAINT.NS</td><td>List(2023-10-19T09:40:00.000+0000, 2023-10-19T09:41:00.000+0000)</td><td>3101.7</td></tr><tr><td>SBIN.NS</td><td>List(2023-10-19T09:54:00.000+0000, 2023-10-19T09:55:00.000+0000)</td><td>571.0</td></tr><tr><td>RELIANCE.NS</td><td>List(2023-10-19T09:53:00.000+0000, 2023-10-19T09:54:00.000+0000)</td><td>2303.35</td></tr><tr><td>TCS.NS</td><td>List(2023-10-19T09:53:00.000+0000, 2023-10-19T09:54:00.000+0000)</td><td>3454.1</td></tr><tr><td>HDFCBANK.NS</td><td>List(2023-10-19T09:25:00.000+0000, 2023-10-19T09:26:00.000+0000)</td><td>1516.8</td></tr><tr><td>HDFCBANK.NS</td><td>List(2023-10-19T09:33:00.000+0000, 2023-10-19T09:34:00.000+0000)</td><td>1516.15</td></tr><tr><td>HDFCBANK.NS</td><td>List(2023-10-19T09:38:00.000+0000, 2023-10-19T09:39:00.000+0000)</td><td>1515.2</td></tr><tr><td>SBIN.NS</td><td>List(2023-10-19T10:02:00.000+0000, 2023-10-19T10:03:00.000+0000)</td><td>571.2</td></tr><tr><td>TCS.NS</td><td>List(2023-10-19T09:23:00.000+0000, 2023-10-19T09:24:00.000+0000)</td><td>3460.65</td></tr><tr><td>RELIANCE.NS</td><td>List(2023-10-19T09:56:00.000+0000, 2023-10-19T09:57:00.000+0000)</td><td>2303.4</td></tr><tr><td>BRITANNIA.NS</td><td>List(2023-10-19T09:32:00.000+0000, 2023-10-19T09:33:00.000+0000)</td><td>4602.7</td></tr><tr><td>ASIANPAINT.NS</td><td>List(2023-10-19T09:38:00.000+0000, 2023-10-19T09:39:00.000+0000)</td><td>3103.0</td></tr><tr><td>BRITANNIA.NS</td><td>List(2023-10-19T10:04:00.000+0000, 2023-10-19T10:05:00.000+0000)</td><td>4602.45</td></tr><tr><td>SBIN.NS</td><td>List(2023-10-19T10:05:00.000+0000, 2023-10-19T10:06:00.000+0000)</td><td>571.2</td></tr><tr><td>HDFCBANK.NS</td><td>List(2023-10-19T09:55:00.000+0000, 2023-10-19T09:56:00.000+0000)</td><td>1513.8</td></tr><tr><td>BAJFINANCE.NS</td><td>List(2023-10-19T09:35:00.000+0000, 2023-10-19T09:36:00.000+0000)</td><td>7854.6</td></tr><tr><td>SBIN.NS</td><td>List(2023-10-19T09:35:00.000+0000, 2023-10-19T09:36:00.000+0000)</td><td>572.05</td></tr><tr><td>BAJFINANCE.NS</td><td>List(2023-10-19T10:07:00.000+0000, 2023-10-19T10:08:00.000+0000)</td><td>7841.55</td></tr><tr><td>BAJFINANCE.NS</td><td>List(2023-10-19T09:42:00.000+0000, 2023-10-19T09:43:00.000+0000)</td><td>7840.85</td></tr><tr><td>AXISBANK.NS</td><td>List(2023-10-19T10:09:00.000+0000, 2023-10-19T10:10:00.000+0000)</td><td>991.4</td></tr><tr><td>ICICIBANK.NS</td><td>List(2023-10-19T09:36:00.000+0000, 2023-10-19T09:37:00.000+0000)</td><td>937.85</td></tr><tr><td>HDFCBANK.NS</td><td>List(2023-10-19T09:43:00.000+0000, 2023-10-19T09:44:00.000+0000)</td><td>1515.0</td></tr><tr><td>TCS.NS</td><td>List(2023-10-19T09:20:00.000+0000, 2023-10-19T09:21:00.000+0000)</td><td>3459.0</td></tr><tr><td>KOTAKBANK.NS</td><td>List(2023-10-19T09:28:00.000+0000, 2023-10-19T09:29:00.000+0000)</td><td>1739.3</td></tr><tr><td>SBIN.NS</td><td>List(2023-10-19T09:22:00.000+0000, 2023-10-19T09:23:00.000+0000)</td><td>570.85</td></tr><tr><td>SBIN.NS</td><td>List(2023-10-19T09:16:00.000+0000, 2023-10-19T09:17:00.000+0000)</td><td>571.05</td></tr><tr><td>SBIN.NS</td><td>List(2023-10-19T09:27:00.000+0000, 2023-10-19T09:28:00.000+0000)</td><td>571.1</td></tr><tr><td>HDFCBANK.NS</td><td>List(2023-10-19T09:30:00.000+0000, 2023-10-19T09:31:00.000+0000)</td><td>1515.05</td></tr><tr><td>KOTAKBANK.NS</td><td>List(2023-10-19T09:31:00.000+0000, 2023-10-19T09:32:00.000+0000)</td><td>1738.0</td></tr><tr><td>BAJFINANCE.NS</td><td>List(2023-10-19T09:18:00.000+0000, 2023-10-19T09:19:00.000+0000)</td><td>7866.75</td></tr><tr><td>ICICIBANK.NS</td><td>List(2023-10-19T09:25:00.000+0000, 2023-10-19T09:26:00.000+0000)</td><td>938.8</td></tr><tr><td>BAJFINANCE.NS</td><td>List(2023-10-19T09:48:00.000+0000, 2023-10-19T09:49:00.000+0000)</td><td>7829.5</td></tr><tr><td>BAJFINANCE.NS</td><td>List(2023-10-19T10:04:00.000+0000, 2023-10-19T10:05:00.000+0000)</td><td>7841.55</td></tr><tr><td>BRITANNIA.NS</td><td>List(2023-10-19T09:45:00.000+0000, 2023-10-19T09:46:00.000+0000)</td><td>4599.35</td></tr><tr><td>TCS.NS</td><td>List(2023-10-19T10:01:00.000+0000, 2023-10-19T10:02:00.000+0000)</td><td>3454.8</td></tr><tr><td>ASIANPAINT.NS</td><td>List(2023-10-19T09:59:00.000+0000, 2023-10-19T10:00:00.000+0000)</td><td>3101.0</td></tr><tr><td>HDFCBANK.NS</td><td>List(2023-10-19T09:52:00.000+0000, 2023-10-19T09:53:00.000+0000)</td><td>1513.45</td></tr><tr><td>BRITANNIA.NS</td><td>List(2023-10-19T09:51:00.000+0000, 2023-10-19T09:52:00.000+0000)</td><td>4603.1</td></tr><tr><td>TCS.NS</td><td>List(2023-10-19T09:34:00.000+0000, 2023-10-19T09:35:00.000+0000)</td><td>3458.0</td></tr><tr><td>RELIANCE.NS</td><td>List(2023-10-19T09:50:00.000+0000, 2023-10-19T09:51:00.000+0000)</td><td>2305.05</td></tr><tr><td>BRITANNIA.NS</td><td>List(2023-10-19T09:48:00.000+0000, 2023-10-19T09:49:00.000+0000)</td><td>4603.85</td></tr><tr><td>BRITANNIA.NS</td><td>List(2023-10-19T09:24:00.000+0000, 2023-10-19T09:25:00.000+0000)</td><td>4601.1</td></tr><tr><td>RELIANCE.NS</td><td>List(2023-10-19T09:17:00.000+0000, 2023-10-19T09:18:00.000+0000)</td><td>2308.7</td></tr><tr><td>AXISBANK.NS</td><td>List(2023-10-19T09:34:00.000+0000, 2023-10-19T09:35:00.000+0000)</td><td>991.4</td></tr><tr><td>ICICIBANK.NS</td><td>List(2023-10-19T09:58:00.000+0000, 2023-10-19T09:59:00.000+0000)</td><td>934.85</td></tr><tr><td>HDFCBANK.NS</td><td>List(2023-10-19T09:19:00.000+0000, 2023-10-19T09:20:00.000+0000)</td><td>1517.7</td></tr><tr><td>TCS.NS</td><td>List(2023-10-19T09:39:00.000+0000, 2023-10-19T09:40:00.000+0000)</td><td>3456.8</td></tr><tr><td>TCS.NS</td><td>List(2023-10-19T09:18:00.000+0000, 2023-10-19T09:19:00.000+0000)</td><td>3458.05</td></tr><tr><td>SBIN.NS</td><td>List(2023-10-19T09:52:00.000+0000, 2023-10-19T09:53:00.000+0000)</td><td>571.1</td></tr><tr><td>KOTAKBANK.NS</td><td>List(2023-10-19T09:46:00.000+0000, 2023-10-19T09:47:00.000+0000)</td><td>1736.35</td></tr><tr><td>ICICIBANK.NS</td><td>List(2023-10-19T09:31:00.000+0000, 2023-10-19T09:32:00.000+0000)</td><td>938.2</td></tr><tr><td>HDFCBANK.NS</td><td>List(2023-10-19T10:05:00.000+0000, 2023-10-19T10:06:00.000+0000)</td><td>1514.95</td></tr><tr><td>RELIANCE.NS</td><td>List(2023-10-19T09:20:00.000+0000, 2023-10-19T09:21:00.000+0000)</td><td>2308.05</td></tr><tr><td>BAJFINANCE.NS</td><td>List(2023-10-19T09:32:00.000+0000, 2023-10-19T09:33:00.000+0000)</td><td>7865.25</td></tr><tr><td>RELIANCE.NS</td><td>List(2023-10-19T09:39:00.000+0000, 2023-10-19T09:40:00.000+0000)</td><td>2309.0</td></tr><tr><td>AXISBANK.NS</td><td>List(2023-10-19T09:58:00.000+0000, 2023-10-19T09:59:00.000+0000)</td><td>990.95</td></tr><tr><td>AXISBANK.NS</td><td>List(2023-10-19T09:26:00.000+0000, 2023-10-19T09:27:00.000+0000)</td><td>991.85</td></tr><tr><td>KOTAKBANK.NS</td><td>List(2023-10-19T10:05:00.000+0000, 2023-10-19T10:06:00.000+0000)</td><td>1738.45</td></tr><tr><td>AXISBANK.NS</td><td>List(2023-10-19T09:51:00.000+0000, 2023-10-19T09:52:00.000+0000)</td><td>991.05</td></tr><tr><td>ICICIBANK.NS</td><td>List(2023-10-19T09:50:00.000+0000, 2023-10-19T09:51:00.000+0000)</td><td>934.9</td></tr><tr><td>ASIANPAINT.NS</td><td>List(2023-10-19T09:30:00.000+0000, 2023-10-19T09:31:00.000+0000)</td><td>3102.5</td></tr><tr><td>ICICIBANK.NS</td><td>List(2023-10-19T09:55:00.000+0000, 2023-10-19T09:56:00.000+0000)</td><td>934.85</td></tr><tr><td>ASIANPAINT.NS</td><td>List(2023-10-19T09:57:00.000+0000, 2023-10-19T09:58:00.000+0000)</td><td>3099.25</td></tr><tr><td>AXISBANK.NS</td><td>List(2023-10-19T10:06:00.000+0000, 2023-10-19T10:07:00.000+0000)</td><td>991.4</td></tr><tr><td>BAJFINANCE.NS</td><td>List(2023-10-19T09:56:00.000+0000, 2023-10-19T09:57:00.000+0000)</td><td>7820.8</td></tr><tr><td>BRITANNIA.NS</td><td>List(2023-10-19T10:07:00.000+0000, 2023-10-19T10:08:00.000+0000)</td><td>4602.45</td></tr><tr><td>BRITANNIA.NS</td><td>List(2023-10-19T09:56:00.000+0000, 2023-10-19T09:57:00.000+0000)</td><td>4607.25</td></tr><tr><td>RELIANCE.NS</td><td>List(2023-10-19T10:06:00.000+0000, 2023-10-19T10:07:00.000+0000)</td><td>2306.15</td></tr><tr><td>HDFCBANK.NS</td><td>List(2023-10-19T09:57:00.000+0000, 2023-10-19T09:58:00.000+0000)</td><td>1514.3</td></tr><tr><td>BAJFINANCE.NS</td><td>List(2023-10-19T10:01:00.000+0000, 2023-10-19T10:02:00.000+0000)</td><td>7822.4</td></tr><tr><td>AXISBANK.NS</td><td>List(2023-10-19T09:42:00.000+0000, 2023-10-19T09:43:00.000+0000)</td><td>991.65</td></tr><tr><td>RELIANCE.NS</td><td>List(2023-10-19T09:31:00.000+0000, 2023-10-19T09:32:00.000+0000)</td><td>2309.15</td></tr><tr><td>HDFCBANK.NS</td><td>List(2023-10-19T10:00:00.000+0000, 2023-10-19T10:01:00.000+0000)</td><td>1514.5</td></tr><tr><td>AXISBANK.NS</td><td>List(2023-10-19T09:47:00.000+0000, 2023-10-19T09:48:00.000+0000)</td><td>991.05</td></tr><tr><td>HDFCBANK.NS</td><td>List(2023-10-19T09:49:00.000+0000, 2023-10-19T09:50:00.000+0000)</td><td>1515.05</td></tr><tr><td>BAJFINANCE.NS</td><td>List(2023-10-19T09:51:00.000+0000, 2023-10-19T09:52:00.000+0000)</td><td>7829.7</td></tr><tr><td>RELIANCE.NS</td><td>List(2023-10-19T09:58:00.000+0000, 2023-10-19T09:59:00.000+0000)</td><td>2302.0</td></tr><tr><td>BAJFINANCE.NS</td><td>List(2023-10-19T09:59:00.000+0000, 2023-10-19T10:00:00.000+0000)</td><td>7818.1</td></tr><tr><td>KOTAKBANK.NS</td><td>List(2023-10-19T09:17:00.000+0000, 2023-10-19T09:18:00.000+0000)</td><td>1740.45</td></tr><tr><td>TCS.NS</td><td>List(2023-10-19T09:44:00.000+0000, 2023-10-19T09:45:00.000+0000)</td><td>3456.0</td></tr><tr><td>SBIN.NS</td><td>List(2023-10-19T09:38:00.000+0000, 2023-10-19T09:39:00.000+0000)</td><td>571.75</td></tr><tr><td>RELIANCE.NS</td><td>List(2023-10-19T09:44:00.000+0000, 2023-10-19T09:45:00.000+0000)</td><td>2305.35</td></tr><tr><td>ASIANPAINT.NS</td><td>List(2023-10-19T10:04:00.000+0000, 2023-10-19T10:05:00.000+0000)</td><td>3101.8</td></tr><tr><td>KOTAKBANK.NS</td><td>List(2023-10-19T09:52:00.000+0000, 2023-10-19T09:53:00.000+0000)</td><td>1740.1</td></tr><tr><td>AXISBANK.NS</td><td>List(2023-10-19T09:40:00.000+0000, 2023-10-19T09:41:00.000+0000)</td><td>991.8</td></tr><tr><td>BRITANNIA.NS</td><td>List(2023-10-19T09:43:00.000+0000, 2023-10-19T09:44:00.000+0000)</td><td>4600.0</td></tr><tr><td>HDFCBANK.NS</td><td>List(2023-10-19T09:46:00.000+0000, 2023-10-19T09:47:00.000+0000)</td><td>1515.2</td></tr><tr><td>ICICIBANK.NS</td><td>List(2023-10-19T09:52:00.000+0000, 2023-10-19T09:53:00.000+0000)</td><td>934.6</td></tr><tr><td>KOTAKBANK.NS</td><td>List(2023-10-19T09:20:00.000+0000, 2023-10-19T09:21:00.000+0000)</td><td>1740.05</td></tr><tr><td>AXISBANK.NS</td><td>List(2023-10-19T09:32:00.000+0000, 2023-10-19T09:33:00.000+0000)</td><td>991.4</td></tr><tr><td>AXISBANK.NS</td><td>List(2023-10-19T10:01:00.000+0000, 2023-10-19T10:02:00.000+0000)</td><td>993.15</td></tr><tr><td>BAJFINANCE.NS</td><td>List(2023-10-19T09:45:00.000+0000, 2023-10-19T09:46:00.000+0000)</td><td>7838.25</td></tr><tr><td>SBIN.NS</td><td>List(2023-10-19T09:30:00.000+0000, 2023-10-19T09:31:00.000+0000)</td><td>571.15</td></tr><tr><td>KOTAKBANK.NS</td><td>List(2023-10-19T09:57:00.000+0000, 2023-10-19T09:58:00.000+0000)</td><td>1737.0</td></tr><tr><td>BAJFINANCE.NS</td><td>List(2023-10-19T09:40:00.000+0000, 2023-10-19T09:41:00.000+0000)</td><td>7842.05</td></tr><tr><td>SBIN.NS</td><td>List(2023-10-19T09:24:00.000+0000, 2023-10-19T09:25:00.000+0000)</td><td>570.95</td></tr><tr><td>BAJFINANCE.NS</td><td>List(2023-10-19T09:21:00.000+0000, 2023-10-19T09:22:00.000+0000)</td><td>7867.55</td></tr><tr><td>TCS.NS</td><td>List(2023-10-19T09:56:00.000+0000, 2023-10-19T09:57:00.000+0000)</td><td>3452.75</td></tr><tr><td>TCS.NS</td><td>List(2023-10-19T09:29:00.000+0000, 2023-10-19T09:30:00.000+0000)</td><td>3459.4</td></tr><tr><td>RELIANCE.NS</td><td>List(2023-10-19T09:42:00.000+0000, 2023-10-19T09:43:00.000+0000)</td><td>2306.3</td></tr><tr><td>ASIANPAINT.NS</td><td>List(2023-10-19T09:45:00.000+0000, 2023-10-19T09:46:00.000+0000)</td><td>3102.05</td></tr><tr><td>ICICIBANK.NS</td><td>List(2023-10-19T09:22:00.000+0000, 2023-10-19T09:23:00.000+0000)</td><td>938.35</td></tr><tr><td>KOTAKBANK.NS</td><td>List(2023-10-19T09:33:00.000+0000, 2023-10-19T09:34:00.000+0000)</td><td>1738.2</td></tr><tr><td>ICICIBANK.NS</td><td>List(2023-10-19T10:05:00.000+0000, 2023-10-19T10:06:00.000+0000)</td><td>935.75</td></tr><tr><td>SBIN.NS</td><td>List(2023-10-19T09:41:00.000+0000, 2023-10-19T09:42:00.000+0000)</td><td>571.3</td></tr><tr><td>ICICIBANK.NS</td><td>List(2023-10-19T09:41:00.000+0000, 2023-10-19T09:42:00.000+0000)</td><td>936.1</td></tr><tr><td>HDFCBANK.NS</td><td>List(2023-10-19T09:41:00.000+0000, 2023-10-19T09:42:00.000+0000)</td><td>1515.05</td></tr><tr><td>ASIANPAINT.NS</td><td>List(2023-10-19T10:10:00.000+0000, 2023-10-19T10:11:00.000+0000)</td><td>3101.8</td></tr><tr><td>KOTAKBANK.NS</td><td>List(2023-10-19T10:02:00.000+0000, 2023-10-19T10:03:00.000+0000)</td><td>1738.45</td></tr><tr><td>SBIN.NS</td><td>List(2023-10-19T09:57:00.000+0000, 2023-10-19T09:58:00.000+0000)</td><td>571.2</td></tr><tr><td>KOTAKBANK.NS</td><td>List(2023-10-19T09:41:00.000+0000, 2023-10-19T09:42:00.000+0000)</td><td>1737.85</td></tr><tr><td>KOTAKBANK.NS</td><td>List(2023-10-19T09:38:00.000+0000, 2023-10-19T09:39:00.000+0000)</td><td>1738.8</td></tr><tr><td>BAJFINANCE.NS</td><td>List(2023-10-19T09:37:00.000+0000, 2023-10-19T09:38:00.000+0000)</td><td>7860.55</td></tr><tr><td>SBIN.NS</td><td>List(2023-10-19T09:33:00.000+0000, 2023-10-19T09:34:00.000+0000)</td><td>571.1</td></tr><tr><td>AXISBANK.NS</td><td>List(2023-10-19T09:45:00.000+0000, 2023-10-19T09:46:00.000+0000)</td><td>991.35</td></tr><tr><td>TCS.NS</td><td>List(2023-10-19T10:03:00.000+0000, 2023-10-19T10:04:00.000+0000)</td><td>3455.65</td></tr><tr><td>ICICIBANK.NS</td><td>List(2023-10-19T09:34:00.000+0000, 2023-10-19T09:35:00.000+0000)</td><td>937.9</td></tr><tr><td>SBIN.NS</td><td>List(2023-10-19T09:49:00.000+0000, 2023-10-19T09:50:00.000+0000)</td><td>571.1</td></tr><tr><td>TCS.NS</td><td>List(2023-10-19T10:06:00.000+0000, 2023-10-19T10:07:00.000+0000)</td><td>3455.65</td></tr><tr><td>KOTAKBANK.NS</td><td>List(2023-10-19T10:08:00.000+0000, 2023-10-19T10:09:00.000+0000)</td><td>1738.45</td></tr><tr><td>KOTAKBANK.NS</td><td>List(2023-10-19T09:25:00.000+0000, 2023-10-19T09:26:00.000+0000)</td><td>1739.6</td></tr><tr><td>BAJFINANCE.NS</td><td>List(2023-10-19T09:53:00.000+0000, 2023-10-19T09:54:00.000+0000)</td><td>7824.9</td></tr><tr><td>ICICIBANK.NS</td><td>List(2023-10-19T10:08:00.000+0000, 2023-10-19T10:09:00.000+0000)</td><td>935.75</td></tr><tr><td>ASIANPAINT.NS</td><td>List(2023-10-19T09:24:00.000+0000, 2023-10-19T09:25:00.000+0000)</td><td>3101.65</td></tr><tr><td>AXISBANK.NS</td><td>List(2023-10-19T10:04:00.000+0000, 2023-10-19T10:05:00.000+0000)</td><td>991.4</td></tr><tr><td>BRITANNIA.NS</td><td>List(2023-10-19T10:01:00.000+0000, 2023-10-19T10:02:00.000+0000)</td><td>4608.0</td></tr><tr><td>TCS.NS</td><td>List(2023-10-19T09:42:00.000+0000, 2023-10-19T09:43:00.000+0000)</td><td>3456.35</td></tr><tr><td>SBIN.NS</td><td>List(2023-10-19T09:43:00.000+0000, 2023-10-19T09:44:00.000+0000)</td><td>570.95</td></tr><tr><td>TCS.NS</td><td>List(2023-10-19T09:47:00.000+0000, 2023-10-19T09:48:00.000+0000)</td><td>3455.0</td></tr><tr><td>ASIANPAINT.NS</td><td>List(2023-10-19T09:49:00.000+0000, 2023-10-19T09:50:00.000+0000)</td><td>3100.8</td></tr><tr><td>TCS.NS</td><td>List(2023-10-19T09:37:00.000+0000, 2023-10-19T09:38:00.000+0000)</td><td>3457.0</td></tr><tr><td>RELIANCE.NS</td><td>List(2023-10-19T09:28:00.000+0000, 2023-10-19T09:29:00.000+0000)</td><td>2307.95</td></tr><tr><td>RELIANCE.NS</td><td>List(2023-10-19T09:47:00.000+0000, 2023-10-19T09:48:00.000+0000)</td><td>2306.85</td></tr><tr><td>KOTAKBANK.NS</td><td>List(2023-10-19T10:00:00.000+0000, 2023-10-19T10:01:00.000+0000)</td><td>1738.65</td></tr><tr><td>ASIANPAINT.NS</td><td>List(2023-10-19T09:35:00.000+0000, 2023-10-19T09:36:00.000+0000)</td><td>3102.65</td></tr><tr><td>RELIANCE.NS</td><td>List(2023-10-19T09:34:00.000+0000, 2023-10-19T09:35:00.000+0000)</td><td>2310.25</td></tr><tr><td>AXISBANK.NS</td><td>List(2023-10-19T09:29:00.000+0000, 2023-10-19T09:30:00.000+0000)</td><td>992.0</td></tr><tr><td>RELIANCE.NS</td><td>List(2023-10-19T09:25:00.000+0000, 2023-10-19T09:26:00.000+0000)</td><td>2307.55</td></tr><tr><td>KOTAKBANK.NS</td><td>List(2023-10-19T09:22:00.000+0000, 2023-10-19T09:23:00.000+0000)</td><td>1738.7</td></tr><tr><td>BRITANNIA.NS</td><td>List(2023-10-19T09:37:00.000+0000, 2023-10-19T09:38:00.000+0000)</td><td>4600.25</td></tr><tr><td>BRITANNIA.NS</td><td>List(2023-10-19T09:40:00.000+0000, 2023-10-19T09:41:00.000+0000)</td><td>4600.05</td></tr><tr><td>ICICIBANK.NS</td><td>List(2023-10-19T09:46:00.000+0000, 2023-10-19T09:47:00.000+0000)</td><td>934.75</td></tr><tr><td>AXISBANK.NS</td><td>List(2023-10-19T09:23:00.000+0000, 2023-10-19T09:24:00.000+0000)</td><td>991.4</td></tr><tr><td>BRITANNIA.NS</td><td>List(2023-10-19T09:19:00.000+0000, 2023-10-19T09:20:00.000+0000)</td><td>4604.4</td></tr><tr><td>TCS.NS</td><td>List(2023-10-19T10:09:00.000+0000, 2023-10-19T10:10:00.000+0000)</td><td>3455.65</td></tr><tr><td>BRITANNIA.NS</td><td>List(2023-10-19T09:54:00.000+0000, 2023-10-19T09:55:00.000+0000)</td><td>4609.15</td></tr><tr><td>AXISBANK.NS</td><td>List(2023-10-19T09:21:00.000+0000, 2023-10-19T09:22:00.000+0000)</td><td>991.55</td></tr><tr><td>TCS.NS</td><td>List(2023-10-19T09:58:00.000+0000, 2023-10-19T09:59:00.000+0000)</td><td>3453.9</td></tr><tr><td>BRITANNIA.NS</td><td>List(2023-10-19T09:27:00.000+0000, 2023-10-19T09:28:00.000+0000)</td><td>4603.4</td></tr><tr><td>RELIANCE.NS</td><td>List(2023-10-19T09:36:00.000+0000, 2023-10-19T09:37:00.000+0000)</td><td>2309.35</td></tr><tr><td>AXISBANK.NS</td><td>List(2023-10-19T09:56:00.000+0000, 2023-10-19T09:57:00.000+0000)</td><td>990.95</td></tr><tr><td>ASIANPAINT.NS</td><td>List(2023-10-19T09:21:00.000+0000, 2023-10-19T09:22:00.000+0000)</td><td>3101.3</td></tr><tr><td>ASIANPAINT.NS</td><td>List(2023-10-19T10:07:00.000+0000, 2023-10-19T10:08:00.000+0000)</td><td>3101.8</td></tr><tr><td>ICICIBANK.NS</td><td>List(2023-10-19T09:17:00.000+0000, 2023-10-19T09:18:00.000+0000)</td><td>939.15</td></tr><tr><td>KOTAKBANK.NS</td><td>List(2023-10-19T09:36:00.000+0000, 2023-10-19T09:37:00.000+0000)</td><td>1740.35</td></tr><tr><td>RELIANCE.NS</td><td>List(2023-10-19T09:23:00.000+0000, 2023-10-19T09:24:00.000+0000)</td><td>2305.95</td></tr><tr><td>KOTAKBANK.NS</td><td>List(2023-10-19T09:55:00.000+0000, 2023-10-19T09:56:00.000+0000)</td><td>1739.9</td></tr><tr><td>TCS.NS</td><td>List(2023-10-19T09:50:00.000+0000, 2023-10-19T09:51:00.000+0000)</td><td>3455.0</td></tr><tr><td>ICICIBANK.NS</td><td>List(2023-10-19T09:28:00.000+0000, 2023-10-19T09:29:00.000+0000)</td><td>938.35</td></tr><tr><td>ASIANPAINT.NS</td><td>List(2023-10-19T09:27:00.000+0000, 2023-10-19T09:28:00.000+0000)</td><td>3103.55</td></tr><tr><td>ASIANPAINT.NS</td><td>List(2023-10-19T09:54:00.000+0000, 2023-10-19T09:55:00.000+0000)</td><td>3100.45</td></tr><tr><td>BRITANNIA.NS</td><td>List(2023-10-19T09:30:00.000+0000, 2023-10-19T09:31:00.000+0000)</td><td>4605.0</td></tr><tr><td>RELIANCE.NS</td><td>List(2023-10-19T10:00:00.000+0000, 2023-10-19T10:01:00.000+0000)</td><td>2304.65</td></tr><tr><td>BAJFINANCE.NS</td><td>List(2023-10-19T09:23:00.000+0000, 2023-10-19T09:24:00.000+0000)</td><td>7869.5</td></tr><tr><td>SBIN.NS</td><td>List(2023-10-19T09:19:00.000+0000, 2023-10-19T09:20:00.000+0000)</td><td>570.85</td></tr></tbody></table></div>"
      ]
     },
     "metadata": {
      "application/vnd.databricks.v1+output": {
       "addedWidgets": {},
       "aggData": [],
       "aggError": "",
       "aggOverflow": false,
       "aggSchema": [],
       "aggSeriesLimitReached": false,
       "aggType": "",
       "arguments": {},
       "columnCustomDisplayInfos": {},
       "data": [
        [
         "ASIANPAINT.NS",
         [
          "2023-10-19T09:43:00.000+0000",
          "2023-10-19T09:44:00.000+0000"
         ],
         3102.55
        ],
        [
         "BRITANNIA.NS",
         [
          "2023-10-19T10:10:00.000+0000",
          "2023-10-19T10:11:00.000+0000"
         ],
         4602.45
        ],
        [
         "HDFCBANK.NS",
         [
          "2023-10-19T09:22:00.000+0000",
          "2023-10-19T09:23:00.000+0000"
         ],
         1517.6
        ],
        [
         "KOTAKBANK.NS",
         [
          "2023-10-19T09:44:00.000+0000",
          "2023-10-19T09:45:00.000+0000"
         ],
         1737.75
        ],
        [
         "BAJFINANCE.NS",
         [
          "2023-10-19T09:29:00.000+0000",
          "2023-10-19T09:30:00.000+0000"
         ],
         7872.05
        ],
        [
         "SBIN.NS",
         [
          "2023-10-19T09:59:00.000+0000",
          "2023-10-19T10:00:00.000+0000"
         ],
         571.3
        ],
        [
         "ICICIBANK.NS",
         [
          "2023-10-19T09:39:00.000+0000",
          "2023-10-19T09:40:00.000+0000"
         ],
         935.55
        ],
        [
         "RELIANCE.NS",
         [
          "2023-10-19T10:03:00.000+0000",
          "2023-10-19T10:04:00.000+0000"
         ],
         2306.15
        ],
        [
         "HDFCBANK.NS",
         [
          "2023-10-19T09:36:00.000+0000",
          "2023-10-19T09:37:00.000+0000"
         ],
         1516.25
        ],
        [
         "KOTAKBANK.NS",
         [
          "2023-10-19T09:50:00.000+0000",
          "2023-10-19T09:51:00.000+0000"
         ],
         1737.9
        ],
        [
         "ASIANPAINT.NS",
         [
          "2023-10-19T09:51:00.000+0000",
          "2023-10-19T09:52:00.000+0000"
         ],
         3101.7
        ],
        [
         "BRITANNIA.NS",
         [
          "2023-10-19T09:59:00.000+0000",
          "2023-10-19T10:00:00.000+0000"
         ],
         4607.0
        ],
        [
         "ASIANPAINT.NS",
         [
          "2023-10-19T09:33:00.000+0000",
          "2023-10-19T09:34:00.000+0000"
         ],
         3102.85
        ],
        [
         "AXISBANK.NS",
         [
          "2023-10-19T09:37:00.000+0000",
          "2023-10-19T09:38:00.000+0000"
         ],
         992.1
        ],
        [
         "SBIN.NS",
         [
          "2023-10-19T09:46:00.000+0000",
          "2023-10-19T09:47:00.000+0000"
         ],
         571.15
        ],
        [
         "AXISBANK.NS",
         [
          "2023-10-19T09:18:00.000+0000",
          "2023-10-19T09:19:00.000+0000"
         ],
         992.05
        ],
        [
         "ICICIBANK.NS",
         [
          "2023-10-19T10:00:00.000+0000",
          "2023-10-19T10:01:00.000+0000"
         ],
         934.85
        ],
        [
         "BRITANNIA.NS",
         [
          "2023-10-19T09:35:00.000+0000",
          "2023-10-19T09:36:00.000+0000"
         ],
         4598.45
        ],
        [
         "ICICIBANK.NS",
         [
          "2023-10-19T10:03:00.000+0000",
          "2023-10-19T10:04:00.000+0000"
         ],
         935.75
        ],
        [
         "BAJFINANCE.NS",
         [
          "2023-10-19T10:09:00.000+0000",
          "2023-10-19T10:10:00.000+0000"
         ],
         7841.55
        ],
        [
         "ICICIBANK.NS",
         [
          "2023-10-19T09:44:00.000+0000",
          "2023-10-19T09:45:00.000+0000"
         ],
         935.05
        ],
        [
         "HDFCBANK.NS",
         [
          "2023-10-19T10:08:00.000+0000",
          "2023-10-19T10:09:00.000+0000"
         ],
         1514.95
        ],
        [
         "BRITANNIA.NS",
         [
          "2023-10-19T09:21:00.000+0000",
          "2023-10-19T09:22:00.000+0000"
         ],
         4600.95
        ],
        [
         "BAJFINANCE.NS",
         [
          "2023-10-19T09:26:00.000+0000",
          "2023-10-19T09:27:00.000+0000"
         ],
         7870.4
        ],
        [
         "ASIANPAINT.NS",
         [
          "2023-10-19T09:19:00.000+0000",
          "2023-10-19T09:20:00.000+0000"
         ],
         3103.0
        ],
        [
         "AXISBANK.NS",
         [
          "2023-10-19T09:53:00.000+0000",
          "2023-10-19T09:54:00.000+0000"
         ],
         991.15
        ],
        [
         "TCS.NS",
         [
          "2023-10-19T09:26:00.000+0000",
          "2023-10-19T09:27:00.000+0000"
         ],
         3459.95
        ],
        [
         "HDFCBANK.NS",
         [
          "2023-10-19T10:02:00.000+0000",
          "2023-10-19T10:03:00.000+0000"
         ],
         1514.95
        ],
        [
         "ICICIBANK.NS",
         [
          "2023-10-19T09:20:00.000+0000",
          "2023-10-19T09:21:00.000+0000"
         ],
         939.05
        ],
        [
         "RELIANCE.NS",
         [
          "2023-10-19T10:09:00.000+0000",
          "2023-10-19T10:10:00.000+0000"
         ],
         2306.15
        ],
        [
         "HDFCBANK.NS",
         [
          "2023-10-19T09:16:00.000+0000",
          "2023-10-19T09:17:00.000+0000"
         ],
         1518.7
        ],
        [
         "HDFCBANK.NS",
         [
          "2023-10-19T09:28:00.000+0000",
          "2023-10-19T09:29:00.000+0000"
         ],
         1516.0
        ],
        [
         "ASIANPAINT.NS",
         [
          "2023-10-19T10:02:00.000+0000",
          "2023-10-19T10:03:00.000+0000"
         ],
         3101.0
        ],
        [
         "TCS.NS",
         [
          "2023-10-19T09:31:00.000+0000",
          "2023-10-19T09:32:00.000+0000"
         ],
         3460.15
        ],
        [
         "SBIN.NS",
         [
          "2023-10-19T10:07:00.000+0000",
          "2023-10-19T10:08:00.000+0000"
         ],
         571.2
        ],
        [
         "ASIANPAINT.NS",
         [
          "2023-10-19T09:40:00.000+0000",
          "2023-10-19T09:41:00.000+0000"
         ],
         3101.7
        ],
        [
         "SBIN.NS",
         [
          "2023-10-19T09:54:00.000+0000",
          "2023-10-19T09:55:00.000+0000"
         ],
         571.0
        ],
        [
         "RELIANCE.NS",
         [
          "2023-10-19T09:53:00.000+0000",
          "2023-10-19T09:54:00.000+0000"
         ],
         2303.35
        ],
        [
         "TCS.NS",
         [
          "2023-10-19T09:53:00.000+0000",
          "2023-10-19T09:54:00.000+0000"
         ],
         3454.1
        ],
        [
         "HDFCBANK.NS",
         [
          "2023-10-19T09:25:00.000+0000",
          "2023-10-19T09:26:00.000+0000"
         ],
         1516.8
        ],
        [
         "HDFCBANK.NS",
         [
          "2023-10-19T09:33:00.000+0000",
          "2023-10-19T09:34:00.000+0000"
         ],
         1516.15
        ],
        [
         "HDFCBANK.NS",
         [
          "2023-10-19T09:38:00.000+0000",
          "2023-10-19T09:39:00.000+0000"
         ],
         1515.2
        ],
        [
         "SBIN.NS",
         [
          "2023-10-19T10:02:00.000+0000",
          "2023-10-19T10:03:00.000+0000"
         ],
         571.2
        ],
        [
         "TCS.NS",
         [
          "2023-10-19T09:23:00.000+0000",
          "2023-10-19T09:24:00.000+0000"
         ],
         3460.65
        ],
        [
         "RELIANCE.NS",
         [
          "2023-10-19T09:56:00.000+0000",
          "2023-10-19T09:57:00.000+0000"
         ],
         2303.4
        ],
        [
         "BRITANNIA.NS",
         [
          "2023-10-19T09:32:00.000+0000",
          "2023-10-19T09:33:00.000+0000"
         ],
         4602.7
        ],
        [
         "ASIANPAINT.NS",
         [
          "2023-10-19T09:38:00.000+0000",
          "2023-10-19T09:39:00.000+0000"
         ],
         3103.0
        ],
        [
         "BRITANNIA.NS",
         [
          "2023-10-19T10:04:00.000+0000",
          "2023-10-19T10:05:00.000+0000"
         ],
         4602.45
        ],
        [
         "SBIN.NS",
         [
          "2023-10-19T10:05:00.000+0000",
          "2023-10-19T10:06:00.000+0000"
         ],
         571.2
        ],
        [
         "HDFCBANK.NS",
         [
          "2023-10-19T09:55:00.000+0000",
          "2023-10-19T09:56:00.000+0000"
         ],
         1513.8
        ],
        [
         "BAJFINANCE.NS",
         [
          "2023-10-19T09:35:00.000+0000",
          "2023-10-19T09:36:00.000+0000"
         ],
         7854.6
        ],
        [
         "SBIN.NS",
         [
          "2023-10-19T09:35:00.000+0000",
          "2023-10-19T09:36:00.000+0000"
         ],
         572.05
        ],
        [
         "BAJFINANCE.NS",
         [
          "2023-10-19T10:07:00.000+0000",
          "2023-10-19T10:08:00.000+0000"
         ],
         7841.55
        ],
        [
         "BAJFINANCE.NS",
         [
          "2023-10-19T09:42:00.000+0000",
          "2023-10-19T09:43:00.000+0000"
         ],
         7840.85
        ],
        [
         "AXISBANK.NS",
         [
          "2023-10-19T10:09:00.000+0000",
          "2023-10-19T10:10:00.000+0000"
         ],
         991.4
        ],
        [
         "ICICIBANK.NS",
         [
          "2023-10-19T09:36:00.000+0000",
          "2023-10-19T09:37:00.000+0000"
         ],
         937.85
        ],
        [
         "HDFCBANK.NS",
         [
          "2023-10-19T09:43:00.000+0000",
          "2023-10-19T09:44:00.000+0000"
         ],
         1515.0
        ],
        [
         "TCS.NS",
         [
          "2023-10-19T09:20:00.000+0000",
          "2023-10-19T09:21:00.000+0000"
         ],
         3459.0
        ],
        [
         "KOTAKBANK.NS",
         [
          "2023-10-19T09:28:00.000+0000",
          "2023-10-19T09:29:00.000+0000"
         ],
         1739.3
        ],
        [
         "SBIN.NS",
         [
          "2023-10-19T09:22:00.000+0000",
          "2023-10-19T09:23:00.000+0000"
         ],
         570.85
        ],
        [
         "SBIN.NS",
         [
          "2023-10-19T09:16:00.000+0000",
          "2023-10-19T09:17:00.000+0000"
         ],
         571.05
        ],
        [
         "SBIN.NS",
         [
          "2023-10-19T09:27:00.000+0000",
          "2023-10-19T09:28:00.000+0000"
         ],
         571.1
        ],
        [
         "HDFCBANK.NS",
         [
          "2023-10-19T09:30:00.000+0000",
          "2023-10-19T09:31:00.000+0000"
         ],
         1515.05
        ],
        [
         "KOTAKBANK.NS",
         [
          "2023-10-19T09:31:00.000+0000",
          "2023-10-19T09:32:00.000+0000"
         ],
         1738.0
        ],
        [
         "BAJFINANCE.NS",
         [
          "2023-10-19T09:18:00.000+0000",
          "2023-10-19T09:19:00.000+0000"
         ],
         7866.75
        ],
        [
         "ICICIBANK.NS",
         [
          "2023-10-19T09:25:00.000+0000",
          "2023-10-19T09:26:00.000+0000"
         ],
         938.8
        ],
        [
         "BAJFINANCE.NS",
         [
          "2023-10-19T09:48:00.000+0000",
          "2023-10-19T09:49:00.000+0000"
         ],
         7829.5
        ],
        [
         "BAJFINANCE.NS",
         [
          "2023-10-19T10:04:00.000+0000",
          "2023-10-19T10:05:00.000+0000"
         ],
         7841.55
        ],
        [
         "BRITANNIA.NS",
         [
          "2023-10-19T09:45:00.000+0000",
          "2023-10-19T09:46:00.000+0000"
         ],
         4599.35
        ],
        [
         "TCS.NS",
         [
          "2023-10-19T10:01:00.000+0000",
          "2023-10-19T10:02:00.000+0000"
         ],
         3454.8
        ],
        [
         "ASIANPAINT.NS",
         [
          "2023-10-19T09:59:00.000+0000",
          "2023-10-19T10:00:00.000+0000"
         ],
         3101.0
        ],
        [
         "HDFCBANK.NS",
         [
          "2023-10-19T09:52:00.000+0000",
          "2023-10-19T09:53:00.000+0000"
         ],
         1513.45
        ],
        [
         "BRITANNIA.NS",
         [
          "2023-10-19T09:51:00.000+0000",
          "2023-10-19T09:52:00.000+0000"
         ],
         4603.1
        ],
        [
         "TCS.NS",
         [
          "2023-10-19T09:34:00.000+0000",
          "2023-10-19T09:35:00.000+0000"
         ],
         3458.0
        ],
        [
         "RELIANCE.NS",
         [
          "2023-10-19T09:50:00.000+0000",
          "2023-10-19T09:51:00.000+0000"
         ],
         2305.05
        ],
        [
         "BRITANNIA.NS",
         [
          "2023-10-19T09:48:00.000+0000",
          "2023-10-19T09:49:00.000+0000"
         ],
         4603.85
        ],
        [
         "BRITANNIA.NS",
         [
          "2023-10-19T09:24:00.000+0000",
          "2023-10-19T09:25:00.000+0000"
         ],
         4601.1
        ],
        [
         "RELIANCE.NS",
         [
          "2023-10-19T09:17:00.000+0000",
          "2023-10-19T09:18:00.000+0000"
         ],
         2308.7
        ],
        [
         "AXISBANK.NS",
         [
          "2023-10-19T09:34:00.000+0000",
          "2023-10-19T09:35:00.000+0000"
         ],
         991.4
        ],
        [
         "ICICIBANK.NS",
         [
          "2023-10-19T09:58:00.000+0000",
          "2023-10-19T09:59:00.000+0000"
         ],
         934.85
        ],
        [
         "HDFCBANK.NS",
         [
          "2023-10-19T09:19:00.000+0000",
          "2023-10-19T09:20:00.000+0000"
         ],
         1517.7
        ],
        [
         "TCS.NS",
         [
          "2023-10-19T09:39:00.000+0000",
          "2023-10-19T09:40:00.000+0000"
         ],
         3456.8
        ],
        [
         "TCS.NS",
         [
          "2023-10-19T09:18:00.000+0000",
          "2023-10-19T09:19:00.000+0000"
         ],
         3458.05
        ],
        [
         "SBIN.NS",
         [
          "2023-10-19T09:52:00.000+0000",
          "2023-10-19T09:53:00.000+0000"
         ],
         571.1
        ],
        [
         "KOTAKBANK.NS",
         [
          "2023-10-19T09:46:00.000+0000",
          "2023-10-19T09:47:00.000+0000"
         ],
         1736.35
        ],
        [
         "ICICIBANK.NS",
         [
          "2023-10-19T09:31:00.000+0000",
          "2023-10-19T09:32:00.000+0000"
         ],
         938.2
        ],
        [
         "HDFCBANK.NS",
         [
          "2023-10-19T10:05:00.000+0000",
          "2023-10-19T10:06:00.000+0000"
         ],
         1514.95
        ],
        [
         "RELIANCE.NS",
         [
          "2023-10-19T09:20:00.000+0000",
          "2023-10-19T09:21:00.000+0000"
         ],
         2308.05
        ],
        [
         "BAJFINANCE.NS",
         [
          "2023-10-19T09:32:00.000+0000",
          "2023-10-19T09:33:00.000+0000"
         ],
         7865.25
        ],
        [
         "RELIANCE.NS",
         [
          "2023-10-19T09:39:00.000+0000",
          "2023-10-19T09:40:00.000+0000"
         ],
         2309.0
        ],
        [
         "AXISBANK.NS",
         [
          "2023-10-19T09:58:00.000+0000",
          "2023-10-19T09:59:00.000+0000"
         ],
         990.95
        ],
        [
         "AXISBANK.NS",
         [
          "2023-10-19T09:26:00.000+0000",
          "2023-10-19T09:27:00.000+0000"
         ],
         991.85
        ],
        [
         "KOTAKBANK.NS",
         [
          "2023-10-19T10:05:00.000+0000",
          "2023-10-19T10:06:00.000+0000"
         ],
         1738.45
        ],
        [
         "AXISBANK.NS",
         [
          "2023-10-19T09:51:00.000+0000",
          "2023-10-19T09:52:00.000+0000"
         ],
         991.05
        ],
        [
         "ICICIBANK.NS",
         [
          "2023-10-19T09:50:00.000+0000",
          "2023-10-19T09:51:00.000+0000"
         ],
         934.9
        ],
        [
         "ASIANPAINT.NS",
         [
          "2023-10-19T09:30:00.000+0000",
          "2023-10-19T09:31:00.000+0000"
         ],
         3102.5
        ],
        [
         "ICICIBANK.NS",
         [
          "2023-10-19T09:55:00.000+0000",
          "2023-10-19T09:56:00.000+0000"
         ],
         934.85
        ],
        [
         "ASIANPAINT.NS",
         [
          "2023-10-19T09:57:00.000+0000",
          "2023-10-19T09:58:00.000+0000"
         ],
         3099.25
        ],
        [
         "AXISBANK.NS",
         [
          "2023-10-19T10:06:00.000+0000",
          "2023-10-19T10:07:00.000+0000"
         ],
         991.4
        ],
        [
         "BAJFINANCE.NS",
         [
          "2023-10-19T09:56:00.000+0000",
          "2023-10-19T09:57:00.000+0000"
         ],
         7820.8
        ],
        [
         "BRITANNIA.NS",
         [
          "2023-10-19T10:07:00.000+0000",
          "2023-10-19T10:08:00.000+0000"
         ],
         4602.45
        ],
        [
         "BRITANNIA.NS",
         [
          "2023-10-19T09:56:00.000+0000",
          "2023-10-19T09:57:00.000+0000"
         ],
         4607.25
        ],
        [
         "RELIANCE.NS",
         [
          "2023-10-19T10:06:00.000+0000",
          "2023-10-19T10:07:00.000+0000"
         ],
         2306.15
        ],
        [
         "HDFCBANK.NS",
         [
          "2023-10-19T09:57:00.000+0000",
          "2023-10-19T09:58:00.000+0000"
         ],
         1514.3
        ],
        [
         "BAJFINANCE.NS",
         [
          "2023-10-19T10:01:00.000+0000",
          "2023-10-19T10:02:00.000+0000"
         ],
         7822.4
        ],
        [
         "AXISBANK.NS",
         [
          "2023-10-19T09:42:00.000+0000",
          "2023-10-19T09:43:00.000+0000"
         ],
         991.65
        ],
        [
         "RELIANCE.NS",
         [
          "2023-10-19T09:31:00.000+0000",
          "2023-10-19T09:32:00.000+0000"
         ],
         2309.15
        ],
        [
         "HDFCBANK.NS",
         [
          "2023-10-19T10:00:00.000+0000",
          "2023-10-19T10:01:00.000+0000"
         ],
         1514.5
        ],
        [
         "AXISBANK.NS",
         [
          "2023-10-19T09:47:00.000+0000",
          "2023-10-19T09:48:00.000+0000"
         ],
         991.05
        ],
        [
         "HDFCBANK.NS",
         [
          "2023-10-19T09:49:00.000+0000",
          "2023-10-19T09:50:00.000+0000"
         ],
         1515.05
        ],
        [
         "BAJFINANCE.NS",
         [
          "2023-10-19T09:51:00.000+0000",
          "2023-10-19T09:52:00.000+0000"
         ],
         7829.7
        ],
        [
         "RELIANCE.NS",
         [
          "2023-10-19T09:58:00.000+0000",
          "2023-10-19T09:59:00.000+0000"
         ],
         2302.0
        ],
        [
         "BAJFINANCE.NS",
         [
          "2023-10-19T09:59:00.000+0000",
          "2023-10-19T10:00:00.000+0000"
         ],
         7818.1
        ],
        [
         "KOTAKBANK.NS",
         [
          "2023-10-19T09:17:00.000+0000",
          "2023-10-19T09:18:00.000+0000"
         ],
         1740.45
        ],
        [
         "TCS.NS",
         [
          "2023-10-19T09:44:00.000+0000",
          "2023-10-19T09:45:00.000+0000"
         ],
         3456.0
        ],
        [
         "SBIN.NS",
         [
          "2023-10-19T09:38:00.000+0000",
          "2023-10-19T09:39:00.000+0000"
         ],
         571.75
        ],
        [
         "RELIANCE.NS",
         [
          "2023-10-19T09:44:00.000+0000",
          "2023-10-19T09:45:00.000+0000"
         ],
         2305.35
        ],
        [
         "ASIANPAINT.NS",
         [
          "2023-10-19T10:04:00.000+0000",
          "2023-10-19T10:05:00.000+0000"
         ],
         3101.8
        ],
        [
         "KOTAKBANK.NS",
         [
          "2023-10-19T09:52:00.000+0000",
          "2023-10-19T09:53:00.000+0000"
         ],
         1740.1
        ],
        [
         "AXISBANK.NS",
         [
          "2023-10-19T09:40:00.000+0000",
          "2023-10-19T09:41:00.000+0000"
         ],
         991.8
        ],
        [
         "BRITANNIA.NS",
         [
          "2023-10-19T09:43:00.000+0000",
          "2023-10-19T09:44:00.000+0000"
         ],
         4600.0
        ],
        [
         "HDFCBANK.NS",
         [
          "2023-10-19T09:46:00.000+0000",
          "2023-10-19T09:47:00.000+0000"
         ],
         1515.2
        ],
        [
         "ICICIBANK.NS",
         [
          "2023-10-19T09:52:00.000+0000",
          "2023-10-19T09:53:00.000+0000"
         ],
         934.6
        ],
        [
         "KOTAKBANK.NS",
         [
          "2023-10-19T09:20:00.000+0000",
          "2023-10-19T09:21:00.000+0000"
         ],
         1740.05
        ],
        [
         "AXISBANK.NS",
         [
          "2023-10-19T09:32:00.000+0000",
          "2023-10-19T09:33:00.000+0000"
         ],
         991.4
        ],
        [
         "AXISBANK.NS",
         [
          "2023-10-19T10:01:00.000+0000",
          "2023-10-19T10:02:00.000+0000"
         ],
         993.15
        ],
        [
         "BAJFINANCE.NS",
         [
          "2023-10-19T09:45:00.000+0000",
          "2023-10-19T09:46:00.000+0000"
         ],
         7838.25
        ],
        [
         "SBIN.NS",
         [
          "2023-10-19T09:30:00.000+0000",
          "2023-10-19T09:31:00.000+0000"
         ],
         571.15
        ],
        [
         "KOTAKBANK.NS",
         [
          "2023-10-19T09:57:00.000+0000",
          "2023-10-19T09:58:00.000+0000"
         ],
         1737.0
        ],
        [
         "BAJFINANCE.NS",
         [
          "2023-10-19T09:40:00.000+0000",
          "2023-10-19T09:41:00.000+0000"
         ],
         7842.05
        ],
        [
         "SBIN.NS",
         [
          "2023-10-19T09:24:00.000+0000",
          "2023-10-19T09:25:00.000+0000"
         ],
         570.95
        ],
        [
         "BAJFINANCE.NS",
         [
          "2023-10-19T09:21:00.000+0000",
          "2023-10-19T09:22:00.000+0000"
         ],
         7867.55
        ],
        [
         "TCS.NS",
         [
          "2023-10-19T09:56:00.000+0000",
          "2023-10-19T09:57:00.000+0000"
         ],
         3452.75
        ],
        [
         "TCS.NS",
         [
          "2023-10-19T09:29:00.000+0000",
          "2023-10-19T09:30:00.000+0000"
         ],
         3459.4
        ],
        [
         "RELIANCE.NS",
         [
          "2023-10-19T09:42:00.000+0000",
          "2023-10-19T09:43:00.000+0000"
         ],
         2306.3
        ],
        [
         "ASIANPAINT.NS",
         [
          "2023-10-19T09:45:00.000+0000",
          "2023-10-19T09:46:00.000+0000"
         ],
         3102.05
        ],
        [
         "ICICIBANK.NS",
         [
          "2023-10-19T09:22:00.000+0000",
          "2023-10-19T09:23:00.000+0000"
         ],
         938.35
        ],
        [
         "KOTAKBANK.NS",
         [
          "2023-10-19T09:33:00.000+0000",
          "2023-10-19T09:34:00.000+0000"
         ],
         1738.2
        ],
        [
         "ICICIBANK.NS",
         [
          "2023-10-19T10:05:00.000+0000",
          "2023-10-19T10:06:00.000+0000"
         ],
         935.75
        ],
        [
         "SBIN.NS",
         [
          "2023-10-19T09:41:00.000+0000",
          "2023-10-19T09:42:00.000+0000"
         ],
         571.3
        ],
        [
         "ICICIBANK.NS",
         [
          "2023-10-19T09:41:00.000+0000",
          "2023-10-19T09:42:00.000+0000"
         ],
         936.1
        ],
        [
         "HDFCBANK.NS",
         [
          "2023-10-19T09:41:00.000+0000",
          "2023-10-19T09:42:00.000+0000"
         ],
         1515.05
        ],
        [
         "ASIANPAINT.NS",
         [
          "2023-10-19T10:10:00.000+0000",
          "2023-10-19T10:11:00.000+0000"
         ],
         3101.8
        ],
        [
         "KOTAKBANK.NS",
         [
          "2023-10-19T10:02:00.000+0000",
          "2023-10-19T10:03:00.000+0000"
         ],
         1738.45
        ],
        [
         "SBIN.NS",
         [
          "2023-10-19T09:57:00.000+0000",
          "2023-10-19T09:58:00.000+0000"
         ],
         571.2
        ],
        [
         "KOTAKBANK.NS",
         [
          "2023-10-19T09:41:00.000+0000",
          "2023-10-19T09:42:00.000+0000"
         ],
         1737.85
        ],
        [
         "KOTAKBANK.NS",
         [
          "2023-10-19T09:38:00.000+0000",
          "2023-10-19T09:39:00.000+0000"
         ],
         1738.8
        ],
        [
         "BAJFINANCE.NS",
         [
          "2023-10-19T09:37:00.000+0000",
          "2023-10-19T09:38:00.000+0000"
         ],
         7860.55
        ],
        [
         "SBIN.NS",
         [
          "2023-10-19T09:33:00.000+0000",
          "2023-10-19T09:34:00.000+0000"
         ],
         571.1
        ],
        [
         "AXISBANK.NS",
         [
          "2023-10-19T09:45:00.000+0000",
          "2023-10-19T09:46:00.000+0000"
         ],
         991.35
        ],
        [
         "TCS.NS",
         [
          "2023-10-19T10:03:00.000+0000",
          "2023-10-19T10:04:00.000+0000"
         ],
         3455.65
        ],
        [
         "ICICIBANK.NS",
         [
          "2023-10-19T09:34:00.000+0000",
          "2023-10-19T09:35:00.000+0000"
         ],
         937.9
        ],
        [
         "SBIN.NS",
         [
          "2023-10-19T09:49:00.000+0000",
          "2023-10-19T09:50:00.000+0000"
         ],
         571.1
        ],
        [
         "TCS.NS",
         [
          "2023-10-19T10:06:00.000+0000",
          "2023-10-19T10:07:00.000+0000"
         ],
         3455.65
        ],
        [
         "KOTAKBANK.NS",
         [
          "2023-10-19T10:08:00.000+0000",
          "2023-10-19T10:09:00.000+0000"
         ],
         1738.45
        ],
        [
         "KOTAKBANK.NS",
         [
          "2023-10-19T09:25:00.000+0000",
          "2023-10-19T09:26:00.000+0000"
         ],
         1739.6
        ],
        [
         "BAJFINANCE.NS",
         [
          "2023-10-19T09:53:00.000+0000",
          "2023-10-19T09:54:00.000+0000"
         ],
         7824.9
        ],
        [
         "ICICIBANK.NS",
         [
          "2023-10-19T10:08:00.000+0000",
          "2023-10-19T10:09:00.000+0000"
         ],
         935.75
        ],
        [
         "ASIANPAINT.NS",
         [
          "2023-10-19T09:24:00.000+0000",
          "2023-10-19T09:25:00.000+0000"
         ],
         3101.65
        ],
        [
         "AXISBANK.NS",
         [
          "2023-10-19T10:04:00.000+0000",
          "2023-10-19T10:05:00.000+0000"
         ],
         991.4
        ],
        [
         "BRITANNIA.NS",
         [
          "2023-10-19T10:01:00.000+0000",
          "2023-10-19T10:02:00.000+0000"
         ],
         4608.0
        ],
        [
         "TCS.NS",
         [
          "2023-10-19T09:42:00.000+0000",
          "2023-10-19T09:43:00.000+0000"
         ],
         3456.35
        ],
        [
         "SBIN.NS",
         [
          "2023-10-19T09:43:00.000+0000",
          "2023-10-19T09:44:00.000+0000"
         ],
         570.95
        ],
        [
         "TCS.NS",
         [
          "2023-10-19T09:47:00.000+0000",
          "2023-10-19T09:48:00.000+0000"
         ],
         3455.0
        ],
        [
         "ASIANPAINT.NS",
         [
          "2023-10-19T09:49:00.000+0000",
          "2023-10-19T09:50:00.000+0000"
         ],
         3100.8
        ],
        [
         "TCS.NS",
         [
          "2023-10-19T09:37:00.000+0000",
          "2023-10-19T09:38:00.000+0000"
         ],
         3457.0
        ],
        [
         "RELIANCE.NS",
         [
          "2023-10-19T09:28:00.000+0000",
          "2023-10-19T09:29:00.000+0000"
         ],
         2307.95
        ],
        [
         "RELIANCE.NS",
         [
          "2023-10-19T09:47:00.000+0000",
          "2023-10-19T09:48:00.000+0000"
         ],
         2306.85
        ],
        [
         "KOTAKBANK.NS",
         [
          "2023-10-19T10:00:00.000+0000",
          "2023-10-19T10:01:00.000+0000"
         ],
         1738.65
        ],
        [
         "ASIANPAINT.NS",
         [
          "2023-10-19T09:35:00.000+0000",
          "2023-10-19T09:36:00.000+0000"
         ],
         3102.65
        ],
        [
         "RELIANCE.NS",
         [
          "2023-10-19T09:34:00.000+0000",
          "2023-10-19T09:35:00.000+0000"
         ],
         2310.25
        ],
        [
         "AXISBANK.NS",
         [
          "2023-10-19T09:29:00.000+0000",
          "2023-10-19T09:30:00.000+0000"
         ],
         992.0
        ],
        [
         "RELIANCE.NS",
         [
          "2023-10-19T09:25:00.000+0000",
          "2023-10-19T09:26:00.000+0000"
         ],
         2307.55
        ],
        [
         "KOTAKBANK.NS",
         [
          "2023-10-19T09:22:00.000+0000",
          "2023-10-19T09:23:00.000+0000"
         ],
         1738.7
        ],
        [
         "BRITANNIA.NS",
         [
          "2023-10-19T09:37:00.000+0000",
          "2023-10-19T09:38:00.000+0000"
         ],
         4600.25
        ],
        [
         "BRITANNIA.NS",
         [
          "2023-10-19T09:40:00.000+0000",
          "2023-10-19T09:41:00.000+0000"
         ],
         4600.05
        ],
        [
         "ICICIBANK.NS",
         [
          "2023-10-19T09:46:00.000+0000",
          "2023-10-19T09:47:00.000+0000"
         ],
         934.75
        ],
        [
         "AXISBANK.NS",
         [
          "2023-10-19T09:23:00.000+0000",
          "2023-10-19T09:24:00.000+0000"
         ],
         991.4
        ],
        [
         "BRITANNIA.NS",
         [
          "2023-10-19T09:19:00.000+0000",
          "2023-10-19T09:20:00.000+0000"
         ],
         4604.4
        ],
        [
         "TCS.NS",
         [
          "2023-10-19T10:09:00.000+0000",
          "2023-10-19T10:10:00.000+0000"
         ],
         3455.65
        ],
        [
         "BRITANNIA.NS",
         [
          "2023-10-19T09:54:00.000+0000",
          "2023-10-19T09:55:00.000+0000"
         ],
         4609.15
        ],
        [
         "AXISBANK.NS",
         [
          "2023-10-19T09:21:00.000+0000",
          "2023-10-19T09:22:00.000+0000"
         ],
         991.55
        ],
        [
         "TCS.NS",
         [
          "2023-10-19T09:58:00.000+0000",
          "2023-10-19T09:59:00.000+0000"
         ],
         3453.9
        ],
        [
         "BRITANNIA.NS",
         [
          "2023-10-19T09:27:00.000+0000",
          "2023-10-19T09:28:00.000+0000"
         ],
         4603.4
        ],
        [
         "RELIANCE.NS",
         [
          "2023-10-19T09:36:00.000+0000",
          "2023-10-19T09:37:00.000+0000"
         ],
         2309.35
        ],
        [
         "AXISBANK.NS",
         [
          "2023-10-19T09:56:00.000+0000",
          "2023-10-19T09:57:00.000+0000"
         ],
         990.95
        ],
        [
         "ASIANPAINT.NS",
         [
          "2023-10-19T09:21:00.000+0000",
          "2023-10-19T09:22:00.000+0000"
         ],
         3101.3
        ],
        [
         "ASIANPAINT.NS",
         [
          "2023-10-19T10:07:00.000+0000",
          "2023-10-19T10:08:00.000+0000"
         ],
         3101.8
        ],
        [
         "ICICIBANK.NS",
         [
          "2023-10-19T09:17:00.000+0000",
          "2023-10-19T09:18:00.000+0000"
         ],
         939.15
        ],
        [
         "KOTAKBANK.NS",
         [
          "2023-10-19T09:36:00.000+0000",
          "2023-10-19T09:37:00.000+0000"
         ],
         1740.35
        ],
        [
         "RELIANCE.NS",
         [
          "2023-10-19T09:23:00.000+0000",
          "2023-10-19T09:24:00.000+0000"
         ],
         2305.95
        ],
        [
         "KOTAKBANK.NS",
         [
          "2023-10-19T09:55:00.000+0000",
          "2023-10-19T09:56:00.000+0000"
         ],
         1739.9
        ],
        [
         "TCS.NS",
         [
          "2023-10-19T09:50:00.000+0000",
          "2023-10-19T09:51:00.000+0000"
         ],
         3455.0
        ],
        [
         "ICICIBANK.NS",
         [
          "2023-10-19T09:28:00.000+0000",
          "2023-10-19T09:29:00.000+0000"
         ],
         938.35
        ],
        [
         "ASIANPAINT.NS",
         [
          "2023-10-19T09:27:00.000+0000",
          "2023-10-19T09:28:00.000+0000"
         ],
         3103.55
        ],
        [
         "ASIANPAINT.NS",
         [
          "2023-10-19T09:54:00.000+0000",
          "2023-10-19T09:55:00.000+0000"
         ],
         3100.45
        ],
        [
         "BRITANNIA.NS",
         [
          "2023-10-19T09:30:00.000+0000",
          "2023-10-19T09:31:00.000+0000"
         ],
         4605.0
        ],
        [
         "RELIANCE.NS",
         [
          "2023-10-19T10:00:00.000+0000",
          "2023-10-19T10:01:00.000+0000"
         ],
         2304.65
        ],
        [
         "BAJFINANCE.NS",
         [
          "2023-10-19T09:23:00.000+0000",
          "2023-10-19T09:24:00.000+0000"
         ],
         7869.5
        ],
        [
         "SBIN.NS",
         [
          "2023-10-19T09:19:00.000+0000",
          "2023-10-19T09:20:00.000+0000"
         ],
         570.85
        ]
       ],
       "datasetInfos": [],
       "dbfsResultPath": null,
       "isJsonSchema": true,
       "metadata": {},
       "overflow": false,
       "plotOptions": {
        "customPlotOptions": {},
        "displayType": "table",
        "pivotAggregation": null,
        "pivotColumns": null,
        "xColumns": null,
        "yColumns": null
       },
       "removedWidgets": [],
       "schema": [
        {
         "metadata": "{}",
         "name": "Symbol",
         "type": "\"string\""
        },
        {
         "metadata": "{\"spark.timeWindow\":true}",
         "name": "window",
         "type": "{\"type\":\"struct\",\"fields\":[{\"name\":\"start\",\"type\":\"timestamp\",\"nullable\":true,\"metadata\":{}},{\"name\":\"end\",\"type\":\"timestamp\",\"nullable\":true,\"metadata\":{}}]}"
        },
        {
         "metadata": "{}",
         "name": "max_price",
         "type": "\"float\""
        }
       ],
       "type": "table"
      }
     },
     "output_type": "display_data"
    }
   ],
   "source": [
    "from pyspark.sql.functions import  *\n",
    "from pyspark.sql.types import *\n",
    "import pyspark.sql.functions as F\n",
    "\n",
    "streamingCountsDF = (                 \n",
    "  globaldf\n",
    "    .groupBy(\n",
    "      globaldf.Symbol,\n",
    "      window(globaldf.confluent_timestamp, \"1 minute\"))\n",
    "    .agg(F.max(\"Indian_Market_Price\").alias(\"max_price\")))\n",
    "\n",
    "display(streamingCountsDF)"
   ]
  },
  {
   "cell_type": "code",
   "execution_count": 0,
   "metadata": {
    "application/vnd.databricks.v1+cell": {
     "cellMetadata": {
      "byteLimit": 2048000,
      "rowLimit": 10000
     },
     "inputWidgets": {},
     "nuid": "d1a1b5ae-178e-4415-b6ff-d60afd88567b",
     "showTitle": false,
     "title": ""
    }
   },
   "outputs": [
    {
     "output_type": "stream",
     "name": "stdout",
     "output_type": "stream",
     "text": [
      "<pyspark.sql.streaming.query.StreamingQuery at 0x7f0217992580>"
     ]
    }
   ],
   "source": [
    "final_streamingCountsDF=streamingCountsDF.writeStream .format(\"delta\").outputMode(\"complete\").option(\"checkpointLocation\", \"/indian_stocks/tmp/delta/_checkpoints/\").toTable(\"default.window_Aggregation_table_india\")\n",
    "display(final_streamingCountsDF)"
   ]
  },
  {
   "cell_type": "code",
   "execution_count": 0,
   "metadata": {
    "application/vnd.databricks.v1+cell": {
     "cellMetadata": {
      "byteLimit": 2048000,
      "implicitDf": true,
      "rowLimit": 10000
     },
     "inputWidgets": {},
     "nuid": "3388f2a3-7eaf-4e8e-90f7-6ae850f8aeb5",
     "showTitle": false,
     "title": ""
    }
   },
   "outputs": [
    {
     "output_type": "display_data",
     "data": {
      "text/html": [
       "<style scoped>\n",
       "  .table-result-container {\n",
       "    max-height: 300px;\n",
       "    overflow: auto;\n",
       "  }\n",
       "  table, th, td {\n",
       "    border: 1px solid black;\n",
       "    border-collapse: collapse;\n",
       "  }\n",
       "  th, td {\n",
       "    padding: 5px;\n",
       "  }\n",
       "  th {\n",
       "    text-align: left;\n",
       "  }\n",
       "</style><div class='table-result-container'><table class='table-result'><thead style='background-color: white'><tr><th>symbol</th><th>time</th><th>max_price</th></tr></thead><tbody><tr><td>SBIN.NS</td><td>Oct-19 09:17</td><td>571.05</td></tr><tr><td>HDFCBANK.NS</td><td>Oct-19 09:17</td><td>1518.7</td></tr><tr><td>ICICIBANK.NS</td><td>Oct-19 09:18</td><td>939.15</td></tr><tr><td>KOTAKBANK.NS</td><td>Oct-19 09:18</td><td>1740.45</td></tr><tr><td>RELIANCE.NS</td><td>Oct-19 09:18</td><td>2308.7</td></tr><tr><td>AXISBANK.NS</td><td>Oct-19 09:19</td><td>992.05</td></tr><tr><td>TCS.NS</td><td>Oct-19 09:19</td><td>3458.05</td></tr><tr><td>BAJFINANCE.NS</td><td>Oct-19 09:19</td><td>7866.75</td></tr><tr><td>SBIN.NS</td><td>Oct-19 09:20</td><td>570.85</td></tr><tr><td>HDFCBANK.NS</td><td>Oct-19 09:20</td><td>1517.7</td></tr><tr><td>ASIANPAINT.NS</td><td>Oct-19 09:20</td><td>3103.0</td></tr><tr><td>BRITANNIA.NS</td><td>Oct-19 09:20</td><td>4604.4</td></tr><tr><td>ICICIBANK.NS</td><td>Oct-19 09:21</td><td>939.05</td></tr><tr><td>KOTAKBANK.NS</td><td>Oct-19 09:21</td><td>1740.05</td></tr><tr><td>RELIANCE.NS</td><td>Oct-19 09:21</td><td>2308.05</td></tr><tr><td>TCS.NS</td><td>Oct-19 09:21</td><td>3459.0</td></tr><tr><td>AXISBANK.NS</td><td>Oct-19 09:22</td><td>991.55</td></tr><tr><td>ASIANPAINT.NS</td><td>Oct-19 09:22</td><td>3101.3</td></tr><tr><td>BRITANNIA.NS</td><td>Oct-19 09:22</td><td>4600.95</td></tr><tr><td>BAJFINANCE.NS</td><td>Oct-19 09:22</td><td>7867.55</td></tr><tr><td>SBIN.NS</td><td>Oct-19 09:23</td><td>570.85</td></tr><tr><td>ICICIBANK.NS</td><td>Oct-19 09:23</td><td>938.35</td></tr><tr><td>HDFCBANK.NS</td><td>Oct-19 09:23</td><td>1517.6</td></tr><tr><td>KOTAKBANK.NS</td><td>Oct-19 09:23</td><td>1738.7</td></tr><tr><td>AXISBANK.NS</td><td>Oct-19 09:24</td><td>991.4</td></tr><tr><td>RELIANCE.NS</td><td>Oct-19 09:24</td><td>2305.95</td></tr><tr><td>TCS.NS</td><td>Oct-19 09:24</td><td>3460.65</td></tr><tr><td>BAJFINANCE.NS</td><td>Oct-19 09:24</td><td>7869.5</td></tr><tr><td>SBIN.NS</td><td>Oct-19 09:25</td><td>570.95</td></tr><tr><td>ASIANPAINT.NS</td><td>Oct-19 09:25</td><td>3101.65</td></tr><tr><td>BRITANNIA.NS</td><td>Oct-19 09:25</td><td>4601.1</td></tr><tr><td>ICICIBANK.NS</td><td>Oct-19 09:26</td><td>938.8</td></tr><tr><td>HDFCBANK.NS</td><td>Oct-19 09:26</td><td>1516.8</td></tr><tr><td>KOTAKBANK.NS</td><td>Oct-19 09:26</td><td>1739.6</td></tr><tr><td>RELIANCE.NS</td><td>Oct-19 09:26</td><td>2307.55</td></tr><tr><td>AXISBANK.NS</td><td>Oct-19 09:27</td><td>991.85</td></tr><tr><td>TCS.NS</td><td>Oct-19 09:27</td><td>3459.95</td></tr><tr><td>BAJFINANCE.NS</td><td>Oct-19 09:27</td><td>7870.4</td></tr><tr><td>SBIN.NS</td><td>Oct-19 09:28</td><td>571.1</td></tr><tr><td>ASIANPAINT.NS</td><td>Oct-19 09:28</td><td>3103.55</td></tr><tr><td>BRITANNIA.NS</td><td>Oct-19 09:28</td><td>4603.4</td></tr><tr><td>ICICIBANK.NS</td><td>Oct-19 09:29</td><td>938.35</td></tr><tr><td>HDFCBANK.NS</td><td>Oct-19 09:29</td><td>1516.0</td></tr><tr><td>KOTAKBANK.NS</td><td>Oct-19 09:29</td><td>1739.3</td></tr><tr><td>RELIANCE.NS</td><td>Oct-19 09:29</td><td>2307.95</td></tr><tr><td>AXISBANK.NS</td><td>Oct-19 09:30</td><td>992.0</td></tr><tr><td>TCS.NS</td><td>Oct-19 09:30</td><td>3459.4</td></tr><tr><td>BAJFINANCE.NS</td><td>Oct-19 09:30</td><td>7872.05</td></tr><tr><td>SBIN.NS</td><td>Oct-19 09:31</td><td>571.15</td></tr><tr><td>HDFCBANK.NS</td><td>Oct-19 09:31</td><td>1515.05</td></tr><tr><td>ASIANPAINT.NS</td><td>Oct-19 09:31</td><td>3102.5</td></tr><tr><td>BRITANNIA.NS</td><td>Oct-19 09:31</td><td>4605.0</td></tr><tr><td>ICICIBANK.NS</td><td>Oct-19 09:32</td><td>938.2</td></tr><tr><td>KOTAKBANK.NS</td><td>Oct-19 09:32</td><td>1738.0</td></tr><tr><td>RELIANCE.NS</td><td>Oct-19 09:32</td><td>2309.15</td></tr><tr><td>TCS.NS</td><td>Oct-19 09:32</td><td>3460.15</td></tr><tr><td>AXISBANK.NS</td><td>Oct-19 09:33</td><td>991.4</td></tr><tr><td>BRITANNIA.NS</td><td>Oct-19 09:33</td><td>4602.7</td></tr><tr><td>BAJFINANCE.NS</td><td>Oct-19 09:33</td><td>7865.25</td></tr><tr><td>SBIN.NS</td><td>Oct-19 09:34</td><td>571.1</td></tr><tr><td>HDFCBANK.NS</td><td>Oct-19 09:34</td><td>1516.15</td></tr><tr><td>KOTAKBANK.NS</td><td>Oct-19 09:34</td><td>1738.2</td></tr><tr><td>ASIANPAINT.NS</td><td>Oct-19 09:34</td><td>3102.85</td></tr><tr><td>ICICIBANK.NS</td><td>Oct-19 09:35</td><td>937.9</td></tr><tr><td>AXISBANK.NS</td><td>Oct-19 09:35</td><td>991.4</td></tr><tr><td>RELIANCE.NS</td><td>Oct-19 09:35</td><td>2310.25</td></tr><tr><td>TCS.NS</td><td>Oct-19 09:35</td><td>3458.0</td></tr><tr><td>SBIN.NS</td><td>Oct-19 09:36</td><td>572.05</td></tr><tr><td>ASIANPAINT.NS</td><td>Oct-19 09:36</td><td>3102.65</td></tr><tr><td>BRITANNIA.NS</td><td>Oct-19 09:36</td><td>4598.45</td></tr><tr><td>BAJFINANCE.NS</td><td>Oct-19 09:36</td><td>7854.6</td></tr><tr><td>ICICIBANK.NS</td><td>Oct-19 09:37</td><td>937.85</td></tr><tr><td>HDFCBANK.NS</td><td>Oct-19 09:37</td><td>1516.25</td></tr><tr><td>KOTAKBANK.NS</td><td>Oct-19 09:37</td><td>1740.35</td></tr><tr><td>RELIANCE.NS</td><td>Oct-19 09:37</td><td>2309.35</td></tr><tr><td>AXISBANK.NS</td><td>Oct-19 09:38</td><td>992.1</td></tr><tr><td>TCS.NS</td><td>Oct-19 09:38</td><td>3457.0</td></tr><tr><td>BRITANNIA.NS</td><td>Oct-19 09:38</td><td>4600.25</td></tr><tr><td>BAJFINANCE.NS</td><td>Oct-19 09:38</td><td>7860.55</td></tr><tr><td>SBIN.NS</td><td>Oct-19 09:39</td><td>571.75</td></tr><tr><td>HDFCBANK.NS</td><td>Oct-19 09:39</td><td>1515.2</td></tr><tr><td>KOTAKBANK.NS</td><td>Oct-19 09:39</td><td>1738.8</td></tr><tr><td>ASIANPAINT.NS</td><td>Oct-19 09:39</td><td>3103.0</td></tr><tr><td>ICICIBANK.NS</td><td>Oct-19 09:40</td><td>935.55</td></tr><tr><td>RELIANCE.NS</td><td>Oct-19 09:40</td><td>2309.0</td></tr><tr><td>TCS.NS</td><td>Oct-19 09:40</td><td>3456.8</td></tr><tr><td>AXISBANK.NS</td><td>Oct-19 09:41</td><td>991.8</td></tr><tr><td>ASIANPAINT.NS</td><td>Oct-19 09:41</td><td>3101.7</td></tr><tr><td>BRITANNIA.NS</td><td>Oct-19 09:41</td><td>4600.05</td></tr><tr><td>BAJFINANCE.NS</td><td>Oct-19 09:41</td><td>7842.05</td></tr><tr><td>SBIN.NS</td><td>Oct-19 09:42</td><td>571.3</td></tr><tr><td>ICICIBANK.NS</td><td>Oct-19 09:42</td><td>936.1</td></tr><tr><td>HDFCBANK.NS</td><td>Oct-19 09:42</td><td>1515.05</td></tr><tr><td>KOTAKBANK.NS</td><td>Oct-19 09:42</td><td>1737.85</td></tr><tr><td>AXISBANK.NS</td><td>Oct-19 09:43</td><td>991.65</td></tr><tr><td>RELIANCE.NS</td><td>Oct-19 09:43</td><td>2306.3</td></tr><tr><td>TCS.NS</td><td>Oct-19 09:43</td><td>3456.35</td></tr><tr><td>BAJFINANCE.NS</td><td>Oct-19 09:43</td><td>7840.85</td></tr><tr><td>SBIN.NS</td><td>Oct-19 09:44</td><td>570.95</td></tr><tr><td>HDFCBANK.NS</td><td>Oct-19 09:44</td><td>1515.0</td></tr><tr><td>ASIANPAINT.NS</td><td>Oct-19 09:44</td><td>3102.55</td></tr><tr><td>BRITANNIA.NS</td><td>Oct-19 09:44</td><td>4600.0</td></tr><tr><td>ICICIBANK.NS</td><td>Oct-19 09:45</td><td>935.05</td></tr><tr><td>KOTAKBANK.NS</td><td>Oct-19 09:45</td><td>1737.75</td></tr><tr><td>RELIANCE.NS</td><td>Oct-19 09:45</td><td>2305.35</td></tr><tr><td>TCS.NS</td><td>Oct-19 09:45</td><td>3456.0</td></tr><tr><td>AXISBANK.NS</td><td>Oct-19 09:46</td><td>991.35</td></tr><tr><td>ASIANPAINT.NS</td><td>Oct-19 09:46</td><td>3102.05</td></tr><tr><td>BRITANNIA.NS</td><td>Oct-19 09:46</td><td>4599.35</td></tr><tr><td>BAJFINANCE.NS</td><td>Oct-19 09:46</td><td>7838.25</td></tr><tr><td>SBIN.NS</td><td>Oct-19 09:47</td><td>571.15</td></tr><tr><td>ICICIBANK.NS</td><td>Oct-19 09:47</td><td>934.75</td></tr><tr><td>HDFCBANK.NS</td><td>Oct-19 09:47</td><td>1515.2</td></tr><tr><td>KOTAKBANK.NS</td><td>Oct-19 09:47</td><td>1736.35</td></tr><tr><td>AXISBANK.NS</td><td>Oct-19 09:48</td><td>991.05</td></tr><tr><td>RELIANCE.NS</td><td>Oct-19 09:48</td><td>2306.85</td></tr><tr><td>TCS.NS</td><td>Oct-19 09:48</td><td>3455.0</td></tr><tr><td>BRITANNIA.NS</td><td>Oct-19 09:49</td><td>4603.85</td></tr><tr><td>BAJFINANCE.NS</td><td>Oct-19 09:49</td><td>7829.5</td></tr><tr><td>SBIN.NS</td><td>Oct-19 09:50</td><td>571.1</td></tr><tr><td>HDFCBANK.NS</td><td>Oct-19 09:50</td><td>1515.05</td></tr><tr><td>ASIANPAINT.NS</td><td>Oct-19 09:50</td><td>3100.8</td></tr><tr><td>ICICIBANK.NS</td><td>Oct-19 09:51</td><td>934.9</td></tr><tr><td>KOTAKBANK.NS</td><td>Oct-19 09:51</td><td>1737.9</td></tr><tr><td>RELIANCE.NS</td><td>Oct-19 09:51</td><td>2305.05</td></tr><tr><td>TCS.NS</td><td>Oct-19 09:51</td><td>3455.0</td></tr><tr><td>AXISBANK.NS</td><td>Oct-19 09:52</td><td>991.05</td></tr><tr><td>ASIANPAINT.NS</td><td>Oct-19 09:52</td><td>3101.7</td></tr><tr><td>BRITANNIA.NS</td><td>Oct-19 09:52</td><td>4603.1</td></tr><tr><td>BAJFINANCE.NS</td><td>Oct-19 09:52</td><td>7829.7</td></tr><tr><td>SBIN.NS</td><td>Oct-19 09:53</td><td>571.1</td></tr><tr><td>ICICIBANK.NS</td><td>Oct-19 09:53</td><td>934.6</td></tr><tr><td>HDFCBANK.NS</td><td>Oct-19 09:53</td><td>1513.45</td></tr><tr><td>KOTAKBANK.NS</td><td>Oct-19 09:53</td><td>1740.1</td></tr><tr><td>AXISBANK.NS</td><td>Oct-19 09:54</td><td>991.15</td></tr><tr><td>RELIANCE.NS</td><td>Oct-19 09:54</td><td>2303.35</td></tr><tr><td>TCS.NS</td><td>Oct-19 09:54</td><td>3454.1</td></tr><tr><td>BAJFINANCE.NS</td><td>Oct-19 09:54</td><td>7824.9</td></tr><tr><td>SBIN.NS</td><td>Oct-19 09:55</td><td>571.0</td></tr><tr><td>ASIANPAINT.NS</td><td>Oct-19 09:55</td><td>3100.45</td></tr><tr><td>BRITANNIA.NS</td><td>Oct-19 09:55</td><td>4609.15</td></tr><tr><td>ICICIBANK.NS</td><td>Oct-19 09:56</td><td>934.85</td></tr><tr><td>HDFCBANK.NS</td><td>Oct-19 09:56</td><td>1513.8</td></tr><tr><td>KOTAKBANK.NS</td><td>Oct-19 09:56</td><td>1739.9</td></tr><tr><td>AXISBANK.NS</td><td>Oct-19 09:57</td><td>990.95</td></tr><tr><td>RELIANCE.NS</td><td>Oct-19 09:57</td><td>2303.4</td></tr><tr><td>TCS.NS</td><td>Oct-19 09:57</td><td>3452.75</td></tr><tr><td>BRITANNIA.NS</td><td>Oct-19 09:57</td><td>4607.25</td></tr><tr><td>BAJFINANCE.NS</td><td>Oct-19 09:57</td><td>7820.8</td></tr><tr><td>SBIN.NS</td><td>Oct-19 09:58</td><td>571.2</td></tr><tr><td>HDFCBANK.NS</td><td>Oct-19 09:58</td><td>1514.3</td></tr><tr><td>KOTAKBANK.NS</td><td>Oct-19 09:58</td><td>1737.0</td></tr><tr><td>ASIANPAINT.NS</td><td>Oct-19 09:58</td><td>3099.25</td></tr><tr><td>ICICIBANK.NS</td><td>Oct-19 09:59</td><td>934.85</td></tr><tr><td>AXISBANK.NS</td><td>Oct-19 09:59</td><td>990.95</td></tr><tr><td>RELIANCE.NS</td><td>Oct-19 09:59</td><td>2302.0</td></tr><tr><td>TCS.NS</td><td>Oct-19 09:59</td><td>3453.9</td></tr><tr><td>SBIN.NS</td><td>Oct-19 10:00</td><td>571.3</td></tr><tr><td>ASIANPAINT.NS</td><td>Oct-19 10:00</td><td>3101.0</td></tr><tr><td>BRITANNIA.NS</td><td>Oct-19 10:00</td><td>4607.0</td></tr><tr><td>BAJFINANCE.NS</td><td>Oct-19 10:00</td><td>7818.1</td></tr><tr><td>ICICIBANK.NS</td><td>Oct-19 10:01</td><td>934.85</td></tr><tr><td>HDFCBANK.NS</td><td>Oct-19 10:01</td><td>1514.5</td></tr><tr><td>KOTAKBANK.NS</td><td>Oct-19 10:01</td><td>1738.65</td></tr><tr><td>RELIANCE.NS</td><td>Oct-19 10:01</td><td>2304.65</td></tr><tr><td>AXISBANK.NS</td><td>Oct-19 10:02</td><td>993.15</td></tr><tr><td>TCS.NS</td><td>Oct-19 10:02</td><td>3454.8</td></tr><tr><td>BRITANNIA.NS</td><td>Oct-19 10:02</td><td>4608.0</td></tr><tr><td>BAJFINANCE.NS</td><td>Oct-19 10:02</td><td>7822.4</td></tr><tr><td>SBIN.NS</td><td>Oct-19 10:03</td><td>571.2</td></tr><tr><td>HDFCBANK.NS</td><td>Oct-19 10:03</td><td>1514.95</td></tr><tr><td>KOTAKBANK.NS</td><td>Oct-19 10:03</td><td>1738.45</td></tr><tr><td>ASIANPAINT.NS</td><td>Oct-19 10:03</td><td>3101.0</td></tr><tr><td>ICICIBANK.NS</td><td>Oct-19 10:04</td><td>935.75</td></tr><tr><td>RELIANCE.NS</td><td>Oct-19 10:04</td><td>2306.15</td></tr><tr><td>TCS.NS</td><td>Oct-19 10:04</td><td>3455.65</td></tr><tr><td>AXISBANK.NS</td><td>Oct-19 10:05</td><td>991.4</td></tr><tr><td>ASIANPAINT.NS</td><td>Oct-19 10:05</td><td>3101.8</td></tr><tr><td>BRITANNIA.NS</td><td>Oct-19 10:05</td><td>4602.45</td></tr><tr><td>BAJFINANCE.NS</td><td>Oct-19 10:05</td><td>7841.55</td></tr><tr><td>SBIN.NS</td><td>Oct-19 10:06</td><td>571.2</td></tr><tr><td>ICICIBANK.NS</td><td>Oct-19 10:06</td><td>935.75</td></tr><tr><td>HDFCBANK.NS</td><td>Oct-19 10:06</td><td>1514.95</td></tr><tr><td>KOTAKBANK.NS</td><td>Oct-19 10:06</td><td>1738.45</td></tr><tr><td>AXISBANK.NS</td><td>Oct-19 10:07</td><td>991.4</td></tr><tr><td>RELIANCE.NS</td><td>Oct-19 10:07</td><td>2306.15</td></tr><tr><td>TCS.NS</td><td>Oct-19 10:07</td><td>3455.65</td></tr><tr><td>SBIN.NS</td><td>Oct-19 10:08</td><td>571.2</td></tr><tr><td>ASIANPAINT.NS</td><td>Oct-19 10:08</td><td>3101.8</td></tr><tr><td>BRITANNIA.NS</td><td>Oct-19 10:08</td><td>4602.45</td></tr><tr><td>BAJFINANCE.NS</td><td>Oct-19 10:08</td><td>7841.55</td></tr><tr><td>ICICIBANK.NS</td><td>Oct-19 10:09</td><td>935.75</td></tr><tr><td>HDFCBANK.NS</td><td>Oct-19 10:09</td><td>1514.95</td></tr><tr><td>KOTAKBANK.NS</td><td>Oct-19 10:09</td><td>1738.45</td></tr><tr><td>AXISBANK.NS</td><td>Oct-19 10:10</td><td>991.4</td></tr><tr><td>RELIANCE.NS</td><td>Oct-19 10:10</td><td>2306.15</td></tr><tr><td>TCS.NS</td><td>Oct-19 10:10</td><td>3455.65</td></tr><tr><td>BAJFINANCE.NS</td><td>Oct-19 10:10</td><td>7841.55</td></tr><tr><td>ASIANPAINT.NS</td><td>Oct-19 10:11</td><td>3101.8</td></tr><tr><td>BRITANNIA.NS</td><td>Oct-19 10:11</td><td>4602.45</td></tr></tbody></table></div>"
      ]
     },
     "metadata": {
      "application/vnd.databricks.v1+output": {
       "addedWidgets": {},
       "aggData": [],
       "aggError": "",
       "aggOverflow": false,
       "aggSchema": [],
       "aggSeriesLimitReached": false,
       "aggType": "",
       "arguments": {},
       "columnCustomDisplayInfos": {},
       "data": [
        [
         "SBIN.NS",
         "Oct-19 09:17",
         571.05
        ],
        [
         "HDFCBANK.NS",
         "Oct-19 09:17",
         1518.7
        ],
        [
         "ICICIBANK.NS",
         "Oct-19 09:18",
         939.15
        ],
        [
         "KOTAKBANK.NS",
         "Oct-19 09:18",
         1740.45
        ],
        [
         "RELIANCE.NS",
         "Oct-19 09:18",
         2308.7
        ],
        [
         "AXISBANK.NS",
         "Oct-19 09:19",
         992.05
        ],
        [
         "TCS.NS",
         "Oct-19 09:19",
         3458.05
        ],
        [
         "BAJFINANCE.NS",
         "Oct-19 09:19",
         7866.75
        ],
        [
         "SBIN.NS",
         "Oct-19 09:20",
         570.85
        ],
        [
         "HDFCBANK.NS",
         "Oct-19 09:20",
         1517.7
        ],
        [
         "ASIANPAINT.NS",
         "Oct-19 09:20",
         3103.0
        ],
        [
         "BRITANNIA.NS",
         "Oct-19 09:20",
         4604.4
        ],
        [
         "ICICIBANK.NS",
         "Oct-19 09:21",
         939.05
        ],
        [
         "KOTAKBANK.NS",
         "Oct-19 09:21",
         1740.05
        ],
        [
         "RELIANCE.NS",
         "Oct-19 09:21",
         2308.05
        ],
        [
         "TCS.NS",
         "Oct-19 09:21",
         3459.0
        ],
        [
         "AXISBANK.NS",
         "Oct-19 09:22",
         991.55
        ],
        [
         "ASIANPAINT.NS",
         "Oct-19 09:22",
         3101.3
        ],
        [
         "BRITANNIA.NS",
         "Oct-19 09:22",
         4600.95
        ],
        [
         "BAJFINANCE.NS",
         "Oct-19 09:22",
         7867.55
        ],
        [
         "SBIN.NS",
         "Oct-19 09:23",
         570.85
        ],
        [
         "ICICIBANK.NS",
         "Oct-19 09:23",
         938.35
        ],
        [
         "HDFCBANK.NS",
         "Oct-19 09:23",
         1517.6
        ],
        [
         "KOTAKBANK.NS",
         "Oct-19 09:23",
         1738.7
        ],
        [
         "AXISBANK.NS",
         "Oct-19 09:24",
         991.4
        ],
        [
         "RELIANCE.NS",
         "Oct-19 09:24",
         2305.95
        ],
        [
         "TCS.NS",
         "Oct-19 09:24",
         3460.65
        ],
        [
         "BAJFINANCE.NS",
         "Oct-19 09:24",
         7869.5
        ],
        [
         "SBIN.NS",
         "Oct-19 09:25",
         570.95
        ],
        [
         "ASIANPAINT.NS",
         "Oct-19 09:25",
         3101.65
        ],
        [
         "BRITANNIA.NS",
         "Oct-19 09:25",
         4601.1
        ],
        [
         "ICICIBANK.NS",
         "Oct-19 09:26",
         938.8
        ],
        [
         "HDFCBANK.NS",
         "Oct-19 09:26",
         1516.8
        ],
        [
         "KOTAKBANK.NS",
         "Oct-19 09:26",
         1739.6
        ],
        [
         "RELIANCE.NS",
         "Oct-19 09:26",
         2307.55
        ],
        [
         "AXISBANK.NS",
         "Oct-19 09:27",
         991.85
        ],
        [
         "TCS.NS",
         "Oct-19 09:27",
         3459.95
        ],
        [
         "BAJFINANCE.NS",
         "Oct-19 09:27",
         7870.4
        ],
        [
         "SBIN.NS",
         "Oct-19 09:28",
         571.1
        ],
        [
         "ASIANPAINT.NS",
         "Oct-19 09:28",
         3103.55
        ],
        [
         "BRITANNIA.NS",
         "Oct-19 09:28",
         4603.4
        ],
        [
         "ICICIBANK.NS",
         "Oct-19 09:29",
         938.35
        ],
        [
         "HDFCBANK.NS",
         "Oct-19 09:29",
         1516.0
        ],
        [
         "KOTAKBANK.NS",
         "Oct-19 09:29",
         1739.3
        ],
        [
         "RELIANCE.NS",
         "Oct-19 09:29",
         2307.95
        ],
        [
         "AXISBANK.NS",
         "Oct-19 09:30",
         992.0
        ],
        [
         "TCS.NS",
         "Oct-19 09:30",
         3459.4
        ],
        [
         "BAJFINANCE.NS",
         "Oct-19 09:30",
         7872.05
        ],
        [
         "SBIN.NS",
         "Oct-19 09:31",
         571.15
        ],
        [
         "HDFCBANK.NS",
         "Oct-19 09:31",
         1515.05
        ],
        [
         "ASIANPAINT.NS",
         "Oct-19 09:31",
         3102.5
        ],
        [
         "BRITANNIA.NS",
         "Oct-19 09:31",
         4605.0
        ],
        [
         "ICICIBANK.NS",
         "Oct-19 09:32",
         938.2
        ],
        [
         "KOTAKBANK.NS",
         "Oct-19 09:32",
         1738.0
        ],
        [
         "RELIANCE.NS",
         "Oct-19 09:32",
         2309.15
        ],
        [
         "TCS.NS",
         "Oct-19 09:32",
         3460.15
        ],
        [
         "AXISBANK.NS",
         "Oct-19 09:33",
         991.4
        ],
        [
         "BRITANNIA.NS",
         "Oct-19 09:33",
         4602.7
        ],
        [
         "BAJFINANCE.NS",
         "Oct-19 09:33",
         7865.25
        ],
        [
         "SBIN.NS",
         "Oct-19 09:34",
         571.1
        ],
        [
         "HDFCBANK.NS",
         "Oct-19 09:34",
         1516.15
        ],
        [
         "KOTAKBANK.NS",
         "Oct-19 09:34",
         1738.2
        ],
        [
         "ASIANPAINT.NS",
         "Oct-19 09:34",
         3102.85
        ],
        [
         "ICICIBANK.NS",
         "Oct-19 09:35",
         937.9
        ],
        [
         "AXISBANK.NS",
         "Oct-19 09:35",
         991.4
        ],
        [
         "RELIANCE.NS",
         "Oct-19 09:35",
         2310.25
        ],
        [
         "TCS.NS",
         "Oct-19 09:35",
         3458.0
        ],
        [
         "SBIN.NS",
         "Oct-19 09:36",
         572.05
        ],
        [
         "ASIANPAINT.NS",
         "Oct-19 09:36",
         3102.65
        ],
        [
         "BRITANNIA.NS",
         "Oct-19 09:36",
         4598.45
        ],
        [
         "BAJFINANCE.NS",
         "Oct-19 09:36",
         7854.6
        ],
        [
         "ICICIBANK.NS",
         "Oct-19 09:37",
         937.85
        ],
        [
         "HDFCBANK.NS",
         "Oct-19 09:37",
         1516.25
        ],
        [
         "KOTAKBANK.NS",
         "Oct-19 09:37",
         1740.35
        ],
        [
         "RELIANCE.NS",
         "Oct-19 09:37",
         2309.35
        ],
        [
         "AXISBANK.NS",
         "Oct-19 09:38",
         992.1
        ],
        [
         "TCS.NS",
         "Oct-19 09:38",
         3457.0
        ],
        [
         "BRITANNIA.NS",
         "Oct-19 09:38",
         4600.25
        ],
        [
         "BAJFINANCE.NS",
         "Oct-19 09:38",
         7860.55
        ],
        [
         "SBIN.NS",
         "Oct-19 09:39",
         571.75
        ],
        [
         "HDFCBANK.NS",
         "Oct-19 09:39",
         1515.2
        ],
        [
         "KOTAKBANK.NS",
         "Oct-19 09:39",
         1738.8
        ],
        [
         "ASIANPAINT.NS",
         "Oct-19 09:39",
         3103.0
        ],
        [
         "ICICIBANK.NS",
         "Oct-19 09:40",
         935.55
        ],
        [
         "RELIANCE.NS",
         "Oct-19 09:40",
         2309.0
        ],
        [
         "TCS.NS",
         "Oct-19 09:40",
         3456.8
        ],
        [
         "AXISBANK.NS",
         "Oct-19 09:41",
         991.8
        ],
        [
         "ASIANPAINT.NS",
         "Oct-19 09:41",
         3101.7
        ],
        [
         "BRITANNIA.NS",
         "Oct-19 09:41",
         4600.05
        ],
        [
         "BAJFINANCE.NS",
         "Oct-19 09:41",
         7842.05
        ],
        [
         "SBIN.NS",
         "Oct-19 09:42",
         571.3
        ],
        [
         "ICICIBANK.NS",
         "Oct-19 09:42",
         936.1
        ],
        [
         "HDFCBANK.NS",
         "Oct-19 09:42",
         1515.05
        ],
        [
         "KOTAKBANK.NS",
         "Oct-19 09:42",
         1737.85
        ],
        [
         "AXISBANK.NS",
         "Oct-19 09:43",
         991.65
        ],
        [
         "RELIANCE.NS",
         "Oct-19 09:43",
         2306.3
        ],
        [
         "TCS.NS",
         "Oct-19 09:43",
         3456.35
        ],
        [
         "BAJFINANCE.NS",
         "Oct-19 09:43",
         7840.85
        ],
        [
         "SBIN.NS",
         "Oct-19 09:44",
         570.95
        ],
        [
         "HDFCBANK.NS",
         "Oct-19 09:44",
         1515.0
        ],
        [
         "ASIANPAINT.NS",
         "Oct-19 09:44",
         3102.55
        ],
        [
         "BRITANNIA.NS",
         "Oct-19 09:44",
         4600.0
        ],
        [
         "ICICIBANK.NS",
         "Oct-19 09:45",
         935.05
        ],
        [
         "KOTAKBANK.NS",
         "Oct-19 09:45",
         1737.75
        ],
        [
         "RELIANCE.NS",
         "Oct-19 09:45",
         2305.35
        ],
        [
         "TCS.NS",
         "Oct-19 09:45",
         3456.0
        ],
        [
         "AXISBANK.NS",
         "Oct-19 09:46",
         991.35
        ],
        [
         "ASIANPAINT.NS",
         "Oct-19 09:46",
         3102.05
        ],
        [
         "BRITANNIA.NS",
         "Oct-19 09:46",
         4599.35
        ],
        [
         "BAJFINANCE.NS",
         "Oct-19 09:46",
         7838.25
        ],
        [
         "SBIN.NS",
         "Oct-19 09:47",
         571.15
        ],
        [
         "ICICIBANK.NS",
         "Oct-19 09:47",
         934.75
        ],
        [
         "HDFCBANK.NS",
         "Oct-19 09:47",
         1515.2
        ],
        [
         "KOTAKBANK.NS",
         "Oct-19 09:47",
         1736.35
        ],
        [
         "AXISBANK.NS",
         "Oct-19 09:48",
         991.05
        ],
        [
         "RELIANCE.NS",
         "Oct-19 09:48",
         2306.85
        ],
        [
         "TCS.NS",
         "Oct-19 09:48",
         3455.0
        ],
        [
         "BRITANNIA.NS",
         "Oct-19 09:49",
         4603.85
        ],
        [
         "BAJFINANCE.NS",
         "Oct-19 09:49",
         7829.5
        ],
        [
         "SBIN.NS",
         "Oct-19 09:50",
         571.1
        ],
        [
         "HDFCBANK.NS",
         "Oct-19 09:50",
         1515.05
        ],
        [
         "ASIANPAINT.NS",
         "Oct-19 09:50",
         3100.8
        ],
        [
         "ICICIBANK.NS",
         "Oct-19 09:51",
         934.9
        ],
        [
         "KOTAKBANK.NS",
         "Oct-19 09:51",
         1737.9
        ],
        [
         "RELIANCE.NS",
         "Oct-19 09:51",
         2305.05
        ],
        [
         "TCS.NS",
         "Oct-19 09:51",
         3455.0
        ],
        [
         "AXISBANK.NS",
         "Oct-19 09:52",
         991.05
        ],
        [
         "ASIANPAINT.NS",
         "Oct-19 09:52",
         3101.7
        ],
        [
         "BRITANNIA.NS",
         "Oct-19 09:52",
         4603.1
        ],
        [
         "BAJFINANCE.NS",
         "Oct-19 09:52",
         7829.7
        ],
        [
         "SBIN.NS",
         "Oct-19 09:53",
         571.1
        ],
        [
         "ICICIBANK.NS",
         "Oct-19 09:53",
         934.6
        ],
        [
         "HDFCBANK.NS",
         "Oct-19 09:53",
         1513.45
        ],
        [
         "KOTAKBANK.NS",
         "Oct-19 09:53",
         1740.1
        ],
        [
         "AXISBANK.NS",
         "Oct-19 09:54",
         991.15
        ],
        [
         "RELIANCE.NS",
         "Oct-19 09:54",
         2303.35
        ],
        [
         "TCS.NS",
         "Oct-19 09:54",
         3454.1
        ],
        [
         "BAJFINANCE.NS",
         "Oct-19 09:54",
         7824.9
        ],
        [
         "SBIN.NS",
         "Oct-19 09:55",
         571.0
        ],
        [
         "ASIANPAINT.NS",
         "Oct-19 09:55",
         3100.45
        ],
        [
         "BRITANNIA.NS",
         "Oct-19 09:55",
         4609.15
        ],
        [
         "ICICIBANK.NS",
         "Oct-19 09:56",
         934.85
        ],
        [
         "HDFCBANK.NS",
         "Oct-19 09:56",
         1513.8
        ],
        [
         "KOTAKBANK.NS",
         "Oct-19 09:56",
         1739.9
        ],
        [
         "AXISBANK.NS",
         "Oct-19 09:57",
         990.95
        ],
        [
         "RELIANCE.NS",
         "Oct-19 09:57",
         2303.4
        ],
        [
         "TCS.NS",
         "Oct-19 09:57",
         3452.75
        ],
        [
         "BRITANNIA.NS",
         "Oct-19 09:57",
         4607.25
        ],
        [
         "BAJFINANCE.NS",
         "Oct-19 09:57",
         7820.8
        ],
        [
         "SBIN.NS",
         "Oct-19 09:58",
         571.2
        ],
        [
         "HDFCBANK.NS",
         "Oct-19 09:58",
         1514.3
        ],
        [
         "KOTAKBANK.NS",
         "Oct-19 09:58",
         1737.0
        ],
        [
         "ASIANPAINT.NS",
         "Oct-19 09:58",
         3099.25
        ],
        [
         "ICICIBANK.NS",
         "Oct-19 09:59",
         934.85
        ],
        [
         "AXISBANK.NS",
         "Oct-19 09:59",
         990.95
        ],
        [
         "RELIANCE.NS",
         "Oct-19 09:59",
         2302.0
        ],
        [
         "TCS.NS",
         "Oct-19 09:59",
         3453.9
        ],
        [
         "SBIN.NS",
         "Oct-19 10:00",
         571.3
        ],
        [
         "ASIANPAINT.NS",
         "Oct-19 10:00",
         3101.0
        ],
        [
         "BRITANNIA.NS",
         "Oct-19 10:00",
         4607.0
        ],
        [
         "BAJFINANCE.NS",
         "Oct-19 10:00",
         7818.1
        ],
        [
         "ICICIBANK.NS",
         "Oct-19 10:01",
         934.85
        ],
        [
         "HDFCBANK.NS",
         "Oct-19 10:01",
         1514.5
        ],
        [
         "KOTAKBANK.NS",
         "Oct-19 10:01",
         1738.65
        ],
        [
         "RELIANCE.NS",
         "Oct-19 10:01",
         2304.65
        ],
        [
         "AXISBANK.NS",
         "Oct-19 10:02",
         993.15
        ],
        [
         "TCS.NS",
         "Oct-19 10:02",
         3454.8
        ],
        [
         "BRITANNIA.NS",
         "Oct-19 10:02",
         4608.0
        ],
        [
         "BAJFINANCE.NS",
         "Oct-19 10:02",
         7822.4
        ],
        [
         "SBIN.NS",
         "Oct-19 10:03",
         571.2
        ],
        [
         "HDFCBANK.NS",
         "Oct-19 10:03",
         1514.95
        ],
        [
         "KOTAKBANK.NS",
         "Oct-19 10:03",
         1738.45
        ],
        [
         "ASIANPAINT.NS",
         "Oct-19 10:03",
         3101.0
        ],
        [
         "ICICIBANK.NS",
         "Oct-19 10:04",
         935.75
        ],
        [
         "RELIANCE.NS",
         "Oct-19 10:04",
         2306.15
        ],
        [
         "TCS.NS",
         "Oct-19 10:04",
         3455.65
        ],
        [
         "AXISBANK.NS",
         "Oct-19 10:05",
         991.4
        ],
        [
         "ASIANPAINT.NS",
         "Oct-19 10:05",
         3101.8
        ],
        [
         "BRITANNIA.NS",
         "Oct-19 10:05",
         4602.45
        ],
        [
         "BAJFINANCE.NS",
         "Oct-19 10:05",
         7841.55
        ],
        [
         "SBIN.NS",
         "Oct-19 10:06",
         571.2
        ],
        [
         "ICICIBANK.NS",
         "Oct-19 10:06",
         935.75
        ],
        [
         "HDFCBANK.NS",
         "Oct-19 10:06",
         1514.95
        ],
        [
         "KOTAKBANK.NS",
         "Oct-19 10:06",
         1738.45
        ],
        [
         "AXISBANK.NS",
         "Oct-19 10:07",
         991.4
        ],
        [
         "RELIANCE.NS",
         "Oct-19 10:07",
         2306.15
        ],
        [
         "TCS.NS",
         "Oct-19 10:07",
         3455.65
        ],
        [
         "SBIN.NS",
         "Oct-19 10:08",
         571.2
        ],
        [
         "ASIANPAINT.NS",
         "Oct-19 10:08",
         3101.8
        ],
        [
         "BRITANNIA.NS",
         "Oct-19 10:08",
         4602.45
        ],
        [
         "BAJFINANCE.NS",
         "Oct-19 10:08",
         7841.55
        ],
        [
         "ICICIBANK.NS",
         "Oct-19 10:09",
         935.75
        ],
        [
         "HDFCBANK.NS",
         "Oct-19 10:09",
         1514.95
        ],
        [
         "KOTAKBANK.NS",
         "Oct-19 10:09",
         1738.45
        ],
        [
         "AXISBANK.NS",
         "Oct-19 10:10",
         991.4
        ],
        [
         "RELIANCE.NS",
         "Oct-19 10:10",
         2306.15
        ],
        [
         "TCS.NS",
         "Oct-19 10:10",
         3455.65
        ],
        [
         "BAJFINANCE.NS",
         "Oct-19 10:10",
         7841.55
        ],
        [
         "ASIANPAINT.NS",
         "Oct-19 10:11",
         3101.8
        ],
        [
         "BRITANNIA.NS",
         "Oct-19 10:11",
         4602.45
        ]
       ],
       "datasetInfos": [],
       "dbfsResultPath": null,
       "isJsonSchema": true,
       "metadata": {},
       "overflow": false,
       "plotOptions": {
        "customPlotOptions": {},
        "displayType": "table",
        "pivotAggregation": null,
        "pivotColumns": null,
        "xColumns": null,
        "yColumns": null
       },
       "removedWidgets": [],
       "schema": [
        {
         "metadata": "{}",
         "name": "symbol",
         "type": "\"string\""
        },
        {
         "metadata": "{}",
         "name": "time",
         "type": "\"string\""
        },
        {
         "metadata": "{}",
         "name": "max_price",
         "type": "\"float\""
        }
       ],
       "type": "table"
      }
     },
     "output_type": "display_data"
    },
    {
     "output_type": "display_data",
     "data": {
      "text/plain": [
       "Databricks visualization. Run in Databricks to view."
      ]
     },
     "metadata": {
      "application/vnd.databricks.v1.subcommand+json": {
       "baseErrorDetails": null,
       "bindings": {},
       "collapsed": false,
       "command": "%sql WITH q AS (select symbol, date_format(window.end, \"MMM-dd HH:mm\") as time , max_price from default.window_Aggregation_table_india  order by time ,max_price) SELECT `time`,`symbol`,SUM(`max_price`) `column_fc069519119` FROM q GROUP BY `symbol`,`time`",
       "commandTitle": "Visualization 1",
       "commandType": "auto",
       "commandVersion": 0,
       "commentThread": [],
       "commentsVisible": false,
       "contentSha256Hex": null,
       "customPlotOptions": {
        "redashChart": [
         {
          "key": "type",
          "value": "CHART"
         },
         {
          "key": "options",
          "value": {
           "alignYAxesAtZero": true,
           "coefficient": 1,
           "columnConfigurationMap": {
            "series": {
             "column": "symbol",
             "id": "column_fc069519117"
            },
            "x": {
             "column": "time",
             "id": "column_fc069519116"
            },
            "y": [
             {
              "column": "max_price",
              "id": "column_fc069519119",
              "transform": "SUM"
             }
            ]
           },
           "dateTimeFormat": "DD/MM/YYYY HH:mm",
           "direction": {
            "type": "counterclockwise"
           },
           "error_y": {
            "type": "data",
            "visible": true
           },
           "globalSeriesType": "column",
           "isAggregationOn": true,
           "legend": {
            "enabled": true,
            "placement": "auto",
            "traceorder": "normal"
           },
           "missingValuesAsZero": true,
           "numberFormat": "0,0[.]00000",
           "percentFormat": "0[.]00%",
           "series": {
            "error_y": {
             "type": "data",
             "visible": true
            },
            "stacking": "stack"
           },
           "seriesOptions": {
            "column_fc069519115": {
             "name": "max_price",
             "yAxis": 0
            },
            "column_fc069519119": {
             "type": "column",
             "yAxis": 0
            }
           },
           "showDataLabels": false,
           "sizemode": "diameter",
           "sortX": true,
           "sortY": true,
           "swappedAxes": false,
           "textFormat": "",
           "useAggregationsUi": true,
           "valuesOptions": {},
           "version": 2,
           "xAxis": {
            "labels": {
             "enabled": true
            },
            "type": "-"
           },
           "yAxis": [
            {
             "type": "-"
            },
            {
             "opposite": true,
             "type": "-"
            }
           ]
          }
         }
        ]
       },
       "datasetPreviewNameToCmdIdMap": {},
       "diffDeletes": [],
       "diffInserts": [],
       "displayType": "redashChart",
       "error": null,
       "errorDetails": null,
       "errorSummary": null,
       "errorTraceType": null,
       "finishTime": 0,
       "globalVars": {},
       "guid": "",
       "height": "auto",
       "hideCommandCode": false,
       "hideCommandResult": false,
       "iPythonMetadata": null,
       "inputWidgets": {},
       "isLockedInExamMode": false,
       "latestUser": "a user",
       "latestUserId": null,
       "listResultMetadata": null,
       "metadata": {},
       "nuid": "e9e1d84f-5b63-4e5b-968b-5589644c98f8",
       "origId": 0,
       "parentHierarchy": [],
       "pivotAggregation": null,
       "pivotColumns": null,
       "position": 5.0,
       "resultDbfsErrorMessage": null,
       "resultDbfsStatus": "INLINED_IN_TREE",
       "results": null,
       "showCommandTitle": false,
       "startTime": 0,
       "state": "input",
       "streamStates": {},
       "subcommandOptions": {
        "queryPlan": {
         "groups": [
          {
           "column": "time",
           "type": "column"
          },
          {
           "column": "symbol",
           "type": "column"
          }
         ],
         "selects": [
          {
           "column": "time",
           "type": "column"
          },
          {
           "column": "symbol",
           "type": "column"
          },
          {
           "alias": "column_fc069519119",
           "args": [
            {
             "column": "max_price",
             "type": "column"
            }
           ],
           "function": "SUM",
           "type": "function"
          }
         ]
        }
       },
       "submitTime": 0,
       "subtype": "tableResultSubCmd.visualization",
       "tableResultIndex": 0,
       "useConsistentColors": false,
       "version": "CommandV1",
       "width": "auto",
       "workflows": [],
       "xColumns": null,
       "yColumns": null
      }
     },
     "output_type": "display_data"
    }
   ],
   "source": [
    "%sql\n",
    "select symbol, date_format(window.end, \"MMM-dd HH:mm\") as time , max_price from default.window_Aggregation_table_india  order by time ,max_price;"
   ]
  },
  {
   "cell_type": "code",
   "execution_count": 0,
   "metadata": {
    "application/vnd.databricks.v1+cell": {
     "cellMetadata": {
      "byteLimit": 2048000,
      "implicitDf": true,
      "rowLimit": 10000
     },
     "inputWidgets": {},
     "nuid": "b58d0afb-e707-4aa5-9cef-9eedf991aed6",
     "showTitle": false,
     "title": ""
    }
   },
   "outputs": [
    {
     "output_type": "display_data",
     "data": {
      "text/html": [
       "<style scoped>\n",
       "  .table-result-container {\n",
       "    max-height: 300px;\n",
       "    overflow: auto;\n",
       "  }\n",
       "  table, th, td {\n",
       "    border: 1px solid black;\n",
       "    border-collapse: collapse;\n",
       "  }\n",
       "  th, td {\n",
       "    padding: 5px;\n",
       "  }\n",
       "  th {\n",
       "    text-align: left;\n",
       "  }\n",
       "</style><div class='table-result-container'><table class='table-result'><thead style='background-color: white'><tr><th>time</th><th>symbol</th><th>max_price</th><th>symbol_count</th></tr></thead><tbody><tr><td>Oct-19 09:17</td><td>SBIN.NS</td><td>571.05</td><td>1</td></tr><tr><td>Oct-19 09:17</td><td>HDFCBANK.NS</td><td>1518.7</td><td>1</td></tr><tr><td>Oct-19 09:18</td><td>ICICIBANK.NS</td><td>939.15</td><td>1</td></tr><tr><td>Oct-19 09:18</td><td>KOTAKBANK.NS</td><td>1740.45</td><td>1</td></tr><tr><td>Oct-19 09:18</td><td>RELIANCE.NS</td><td>2308.7</td><td>1</td></tr><tr><td>Oct-19 09:19</td><td>AXISBANK.NS</td><td>992.05</td><td>1</td></tr><tr><td>Oct-19 09:19</td><td>TCS.NS</td><td>3458.05</td><td>1</td></tr><tr><td>Oct-19 09:19</td><td>BAJFINANCE.NS</td><td>7866.75</td><td>1</td></tr><tr><td>Oct-19 09:20</td><td>SBIN.NS</td><td>570.85</td><td>1</td></tr><tr><td>Oct-19 09:20</td><td>HDFCBANK.NS</td><td>1517.7</td><td>1</td></tr><tr><td>Oct-19 09:20</td><td>ASIANPAINT.NS</td><td>3103.0</td><td>1</td></tr><tr><td>Oct-19 09:20</td><td>BRITANNIA.NS</td><td>4604.4</td><td>1</td></tr><tr><td>Oct-19 09:21</td><td>ICICIBANK.NS</td><td>939.05</td><td>1</td></tr><tr><td>Oct-19 09:21</td><td>KOTAKBANK.NS</td><td>1740.05</td><td>1</td></tr><tr><td>Oct-19 09:21</td><td>RELIANCE.NS</td><td>2308.05</td><td>1</td></tr><tr><td>Oct-19 09:21</td><td>TCS.NS</td><td>3459.0</td><td>1</td></tr><tr><td>Oct-19 09:22</td><td>AXISBANK.NS</td><td>991.55</td><td>1</td></tr><tr><td>Oct-19 09:22</td><td>ASIANPAINT.NS</td><td>3101.3</td><td>1</td></tr><tr><td>Oct-19 09:22</td><td>BRITANNIA.NS</td><td>4600.95</td><td>1</td></tr><tr><td>Oct-19 09:22</td><td>BAJFINANCE.NS</td><td>7867.55</td><td>1</td></tr><tr><td>Oct-19 09:23</td><td>SBIN.NS</td><td>570.85</td><td>1</td></tr><tr><td>Oct-19 09:23</td><td>ICICIBANK.NS</td><td>938.35</td><td>1</td></tr><tr><td>Oct-19 09:23</td><td>HDFCBANK.NS</td><td>1517.6</td><td>1</td></tr><tr><td>Oct-19 09:23</td><td>KOTAKBANK.NS</td><td>1738.7</td><td>1</td></tr><tr><td>Oct-19 09:24</td><td>AXISBANK.NS</td><td>991.4</td><td>1</td></tr><tr><td>Oct-19 09:24</td><td>RELIANCE.NS</td><td>2305.95</td><td>1</td></tr><tr><td>Oct-19 09:24</td><td>TCS.NS</td><td>3460.65</td><td>1</td></tr><tr><td>Oct-19 09:24</td><td>BAJFINANCE.NS</td><td>7869.5</td><td>1</td></tr><tr><td>Oct-19 09:25</td><td>SBIN.NS</td><td>570.95</td><td>1</td></tr><tr><td>Oct-19 09:25</td><td>ASIANPAINT.NS</td><td>3101.65</td><td>1</td></tr><tr><td>Oct-19 09:25</td><td>BRITANNIA.NS</td><td>4601.1</td><td>1</td></tr><tr><td>Oct-19 09:26</td><td>ICICIBANK.NS</td><td>938.8</td><td>1</td></tr><tr><td>Oct-19 09:26</td><td>HDFCBANK.NS</td><td>1516.8</td><td>1</td></tr><tr><td>Oct-19 09:26</td><td>KOTAKBANK.NS</td><td>1739.6</td><td>1</td></tr><tr><td>Oct-19 09:26</td><td>RELIANCE.NS</td><td>2307.55</td><td>1</td></tr><tr><td>Oct-19 09:27</td><td>AXISBANK.NS</td><td>991.85</td><td>1</td></tr><tr><td>Oct-19 09:27</td><td>TCS.NS</td><td>3459.95</td><td>1</td></tr><tr><td>Oct-19 09:27</td><td>BAJFINANCE.NS</td><td>7870.4</td><td>1</td></tr><tr><td>Oct-19 09:28</td><td>SBIN.NS</td><td>571.1</td><td>1</td></tr><tr><td>Oct-19 09:28</td><td>ASIANPAINT.NS</td><td>3103.55</td><td>1</td></tr><tr><td>Oct-19 09:28</td><td>BRITANNIA.NS</td><td>4603.4</td><td>1</td></tr><tr><td>Oct-19 09:29</td><td>ICICIBANK.NS</td><td>938.35</td><td>1</td></tr><tr><td>Oct-19 09:29</td><td>HDFCBANK.NS</td><td>1516.0</td><td>1</td></tr><tr><td>Oct-19 09:29</td><td>KOTAKBANK.NS</td><td>1739.3</td><td>1</td></tr><tr><td>Oct-19 09:29</td><td>RELIANCE.NS</td><td>2307.95</td><td>1</td></tr><tr><td>Oct-19 09:30</td><td>AXISBANK.NS</td><td>992.0</td><td>1</td></tr><tr><td>Oct-19 09:30</td><td>TCS.NS</td><td>3459.4</td><td>1</td></tr><tr><td>Oct-19 09:30</td><td>BAJFINANCE.NS</td><td>7872.05</td><td>1</td></tr><tr><td>Oct-19 09:31</td><td>SBIN.NS</td><td>571.15</td><td>1</td></tr><tr><td>Oct-19 09:31</td><td>HDFCBANK.NS</td><td>1515.05</td><td>1</td></tr><tr><td>Oct-19 09:31</td><td>ASIANPAINT.NS</td><td>3102.5</td><td>1</td></tr><tr><td>Oct-19 09:31</td><td>BRITANNIA.NS</td><td>4605.0</td><td>1</td></tr><tr><td>Oct-19 09:32</td><td>ICICIBANK.NS</td><td>938.2</td><td>1</td></tr><tr><td>Oct-19 09:32</td><td>KOTAKBANK.NS</td><td>1738.0</td><td>1</td></tr><tr><td>Oct-19 09:32</td><td>RELIANCE.NS</td><td>2309.15</td><td>1</td></tr><tr><td>Oct-19 09:32</td><td>TCS.NS</td><td>3460.15</td><td>1</td></tr><tr><td>Oct-19 09:33</td><td>AXISBANK.NS</td><td>991.4</td><td>1</td></tr><tr><td>Oct-19 09:33</td><td>BRITANNIA.NS</td><td>4602.7</td><td>1</td></tr><tr><td>Oct-19 09:33</td><td>BAJFINANCE.NS</td><td>7865.25</td><td>1</td></tr><tr><td>Oct-19 09:34</td><td>SBIN.NS</td><td>571.1</td><td>1</td></tr><tr><td>Oct-19 09:34</td><td>HDFCBANK.NS</td><td>1516.15</td><td>1</td></tr><tr><td>Oct-19 09:34</td><td>KOTAKBANK.NS</td><td>1738.2</td><td>1</td></tr><tr><td>Oct-19 09:34</td><td>ASIANPAINT.NS</td><td>3102.85</td><td>1</td></tr><tr><td>Oct-19 09:35</td><td>ICICIBANK.NS</td><td>937.9</td><td>1</td></tr><tr><td>Oct-19 09:35</td><td>AXISBANK.NS</td><td>991.4</td><td>1</td></tr><tr><td>Oct-19 09:35</td><td>RELIANCE.NS</td><td>2310.25</td><td>1</td></tr><tr><td>Oct-19 09:35</td><td>TCS.NS</td><td>3458.0</td><td>1</td></tr><tr><td>Oct-19 09:36</td><td>SBIN.NS</td><td>572.05</td><td>1</td></tr><tr><td>Oct-19 09:36</td><td>ASIANPAINT.NS</td><td>3102.65</td><td>1</td></tr><tr><td>Oct-19 09:36</td><td>BRITANNIA.NS</td><td>4598.45</td><td>1</td></tr><tr><td>Oct-19 09:36</td><td>BAJFINANCE.NS</td><td>7854.6</td><td>1</td></tr><tr><td>Oct-19 09:37</td><td>ICICIBANK.NS</td><td>937.85</td><td>1</td></tr><tr><td>Oct-19 09:37</td><td>HDFCBANK.NS</td><td>1516.25</td><td>1</td></tr><tr><td>Oct-19 09:37</td><td>KOTAKBANK.NS</td><td>1740.35</td><td>1</td></tr><tr><td>Oct-19 09:37</td><td>RELIANCE.NS</td><td>2309.35</td><td>1</td></tr><tr><td>Oct-19 09:38</td><td>AXISBANK.NS</td><td>992.1</td><td>1</td></tr><tr><td>Oct-19 09:38</td><td>TCS.NS</td><td>3457.0</td><td>1</td></tr><tr><td>Oct-19 09:38</td><td>BRITANNIA.NS</td><td>4600.25</td><td>1</td></tr><tr><td>Oct-19 09:38</td><td>BAJFINANCE.NS</td><td>7860.55</td><td>1</td></tr><tr><td>Oct-19 09:39</td><td>SBIN.NS</td><td>571.75</td><td>1</td></tr><tr><td>Oct-19 09:39</td><td>HDFCBANK.NS</td><td>1515.2</td><td>1</td></tr><tr><td>Oct-19 09:39</td><td>KOTAKBANK.NS</td><td>1738.8</td><td>1</td></tr><tr><td>Oct-19 09:39</td><td>ASIANPAINT.NS</td><td>3103.0</td><td>1</td></tr><tr><td>Oct-19 09:40</td><td>ICICIBANK.NS</td><td>935.55</td><td>1</td></tr><tr><td>Oct-19 09:40</td><td>RELIANCE.NS</td><td>2309.0</td><td>1</td></tr><tr><td>Oct-19 09:40</td><td>TCS.NS</td><td>3456.8</td><td>1</td></tr><tr><td>Oct-19 09:41</td><td>AXISBANK.NS</td><td>991.8</td><td>1</td></tr><tr><td>Oct-19 09:41</td><td>ASIANPAINT.NS</td><td>3101.7</td><td>1</td></tr><tr><td>Oct-19 09:41</td><td>BRITANNIA.NS</td><td>4600.05</td><td>1</td></tr><tr><td>Oct-19 09:41</td><td>BAJFINANCE.NS</td><td>7842.05</td><td>1</td></tr><tr><td>Oct-19 09:42</td><td>SBIN.NS</td><td>571.3</td><td>1</td></tr><tr><td>Oct-19 09:42</td><td>ICICIBANK.NS</td><td>936.1</td><td>1</td></tr><tr><td>Oct-19 09:42</td><td>HDFCBANK.NS</td><td>1515.05</td><td>1</td></tr><tr><td>Oct-19 09:42</td><td>KOTAKBANK.NS</td><td>1737.85</td><td>1</td></tr><tr><td>Oct-19 09:43</td><td>AXISBANK.NS</td><td>991.65</td><td>1</td></tr><tr><td>Oct-19 09:43</td><td>RELIANCE.NS</td><td>2306.3</td><td>1</td></tr><tr><td>Oct-19 09:43</td><td>TCS.NS</td><td>3456.35</td><td>1</td></tr><tr><td>Oct-19 09:43</td><td>BAJFINANCE.NS</td><td>7840.85</td><td>1</td></tr><tr><td>Oct-19 09:44</td><td>SBIN.NS</td><td>570.95</td><td>1</td></tr><tr><td>Oct-19 09:44</td><td>HDFCBANK.NS</td><td>1515.0</td><td>1</td></tr><tr><td>Oct-19 09:44</td><td>ASIANPAINT.NS</td><td>3102.55</td><td>1</td></tr><tr><td>Oct-19 09:44</td><td>BRITANNIA.NS</td><td>4600.0</td><td>1</td></tr><tr><td>Oct-19 09:45</td><td>ICICIBANK.NS</td><td>935.05</td><td>1</td></tr><tr><td>Oct-19 09:45</td><td>KOTAKBANK.NS</td><td>1737.75</td><td>1</td></tr><tr><td>Oct-19 09:45</td><td>RELIANCE.NS</td><td>2305.35</td><td>1</td></tr><tr><td>Oct-19 09:45</td><td>TCS.NS</td><td>3456.0</td><td>1</td></tr><tr><td>Oct-19 09:46</td><td>AXISBANK.NS</td><td>991.35</td><td>1</td></tr><tr><td>Oct-19 09:46</td><td>ASIANPAINT.NS</td><td>3102.05</td><td>1</td></tr><tr><td>Oct-19 09:46</td><td>BRITANNIA.NS</td><td>4599.35</td><td>1</td></tr><tr><td>Oct-19 09:46</td><td>BAJFINANCE.NS</td><td>7838.25</td><td>1</td></tr><tr><td>Oct-19 09:47</td><td>SBIN.NS</td><td>571.15</td><td>1</td></tr><tr><td>Oct-19 09:47</td><td>ICICIBANK.NS</td><td>934.75</td><td>1</td></tr><tr><td>Oct-19 09:47</td><td>HDFCBANK.NS</td><td>1515.2</td><td>1</td></tr><tr><td>Oct-19 09:47</td><td>KOTAKBANK.NS</td><td>1736.35</td><td>1</td></tr><tr><td>Oct-19 09:48</td><td>AXISBANK.NS</td><td>991.05</td><td>1</td></tr><tr><td>Oct-19 09:48</td><td>RELIANCE.NS</td><td>2306.85</td><td>1</td></tr><tr><td>Oct-19 09:48</td><td>TCS.NS</td><td>3455.0</td><td>1</td></tr><tr><td>Oct-19 09:49</td><td>BRITANNIA.NS</td><td>4603.85</td><td>1</td></tr><tr><td>Oct-19 09:49</td><td>BAJFINANCE.NS</td><td>7829.5</td><td>1</td></tr><tr><td>Oct-19 09:50</td><td>SBIN.NS</td><td>571.1</td><td>1</td></tr><tr><td>Oct-19 09:50</td><td>HDFCBANK.NS</td><td>1515.05</td><td>1</td></tr><tr><td>Oct-19 09:50</td><td>ASIANPAINT.NS</td><td>3100.8</td><td>1</td></tr><tr><td>Oct-19 09:51</td><td>ICICIBANK.NS</td><td>934.9</td><td>1</td></tr><tr><td>Oct-19 09:51</td><td>KOTAKBANK.NS</td><td>1737.9</td><td>1</td></tr><tr><td>Oct-19 09:51</td><td>RELIANCE.NS</td><td>2305.05</td><td>1</td></tr><tr><td>Oct-19 09:51</td><td>TCS.NS</td><td>3455.0</td><td>1</td></tr><tr><td>Oct-19 09:52</td><td>AXISBANK.NS</td><td>991.05</td><td>1</td></tr><tr><td>Oct-19 09:52</td><td>ASIANPAINT.NS</td><td>3101.7</td><td>1</td></tr><tr><td>Oct-19 09:52</td><td>BRITANNIA.NS</td><td>4603.1</td><td>1</td></tr><tr><td>Oct-19 09:52</td><td>BAJFINANCE.NS</td><td>7829.7</td><td>1</td></tr><tr><td>Oct-19 09:53</td><td>SBIN.NS</td><td>571.1</td><td>1</td></tr><tr><td>Oct-19 09:53</td><td>ICICIBANK.NS</td><td>934.6</td><td>1</td></tr><tr><td>Oct-19 09:53</td><td>HDFCBANK.NS</td><td>1513.45</td><td>1</td></tr><tr><td>Oct-19 09:53</td><td>KOTAKBANK.NS</td><td>1740.1</td><td>1</td></tr><tr><td>Oct-19 09:54</td><td>AXISBANK.NS</td><td>991.15</td><td>1</td></tr><tr><td>Oct-19 09:54</td><td>RELIANCE.NS</td><td>2303.35</td><td>1</td></tr><tr><td>Oct-19 09:54</td><td>TCS.NS</td><td>3454.1</td><td>1</td></tr><tr><td>Oct-19 09:54</td><td>BAJFINANCE.NS</td><td>7824.9</td><td>1</td></tr><tr><td>Oct-19 09:55</td><td>SBIN.NS</td><td>571.0</td><td>1</td></tr><tr><td>Oct-19 09:55</td><td>ASIANPAINT.NS</td><td>3100.45</td><td>1</td></tr><tr><td>Oct-19 09:55</td><td>BRITANNIA.NS</td><td>4609.15</td><td>1</td></tr><tr><td>Oct-19 09:56</td><td>ICICIBANK.NS</td><td>934.85</td><td>1</td></tr><tr><td>Oct-19 09:56</td><td>HDFCBANK.NS</td><td>1513.8</td><td>1</td></tr><tr><td>Oct-19 09:56</td><td>KOTAKBANK.NS</td><td>1739.9</td><td>1</td></tr><tr><td>Oct-19 09:57</td><td>AXISBANK.NS</td><td>990.95</td><td>1</td></tr><tr><td>Oct-19 09:57</td><td>RELIANCE.NS</td><td>2303.4</td><td>1</td></tr><tr><td>Oct-19 09:57</td><td>TCS.NS</td><td>3452.75</td><td>1</td></tr><tr><td>Oct-19 09:57</td><td>BRITANNIA.NS</td><td>4607.25</td><td>1</td></tr><tr><td>Oct-19 09:57</td><td>BAJFINANCE.NS</td><td>7820.8</td><td>1</td></tr><tr><td>Oct-19 09:58</td><td>SBIN.NS</td><td>571.2</td><td>1</td></tr><tr><td>Oct-19 09:58</td><td>HDFCBANK.NS</td><td>1514.3</td><td>1</td></tr><tr><td>Oct-19 09:58</td><td>KOTAKBANK.NS</td><td>1737.0</td><td>1</td></tr><tr><td>Oct-19 09:58</td><td>ASIANPAINT.NS</td><td>3099.25</td><td>1</td></tr><tr><td>Oct-19 09:59</td><td>ICICIBANK.NS</td><td>934.85</td><td>1</td></tr><tr><td>Oct-19 09:59</td><td>AXISBANK.NS</td><td>990.95</td><td>1</td></tr><tr><td>Oct-19 09:59</td><td>RELIANCE.NS</td><td>2302.0</td><td>1</td></tr><tr><td>Oct-19 09:59</td><td>TCS.NS</td><td>3453.9</td><td>1</td></tr><tr><td>Oct-19 10:00</td><td>SBIN.NS</td><td>571.3</td><td>1</td></tr><tr><td>Oct-19 10:00</td><td>ASIANPAINT.NS</td><td>3101.0</td><td>1</td></tr><tr><td>Oct-19 10:00</td><td>BRITANNIA.NS</td><td>4607.0</td><td>1</td></tr><tr><td>Oct-19 10:00</td><td>BAJFINANCE.NS</td><td>7818.1</td><td>1</td></tr><tr><td>Oct-19 10:01</td><td>ICICIBANK.NS</td><td>934.85</td><td>1</td></tr><tr><td>Oct-19 10:01</td><td>HDFCBANK.NS</td><td>1514.5</td><td>1</td></tr><tr><td>Oct-19 10:01</td><td>KOTAKBANK.NS</td><td>1738.65</td><td>1</td></tr><tr><td>Oct-19 10:01</td><td>RELIANCE.NS</td><td>2304.65</td><td>1</td></tr><tr><td>Oct-19 10:02</td><td>AXISBANK.NS</td><td>993.15</td><td>1</td></tr><tr><td>Oct-19 10:02</td><td>TCS.NS</td><td>3454.8</td><td>1</td></tr><tr><td>Oct-19 10:02</td><td>BRITANNIA.NS</td><td>4608.0</td><td>1</td></tr><tr><td>Oct-19 10:02</td><td>BAJFINANCE.NS</td><td>7822.4</td><td>1</td></tr><tr><td>Oct-19 10:03</td><td>SBIN.NS</td><td>571.2</td><td>1</td></tr><tr><td>Oct-19 10:03</td><td>HDFCBANK.NS</td><td>1514.95</td><td>1</td></tr><tr><td>Oct-19 10:03</td><td>KOTAKBANK.NS</td><td>1738.45</td><td>1</td></tr><tr><td>Oct-19 10:03</td><td>ASIANPAINT.NS</td><td>3101.0</td><td>1</td></tr><tr><td>Oct-19 10:04</td><td>ICICIBANK.NS</td><td>935.75</td><td>1</td></tr><tr><td>Oct-19 10:04</td><td>RELIANCE.NS</td><td>2306.15</td><td>1</td></tr><tr><td>Oct-19 10:04</td><td>TCS.NS</td><td>3455.65</td><td>1</td></tr><tr><td>Oct-19 10:05</td><td>AXISBANK.NS</td><td>991.4</td><td>1</td></tr><tr><td>Oct-19 10:05</td><td>ASIANPAINT.NS</td><td>3101.8</td><td>1</td></tr><tr><td>Oct-19 10:05</td><td>BRITANNIA.NS</td><td>4602.45</td><td>1</td></tr><tr><td>Oct-19 10:05</td><td>BAJFINANCE.NS</td><td>7841.55</td><td>1</td></tr><tr><td>Oct-19 10:06</td><td>SBIN.NS</td><td>571.2</td><td>1</td></tr><tr><td>Oct-19 10:06</td><td>ICICIBANK.NS</td><td>935.75</td><td>1</td></tr><tr><td>Oct-19 10:06</td><td>HDFCBANK.NS</td><td>1514.95</td><td>1</td></tr><tr><td>Oct-19 10:06</td><td>KOTAKBANK.NS</td><td>1738.45</td><td>1</td></tr><tr><td>Oct-19 10:07</td><td>AXISBANK.NS</td><td>991.4</td><td>1</td></tr><tr><td>Oct-19 10:07</td><td>RELIANCE.NS</td><td>2306.15</td><td>1</td></tr><tr><td>Oct-19 10:07</td><td>TCS.NS</td><td>3455.65</td><td>1</td></tr><tr><td>Oct-19 10:08</td><td>SBIN.NS</td><td>571.2</td><td>1</td></tr><tr><td>Oct-19 10:08</td><td>ASIANPAINT.NS</td><td>3101.8</td><td>1</td></tr><tr><td>Oct-19 10:08</td><td>BRITANNIA.NS</td><td>4602.45</td><td>1</td></tr><tr><td>Oct-19 10:08</td><td>BAJFINANCE.NS</td><td>7841.55</td><td>1</td></tr><tr><td>Oct-19 10:09</td><td>ICICIBANK.NS</td><td>935.75</td><td>1</td></tr><tr><td>Oct-19 10:09</td><td>HDFCBANK.NS</td><td>1514.95</td><td>1</td></tr><tr><td>Oct-19 10:09</td><td>KOTAKBANK.NS</td><td>1738.45</td><td>1</td></tr><tr><td>Oct-19 10:10</td><td>AXISBANK.NS</td><td>991.4</td><td>1</td></tr><tr><td>Oct-19 10:10</td><td>RELIANCE.NS</td><td>2306.15</td><td>1</td></tr><tr><td>Oct-19 10:10</td><td>TCS.NS</td><td>3455.65</td><td>1</td></tr><tr><td>Oct-19 10:10</td><td>BAJFINANCE.NS</td><td>7841.55</td><td>1</td></tr><tr><td>Oct-19 10:11</td><td>ASIANPAINT.NS</td><td>3101.8</td><td>1</td></tr><tr><td>Oct-19 10:11</td><td>BRITANNIA.NS</td><td>4602.45</td><td>1</td></tr></tbody></table></div>"
      ]
     },
     "metadata": {
      "application/vnd.databricks.v1+output": {
       "addedWidgets": {},
       "aggData": [],
       "aggError": "",
       "aggOverflow": false,
       "aggSchema": [],
       "aggSeriesLimitReached": false,
       "aggType": "",
       "arguments": {},
       "columnCustomDisplayInfos": {},
       "data": [
        [
         "Oct-19 09:17",
         "SBIN.NS",
         571.05,
         1
        ],
        [
         "Oct-19 09:17",
         "HDFCBANK.NS",
         1518.7,
         1
        ],
        [
         "Oct-19 09:18",
         "ICICIBANK.NS",
         939.15,
         1
        ],
        [
         "Oct-19 09:18",
         "KOTAKBANK.NS",
         1740.45,
         1
        ],
        [
         "Oct-19 09:18",
         "RELIANCE.NS",
         2308.7,
         1
        ],
        [
         "Oct-19 09:19",
         "AXISBANK.NS",
         992.05,
         1
        ],
        [
         "Oct-19 09:19",
         "TCS.NS",
         3458.05,
         1
        ],
        [
         "Oct-19 09:19",
         "BAJFINANCE.NS",
         7866.75,
         1
        ],
        [
         "Oct-19 09:20",
         "SBIN.NS",
         570.85,
         1
        ],
        [
         "Oct-19 09:20",
         "HDFCBANK.NS",
         1517.7,
         1
        ],
        [
         "Oct-19 09:20",
         "ASIANPAINT.NS",
         3103.0,
         1
        ],
        [
         "Oct-19 09:20",
         "BRITANNIA.NS",
         4604.4,
         1
        ],
        [
         "Oct-19 09:21",
         "ICICIBANK.NS",
         939.05,
         1
        ],
        [
         "Oct-19 09:21",
         "KOTAKBANK.NS",
         1740.05,
         1
        ],
        [
         "Oct-19 09:21",
         "RELIANCE.NS",
         2308.05,
         1
        ],
        [
         "Oct-19 09:21",
         "TCS.NS",
         3459.0,
         1
        ],
        [
         "Oct-19 09:22",
         "AXISBANK.NS",
         991.55,
         1
        ],
        [
         "Oct-19 09:22",
         "ASIANPAINT.NS",
         3101.3,
         1
        ],
        [
         "Oct-19 09:22",
         "BRITANNIA.NS",
         4600.95,
         1
        ],
        [
         "Oct-19 09:22",
         "BAJFINANCE.NS",
         7867.55,
         1
        ],
        [
         "Oct-19 09:23",
         "SBIN.NS",
         570.85,
         1
        ],
        [
         "Oct-19 09:23",
         "ICICIBANK.NS",
         938.35,
         1
        ],
        [
         "Oct-19 09:23",
         "HDFCBANK.NS",
         1517.6,
         1
        ],
        [
         "Oct-19 09:23",
         "KOTAKBANK.NS",
         1738.7,
         1
        ],
        [
         "Oct-19 09:24",
         "AXISBANK.NS",
         991.4,
         1
        ],
        [
         "Oct-19 09:24",
         "RELIANCE.NS",
         2305.95,
         1
        ],
        [
         "Oct-19 09:24",
         "TCS.NS",
         3460.65,
         1
        ],
        [
         "Oct-19 09:24",
         "BAJFINANCE.NS",
         7869.5,
         1
        ],
        [
         "Oct-19 09:25",
         "SBIN.NS",
         570.95,
         1
        ],
        [
         "Oct-19 09:25",
         "ASIANPAINT.NS",
         3101.65,
         1
        ],
        [
         "Oct-19 09:25",
         "BRITANNIA.NS",
         4601.1,
         1
        ],
        [
         "Oct-19 09:26",
         "ICICIBANK.NS",
         938.8,
         1
        ],
        [
         "Oct-19 09:26",
         "HDFCBANK.NS",
         1516.8,
         1
        ],
        [
         "Oct-19 09:26",
         "KOTAKBANK.NS",
         1739.6,
         1
        ],
        [
         "Oct-19 09:26",
         "RELIANCE.NS",
         2307.55,
         1
        ],
        [
         "Oct-19 09:27",
         "AXISBANK.NS",
         991.85,
         1
        ],
        [
         "Oct-19 09:27",
         "TCS.NS",
         3459.95,
         1
        ],
        [
         "Oct-19 09:27",
         "BAJFINANCE.NS",
         7870.4,
         1
        ],
        [
         "Oct-19 09:28",
         "SBIN.NS",
         571.1,
         1
        ],
        [
         "Oct-19 09:28",
         "ASIANPAINT.NS",
         3103.55,
         1
        ],
        [
         "Oct-19 09:28",
         "BRITANNIA.NS",
         4603.4,
         1
        ],
        [
         "Oct-19 09:29",
         "ICICIBANK.NS",
         938.35,
         1
        ],
        [
         "Oct-19 09:29",
         "HDFCBANK.NS",
         1516.0,
         1
        ],
        [
         "Oct-19 09:29",
         "KOTAKBANK.NS",
         1739.3,
         1
        ],
        [
         "Oct-19 09:29",
         "RELIANCE.NS",
         2307.95,
         1
        ],
        [
         "Oct-19 09:30",
         "AXISBANK.NS",
         992.0,
         1
        ],
        [
         "Oct-19 09:30",
         "TCS.NS",
         3459.4,
         1
        ],
        [
         "Oct-19 09:30",
         "BAJFINANCE.NS",
         7872.05,
         1
        ],
        [
         "Oct-19 09:31",
         "SBIN.NS",
         571.15,
         1
        ],
        [
         "Oct-19 09:31",
         "HDFCBANK.NS",
         1515.05,
         1
        ],
        [
         "Oct-19 09:31",
         "ASIANPAINT.NS",
         3102.5,
         1
        ],
        [
         "Oct-19 09:31",
         "BRITANNIA.NS",
         4605.0,
         1
        ],
        [
         "Oct-19 09:32",
         "ICICIBANK.NS",
         938.2,
         1
        ],
        [
         "Oct-19 09:32",
         "KOTAKBANK.NS",
         1738.0,
         1
        ],
        [
         "Oct-19 09:32",
         "RELIANCE.NS",
         2309.15,
         1
        ],
        [
         "Oct-19 09:32",
         "TCS.NS",
         3460.15,
         1
        ],
        [
         "Oct-19 09:33",
         "AXISBANK.NS",
         991.4,
         1
        ],
        [
         "Oct-19 09:33",
         "BRITANNIA.NS",
         4602.7,
         1
        ],
        [
         "Oct-19 09:33",
         "BAJFINANCE.NS",
         7865.25,
         1
        ],
        [
         "Oct-19 09:34",
         "SBIN.NS",
         571.1,
         1
        ],
        [
         "Oct-19 09:34",
         "HDFCBANK.NS",
         1516.15,
         1
        ],
        [
         "Oct-19 09:34",
         "KOTAKBANK.NS",
         1738.2,
         1
        ],
        [
         "Oct-19 09:34",
         "ASIANPAINT.NS",
         3102.85,
         1
        ],
        [
         "Oct-19 09:35",
         "ICICIBANK.NS",
         937.9,
         1
        ],
        [
         "Oct-19 09:35",
         "AXISBANK.NS",
         991.4,
         1
        ],
        [
         "Oct-19 09:35",
         "RELIANCE.NS",
         2310.25,
         1
        ],
        [
         "Oct-19 09:35",
         "TCS.NS",
         3458.0,
         1
        ],
        [
         "Oct-19 09:36",
         "SBIN.NS",
         572.05,
         1
        ],
        [
         "Oct-19 09:36",
         "ASIANPAINT.NS",
         3102.65,
         1
        ],
        [
         "Oct-19 09:36",
         "BRITANNIA.NS",
         4598.45,
         1
        ],
        [
         "Oct-19 09:36",
         "BAJFINANCE.NS",
         7854.6,
         1
        ],
        [
         "Oct-19 09:37",
         "ICICIBANK.NS",
         937.85,
         1
        ],
        [
         "Oct-19 09:37",
         "HDFCBANK.NS",
         1516.25,
         1
        ],
        [
         "Oct-19 09:37",
         "KOTAKBANK.NS",
         1740.35,
         1
        ],
        [
         "Oct-19 09:37",
         "RELIANCE.NS",
         2309.35,
         1
        ],
        [
         "Oct-19 09:38",
         "AXISBANK.NS",
         992.1,
         1
        ],
        [
         "Oct-19 09:38",
         "TCS.NS",
         3457.0,
         1
        ],
        [
         "Oct-19 09:38",
         "BRITANNIA.NS",
         4600.25,
         1
        ],
        [
         "Oct-19 09:38",
         "BAJFINANCE.NS",
         7860.55,
         1
        ],
        [
         "Oct-19 09:39",
         "SBIN.NS",
         571.75,
         1
        ],
        [
         "Oct-19 09:39",
         "HDFCBANK.NS",
         1515.2,
         1
        ],
        [
         "Oct-19 09:39",
         "KOTAKBANK.NS",
         1738.8,
         1
        ],
        [
         "Oct-19 09:39",
         "ASIANPAINT.NS",
         3103.0,
         1
        ],
        [
         "Oct-19 09:40",
         "ICICIBANK.NS",
         935.55,
         1
        ],
        [
         "Oct-19 09:40",
         "RELIANCE.NS",
         2309.0,
         1
        ],
        [
         "Oct-19 09:40",
         "TCS.NS",
         3456.8,
         1
        ],
        [
         "Oct-19 09:41",
         "AXISBANK.NS",
         991.8,
         1
        ],
        [
         "Oct-19 09:41",
         "ASIANPAINT.NS",
         3101.7,
         1
        ],
        [
         "Oct-19 09:41",
         "BRITANNIA.NS",
         4600.05,
         1
        ],
        [
         "Oct-19 09:41",
         "BAJFINANCE.NS",
         7842.05,
         1
        ],
        [
         "Oct-19 09:42",
         "SBIN.NS",
         571.3,
         1
        ],
        [
         "Oct-19 09:42",
         "ICICIBANK.NS",
         936.1,
         1
        ],
        [
         "Oct-19 09:42",
         "HDFCBANK.NS",
         1515.05,
         1
        ],
        [
         "Oct-19 09:42",
         "KOTAKBANK.NS",
         1737.85,
         1
        ],
        [
         "Oct-19 09:43",
         "AXISBANK.NS",
         991.65,
         1
        ],
        [
         "Oct-19 09:43",
         "RELIANCE.NS",
         2306.3,
         1
        ],
        [
         "Oct-19 09:43",
         "TCS.NS",
         3456.35,
         1
        ],
        [
         "Oct-19 09:43",
         "BAJFINANCE.NS",
         7840.85,
         1
        ],
        [
         "Oct-19 09:44",
         "SBIN.NS",
         570.95,
         1
        ],
        [
         "Oct-19 09:44",
         "HDFCBANK.NS",
         1515.0,
         1
        ],
        [
         "Oct-19 09:44",
         "ASIANPAINT.NS",
         3102.55,
         1
        ],
        [
         "Oct-19 09:44",
         "BRITANNIA.NS",
         4600.0,
         1
        ],
        [
         "Oct-19 09:45",
         "ICICIBANK.NS",
         935.05,
         1
        ],
        [
         "Oct-19 09:45",
         "KOTAKBANK.NS",
         1737.75,
         1
        ],
        [
         "Oct-19 09:45",
         "RELIANCE.NS",
         2305.35,
         1
        ],
        [
         "Oct-19 09:45",
         "TCS.NS",
         3456.0,
         1
        ],
        [
         "Oct-19 09:46",
         "AXISBANK.NS",
         991.35,
         1
        ],
        [
         "Oct-19 09:46",
         "ASIANPAINT.NS",
         3102.05,
         1
        ],
        [
         "Oct-19 09:46",
         "BRITANNIA.NS",
         4599.35,
         1
        ],
        [
         "Oct-19 09:46",
         "BAJFINANCE.NS",
         7838.25,
         1
        ],
        [
         "Oct-19 09:47",
         "SBIN.NS",
         571.15,
         1
        ],
        [
         "Oct-19 09:47",
         "ICICIBANK.NS",
         934.75,
         1
        ],
        [
         "Oct-19 09:47",
         "HDFCBANK.NS",
         1515.2,
         1
        ],
        [
         "Oct-19 09:47",
         "KOTAKBANK.NS",
         1736.35,
         1
        ],
        [
         "Oct-19 09:48",
         "AXISBANK.NS",
         991.05,
         1
        ],
        [
         "Oct-19 09:48",
         "RELIANCE.NS",
         2306.85,
         1
        ],
        [
         "Oct-19 09:48",
         "TCS.NS",
         3455.0,
         1
        ],
        [
         "Oct-19 09:49",
         "BRITANNIA.NS",
         4603.85,
         1
        ],
        [
         "Oct-19 09:49",
         "BAJFINANCE.NS",
         7829.5,
         1
        ],
        [
         "Oct-19 09:50",
         "SBIN.NS",
         571.1,
         1
        ],
        [
         "Oct-19 09:50",
         "HDFCBANK.NS",
         1515.05,
         1
        ],
        [
         "Oct-19 09:50",
         "ASIANPAINT.NS",
         3100.8,
         1
        ],
        [
         "Oct-19 09:51",
         "ICICIBANK.NS",
         934.9,
         1
        ],
        [
         "Oct-19 09:51",
         "KOTAKBANK.NS",
         1737.9,
         1
        ],
        [
         "Oct-19 09:51",
         "RELIANCE.NS",
         2305.05,
         1
        ],
        [
         "Oct-19 09:51",
         "TCS.NS",
         3455.0,
         1
        ],
        [
         "Oct-19 09:52",
         "AXISBANK.NS",
         991.05,
         1
        ],
        [
         "Oct-19 09:52",
         "ASIANPAINT.NS",
         3101.7,
         1
        ],
        [
         "Oct-19 09:52",
         "BRITANNIA.NS",
         4603.1,
         1
        ],
        [
         "Oct-19 09:52",
         "BAJFINANCE.NS",
         7829.7,
         1
        ],
        [
         "Oct-19 09:53",
         "SBIN.NS",
         571.1,
         1
        ],
        [
         "Oct-19 09:53",
         "ICICIBANK.NS",
         934.6,
         1
        ],
        [
         "Oct-19 09:53",
         "HDFCBANK.NS",
         1513.45,
         1
        ],
        [
         "Oct-19 09:53",
         "KOTAKBANK.NS",
         1740.1,
         1
        ],
        [
         "Oct-19 09:54",
         "AXISBANK.NS",
         991.15,
         1
        ],
        [
         "Oct-19 09:54",
         "RELIANCE.NS",
         2303.35,
         1
        ],
        [
         "Oct-19 09:54",
         "TCS.NS",
         3454.1,
         1
        ],
        [
         "Oct-19 09:54",
         "BAJFINANCE.NS",
         7824.9,
         1
        ],
        [
         "Oct-19 09:55",
         "SBIN.NS",
         571.0,
         1
        ],
        [
         "Oct-19 09:55",
         "ASIANPAINT.NS",
         3100.45,
         1
        ],
        [
         "Oct-19 09:55",
         "BRITANNIA.NS",
         4609.15,
         1
        ],
        [
         "Oct-19 09:56",
         "ICICIBANK.NS",
         934.85,
         1
        ],
        [
         "Oct-19 09:56",
         "HDFCBANK.NS",
         1513.8,
         1
        ],
        [
         "Oct-19 09:56",
         "KOTAKBANK.NS",
         1739.9,
         1
        ],
        [
         "Oct-19 09:57",
         "AXISBANK.NS",
         990.95,
         1
        ],
        [
         "Oct-19 09:57",
         "RELIANCE.NS",
         2303.4,
         1
        ],
        [
         "Oct-19 09:57",
         "TCS.NS",
         3452.75,
         1
        ],
        [
         "Oct-19 09:57",
         "BRITANNIA.NS",
         4607.25,
         1
        ],
        [
         "Oct-19 09:57",
         "BAJFINANCE.NS",
         7820.8,
         1
        ],
        [
         "Oct-19 09:58",
         "SBIN.NS",
         571.2,
         1
        ],
        [
         "Oct-19 09:58",
         "HDFCBANK.NS",
         1514.3,
         1
        ],
        [
         "Oct-19 09:58",
         "KOTAKBANK.NS",
         1737.0,
         1
        ],
        [
         "Oct-19 09:58",
         "ASIANPAINT.NS",
         3099.25,
         1
        ],
        [
         "Oct-19 09:59",
         "ICICIBANK.NS",
         934.85,
         1
        ],
        [
         "Oct-19 09:59",
         "AXISBANK.NS",
         990.95,
         1
        ],
        [
         "Oct-19 09:59",
         "RELIANCE.NS",
         2302.0,
         1
        ],
        [
         "Oct-19 09:59",
         "TCS.NS",
         3453.9,
         1
        ],
        [
         "Oct-19 10:00",
         "SBIN.NS",
         571.3,
         1
        ],
        [
         "Oct-19 10:00",
         "ASIANPAINT.NS",
         3101.0,
         1
        ],
        [
         "Oct-19 10:00",
         "BRITANNIA.NS",
         4607.0,
         1
        ],
        [
         "Oct-19 10:00",
         "BAJFINANCE.NS",
         7818.1,
         1
        ],
        [
         "Oct-19 10:01",
         "ICICIBANK.NS",
         934.85,
         1
        ],
        [
         "Oct-19 10:01",
         "HDFCBANK.NS",
         1514.5,
         1
        ],
        [
         "Oct-19 10:01",
         "KOTAKBANK.NS",
         1738.65,
         1
        ],
        [
         "Oct-19 10:01",
         "RELIANCE.NS",
         2304.65,
         1
        ],
        [
         "Oct-19 10:02",
         "AXISBANK.NS",
         993.15,
         1
        ],
        [
         "Oct-19 10:02",
         "TCS.NS",
         3454.8,
         1
        ],
        [
         "Oct-19 10:02",
         "BRITANNIA.NS",
         4608.0,
         1
        ],
        [
         "Oct-19 10:02",
         "BAJFINANCE.NS",
         7822.4,
         1
        ],
        [
         "Oct-19 10:03",
         "SBIN.NS",
         571.2,
         1
        ],
        [
         "Oct-19 10:03",
         "HDFCBANK.NS",
         1514.95,
         1
        ],
        [
         "Oct-19 10:03",
         "KOTAKBANK.NS",
         1738.45,
         1
        ],
        [
         "Oct-19 10:03",
         "ASIANPAINT.NS",
         3101.0,
         1
        ],
        [
         "Oct-19 10:04",
         "ICICIBANK.NS",
         935.75,
         1
        ],
        [
         "Oct-19 10:04",
         "RELIANCE.NS",
         2306.15,
         1
        ],
        [
         "Oct-19 10:04",
         "TCS.NS",
         3455.65,
         1
        ],
        [
         "Oct-19 10:05",
         "AXISBANK.NS",
         991.4,
         1
        ],
        [
         "Oct-19 10:05",
         "ASIANPAINT.NS",
         3101.8,
         1
        ],
        [
         "Oct-19 10:05",
         "BRITANNIA.NS",
         4602.45,
         1
        ],
        [
         "Oct-19 10:05",
         "BAJFINANCE.NS",
         7841.55,
         1
        ],
        [
         "Oct-19 10:06",
         "SBIN.NS",
         571.2,
         1
        ],
        [
         "Oct-19 10:06",
         "ICICIBANK.NS",
         935.75,
         1
        ],
        [
         "Oct-19 10:06",
         "HDFCBANK.NS",
         1514.95,
         1
        ],
        [
         "Oct-19 10:06",
         "KOTAKBANK.NS",
         1738.45,
         1
        ],
        [
         "Oct-19 10:07",
         "AXISBANK.NS",
         991.4,
         1
        ],
        [
         "Oct-19 10:07",
         "RELIANCE.NS",
         2306.15,
         1
        ],
        [
         "Oct-19 10:07",
         "TCS.NS",
         3455.65,
         1
        ],
        [
         "Oct-19 10:08",
         "SBIN.NS",
         571.2,
         1
        ],
        [
         "Oct-19 10:08",
         "ASIANPAINT.NS",
         3101.8,
         1
        ],
        [
         "Oct-19 10:08",
         "BRITANNIA.NS",
         4602.45,
         1
        ],
        [
         "Oct-19 10:08",
         "BAJFINANCE.NS",
         7841.55,
         1
        ],
        [
         "Oct-19 10:09",
         "ICICIBANK.NS",
         935.75,
         1
        ],
        [
         "Oct-19 10:09",
         "HDFCBANK.NS",
         1514.95,
         1
        ],
        [
         "Oct-19 10:09",
         "KOTAKBANK.NS",
         1738.45,
         1
        ],
        [
         "Oct-19 10:10",
         "AXISBANK.NS",
         991.4,
         1
        ],
        [
         "Oct-19 10:10",
         "RELIANCE.NS",
         2306.15,
         1
        ],
        [
         "Oct-19 10:10",
         "TCS.NS",
         3455.65,
         1
        ],
        [
         "Oct-19 10:10",
         "BAJFINANCE.NS",
         7841.55,
         1
        ],
        [
         "Oct-19 10:11",
         "ASIANPAINT.NS",
         3101.8,
         1
        ],
        [
         "Oct-19 10:11",
         "BRITANNIA.NS",
         4602.45,
         1
        ]
       ],
       "datasetInfos": [],
       "dbfsResultPath": null,
       "isJsonSchema": true,
       "metadata": {},
       "overflow": false,
       "plotOptions": {
        "customPlotOptions": {},
        "displayType": "table",
        "pivotAggregation": null,
        "pivotColumns": null,
        "xColumns": null,
        "yColumns": null
       },
       "removedWidgets": [],
       "schema": [
        {
         "metadata": "{}",
         "name": "time",
         "type": "\"string\""
        },
        {
         "metadata": "{}",
         "name": "symbol",
         "type": "\"string\""
        },
        {
         "metadata": "{}",
         "name": "max_price",
         "type": "\"float\""
        },
        {
         "metadata": "{}",
         "name": "symbol_count",
         "type": "\"long\""
        }
       ],
       "type": "table"
      }
     },
     "output_type": "display_data"
    },
    {
     "output_type": "display_data",
     "data": {
      "text/plain": [
       "Databricks visualization. Run in Databricks to view."
      ]
     },
     "metadata": {
      "application/vnd.databricks.v1.subcommand+json": {
       "baseErrorDetails": null,
       "bindings": {},
       "collapsed": false,
       "command": "%sql WITH q AS (WITH AggregatedData AS (\n    SELECT\n        symbol,\n        DATE_FORMAT(window.end, \"MMM-dd HH:mm\") AS time,\n        max_price\n    FROM\n        default.window_Aggregation_table_india\n)\nSELECT\n    time,\n    symbol,\n    MAX(max_price) AS max_price,\n    COUNT(symbol) AS symbol_count\nFROM\n    AggregatedData\nGROUP BY\n    time,\n    symbol\nORDER BY\n    time,\n    max_price) SELECT `time`,SUM(`max_price`) `column_fc069519158`,`symbol` FROM q GROUP BY `symbol`,`time`",
       "commandTitle": "Visualization 1",
       "commandType": "auto",
       "commandVersion": 0,
       "commentThread": [],
       "commentsVisible": false,
       "contentSha256Hex": null,
       "customPlotOptions": {
        "redashChart": [
         {
          "key": "type",
          "value": "CHART"
         },
         {
          "key": "options",
          "value": {
           "alignYAxesAtZero": true,
           "coefficient": 1,
           "columnConfigurationMap": {
            "series": {
             "column": "symbol",
             "id": "column_fc069519159"
            },
            "x": {
             "column": "time",
             "id": "column_fc069519156"
            },
            "y": [
             {
              "column": "max_price",
              "id": "column_fc069519158",
              "transform": "SUM"
             }
            ]
           },
           "dateTimeFormat": "DD/MM/YYYY HH:mm",
           "direction": {
            "type": "counterclockwise"
           },
           "error_y": {
            "type": "data",
            "visible": true
           },
           "globalSeriesType": "column",
           "isAggregationOn": true,
           "legend": {
            "traceorder": "normal"
           },
           "missingValuesAsZero": true,
           "numberFormat": "0,0[.]00000",
           "percentFormat": "0[.]00%",
           "series": {
            "error_y": {
             "type": "data",
             "visible": true
            },
            "stacking": null
           },
           "seriesOptions": {
            "column_fc069519158": {
             "type": "column",
             "yAxis": 0
            }
           },
           "showDataLabels": false,
           "sizemode": "diameter",
           "sortX": true,
           "sortY": true,
           "swappedAxes": false,
           "textFormat": "",
           "useAggregationsUi": true,
           "valuesOptions": {},
           "version": 2,
           "xAxis": {
            "labels": {
             "enabled": true
            },
            "type": "-"
           },
           "yAxis": [
            {
             "type": "-"
            },
            {
             "opposite": true,
             "type": "-"
            }
           ]
          }
         }
        ]
       },
       "datasetPreviewNameToCmdIdMap": {},
       "diffDeletes": [],
       "diffInserts": [],
       "displayType": "redashChart",
       "error": null,
       "errorDetails": null,
       "errorSummary": null,
       "errorTraceType": null,
       "finishTime": 0,
       "globalVars": {},
       "guid": "",
       "height": "auto",
       "hideCommandCode": false,
       "hideCommandResult": false,
       "iPythonMetadata": null,
       "inputWidgets": {},
       "isLockedInExamMode": false,
       "latestUser": "a user",
       "latestUserId": null,
       "listResultMetadata": null,
       "metadata": {},
       "nuid": "8e5ce8a6-6c59-48fe-b26e-f8f29179eb2c",
       "origId": 0,
       "parentHierarchy": [],
       "pivotAggregation": null,
       "pivotColumns": null,
       "position": 5.5,
       "resultDbfsErrorMessage": null,
       "resultDbfsStatus": "INLINED_IN_TREE",
       "results": null,
       "showCommandTitle": false,
       "startTime": 0,
       "state": "input",
       "streamStates": {},
       "subcommandOptions": {
        "queryPlan": {
         "groups": [
          {
           "column": "time",
           "type": "column"
          },
          {
           "column": "symbol",
           "type": "column"
          }
         ],
         "selects": [
          {
           "column": "time",
           "type": "column"
          },
          {
           "alias": "column_fc069519158",
           "args": [
            {
             "column": "max_price",
             "type": "column"
            }
           ],
           "function": "SUM",
           "type": "function"
          },
          {
           "column": "symbol",
           "type": "column"
          }
         ]
        }
       },
       "submitTime": 0,
       "subtype": "tableResultSubCmd.visualization",
       "tableResultIndex": 0,
       "useConsistentColors": false,
       "version": "CommandV1",
       "width": "auto",
       "workflows": [],
       "xColumns": null,
       "yColumns": null
      }
     },
     "output_type": "display_data"
    }
   ],
   "source": [
    "%sql\n",
    "WITH AggregatedData AS (\n",
    "    SELECT\n",
    "        symbol,\n",
    "        DATE_FORMAT(window.end, \"MMM-dd HH:mm\") AS time,\n",
    "        max_price\n",
    "    FROM\n",
    "        default.window_Aggregation_table_india\n",
    ")\n",
    "SELECT\n",
    "    time,\n",
    "    symbol,\n",
    "    MAX(max_price) AS max_price,\n",
    "    COUNT(symbol) AS symbol_count\n",
    "FROM\n",
    "    AggregatedData\n",
    "GROUP BY\n",
    "    time,\n",
    "    symbol\n",
    "ORDER BY\n",
    "    time,\n",
    "    max_price;\n"
   ]
  },
  {
   "cell_type": "code",
   "execution_count": 0,
   "metadata": {
    "application/vnd.databricks.v1+cell": {
     "cellMetadata": {
      "byteLimit": 2048000,
      "rowLimit": 10000
     },
     "inputWidgets": {},
     "nuid": "ba5c5efe-5620-4634-b6ef-44ebe20bf456",
     "showTitle": false,
     "title": ""
    }
   },
   "outputs": [
    {
     "output_type": "display_data",
     "data": {
      "text/html": [
       "<style scoped>\n",
       "  .table-result-container {\n",
       "    max-height: 300px;\n",
       "    overflow: auto;\n",
       "  }\n",
       "  table, th, td {\n",
       "    border: 1px solid black;\n",
       "    border-collapse: collapse;\n",
       "  }\n",
       "  th, td {\n",
       "    padding: 5px;\n",
       "  }\n",
       "  th {\n",
       "    text-align: left;\n",
       "  }\n",
       "</style><div class='table-result-container'><table class='table-result'><thead style='background-color: white'><tr><th>Company_Name</th><th>Symbol</th><th>Indian_Market_Price</th><th>Market_Price_Change</th><th>Market_ChangePercent</th><th>confluent_timestamp</th><th>Date</th><th>Time</th></tr></thead><tbody><tr><td>State Bank of India</td><td>SBIN.NS</td><td>571.05</td><td>-1.6</td><td>-0.28%</td><td>2023-10-19T09:16:29.962+0000</td><td>2023-10-19</td><td>09:16:29</td></tr><tr><td>State Bank of India</td><td>SBIN.NS</td><td>570.85</td><td>-1.8</td><td>-0.31%</td><td>2023-10-19T09:19:30.219+0000</td><td>2023-10-19</td><td>09:19:30</td></tr><tr><td>State Bank of India</td><td>SBIN.NS</td><td>570.85</td><td>-1.8</td><td>-0.31%</td><td>2023-10-19T09:22:08.157+0000</td><td>2023-10-19</td><td>09:22:08</td></tr><tr><td>State Bank of India</td><td>SBIN.NS</td><td>571.1</td><td>-1.55</td><td>-0.27%</td><td>2023-10-19T09:27:56.615+0000</td><td>2023-10-19</td><td>09:27:56</td></tr><tr><td>State Bank of India</td><td>SBIN.NS</td><td>571.15</td><td>-1.5</td><td>-0.26%</td><td>2023-10-19T09:30:37.927+0000</td><td>2023-10-19</td><td>09:30:37</td></tr><tr><td>State Bank of India</td><td>SBIN.NS</td><td>572.05</td><td>-0.6</td><td>-0.10%</td><td>2023-10-19T09:35:53.096+0000</td><td>2023-10-19</td><td>09:35:53</td></tr><tr><td>State Bank of India</td><td>SBIN.NS</td><td>571.3</td><td>-1.35</td><td>-0.24%</td><td>2023-10-19T09:41:08.874+0000</td><td>2023-10-19</td><td>09:41:08</td></tr><tr><td>State Bank of India</td><td>SBIN.NS</td><td>570.95</td><td>-1.7</td><td>-0.30%</td><td>2023-10-19T09:24:47.628+0000</td><td>2023-10-19</td><td>09:24:47</td></tr><tr><td>State Bank of India</td><td>SBIN.NS</td><td>571.1</td><td>-1.55</td><td>-0.27%</td><td>2023-10-19T09:33:17.192+0000</td><td>2023-10-19</td><td>09:33:17</td></tr><tr><td>State Bank of India</td><td>SBIN.NS</td><td>570.95</td><td>-1.7</td><td>-0.30%</td><td>2023-10-19T09:43:31.492+0000</td><td>2023-10-19</td><td>09:43:31</td></tr><tr><td>State Bank of India</td><td>SBIN.NS</td><td>571.15</td><td>-1.5</td><td>-0.26%</td><td>2023-10-19T09:46:07.624+0000</td><td>2023-10-19</td><td>09:46:07</td></tr><tr><td>State Bank of India</td><td>SBIN.NS</td><td>571.75</td><td>-0.9</td><td>-0.16%</td><td>2023-10-19T09:38:28.451+0000</td><td>2023-10-19</td><td>09:38:28</td></tr><tr><td>State Bank of India</td><td>SBIN.NS</td><td>571.1</td><td>-1.55</td><td>-0.27%</td><td>2023-10-19T09:49:25.259+0000</td><td>2023-10-19</td><td>09:49:25</td></tr><tr><td>State Bank of India</td><td>SBIN.NS</td><td>571.1</td><td>-1.55</td><td>-0.27%</td><td>2023-10-19T09:52:03.808+0000</td><td>2023-10-19</td><td>09:52:03</td></tr><tr><td>State Bank of India</td><td>SBIN.NS</td><td>571.2</td><td>-1.45</td><td>-0.25%</td><td>2023-10-19T09:57:25.437+0000</td><td>2023-10-19</td><td>09:57:25</td></tr><tr><td>State Bank of India</td><td>SBIN.NS</td><td>571.0</td><td>-1.65</td><td>-0.29%</td><td>2023-10-19T09:54:43.547+0000</td><td>2023-10-19</td><td>09:54:43</td></tr><tr><td>State Bank of India</td><td>SBIN.NS</td><td>571.3</td><td>-1.35</td><td>-0.24%</td><td>2023-10-19T09:59:55.450+0000</td><td>2023-10-19</td><td>09:59:55</td></tr><tr><td>State Bank of India</td><td>SBIN.NS</td><td>571.2</td><td>-1.45</td><td>-0.25%</td><td>2023-10-19T10:02:25.584+0000</td><td>2023-10-19</td><td>10:02:25</td></tr><tr><td>State Bank of India</td><td>SBIN.NS</td><td>571.2</td><td>-1.45</td><td>-0.25%</td><td>2023-10-19T10:05:11.000+0000</td><td>2023-10-19</td><td>10:05:11</td></tr><tr><td>State Bank of India</td><td>SBIN.NS</td><td>571.2</td><td>-1.45</td><td>-0.25%</td><td>2023-10-19T10:07:54.766+0000</td><td>2023-10-19</td><td>10:07:54</td></tr></tbody></table></div>"
      ]
     },
     "metadata": {
      "application/vnd.databricks.v1+output": {
       "addedWidgets": {},
       "aggData": [],
       "aggError": "",
       "aggOverflow": false,
       "aggSchema": [],
       "aggSeriesLimitReached": false,
       "aggType": "",
       "arguments": {},
       "columnCustomDisplayInfos": {},
       "data": [
        [
         "State Bank of India",
         "SBIN.NS",
         571.05,
         -1.6,
         "-0.28%",
         "2023-10-19T09:16:29.962+0000",
         "2023-10-19",
         "09:16:29"
        ],
        [
         "State Bank of India",
         "SBIN.NS",
         570.85,
         -1.8,
         "-0.31%",
         "2023-10-19T09:19:30.219+0000",
         "2023-10-19",
         "09:19:30"
        ],
        [
         "State Bank of India",
         "SBIN.NS",
         570.85,
         -1.8,
         "-0.31%",
         "2023-10-19T09:22:08.157+0000",
         "2023-10-19",
         "09:22:08"
        ],
        [
         "State Bank of India",
         "SBIN.NS",
         571.1,
         -1.55,
         "-0.27%",
         "2023-10-19T09:27:56.615+0000",
         "2023-10-19",
         "09:27:56"
        ],
        [
         "State Bank of India",
         "SBIN.NS",
         571.15,
         -1.5,
         "-0.26%",
         "2023-10-19T09:30:37.927+0000",
         "2023-10-19",
         "09:30:37"
        ],
        [
         "State Bank of India",
         "SBIN.NS",
         572.05,
         -0.6,
         "-0.10%",
         "2023-10-19T09:35:53.096+0000",
         "2023-10-19",
         "09:35:53"
        ],
        [
         "State Bank of India",
         "SBIN.NS",
         571.3,
         -1.35,
         "-0.24%",
         "2023-10-19T09:41:08.874+0000",
         "2023-10-19",
         "09:41:08"
        ],
        [
         "State Bank of India",
         "SBIN.NS",
         570.95,
         -1.7,
         "-0.30%",
         "2023-10-19T09:24:47.628+0000",
         "2023-10-19",
         "09:24:47"
        ],
        [
         "State Bank of India",
         "SBIN.NS",
         571.1,
         -1.55,
         "-0.27%",
         "2023-10-19T09:33:17.192+0000",
         "2023-10-19",
         "09:33:17"
        ],
        [
         "State Bank of India",
         "SBIN.NS",
         570.95,
         -1.7,
         "-0.30%",
         "2023-10-19T09:43:31.492+0000",
         "2023-10-19",
         "09:43:31"
        ],
        [
         "State Bank of India",
         "SBIN.NS",
         571.15,
         -1.5,
         "-0.26%",
         "2023-10-19T09:46:07.624+0000",
         "2023-10-19",
         "09:46:07"
        ],
        [
         "State Bank of India",
         "SBIN.NS",
         571.75,
         -0.9,
         "-0.16%",
         "2023-10-19T09:38:28.451+0000",
         "2023-10-19",
         "09:38:28"
        ],
        [
         "State Bank of India",
         "SBIN.NS",
         571.1,
         -1.55,
         "-0.27%",
         "2023-10-19T09:49:25.259+0000",
         "2023-10-19",
         "09:49:25"
        ],
        [
         "State Bank of India",
         "SBIN.NS",
         571.1,
         -1.55,
         "-0.27%",
         "2023-10-19T09:52:03.808+0000",
         "2023-10-19",
         "09:52:03"
        ],
        [
         "State Bank of India",
         "SBIN.NS",
         571.2,
         -1.45,
         "-0.25%",
         "2023-10-19T09:57:25.437+0000",
         "2023-10-19",
         "09:57:25"
        ],
        [
         "State Bank of India",
         "SBIN.NS",
         571.0,
         -1.65,
         "-0.29%",
         "2023-10-19T09:54:43.547+0000",
         "2023-10-19",
         "09:54:43"
        ],
        [
         "State Bank of India",
         "SBIN.NS",
         571.3,
         -1.35,
         "-0.24%",
         "2023-10-19T09:59:55.450+0000",
         "2023-10-19",
         "09:59:55"
        ],
        [
         "State Bank of India",
         "SBIN.NS",
         571.2,
         -1.45,
         "-0.25%",
         "2023-10-19T10:02:25.584+0000",
         "2023-10-19",
         "10:02:25"
        ],
        [
         "State Bank of India",
         "SBIN.NS",
         571.2,
         -1.45,
         "-0.25%",
         "2023-10-19T10:05:11.000+0000",
         "2023-10-19",
         "10:05:11"
        ],
        [
         "State Bank of India",
         "SBIN.NS",
         571.2,
         -1.45,
         "-0.25%",
         "2023-10-19T10:07:54.766+0000",
         "2023-10-19",
         "10:07:54"
        ]
       ],
       "datasetInfos": [],
       "dbfsResultPath": null,
       "isJsonSchema": true,
       "metadata": {},
       "overflow": false,
       "plotOptions": {
        "customPlotOptions": {},
        "displayType": "table",
        "pivotAggregation": null,
        "pivotColumns": null,
        "xColumns": null,
        "yColumns": null
       },
       "removedWidgets": [],
       "schema": [
        {
         "metadata": "{}",
         "name": "Company_Name",
         "type": "\"string\""
        },
        {
         "metadata": "{}",
         "name": "Symbol",
         "type": "\"string\""
        },
        {
         "metadata": "{}",
         "name": "Indian_Market_Price",
         "type": "\"float\""
        },
        {
         "metadata": "{}",
         "name": "Market_Price_Change",
         "type": "\"float\""
        },
        {
         "metadata": "{}",
         "name": "Market_ChangePercent",
         "type": "\"string\""
        },
        {
         "metadata": "{}",
         "name": "confluent_timestamp",
         "type": "\"timestamp\""
        },
        {
         "metadata": "{}",
         "name": "Date",
         "type": "\"string\""
        },
        {
         "metadata": "{}",
         "name": "Time",
         "type": "\"string\""
        }
       ],
       "type": "table"
      }
     },
     "output_type": "display_data"
    },
    {
     "output_type": "display_data",
     "data": {
      "text/plain": [
       "Databricks visualization. Run in Databricks to view."
      ]
     },
     "metadata": {
      "application/vnd.databricks.v1.subcommand+json": {
       "baseErrorDetails": null,
       "bindings": {},
       "collapsed": false,
       "command": "# Databricks no-op command",
       "commandTitle": "Visualization 1",
       "commandType": "auto",
       "commandVersion": 0,
       "commentThread": [],
       "commentsVisible": false,
       "contentSha256Hex": null,
       "customPlotOptions": {
        "redashChart": [
         {
          "key": "type",
          "value": "CHART"
         },
         {
          "key": "options",
          "value": {
           "alignYAxesAtZero": true,
           "coefficient": 1,
           "columnConfigurationMap": {
            "series": {
             "column": "Symbol",
             "id": "column_fc069519144"
            },
            "x": {
             "column": "Time",
             "id": "column_fc069519141"
            },
            "y": [
             {
              "column": "Indian_Market_Price",
              "id": "column_fc069519143",
              "transform": "SUM"
             }
            ]
           },
           "dateTimeFormat": "DD/MM/YYYY HH:mm",
           "direction": {
            "type": "counterclockwise"
           },
           "error_y": {
            "type": "data",
            "visible": true
           },
           "globalSeriesType": "line",
           "isAggregationOn": true,
           "legend": {
            "traceorder": "normal"
           },
           "missingValuesAsZero": true,
           "numberFormat": "0,0[.]00000",
           "percentFormat": "0[.]00%",
           "series": {
            "error_y": {
             "type": "data",
             "visible": true
            },
            "stacking": null
           },
           "seriesOptions": {
            "column_fc069519143": {
             "type": "line",
             "yAxis": 0
            }
           },
           "showDataLabels": false,
           "sizemode": "diameter",
           "sortX": true,
           "sortY": true,
           "swappedAxes": false,
           "textFormat": "",
           "useAggregationsUi": true,
           "valuesOptions": {},
           "version": 2,
           "xAxis": {
            "labels": {
             "enabled": true
            },
            "type": "-"
           },
           "yAxis": [
            {
             "type": "-"
            },
            {
             "opposite": true,
             "type": "-"
            }
           ]
          }
         }
        ]
       },
       "datasetPreviewNameToCmdIdMap": {},
       "diffDeletes": [],
       "diffInserts": [],
       "displayType": "redashChart",
       "error": null,
       "errorDetails": null,
       "errorSummary": null,
       "errorTraceType": null,
       "finishTime": 0,
       "globalVars": {},
       "guid": "",
       "height": "auto",
       "hideCommandCode": false,
       "hideCommandResult": false,
       "iPythonMetadata": null,
       "inputWidgets": {},
       "isLockedInExamMode": false,
       "latestUser": "a user",
       "latestUserId": null,
       "listResultMetadata": null,
       "metadata": {},
       "nuid": "15bb1953-9cf3-47e0-b6dd-712234426161",
       "origId": 0,
       "parentHierarchy": [],
       "pivotAggregation": null,
       "pivotColumns": null,
       "position": 6.0,
       "resultDbfsErrorMessage": null,
       "resultDbfsStatus": "INLINED_IN_TREE",
       "results": null,
       "showCommandTitle": false,
       "startTime": 0,
       "state": "input",
       "streamStates": {},
       "subcommandOptions": {
        "queryPlan": {
         "groups": [
          {
           "column": "Time",
           "type": "column"
          },
          {
           "column": "Symbol",
           "type": "column"
          }
         ],
         "selects": [
          {
           "column": "Time",
           "type": "column"
          },
          {
           "alias": "column_fc069519143",
           "args": [
            {
             "column": "Indian_Market_Price",
             "type": "column"
            }
           ],
           "function": "SUM",
           "type": "function"
          },
          {
           "column": "Symbol",
           "type": "column"
          }
         ]
        }
       },
       "submitTime": 0,
       "subtype": "tableResultSubCmd.visualization",
       "tableResultIndex": 0,
       "useConsistentColors": false,
       "version": "CommandV1",
       "width": "auto",
       "workflows": [],
       "xColumns": null,
       "yColumns": null
      }
     },
     "output_type": "display_data"
    }
   ],
   "source": [
    "dash_sbi=globaldf.filter(globaldf.Symbol==\"SBIN.NS\")\n",
    "display(dash_sbi)"
   ]
  },
  {
   "cell_type": "code",
   "execution_count": 0,
   "metadata": {
    "application/vnd.databricks.v1+cell": {
     "cellMetadata": {
      "byteLimit": 2048000,
      "rowLimit": 10000
     },
     "inputWidgets": {},
     "nuid": "ae062d78-3c14-479f-ae81-ce63b704221b",
     "showTitle": false,
     "title": ""
    }
   },
   "outputs": [
    {
     "output_type": "display_data",
     "data": {
      "text/html": [
       "<style scoped>\n",
       "  .table-result-container {\n",
       "    max-height: 300px;\n",
       "    overflow: auto;\n",
       "  }\n",
       "  table, th, td {\n",
       "    border: 1px solid black;\n",
       "    border-collapse: collapse;\n",
       "  }\n",
       "  th, td {\n",
       "    padding: 5px;\n",
       "  }\n",
       "  th {\n",
       "    text-align: left;\n",
       "  }\n",
       "</style><div class='table-result-container'><table class='table-result'><thead style='background-color: white'><tr><th>Company_Name</th><th>Symbol</th><th>Indian_Market_Price</th><th>Market_Price_Change</th><th>Market_ChangePercent</th><th>confluent_timestamp</th><th>Date</th><th>Time</th></tr></thead><tbody><tr><td>HDFC Bank Limited</td><td>HDFCBANK.NS</td><td>1516.8</td><td>-2.95</td><td>-0.19%</td><td>2023-10-19T09:25:03.947+0000</td><td>2023-10-19</td><td>09:25:03</td></tr><tr><td>HDFC Bank Limited</td><td>HDFCBANK.NS</td><td>1516.0</td><td>-3.75</td><td>-0.25%</td><td>2023-10-19T09:28:12.242+0000</td><td>2023-10-19</td><td>09:28:12</td></tr><tr><td>HDFC Bank Limited</td><td>HDFCBANK.NS</td><td>1516.15</td><td>-3.6</td><td>-0.24%</td><td>2023-10-19T09:33:33.678+0000</td><td>2023-10-19</td><td>09:33:33</td></tr><tr><td>HDFC Bank Limited</td><td>HDFCBANK.NS</td><td>1518.7</td><td>-1.05</td><td>-0.07%</td><td>2023-10-19T09:16:48.551+0000</td><td>2023-10-19</td><td>09:16:48</td></tr><tr><td>HDFC Bank Limited</td><td>HDFCBANK.NS</td><td>1517.6</td><td>-2.15</td><td>-0.14%</td><td>2023-10-19T09:22:22.587+0000</td><td>2023-10-19</td><td>09:22:22</td></tr><tr><td>HDFC Bank Limited</td><td>HDFCBANK.NS</td><td>1515.05</td><td>-4.7</td><td>-0.31%</td><td>2023-10-19T09:30:52.224+0000</td><td>2023-10-19</td><td>09:30:52</td></tr><tr><td>HDFC Bank Limited</td><td>HDFCBANK.NS</td><td>1515.0</td><td>-4.75</td><td>-0.31%</td><td>2023-10-19T09:43:46.985+0000</td><td>2023-10-19</td><td>09:43:46</td></tr><tr><td>HDFC Bank Limited</td><td>HDFCBANK.NS</td><td>1515.2</td><td>-4.55</td><td>-0.30%</td><td>2023-10-19T09:46:22.987+0000</td><td>2023-10-19</td><td>09:46:22</td></tr><tr><td>HDFC Bank Limited</td><td>HDFCBANK.NS</td><td>1515.05</td><td>-4.7</td><td>-0.31%</td><td>2023-10-19T09:49:45.892+0000</td><td>2023-10-19</td><td>09:49:45</td></tr><tr><td>HDFC Bank Limited</td><td>HDFCBANK.NS</td><td>1514.95</td><td>-4.8</td><td>-0.32%</td><td>2023-10-19T10:02:41.738+0000</td><td>2023-10-19</td><td>10:02:41</td></tr><tr><td>HDFC Bank Limited</td><td>HDFCBANK.NS</td><td>1514.95</td><td>-4.8</td><td>-0.32%</td><td>2023-10-19T10:05:24.662+0000</td><td>2023-10-19</td><td>10:05:24</td></tr><tr><td>HDFC Bank Limited</td><td>HDFCBANK.NS</td><td>1514.95</td><td>-4.8</td><td>-0.32%</td><td>2023-10-19T10:08:10.999+0000</td><td>2023-10-19</td><td>10:08:10</td></tr><tr><td>HDFC Bank Limited</td><td>HDFCBANK.NS</td><td>1513.45</td><td>-6.3</td><td>-0.41%</td><td>2023-10-19T09:52:17.673+0000</td><td>2023-10-19</td><td>09:52:17</td></tr><tr><td>HDFC Bank Limited</td><td>HDFCBANK.NS</td><td>1516.25</td><td>-3.5</td><td>-0.23%</td><td>2023-10-19T09:36:06.269+0000</td><td>2023-10-19</td><td>09:36:06</td></tr><tr><td>HDFC Bank Limited</td><td>HDFCBANK.NS</td><td>1517.7</td><td>-2.05</td><td>-0.13%</td><td>2023-10-19T09:19:57.053+0000</td><td>2023-10-19</td><td>09:19:57</td></tr><tr><td>HDFC Bank Limited</td><td>HDFCBANK.NS</td><td>1513.8</td><td>-5.95</td><td>-0.39%</td><td>2023-10-19T09:55:06.862+0000</td><td>2023-10-19</td><td>09:55:06</td></tr><tr><td>HDFC Bank Limited</td><td>HDFCBANK.NS</td><td>1515.05</td><td>-4.7</td><td>-0.31%</td><td>2023-10-19T09:41:25.603+0000</td><td>2023-10-19</td><td>09:41:25</td></tr><tr><td>HDFC Bank Limited</td><td>HDFCBANK.NS</td><td>1514.5</td><td>-5.25</td><td>-0.35%</td><td>2023-10-19T10:00:08.871+0000</td><td>2023-10-19</td><td>10:00:08</td></tr><tr><td>HDFC Bank Limited</td><td>HDFCBANK.NS</td><td>1514.3</td><td>-5.45</td><td>-0.36%</td><td>2023-10-19T09:57:40.181+0000</td><td>2023-10-19</td><td>09:57:40</td></tr><tr><td>HDFC Bank Limited</td><td>HDFCBANK.NS</td><td>1515.2</td><td>-4.55</td><td>-0.30%</td><td>2023-10-19T09:38:42.892+0000</td><td>2023-10-19</td><td>09:38:42</td></tr></tbody></table></div>"
      ]
     },
     "metadata": {
      "application/vnd.databricks.v1+output": {
       "addedWidgets": {},
       "aggData": [],
       "aggError": "",
       "aggOverflow": false,
       "aggSchema": [],
       "aggSeriesLimitReached": false,
       "aggType": "",
       "arguments": {},
       "columnCustomDisplayInfos": {},
       "data": [
        [
         "HDFC Bank Limited",
         "HDFCBANK.NS",
         1516.8,
         -2.95,
         "-0.19%",
         "2023-10-19T09:25:03.947+0000",
         "2023-10-19",
         "09:25:03"
        ],
        [
         "HDFC Bank Limited",
         "HDFCBANK.NS",
         1516.0,
         -3.75,
         "-0.25%",
         "2023-10-19T09:28:12.242+0000",
         "2023-10-19",
         "09:28:12"
        ],
        [
         "HDFC Bank Limited",
         "HDFCBANK.NS",
         1516.15,
         -3.6,
         "-0.24%",
         "2023-10-19T09:33:33.678+0000",
         "2023-10-19",
         "09:33:33"
        ],
        [
         "HDFC Bank Limited",
         "HDFCBANK.NS",
         1518.7,
         -1.05,
         "-0.07%",
         "2023-10-19T09:16:48.551+0000",
         "2023-10-19",
         "09:16:48"
        ],
        [
         "HDFC Bank Limited",
         "HDFCBANK.NS",
         1517.6,
         -2.15,
         "-0.14%",
         "2023-10-19T09:22:22.587+0000",
         "2023-10-19",
         "09:22:22"
        ],
        [
         "HDFC Bank Limited",
         "HDFCBANK.NS",
         1515.05,
         -4.7,
         "-0.31%",
         "2023-10-19T09:30:52.224+0000",
         "2023-10-19",
         "09:30:52"
        ],
        [
         "HDFC Bank Limited",
         "HDFCBANK.NS",
         1515.0,
         -4.75,
         "-0.31%",
         "2023-10-19T09:43:46.985+0000",
         "2023-10-19",
         "09:43:46"
        ],
        [
         "HDFC Bank Limited",
         "HDFCBANK.NS",
         1515.2,
         -4.55,
         "-0.30%",
         "2023-10-19T09:46:22.987+0000",
         "2023-10-19",
         "09:46:22"
        ],
        [
         "HDFC Bank Limited",
         "HDFCBANK.NS",
         1515.05,
         -4.7,
         "-0.31%",
         "2023-10-19T09:49:45.892+0000",
         "2023-10-19",
         "09:49:45"
        ],
        [
         "HDFC Bank Limited",
         "HDFCBANK.NS",
         1514.95,
         -4.8,
         "-0.32%",
         "2023-10-19T10:02:41.738+0000",
         "2023-10-19",
         "10:02:41"
        ],
        [
         "HDFC Bank Limited",
         "HDFCBANK.NS",
         1514.95,
         -4.8,
         "-0.32%",
         "2023-10-19T10:05:24.662+0000",
         "2023-10-19",
         "10:05:24"
        ],
        [
         "HDFC Bank Limited",
         "HDFCBANK.NS",
         1514.95,
         -4.8,
         "-0.32%",
         "2023-10-19T10:08:10.999+0000",
         "2023-10-19",
         "10:08:10"
        ],
        [
         "HDFC Bank Limited",
         "HDFCBANK.NS",
         1513.45,
         -6.3,
         "-0.41%",
         "2023-10-19T09:52:17.673+0000",
         "2023-10-19",
         "09:52:17"
        ],
        [
         "HDFC Bank Limited",
         "HDFCBANK.NS",
         1516.25,
         -3.5,
         "-0.23%",
         "2023-10-19T09:36:06.269+0000",
         "2023-10-19",
         "09:36:06"
        ],
        [
         "HDFC Bank Limited",
         "HDFCBANK.NS",
         1517.7,
         -2.05,
         "-0.13%",
         "2023-10-19T09:19:57.053+0000",
         "2023-10-19",
         "09:19:57"
        ],
        [
         "HDFC Bank Limited",
         "HDFCBANK.NS",
         1513.8,
         -5.95,
         "-0.39%",
         "2023-10-19T09:55:06.862+0000",
         "2023-10-19",
         "09:55:06"
        ],
        [
         "HDFC Bank Limited",
         "HDFCBANK.NS",
         1515.05,
         -4.7,
         "-0.31%",
         "2023-10-19T09:41:25.603+0000",
         "2023-10-19",
         "09:41:25"
        ],
        [
         "HDFC Bank Limited",
         "HDFCBANK.NS",
         1514.5,
         -5.25,
         "-0.35%",
         "2023-10-19T10:00:08.871+0000",
         "2023-10-19",
         "10:00:08"
        ],
        [
         "HDFC Bank Limited",
         "HDFCBANK.NS",
         1514.3,
         -5.45,
         "-0.36%",
         "2023-10-19T09:57:40.181+0000",
         "2023-10-19",
         "09:57:40"
        ],
        [
         "HDFC Bank Limited",
         "HDFCBANK.NS",
         1515.2,
         -4.55,
         "-0.30%",
         "2023-10-19T09:38:42.892+0000",
         "2023-10-19",
         "09:38:42"
        ]
       ],
       "datasetInfos": [],
       "dbfsResultPath": null,
       "isJsonSchema": true,
       "metadata": {
        "isDbfsCommandResult": false
       },
       "overflow": false,
       "plotOptions": {
        "customPlotOptions": {},
        "displayType": "table",
        "pivotAggregation": null,
        "pivotColumns": null,
        "xColumns": null,
        "yColumns": null
       },
       "removedWidgets": [],
       "schema": [
        {
         "metadata": "{}",
         "name": "Company_Name",
         "type": "\"string\""
        },
        {
         "metadata": "{}",
         "name": "Symbol",
         "type": "\"string\""
        },
        {
         "metadata": "{}",
         "name": "Indian_Market_Price",
         "type": "\"float\""
        },
        {
         "metadata": "{}",
         "name": "Market_Price_Change",
         "type": "\"float\""
        },
        {
         "metadata": "{}",
         "name": "Market_ChangePercent",
         "type": "\"string\""
        },
        {
         "metadata": "{}",
         "name": "confluent_timestamp",
         "type": "\"timestamp\""
        },
        {
         "metadata": "{}",
         "name": "Date",
         "type": "\"string\""
        },
        {
         "metadata": "{}",
         "name": "Time",
         "type": "\"string\""
        }
       ],
       "type": "table"
      }
     },
     "output_type": "display_data"
    },
    {
     "output_type": "display_data",
     "data": {
      "text/plain": [
       "Databricks visualization. Run in Databricks to view."
      ]
     },
     "metadata": {
      "application/vnd.databricks.v1.subcommand+json": {
       "baseErrorDetails": null,
       "bindings": {},
       "collapsed": false,
       "command": "# Databricks no-op command",
       "commandTitle": "Visualization 1",
       "commandType": "auto",
       "commandVersion": 0,
       "commentThread": [],
       "commentsVisible": false,
       "contentSha256Hex": null,
       "customPlotOptions": {
        "redashChart": [
         {
          "key": "type",
          "value": "CHART"
         },
         {
          "key": "options",
          "value": {
           "alignYAxesAtZero": true,
           "coefficient": 1,
           "columnConfigurationMap": {
            "series": {
             "column": "Symbol",
             "id": "column_fc069519261"
            },
            "x": {
             "column": "Time",
             "id": "column_fc069519255"
            },
            "y": [
             {
              "column": "Indian_Market_Price",
              "id": "column_fc069519257",
              "transform": "SUM"
             }
            ]
           },
           "dateTimeFormat": "DD/MM/YYYY HH:mm",
           "direction": {
            "type": "counterclockwise"
           },
           "error_y": {
            "type": "data",
            "visible": true
           },
           "globalSeriesType": "line",
           "isAggregationOn": true,
           "legend": {
            "traceorder": "normal"
           },
           "missingValuesAsZero": true,
           "numberFormat": "0,0[.]00000",
           "percentFormat": "0[.]00%",
           "series": {
            "error_y": {
             "type": "data",
             "visible": true
            },
            "stacking": null
           },
           "seriesOptions": {
            "column_fc069519257": {
             "type": "line",
             "yAxis": 0
            }
           },
           "showDataLabels": false,
           "sizemode": "diameter",
           "sortX": true,
           "sortY": true,
           "swappedAxes": false,
           "textFormat": "",
           "useAggregationsUi": true,
           "valuesOptions": {},
           "version": 2,
           "xAxis": {
            "labels": {
             "enabled": true
            },
            "type": "-"
           },
           "yAxis": [
            {
             "type": "-"
            },
            {
             "opposite": true,
             "type": "-"
            }
           ]
          }
         }
        ]
       },
       "datasetPreviewNameToCmdIdMap": {},
       "diffDeletes": [],
       "diffInserts": [],
       "displayType": "redashChart",
       "error": null,
       "errorDetails": null,
       "errorSummary": null,
       "errorTraceType": null,
       "finishTime": 0,
       "globalVars": {},
       "guid": "",
       "height": "auto",
       "hideCommandCode": false,
       "hideCommandResult": false,
       "iPythonMetadata": null,
       "inputWidgets": {},
       "isLockedInExamMode": false,
       "latestUser": "a user",
       "latestUserId": null,
       "listResultMetadata": null,
       "metadata": {},
       "nuid": "05b92f68-cca0-43ab-9825-d1e2c9234fa1",
       "origId": 0,
       "parentHierarchy": [],
       "pivotAggregation": null,
       "pivotColumns": null,
       "position": 7.0,
       "resultDbfsErrorMessage": null,
       "resultDbfsStatus": "INLINED_IN_TREE",
       "results": null,
       "showCommandTitle": false,
       "startTime": 0,
       "state": "input",
       "streamStates": {},
       "subcommandOptions": {
        "queryPlan": {
         "groups": [
          {
           "column": "Time",
           "type": "column"
          },
          {
           "column": "Symbol",
           "type": "column"
          }
         ],
         "selects": [
          {
           "column": "Time",
           "type": "column"
          },
          {
           "alias": "column_fc069519257",
           "args": [
            {
             "column": "Indian_Market_Price",
             "type": "column"
            }
           ],
           "function": "SUM",
           "type": "function"
          },
          {
           "column": "Symbol",
           "type": "column"
          }
         ]
        }
       },
       "submitTime": 0,
       "subtype": "tableResultSubCmd.visualization",
       "tableResultIndex": 0,
       "useConsistentColors": false,
       "version": "CommandV1",
       "width": "auto",
       "workflows": [],
       "xColumns": null,
       "yColumns": null
      }
     },
     "output_type": "display_data"
    }
   ],
   "source": [
    "dash_hdfc=globaldf.filter(globaldf.Symbol==\"HDFCBANK.NS\")\n",
    "display(dash_hdfc)"
   ]
  },
  {
   "cell_type": "code",
   "execution_count": 0,
   "metadata": {
    "application/vnd.databricks.v1+cell": {
     "cellMetadata": {
      "byteLimit": 2048000,
      "rowLimit": 10000
     },
     "inputWidgets": {},
     "nuid": "7f53d8c6-508d-460a-91cc-50997c748c5c",
     "showTitle": false,
     "title": ""
    }
   },
   "outputs": [
    {
     "output_type": "display_data",
     "data": {
      "text/html": [
       "<style scoped>\n",
       "  .table-result-container {\n",
       "    max-height: 300px;\n",
       "    overflow: auto;\n",
       "  }\n",
       "  table, th, td {\n",
       "    border: 1px solid black;\n",
       "    border-collapse: collapse;\n",
       "  }\n",
       "  th, td {\n",
       "    padding: 5px;\n",
       "  }\n",
       "  th {\n",
       "    text-align: left;\n",
       "  }\n",
       "</style><div class='table-result-container'><table class='table-result'><thead style='background-color: white'><tr><th>Company_Name</th><th>Symbol</th><th>Indian_Market_Price</th><th>Market_Price_Change</th><th>Market_ChangePercent</th><th>confluent_timestamp</th><th>Date</th><th>Time</th></tr></thead><tbody><tr><td>Kotak Mahindra Bank Limited</td><td>KOTAKBANK.NS</td><td>1740.45</td><td>-12.95</td><td>-0.74%</td><td>2023-10-19T09:17:05.334+0000</td><td>2023-10-19</td><td>09:17:05</td></tr><tr><td>Kotak Mahindra Bank Limited</td><td>KOTAKBANK.NS</td><td>1740.35</td><td>-13.05</td><td>-0.74%</td><td>2023-10-19T09:36:22.572+0000</td><td>2023-10-19</td><td>09:36:22</td></tr><tr><td>Kotak Mahindra Bank Limited</td><td>KOTAKBANK.NS</td><td>1737.85</td><td>-15.55</td><td>-0.89%</td><td>2023-10-19T09:41:40.267+0000</td><td>2023-10-19</td><td>09:41:40</td></tr><tr><td>Kotak Mahindra Bank Limited</td><td>KOTAKBANK.NS</td><td>1737.75</td><td>-15.65</td><td>-0.89%</td><td>2023-10-19T09:44:01.875+0000</td><td>2023-10-19</td><td>09:44:01</td></tr><tr><td>Kotak Mahindra Bank Limited</td><td>KOTAKBANK.NS</td><td>1740.05</td><td>-13.35</td><td>-0.76%</td><td>2023-10-19T09:20:13.843+0000</td><td>2023-10-19</td><td>09:20:13</td></tr><tr><td>Kotak Mahindra Bank Limited</td><td>KOTAKBANK.NS</td><td>1739.3</td><td>-14.1</td><td>-0.80%</td><td>2023-10-19T09:28:27.134+0000</td><td>2023-10-19</td><td>09:28:27</td></tr><tr><td>Kotak Mahindra Bank Limited</td><td>KOTAKBANK.NS</td><td>1738.2</td><td>-15.2</td><td>-0.87%</td><td>2023-10-19T09:33:52.519+0000</td><td>2023-10-19</td><td>09:33:52</td></tr><tr><td>Kotak Mahindra Bank Limited</td><td>KOTAKBANK.NS</td><td>1738.0</td><td>-15.4</td><td>-0.88%</td><td>2023-10-19T09:31:09.545+0000</td><td>2023-10-19</td><td>09:31:09</td></tr><tr><td>Kotak Mahindra Bank Limited</td><td>KOTAKBANK.NS</td><td>1738.7</td><td>-14.7</td><td>-0.84%</td><td>2023-10-19T09:22:37.867+0000</td><td>2023-10-19</td><td>09:22:37</td></tr><tr><td>Kotak Mahindra Bank Limited</td><td>KOTAKBANK.NS</td><td>1738.8</td><td>-14.6</td><td>-0.83%</td><td>2023-10-19T09:38:58.531+0000</td><td>2023-10-19</td><td>09:38:58</td></tr><tr><td>Kotak Mahindra Bank Limited</td><td>KOTAKBANK.NS</td><td>1739.6</td><td>-13.8</td><td>-0.79%</td><td>2023-10-19T09:25:20.056+0000</td><td>2023-10-19</td><td>09:25:20</td></tr><tr><td>Kotak Mahindra Bank Limited</td><td>KOTAKBANK.NS</td><td>1736.35</td><td>-17.05</td><td>-0.97%</td><td>2023-10-19T09:46:39.672+0000</td><td>2023-10-19</td><td>09:46:39</td></tr><tr><td>Kotak Mahindra Bank Limited</td><td>KOTAKBANK.NS</td><td>1737.9</td><td>-15.5</td><td>-0.88%</td><td>2023-10-19T09:50:03.487+0000</td><td>2023-10-19</td><td>09:50:03</td></tr><tr><td>Kotak Mahindra Bank Limited</td><td>KOTAKBANK.NS</td><td>1739.9</td><td>-13.5</td><td>-0.77%</td><td>2023-10-19T09:55:24.584+0000</td><td>2023-10-19</td><td>09:55:24</td></tr><tr><td>Kotak Mahindra Bank Limited</td><td>KOTAKBANK.NS</td><td>1740.1</td><td>-13.3</td><td>-0.76%</td><td>2023-10-19T09:52:32.668+0000</td><td>2023-10-19</td><td>09:52:32</td></tr><tr><td>Kotak Mahindra Bank Limited</td><td>KOTAKBANK.NS</td><td>1737.0</td><td>-16.4</td><td>-0.94%</td><td>2023-10-19T09:57:56.871+0000</td><td>2023-10-19</td><td>09:57:56</td></tr><tr><td>Kotak Mahindra Bank Limited</td><td>KOTAKBANK.NS</td><td>1738.65</td><td>-14.75</td><td>-0.84%</td><td>2023-10-19T10:00:24.682+0000</td><td>2023-10-19</td><td>10:00:24</td></tr><tr><td>Kotak Mahindra Bank Limited</td><td>KOTAKBANK.NS</td><td>1738.45</td><td>-14.95</td><td>-0.85%</td><td>2023-10-19T10:02:58.378+0000</td><td>2023-10-19</td><td>10:02:58</td></tr><tr><td>Kotak Mahindra Bank Limited</td><td>KOTAKBANK.NS</td><td>1738.45</td><td>-14.95</td><td>-0.85%</td><td>2023-10-19T10:05:41.882+0000</td><td>2023-10-19</td><td>10:05:41</td></tr><tr><td>Kotak Mahindra Bank Limited</td><td>KOTAKBANK.NS</td><td>1738.45</td><td>-14.95</td><td>-0.85%</td><td>2023-10-19T10:08:29.588+0000</td><td>2023-10-19</td><td>10:08:29</td></tr></tbody></table></div>"
      ]
     },
     "metadata": {
      "application/vnd.databricks.v1+output": {
       "addedWidgets": {},
       "aggData": [],
       "aggError": "",
       "aggOverflow": false,
       "aggSchema": [],
       "aggSeriesLimitReached": false,
       "aggType": "",
       "arguments": {},
       "columnCustomDisplayInfos": {},
       "data": [
        [
         "Kotak Mahindra Bank Limited",
         "KOTAKBANK.NS",
         1740.45,
         -12.95,
         "-0.74%",
         "2023-10-19T09:17:05.334+0000",
         "2023-10-19",
         "09:17:05"
        ],
        [
         "Kotak Mahindra Bank Limited",
         "KOTAKBANK.NS",
         1740.35,
         -13.05,
         "-0.74%",
         "2023-10-19T09:36:22.572+0000",
         "2023-10-19",
         "09:36:22"
        ],
        [
         "Kotak Mahindra Bank Limited",
         "KOTAKBANK.NS",
         1737.85,
         -15.55,
         "-0.89%",
         "2023-10-19T09:41:40.267+0000",
         "2023-10-19",
         "09:41:40"
        ],
        [
         "Kotak Mahindra Bank Limited",
         "KOTAKBANK.NS",
         1737.75,
         -15.65,
         "-0.89%",
         "2023-10-19T09:44:01.875+0000",
         "2023-10-19",
         "09:44:01"
        ],
        [
         "Kotak Mahindra Bank Limited",
         "KOTAKBANK.NS",
         1740.05,
         -13.35,
         "-0.76%",
         "2023-10-19T09:20:13.843+0000",
         "2023-10-19",
         "09:20:13"
        ],
        [
         "Kotak Mahindra Bank Limited",
         "KOTAKBANK.NS",
         1739.3,
         -14.1,
         "-0.80%",
         "2023-10-19T09:28:27.134+0000",
         "2023-10-19",
         "09:28:27"
        ],
        [
         "Kotak Mahindra Bank Limited",
         "KOTAKBANK.NS",
         1738.2,
         -15.2,
         "-0.87%",
         "2023-10-19T09:33:52.519+0000",
         "2023-10-19",
         "09:33:52"
        ],
        [
         "Kotak Mahindra Bank Limited",
         "KOTAKBANK.NS",
         1738.0,
         -15.4,
         "-0.88%",
         "2023-10-19T09:31:09.545+0000",
         "2023-10-19",
         "09:31:09"
        ],
        [
         "Kotak Mahindra Bank Limited",
         "KOTAKBANK.NS",
         1738.7,
         -14.7,
         "-0.84%",
         "2023-10-19T09:22:37.867+0000",
         "2023-10-19",
         "09:22:37"
        ],
        [
         "Kotak Mahindra Bank Limited",
         "KOTAKBANK.NS",
         1738.8,
         -14.6,
         "-0.83%",
         "2023-10-19T09:38:58.531+0000",
         "2023-10-19",
         "09:38:58"
        ],
        [
         "Kotak Mahindra Bank Limited",
         "KOTAKBANK.NS",
         1739.6,
         -13.8,
         "-0.79%",
         "2023-10-19T09:25:20.056+0000",
         "2023-10-19",
         "09:25:20"
        ],
        [
         "Kotak Mahindra Bank Limited",
         "KOTAKBANK.NS",
         1736.35,
         -17.05,
         "-0.97%",
         "2023-10-19T09:46:39.672+0000",
         "2023-10-19",
         "09:46:39"
        ],
        [
         "Kotak Mahindra Bank Limited",
         "KOTAKBANK.NS",
         1737.9,
         -15.5,
         "-0.88%",
         "2023-10-19T09:50:03.487+0000",
         "2023-10-19",
         "09:50:03"
        ],
        [
         "Kotak Mahindra Bank Limited",
         "KOTAKBANK.NS",
         1739.9,
         -13.5,
         "-0.77%",
         "2023-10-19T09:55:24.584+0000",
         "2023-10-19",
         "09:55:24"
        ],
        [
         "Kotak Mahindra Bank Limited",
         "KOTAKBANK.NS",
         1740.1,
         -13.3,
         "-0.76%",
         "2023-10-19T09:52:32.668+0000",
         "2023-10-19",
         "09:52:32"
        ],
        [
         "Kotak Mahindra Bank Limited",
         "KOTAKBANK.NS",
         1737.0,
         -16.4,
         "-0.94%",
         "2023-10-19T09:57:56.871+0000",
         "2023-10-19",
         "09:57:56"
        ],
        [
         "Kotak Mahindra Bank Limited",
         "KOTAKBANK.NS",
         1738.65,
         -14.75,
         "-0.84%",
         "2023-10-19T10:00:24.682+0000",
         "2023-10-19",
         "10:00:24"
        ],
        [
         "Kotak Mahindra Bank Limited",
         "KOTAKBANK.NS",
         1738.45,
         -14.95,
         "-0.85%",
         "2023-10-19T10:02:58.378+0000",
         "2023-10-19",
         "10:02:58"
        ],
        [
         "Kotak Mahindra Bank Limited",
         "KOTAKBANK.NS",
         1738.45,
         -14.95,
         "-0.85%",
         "2023-10-19T10:05:41.882+0000",
         "2023-10-19",
         "10:05:41"
        ],
        [
         "Kotak Mahindra Bank Limited",
         "KOTAKBANK.NS",
         1738.45,
         -14.95,
         "-0.85%",
         "2023-10-19T10:08:29.588+0000",
         "2023-10-19",
         "10:08:29"
        ]
       ],
       "datasetInfos": [],
       "dbfsResultPath": null,
       "isJsonSchema": true,
       "metadata": {},
       "overflow": false,
       "plotOptions": {
        "customPlotOptions": {},
        "displayType": "table",
        "pivotAggregation": null,
        "pivotColumns": null,
        "xColumns": null,
        "yColumns": null
       },
       "removedWidgets": [],
       "schema": [
        {
         "metadata": "{}",
         "name": "Company_Name",
         "type": "\"string\""
        },
        {
         "metadata": "{}",
         "name": "Symbol",
         "type": "\"string\""
        },
        {
         "metadata": "{}",
         "name": "Indian_Market_Price",
         "type": "\"float\""
        },
        {
         "metadata": "{}",
         "name": "Market_Price_Change",
         "type": "\"float\""
        },
        {
         "metadata": "{}",
         "name": "Market_ChangePercent",
         "type": "\"string\""
        },
        {
         "metadata": "{}",
         "name": "confluent_timestamp",
         "type": "\"timestamp\""
        },
        {
         "metadata": "{}",
         "name": "Date",
         "type": "\"string\""
        },
        {
         "metadata": "{}",
         "name": "Time",
         "type": "\"string\""
        }
       ],
       "type": "table"
      }
     },
     "output_type": "display_data"
    },
    {
     "output_type": "display_data",
     "data": {
      "text/plain": [
       "Databricks visualization. Run in Databricks to view."
      ]
     },
     "metadata": {
      "application/vnd.databricks.v1.subcommand+json": {
       "baseErrorDetails": null,
       "bindings": {},
       "collapsed": false,
       "command": "# Databricks no-op command",
       "commandTitle": "Visualization 1",
       "commandType": "auto",
       "commandVersion": 0,
       "commentThread": [],
       "commentsVisible": false,
       "contentSha256Hex": null,
       "customPlotOptions": {
        "redashChart": [
         {
          "key": "type",
          "value": "CHART"
         },
         {
          "key": "options",
          "value": {
           "alignYAxesAtZero": true,
           "coefficient": 1,
           "columnConfigurationMap": {
            "series": {
             "column": "Symbol",
             "id": "column_fc069519221"
            },
            "x": {
             "column": "Time",
             "id": "column_fc069519218"
            },
            "y": [
             {
              "column": "Indian_Market_Price",
              "id": "column_fc069519220",
              "transform": "SUM"
             }
            ]
           },
           "dateTimeFormat": "DD/MM/YYYY HH:mm",
           "direction": {
            "type": "counterclockwise"
           },
           "error_y": {
            "type": "data",
            "visible": true
           },
           "globalSeriesType": "line",
           "isAggregationOn": true,
           "legend": {
            "traceorder": "normal"
           },
           "missingValuesAsZero": true,
           "numberFormat": "0,0[.]00000",
           "percentFormat": "0[.]00%",
           "series": {
            "error_y": {
             "type": "data",
             "visible": true
            },
            "stacking": null
           },
           "seriesOptions": {
            "column_fc069519220": {
             "type": "line",
             "yAxis": 0
            }
           },
           "showDataLabels": false,
           "sizemode": "diameter",
           "sortX": true,
           "sortY": true,
           "swappedAxes": false,
           "textFormat": "",
           "useAggregationsUi": true,
           "valuesOptions": {},
           "version": 2,
           "xAxis": {
            "labels": {
             "enabled": true
            },
            "type": "-"
           },
           "yAxis": [
            {
             "type": "-"
            },
            {
             "opposite": true,
             "type": "-"
            }
           ]
          }
         }
        ]
       },
       "datasetPreviewNameToCmdIdMap": {},
       "diffDeletes": [],
       "diffInserts": [],
       "displayType": "redashChart",
       "error": null,
       "errorDetails": null,
       "errorSummary": null,
       "errorTraceType": null,
       "finishTime": 0,
       "globalVars": {},
       "guid": "",
       "height": "auto",
       "hideCommandCode": false,
       "hideCommandResult": false,
       "iPythonMetadata": null,
       "inputWidgets": {},
       "isLockedInExamMode": false,
       "latestUser": "a user",
       "latestUserId": null,
       "listResultMetadata": null,
       "metadata": {},
       "nuid": "eac39c8b-0c3f-4cf1-ab52-52c7016a9656",
       "origId": 0,
       "parentHierarchy": [],
       "pivotAggregation": null,
       "pivotColumns": null,
       "position": 8.0,
       "resultDbfsErrorMessage": null,
       "resultDbfsStatus": "INLINED_IN_TREE",
       "results": null,
       "showCommandTitle": false,
       "startTime": 0,
       "state": "input",
       "streamStates": {},
       "subcommandOptions": {
        "queryPlan": {
         "groups": [
          {
           "column": "Time",
           "type": "column"
          },
          {
           "column": "Symbol",
           "type": "column"
          }
         ],
         "selects": [
          {
           "column": "Time",
           "type": "column"
          },
          {
           "alias": "column_fc069519220",
           "args": [
            {
             "column": "Indian_Market_Price",
             "type": "column"
            }
           ],
           "function": "SUM",
           "type": "function"
          },
          {
           "column": "Symbol",
           "type": "column"
          }
         ]
        }
       },
       "submitTime": 0,
       "subtype": "tableResultSubCmd.visualization",
       "tableResultIndex": 0,
       "useConsistentColors": false,
       "version": "CommandV1",
       "width": "auto",
       "workflows": [],
       "xColumns": null,
       "yColumns": null
      }
     },
     "output_type": "display_data"
    }
   ],
   "source": [
    "dash_kotak=globaldf.filter(globaldf.Symbol==\"KOTAKBANK.NS\")\n",
    "display(dash_kotak)"
   ]
  },
  {
   "cell_type": "code",
   "execution_count": 0,
   "metadata": {
    "application/vnd.databricks.v1+cell": {
     "cellMetadata": {
      "byteLimit": 2048000,
      "rowLimit": 10000
     },
     "inputWidgets": {},
     "nuid": "90e36771-768d-4309-a1b9-c395f8090683",
     "showTitle": false,
     "title": ""
    }
   },
   "outputs": [
    {
     "output_type": "display_data",
     "data": {
      "text/html": [
       "<style scoped>\n",
       "  .table-result-container {\n",
       "    max-height: 300px;\n",
       "    overflow: auto;\n",
       "  }\n",
       "  table, th, td {\n",
       "    border: 1px solid black;\n",
       "    border-collapse: collapse;\n",
       "  }\n",
       "  th, td {\n",
       "    padding: 5px;\n",
       "  }\n",
       "  th {\n",
       "    text-align: left;\n",
       "  }\n",
       "</style><div class='table-result-container'><table class='table-result'><thead style='background-color: white'><tr><th>Company_Name</th><th>Symbol</th><th>Indian_Market_Price</th><th>Market_Price_Change</th><th>Market_ChangePercent</th><th>confluent_timestamp</th><th>Date</th><th>Time</th></tr></thead><tbody><tr><td>ICICI Bank Limited</td><td>ICICIBANK.NS</td><td>934.75</td><td>-9.0</td><td>-0.95%</td><td>2023-10-19T09:46:56.122+0000</td><td>2023-10-19</td><td>09:46:56</td></tr><tr><td>ICICI Bank Limited</td><td>ICICIBANK.NS</td><td>939.15</td><td>-4.6</td><td>-0.49%</td><td>2023-10-19T09:17:26.526+0000</td><td>2023-10-19</td><td>09:17:26</td></tr><tr><td>ICICI Bank Limited</td><td>ICICIBANK.NS</td><td>939.05</td><td>-4.7</td><td>-0.50%</td><td>2023-10-19T09:20:29.189+0000</td><td>2023-10-19</td><td>09:20:29</td></tr><tr><td>ICICI Bank Limited</td><td>ICICIBANK.NS</td><td>938.35</td><td>-5.4</td><td>-0.57%</td><td>2023-10-19T09:28:42.120+0000</td><td>2023-10-19</td><td>09:28:42</td></tr><tr><td>ICICI Bank Limited</td><td>ICICIBANK.NS</td><td>938.2</td><td>-5.55</td><td>-0.59%</td><td>2023-10-19T09:31:24.537+0000</td><td>2023-10-19</td><td>09:31:24</td></tr><tr><td>ICICI Bank Limited</td><td>ICICIBANK.NS</td><td>937.9</td><td>-5.85</td><td>-0.62%</td><td>2023-10-19T09:34:09.523+0000</td><td>2023-10-19</td><td>09:34:09</td></tr><tr><td>ICICI Bank Limited</td><td>ICICIBANK.NS</td><td>937.85</td><td>-5.9</td><td>-0.63%</td><td>2023-10-19T09:36:38.259+0000</td><td>2023-10-19</td><td>09:36:38</td></tr><tr><td>ICICI Bank Limited</td><td>ICICIBANK.NS</td><td>935.55</td><td>-8.2</td><td>-0.87%</td><td>2023-10-19T09:39:16.229+0000</td><td>2023-10-19</td><td>09:39:16</td></tr><tr><td>ICICI Bank Limited</td><td>ICICIBANK.NS</td><td>936.1</td><td>-7.65</td><td>-0.81%</td><td>2023-10-19T09:41:54.354+0000</td><td>2023-10-19</td><td>09:41:54</td></tr><tr><td>ICICI Bank Limited</td><td>ICICIBANK.NS</td><td>934.9</td><td>-8.85</td><td>-0.94%</td><td>2023-10-19T09:50:18.807+0000</td><td>2023-10-19</td><td>09:50:18</td></tr><tr><td>ICICI Bank Limited</td><td>ICICIBANK.NS</td><td>934.85</td><td>-8.9</td><td>-0.94%</td><td>2023-10-19T09:55:43.349+0000</td><td>2023-10-19</td><td>09:55:43</td></tr><tr><td>ICICI Bank Limited</td><td>ICICIBANK.NS</td><td>934.85</td><td>-8.9</td><td>-0.94%</td><td>2023-10-19T10:00:38.547+0000</td><td>2023-10-19</td><td>10:00:38</td></tr><tr><td>ICICI Bank Limited</td><td>ICICIBANK.NS</td><td>935.75</td><td>-8.0</td><td>-0.85%</td><td>2023-10-19T10:03:13.288+0000</td><td>2023-10-19</td><td>10:03:13</td></tr><tr><td>ICICI Bank Limited</td><td>ICICIBANK.NS</td><td>935.75</td><td>-8.0</td><td>-0.85%</td><td>2023-10-19T10:08:51.931+0000</td><td>2023-10-19</td><td>10:08:51</td></tr><tr><td>ICICI Bank Limited</td><td>ICICIBANK.NS</td><td>938.35</td><td>-5.4</td><td>-0.57%</td><td>2023-10-19T09:22:53.718+0000</td><td>2023-10-19</td><td>09:22:53</td></tr><tr><td>ICICI Bank Limited</td><td>ICICIBANK.NS</td><td>935.05</td><td>-8.7</td><td>-0.92%</td><td>2023-10-19T09:44:16.876+0000</td><td>2023-10-19</td><td>09:44:16</td></tr><tr><td>ICICI Bank Limited</td><td>ICICIBANK.NS</td><td>934.85</td><td>-8.9</td><td>-0.94%</td><td>2023-10-19T09:58:10.597+0000</td><td>2023-10-19</td><td>09:58:10</td></tr><tr><td>ICICI Bank Limited</td><td>ICICIBANK.NS</td><td>935.75</td><td>-8.0</td><td>-0.85%</td><td>2023-10-19T10:05:58.442+0000</td><td>2023-10-19</td><td>10:05:58</td></tr><tr><td>ICICI Bank Limited</td><td>ICICIBANK.NS</td><td>938.8</td><td>-4.95</td><td>-0.52%</td><td>2023-10-19T09:25:39.299+0000</td><td>2023-10-19</td><td>09:25:39</td></tr><tr><td>ICICI Bank Limited</td><td>ICICIBANK.NS</td><td>934.6</td><td>-9.15</td><td>-0.97%</td><td>2023-10-19T09:52:46.812+0000</td><td>2023-10-19</td><td>09:52:46</td></tr></tbody></table></div>"
      ]
     },
     "metadata": {
      "application/vnd.databricks.v1+output": {
       "addedWidgets": {},
       "aggData": [],
       "aggError": "",
       "aggOverflow": false,
       "aggSchema": [],
       "aggSeriesLimitReached": false,
       "aggType": "",
       "arguments": {},
       "columnCustomDisplayInfos": {},
       "data": [
        [
         "ICICI Bank Limited",
         "ICICIBANK.NS",
         934.75,
         -9.0,
         "-0.95%",
         "2023-10-19T09:46:56.122+0000",
         "2023-10-19",
         "09:46:56"
        ],
        [
         "ICICI Bank Limited",
         "ICICIBANK.NS",
         939.15,
         -4.6,
         "-0.49%",
         "2023-10-19T09:17:26.526+0000",
         "2023-10-19",
         "09:17:26"
        ],
        [
         "ICICI Bank Limited",
         "ICICIBANK.NS",
         939.05,
         -4.7,
         "-0.50%",
         "2023-10-19T09:20:29.189+0000",
         "2023-10-19",
         "09:20:29"
        ],
        [
         "ICICI Bank Limited",
         "ICICIBANK.NS",
         938.35,
         -5.4,
         "-0.57%",
         "2023-10-19T09:28:42.120+0000",
         "2023-10-19",
         "09:28:42"
        ],
        [
         "ICICI Bank Limited",
         "ICICIBANK.NS",
         938.2,
         -5.55,
         "-0.59%",
         "2023-10-19T09:31:24.537+0000",
         "2023-10-19",
         "09:31:24"
        ],
        [
         "ICICI Bank Limited",
         "ICICIBANK.NS",
         937.9,
         -5.85,
         "-0.62%",
         "2023-10-19T09:34:09.523+0000",
         "2023-10-19",
         "09:34:09"
        ],
        [
         "ICICI Bank Limited",
         "ICICIBANK.NS",
         937.85,
         -5.9,
         "-0.63%",
         "2023-10-19T09:36:38.259+0000",
         "2023-10-19",
         "09:36:38"
        ],
        [
         "ICICI Bank Limited",
         "ICICIBANK.NS",
         935.55,
         -8.2,
         "-0.87%",
         "2023-10-19T09:39:16.229+0000",
         "2023-10-19",
         "09:39:16"
        ],
        [
         "ICICI Bank Limited",
         "ICICIBANK.NS",
         936.1,
         -7.65,
         "-0.81%",
         "2023-10-19T09:41:54.354+0000",
         "2023-10-19",
         "09:41:54"
        ],
        [
         "ICICI Bank Limited",
         "ICICIBANK.NS",
         934.9,
         -8.85,
         "-0.94%",
         "2023-10-19T09:50:18.807+0000",
         "2023-10-19",
         "09:50:18"
        ],
        [
         "ICICI Bank Limited",
         "ICICIBANK.NS",
         934.85,
         -8.9,
         "-0.94%",
         "2023-10-19T09:55:43.349+0000",
         "2023-10-19",
         "09:55:43"
        ],
        [
         "ICICI Bank Limited",
         "ICICIBANK.NS",
         934.85,
         -8.9,
         "-0.94%",
         "2023-10-19T10:00:38.547+0000",
         "2023-10-19",
         "10:00:38"
        ],
        [
         "ICICI Bank Limited",
         "ICICIBANK.NS",
         935.75,
         -8.0,
         "-0.85%",
         "2023-10-19T10:03:13.288+0000",
         "2023-10-19",
         "10:03:13"
        ],
        [
         "ICICI Bank Limited",
         "ICICIBANK.NS",
         935.75,
         -8.0,
         "-0.85%",
         "2023-10-19T10:08:51.931+0000",
         "2023-10-19",
         "10:08:51"
        ],
        [
         "ICICI Bank Limited",
         "ICICIBANK.NS",
         938.35,
         -5.4,
         "-0.57%",
         "2023-10-19T09:22:53.718+0000",
         "2023-10-19",
         "09:22:53"
        ],
        [
         "ICICI Bank Limited",
         "ICICIBANK.NS",
         935.05,
         -8.7,
         "-0.92%",
         "2023-10-19T09:44:16.876+0000",
         "2023-10-19",
         "09:44:16"
        ],
        [
         "ICICI Bank Limited",
         "ICICIBANK.NS",
         934.85,
         -8.9,
         "-0.94%",
         "2023-10-19T09:58:10.597+0000",
         "2023-10-19",
         "09:58:10"
        ],
        [
         "ICICI Bank Limited",
         "ICICIBANK.NS",
         935.75,
         -8.0,
         "-0.85%",
         "2023-10-19T10:05:58.442+0000",
         "2023-10-19",
         "10:05:58"
        ],
        [
         "ICICI Bank Limited",
         "ICICIBANK.NS",
         938.8,
         -4.95,
         "-0.52%",
         "2023-10-19T09:25:39.299+0000",
         "2023-10-19",
         "09:25:39"
        ],
        [
         "ICICI Bank Limited",
         "ICICIBANK.NS",
         934.6,
         -9.15,
         "-0.97%",
         "2023-10-19T09:52:46.812+0000",
         "2023-10-19",
         "09:52:46"
        ]
       ],
       "datasetInfos": [],
       "dbfsResultPath": null,
       "isJsonSchema": true,
       "metadata": {
        "isDbfsCommandResult": false
       },
       "overflow": false,
       "plotOptions": {
        "customPlotOptions": {},
        "displayType": "table",
        "pivotAggregation": null,
        "pivotColumns": null,
        "xColumns": null,
        "yColumns": null
       },
       "removedWidgets": [],
       "schema": [
        {
         "metadata": "{}",
         "name": "Company_Name",
         "type": "\"string\""
        },
        {
         "metadata": "{}",
         "name": "Symbol",
         "type": "\"string\""
        },
        {
         "metadata": "{}",
         "name": "Indian_Market_Price",
         "type": "\"float\""
        },
        {
         "metadata": "{}",
         "name": "Market_Price_Change",
         "type": "\"float\""
        },
        {
         "metadata": "{}",
         "name": "Market_ChangePercent",
         "type": "\"string\""
        },
        {
         "metadata": "{}",
         "name": "confluent_timestamp",
         "type": "\"timestamp\""
        },
        {
         "metadata": "{}",
         "name": "Date",
         "type": "\"string\""
        },
        {
         "metadata": "{}",
         "name": "Time",
         "type": "\"string\""
        }
       ],
       "type": "table"
      }
     },
     "output_type": "display_data"
    },
    {
     "output_type": "display_data",
     "data": {
      "text/plain": [
       "Databricks visualization. Run in Databricks to view."
      ]
     },
     "metadata": {
      "application/vnd.databricks.v1.subcommand+json": {
       "baseErrorDetails": null,
       "bindings": {},
       "collapsed": false,
       "command": "# Databricks no-op command",
       "commandTitle": "Visualization 1",
       "commandType": "auto",
       "commandVersion": 0,
       "commentThread": [],
       "commentsVisible": false,
       "contentSha256Hex": null,
       "customPlotOptions": {
        "redashChart": [
         {
          "key": "type",
          "value": "CHART"
         },
         {
          "key": "options",
          "value": {
           "alignYAxesAtZero": true,
           "coefficient": 1,
           "columnConfigurationMap": {
            "series": {
             "column": "Symbol",
             "id": "column_fc069519288"
            },
            "x": {
             "column": "Time",
             "id": "column_fc069519285"
            },
            "y": [
             {
              "column": "Indian_Market_Price",
              "id": "column_fc069519287",
              "transform": "SUM"
             }
            ]
           },
           "dateTimeFormat": "DD/MM/YYYY HH:mm",
           "direction": {
            "type": "counterclockwise"
           },
           "error_y": {
            "type": "data",
            "visible": true
           },
           "globalSeriesType": "line",
           "isAggregationOn": true,
           "legend": {
            "traceorder": "normal"
           },
           "missingValuesAsZero": true,
           "numberFormat": "0,0[.]00000",
           "percentFormat": "0[.]00%",
           "series": {
            "error_y": {
             "type": "data",
             "visible": true
            },
            "stacking": null
           },
           "seriesOptions": {
            "column_fc069519287": {
             "type": "line",
             "yAxis": 0
            }
           },
           "showDataLabels": false,
           "sizemode": "diameter",
           "sortX": true,
           "sortY": true,
           "swappedAxes": false,
           "textFormat": "",
           "useAggregationsUi": true,
           "valuesOptions": {},
           "version": 2,
           "xAxis": {
            "labels": {
             "enabled": true
            },
            "type": "-"
           },
           "yAxis": [
            {
             "type": "-"
            },
            {
             "opposite": true,
             "type": "-"
            }
           ]
          }
         }
        ]
       },
       "datasetPreviewNameToCmdIdMap": {},
       "diffDeletes": [],
       "diffInserts": [],
       "displayType": "redashChart",
       "error": null,
       "errorDetails": null,
       "errorSummary": null,
       "errorTraceType": null,
       "finishTime": 0,
       "globalVars": {},
       "guid": "",
       "height": "auto",
       "hideCommandCode": false,
       "hideCommandResult": false,
       "iPythonMetadata": null,
       "inputWidgets": {},
       "isLockedInExamMode": false,
       "latestUser": "a user",
       "latestUserId": null,
       "listResultMetadata": null,
       "metadata": {},
       "nuid": "af3ecf10-e08b-4a6d-8330-96418114199f",
       "origId": 0,
       "parentHierarchy": [],
       "pivotAggregation": null,
       "pivotColumns": null,
       "position": 9.0,
       "resultDbfsErrorMessage": null,
       "resultDbfsStatus": "INLINED_IN_TREE",
       "results": null,
       "showCommandTitle": false,
       "startTime": 0,
       "state": "input",
       "streamStates": {},
       "subcommandOptions": {
        "queryPlan": {
         "groups": [
          {
           "column": "Time",
           "type": "column"
          },
          {
           "column": "Symbol",
           "type": "column"
          }
         ],
         "selects": [
          {
           "column": "Time",
           "type": "column"
          },
          {
           "alias": "column_fc069519287",
           "args": [
            {
             "column": "Indian_Market_Price",
             "type": "column"
            }
           ],
           "function": "SUM",
           "type": "function"
          },
          {
           "column": "Symbol",
           "type": "column"
          }
         ]
        }
       },
       "submitTime": 0,
       "subtype": "tableResultSubCmd.visualization",
       "tableResultIndex": 0,
       "useConsistentColors": false,
       "version": "CommandV1",
       "width": "auto",
       "workflows": [],
       "xColumns": null,
       "yColumns": null
      }
     },
     "output_type": "display_data"
    }
   ],
   "source": [
    "dash_icici=globaldf.filter(globaldf.Symbol==\"ICICIBANK.NS\")\n",
    "display(dash_icici)"
   ]
  },
  {
   "cell_type": "code",
   "execution_count": 0,
   "metadata": {
    "application/vnd.databricks.v1+cell": {
     "cellMetadata": {
      "byteLimit": 2048000,
      "rowLimit": 10000
     },
     "inputWidgets": {},
     "nuid": "15a54c89-65d5-467f-8dcd-70084e9a1006",
     "showTitle": false,
     "title": ""
    }
   },
   "outputs": [
    {
     "output_type": "display_data",
     "data": {
      "text/html": [
       "<style scoped>\n",
       "  .table-result-container {\n",
       "    max-height: 300px;\n",
       "    overflow: auto;\n",
       "  }\n",
       "  table, th, td {\n",
       "    border: 1px solid black;\n",
       "    border-collapse: collapse;\n",
       "  }\n",
       "  th, td {\n",
       "    padding: 5px;\n",
       "  }\n",
       "  th {\n",
       "    text-align: left;\n",
       "  }\n",
       "</style><div class='table-result-container'><table class='table-result'><thead style='background-color: white'><tr><th>Company_Name</th><th>Symbol</th><th>Indian_Market_Price</th><th>Market_Price_Change</th><th>Market_ChangePercent</th><th>confluent_timestamp</th><th>Date</th><th>Time</th></tr></thead><tbody><tr><td>Reliance Industries Limited</td><td>RELIANCE.NS</td><td>2307.95</td><td>-16.05</td><td>-0.69%</td><td>2023-10-19T09:28:59.262+0000</td><td>2023-10-19</td><td>09:28:59</td></tr><tr><td>Reliance Industries Limited</td><td>RELIANCE.NS</td><td>2308.05</td><td>-15.95</td><td>-0.69%</td><td>2023-10-19T09:20:43.462+0000</td><td>2023-10-19</td><td>09:20:43</td></tr><tr><td>Reliance Industries Limited</td><td>RELIANCE.NS</td><td>2305.95</td><td>-18.05</td><td>-0.78%</td><td>2023-10-19T09:23:10.365+0000</td><td>2023-10-19</td><td>09:23:10</td></tr><tr><td>Reliance Industries Limited</td><td>RELIANCE.NS</td><td>2309.15</td><td>-14.85</td><td>-0.64%</td><td>2023-10-19T09:31:41.916+0000</td><td>2023-10-19</td><td>09:31:41</td></tr><tr><td>Reliance Industries Limited</td><td>RELIANCE.NS</td><td>2305.35</td><td>-18.65</td><td>-0.80%</td><td>2023-10-19T09:44:32.560+0000</td><td>2023-10-19</td><td>09:44:32</td></tr><tr><td>Reliance Industries Limited</td><td>RELIANCE.NS</td><td>2310.25</td><td>-13.75</td><td>-0.59%</td><td>2023-10-19T09:34:24.727+0000</td><td>2023-10-19</td><td>09:34:24</td></tr><tr><td>Reliance Industries Limited</td><td>RELIANCE.NS</td><td>2307.55</td><td>-16.45</td><td>-0.71%</td><td>2023-10-19T09:25:56.385+0000</td><td>2023-10-19</td><td>09:25:56</td></tr><tr><td>Reliance Industries Limited</td><td>RELIANCE.NS</td><td>2309.35</td><td>-14.65</td><td>-0.63%</td><td>2023-10-19T09:36:54.537+0000</td><td>2023-10-19</td><td>09:36:54</td></tr><tr><td>Reliance Industries Limited</td><td>RELIANCE.NS</td><td>2308.7</td><td>-15.3</td><td>-0.66%</td><td>2023-10-19T09:17:44.119+0000</td><td>2023-10-19</td><td>09:17:44</td></tr><tr><td>Reliance Industries Limited</td><td>RELIANCE.NS</td><td>2309.0</td><td>-15.0</td><td>-0.65%</td><td>2023-10-19T09:39:32.128+0000</td><td>2023-10-19</td><td>09:39:32</td></tr><tr><td>Reliance Industries Limited</td><td>RELIANCE.NS</td><td>2306.3</td><td>-17.7</td><td>-0.76%</td><td>2023-10-19T09:42:10.091+0000</td><td>2023-10-19</td><td>09:42:10</td></tr><tr><td>Reliance Industries Limited</td><td>RELIANCE.NS</td><td>2306.85</td><td>-17.15</td><td>-0.74%</td><td>2023-10-19T09:47:13.939+0000</td><td>2023-10-19</td><td>09:47:13</td></tr><tr><td>Reliance Industries Limited</td><td>RELIANCE.NS</td><td>2303.35</td><td>-20.65</td><td>-0.89%</td><td>2023-10-19T09:53:02.564+0000</td><td>2023-10-19</td><td>09:53:02</td></tr><tr><td>Reliance Industries Limited</td><td>RELIANCE.NS</td><td>2305.05</td><td>-18.95</td><td>-0.82%</td><td>2023-10-19T09:50:35.189+0000</td><td>2023-10-19</td><td>09:50:35</td></tr><tr><td>Reliance Industries Limited</td><td>RELIANCE.NS</td><td>2303.4</td><td>-20.6</td><td>-0.89%</td><td>2023-10-19T09:56:00.191+0000</td><td>2023-10-19</td><td>09:56:00</td></tr><tr><td>Reliance Industries Limited</td><td>RELIANCE.NS</td><td>2302.0</td><td>-22.0</td><td>-0.95%</td><td>2023-10-19T09:58:27.585+0000</td><td>2023-10-19</td><td>09:58:27</td></tr><tr><td>Reliance Industries Limited</td><td>RELIANCE.NS</td><td>2304.65</td><td>-19.35</td><td>-0.83%</td><td>2023-10-19T10:00:53.092+0000</td><td>2023-10-19</td><td>10:00:53</td></tr><tr><td>Reliance Industries Limited</td><td>RELIANCE.NS</td><td>2306.15</td><td>-17.85</td><td>-0.77%</td><td>2023-10-19T10:03:28.699+0000</td><td>2023-10-19</td><td>10:03:28</td></tr><tr><td>Reliance Industries Limited</td><td>RELIANCE.NS</td><td>2306.15</td><td>-17.85</td><td>-0.77%</td><td>2023-10-19T10:06:14.857+0000</td><td>2023-10-19</td><td>10:06:14</td></tr><tr><td>Reliance Industries Limited</td><td>RELIANCE.NS</td><td>2306.15</td><td>-17.85</td><td>-0.77%</td><td>2023-10-19T10:09:08.456+0000</td><td>2023-10-19</td><td>10:09:08</td></tr></tbody></table></div>"
      ]
     },
     "metadata": {
      "application/vnd.databricks.v1+output": {
       "addedWidgets": {},
       "aggData": [],
       "aggError": "",
       "aggOverflow": false,
       "aggSchema": [],
       "aggSeriesLimitReached": false,
       "aggType": "",
       "arguments": {},
       "columnCustomDisplayInfos": {},
       "data": [
        [
         "Reliance Industries Limited",
         "RELIANCE.NS",
         2307.95,
         -16.05,
         "-0.69%",
         "2023-10-19T09:28:59.262+0000",
         "2023-10-19",
         "09:28:59"
        ],
        [
         "Reliance Industries Limited",
         "RELIANCE.NS",
         2308.05,
         -15.95,
         "-0.69%",
         "2023-10-19T09:20:43.462+0000",
         "2023-10-19",
         "09:20:43"
        ],
        [
         "Reliance Industries Limited",
         "RELIANCE.NS",
         2305.95,
         -18.05,
         "-0.78%",
         "2023-10-19T09:23:10.365+0000",
         "2023-10-19",
         "09:23:10"
        ],
        [
         "Reliance Industries Limited",
         "RELIANCE.NS",
         2309.15,
         -14.85,
         "-0.64%",
         "2023-10-19T09:31:41.916+0000",
         "2023-10-19",
         "09:31:41"
        ],
        [
         "Reliance Industries Limited",
         "RELIANCE.NS",
         2305.35,
         -18.65,
         "-0.80%",
         "2023-10-19T09:44:32.560+0000",
         "2023-10-19",
         "09:44:32"
        ],
        [
         "Reliance Industries Limited",
         "RELIANCE.NS",
         2310.25,
         -13.75,
         "-0.59%",
         "2023-10-19T09:34:24.727+0000",
         "2023-10-19",
         "09:34:24"
        ],
        [
         "Reliance Industries Limited",
         "RELIANCE.NS",
         2307.55,
         -16.45,
         "-0.71%",
         "2023-10-19T09:25:56.385+0000",
         "2023-10-19",
         "09:25:56"
        ],
        [
         "Reliance Industries Limited",
         "RELIANCE.NS",
         2309.35,
         -14.65,
         "-0.63%",
         "2023-10-19T09:36:54.537+0000",
         "2023-10-19",
         "09:36:54"
        ],
        [
         "Reliance Industries Limited",
         "RELIANCE.NS",
         2308.7,
         -15.3,
         "-0.66%",
         "2023-10-19T09:17:44.119+0000",
         "2023-10-19",
         "09:17:44"
        ],
        [
         "Reliance Industries Limited",
         "RELIANCE.NS",
         2309.0,
         -15.0,
         "-0.65%",
         "2023-10-19T09:39:32.128+0000",
         "2023-10-19",
         "09:39:32"
        ],
        [
         "Reliance Industries Limited",
         "RELIANCE.NS",
         2306.3,
         -17.7,
         "-0.76%",
         "2023-10-19T09:42:10.091+0000",
         "2023-10-19",
         "09:42:10"
        ],
        [
         "Reliance Industries Limited",
         "RELIANCE.NS",
         2306.85,
         -17.15,
         "-0.74%",
         "2023-10-19T09:47:13.939+0000",
         "2023-10-19",
         "09:47:13"
        ],
        [
         "Reliance Industries Limited",
         "RELIANCE.NS",
         2303.35,
         -20.65,
         "-0.89%",
         "2023-10-19T09:53:02.564+0000",
         "2023-10-19",
         "09:53:02"
        ],
        [
         "Reliance Industries Limited",
         "RELIANCE.NS",
         2305.05,
         -18.95,
         "-0.82%",
         "2023-10-19T09:50:35.189+0000",
         "2023-10-19",
         "09:50:35"
        ],
        [
         "Reliance Industries Limited",
         "RELIANCE.NS",
         2303.4,
         -20.6,
         "-0.89%",
         "2023-10-19T09:56:00.191+0000",
         "2023-10-19",
         "09:56:00"
        ],
        [
         "Reliance Industries Limited",
         "RELIANCE.NS",
         2302.0,
         -22.0,
         "-0.95%",
         "2023-10-19T09:58:27.585+0000",
         "2023-10-19",
         "09:58:27"
        ],
        [
         "Reliance Industries Limited",
         "RELIANCE.NS",
         2304.65,
         -19.35,
         "-0.83%",
         "2023-10-19T10:00:53.092+0000",
         "2023-10-19",
         "10:00:53"
        ],
        [
         "Reliance Industries Limited",
         "RELIANCE.NS",
         2306.15,
         -17.85,
         "-0.77%",
         "2023-10-19T10:03:28.699+0000",
         "2023-10-19",
         "10:03:28"
        ],
        [
         "Reliance Industries Limited",
         "RELIANCE.NS",
         2306.15,
         -17.85,
         "-0.77%",
         "2023-10-19T10:06:14.857+0000",
         "2023-10-19",
         "10:06:14"
        ],
        [
         "Reliance Industries Limited",
         "RELIANCE.NS",
         2306.15,
         -17.85,
         "-0.77%",
         "2023-10-19T10:09:08.456+0000",
         "2023-10-19",
         "10:09:08"
        ]
       ],
       "datasetInfos": [],
       "dbfsResultPath": null,
       "isJsonSchema": true,
       "metadata": {},
       "overflow": false,
       "plotOptions": {
        "customPlotOptions": {},
        "displayType": "table",
        "pivotAggregation": null,
        "pivotColumns": null,
        "xColumns": null,
        "yColumns": null
       },
       "removedWidgets": [],
       "schema": [
        {
         "metadata": "{}",
         "name": "Company_Name",
         "type": "\"string\""
        },
        {
         "metadata": "{}",
         "name": "Symbol",
         "type": "\"string\""
        },
        {
         "metadata": "{}",
         "name": "Indian_Market_Price",
         "type": "\"float\""
        },
        {
         "metadata": "{}",
         "name": "Market_Price_Change",
         "type": "\"float\""
        },
        {
         "metadata": "{}",
         "name": "Market_ChangePercent",
         "type": "\"string\""
        },
        {
         "metadata": "{}",
         "name": "confluent_timestamp",
         "type": "\"timestamp\""
        },
        {
         "metadata": "{}",
         "name": "Date",
         "type": "\"string\""
        },
        {
         "metadata": "{}",
         "name": "Time",
         "type": "\"string\""
        }
       ],
       "type": "table"
      }
     },
     "output_type": "display_data"
    },
    {
     "output_type": "display_data",
     "data": {
      "text/plain": [
       "Databricks visualization. Run in Databricks to view."
      ]
     },
     "metadata": {
      "application/vnd.databricks.v1.subcommand+json": {
       "baseErrorDetails": null,
       "bindings": {},
       "collapsed": false,
       "command": "# Databricks no-op command",
       "commandTitle": "Visualization 1",
       "commandType": "auto",
       "commandVersion": 0,
       "commentThread": [],
       "commentsVisible": false,
       "contentSha256Hex": null,
       "customPlotOptions": {
        "redashChart": [
         {
          "key": "type",
          "value": "CHART"
         },
         {
          "key": "options",
          "value": {
           "alignYAxesAtZero": true,
           "coefficient": 1,
           "columnConfigurationMap": {
            "series": {
             "column": "Symbol",
             "id": "column_fc069519247"
            },
            "x": {
             "column": "Time",
             "id": "column_fc069519244"
            },
            "y": [
             {
              "column": "Indian_Market_Price",
              "id": "column_fc069519246",
              "transform": "SUM"
             }
            ]
           },
           "dateTimeFormat": "DD/MM/YYYY HH:mm",
           "direction": {
            "type": "counterclockwise"
           },
           "error_y": {
            "type": "data",
            "visible": true
           },
           "globalSeriesType": "line",
           "isAggregationOn": true,
           "legend": {
            "traceorder": "normal"
           },
           "missingValuesAsZero": true,
           "numberFormat": "0,0[.]00000",
           "percentFormat": "0[.]00%",
           "series": {
            "error_y": {
             "type": "data",
             "visible": true
            },
            "stacking": null
           },
           "seriesOptions": {
            "column_fc069519246": {
             "type": "line",
             "yAxis": 0
            }
           },
           "showDataLabels": false,
           "sizemode": "diameter",
           "sortX": true,
           "sortY": true,
           "swappedAxes": false,
           "textFormat": "",
           "useAggregationsUi": true,
           "valuesOptions": {},
           "version": 2,
           "xAxis": {
            "labels": {
             "enabled": true
            },
            "type": "-"
           },
           "yAxis": [
            {
             "type": "-"
            },
            {
             "opposite": true,
             "type": "-"
            }
           ]
          }
         }
        ]
       },
       "datasetPreviewNameToCmdIdMap": {},
       "diffDeletes": [],
       "diffInserts": [],
       "displayType": "redashChart",
       "error": null,
       "errorDetails": null,
       "errorSummary": null,
       "errorTraceType": null,
       "finishTime": 0,
       "globalVars": {},
       "guid": "",
       "height": "auto",
       "hideCommandCode": false,
       "hideCommandResult": false,
       "iPythonMetadata": null,
       "inputWidgets": {},
       "isLockedInExamMode": false,
       "latestUser": "a user",
       "latestUserId": null,
       "listResultMetadata": null,
       "metadata": {},
       "nuid": "90cd5545-455c-4321-8977-510945bd109d",
       "origId": 0,
       "parentHierarchy": [],
       "pivotAggregation": null,
       "pivotColumns": null,
       "position": 10.0,
       "resultDbfsErrorMessage": null,
       "resultDbfsStatus": "INLINED_IN_TREE",
       "results": null,
       "showCommandTitle": false,
       "startTime": 0,
       "state": "input",
       "streamStates": {},
       "subcommandOptions": {
        "queryPlan": {
         "groups": [
          {
           "column": "Time",
           "type": "column"
          },
          {
           "column": "Symbol",
           "type": "column"
          }
         ],
         "selects": [
          {
           "column": "Time",
           "type": "column"
          },
          {
           "alias": "column_fc069519246",
           "args": [
            {
             "column": "Indian_Market_Price",
             "type": "column"
            }
           ],
           "function": "SUM",
           "type": "function"
          },
          {
           "column": "Symbol",
           "type": "column"
          }
         ]
        }
       },
       "submitTime": 0,
       "subtype": "tableResultSubCmd.visualization",
       "tableResultIndex": 0,
       "useConsistentColors": false,
       "version": "CommandV1",
       "width": "auto",
       "workflows": [],
       "xColumns": null,
       "yColumns": null
      }
     },
     "output_type": "display_data"
    }
   ],
   "source": [
    "dash_reliance=globaldf.filter(globaldf.Symbol==\"RELIANCE.NS\")\n",
    "display(dash_reliance)"
   ]
  },
  {
   "cell_type": "code",
   "execution_count": 0,
   "metadata": {
    "application/vnd.databricks.v1+cell": {
     "cellMetadata": {
      "byteLimit": 2048000,
      "rowLimit": 10000
     },
     "inputWidgets": {},
     "nuid": "6b559976-9b73-4be7-8832-a27e526f8e13",
     "showTitle": false,
     "title": ""
    }
   },
   "outputs": [
    {
     "output_type": "display_data",
     "data": {
      "text/html": [
       "<style scoped>\n",
       "  .table-result-container {\n",
       "    max-height: 300px;\n",
       "    overflow: auto;\n",
       "  }\n",
       "  table, th, td {\n",
       "    border: 1px solid black;\n",
       "    border-collapse: collapse;\n",
       "  }\n",
       "  th, td {\n",
       "    padding: 5px;\n",
       "  }\n",
       "  th {\n",
       "    text-align: left;\n",
       "  }\n",
       "</style><div class='table-result-container'><table class='table-result'><thead style='background-color: white'><tr><th>Company_Name</th><th>Symbol</th><th>Indian_Market_Price</th><th>Market_Price_Change</th><th>Market_ChangePercent</th><th>confluent_timestamp</th><th>Date</th><th>Time</th></tr></thead><tbody><tr><td>Tata Consultancy Services Limited</td><td>TCS.NS</td><td>3459.4</td><td>-27.85</td><td>-0.80%</td><td>2023-10-19T09:29:14.893+0000</td><td>2023-10-19</td><td>09:29:14</td></tr><tr><td>Tata Consultancy Services Limited</td><td>TCS.NS</td><td>3458.0</td><td>-29.25</td><td>-0.84%</td><td>2023-10-19T09:34:39.466+0000</td><td>2023-10-19</td><td>09:34:39</td></tr><tr><td>Tata Consultancy Services Limited</td><td>TCS.NS</td><td>3456.8</td><td>-30.45</td><td>-0.87%</td><td>2023-10-19T09:39:47.757+0000</td><td>2023-10-19</td><td>09:39:47</td></tr><tr><td>Tata Consultancy Services Limited</td><td>TCS.NS</td><td>3456.0</td><td>-31.25</td><td>-0.90%</td><td>2023-10-19T09:44:48.634+0000</td><td>2023-10-19</td><td>09:44:48</td></tr><tr><td>Tata Consultancy Services Limited</td><td>TCS.NS</td><td>3459.95</td><td>-27.3</td><td>-0.78%</td><td>2023-10-19T09:26:13.162+0000</td><td>2023-10-19</td><td>09:26:13</td></tr><tr><td>Tata Consultancy Services Limited</td><td>TCS.NS</td><td>3459.0</td><td>-28.25</td><td>-0.81%</td><td>2023-10-19T09:20:57.191+0000</td><td>2023-10-19</td><td>09:20:57</td></tr><tr><td>Tata Consultancy Services Limited</td><td>TCS.NS</td><td>3456.35</td><td>-30.9</td><td>-0.89%</td><td>2023-10-19T09:42:23.705+0000</td><td>2023-10-19</td><td>09:42:23</td></tr><tr><td>Tata Consultancy Services Limited</td><td>TCS.NS</td><td>3458.05</td><td>-29.2</td><td>-0.84%</td><td>2023-10-19T09:18:07.464+0000</td><td>2023-10-19</td><td>09:18:07</td></tr><tr><td>Tata Consultancy Services Limited</td><td>TCS.NS</td><td>3460.65</td><td>-26.6</td><td>-0.76%</td><td>2023-10-19T09:23:23.267+0000</td><td>2023-10-19</td><td>09:23:23</td></tr><tr><td>Tata Consultancy Services Limited</td><td>TCS.NS</td><td>3460.15</td><td>-27.1</td><td>-0.78%</td><td>2023-10-19T09:31:59.190+0000</td><td>2023-10-19</td><td>09:31:59</td></tr><tr><td>Tata Consultancy Services Limited</td><td>TCS.NS</td><td>3457.0</td><td>-30.25</td><td>-0.87%</td><td>2023-10-19T09:37:08.217+0000</td><td>2023-10-19</td><td>09:37:08</td></tr><tr><td>Tata Consultancy Services Limited</td><td>TCS.NS</td><td>3455.0</td><td>-32.25</td><td>-0.92%</td><td>2023-10-19T09:50:48.861+0000</td><td>2023-10-19</td><td>09:50:48</td></tr><tr><td>Tata Consultancy Services Limited</td><td>TCS.NS</td><td>3452.75</td><td>-34.5</td><td>-0.99%</td><td>2023-10-19T09:56:15.356+0000</td><td>2023-10-19</td><td>09:56:15</td></tr><tr><td>Tata Consultancy Services Limited</td><td>TCS.NS</td><td>3455.0</td><td>-32.25</td><td>-0.92%</td><td>2023-10-19T09:47:30.570+0000</td><td>2023-10-19</td><td>09:47:30</td></tr><tr><td>Tata Consultancy Services Limited</td><td>TCS.NS</td><td>3454.1</td><td>-33.15</td><td>-0.95%</td><td>2023-10-19T09:53:18.288+0000</td><td>2023-10-19</td><td>09:53:18</td></tr><tr><td>Tata Consultancy Services Limited</td><td>TCS.NS</td><td>3453.9</td><td>-33.35</td><td>-0.96%</td><td>2023-10-19T09:58:44.484+0000</td><td>2023-10-19</td><td>09:58:44</td></tr><tr><td>Tata Consultancy Services Limited</td><td>TCS.NS</td><td>3454.8</td><td>-32.45</td><td>-0.93%</td><td>2023-10-19T10:01:07.671+0000</td><td>2023-10-19</td><td>10:01:07</td></tr><tr><td>Tata Consultancy Services Limited</td><td>TCS.NS</td><td>3455.65</td><td>-31.6</td><td>-0.91%</td><td>2023-10-19T10:03:45.011+0000</td><td>2023-10-19</td><td>10:03:45</td></tr><tr><td>Tata Consultancy Services Limited</td><td>TCS.NS</td><td>3455.65</td><td>-31.6</td><td>-0.91%</td><td>2023-10-19T10:06:31.885+0000</td><td>2023-10-19</td><td>10:06:31</td></tr><tr><td>Tata Consultancy Services Limited</td><td>TCS.NS</td><td>3455.65</td><td>-31.6</td><td>-0.91%</td><td>2023-10-19T10:09:25.094+0000</td><td>2023-10-19</td><td>10:09:25</td></tr></tbody></table></div>"
      ]
     },
     "metadata": {
      "application/vnd.databricks.v1+output": {
       "addedWidgets": {},
       "aggData": [],
       "aggError": "",
       "aggOverflow": false,
       "aggSchema": [],
       "aggSeriesLimitReached": false,
       "aggType": "",
       "arguments": {},
       "columnCustomDisplayInfos": {},
       "data": [
        [
         "Tata Consultancy Services Limited",
         "TCS.NS",
         3459.4,
         -27.85,
         "-0.80%",
         "2023-10-19T09:29:14.893+0000",
         "2023-10-19",
         "09:29:14"
        ],
        [
         "Tata Consultancy Services Limited",
         "TCS.NS",
         3458.0,
         -29.25,
         "-0.84%",
         "2023-10-19T09:34:39.466+0000",
         "2023-10-19",
         "09:34:39"
        ],
        [
         "Tata Consultancy Services Limited",
         "TCS.NS",
         3456.8,
         -30.45,
         "-0.87%",
         "2023-10-19T09:39:47.757+0000",
         "2023-10-19",
         "09:39:47"
        ],
        [
         "Tata Consultancy Services Limited",
         "TCS.NS",
         3456.0,
         -31.25,
         "-0.90%",
         "2023-10-19T09:44:48.634+0000",
         "2023-10-19",
         "09:44:48"
        ],
        [
         "Tata Consultancy Services Limited",
         "TCS.NS",
         3459.95,
         -27.3,
         "-0.78%",
         "2023-10-19T09:26:13.162+0000",
         "2023-10-19",
         "09:26:13"
        ],
        [
         "Tata Consultancy Services Limited",
         "TCS.NS",
         3459.0,
         -28.25,
         "-0.81%",
         "2023-10-19T09:20:57.191+0000",
         "2023-10-19",
         "09:20:57"
        ],
        [
         "Tata Consultancy Services Limited",
         "TCS.NS",
         3456.35,
         -30.9,
         "-0.89%",
         "2023-10-19T09:42:23.705+0000",
         "2023-10-19",
         "09:42:23"
        ],
        [
         "Tata Consultancy Services Limited",
         "TCS.NS",
         3458.05,
         -29.2,
         "-0.84%",
         "2023-10-19T09:18:07.464+0000",
         "2023-10-19",
         "09:18:07"
        ],
        [
         "Tata Consultancy Services Limited",
         "TCS.NS",
         3460.65,
         -26.6,
         "-0.76%",
         "2023-10-19T09:23:23.267+0000",
         "2023-10-19",
         "09:23:23"
        ],
        [
         "Tata Consultancy Services Limited",
         "TCS.NS",
         3460.15,
         -27.1,
         "-0.78%",
         "2023-10-19T09:31:59.190+0000",
         "2023-10-19",
         "09:31:59"
        ],
        [
         "Tata Consultancy Services Limited",
         "TCS.NS",
         3457.0,
         -30.25,
         "-0.87%",
         "2023-10-19T09:37:08.217+0000",
         "2023-10-19",
         "09:37:08"
        ],
        [
         "Tata Consultancy Services Limited",
         "TCS.NS",
         3455.0,
         -32.25,
         "-0.92%",
         "2023-10-19T09:50:48.861+0000",
         "2023-10-19",
         "09:50:48"
        ],
        [
         "Tata Consultancy Services Limited",
         "TCS.NS",
         3452.75,
         -34.5,
         "-0.99%",
         "2023-10-19T09:56:15.356+0000",
         "2023-10-19",
         "09:56:15"
        ],
        [
         "Tata Consultancy Services Limited",
         "TCS.NS",
         3455.0,
         -32.25,
         "-0.92%",
         "2023-10-19T09:47:30.570+0000",
         "2023-10-19",
         "09:47:30"
        ],
        [
         "Tata Consultancy Services Limited",
         "TCS.NS",
         3454.1,
         -33.15,
         "-0.95%",
         "2023-10-19T09:53:18.288+0000",
         "2023-10-19",
         "09:53:18"
        ],
        [
         "Tata Consultancy Services Limited",
         "TCS.NS",
         3453.9,
         -33.35,
         "-0.96%",
         "2023-10-19T09:58:44.484+0000",
         "2023-10-19",
         "09:58:44"
        ],
        [
         "Tata Consultancy Services Limited",
         "TCS.NS",
         3454.8,
         -32.45,
         "-0.93%",
         "2023-10-19T10:01:07.671+0000",
         "2023-10-19",
         "10:01:07"
        ],
        [
         "Tata Consultancy Services Limited",
         "TCS.NS",
         3455.65,
         -31.6,
         "-0.91%",
         "2023-10-19T10:03:45.011+0000",
         "2023-10-19",
         "10:03:45"
        ],
        [
         "Tata Consultancy Services Limited",
         "TCS.NS",
         3455.65,
         -31.6,
         "-0.91%",
         "2023-10-19T10:06:31.885+0000",
         "2023-10-19",
         "10:06:31"
        ],
        [
         "Tata Consultancy Services Limited",
         "TCS.NS",
         3455.65,
         -31.6,
         "-0.91%",
         "2023-10-19T10:09:25.094+0000",
         "2023-10-19",
         "10:09:25"
        ]
       ],
       "datasetInfos": [],
       "dbfsResultPath": null,
       "isJsonSchema": true,
       "metadata": {},
       "overflow": false,
       "plotOptions": {
        "customPlotOptions": {},
        "displayType": "table",
        "pivotAggregation": null,
        "pivotColumns": null,
        "xColumns": null,
        "yColumns": null
       },
       "removedWidgets": [],
       "schema": [
        {
         "metadata": "{}",
         "name": "Company_Name",
         "type": "\"string\""
        },
        {
         "metadata": "{}",
         "name": "Symbol",
         "type": "\"string\""
        },
        {
         "metadata": "{}",
         "name": "Indian_Market_Price",
         "type": "\"float\""
        },
        {
         "metadata": "{}",
         "name": "Market_Price_Change",
         "type": "\"float\""
        },
        {
         "metadata": "{}",
         "name": "Market_ChangePercent",
         "type": "\"string\""
        },
        {
         "metadata": "{}",
         "name": "confluent_timestamp",
         "type": "\"timestamp\""
        },
        {
         "metadata": "{}",
         "name": "Date",
         "type": "\"string\""
        },
        {
         "metadata": "{}",
         "name": "Time",
         "type": "\"string\""
        }
       ],
       "type": "table"
      }
     },
     "output_type": "display_data"
    },
    {
     "output_type": "display_data",
     "data": {
      "text/plain": [
       "Databricks visualization. Run in Databricks to view."
      ]
     },
     "metadata": {
      "application/vnd.databricks.v1.subcommand+json": {
       "baseErrorDetails": null,
       "bindings": {},
       "collapsed": false,
       "command": "# Databricks no-op command",
       "commandTitle": "Visualization 1",
       "commandType": "auto",
       "commandVersion": 0,
       "commentThread": [],
       "commentsVisible": false,
       "contentSha256Hex": null,
       "customPlotOptions": {
        "redashChart": [
         {
          "key": "type",
          "value": "CHART"
         },
         {
          "key": "options",
          "value": {
           "alignYAxesAtZero": true,
           "coefficient": 1,
           "columnConfigurationMap": {
            "series": {
             "column": "Symbol",
             "id": "column_fc069519233"
            },
            "x": {
             "column": "Time",
             "id": "column_fc069519230"
            },
            "y": [
             {
              "column": "Indian_Market_Price",
              "id": "column_fc069519232",
              "transform": "SUM"
             }
            ]
           },
           "dateTimeFormat": "DD/MM/YYYY HH:mm",
           "direction": {
            "type": "counterclockwise"
           },
           "error_y": {
            "type": "data",
            "visible": true
           },
           "globalSeriesType": "line",
           "isAggregationOn": true,
           "legend": {
            "traceorder": "normal"
           },
           "missingValuesAsZero": true,
           "numberFormat": "0,0[.]00000",
           "percentFormat": "0[.]00%",
           "series": {
            "error_y": {
             "type": "data",
             "visible": true
            },
            "stacking": null
           },
           "seriesOptions": {
            "column_fc069519232": {
             "type": "line",
             "yAxis": 0
            }
           },
           "showDataLabels": false,
           "sizemode": "diameter",
           "sortX": true,
           "sortY": true,
           "swappedAxes": false,
           "textFormat": "",
           "useAggregationsUi": true,
           "valuesOptions": {},
           "version": 2,
           "xAxis": {
            "labels": {
             "enabled": true
            },
            "type": "-"
           },
           "yAxis": [
            {
             "type": "-"
            },
            {
             "opposite": true,
             "type": "-"
            }
           ]
          }
         }
        ]
       },
       "datasetPreviewNameToCmdIdMap": {},
       "diffDeletes": [],
       "diffInserts": [],
       "displayType": "redashChart",
       "error": null,
       "errorDetails": null,
       "errorSummary": null,
       "errorTraceType": null,
       "finishTime": 0,
       "globalVars": {},
       "guid": "",
       "height": "auto",
       "hideCommandCode": false,
       "hideCommandResult": false,
       "iPythonMetadata": null,
       "inputWidgets": {},
       "isLockedInExamMode": false,
       "latestUser": "a user",
       "latestUserId": null,
       "listResultMetadata": null,
       "metadata": {},
       "nuid": "bf4c50aa-4b5b-49c7-9822-a5fae40c9bc8",
       "origId": 0,
       "parentHierarchy": [],
       "pivotAggregation": null,
       "pivotColumns": null,
       "position": 11.0,
       "resultDbfsErrorMessage": null,
       "resultDbfsStatus": "INLINED_IN_TREE",
       "results": null,
       "showCommandTitle": false,
       "startTime": 0,
       "state": "input",
       "streamStates": {},
       "subcommandOptions": {
        "queryPlan": {
         "groups": [
          {
           "column": "Time",
           "type": "column"
          },
          {
           "column": "Symbol",
           "type": "column"
          }
         ],
         "selects": [
          {
           "column": "Time",
           "type": "column"
          },
          {
           "alias": "column_fc069519232",
           "args": [
            {
             "column": "Indian_Market_Price",
             "type": "column"
            }
           ],
           "function": "SUM",
           "type": "function"
          },
          {
           "column": "Symbol",
           "type": "column"
          }
         ]
        }
       },
       "submitTime": 0,
       "subtype": "tableResultSubCmd.visualization",
       "tableResultIndex": 0,
       "useConsistentColors": false,
       "version": "CommandV1",
       "width": "auto",
       "workflows": [],
       "xColumns": null,
       "yColumns": null
      }
     },
     "output_type": "display_data"
    }
   ],
   "source": [
    "dash_tcs=globaldf.filter(globaldf.Symbol==\"TCS.NS\")\n",
    "display(dash_tcs)"
   ]
  },
  {
   "cell_type": "code",
   "execution_count": 0,
   "metadata": {
    "application/vnd.databricks.v1+cell": {
     "cellMetadata": {
      "byteLimit": 2048000,
      "rowLimit": 10000
     },
     "inputWidgets": {},
     "nuid": "920b2d25-914c-49da-8eeb-3e9d1434d65b",
     "showTitle": false,
     "title": ""
    }
   },
   "outputs": [
    {
     "output_type": "display_data",
     "data": {
      "text/html": [
       "<style scoped>\n",
       "  .table-result-container {\n",
       "    max-height: 300px;\n",
       "    overflow: auto;\n",
       "  }\n",
       "  table, th, td {\n",
       "    border: 1px solid black;\n",
       "    border-collapse: collapse;\n",
       "  }\n",
       "  th, td {\n",
       "    padding: 5px;\n",
       "  }\n",
       "  th {\n",
       "    text-align: left;\n",
       "  }\n",
       "</style><div class='table-result-container'><table class='table-result'><thead style='background-color: white'><tr><th>Company_Name</th><th>Symbol</th><th>Indian_Market_Price</th><th>Market_Price_Change</th><th>Market_ChangePercent</th><th>confluent_timestamp</th><th>Date</th><th>Time</th></tr></thead><tbody><tr><td>Axis Bank Limited</td><td>AXISBANK.NS</td><td>991.4</td><td>-1.45</td><td>-0.15%</td><td>2023-10-19T09:23:40.845+0000</td><td>2023-10-19</td><td>09:23:40</td></tr><tr><td>Axis Bank Limited</td><td>AXISBANK.NS</td><td>991.4</td><td>-1.45</td><td>-0.15%</td><td>2023-10-19T09:32:14.994+0000</td><td>2023-10-19</td><td>09:32:14</td></tr><tr><td>Axis Bank Limited</td><td>AXISBANK.NS</td><td>991.4</td><td>-1.45</td><td>-0.15%</td><td>2023-10-19T09:34:52.433+0000</td><td>2023-10-19</td><td>09:34:52</td></tr><tr><td>Axis Bank Limited</td><td>AXISBANK.NS</td><td>992.0</td><td>-0.85</td><td>-0.09%</td><td>2023-10-19T09:29:33.039+0000</td><td>2023-10-19</td><td>09:29:33</td></tr><tr><td>Axis Bank Limited</td><td>AXISBANK.NS</td><td>991.8</td><td>-1.05</td><td>-0.11%</td><td>2023-10-19T09:40:04.656+0000</td><td>2023-10-19</td><td>09:40:04</td></tr><tr><td>Axis Bank Limited</td><td>AXISBANK.NS</td><td>992.05</td><td>-0.8</td><td>-0.08%</td><td>2023-10-19T09:18:24.255+0000</td><td>2023-10-19</td><td>09:18:24</td></tr><tr><td>Axis Bank Limited</td><td>AXISBANK.NS</td><td>991.85</td><td>-1.0</td><td>-0.10%</td><td>2023-10-19T09:26:31.820+0000</td><td>2023-10-19</td><td>09:26:31</td></tr><tr><td>Axis Bank Limited</td><td>AXISBANK.NS</td><td>991.65</td><td>-1.2</td><td>-0.12%</td><td>2023-10-19T09:42:37.865+0000</td><td>2023-10-19</td><td>09:42:37</td></tr><tr><td>Axis Bank Limited</td><td>AXISBANK.NS</td><td>991.35</td><td>-1.5</td><td>-0.15%</td><td>2023-10-19T09:45:04.443+0000</td><td>2023-10-19</td><td>09:45:04</td></tr><tr><td>Axis Bank Limited</td><td>AXISBANK.NS</td><td>991.55</td><td>-1.3</td><td>-0.13%</td><td>2023-10-19T09:21:10.333+0000</td><td>2023-10-19</td><td>09:21:10</td></tr><tr><td>Axis Bank Limited</td><td>AXISBANK.NS</td><td>991.05</td><td>-1.8</td><td>-0.18%</td><td>2023-10-19T09:47:46.303+0000</td><td>2023-10-19</td><td>09:47:46</td></tr><tr><td>Axis Bank Limited</td><td>AXISBANK.NS</td><td>992.1</td><td>-0.75</td><td>-0.08%</td><td>2023-10-19T09:37:23.358+0000</td><td>2023-10-19</td><td>09:37:23</td></tr><tr><td>Axis Bank Limited</td><td>AXISBANK.NS</td><td>991.05</td><td>-1.8</td><td>-0.18%</td><td>2023-10-19T09:51:04.755+0000</td><td>2023-10-19</td><td>09:51:04</td></tr><tr><td>Axis Bank Limited</td><td>AXISBANK.NS</td><td>990.95</td><td>-1.9</td><td>-0.19%</td><td>2023-10-19T09:56:29.364+0000</td><td>2023-10-19</td><td>09:56:29</td></tr><tr><td>Axis Bank Limited</td><td>AXISBANK.NS</td><td>991.15</td><td>-1.7</td><td>-0.17%</td><td>2023-10-19T09:53:33.836+0000</td><td>2023-10-19</td><td>09:53:33</td></tr><tr><td>Axis Bank Limited</td><td>AXISBANK.NS</td><td>990.95</td><td>-1.9</td><td>-0.19%</td><td>2023-10-19T09:58:59.622+0000</td><td>2023-10-19</td><td>09:58:59</td></tr><tr><td>Axis Bank Limited</td><td>AXISBANK.NS</td><td>993.15</td><td>0.3</td><td>+0.03%</td><td>2023-10-19T10:01:23.241+0000</td><td>2023-10-19</td><td>10:01:23</td></tr><tr><td>Axis Bank Limited</td><td>AXISBANK.NS</td><td>991.4</td><td>-1.45</td><td>-0.15%</td><td>2023-10-19T10:04:01.223+0000</td><td>2023-10-19</td><td>10:04:01</td></tr><tr><td>Axis Bank Limited</td><td>AXISBANK.NS</td><td>991.4</td><td>-1.45</td><td>-0.15%</td><td>2023-10-19T10:06:50.158+0000</td><td>2023-10-19</td><td>10:06:50</td></tr><tr><td>Axis Bank Limited</td><td>AXISBANK.NS</td><td>991.4</td><td>-1.45</td><td>-0.15%</td><td>2023-10-19T10:09:40.679+0000</td><td>2023-10-19</td><td>10:09:40</td></tr></tbody></table></div>"
      ]
     },
     "metadata": {
      "application/vnd.databricks.v1+output": {
       "addedWidgets": {},
       "aggData": [],
       "aggError": "",
       "aggOverflow": false,
       "aggSchema": [],
       "aggSeriesLimitReached": false,
       "aggType": "",
       "arguments": {},
       "columnCustomDisplayInfos": {},
       "data": [
        [
         "Axis Bank Limited",
         "AXISBANK.NS",
         991.4,
         -1.45,
         "-0.15%",
         "2023-10-19T09:23:40.845+0000",
         "2023-10-19",
         "09:23:40"
        ],
        [
         "Axis Bank Limited",
         "AXISBANK.NS",
         991.4,
         -1.45,
         "-0.15%",
         "2023-10-19T09:32:14.994+0000",
         "2023-10-19",
         "09:32:14"
        ],
        [
         "Axis Bank Limited",
         "AXISBANK.NS",
         991.4,
         -1.45,
         "-0.15%",
         "2023-10-19T09:34:52.433+0000",
         "2023-10-19",
         "09:34:52"
        ],
        [
         "Axis Bank Limited",
         "AXISBANK.NS",
         992.0,
         -0.85,
         "-0.09%",
         "2023-10-19T09:29:33.039+0000",
         "2023-10-19",
         "09:29:33"
        ],
        [
         "Axis Bank Limited",
         "AXISBANK.NS",
         991.8,
         -1.05,
         "-0.11%",
         "2023-10-19T09:40:04.656+0000",
         "2023-10-19",
         "09:40:04"
        ],
        [
         "Axis Bank Limited",
         "AXISBANK.NS",
         992.05,
         -0.8,
         "-0.08%",
         "2023-10-19T09:18:24.255+0000",
         "2023-10-19",
         "09:18:24"
        ],
        [
         "Axis Bank Limited",
         "AXISBANK.NS",
         991.85,
         -1.0,
         "-0.10%",
         "2023-10-19T09:26:31.820+0000",
         "2023-10-19",
         "09:26:31"
        ],
        [
         "Axis Bank Limited",
         "AXISBANK.NS",
         991.65,
         -1.2,
         "-0.12%",
         "2023-10-19T09:42:37.865+0000",
         "2023-10-19",
         "09:42:37"
        ],
        [
         "Axis Bank Limited",
         "AXISBANK.NS",
         991.35,
         -1.5,
         "-0.15%",
         "2023-10-19T09:45:04.443+0000",
         "2023-10-19",
         "09:45:04"
        ],
        [
         "Axis Bank Limited",
         "AXISBANK.NS",
         991.55,
         -1.3,
         "-0.13%",
         "2023-10-19T09:21:10.333+0000",
         "2023-10-19",
         "09:21:10"
        ],
        [
         "Axis Bank Limited",
         "AXISBANK.NS",
         991.05,
         -1.8,
         "-0.18%",
         "2023-10-19T09:47:46.303+0000",
         "2023-10-19",
         "09:47:46"
        ],
        [
         "Axis Bank Limited",
         "AXISBANK.NS",
         992.1,
         -0.75,
         "-0.08%",
         "2023-10-19T09:37:23.358+0000",
         "2023-10-19",
         "09:37:23"
        ],
        [
         "Axis Bank Limited",
         "AXISBANK.NS",
         991.05,
         -1.8,
         "-0.18%",
         "2023-10-19T09:51:04.755+0000",
         "2023-10-19",
         "09:51:04"
        ],
        [
         "Axis Bank Limited",
         "AXISBANK.NS",
         990.95,
         -1.9,
         "-0.19%",
         "2023-10-19T09:56:29.364+0000",
         "2023-10-19",
         "09:56:29"
        ],
        [
         "Axis Bank Limited",
         "AXISBANK.NS",
         991.15,
         -1.7,
         "-0.17%",
         "2023-10-19T09:53:33.836+0000",
         "2023-10-19",
         "09:53:33"
        ],
        [
         "Axis Bank Limited",
         "AXISBANK.NS",
         990.95,
         -1.9,
         "-0.19%",
         "2023-10-19T09:58:59.622+0000",
         "2023-10-19",
         "09:58:59"
        ],
        [
         "Axis Bank Limited",
         "AXISBANK.NS",
         993.15,
         0.3,
         "+0.03%",
         "2023-10-19T10:01:23.241+0000",
         "2023-10-19",
         "10:01:23"
        ],
        [
         "Axis Bank Limited",
         "AXISBANK.NS",
         991.4,
         -1.45,
         "-0.15%",
         "2023-10-19T10:04:01.223+0000",
         "2023-10-19",
         "10:04:01"
        ],
        [
         "Axis Bank Limited",
         "AXISBANK.NS",
         991.4,
         -1.45,
         "-0.15%",
         "2023-10-19T10:06:50.158+0000",
         "2023-10-19",
         "10:06:50"
        ],
        [
         "Axis Bank Limited",
         "AXISBANK.NS",
         991.4,
         -1.45,
         "-0.15%",
         "2023-10-19T10:09:40.679+0000",
         "2023-10-19",
         "10:09:40"
        ]
       ],
       "datasetInfos": [],
       "dbfsResultPath": null,
       "isJsonSchema": true,
       "metadata": {},
       "overflow": false,
       "plotOptions": {
        "customPlotOptions": {},
        "displayType": "table",
        "pivotAggregation": null,
        "pivotColumns": null,
        "xColumns": null,
        "yColumns": null
       },
       "removedWidgets": [],
       "schema": [
        {
         "metadata": "{}",
         "name": "Company_Name",
         "type": "\"string\""
        },
        {
         "metadata": "{}",
         "name": "Symbol",
         "type": "\"string\""
        },
        {
         "metadata": "{}",
         "name": "Indian_Market_Price",
         "type": "\"float\""
        },
        {
         "metadata": "{}",
         "name": "Market_Price_Change",
         "type": "\"float\""
        },
        {
         "metadata": "{}",
         "name": "Market_ChangePercent",
         "type": "\"string\""
        },
        {
         "metadata": "{}",
         "name": "confluent_timestamp",
         "type": "\"timestamp\""
        },
        {
         "metadata": "{}",
         "name": "Date",
         "type": "\"string\""
        },
        {
         "metadata": "{}",
         "name": "Time",
         "type": "\"string\""
        }
       ],
       "type": "table"
      }
     },
     "output_type": "display_data"
    },
    {
     "output_type": "display_data",
     "data": {
      "text/plain": [
       "Databricks visualization. Run in Databricks to view."
      ]
     },
     "metadata": {
      "application/vnd.databricks.v1.subcommand+json": {
       "baseErrorDetails": null,
       "bindings": {},
       "collapsed": false,
       "command": "# Databricks no-op command",
       "commandTitle": "Visualization 1",
       "commandType": "auto",
       "commandVersion": 0,
       "commentThread": [],
       "commentsVisible": false,
       "contentSha256Hex": null,
       "customPlotOptions": {
        "redashChart": [
         {
          "key": "type",
          "value": "CHART"
         },
         {
          "key": "options",
          "value": {
           "alignYAxesAtZero": true,
           "coefficient": 1,
           "columnConfigurationMap": {
            "series": {
             "column": "Symbol",
             "id": "column_fc069519209"
            },
            "x": {
             "column": "Time",
             "id": "column_fc069519206"
            },
            "y": [
             {
              "column": "Indian_Market_Price",
              "id": "column_fc069519208",
              "transform": "SUM"
             }
            ]
           },
           "dateTimeFormat": "DD/MM/YYYY HH:mm",
           "direction": {
            "type": "counterclockwise"
           },
           "error_y": {
            "type": "data",
            "visible": true
           },
           "globalSeriesType": "line",
           "isAggregationOn": true,
           "legend": {
            "traceorder": "normal"
           },
           "missingValuesAsZero": true,
           "numberFormat": "0,0[.]00000",
           "percentFormat": "0[.]00%",
           "series": {
            "error_y": {
             "type": "data",
             "visible": true
            },
            "stacking": null
           },
           "seriesOptions": {
            "column_fc069519208": {
             "type": "line",
             "yAxis": 0
            }
           },
           "showDataLabels": false,
           "sizemode": "diameter",
           "sortX": true,
           "sortY": true,
           "swappedAxes": false,
           "textFormat": "",
           "useAggregationsUi": true,
           "valuesOptions": {},
           "version": 2,
           "xAxis": {
            "labels": {
             "enabled": true
            },
            "type": "-"
           },
           "yAxis": [
            {
             "type": "-"
            },
            {
             "opposite": true,
             "type": "-"
            }
           ]
          }
         }
        ]
       },
       "datasetPreviewNameToCmdIdMap": {},
       "diffDeletes": [],
       "diffInserts": [],
       "displayType": "redashChart",
       "error": null,
       "errorDetails": null,
       "errorSummary": null,
       "errorTraceType": null,
       "finishTime": 0,
       "globalVars": {},
       "guid": "",
       "height": "auto",
       "hideCommandCode": false,
       "hideCommandResult": false,
       "iPythonMetadata": null,
       "inputWidgets": {},
       "isLockedInExamMode": false,
       "latestUser": "a user",
       "latestUserId": null,
       "listResultMetadata": null,
       "metadata": {},
       "nuid": "74f24353-e286-4969-97c4-e436aa84fc3d",
       "origId": 0,
       "parentHierarchy": [],
       "pivotAggregation": null,
       "pivotColumns": null,
       "position": 12.0,
       "resultDbfsErrorMessage": null,
       "resultDbfsStatus": "INLINED_IN_TREE",
       "results": null,
       "showCommandTitle": false,
       "startTime": 0,
       "state": "input",
       "streamStates": {},
       "subcommandOptions": {
        "queryPlan": {
         "groups": [
          {
           "column": "Time",
           "type": "column"
          },
          {
           "column": "Symbol",
           "type": "column"
          }
         ],
         "selects": [
          {
           "column": "Time",
           "type": "column"
          },
          {
           "alias": "column_fc069519208",
           "args": [
            {
             "column": "Indian_Market_Price",
             "type": "column"
            }
           ],
           "function": "SUM",
           "type": "function"
          },
          {
           "column": "Symbol",
           "type": "column"
          }
         ]
        }
       },
       "submitTime": 0,
       "subtype": "tableResultSubCmd.visualization",
       "tableResultIndex": 0,
       "useConsistentColors": false,
       "version": "CommandV1",
       "width": "auto",
       "workflows": [],
       "xColumns": null,
       "yColumns": null
      }
     },
     "output_type": "display_data"
    }
   ],
   "source": [
    "dash_axis=globaldf.filter(globaldf.Symbol==\"AXISBANK.NS\")\n",
    "display(dash_axis)"
   ]
  },
  {
   "cell_type": "code",
   "execution_count": 0,
   "metadata": {
    "application/vnd.databricks.v1+cell": {
     "cellMetadata": {
      "byteLimit": 2048000,
      "rowLimit": 10000
     },
     "inputWidgets": {},
     "nuid": "848e565e-6b19-408b-a92b-92326e493036",
     "showTitle": false,
     "title": ""
    }
   },
   "outputs": [
    {
     "output_type": "display_data",
     "data": {
      "text/html": [
       "<style scoped>\n",
       "  .table-result-container {\n",
       "    max-height: 300px;\n",
       "    overflow: auto;\n",
       "  }\n",
       "  table, th, td {\n",
       "    border: 1px solid black;\n",
       "    border-collapse: collapse;\n",
       "  }\n",
       "  th, td {\n",
       "    padding: 5px;\n",
       "  }\n",
       "  th {\n",
       "    text-align: left;\n",
       "  }\n",
       "</style><div class='table-result-container'><table class='table-result'><thead style='background-color: white'><tr><th>Company_Name</th><th>Symbol</th><th>Indian_Market_Price</th><th>Market_Price_Change</th><th>Market_ChangePercent</th><th>confluent_timestamp</th><th>Date</th><th>Time</th></tr></thead><tbody><tr><td>Bajaj Finance Limited</td><td>BAJFINANCE.NS</td><td>7842.05</td><td>-24.5</td><td>-0.31%</td><td>2023-10-19T09:40:22.553+0000</td><td>2023-10-19</td><td>09:40:22</td></tr><tr><td>Bajaj Finance Limited</td><td>BAJFINANCE.NS</td><td>7838.25</td><td>-28.3</td><td>-0.36%</td><td>2023-10-19T09:45:20.843+0000</td><td>2023-10-19</td><td>09:45:20</td></tr><tr><td>Bajaj Finance Limited</td><td>BAJFINANCE.NS</td><td>7841.55</td><td>-25.0</td><td>-0.32%</td><td>2023-10-19T10:04:20.436+0000</td><td>2023-10-19</td><td>10:04:20</td></tr><tr><td>Bajaj Finance Limited</td><td>BAJFINANCE.NS</td><td>7841.55</td><td>-25.0</td><td>-0.32%</td><td>2023-10-19T10:07:06.387+0000</td><td>2023-10-19</td><td>10:07:06</td></tr><tr><td>Bajaj Finance Limited</td><td>BAJFINANCE.NS</td><td>7854.6</td><td>-11.95</td><td>-0.15%</td><td>2023-10-19T09:35:07.273+0000</td><td>2023-10-19</td><td>09:35:07</td></tr><tr><td>Bajaj Finance Limited</td><td>BAJFINANCE.NS</td><td>7829.5</td><td>-37.05</td><td>-0.47%</td><td>2023-10-19T09:48:24.774+0000</td><td>2023-10-19</td><td>09:48:24</td></tr><tr><td>Bajaj Finance Limited</td><td>BAJFINANCE.NS</td><td>7829.7</td><td>-36.85</td><td>-0.47%</td><td>2023-10-19T09:51:20.274+0000</td><td>2023-10-19</td><td>09:51:20</td></tr><tr><td>Bajaj Finance Limited</td><td>BAJFINANCE.NS</td><td>7820.8</td><td>-45.75</td><td>-0.58%</td><td>2023-10-19T09:56:42.679+0000</td><td>2023-10-19</td><td>09:56:42</td></tr><tr><td>Bajaj Finance Limited</td><td>BAJFINANCE.NS</td><td>7822.4</td><td>-44.15</td><td>-0.56%</td><td>2023-10-19T10:01:37.076+0000</td><td>2023-10-19</td><td>10:01:37</td></tr><tr><td>Bajaj Finance Limited</td><td>BAJFINANCE.NS</td><td>7865.25</td><td>-1.3</td><td>-0.02%</td><td>2023-10-19T09:32:30.060+0000</td><td>2023-10-19</td><td>09:32:30</td></tr><tr><td>Bajaj Finance Limited</td><td>BAJFINANCE.NS</td><td>7860.55</td><td>-6.0</td><td>-0.08%</td><td>2023-10-19T09:37:40.039+0000</td><td>2023-10-19</td><td>09:37:40</td></tr><tr><td>Bajaj Finance Limited</td><td>BAJFINANCE.NS</td><td>7840.85</td><td>-25.7</td><td>-0.33%</td><td>2023-10-19T09:42:51.385+0000</td><td>2023-10-19</td><td>09:42:51</td></tr><tr><td>Bajaj Finance Limited</td><td>BAJFINANCE.NS</td><td>7824.9</td><td>-41.65</td><td>-0.53%</td><td>2023-10-19T09:53:48.680+0000</td><td>2023-10-19</td><td>09:53:48</td></tr><tr><td>Bajaj Finance Limited</td><td>BAJFINANCE.NS</td><td>7872.05</td><td>5.5</td><td>+0.07%</td><td>2023-10-19T09:29:46.775+0000</td><td>2023-10-19</td><td>09:29:46</td></tr><tr><td>Bajaj Finance Limited</td><td>BAJFINANCE.NS</td><td>7841.55</td><td>-25.0</td><td>-0.32%</td><td>2023-10-19T10:09:56.388+0000</td><td>2023-10-19</td><td>10:09:56</td></tr><tr><td>Bajaj Finance Limited</td><td>BAJFINANCE.NS</td><td>7867.55</td><td>1.0</td><td>+0.01%</td><td>2023-10-19T09:21:24.518+0000</td><td>2023-10-19</td><td>09:21:24</td></tr><tr><td>Bajaj Finance Limited</td><td>BAJFINANCE.NS</td><td>7866.75</td><td>0.2</td><td>+0.00%</td><td>2023-10-19T09:18:45.152+0000</td><td>2023-10-19</td><td>09:18:45</td></tr><tr><td>Bajaj Finance Limited</td><td>BAJFINANCE.NS</td><td>7869.5</td><td>2.95</td><td>+0.04%</td><td>2023-10-19T09:23:55.233+0000</td><td>2023-10-19</td><td>09:23:55</td></tr><tr><td>Bajaj Finance Limited</td><td>BAJFINANCE.NS</td><td>7870.4</td><td>3.85</td><td>+0.05%</td><td>2023-10-19T09:26:50.363+0000</td><td>2023-10-19</td><td>09:26:50</td></tr><tr><td>Bajaj Finance Limited</td><td>BAJFINANCE.NS</td><td>7818.1</td><td>-48.45</td><td>-0.62%</td><td>2023-10-19T09:59:15.227+0000</td><td>2023-10-19</td><td>09:59:15</td></tr></tbody></table></div>"
      ]
     },
     "metadata": {
      "application/vnd.databricks.v1+output": {
       "addedWidgets": {},
       "aggData": [],
       "aggError": "",
       "aggOverflow": false,
       "aggSchema": [],
       "aggSeriesLimitReached": false,
       "aggType": "",
       "arguments": {},
       "columnCustomDisplayInfos": {},
       "data": [
        [
         "Bajaj Finance Limited",
         "BAJFINANCE.NS",
         7842.05,
         -24.5,
         "-0.31%",
         "2023-10-19T09:40:22.553+0000",
         "2023-10-19",
         "09:40:22"
        ],
        [
         "Bajaj Finance Limited",
         "BAJFINANCE.NS",
         7838.25,
         -28.3,
         "-0.36%",
         "2023-10-19T09:45:20.843+0000",
         "2023-10-19",
         "09:45:20"
        ],
        [
         "Bajaj Finance Limited",
         "BAJFINANCE.NS",
         7841.55,
         -25.0,
         "-0.32%",
         "2023-10-19T10:04:20.436+0000",
         "2023-10-19",
         "10:04:20"
        ],
        [
         "Bajaj Finance Limited",
         "BAJFINANCE.NS",
         7841.55,
         -25.0,
         "-0.32%",
         "2023-10-19T10:07:06.387+0000",
         "2023-10-19",
         "10:07:06"
        ],
        [
         "Bajaj Finance Limited",
         "BAJFINANCE.NS",
         7854.6,
         -11.95,
         "-0.15%",
         "2023-10-19T09:35:07.273+0000",
         "2023-10-19",
         "09:35:07"
        ],
        [
         "Bajaj Finance Limited",
         "BAJFINANCE.NS",
         7829.5,
         -37.05,
         "-0.47%",
         "2023-10-19T09:48:24.774+0000",
         "2023-10-19",
         "09:48:24"
        ],
        [
         "Bajaj Finance Limited",
         "BAJFINANCE.NS",
         7829.7,
         -36.85,
         "-0.47%",
         "2023-10-19T09:51:20.274+0000",
         "2023-10-19",
         "09:51:20"
        ],
        [
         "Bajaj Finance Limited",
         "BAJFINANCE.NS",
         7820.8,
         -45.75,
         "-0.58%",
         "2023-10-19T09:56:42.679+0000",
         "2023-10-19",
         "09:56:42"
        ],
        [
         "Bajaj Finance Limited",
         "BAJFINANCE.NS",
         7822.4,
         -44.15,
         "-0.56%",
         "2023-10-19T10:01:37.076+0000",
         "2023-10-19",
         "10:01:37"
        ],
        [
         "Bajaj Finance Limited",
         "BAJFINANCE.NS",
         7865.25,
         -1.3,
         "-0.02%",
         "2023-10-19T09:32:30.060+0000",
         "2023-10-19",
         "09:32:30"
        ],
        [
         "Bajaj Finance Limited",
         "BAJFINANCE.NS",
         7860.55,
         -6.0,
         "-0.08%",
         "2023-10-19T09:37:40.039+0000",
         "2023-10-19",
         "09:37:40"
        ],
        [
         "Bajaj Finance Limited",
         "BAJFINANCE.NS",
         7840.85,
         -25.7,
         "-0.33%",
         "2023-10-19T09:42:51.385+0000",
         "2023-10-19",
         "09:42:51"
        ],
        [
         "Bajaj Finance Limited",
         "BAJFINANCE.NS",
         7824.9,
         -41.65,
         "-0.53%",
         "2023-10-19T09:53:48.680+0000",
         "2023-10-19",
         "09:53:48"
        ],
        [
         "Bajaj Finance Limited",
         "BAJFINANCE.NS",
         7872.05,
         5.5,
         "+0.07%",
         "2023-10-19T09:29:46.775+0000",
         "2023-10-19",
         "09:29:46"
        ],
        [
         "Bajaj Finance Limited",
         "BAJFINANCE.NS",
         7841.55,
         -25.0,
         "-0.32%",
         "2023-10-19T10:09:56.388+0000",
         "2023-10-19",
         "10:09:56"
        ],
        [
         "Bajaj Finance Limited",
         "BAJFINANCE.NS",
         7867.55,
         1.0,
         "+0.01%",
         "2023-10-19T09:21:24.518+0000",
         "2023-10-19",
         "09:21:24"
        ],
        [
         "Bajaj Finance Limited",
         "BAJFINANCE.NS",
         7866.75,
         0.2,
         "+0.00%",
         "2023-10-19T09:18:45.152+0000",
         "2023-10-19",
         "09:18:45"
        ],
        [
         "Bajaj Finance Limited",
         "BAJFINANCE.NS",
         7869.5,
         2.95,
         "+0.04%",
         "2023-10-19T09:23:55.233+0000",
         "2023-10-19",
         "09:23:55"
        ],
        [
         "Bajaj Finance Limited",
         "BAJFINANCE.NS",
         7870.4,
         3.85,
         "+0.05%",
         "2023-10-19T09:26:50.363+0000",
         "2023-10-19",
         "09:26:50"
        ],
        [
         "Bajaj Finance Limited",
         "BAJFINANCE.NS",
         7818.1,
         -48.45,
         "-0.62%",
         "2023-10-19T09:59:15.227+0000",
         "2023-10-19",
         "09:59:15"
        ]
       ],
       "datasetInfos": [],
       "dbfsResultPath": null,
       "isJsonSchema": true,
       "metadata": {
        "isDbfsCommandResult": false
       },
       "overflow": false,
       "plotOptions": {
        "customPlotOptions": {},
        "displayType": "table",
        "pivotAggregation": null,
        "pivotColumns": null,
        "xColumns": null,
        "yColumns": null
       },
       "removedWidgets": [],
       "schema": [
        {
         "metadata": "{}",
         "name": "Company_Name",
         "type": "\"string\""
        },
        {
         "metadata": "{}",
         "name": "Symbol",
         "type": "\"string\""
        },
        {
         "metadata": "{}",
         "name": "Indian_Market_Price",
         "type": "\"float\""
        },
        {
         "metadata": "{}",
         "name": "Market_Price_Change",
         "type": "\"float\""
        },
        {
         "metadata": "{}",
         "name": "Market_ChangePercent",
         "type": "\"string\""
        },
        {
         "metadata": "{}",
         "name": "confluent_timestamp",
         "type": "\"timestamp\""
        },
        {
         "metadata": "{}",
         "name": "Date",
         "type": "\"string\""
        },
        {
         "metadata": "{}",
         "name": "Time",
         "type": "\"string\""
        }
       ],
       "type": "table"
      }
     },
     "output_type": "display_data"
    },
    {
     "output_type": "display_data",
     "data": {
      "text/plain": [
       "Databricks visualization. Run in Databricks to view."
      ]
     },
     "metadata": {
      "application/vnd.databricks.v1.subcommand+json": {
       "baseErrorDetails": null,
       "bindings": {},
       "collapsed": false,
       "command": "# Databricks no-op command",
       "commandTitle": "Visualization 1",
       "commandType": "auto",
       "commandVersion": 0,
       "commentThread": [],
       "commentsVisible": false,
       "contentSha256Hex": null,
       "customPlotOptions": {
        "redashChart": [
         {
          "key": "type",
          "value": "CHART"
         },
         {
          "key": "options",
          "value": {
           "alignYAxesAtZero": true,
           "coefficient": 1,
           "columnConfigurationMap": {
            "series": {
             "column": "Symbol",
             "id": "column_fc069519273"
            },
            "x": {
             "column": "Time",
             "id": "column_fc069519270"
            },
            "y": [
             {
              "column": "Indian_Market_Price",
              "id": "column_fc069519272",
              "transform": "SUM"
             }
            ]
           },
           "dateTimeFormat": "DD/MM/YYYY HH:mm",
           "direction": {
            "type": "counterclockwise"
           },
           "error_y": {
            "type": "data",
            "visible": true
           },
           "globalSeriesType": "line",
           "isAggregationOn": true,
           "legend": {
            "traceorder": "normal"
           },
           "missingValuesAsZero": true,
           "numberFormat": "0,0[.]00000",
           "percentFormat": "0[.]00%",
           "series": {
            "error_y": {
             "type": "data",
             "visible": true
            },
            "stacking": null
           },
           "seriesOptions": {
            "column_fc069519272": {
             "type": "line",
             "yAxis": 0
            }
           },
           "showDataLabels": false,
           "sizemode": "diameter",
           "sortX": true,
           "sortY": true,
           "swappedAxes": false,
           "textFormat": "",
           "useAggregationsUi": true,
           "valuesOptions": {},
           "version": 2,
           "xAxis": {
            "labels": {
             "enabled": true
            },
            "type": "-"
           },
           "yAxis": [
            {
             "type": "-"
            },
            {
             "opposite": true,
             "type": "-"
            }
           ]
          }
         }
        ]
       },
       "datasetPreviewNameToCmdIdMap": {},
       "diffDeletes": [],
       "diffInserts": [],
       "displayType": "redashChart",
       "error": null,
       "errorDetails": null,
       "errorSummary": null,
       "errorTraceType": null,
       "finishTime": 0,
       "globalVars": {},
       "guid": "",
       "height": "auto",
       "hideCommandCode": false,
       "hideCommandResult": false,
       "iPythonMetadata": null,
       "inputWidgets": {},
       "isLockedInExamMode": false,
       "latestUser": "a user",
       "latestUserId": null,
       "listResultMetadata": null,
       "metadata": {},
       "nuid": "6ceb4f66-0dd0-4b45-8620-747e7a7b5e87",
       "origId": 0,
       "parentHierarchy": [],
       "pivotAggregation": null,
       "pivotColumns": null,
       "position": 13.0,
       "resultDbfsErrorMessage": null,
       "resultDbfsStatus": "INLINED_IN_TREE",
       "results": null,
       "showCommandTitle": false,
       "startTime": 0,
       "state": "input",
       "streamStates": {},
       "subcommandOptions": {
        "queryPlan": {
         "groups": [
          {
           "column": "Time",
           "type": "column"
          },
          {
           "column": "Symbol",
           "type": "column"
          }
         ],
         "selects": [
          {
           "column": "Time",
           "type": "column"
          },
          {
           "alias": "column_fc069519272",
           "args": [
            {
             "column": "Indian_Market_Price",
             "type": "column"
            }
           ],
           "function": "SUM",
           "type": "function"
          },
          {
           "column": "Symbol",
           "type": "column"
          }
         ]
        }
       },
       "submitTime": 0,
       "subtype": "tableResultSubCmd.visualization",
       "tableResultIndex": 0,
       "useConsistentColors": false,
       "version": "CommandV1",
       "width": "auto",
       "workflows": [],
       "xColumns": null,
       "yColumns": null
      }
     },
     "output_type": "display_data"
    }
   ],
   "source": [
    "dash_bajfinance=globaldf.filter(globaldf.Symbol==\"BAJFINANCE.NS\")\n",
    "display(dash_bajfinance)"
   ]
  },
  {
   "cell_type": "code",
   "execution_count": 0,
   "metadata": {
    "application/vnd.databricks.v1+cell": {
     "cellMetadata": {
      "byteLimit": 2048000,
      "rowLimit": 10000
     },
     "inputWidgets": {},
     "nuid": "8c170b15-a101-4bfc-8bc4-4a1cc9dee9cf",
     "showTitle": false,
     "title": ""
    }
   },
   "outputs": [
    {
     "output_type": "display_data",
     "data": {
      "text/html": [
       "<style scoped>\n",
       "  .table-result-container {\n",
       "    max-height: 300px;\n",
       "    overflow: auto;\n",
       "  }\n",
       "  table, th, td {\n",
       "    border: 1px solid black;\n",
       "    border-collapse: collapse;\n",
       "  }\n",
       "  th, td {\n",
       "    padding: 5px;\n",
       "  }\n",
       "  th {\n",
       "    text-align: left;\n",
       "  }\n",
       "</style><div class='table-result-container'><table class='table-result'><thead style='background-color: white'><tr><th>Company_Name</th><th>Symbol</th><th>Indian_Market_Price</th><th>Market_Price_Change</th><th>Market_ChangePercent</th><th>confluent_timestamp</th><th>Date</th><th>Time</th></tr></thead><tbody><tr><td>Britannia Industries Limited</td><td>BRITANNIA.NS</td><td>4598.45</td><td>-9.25</td><td>-0.20%</td><td>2023-10-19T09:35:22.406+0000</td><td>2023-10-19</td><td>09:35:22</td></tr><tr><td>Britannia Industries Limited</td><td>BRITANNIA.NS</td><td>4600.95</td><td>-6.75</td><td>-0.15%</td><td>2023-10-19T09:21:39.787+0000</td><td>2023-10-19</td><td>09:21:39</td></tr><tr><td>Britannia Industries Limited</td><td>BRITANNIA.NS</td><td>4600.25</td><td>-7.45</td><td>-0.16%</td><td>2023-10-19T09:37:55.439+0000</td><td>2023-10-19</td><td>09:37:55</td></tr><tr><td>Britannia Industries Limited</td><td>BRITANNIA.NS</td><td>4599.35</td><td>-8.35</td><td>-0.18%</td><td>2023-10-19T09:45:37.122+0000</td><td>2023-10-19</td><td>09:45:37</td></tr><tr><td>Britannia Industries Limited</td><td>BRITANNIA.NS</td><td>4600.05</td><td>-7.65</td><td>-0.17%</td><td>2023-10-19T09:40:37.979+0000</td><td>2023-10-19</td><td>09:40:37</td></tr><tr><td>Britannia Industries Limited</td><td>BRITANNIA.NS</td><td>4604.4</td><td>-3.3</td><td>-0.07%</td><td>2023-10-19T09:19:00.112+0000</td><td>2023-10-19</td><td>09:19:00</td></tr><tr><td>Britannia Industries Limited</td><td>BRITANNIA.NS</td><td>4603.4</td><td>-4.3</td><td>-0.09%</td><td>2023-10-19T09:27:18.517+0000</td><td>2023-10-19</td><td>09:27:18</td></tr><tr><td>Britannia Industries Limited</td><td>BRITANNIA.NS</td><td>4605.0</td><td>-2.7</td><td>-0.06%</td><td>2023-10-19T09:30:04.074+0000</td><td>2023-10-19</td><td>09:30:04</td></tr><tr><td>Britannia Industries Limited</td><td>BRITANNIA.NS</td><td>4600.0</td><td>-7.7</td><td>-0.17%</td><td>2023-10-19T09:43:04.418+0000</td><td>2023-10-19</td><td>09:43:04</td></tr><tr><td>Britannia Industries Limited</td><td>BRITANNIA.NS</td><td>4601.1</td><td>-6.6</td><td>-0.14%</td><td>2023-10-19T09:24:14.366+0000</td><td>2023-10-19</td><td>09:24:14</td></tr><tr><td>Britannia Industries Limited</td><td>BRITANNIA.NS</td><td>4602.7</td><td>-5.0</td><td>-0.11%</td><td>2023-10-19T09:32:45.892+0000</td><td>2023-10-19</td><td>09:32:45</td></tr><tr><td>Britannia Industries Limited</td><td>BRITANNIA.NS</td><td>4603.85</td><td>-3.85</td><td>-0.08%</td><td>2023-10-19T09:48:52.118+0000</td><td>2023-10-19</td><td>09:48:52</td></tr><tr><td>Britannia Industries Limited</td><td>BRITANNIA.NS</td><td>4607.25</td><td>-0.45</td><td>-0.01%</td><td>2023-10-19T09:56:56.549+0000</td><td>2023-10-19</td><td>09:56:56</td></tr><tr><td>Britannia Industries Limited</td><td>BRITANNIA.NS</td><td>4609.15</td><td>1.45</td><td>+0.03%</td><td>2023-10-19T09:54:04.864+0000</td><td>2023-10-19</td><td>09:54:04</td></tr><tr><td>Britannia Industries Limited</td><td>BRITANNIA.NS</td><td>4603.1</td><td>-4.6</td><td>-0.10%</td><td>2023-10-19T09:51:34.245+0000</td><td>2023-10-19</td><td>09:51:34</td></tr><tr><td>Britannia Industries Limited</td><td>BRITANNIA.NS</td><td>4607.0</td><td>-0.7</td><td>-0.02%</td><td>2023-10-19T09:59:29.656+0000</td><td>2023-10-19</td><td>09:59:29</td></tr><tr><td>Britannia Industries Limited</td><td>BRITANNIA.NS</td><td>4608.0</td><td>0.3</td><td>+0.01%</td><td>2023-10-19T10:01:54.460+0000</td><td>2023-10-19</td><td>10:01:54</td></tr><tr><td>Britannia Industries Limited</td><td>BRITANNIA.NS</td><td>4602.45</td><td>-5.25</td><td>-0.11%</td><td>2023-10-19T10:04:37.088+0000</td><td>2023-10-19</td><td>10:04:37</td></tr><tr><td>Britannia Industries Limited</td><td>BRITANNIA.NS</td><td>4602.45</td><td>-5.25</td><td>-0.11%</td><td>2023-10-19T10:07:22.855+0000</td><td>2023-10-19</td><td>10:07:22</td></tr><tr><td>Britannia Industries Limited</td><td>BRITANNIA.NS</td><td>4602.45</td><td>-5.25</td><td>-0.11%</td><td>2023-10-19T10:10:12.035+0000</td><td>2023-10-19</td><td>10:10:12</td></tr></tbody></table></div>"
      ]
     },
     "metadata": {
      "application/vnd.databricks.v1+output": {
       "addedWidgets": {},
       "aggData": [],
       "aggError": "",
       "aggOverflow": false,
       "aggSchema": [],
       "aggSeriesLimitReached": false,
       "aggType": "",
       "arguments": {},
       "columnCustomDisplayInfos": {},
       "data": [
        [
         "Britannia Industries Limited",
         "BRITANNIA.NS",
         4598.45,
         -9.25,
         "-0.20%",
         "2023-10-19T09:35:22.406+0000",
         "2023-10-19",
         "09:35:22"
        ],
        [
         "Britannia Industries Limited",
         "BRITANNIA.NS",
         4600.95,
         -6.75,
         "-0.15%",
         "2023-10-19T09:21:39.787+0000",
         "2023-10-19",
         "09:21:39"
        ],
        [
         "Britannia Industries Limited",
         "BRITANNIA.NS",
         4600.25,
         -7.45,
         "-0.16%",
         "2023-10-19T09:37:55.439+0000",
         "2023-10-19",
         "09:37:55"
        ],
        [
         "Britannia Industries Limited",
         "BRITANNIA.NS",
         4599.35,
         -8.35,
         "-0.18%",
         "2023-10-19T09:45:37.122+0000",
         "2023-10-19",
         "09:45:37"
        ],
        [
         "Britannia Industries Limited",
         "BRITANNIA.NS",
         4600.05,
         -7.65,
         "-0.17%",
         "2023-10-19T09:40:37.979+0000",
         "2023-10-19",
         "09:40:37"
        ],
        [
         "Britannia Industries Limited",
         "BRITANNIA.NS",
         4604.4,
         -3.3,
         "-0.07%",
         "2023-10-19T09:19:00.112+0000",
         "2023-10-19",
         "09:19:00"
        ],
        [
         "Britannia Industries Limited",
         "BRITANNIA.NS",
         4603.4,
         -4.3,
         "-0.09%",
         "2023-10-19T09:27:18.517+0000",
         "2023-10-19",
         "09:27:18"
        ],
        [
         "Britannia Industries Limited",
         "BRITANNIA.NS",
         4605.0,
         -2.7,
         "-0.06%",
         "2023-10-19T09:30:04.074+0000",
         "2023-10-19",
         "09:30:04"
        ],
        [
         "Britannia Industries Limited",
         "BRITANNIA.NS",
         4600.0,
         -7.7,
         "-0.17%",
         "2023-10-19T09:43:04.418+0000",
         "2023-10-19",
         "09:43:04"
        ],
        [
         "Britannia Industries Limited",
         "BRITANNIA.NS",
         4601.1,
         -6.6,
         "-0.14%",
         "2023-10-19T09:24:14.366+0000",
         "2023-10-19",
         "09:24:14"
        ],
        [
         "Britannia Industries Limited",
         "BRITANNIA.NS",
         4602.7,
         -5.0,
         "-0.11%",
         "2023-10-19T09:32:45.892+0000",
         "2023-10-19",
         "09:32:45"
        ],
        [
         "Britannia Industries Limited",
         "BRITANNIA.NS",
         4603.85,
         -3.85,
         "-0.08%",
         "2023-10-19T09:48:52.118+0000",
         "2023-10-19",
         "09:48:52"
        ],
        [
         "Britannia Industries Limited",
         "BRITANNIA.NS",
         4607.25,
         -0.45,
         "-0.01%",
         "2023-10-19T09:56:56.549+0000",
         "2023-10-19",
         "09:56:56"
        ],
        [
         "Britannia Industries Limited",
         "BRITANNIA.NS",
         4609.15,
         1.45,
         "+0.03%",
         "2023-10-19T09:54:04.864+0000",
         "2023-10-19",
         "09:54:04"
        ],
        [
         "Britannia Industries Limited",
         "BRITANNIA.NS",
         4603.1,
         -4.6,
         "-0.10%",
         "2023-10-19T09:51:34.245+0000",
         "2023-10-19",
         "09:51:34"
        ],
        [
         "Britannia Industries Limited",
         "BRITANNIA.NS",
         4607.0,
         -0.7,
         "-0.02%",
         "2023-10-19T09:59:29.656+0000",
         "2023-10-19",
         "09:59:29"
        ],
        [
         "Britannia Industries Limited",
         "BRITANNIA.NS",
         4608.0,
         0.3,
         "+0.01%",
         "2023-10-19T10:01:54.460+0000",
         "2023-10-19",
         "10:01:54"
        ],
        [
         "Britannia Industries Limited",
         "BRITANNIA.NS",
         4602.45,
         -5.25,
         "-0.11%",
         "2023-10-19T10:04:37.088+0000",
         "2023-10-19",
         "10:04:37"
        ],
        [
         "Britannia Industries Limited",
         "BRITANNIA.NS",
         4602.45,
         -5.25,
         "-0.11%",
         "2023-10-19T10:07:22.855+0000",
         "2023-10-19",
         "10:07:22"
        ],
        [
         "Britannia Industries Limited",
         "BRITANNIA.NS",
         4602.45,
         -5.25,
         "-0.11%",
         "2023-10-19T10:10:12.035+0000",
         "2023-10-19",
         "10:10:12"
        ]
       ],
       "datasetInfos": [],
       "dbfsResultPath": null,
       "isJsonSchema": true,
       "metadata": {},
       "overflow": false,
       "plotOptions": {
        "customPlotOptions": {},
        "displayType": "table",
        "pivotAggregation": null,
        "pivotColumns": null,
        "xColumns": null,
        "yColumns": null
       },
       "removedWidgets": [],
       "schema": [
        {
         "metadata": "{}",
         "name": "Company_Name",
         "type": "\"string\""
        },
        {
         "metadata": "{}",
         "name": "Symbol",
         "type": "\"string\""
        },
        {
         "metadata": "{}",
         "name": "Indian_Market_Price",
         "type": "\"float\""
        },
        {
         "metadata": "{}",
         "name": "Market_Price_Change",
         "type": "\"float\""
        },
        {
         "metadata": "{}",
         "name": "Market_ChangePercent",
         "type": "\"string\""
        },
        {
         "metadata": "{}",
         "name": "confluent_timestamp",
         "type": "\"timestamp\""
        },
        {
         "metadata": "{}",
         "name": "Date",
         "type": "\"string\""
        },
        {
         "metadata": "{}",
         "name": "Time",
         "type": "\"string\""
        }
       ],
       "type": "table"
      }
     },
     "output_type": "display_data"
    },
    {
     "output_type": "display_data",
     "data": {
      "text/plain": [
       "Databricks visualization. Run in Databricks to view."
      ]
     },
     "metadata": {
      "application/vnd.databricks.v1.subcommand+json": {
       "baseErrorDetails": null,
       "bindings": {},
       "collapsed": false,
       "command": "# Databricks no-op command",
       "commandTitle": "Visualization 1",
       "commandType": "auto",
       "commandVersion": 0,
       "commentThread": [],
       "commentsVisible": false,
       "contentSha256Hex": null,
       "customPlotOptions": {
        "redashChart": [
         {
          "key": "type",
          "value": "CHART"
         },
         {
          "key": "options",
          "value": {
           "alignYAxesAtZero": true,
           "coefficient": 1,
           "columnConfigurationMap": {
            "series": {
             "column": "Symbol",
             "id": "column_fc069519198"
            },
            "x": {
             "column": "Time",
             "id": "column_fc069519194"
            },
            "y": [
             {
              "column": "Indian_Market_Price",
              "id": "column_fc069519197",
              "transform": "SUM"
             }
            ]
           },
           "dateTimeFormat": "DD/MM/YYYY HH:mm",
           "direction": {
            "type": "counterclockwise"
           },
           "error_y": {
            "type": "data",
            "visible": true
           },
           "globalSeriesType": "line",
           "isAggregationOn": true,
           "legend": {
            "traceorder": "normal"
           },
           "missingValuesAsZero": true,
           "numberFormat": "0,0[.]00000",
           "percentFormat": "0[.]00%",
           "series": {
            "error_y": {
             "type": "data",
             "visible": true
            },
            "stacking": null
           },
           "seriesOptions": {
            "column_fc069519197": {
             "type": "line",
             "yAxis": 0
            }
           },
           "showDataLabels": false,
           "sizemode": "diameter",
           "sortX": true,
           "sortY": true,
           "swappedAxes": false,
           "textFormat": "",
           "useAggregationsUi": true,
           "valuesOptions": {},
           "version": 2,
           "xAxis": {
            "labels": {
             "enabled": true
            },
            "type": "-"
           },
           "yAxis": [
            {
             "type": "-"
            },
            {
             "opposite": true,
             "type": "-"
            }
           ]
          }
         }
        ]
       },
       "datasetPreviewNameToCmdIdMap": {},
       "diffDeletes": [],
       "diffInserts": [],
       "displayType": "redashChart",
       "error": null,
       "errorDetails": null,
       "errorSummary": null,
       "errorTraceType": null,
       "finishTime": 0,
       "globalVars": {},
       "guid": "",
       "height": "auto",
       "hideCommandCode": false,
       "hideCommandResult": false,
       "iPythonMetadata": null,
       "inputWidgets": {},
       "isLockedInExamMode": false,
       "latestUser": "a user",
       "latestUserId": null,
       "listResultMetadata": null,
       "metadata": {},
       "nuid": "c9a285fb-f08d-40da-8794-1daf0de80d55",
       "origId": 0,
       "parentHierarchy": [],
       "pivotAggregation": null,
       "pivotColumns": null,
       "position": 14.0,
       "resultDbfsErrorMessage": null,
       "resultDbfsStatus": "INLINED_IN_TREE",
       "results": null,
       "showCommandTitle": false,
       "startTime": 0,
       "state": "input",
       "streamStates": {},
       "subcommandOptions": {
        "queryPlan": {
         "groups": [
          {
           "column": "Time",
           "type": "column"
          },
          {
           "column": "Symbol",
           "type": "column"
          }
         ],
         "selects": [
          {
           "column": "Time",
           "type": "column"
          },
          {
           "alias": "column_fc069519197",
           "args": [
            {
             "column": "Indian_Market_Price",
             "type": "column"
            }
           ],
           "function": "SUM",
           "type": "function"
          },
          {
           "column": "Symbol",
           "type": "column"
          }
         ]
        }
       },
       "submitTime": 0,
       "subtype": "tableResultSubCmd.visualization",
       "tableResultIndex": 0,
       "useConsistentColors": false,
       "version": "CommandV1",
       "width": "auto",
       "workflows": [],
       "xColumns": null,
       "yColumns": null
      }
     },
     "output_type": "display_data"
    }
   ],
   "source": [
    "dash_britannia=globaldf.filter(globaldf.Symbol==\"BRITANNIA.NS\")\n",
    "display(dash_britannia)"
   ]
  },
  {
   "cell_type": "code",
   "execution_count": 0,
   "metadata": {
    "application/vnd.databricks.v1+cell": {
     "cellMetadata": {
      "byteLimit": 2048000,
      "rowLimit": 10000
     },
     "inputWidgets": {},
     "nuid": "00d331bc-1f29-40e8-876a-ab74eda9c654",
     "showTitle": false,
     "title": ""
    }
   },
   "outputs": [
    {
     "output_type": "display_data",
     "data": {
      "text/html": [
       "<style scoped>\n",
       "  .table-result-container {\n",
       "    max-height: 300px;\n",
       "    overflow: auto;\n",
       "  }\n",
       "  table, th, td {\n",
       "    border: 1px solid black;\n",
       "    border-collapse: collapse;\n",
       "  }\n",
       "  th, td {\n",
       "    padding: 5px;\n",
       "  }\n",
       "  th {\n",
       "    text-align: left;\n",
       "  }\n",
       "</style><div class='table-result-container'><table class='table-result'><thead style='background-color: white'><tr><th>Company_Name</th><th>Symbol</th><th>Indian_Market_Price</th><th>Market_Price_Change</th><th>Market_ChangePercent</th><th>confluent_timestamp</th><th>Date</th><th>Time</th></tr></thead><tbody><tr><td>Asian Paints Limited</td><td>ASIANPAINT.NS</td><td>3101.65</td><td>5.2</td><td>+0.17%</td><td>2023-10-19T09:24:29.392+0000</td><td>2023-10-19</td><td>09:24:29</td></tr><tr><td>Asian Paints Limited</td><td>ASIANPAINT.NS</td><td>3103.55</td><td>7.1</td><td>+0.23%</td><td>2023-10-19T09:27:39.387+0000</td><td>2023-10-19</td><td>09:27:39</td></tr><tr><td>Asian Paints Limited</td><td>ASIANPAINT.NS</td><td>3102.85</td><td>6.4</td><td>+0.21%</td><td>2023-10-19T09:33:02.257+0000</td><td>2023-10-19</td><td>09:33:02</td></tr><tr><td>Asian Paints Limited</td><td>ASIANPAINT.NS</td><td>3102.65</td><td>6.2</td><td>+0.20%</td><td>2023-10-19T09:35:37.517+0000</td><td>2023-10-19</td><td>09:35:37</td></tr><tr><td>Asian Paints Limited</td><td>ASIANPAINT.NS</td><td>3101.3</td><td>4.85</td><td>+0.16%</td><td>2023-10-19T09:21:54.551+0000</td><td>2023-10-19</td><td>09:21:54</td></tr><tr><td>Asian Paints Limited</td><td>ASIANPAINT.NS</td><td>3102.5</td><td>6.05</td><td>+0.20%</td><td>2023-10-19T09:30:20.765+0000</td><td>2023-10-19</td><td>09:30:20</td></tr><tr><td>Asian Paints Limited</td><td>ASIANPAINT.NS</td><td>3103.0</td><td>6.55</td><td>+0.21%</td><td>2023-10-19T09:38:11.179+0000</td><td>2023-10-19</td><td>09:38:11</td></tr><tr><td>Asian Paints Limited</td><td>ASIANPAINT.NS</td><td>3101.7</td><td>5.25</td><td>+0.17%</td><td>2023-10-19T09:40:55.215+0000</td><td>2023-10-19</td><td>09:40:55</td></tr><tr><td>Asian Paints Limited</td><td>ASIANPAINT.NS</td><td>3103.0</td><td>6.55</td><td>+0.21%</td><td>2023-10-19T09:19:14.539+0000</td><td>2023-10-19</td><td>09:19:14</td></tr><tr><td>Asian Paints Limited</td><td>ASIANPAINT.NS</td><td>3102.55</td><td>6.1</td><td>+0.20%</td><td>2023-10-19T09:43:17.921+0000</td><td>2023-10-19</td><td>09:43:17</td></tr><tr><td>Asian Paints Limited</td><td>ASIANPAINT.NS</td><td>3102.05</td><td>5.6</td><td>+0.18%</td><td>2023-10-19T09:45:51.801+0000</td><td>2023-10-19</td><td>09:45:51</td></tr><tr><td>Asian Paints Limited</td><td>ASIANPAINT.NS</td><td>3100.8</td><td>4.35</td><td>+0.14%</td><td>2023-10-19T09:49:10.105+0000</td><td>2023-10-19</td><td>09:49:10</td></tr><tr><td>Asian Paints Limited</td><td>ASIANPAINT.NS</td><td>3101.7</td><td>5.25</td><td>+0.17%</td><td>2023-10-19T09:51:49.576+0000</td><td>2023-10-19</td><td>09:51:49</td></tr><tr><td>Asian Paints Limited</td><td>ASIANPAINT.NS</td><td>3099.25</td><td>2.8</td><td>+0.09%</td><td>2023-10-19T09:57:10.572+0000</td><td>2023-10-19</td><td>09:57:10</td></tr><tr><td>Asian Paints Limited</td><td>ASIANPAINT.NS</td><td>3100.45</td><td>4.0</td><td>+0.13%</td><td>2023-10-19T09:54:25.887+0000</td><td>2023-10-19</td><td>09:54:25</td></tr><tr><td>Asian Paints Limited</td><td>ASIANPAINT.NS</td><td>3101.0</td><td>4.55</td><td>+0.15%</td><td>2023-10-19T09:59:42.876+0000</td><td>2023-10-19</td><td>09:59:42</td></tr><tr><td>Asian Paints Limited</td><td>ASIANPAINT.NS</td><td>3101.0</td><td>4.55</td><td>+0.15%</td><td>2023-10-19T10:02:10.354+0000</td><td>2023-10-19</td><td>10:02:10</td></tr><tr><td>Asian Paints Limited</td><td>ASIANPAINT.NS</td><td>3101.8</td><td>5.35</td><td>+0.17%</td><td>2023-10-19T10:04:56.263+0000</td><td>2023-10-19</td><td>10:04:56</td></tr><tr><td>Asian Paints Limited</td><td>ASIANPAINT.NS</td><td>3101.8</td><td>5.35</td><td>+0.17%</td><td>2023-10-19T10:07:37.904+0000</td><td>2023-10-19</td><td>10:07:37</td></tr><tr><td>Asian Paints Limited</td><td>ASIANPAINT.NS</td><td>3101.8</td><td>5.35</td><td>+0.17%</td><td>2023-10-19T10:10:28.664+0000</td><td>2023-10-19</td><td>10:10:28</td></tr></tbody></table></div>"
      ]
     },
     "metadata": {
      "application/vnd.databricks.v1+output": {
       "addedWidgets": {},
       "aggData": [],
       "aggError": "",
       "aggOverflow": false,
       "aggSchema": [],
       "aggSeriesLimitReached": false,
       "aggType": "",
       "arguments": {},
       "columnCustomDisplayInfos": {},
       "data": [
        [
         "Asian Paints Limited",
         "ASIANPAINT.NS",
         3101.65,
         5.2,
         "+0.17%",
         "2023-10-19T09:24:29.392+0000",
         "2023-10-19",
         "09:24:29"
        ],
        [
         "Asian Paints Limited",
         "ASIANPAINT.NS",
         3103.55,
         7.1,
         "+0.23%",
         "2023-10-19T09:27:39.387+0000",
         "2023-10-19",
         "09:27:39"
        ],
        [
         "Asian Paints Limited",
         "ASIANPAINT.NS",
         3102.85,
         6.4,
         "+0.21%",
         "2023-10-19T09:33:02.257+0000",
         "2023-10-19",
         "09:33:02"
        ],
        [
         "Asian Paints Limited",
         "ASIANPAINT.NS",
         3102.65,
         6.2,
         "+0.20%",
         "2023-10-19T09:35:37.517+0000",
         "2023-10-19",
         "09:35:37"
        ],
        [
         "Asian Paints Limited",
         "ASIANPAINT.NS",
         3101.3,
         4.85,
         "+0.16%",
         "2023-10-19T09:21:54.551+0000",
         "2023-10-19",
         "09:21:54"
        ],
        [
         "Asian Paints Limited",
         "ASIANPAINT.NS",
         3102.5,
         6.05,
         "+0.20%",
         "2023-10-19T09:30:20.765+0000",
         "2023-10-19",
         "09:30:20"
        ],
        [
         "Asian Paints Limited",
         "ASIANPAINT.NS",
         3103.0,
         6.55,
         "+0.21%",
         "2023-10-19T09:38:11.179+0000",
         "2023-10-19",
         "09:38:11"
        ],
        [
         "Asian Paints Limited",
         "ASIANPAINT.NS",
         3101.7,
         5.25,
         "+0.17%",
         "2023-10-19T09:40:55.215+0000",
         "2023-10-19",
         "09:40:55"
        ],
        [
         "Asian Paints Limited",
         "ASIANPAINT.NS",
         3103.0,
         6.55,
         "+0.21%",
         "2023-10-19T09:19:14.539+0000",
         "2023-10-19",
         "09:19:14"
        ],
        [
         "Asian Paints Limited",
         "ASIANPAINT.NS",
         3102.55,
         6.1,
         "+0.20%",
         "2023-10-19T09:43:17.921+0000",
         "2023-10-19",
         "09:43:17"
        ],
        [
         "Asian Paints Limited",
         "ASIANPAINT.NS",
         3102.05,
         5.6,
         "+0.18%",
         "2023-10-19T09:45:51.801+0000",
         "2023-10-19",
         "09:45:51"
        ],
        [
         "Asian Paints Limited",
         "ASIANPAINT.NS",
         3100.8,
         4.35,
         "+0.14%",
         "2023-10-19T09:49:10.105+0000",
         "2023-10-19",
         "09:49:10"
        ],
        [
         "Asian Paints Limited",
         "ASIANPAINT.NS",
         3101.7,
         5.25,
         "+0.17%",
         "2023-10-19T09:51:49.576+0000",
         "2023-10-19",
         "09:51:49"
        ],
        [
         "Asian Paints Limited",
         "ASIANPAINT.NS",
         3099.25,
         2.8,
         "+0.09%",
         "2023-10-19T09:57:10.572+0000",
         "2023-10-19",
         "09:57:10"
        ],
        [
         "Asian Paints Limited",
         "ASIANPAINT.NS",
         3100.45,
         4.0,
         "+0.13%",
         "2023-10-19T09:54:25.887+0000",
         "2023-10-19",
         "09:54:25"
        ],
        [
         "Asian Paints Limited",
         "ASIANPAINT.NS",
         3101.0,
         4.55,
         "+0.15%",
         "2023-10-19T09:59:42.876+0000",
         "2023-10-19",
         "09:59:42"
        ],
        [
         "Asian Paints Limited",
         "ASIANPAINT.NS",
         3101.0,
         4.55,
         "+0.15%",
         "2023-10-19T10:02:10.354+0000",
         "2023-10-19",
         "10:02:10"
        ],
        [
         "Asian Paints Limited",
         "ASIANPAINT.NS",
         3101.8,
         5.35,
         "+0.17%",
         "2023-10-19T10:04:56.263+0000",
         "2023-10-19",
         "10:04:56"
        ],
        [
         "Asian Paints Limited",
         "ASIANPAINT.NS",
         3101.8,
         5.35,
         "+0.17%",
         "2023-10-19T10:07:37.904+0000",
         "2023-10-19",
         "10:07:37"
        ],
        [
         "Asian Paints Limited",
         "ASIANPAINT.NS",
         3101.8,
         5.35,
         "+0.17%",
         "2023-10-19T10:10:28.664+0000",
         "2023-10-19",
         "10:10:28"
        ]
       ],
       "datasetInfos": [],
       "dbfsResultPath": null,
       "isJsonSchema": true,
       "metadata": {},
       "overflow": false,
       "plotOptions": {
        "customPlotOptions": {},
        "displayType": "table",
        "pivotAggregation": null,
        "pivotColumns": null,
        "xColumns": null,
        "yColumns": null
       },
       "removedWidgets": [],
       "schema": [
        {
         "metadata": "{}",
         "name": "Company_Name",
         "type": "\"string\""
        },
        {
         "metadata": "{}",
         "name": "Symbol",
         "type": "\"string\""
        },
        {
         "metadata": "{}",
         "name": "Indian_Market_Price",
         "type": "\"float\""
        },
        {
         "metadata": "{}",
         "name": "Market_Price_Change",
         "type": "\"float\""
        },
        {
         "metadata": "{}",
         "name": "Market_ChangePercent",
         "type": "\"string\""
        },
        {
         "metadata": "{}",
         "name": "confluent_timestamp",
         "type": "\"timestamp\""
        },
        {
         "metadata": "{}",
         "name": "Date",
         "type": "\"string\""
        },
        {
         "metadata": "{}",
         "name": "Time",
         "type": "\"string\""
        }
       ],
       "type": "table"
      }
     },
     "output_type": "display_data"
    },
    {
     "output_type": "display_data",
     "data": {
      "text/plain": [
       "Databricks visualization. Run in Databricks to view."
      ]
     },
     "metadata": {
      "application/vnd.databricks.v1.subcommand+json": {
       "baseErrorDetails": null,
       "bindings": {},
       "collapsed": false,
       "command": "# Databricks no-op command",
       "commandTitle": "Visualization 1",
       "commandType": "auto",
       "commandVersion": 0,
       "commentThread": [],
       "commentsVisible": false,
       "contentSha256Hex": null,
       "customPlotOptions": {
        "redashChart": [
         {
          "key": "type",
          "value": "CHART"
         },
         {
          "key": "options",
          "value": {
           "alignYAxesAtZero": true,
           "coefficient": 1,
           "columnConfigurationMap": {
            "series": {
             "column": "Symbol",
             "id": "column_fc069519186"
            },
            "x": {
             "column": "Time",
             "id": "column_fc069519183"
            },
            "y": [
             {
              "column": "Indian_Market_Price",
              "id": "column_fc069519185",
              "transform": "SUM"
             }
            ]
           },
           "dateTimeFormat": "DD/MM/YYYY HH:mm",
           "direction": {
            "type": "counterclockwise"
           },
           "error_y": {
            "type": "data",
            "visible": true
           },
           "globalSeriesType": "line",
           "isAggregationOn": true,
           "legend": {
            "traceorder": "normal"
           },
           "missingValuesAsZero": true,
           "numberFormat": "0,0[.]00000",
           "percentFormat": "0[.]00%",
           "series": {
            "error_y": {
             "type": "data",
             "visible": true
            },
            "stacking": null
           },
           "seriesOptions": {
            "column_fc069519185": {
             "type": "line",
             "yAxis": 0
            }
           },
           "showDataLabels": false,
           "sizemode": "diameter",
           "sortX": true,
           "sortY": true,
           "swappedAxes": false,
           "textFormat": "",
           "useAggregationsUi": true,
           "valuesOptions": {},
           "version": 2,
           "xAxis": {
            "labels": {
             "enabled": true
            },
            "type": "-"
           },
           "yAxis": [
            {
             "type": "-"
            },
            {
             "opposite": true,
             "type": "-"
            }
           ]
          }
         }
        ]
       },
       "datasetPreviewNameToCmdIdMap": {},
       "diffDeletes": [],
       "diffInserts": [],
       "displayType": "redashChart",
       "error": null,
       "errorDetails": null,
       "errorSummary": null,
       "errorTraceType": null,
       "finishTime": 0,
       "globalVars": {},
       "guid": "",
       "height": "auto",
       "hideCommandCode": false,
       "hideCommandResult": false,
       "iPythonMetadata": null,
       "inputWidgets": {},
       "isLockedInExamMode": false,
       "latestUser": "a user",
       "latestUserId": null,
       "listResultMetadata": null,
       "metadata": {},
       "nuid": "c9e05df8-754e-426f-b244-3567e5fd88ca",
       "origId": 0,
       "parentHierarchy": [],
       "pivotAggregation": null,
       "pivotColumns": null,
       "position": 15.0,
       "resultDbfsErrorMessage": null,
       "resultDbfsStatus": "INLINED_IN_TREE",
       "results": null,
       "showCommandTitle": false,
       "startTime": 0,
       "state": "input",
       "streamStates": {},
       "subcommandOptions": {
        "queryPlan": {
         "groups": [
          {
           "column": "Time",
           "type": "column"
          },
          {
           "column": "Symbol",
           "type": "column"
          }
         ],
         "selects": [
          {
           "column": "Time",
           "type": "column"
          },
          {
           "alias": "column_fc069519185",
           "args": [
            {
             "column": "Indian_Market_Price",
             "type": "column"
            }
           ],
           "function": "SUM",
           "type": "function"
          },
          {
           "column": "Symbol",
           "type": "column"
          }
         ]
        }
       },
       "submitTime": 0,
       "subtype": "tableResultSubCmd.visualization",
       "tableResultIndex": 0,
       "useConsistentColors": false,
       "version": "CommandV1",
       "width": "auto",
       "workflows": [],
       "xColumns": null,
       "yColumns": null
      }
     },
     "output_type": "display_data"
    }
   ],
   "source": [
    "dash_asianpaint=globaldf.filter(globaldf.Symbol==\"ASIANPAINT.NS\")\n",
    "display(dash_asianpaint)"
   ]
  },
  {
   "cell_type": "code",
   "execution_count": 0,
   "metadata": {
    "application/vnd.databricks.v1+cell": {
     "cellMetadata": {
      "byteLimit": 2048000,
      "rowLimit": 10000
     },
     "inputWidgets": {},
     "nuid": "f32ada3a-b8b6-4075-8f44-f903b6467b0f",
     "showTitle": false,
     "title": ""
    }
   },
   "outputs": [
    {
     "output_type": "display_data",
     "data": {
      "text/plain": [
       "\u001B[0;36m  File \u001B[0;32m<command-2674184481960945>:1\u001B[0;36m\u001B[0m\n",
       "\u001B[0;31m    Refernce:\u001B[0m\n",
       "\u001B[0m             ^\u001B[0m\n",
       "\u001B[0;31mSyntaxError\u001B[0m\u001B[0;31m:\u001B[0m invalid syntax\n"
      ]
     },
     "metadata": {
      "application/vnd.databricks.v1+output": {
       "arguments": {},
       "data": "\u001B[0;36m  File \u001B[0;32m<command-2674184481960945>:1\u001B[0;36m\u001B[0m\n\u001B[0;31m    Refernce:\u001B[0m\n\u001B[0m             ^\u001B[0m\n\u001B[0;31mSyntaxError\u001B[0m\u001B[0;31m:\u001B[0m invalid syntax\n",
       "errorSummary": "<span class='ansi-red-fg'>SyntaxError</span>: invalid syntax (<command-2674184481960945>, line 1)",
       "errorTraceType": "ansi",
       "metadata": {},
       "type": "ipynbError"
      }
     },
     "output_type": "display_data"
    }
   ],
   "source": [
    "Refernce: tempview name : gblsilver_india\n",
    "checkpointLocation:/indian_stocks/tmp/delta/_checkpoints/    \n",
    "default ---> DB\n",
    "window_Aggregation_table_india --->Table\n"
   ]
  },
  {
   "cell_type": "code",
   "execution_count": 0,
   "metadata": {
    "application/vnd.databricks.v1+cell": {
     "cellMetadata": {},
     "inputWidgets": {},
     "nuid": "e1d4de1d-ea4b-47d5-9b4e-b9f7c90bc0b4",
     "showTitle": false,
     "title": ""
    }
   },
   "outputs": [],
   "source": []
  }
 ],
 "metadata": {
  "application/vnd.databricks.v1+notebook": {
   "dashboards": [],
   "language": "python",
   "notebookMetadata": {
    "mostRecentlyExecutedCommandWithImplicitDF": {
     "commandId": 2674184481960933,
     "dataframes": [
      "_sqldf"
     ]
    },
    "pythonIndentUnit": 4
   },
   "notebookName": "Indian_Stock_Gold (1)",
   "widgets": {}
  }
 },
 "nbformat": 4,
 "nbformat_minor": 0
}
