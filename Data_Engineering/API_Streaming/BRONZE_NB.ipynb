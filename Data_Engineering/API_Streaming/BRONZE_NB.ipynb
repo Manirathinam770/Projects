{
 "cells": [
  {
   "cell_type": "code",
   "execution_count": 0,
   "metadata": {
    "application/vnd.databricks.v1+cell": {
     "cellMetadata": {
      "byteLimit": 2048000,
      "rowLimit": 10000
     },
     "inputWidgets": {},
     "nuid": "a25484bf-f080-48ec-bb10-963bd7d34ee4",
     "showTitle": false,
     "title": ""
    }
   },
   "outputs": [],
   "source": [
    "from pyspark.sql import SparkSession\n",
    "\n",
    "from pyspark.sql.functions import *\n",
    "from pyspark.sql.types import *\n",
    "import requests,json"
   ]
  },
  {
   "cell_type": "code",
   "execution_count": 0,
   "metadata": {
    "application/vnd.databricks.v1+cell": {
     "cellMetadata": {
      "byteLimit": 2048000,
      "rowLimit": 10000
     },
     "inputWidgets": {},
     "nuid": "b32e48cb-34fa-4c6f-b754-dd95cbd80596",
     "showTitle": false,
     "title": ""
    }
   },
   "outputs": [],
   "source": [
    "from pyspark.sql.functions import explode\n",
    "from pyspark.sql import functions as f\n",
    "from pyspark.sql.functions import col,lit\n",
    "from datetime import datetime\n",
    "# Importing sql types\n",
    "from pyspark.sql.types import StringType, IntegerType, StructType, StructField, DoubleType, FloatType, DateType\n",
    "from pyspark.sql.functions  import date_format\n",
    "import time"
   ]
  },
  {
   "cell_type": "code",
   "execution_count": 0,
   "metadata": {
    "application/vnd.databricks.v1+cell": {
     "cellMetadata": {
      "byteLimit": 2048000,
      "rowLimit": 10000
     },
     "inputWidgets": {},
     "nuid": "3ecfc50e-5a13-4073-b74a-341de34e5d09",
     "showTitle": false,
     "title": ""
    }
   },
   "outputs": [],
   "source": [
    "#define a function for reading API data\n",
    "def read_api(url: str):\n",
    "    normalized_data = dict()\n",
    "    data = requests.get(api_url).json() \n",
    "    normalized_data = data \n",
    "    return json.dumps(normalized_data)"
   ]
  },
  {
   "cell_type": "code",
   "execution_count": 0,
   "metadata": {
    "application/vnd.databricks.v1+cell": {
     "cellMetadata": {
      "byteLimit": 2048000,
      "rowLimit": 10000
     },
     "inputWidgets": {},
     "nuid": "a128c005-18bb-428e-a8e4-2206c59eaa95",
     "showTitle": false,
     "title": ""
    }
   },
   "outputs": [],
   "source": [
    "#defining schema \n",
    "df_schema=StructType([\n",
    "  StructField('results',ArrayType(\n",
    "       StructType([\n",
    "         \n",
    "          StructField('user',StructType([\n",
    "                StructField('gender',StringType(),True),\n",
    "                StructField('name',StructType([\n",
    "                      StructField('title',StringType(),True),\n",
    "                      StructField('first',StringType(),True),\n",
    "                      StructField('last',StringType(),True)\n",
    "                    ])),\n",
    "                StructField('location',StructType([\n",
    "                    StructField('street',StringType(),True),\n",
    "                    StructField('city',StringType(),True),\n",
    "                    StructField('state',StringType(),True),\n",
    "                    StructField('zip',LongType(),True)\n",
    "                    ])) ,\n",
    "               StructField('picture',StructType([\n",
    "                      \n",
    "                    StructField('large',StringType(),True),\n",
    "                    StructField('medium',StringType(),True),\n",
    "                    StructField('thumbnail',StringType(),True)\n",
    "               ])),   \n",
    "                    \n",
    "                StructField('email',StringType(),True),\n",
    "                StructField('username',StringType(),True),\n",
    "                StructField('password',StringType(),True),\n",
    "                StructField('salt',StringType(),True),\n",
    "                StructField('sha1',StringType(),True),\n",
    "                StructField('md5',StringType(),True),\n",
    "                StructField('sha256',StringType(),True),\n",
    "                StructField('registered',LongType(),True),\n",
    "                StructField('dob',LongType(),True),\n",
    "                StructField('phone',StringType(),True),\n",
    "                StructField('cell',StringType(),True)\n",
    "                ]))\n",
    "         ])\n",
    "  ) ) ,\n",
    "  StructField('nationality',StringType(),True),\n",
    "  StructField('seed',StringType(),True),\n",
    "  StructField('version',StringType(),True)\n",
    "])"
   ]
  },
  {
   "cell_type": "code",
   "execution_count": 0,
   "metadata": {
    "application/vnd.databricks.v1+cell": {
     "cellMetadata": {
      "byteLimit": 2048000,
      "implicitDf": true,
      "rowLimit": 10000
     },
     "inputWidgets": {},
     "nuid": "5552342d-38f3-405c-8185-7c787994c982",
     "showTitle": false,
     "title": ""
    }
   },
   "outputs": [
    {
     "output_type": "display_data",
     "data": {
      "text/html": [
       "<style scoped>\n",
       "  .table-result-container {\n",
       "    max-height: 300px;\n",
       "    overflow: auto;\n",
       "  }\n",
       "  table, th, td {\n",
       "    border: 1px solid black;\n",
       "    border-collapse: collapse;\n",
       "  }\n",
       "  th, td {\n",
       "    padding: 5px;\n",
       "  }\n",
       "  th {\n",
       "    text-align: left;\n",
       "  }\n",
       "</style><div class='table-result-container'><table class='table-result'><thead style='background-color: white'><tr></tr></thead><tbody></tbody></table></div>"
      ]
     },
     "metadata": {
      "application/vnd.databricks.v1+output": {
       "addedWidgets": {},
       "aggData": [],
       "aggError": "",
       "aggOverflow": false,
       "aggSchema": [],
       "aggSeriesLimitReached": false,
       "aggType": "",
       "arguments": {},
       "columnCustomDisplayInfos": {},
       "data": [],
       "datasetInfos": [],
       "dbfsResultPath": null,
       "isJsonSchema": true,
       "metadata": {},
       "overflow": false,
       "plotOptions": {
        "customPlotOptions": {},
        "displayType": "table",
        "pivotAggregation": null,
        "pivotColumns": null,
        "xColumns": null,
        "yColumns": null
       },
       "removedWidgets": [],
       "schema": [],
       "type": "table"
      }
     },
     "output_type": "display_data"
    }
   ],
   "source": [
    "%sql\n",
    "-- create a Delta table \n",
    "create table Bronze_table_jan22012420newyear\n",
    "using delta \n",
    "location 'dbfs:/Brjan2/01/24/20/newyear'"
   ]
  },
  {
   "cell_type": "code",
   "execution_count": 0,
   "metadata": {
    "application/vnd.databricks.v1+cell": {
     "cellMetadata": {
      "byteLimit": 2048000,
      "rowLimit": 10000
     },
     "inputWidgets": {},
     "nuid": "eb967c3f-7bc0-4f58-80ff-2d73a08e2493",
     "showTitle": false,
     "title": ""
    }
   },
   "outputs": [
    {
     "output_type": "display_data",
     "data": {
      "text/html": [
       "<style scoped>\n",
       "  .ansiout {\n",
       "    display: block;\n",
       "    unicode-bidi: embed;\n",
       "    white-space: pre-wrap;\n",
       "    word-wrap: break-word;\n",
       "    word-break: break-all;\n",
       "    font-family: \"Menlo\", \"Monaco\", \"Consolas\", \"Ubuntu Mono\", \"Source Code Pro\", monospace;\n",
       "    font-size: 13px;\n",
       "    color: #555;\n",
       "    margin-left: 4px;\n",
       "    line-height: 19px;\n",
       "  }\n",
       "</style>"
      ]
     },
     "metadata": {
      "application/vnd.databricks.v1+output": {
       "arguments": {},
       "data": "",
       "errorSummary": "Cancelled",
       "errorTraceType": "html",
       "metadata": {},
       "type": "ipynbError"
      }
     },
     "output_type": "display_data"
    }
   ],
   "source": [
    "api_url = \"https://randomuser.me/api/0.8/?results=1\"\n",
    "while True:\n",
    "    payload = json.loads(read_api(api_url))\n",
    "    #create a rdd from json    \n",
    "    payload_rdd = spark.sparkContext.parallelize([payload])\n",
    "    #create a dataframe from rdd with schema \n",
    "    df = spark.read.schema(df_schema).json(payload_rdd)\n",
    "    # Add timestamp and write the dataframe in external path.\n",
    "    df1=df.withColumn(\"curr_timestamp\", current_timestamp())\\\n",
    "      .write.format(\"delta\").mode(\"append\").option(\"mergeSchema\",\"True\").save(\"dbfs:/Brjan2/01/24/20/newyear\")\n",
    "    time.sleep(5)"
   ]
  },
  {
   "cell_type": "code",
   "execution_count": 0,
   "metadata": {
    "application/vnd.databricks.v1+cell": {
     "cellMetadata": {
      "byteLimit": 2048000,
      "rowLimit": 10000
     },
     "inputWidgets": {},
     "nuid": "89b23b1a-dfc5-444b-9ef1-5f7c292c8bf0",
     "showTitle": false,
     "title": ""
    }
   },
   "outputs": [],
   "source": []
  }
 ],
 "metadata": {
  "application/vnd.databricks.v1+notebook": {
   "dashboards": [],
   "language": "python",
   "notebookMetadata": {
    "mostRecentlyExecutedCommandWithImplicitDF": {
     "commandId": 2066238834039751,
     "dataframes": [
      "_sqldf"
     ]
    },
    "pythonIndentUnit": 4
   },
   "notebookName": "BRONZE_NB",
   "widgets": {}
  }
 },
 "nbformat": 4,
 "nbformat_minor": 0
}
