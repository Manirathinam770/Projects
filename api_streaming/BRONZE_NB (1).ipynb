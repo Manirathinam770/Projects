{
 "cells": [
  {
   "cell_type": "code",
   "execution_count": 0,
   "metadata": {
    "application/vnd.databricks.v1+cell": {
     "cellMetadata": {
      "byteLimit": 2048000,
      "rowLimit": 10000
     },
     "inputWidgets": {},
     "nuid": "a25484bf-f080-48ec-bb10-963bd7d34ee4",
     "showTitle": false,
     "title": ""
    }
   },
   "outputs": [],
   "source": [
    "\n",
    "from pyspark.sql.functions import *\n",
    "from pyspark.sql import functions as f\n",
    "\n",
    "from pyspark.sql.types import *\n",
    "import requests,json,time"
   ]
  },
  {
   "cell_type": "code",
   "execution_count": 0,
   "metadata": {
    "application/vnd.databricks.v1+cell": {
     "cellMetadata": {
      "byteLimit": 2048000,
      "rowLimit": 10000
     },
     "inputWidgets": {},
     "nuid": "3ecfc50e-5a13-4073-b74a-341de34e5d09",
     "showTitle": false,
     "title": ""
    }
   },
   "outputs": [],
   "source": [
    "#define a function for reading API data\n",
    "def read_api(url : str):\n",
    "    normalized_data = dict()\n",
    "    data = requests.get(url).json() \n",
    "    normalized_data = data \n",
    "    return json.dumps(normalized_data)"
   ]
  },
  {
   "cell_type": "code",
   "execution_count": 0,
   "metadata": {
    "application/vnd.databricks.v1+cell": {
     "cellMetadata": {
      "byteLimit": 2048000,
      "rowLimit": 10000
     },
     "inputWidgets": {},
     "nuid": "a128c005-18bb-428e-a8e4-2206c59eaa95",
     "showTitle": false,
     "title": ""
    }
   },
   "outputs": [],
   "source": [
    "#defining schema \n",
    "df_schema=StructType([\n",
    "  StructField('results',ArrayType(\n",
    "       StructType([\n",
    "         \n",
    "          StructField('user',StructType([\n",
    "                StructField('gender',StringType(),True),\n",
    "                StructField('name',StructType([\n",
    "                      StructField('title',StringType(),True),\n",
    "                      StructField('first',StringType(),True),\n",
    "                      StructField('last',StringType(),True)\n",
    "                    ])),\n",
    "                StructField('location',StructType([\n",
    "                    StructField('street',StringType(),True),\n",
    "                    StructField('city',StringType(),True),\n",
    "                    StructField('state',StringType(),True),\n",
    "                    StructField('zip',LongType(),True)\n",
    "                    ])) ,\n",
    "               StructField('picture',StructType([\n",
    "                      \n",
    "                    StructField('large',StringType(),True),\n",
    "                    StructField('medium',StringType(),True),\n",
    "                    StructField('thumbnail',StringType(),True)\n",
    "               ])),   \n",
    "                    \n",
    "                StructField('email',StringType(),True),\n",
    "                StructField('username',StringType(),True),\n",
    "                StructField('password',StringType(),True),\n",
    "                StructField('salt',StringType(),True),\n",
    "                StructField('sha1',StringType(),True),\n",
    "                StructField('md5',StringType(),True),\n",
    "                StructField('sha256',StringType(),True),\n",
    "                StructField('registered',LongType(),True),\n",
    "                StructField('dob',LongType(),True),\n",
    "                StructField('phone',StringType(),True),\n",
    "                StructField('cell',StringType(),True)\n",
    "                ]))\n",
    "         ])\n",
    "  ) ) ,\n",
    "  StructField('nationality',StringType(),True),\n",
    "  StructField('seed',StringType(),True),\n",
    "  StructField('version',StringType(),True)\n",
    "])"
   ]
  },
  {
   "cell_type": "code",
   "execution_count": 0,
   "metadata": {
    "application/vnd.databricks.v1+cell": {
     "cellMetadata": {
      "byteLimit": 2048000,
      "rowLimit": 10000
     },
     "inputWidgets": {},
     "nuid": "eb967c3f-7bc0-4f58-80ff-2d73a08e2493",
     "showTitle": false,
     "title": ""
    }
   },
   "outputs": [],
   "source": [
    "url = \"https://randomuser.me/api/0.8/?results=1\"\n",
    "while True:\n",
    "      payload = json.loads(read_api(url))\n",
    "      #create a rdd from json    \n",
    "      payload_rdd = spark.sparkContext.parallelize([payload])\n",
    "        \n",
    "      #create a dataframe from rdd with schema \n",
    "      df = spark.read.schema(df_schema).json(payload_rdd)\n",
    "      # Add timestamp and write the dataframe in external path.\n",
    "      df1=df.withColumn(\"curr_timestamp\", current_timestamp())\\\n",
    "          .write.format(\"delta\").mode(\"append\").save(\"dbfs:/api_jan_bronze\")\n"
   ]
  },
  {
   "cell_type": "code",
   "execution_count": 0,
   "metadata": {
    "application/vnd.databricks.v1+cell": {
     "cellMetadata": {
      "byteLimit": 2048000,
      "implicitDf": true,
      "rowLimit": 10000
     },
     "inputWidgets": {},
     "nuid": "3049fa79-f6d6-46a5-ba55-afae1e4365c1",
     "showTitle": false,
     "title": ""
    }
   },
   "outputs": [],
   "source": []
  },
  {
   "cell_type": "code",
   "execution_count": 0,
   "metadata": {
    "application/vnd.databricks.v1+cell": {
     "cellMetadata": {
      "byteLimit": 2048000,
      "implicitDf": true,
      "rowLimit": 10000
     },
     "inputWidgets": {},
     "nuid": "8c4a15e4-2ae6-4bc8-8ada-03d778c73e77",
     "showTitle": false,
     "title": ""
    }
   },
   "outputs": [],
   "source": []
  },
  {
   "cell_type": "code",
   "execution_count": 0,
   "metadata": {
    "application/vnd.databricks.v1+cell": {
     "cellMetadata": {
      "byteLimit": 2048000,
      "rowLimit": 10000
     },
     "inputWidgets": {},
     "nuid": "dade7850-7515-49b6-b663-a860b5eefdc1",
     "showTitle": false,
     "title": ""
    }
   },
   "outputs": [],
   "source": []
  }
 ],
 "metadata": {
  "application/vnd.databricks.v1+notebook": {
   "dashboards": [],
   "language": "python",
   "notebookMetadata": {
    "mostRecentlyExecutedCommandWithImplicitDF": {
     "commandId": 621469185905686,
     "dataframes": [
      "_sqldf"
     ]
    },
    "pythonIndentUnit": 4
   },
   "notebookName": "BRONZE_NB",
   "widgets": {}
  }
 },
 "nbformat": 4,
 "nbformat_minor": 0
}
