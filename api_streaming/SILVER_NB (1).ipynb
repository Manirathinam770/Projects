{
 "cells": [
  {
   "cell_type": "code",
   "execution_count": 0,
   "metadata": {
    "application/vnd.databricks.v1+cell": {
     "cellMetadata": {
      "byteLimit": 2048000,
      "rowLimit": 10000
     },
     "inputWidgets": {},
     "nuid": "c9cbff94-7ca6-4ab3-913d-60165f63ba8e",
     "showTitle": false,
     "title": ""
    }
   },
   "outputs": [],
   "source": [
    "from pyspark.sql.functions import *\n",
    "from pyspark.sql import functions as f\n",
    "\n",
    "from pyspark.sql.types import *\n",
    "import requests,json,time"
   ]
  },
  {
   "cell_type": "code",
   "execution_count": 0,
   "metadata": {
    "application/vnd.databricks.v1+cell": {
     "cellMetadata": {
      "byteLimit": 2048000,
      "rowLimit": 10000
     },
     "inputWidgets": {},
     "nuid": "2f86f07f-0e15-4315-921c-a56a8f3adf61",
     "showTitle": false,
     "title": ""
    }
   },
   "outputs": [],
   "source": [
    "#read the data from bronze\n",
    "bronze_df=spark.readStream.format(\"delta\").load(\"dbfs:/api_jan_bronze\")"
   ]
  },
  {
   "cell_type": "code",
   "execution_count": 0,
   "metadata": {
    "application/vnd.databricks.v1+cell": {
     "cellMetadata": {
      "byteLimit": 2048000,
      "rowLimit": 10000
     },
     "inputWidgets": {},
     "nuid": "07325bc8-7ba5-4aa2-95af-bd3beed2fc25",
     "showTitle": false,
     "title": ""
    }
   },
   "outputs": [],
   "source": [
    "bronze_df1=bronze_df.withColumn(\"results\", explode(\"results\"))\\\n",
    "            .withColumn(\"Date\", date_format(col(\"curr_timestamp\"), \"yyyy-MM-dd\"))\\\n",
    "            .withColumn(\"Time\", date_format(col(\"curr_timestamp\"), \"HH:mm:ss\"))\\\n",
    "            .withColumn(\"Silver_timestamp\",current_timestamp())\\\n",
    "            .select(\"nationality\",\"results.user.gender\",\"results.user.email\",\"results.user.password\",\"results.user.dob\",\"results.user.phone\",\"results.user.cell\",\"results.user.registered\",\"results.user.salt\",\"results.user.sha256\",\"results.user.username\",\"results.user.sha1\",\"results.user.md5\",\"seed\",\"version\",\"results.user.name.*\",\"results.user.location.*\",\"results.user.picture.*\",\"Date\",\"Time\",\"Silver_timestamp\",\"curr_timestamp\")"
   ]
  },
  {
   "cell_type": "code",
   "execution_count": 0,
   "metadata": {
    "application/vnd.databricks.v1+cell": {
     "cellMetadata": {
      "byteLimit": 2048000,
      "rowLimit": 10000
     },
     "inputWidgets": {},
     "nuid": "84616a32-c381-4e8f-88a5-f065972c74d2",
     "showTitle": false,
     "title": ""
    }
   },
   "outputs": [],
   "source": [
    "bronze_df2=bronze_df1.withColumn('username', regexp_replace('username', '[^a-zA-Z]', ''))\\\n",
    "    .withColumnRenamed('username',\"nameoftheuser\")"
   ]
  },
  {
   "cell_type": "code",
   "execution_count": 0,
   "metadata": {
    "application/vnd.databricks.v1+cell": {
     "cellMetadata": {
      "byteLimit": 2048000,
      "rowLimit": 10000
     },
     "inputWidgets": {},
     "nuid": "8cbe2629-8fe3-4cf0-b8df-326144ca6755",
     "showTitle": false,
     "title": ""
    }
   },
   "outputs": [],
   "source": [
    "#create the another dataframe\n",
    "dataframe2= spark.read.format(\"org.apache.spark.sql.avro.AvroFileFormat\").load(\"dbfs:/FileStore/avro/projectsample.avro\")"
   ]
  },
  {
   "cell_type": "code",
   "execution_count": 0,
   "metadata": {
    "application/vnd.databricks.v1+cell": {
     "cellMetadata": {
      "byteLimit": 2048000,
      "rowLimit": 10000
     },
     "inputWidgets": {},
     "nuid": "bb1c5419-4965-427e-89b8-41509e3e672a",
     "showTitle": false,
     "title": ""
    }
   },
   "outputs": [],
   "source": [
    "from pyspark.sql.functions import broadcast"
   ]
  },
  {
   "cell_type": "code",
   "execution_count": 0,
   "metadata": {
    "application/vnd.databricks.v1+cell": {
     "cellMetadata": {
      "byteLimit": 2048000,
      "rowLimit": 10000
     },
     "inputWidgets": {},
     "nuid": "f202e54e-7aec-4b5f-be4f-631f035a8b0e",
     "showTitle": false,
     "title": ""
    }
   },
   "outputs": [],
   "source": [
    "#apply broadcast join\n",
    "bronze_df3=bronze_df2.join(broadcast(dataframe2),bronze_df2[\"nameoftheuser\"]==dataframe2[\"username\"],\"inner\")"
   ]
  },
  {
   "cell_type": "code",
   "execution_count": 0,
   "metadata": {
    "application/vnd.databricks.v1+cell": {
     "cellMetadata": {
      "byteLimit": 2048000,
      "rowLimit": 10000
     },
     "inputWidgets": {},
     "nuid": "d1984079-d01d-495e-b0f8-ded3431918bf",
     "showTitle": false,
     "title": ""
    }
   },
   "outputs": [],
   "source": [
    "silver_df=bronze_df3.writeStream \\\n",
    "    .format(\"delta\") \\\n",
    "    .outputMode(\"append\") \\\n",
    "    .option(\"checkpointLocation\", \"checkpoint_jan29\") \\\n",
    "     .start(\"dbfs:/new_silver\")"
   ]
  },
  {
   "cell_type": "code",
   "execution_count": 0,
   "metadata": {
    "application/vnd.databricks.v1+cell": {
     "cellMetadata": {},
     "inputWidgets": {},
     "nuid": "f2f381ae-5448-47f6-bf2c-b5ac8502d5d5",
     "showTitle": false,
     "title": ""
    }
   },
   "outputs": [],
   "source": []
  }
 ],
 "metadata": {
  "application/vnd.databricks.v1+notebook": {
   "dashboards": [],
   "language": "python",
   "notebookMetadata": {
    "mostRecentlyExecutedCommandWithImplicitDF": {
     "commandId": 2337943585883515,
     "dataframes": [
      "_sqldf"
     ]
    },
    "pythonIndentUnit": 4
   },
   "notebookName": "SILVER_NB",
   "widgets": {}
  }
 },
 "nbformat": 4,
 "nbformat_minor": 0
}
